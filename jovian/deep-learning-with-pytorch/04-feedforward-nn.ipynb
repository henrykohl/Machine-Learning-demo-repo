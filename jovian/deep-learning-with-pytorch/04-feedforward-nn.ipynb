{
  "nbformat": 4,
  "nbformat_minor": 0,
  "metadata": {
    "colab": {
      "name": "04-feedforward-nn.ipynb",
      "provenance": [],
      "toc_visible": true
    },
    "language_info": {
      "name": "python"
    },
    "widgets": {
      "application/vnd.jupyter.widget-state+json": {
        "060eccfc031d47b7acc99a48985a0738": {
          "state": {},
          "model_module": "@jupyter-widgets/base",
          "model_name": "LayoutModel",
          "state": {
            "_model_module": "@jupyter-widgets/base",
            "_model_module_version": "1.2.0",
            "_model_name": "LayoutModel",
            "_view_count": null,
            "_view_module": "@jupyter-widgets/base",
            "_view_module_version": "1.2.0",
            "_view_name": "LayoutView",
            "align_content": null,
            "align_items": null,
            "align_self": null,
            "border": null,
            "bottom": null,
            "display": null,
            "flex": null,
            "flex_flow": null,
            "grid_area": null,
            "grid_auto_columns": null,
            "grid_auto_flow": null,
            "grid_auto_rows": null,
            "grid_column": null,
            "grid_gap": null,
            "grid_row": null,
            "grid_template_areas": null,
            "grid_template_columns": null,
            "grid_template_rows": null,
            "height": null,
            "justify_content": null,
            "justify_items": null,
            "left": null,
            "margin": null,
            "max_height": null,
            "max_width": null,
            "min_height": null,
            "min_width": null,
            "object_fit": null,
            "object_position": null,
            "order": null,
            "overflow": null,
            "overflow_x": null,
            "overflow_y": null,
            "padding": null,
            "right": null,
            "top": null,
            "visibility": null,
            "width": null
          },
          "model_module_version": "1.2.0"
        },
        "0f4f61f8bef24f859328471f408c6edc": {
          "model_module": "@jupyter-widgets/controls",
          "model_name": "DescriptionStyleModel",
          "state": {
            "_model_module": "@jupyter-widgets/controls",
            "_model_module_version": "1.5.0",
            "_model_name": "DescriptionStyleModel",
            "_view_count": null,
            "_view_module": "@jupyter-widgets/base",
            "_view_module_version": "1.2.0",
            "_view_name": "StyleView",
            "description_width": ""
          },
          "model_module_version": "1.5.0"
        },
        "0f9e5413663d45eaaf4c485a72392799": {
          "model_module": "@jupyter-widgets/controls",
          "model_name": "ProgressStyleModel",
          "state": {
            "_model_module": "@jupyter-widgets/controls",
            "_model_module_version": "1.5.0",
            "_model_name": "ProgressStyleModel",
            "_view_count": null,
            "_view_module": "@jupyter-widgets/base",
            "_view_module_version": "1.2.0",
            "_view_name": "StyleView",
            "bar_color": null,
            "description_width": "initial"
          },
          "model_module_version": "1.5.0"
        },
        "20d22a17b20a459b991bdbeea5180e39": {
          "model_module": "@jupyter-widgets/base",
          "model_name": "LayoutModel",
          "state": {
            "_model_module": "@jupyter-widgets/base",
            "_model_module_version": "1.2.0",
            "_model_name": "LayoutModel",
            "_view_count": null,
            "_view_module": "@jupyter-widgets/base",
            "_view_module_version": "1.2.0",
            "_view_name": "LayoutView",
            "align_content": null,
            "align_items": null,
            "align_self": null,
            "border": null,
            "bottom": null,
            "display": null,
            "flex": null,
            "flex_flow": null,
            "grid_area": null,
            "grid_auto_columns": null,
            "grid_auto_flow": null,
            "grid_auto_rows": null,
            "grid_column": null,
            "grid_gap": null,
            "grid_row": null,
            "grid_template_areas": null,
            "grid_template_columns": null,
            "grid_template_rows": null,
            "height": null,
            "justify_content": null,
            "justify_items": null,
            "left": null,
            "margin": null,
            "max_height": null,
            "max_width": null,
            "min_height": null,
            "min_width": null,
            "object_fit": null,
            "object_position": null,
            "order": null,
            "overflow": null,
            "overflow_x": null,
            "overflow_y": null,
            "padding": null,
            "right": null,
            "top": null,
            "visibility": null,
            "width": null
          },
          "model_module_version": "1.2.0"
        },
        "2a15eb8b027a4f78933e8434220f197c": {
          "model_module": "@jupyter-widgets/controls",
          "model_name": "ProgressStyleModel",
          "state": {
            "_model_module": "@jupyter-widgets/controls",
            "_model_module_version": "1.5.0",
            "_model_name": "ProgressStyleModel",
            "_view_count": null,
            "_view_module": "@jupyter-widgets/base",
            "_view_module_version": "1.2.0",
            "_view_name": "StyleView",
            "bar_color": null,
            "description_width": "initial"
          },
          "model_module_version": "1.5.0"
        },
        "33e46dfa0dce488a8ac06fe6caedd7cc": {
          "model_module": "@jupyter-widgets/base",
          "model_name": "LayoutModel",
          "state": {
            "_model_module": "@jupyter-widgets/base",
            "_model_module_version": "1.2.0",
            "_model_name": "LayoutModel",
            "_view_count": null,
            "_view_module": "@jupyter-widgets/base",
            "_view_module_version": "1.2.0",
            "_view_name": "LayoutView",
            "align_content": null,
            "align_items": null,
            "align_self": null,
            "border": null,
            "bottom": null,
            "display": null,
            "flex": null,
            "flex_flow": null,
            "grid_area": null,
            "grid_auto_columns": null,
            "grid_auto_flow": null,
            "grid_auto_rows": null,
            "grid_column": null,
            "grid_gap": null,
            "grid_row": null,
            "grid_template_areas": null,
            "grid_template_columns": null,
            "grid_template_rows": null,
            "height": null,
            "justify_content": null,
            "justify_items": null,
            "left": null,
            "margin": null,
            "max_height": null,
            "max_width": null,
            "min_height": null,
            "min_width": null,
            "object_fit": null,
            "object_position": null,
            "order": null,
            "overflow": null,
            "overflow_x": null,
            "overflow_y": null,
            "padding": null,
            "right": null,
            "top": null,
            "visibility": null,
            "width": null
          },
          "model_module_version": "1.2.0"
        },
        "359b3e243d634b1a8d49316ff0dfd540": {
          "model_module": "@jupyter-widgets/controls",
          "model_name": "ProgressStyleModel",
          "state": {
            "_model_module": "@jupyter-widgets/controls",
            "_model_module_version": "1.5.0",
            "_model_name": "ProgressStyleModel",
            "_view_count": null,
            "_view_module": "@jupyter-widgets/base",
            "_view_module_version": "1.2.0",
            "_view_name": "StyleView",
            "bar_color": null,
            "description_width": "initial"
          },
          "model_module_version": "1.5.0"
        },
        "3655c7c75b704045b44f5132e0af3538": {
          "model_module": "@jupyter-widgets/controls",
          "model_name": "FloatProgressModel",
          "state": {
            "_dom_classes": [],
            "_model_module": "@jupyter-widgets/controls",
            "_model_module_version": "1.5.0",
            "_model_name": "FloatProgressModel",
            "_view_count": null,
            "_view_module": "@jupyter-widgets/controls",
            "_view_module_version": "1.5.0",
            "_view_name": "ProgressView",
            "bar_style": "info",
            "description": "",
            "description_tooltip": null,
            "layout": "IPY_MODEL_aa7c3d224fd04db8830264bd1acc9f6c",
            "max": 1,
            "min": 0,
            "orientation": "horizontal",
            "style": "IPY_MODEL_359b3e243d634b1a8d49316ff0dfd540",
            "value": 1
          },
          "model_module_version": "1.5.0"
        },
        "38c7c91dfb9442b2b82322e88a40f22b": {
          "model_module": "@jupyter-widgets/controls",
          "model_name": "HTMLModel",
          "state": {
            "_dom_classes": [],
            "_model_module": "@jupyter-widgets/controls",
            "_model_module_version": "1.5.0",
            "_model_name": "HTMLModel",
            "_view_count": null,
            "_view_module": "@jupyter-widgets/controls",
            "_view_module_version": "1.5.0",
            "_view_name": "HTMLView",
            "description": "",
            "description_tooltip": null,
            "layout": "IPY_MODEL_da6646549f9440b990550777d7081844",
            "placeholder": "​",
            "style": "IPY_MODEL_f5cc42a16de840a4b89577f298b1c89e",
            "value": " 9920512/? [00:20&lt;00:00, 30798057.67it/s]"
          },
          "model_module_version": "1.5.0"
        },
        "3e71837ffd6542f89b99af04ec6475c8": {
          "model_module": "@jupyter-widgets/base",
          "model_name": "LayoutModel",
          "state": {
            "_model_module": "@jupyter-widgets/base",
            "_model_module_version": "1.2.0",
            "_model_name": "LayoutModel",
            "_view_count": null,
            "_view_module": "@jupyter-widgets/base",
            "_view_module_version": "1.2.0",
            "_view_name": "LayoutView",
            "align_content": null,
            "align_items": null,
            "align_self": null,
            "border": null,
            "bottom": null,
            "display": null,
            "flex": null,
            "flex_flow": null,
            "grid_area": null,
            "grid_auto_columns": null,
            "grid_auto_flow": null,
            "grid_auto_rows": null,
            "grid_column": null,
            "grid_gap": null,
            "grid_row": null,
            "grid_template_areas": null,
            "grid_template_columns": null,
            "grid_template_rows": null,
            "height": null,
            "justify_content": null,
            "justify_items": null,
            "left": null,
            "margin": null,
            "max_height": null,
            "max_width": null,
            "min_height": null,
            "min_width": null,
            "object_fit": null,
            "object_position": null,
            "order": null,
            "overflow": null,
            "overflow_x": null,
            "overflow_y": null,
            "padding": null,
            "right": null,
            "top": null,
            "visibility": null,
            "width": null
          },
          "model_module_version": "1.2.0"
        },
        "5c8ccd5ec0bc4c07a83496ddd1602235": {
          "model_module": "@jupyter-widgets/base",
          "model_name": "LayoutModel",
          "state": {
            "_model_module": "@jupyter-widgets/base",
            "_model_module_version": "1.2.0",
            "_model_name": "LayoutModel",
            "_view_count": null,
            "_view_module": "@jupyter-widgets/base",
            "_view_module_version": "1.2.0",
            "_view_name": "LayoutView",
            "align_content": null,
            "align_items": null,
            "align_self": null,
            "border": null,
            "bottom": null,
            "display": null,
            "flex": null,
            "flex_flow": null,
            "grid_area": null,
            "grid_auto_columns": null,
            "grid_auto_flow": null,
            "grid_auto_rows": null,
            "grid_column": null,
            "grid_gap": null,
            "grid_row": null,
            "grid_template_areas": null,
            "grid_template_columns": null,
            "grid_template_rows": null,
            "height": null,
            "justify_content": null,
            "justify_items": null,
            "left": null,
            "margin": null,
            "max_height": null,
            "max_width": null,
            "min_height": null,
            "min_width": null,
            "object_fit": null,
            "object_position": null,
            "order": null,
            "overflow": null,
            "overflow_x": null,
            "overflow_y": null,
            "padding": null,
            "right": null,
            "top": null,
            "visibility": null,
            "width": null
          },
          "model_module_version": "1.2.0"
        },
        "6f44eab9db00404bbf4b41c86e3c7f9d": {
          "model_module": "@jupyter-widgets/controls",
          "model_name": "DescriptionStyleModel",
          "state": {
            "_model_module": "@jupyter-widgets/controls",
            "_model_module_version": "1.5.0",
            "_model_name": "DescriptionStyleModel",
            "_view_count": null,
            "_view_module": "@jupyter-widgets/base",
            "_view_module_version": "1.2.0",
            "_view_name": "StyleView",
            "description_width": ""
          },
          "model_module_version": "1.5.0"
        },
        "71312105421c4b129c6a98f3a9a3f94a": {
          "model_module": "@jupyter-widgets/base",
          "model_name": "LayoutModel",
          "state": {
            "_model_module": "@jupyter-widgets/base",
            "_model_module_version": "1.2.0",
            "_model_name": "LayoutModel",
            "_view_count": null,
            "_view_module": "@jupyter-widgets/base",
            "_view_module_version": "1.2.0",
            "_view_name": "LayoutView",
            "align_content": null,
            "align_items": null,
            "align_self": null,
            "border": null,
            "bottom": null,
            "display": null,
            "flex": null,
            "flex_flow": null,
            "grid_area": null,
            "grid_auto_columns": null,
            "grid_auto_flow": null,
            "grid_auto_rows": null,
            "grid_column": null,
            "grid_gap": null,
            "grid_row": null,
            "grid_template_areas": null,
            "grid_template_columns": null,
            "grid_template_rows": null,
            "height": null,
            "justify_content": null,
            "justify_items": null,
            "left": null,
            "margin": null,
            "max_height": null,
            "max_width": null,
            "min_height": null,
            "min_width": null,
            "object_fit": null,
            "object_position": null,
            "order": null,
            "overflow": null,
            "overflow_x": null,
            "overflow_y": null,
            "padding": null,
            "right": null,
            "top": null,
            "visibility": null,
            "width": null
          },
          "model_module_version": "1.2.0"
        },
        "7ce8de076a9d45f38301a66406ee8064": {
          "model_module": "@jupyter-widgets/controls",
          "model_name": "FloatProgressModel",
          "state": {
            "_dom_classes": [],
            "_model_module": "@jupyter-widgets/controls",
            "_model_module_version": "1.5.0",
            "_model_name": "FloatProgressModel",
            "_view_count": null,
            "_view_module": "@jupyter-widgets/controls",
            "_view_module_version": "1.5.0",
            "_view_name": "ProgressView",
            "bar_style": "info",
            "description": "",
            "description_tooltip": null,
            "layout": "IPY_MODEL_bd300ad13a7f4b52a77185519928569f",
            "max": 1,
            "min": 0,
            "orientation": "horizontal",
            "style": "IPY_MODEL_0f9e5413663d45eaaf4c485a72392799",
            "value": 0
          },
          "model_module_version": "1.5.0"
        },
        "7d8eb8eed8d648469d7d2c03677d999c": {
          "model_module": "@jupyter-widgets/controls",
          "model_name": "HBoxModel",
          "state": {
            "_dom_classes": [],
            "_model_module": "@jupyter-widgets/controls",
            "_model_module_version": "1.5.0",
            "_model_name": "HBoxModel",
            "_view_count": null,
            "_view_module": "@jupyter-widgets/controls",
            "_view_module_version": "1.5.0",
            "_view_name": "HBoxView",
            "box_style": "",
            "children": [
              "IPY_MODEL_b6f78815579e4a1084fdabc4b46fb12b",
              "IPY_MODEL_d33eea28e99147baa5766a90ccd861f7"
            ],
            "layout": "IPY_MODEL_060eccfc031d47b7acc99a48985a0738"
          },
          "model_module_version": "1.5.0"
        },
        "9cf1439920af4e7685b2050b52a8f21e": {
          "model_module": "@jupyter-widgets/controls",
          "model_name": "HTMLModel",
          "state": {
            "_dom_classes": [],
            "_model_module": "@jupyter-widgets/controls",
            "_model_module_version": "1.5.0",
            "_model_name": "HTMLModel",
            "_view_count": null,
            "_view_module": "@jupyter-widgets/controls",
            "_view_module_version": "1.5.0",
            "_view_name": "HTMLView",
            "description": "",
            "description_tooltip": null,
            "layout": "IPY_MODEL_3e71837ffd6542f89b99af04ec6475c8",
            "placeholder": "​",
            "style": "IPY_MODEL_ac20db98d04740cf8924f4e7c3163097",
            "value": " 1654784/? [00:19&lt;00:00, 144269.84it/s]"
          },
          "model_module_version": "1.5.0"
        },
        "aa7c3d224fd04db8830264bd1acc9f6c": {
          "model_module": "@jupyter-widgets/base",
          "model_name": "LayoutModel",
          "state": {
            "_model_module": "@jupyter-widgets/base",
            "_model_module_version": "1.2.0",
            "_model_name": "LayoutModel",
            "_view_count": null,
            "_view_module": "@jupyter-widgets/base",
            "_view_module_version": "1.2.0",
            "_view_name": "LayoutView",
            "align_content": null,
            "align_items": null,
            "align_self": null,
            "border": null,
            "bottom": null,
            "display": null,
            "flex": null,
            "flex_flow": null,
            "grid_area": null,
            "grid_auto_columns": null,
            "grid_auto_flow": null,
            "grid_auto_rows": null,
            "grid_column": null,
            "grid_gap": null,
            "grid_row": null,
            "grid_template_areas": null,
            "grid_template_columns": null,
            "grid_template_rows": null,
            "height": null,
            "justify_content": null,
            "justify_items": null,
            "left": null,
            "margin": null,
            "max_height": null,
            "max_width": null,
            "min_height": null,
            "min_width": null,
            "object_fit": null,
            "object_position": null,
            "order": null,
            "overflow": null,
            "overflow_x": null,
            "overflow_y": null,
            "padding": null,
            "right": null,
            "top": null,
            "visibility": null,
            "width": null
          },
          "model_module_version": "1.2.0"
        },
        "aab196ae70c54ee29ce6329df65d6efb": {
          "model_module": "@jupyter-widgets/controls",
          "model_name": "HBoxModel",
          "state": {
            "_dom_classes": [],
            "_model_module": "@jupyter-widgets/controls",
            "_model_module_version": "1.5.0",
            "_model_name": "HBoxModel",
            "_view_count": null,
            "_view_module": "@jupyter-widgets/controls",
            "_view_module_version": "1.5.0",
            "_view_name": "HBoxView",
            "box_style": "",
            "children": [
              "IPY_MODEL_f6c9bca3180342c08a666a84e50ae8d5",
              "IPY_MODEL_9cf1439920af4e7685b2050b52a8f21e"
            ],
            "layout": "IPY_MODEL_ebfd199934654ccc9af00d09d9840e23"
          },
          "model_module_version": "1.5.0"
        },
        "ac20db98d04740cf8924f4e7c3163097": {
          "model_module": "@jupyter-widgets/controls",
          "model_name": "DescriptionStyleModel",
          "state": {
            "_model_module": "@jupyter-widgets/controls",
            "_model_module_version": "1.5.0",
            "_model_name": "DescriptionStyleModel",
            "_view_count": null,
            "_view_module": "@jupyter-widgets/base",
            "_view_module_version": "1.2.0",
            "_view_name": "StyleView",
            "description_width": ""
          },
          "model_module_version": "1.5.0"
        },
        "b5308d2444f84bee916d459c5b124817": {
          "model_module": "@jupyter-widgets/controls",
          "model_name": "HBoxModel",
          "state": {
            "_dom_classes": [],
            "_model_module": "@jupyter-widgets/controls",
            "_model_module_version": "1.5.0",
            "_model_name": "HBoxModel",
            "_view_count": null,
            "_view_module": "@jupyter-widgets/controls",
            "_view_module_version": "1.5.0",
            "_view_name": "HBoxView",
            "box_style": "",
            "children": [
              "IPY_MODEL_3655c7c75b704045b44f5132e0af3538",
              "IPY_MODEL_38c7c91dfb9442b2b82322e88a40f22b"
            ],
            "layout": "IPY_MODEL_5c8ccd5ec0bc4c07a83496ddd1602235"
          },
          "model_module_version": "1.5.0"
        },
        "b6f78815579e4a1084fdabc4b46fb12b": {
          "model_module": "@jupyter-widgets/controls",
          "model_name": "FloatProgressModel",
          "state": {
            "_dom_classes": [],
            "_model_module": "@jupyter-widgets/controls",
            "_model_module_version": "1.5.0",
            "_model_name": "FloatProgressModel",
            "_view_count": null,
            "_view_module": "@jupyter-widgets/controls",
            "_view_module_version": "1.5.0",
            "_view_name": "ProgressView",
            "bar_style": "success",
            "description": "",
            "description_tooltip": null,
            "layout": "IPY_MODEL_f9936b87526a463c80003e7fe40ebb32",
            "max": 1,
            "min": 0,
            "orientation": "horizontal",
            "style": "IPY_MODEL_e0a03df91acc471686ea672fb0d565b0",
            "value": 1
          },
          "model_module_version": "1.5.0"
        },
        "bd300ad13a7f4b52a77185519928569f": {
          "model_module": "@jupyter-widgets/base",
          "model_name": "LayoutModel",
          "state": {
            "_model_module": "@jupyter-widgets/base",
            "_model_module_version": "1.2.0",
            "_model_name": "LayoutModel",
            "_view_count": null,
            "_view_module": "@jupyter-widgets/base",
            "_view_module_version": "1.2.0",
            "_view_name": "LayoutView",
            "align_content": null,
            "align_items": null,
            "align_self": null,
            "border": null,
            "bottom": null,
            "display": null,
            "flex": null,
            "flex_flow": null,
            "grid_area": null,
            "grid_auto_columns": null,
            "grid_auto_flow": null,
            "grid_auto_rows": null,
            "grid_column": null,
            "grid_gap": null,
            "grid_row": null,
            "grid_template_areas": null,
            "grid_template_columns": null,
            "grid_template_rows": null,
            "height": null,
            "justify_content": null,
            "justify_items": null,
            "left": null,
            "margin": null,
            "max_height": null,
            "max_width": null,
            "min_height": null,
            "min_width": null,
            "object_fit": null,
            "object_position": null,
            "order": null,
            "overflow": null,
            "overflow_x": null,
            "overflow_y": null,
            "padding": null,
            "right": null,
            "top": null,
            "visibility": null,
            "width": null
          },
          "model_module_version": "1.2.0"
        },
        "c6d361c0a22e4c5c90d4eb30f45a991d": {
          "model_module": "@jupyter-widgets/controls",
          "model_name": "HBoxModel",
          "state": {
            "_dom_classes": [],
            "_model_module": "@jupyter-widgets/controls",
            "_model_module_version": "1.5.0",
            "_model_name": "HBoxModel",
            "_view_count": null,
            "_view_module": "@jupyter-widgets/controls",
            "_view_module_version": "1.5.0",
            "_view_name": "HBoxView",
            "box_style": "",
            "children": [
              "IPY_MODEL_7ce8de076a9d45f38301a66406ee8064",
              "IPY_MODEL_ef97798bebdf4786b1ec610b07b572de"
            ],
            "layout": "IPY_MODEL_33e46dfa0dce488a8ac06fe6caedd7cc"
          },
          "model_module_version": "1.5.0"
        },
        "d33eea28e99147baa5766a90ccd861f7": {
          "model_module": "@jupyter-widgets/controls",
          "model_name": "HTMLModel",
          "state": {
            "_dom_classes": [],
            "_model_module": "@jupyter-widgets/controls",
            "_model_module_version": "1.5.0",
            "_model_name": "HTMLModel",
            "_view_count": null,
            "_view_module": "@jupyter-widgets/controls",
            "_view_module_version": "1.5.0",
            "_view_name": "HTMLView",
            "description": "",
            "description_tooltip": null,
            "layout": "IPY_MODEL_fb0de3c83bac4d4ab38d6777420a4843",
            "placeholder": "​",
            "style": "IPY_MODEL_0f4f61f8bef24f859328471f408c6edc",
            "value": " 32768/? [00:00&lt;00:00, 389042.40it/s]"
          },
          "model_module_version": "1.5.0"
        },
        "da6646549f9440b990550777d7081844": {
          "model_module": "@jupyter-widgets/base",
          "model_name": "LayoutModel",
          "state": {
            "_model_module": "@jupyter-widgets/base",
            "_model_module_version": "1.2.0",
            "_model_name": "LayoutModel",
            "_view_count": null,
            "_view_module": "@jupyter-widgets/base",
            "_view_module_version": "1.2.0",
            "_view_name": "LayoutView",
            "align_content": null,
            "align_items": null,
            "align_self": null,
            "border": null,
            "bottom": null,
            "display": null,
            "flex": null,
            "flex_flow": null,
            "grid_area": null,
            "grid_auto_columns": null,
            "grid_auto_flow": null,
            "grid_auto_rows": null,
            "grid_column": null,
            "grid_gap": null,
            "grid_row": null,
            "grid_template_areas": null,
            "grid_template_columns": null,
            "grid_template_rows": null,
            "height": null,
            "justify_content": null,
            "justify_items": null,
            "left": null,
            "margin": null,
            "max_height": null,
            "max_width": null,
            "min_height": null,
            "min_width": null,
            "object_fit": null,
            "object_position": null,
            "order": null,
            "overflow": null,
            "overflow_x": null,
            "overflow_y": null,
            "padding": null,
            "right": null,
            "top": null,
            "visibility": null,
            "width": null
          },
          "model_module_version": "1.2.0"
        },
        "e0a03df91acc471686ea672fb0d565b0": {
          "model_module": "@jupyter-widgets/controls",
          "model_name": "ProgressStyleModel",
          "state": {
            "_model_module": "@jupyter-widgets/controls",
            "_model_module_version": "1.5.0",
            "_model_name": "ProgressStyleModel",
            "_view_count": null,
            "_view_module": "@jupyter-widgets/base",
            "_view_module_version": "1.2.0",
            "_view_name": "StyleView",
            "bar_color": null,
            "description_width": "initial"
          },
          "model_module_version": "1.5.0"
        },
        "ebfd199934654ccc9af00d09d9840e23": {
          "model_module": "@jupyter-widgets/base",
          "model_name": "LayoutModel",
          "state": {
            "_model_module": "@jupyter-widgets/base",
            "_model_module_version": "1.2.0",
            "_model_name": "LayoutModel",
            "_view_count": null,
            "_view_module": "@jupyter-widgets/base",
            "_view_module_version": "1.2.0",
            "_view_name": "LayoutView",
            "align_content": null,
            "align_items": null,
            "align_self": null,
            "border": null,
            "bottom": null,
            "display": null,
            "flex": null,
            "flex_flow": null,
            "grid_area": null,
            "grid_auto_columns": null,
            "grid_auto_flow": null,
            "grid_auto_rows": null,
            "grid_column": null,
            "grid_gap": null,
            "grid_row": null,
            "grid_template_areas": null,
            "grid_template_columns": null,
            "grid_template_rows": null,
            "height": null,
            "justify_content": null,
            "justify_items": null,
            "left": null,
            "margin": null,
            "max_height": null,
            "max_width": null,
            "min_height": null,
            "min_width": null,
            "object_fit": null,
            "object_position": null,
            "order": null,
            "overflow": null,
            "overflow_x": null,
            "overflow_y": null,
            "padding": null,
            "right": null,
            "top": null,
            "visibility": null,
            "width": null
          },
          "model_module_version": "1.2.0"
        },
        "ef97798bebdf4786b1ec610b07b572de": {
          "model_module": "@jupyter-widgets/controls",
          "model_name": "HTMLModel",
          "state": {
            "_dom_classes": [],
            "_model_module": "@jupyter-widgets/controls",
            "_model_module_version": "1.5.0",
            "_model_name": "HTMLModel",
            "_view_count": null,
            "_view_module": "@jupyter-widgets/controls",
            "_view_module_version": "1.5.0",
            "_view_name": "HTMLView",
            "description": "",
            "description_tooltip": null,
            "layout": "IPY_MODEL_71312105421c4b129c6a98f3a9a3f94a",
            "placeholder": "​",
            "style": "IPY_MODEL_6f44eab9db00404bbf4b41c86e3c7f9d",
            "value": " 0/? [00:00&lt;?, ?it/s]"
          },
          "model_module_version": "1.5.0"
        },
        "f5cc42a16de840a4b89577f298b1c89e": {
          "model_module": "@jupyter-widgets/controls",
          "model_name": "DescriptionStyleModel",
          "state": {
            "_model_module": "@jupyter-widgets/controls",
            "_model_module_version": "1.5.0",
            "_model_name": "DescriptionStyleModel",
            "_view_count": null,
            "_view_module": "@jupyter-widgets/base",
            "_view_module_version": "1.2.0",
            "_view_name": "StyleView",
            "description_width": ""
          },
          "model_module_version": "1.5.0"
        },
        "f6c9bca3180342c08a666a84e50ae8d5": {
          "model_module": "@jupyter-widgets/controls",
          "model_name": "FloatProgressModel",
          "state": {
            "_dom_classes": [],
            "_model_module": "@jupyter-widgets/controls",
            "_model_module_version": "1.5.0",
            "_model_name": "FloatProgressModel",
            "_view_count": null,
            "_view_module": "@jupyter-widgets/controls",
            "_view_module_version": "1.5.0",
            "_view_name": "ProgressView",
            "bar_style": "info",
            "description": "",
            "description_tooltip": null,
            "layout": "IPY_MODEL_20d22a17b20a459b991bdbeea5180e39",
            "max": 1,
            "min": 0,
            "orientation": "horizontal",
            "style": "IPY_MODEL_2a15eb8b027a4f78933e8434220f197c",
            "value": 1
          },
          "model_module_version": "1.5.0"
        },
        "f9936b87526a463c80003e7fe40ebb32": {
          "model_module": "@jupyter-widgets/base",
          "model_name": "LayoutModel",
          "state": {
            "_model_module": "@jupyter-widgets/base",
            "_model_module_version": "1.2.0",
            "_model_name": "LayoutModel",
            "_view_count": null,
            "_view_module": "@jupyter-widgets/base",
            "_view_module_version": "1.2.0",
            "_view_name": "LayoutView",
            "align_content": null,
            "align_items": null,
            "align_self": null,
            "border": null,
            "bottom": null,
            "display": null,
            "flex": null,
            "flex_flow": null,
            "grid_area": null,
            "grid_auto_columns": null,
            "grid_auto_flow": null,
            "grid_auto_rows": null,
            "grid_column": null,
            "grid_gap": null,
            "grid_row": null,
            "grid_template_areas": null,
            "grid_template_columns": null,
            "grid_template_rows": null,
            "height": null,
            "justify_content": null,
            "justify_items": null,
            "left": null,
            "margin": null,
            "max_height": null,
            "max_width": null,
            "min_height": null,
            "min_width": null,
            "object_fit": null,
            "object_position": null,
            "order": null,
            "overflow": null,
            "overflow_x": null,
            "overflow_y": null,
            "padding": null,
            "right": null,
            "top": null,
            "visibility": null,
            "width": null
          },
          "model_module_version": "1.2.0"
        },
        "fb0de3c83bac4d4ab38d6777420a4843": {
          "model_module": "@jupyter-widgets/base",
          "model_name": "LayoutModel",
          "state": {
            "_model_module": "@jupyter-widgets/base",
            "_model_module_version": "1.2.0",
            "_model_name": "LayoutModel",
            "_view_count": null,
            "_view_module": "@jupyter-widgets/base",
            "_view_module_version": "1.2.0",
            "_view_name": "LayoutView",
            "align_content": null,
            "align_items": null,
            "align_self": null,
            "border": null,
            "bottom": null,
            "display": null,
            "flex": null,
            "flex_flow": null,
            "grid_area": null,
            "grid_auto_columns": null,
            "grid_auto_flow": null,
            "grid_auto_rows": null,
            "grid_column": null,
            "grid_gap": null,
            "grid_row": null,
            "grid_template_areas": null,
            "grid_template_columns": null,
            "grid_template_rows": null,
            "height": null,
            "justify_content": null,
            "justify_items": null,
            "left": null,
            "margin": null,
            "max_height": null,
            "max_width": null,
            "min_height": null,
            "min_width": null,
            "object_fit": null,
            "object_position": null,
            "order": null,
            "overflow": null,
            "overflow_x": null,
            "overflow_y": null,
            "padding": null,
            "right": null,
            "top": null,
            "visibility": null,
            "width": null
          },
          "model_module_version": "1.2.0"
        }
      }
    },
    "kernelspec": {
      "name": "python3",
      "display_name": "Python 3"
    }
  },
  "cells": [
    {
      "cell_type": "markdown",
      "metadata": {
        "id": "x0sQkmyWpeT4"
      },
      "source": [
        "# <font color=\"red\"><b>(Lecture 3) Training Deep Neural Networks on a GPU with PyTorch</b></font>\n",
        "\n",
        "### <font color=\"#FF00FF\">Part 4 of \"Deep Learning with Pytorch: Zero to GANs\"</font>\n",
        "\n",
        "This tutorial series is a hands-on beginner-friendly introduction to deep learning using [PyTorch](https://pytorch.org), an open-source neural networks library. These tutorials take a practical and coding-focused approach. The best way to learn the material is to execute the code and experiment with it yourself. Check out the full series here:\n",
        "\n",
        "1. [PyTorch Basics: Tensors & Gradients](https://jovian.ai/aakashns/01-pytorch-basics)\n",
        "2. [Gradient Descent & Linear Regression](https://jovian.ai/aakashns/02-linear-regression)\n",
        "3. [Working with Images & Logistic Regression](https://jovian.ai/aakashns/03-logistic-regression)\n",
        "4. [Training Deep Neural Networks on a GPU](https://jovian.ai/aakashns/04-feedforward-nn)\n",
        "5. [Image Classification using Convolutional Neural Networks](https://jovian.ai/aakashns/05-cifar10-cnn)\n",
        "6. [Data Augmentation, Regularization and ResNets](https://jovian.ai/aakashns/05b-cifar10-resnet)\n",
        "7. [Generating Images using Generative Adversarial Networks](https://jovian.ai/aakashns/06b-anime-dcgan/)\n"
      ]
    },
    {
      "cell_type": "markdown",
      "metadata": {
        "id": "zRMQYXirpeT5"
      },
      "source": [
        " This tutorial covers the following topics:\n",
        "\n",
        " * Creating a deep neural network with hidden layers\n",
        " * Using a non-linear activation function\n",
        " * Using a GPU (when available) to speed up training\n",
        " * Experimenting with hyperparameters to improve the model"
      ]
    },
    {
      "cell_type": "markdown",
      "metadata": {
        "id": "-JI69VLFpeT5"
      },
      "source": [
        "### How to run the code\n",
        "\n",
        "This tutorial is an executable [Jupyter notebook](https://jupyter.org) hosted on [Jovian](https://www.jovian.ai). You can _run_ this tutorial and experiment with the code examples in a couple of ways: *using free online resources* (recommended) or *on your computer*.\n",
        "\n",
        "#### Option 1: Running using free online resources (1-click, recommended)\n",
        "\n",
        "The easiest way to start executing the code is to click the **Run** button at the top of this page and select **Run on Colab**. [Google Colab](https://colab.research.google.com) is a free online platform for running Jupyter notebooks using Google's cloud infrastructure. You can also select \"Run on Binder\" or \"Run on Kaggle\" if you face issues running the notebook on Google Colab.\n",
        "\n",
        "\n",
        "#### Option 2: Running on your computer locally\n",
        "\n",
        "To run the code on your computer locally, you'll need to set up [Python](https://www.python.org), download the notebook and install the required libraries. We recommend using the [Conda](https://docs.conda.io/projects/conda/en/latest/user-guide/install/) distribution of Python. Click the **Run** button at the top of this page, select the **Run Locally** option, and follow the instructions.\n",
        "\n",
        ">  **Jupyter Notebooks**: This tutorial is a [Jupyter notebook](https://jupyter.org) - a document made of _cells_. Each cell can contain code written in Python or explanations in plain English. You can execute code cells and view the results, e.g., numbers, messages, graphs, tables, files, etc., instantly within the notebook. Jupyter is a powerful platform for experimentation and analysis. Don't be afraid to mess around with the code & break things - you'll learn a lot by encountering and fixing errors. You can use the \"Kernel > Restart & Clear Output\" or \"Edit > Clear Outputs\" menu option to clear all outputs and start again from the top."
      ]
    },
    {
      "cell_type": "markdown",
      "metadata": {
        "id": "wdphVwCopeT5"
      },
      "source": [
        "### Using a GPU for faster training\n",
        "\n",
        "You can use a [Graphics Processing Unit](https://en.wikipedia.org/wiki/Graphics_processing_unit) (GPU) to train your models faster if your execution platform is connected to a GPU manufactured by NVIDIA. Follow these instructions to use a GPU on the platform of your choice:\n",
        "\n",
        "* _Google Colab_: Use the menu option \"Runtime > Change Runtime Type\" and select \"GPU\" from the \"Hardware Accelerator\" dropdown.\n",
        "* _Kaggle_: In the \"Settings\" section of the sidebar, select \"GPU\" from the \"Accelerator\" dropdown. Use the button on the top-right to open the sidebar.\n",
        "* _Binder_: Notebooks running on Binder cannot use a GPU, as the machines powering Binder aren't connected to any GPUs.\n",
        "* _Linux_: If your laptop/desktop has an NVIDIA GPU (graphics card), make sure you have installed the [NVIDIA CUDA drivers](https://docs.nvidia.com/cuda/cuda-installation-guide-linux/index.html).\n",
        "* _Windows_: If your laptop/desktop has an NVIDIA GPU (graphics card), make sure you have installed the [NVIDIA CUDA drivers](https://docs.nvidia.com/cuda/cuda-installation-guide-microsoft-windows/index.html).\n",
        "* _macOS_: macOS is not compatible with NVIDIA GPUs\n",
        "\n",
        "\n",
        "If you do not have access to a GPU or aren't sure what it is, don't worry, you can execute all the code in this tutorial just fine without a GPU."
      ]
    },
    {
      "cell_type": "markdown",
      "metadata": {
        "id": "h1N-aPtrpeT5"
      },
      "source": [
        "## Preparing the Data\n",
        "\n",
        "In [the previous tutorial](https://jovian.ai/aakashns/03-logistic-regression), we trained a logistic regression model to identify handwritten digits from the MNIST dataset with an accuracy of around 86%. The dataset consists of 28px by 28px grayscale images of handwritten digits (0 to 9) and labels for each image indicating which digit it represents. Here are some sample images from the dataset:\n",
        "\n",
        "![mnist-sample](https://i.imgur.com/CAYnuo1.jpg)\n",
        "\n",
        "We noticed that it's quite challenging to improve the accuracy of a logistic regression model beyond 87%, since the model assumes a linear relationship between pixel intensities and image labels. In this post, we'll try to improve upon it  using a *feed-forward neural network* which can capture non-linear relationships between inputs and targets.\n",
        "\n",
        "Let's begin by installing and importing the required modules and classes from `torch`, `torchvision`, `numpy`, and `matplotlib`."
      ]
    },
    {
      "cell_type": "code",
      "execution_count": null,
      "metadata": {
        "id": "28gVv8fbpeT5"
      },
      "outputs": [],
      "source": [
        "# Uncomment and run the appropriate command for your operating system, if required\n",
        "\n",
        "# Linux / Binder\n",
        "# !pip install numpy matplotlib torch==1.7.0+cpu torchvision==0.8.1+cpu torchaudio==0.7.0 -f https://download.pytorch.org/whl/torch_stable.html\n",
        "\n",
        "# Windows\n",
        "# !pip install numpy matplotlib torch==1.7.0+cpu torchvision==0.8.1+cpu torchaudio==0.7.0 -f https://download.pytorch.org/whl/torch_stable.html\n",
        "\n",
        "# MacOS\n",
        "# !pip install numpy matplotlib torch torchvision torchaudio"
      ]
    },
    {
      "cell_type": "code",
      "execution_count": 1,
      "metadata": {
        "execution": {
          "iopub.execute_input": "2023-02-06T10:23:48.022829Z",
          "iopub.status.busy": "2023-02-06T10:23:48.022355Z",
          "iopub.status.idle": "2023-02-06T10:23:50.278330Z",
          "shell.execute_reply": "2023-02-06T10:23:50.277118Z",
          "shell.execute_reply.started": "2023-02-06T10:23:48.022730Z"
        },
        "id": "WapU423CpeT5"
      },
      "outputs": [],
      "source": [
        "# 必需\n",
        "import torch\n",
        "import torchvision\n",
        "import numpy as np\n",
        "import matplotlib\n",
        "import matplotlib.pyplot as plt\n",
        "import torch.nn as nn\n",
        "import torch.nn.functional as F\n",
        "from torchvision.datasets import MNIST\n",
        "from torchvision.transforms import ToTensor\n",
        "from torchvision.utils import make_grid\n",
        "from torch.utils.data.dataloader import DataLoader\n",
        "from torch.utils.data import random_split\n",
        "%matplotlib inline\n",
        "\n",
        "# Use a white background for matplotlib figures\n",
        "matplotlib.rcParams['figure.facecolor'] = '#ffffff'"
      ]
    },
    {
      "cell_type": "markdown",
      "metadata": {
        "id": "wa8Y7hGhpeT5"
      },
      "source": [
        "We can download the data and create a PyTorch dataset using the `MNIST` class from `torchvision.datasets`."
      ]
    },
    {
      "cell_type": "code",
      "execution_count": null,
      "metadata": {
        "colab": {
          "base_uri": "https://localhost:8080/",
          "height": 389,
          "referenced_widgets": [
            "b5308d2444f84bee916d459c5b124817",
            "5c8ccd5ec0bc4c07a83496ddd1602235",
            "3655c7c75b704045b44f5132e0af3538",
            "38c7c91dfb9442b2b82322e88a40f22b",
            "359b3e243d634b1a8d49316ff0dfd540",
            "aa7c3d224fd04db8830264bd1acc9f6c",
            "f5cc42a16de840a4b89577f298b1c89e",
            "da6646549f9440b990550777d7081844",
            "7d8eb8eed8d648469d7d2c03677d999c",
            "060eccfc031d47b7acc99a48985a0738",
            "b6f78815579e4a1084fdabc4b46fb12b",
            "d33eea28e99147baa5766a90ccd861f7",
            "e0a03df91acc471686ea672fb0d565b0",
            "f9936b87526a463c80003e7fe40ebb32",
            "0f4f61f8bef24f859328471f408c6edc",
            "fb0de3c83bac4d4ab38d6777420a4843",
            "aab196ae70c54ee29ce6329df65d6efb",
            "ebfd199934654ccc9af00d09d9840e23",
            "f6c9bca3180342c08a666a84e50ae8d5",
            "9cf1439920af4e7685b2050b52a8f21e",
            "2a15eb8b027a4f78933e8434220f197c",
            "20d22a17b20a459b991bdbeea5180e39",
            "ac20db98d04740cf8924f4e7c3163097",
            "3e71837ffd6542f89b99af04ec6475c8",
            "c6d361c0a22e4c5c90d4eb30f45a991d",
            "33e46dfa0dce488a8ac06fe6caedd7cc",
            "7ce8de076a9d45f38301a66406ee8064",
            "ef97798bebdf4786b1ec610b07b572de",
            "0f9e5413663d45eaaf4c485a72392799",
            "bd300ad13a7f4b52a77185519928569f",
            "6f44eab9db00404bbf4b41c86e3c7f9d",
            "71312105421c4b129c6a98f3a9a3f94a",
            "905edba28b98435da4389ed1bb523598",
            "fa71d380be0b40a0807e2070c8e4c7fe",
            "504b2288af3a44ea9b25df52d8ffc262",
            "4308e076af2a4ddf835e64c28069d89f"
          ]
        },
        "execution": {
          "iopub.execute_input": "2023-02-06T03:49:08.911717Z",
          "iopub.status.busy": "2023-02-06T03:49:08.911119Z",
          "iopub.status.idle": "2023-02-06T03:49:11.758304Z",
          "shell.execute_reply": "2023-02-06T03:49:11.756941Z",
          "shell.execute_reply.started": "2023-02-06T03:49:08.911677Z"
        },
        "id": "CCfhGj-IpeT5",
        "outputId": "63e6de52-71b0-4813-d90c-ed19eb0a47fd"
      },
      "outputs": [
        {
          "name": "stdout",
          "output_type": "stream",
          "text": [
            "Downloading http://yann.lecun.com/exdb/mnist/train-images-idx3-ubyte.gz\n",
            "Downloading http://yann.lecun.com/exdb/mnist/train-images-idx3-ubyte.gz to data/MNIST/raw/train-images-idx3-ubyte.gz\n"
          ]
        },
        {
          "data": {
            "application/vnd.jupyter.widget-view+json": {
              "model_id": "905edba28b98435da4389ed1bb523598",
              "version_major": 2,
              "version_minor": 0
            },
            "text/plain": [
              "  0%|          | 0/9912422 [00:00<?, ?it/s]"
            ]
          },
          "metadata": {},
          "output_type": "display_data"
        },
        {
          "name": "stdout",
          "output_type": "stream",
          "text": [
            "Extracting data/MNIST/raw/train-images-idx3-ubyte.gz to data/MNIST/raw\n",
            "\n",
            "Downloading http://yann.lecun.com/exdb/mnist/train-labels-idx1-ubyte.gz\n",
            "Downloading http://yann.lecun.com/exdb/mnist/train-labels-idx1-ubyte.gz to data/MNIST/raw/train-labels-idx1-ubyte.gz\n"
          ]
        },
        {
          "data": {
            "application/vnd.jupyter.widget-view+json": {
              "model_id": "fa71d380be0b40a0807e2070c8e4c7fe",
              "version_major": 2,
              "version_minor": 0
            },
            "text/plain": [
              "  0%|          | 0/28881 [00:00<?, ?it/s]"
            ]
          },
          "metadata": {},
          "output_type": "display_data"
        },
        {
          "name": "stdout",
          "output_type": "stream",
          "text": [
            "Extracting data/MNIST/raw/train-labels-idx1-ubyte.gz to data/MNIST/raw\n",
            "\n",
            "Downloading http://yann.lecun.com/exdb/mnist/t10k-images-idx3-ubyte.gz\n",
            "Downloading http://yann.lecun.com/exdb/mnist/t10k-images-idx3-ubyte.gz to data/MNIST/raw/t10k-images-idx3-ubyte.gz\n"
          ]
        },
        {
          "data": {
            "application/vnd.jupyter.widget-view+json": {
              "model_id": "504b2288af3a44ea9b25df52d8ffc262",
              "version_major": 2,
              "version_minor": 0
            },
            "text/plain": [
              "  0%|          | 0/1648877 [00:00<?, ?it/s]"
            ]
          },
          "metadata": {},
          "output_type": "display_data"
        },
        {
          "name": "stdout",
          "output_type": "stream",
          "text": [
            "Extracting data/MNIST/raw/t10k-images-idx3-ubyte.gz to data/MNIST/raw\n",
            "\n",
            "Downloading http://yann.lecun.com/exdb/mnist/t10k-labels-idx1-ubyte.gz\n",
            "Downloading http://yann.lecun.com/exdb/mnist/t10k-labels-idx1-ubyte.gz to data/MNIST/raw/t10k-labels-idx1-ubyte.gz\n"
          ]
        },
        {
          "data": {
            "application/vnd.jupyter.widget-view+json": {
              "model_id": "4308e076af2a4ddf835e64c28069d89f",
              "version_major": 2,
              "version_minor": 0
            },
            "text/plain": [
              "  0%|          | 0/4542 [00:00<?, ?it/s]"
            ]
          },
          "metadata": {},
          "output_type": "display_data"
        },
        {
          "name": "stdout",
          "output_type": "stream",
          "text": [
            "Extracting data/MNIST/raw/t10k-labels-idx1-ubyte.gz to data/MNIST/raw\n",
            "\n"
          ]
        }
      ],
      "source": [
        "# 必需\n",
        "dataset = MNIST(root='data/', download=True, transform=ToTensor())"
      ]
    },
    {
      "cell_type": "markdown",
      "metadata": {
        "id": "IIlNW5OEEUuN"
      },
      "source": [
        "<font color=\"red\">If you got an issue about \"[Errno -3] Temporary failure in name resolution - Kaggle\", one can review \"https://www.kaggle.com/discussions/getting-started/132390\".</font>"
      ]
    },
    {
      "cell_type": "markdown",
      "metadata": {
        "id": "v4WNMWnIEUuO"
      },
      "source": [
        "Let's look at a couple of images from the dataset. The images are converted to PyTorch tensors with the shape `1x28x28` (the dimensions represent color channels, width and height). We can use `plt.imshow` to display the images. However, `plt.imshow` expects channels to be last dimension in an image tensor, so we use the `permute` method to reorder the dimensions of the image."
      ]
    },
    {
      "cell_type": "code",
      "execution_count": null,
      "metadata": {
        "execution": {
          "iopub.execute_input": "2023-01-11T09:32:28.847832Z",
          "iopub.status.busy": "2023-01-11T09:32:28.847099Z",
          "iopub.status.idle": "2023-01-11T09:32:28.856858Z",
          "shell.execute_reply": "2023-01-11T09:32:28.855716Z",
          "shell.execute_reply.started": "2023-01-11T09:32:28.847761Z"
        },
        "id": "o83ukraqEUuP",
        "outputId": "bc39265e-7644-4cb9-bbb0-faeac99cd74d"
      },
      "outputs": [
        {
          "data": {
            "text/plain": [
              "60000"
            ]
          },
          "execution_count": 3,
          "metadata": {},
          "output_type": "execute_result"
        }
      ],
      "source": [
        "# (展示)資料筆數\n",
        "# len(dataset)"
      ]
    },
    {
      "cell_type": "code",
      "execution_count": null,
      "metadata": {
        "execution": {
          "iopub.execute_input": "2023-01-09T08:27:21.227789Z",
          "iopub.status.busy": "2023-01-09T08:27:21.227438Z",
          "iopub.status.idle": "2023-01-09T08:27:21.439383Z",
          "shell.execute_reply": "2023-01-09T08:27:21.438264Z",
          "shell.execute_reply.started": "2023-01-09T08:27:21.227761Z"
        },
        "id": "wPJEtV0yEUuQ",
        "outputId": "b14aa80a-3e1d-4cec-d361-48fe4fab1e2d"
      },
      "outputs": [
        {
          "name": "stdout",
          "output_type": "stream",
          "text": [
            "image.shape: torch.Size([1, 28, 28])\n",
            "\n",
            "Label: 5\n"
          ]
        },
        {
          "data": {
            "image/png": "[encoded data removed]",
            "text/plain": [
              "<Figure size 432x288 with 1 Axes>"
            ]
          },
          "metadata": {},
          "output_type": "display_data"
        }
      ],
      "source": [
        "# (展示)image 改成了 image_0，label 改成了 label_0\n",
        "\n",
        "# image_0, label_0 = dataset[0]\n",
        "# print('image_0.shape:', image_0.shape)\n",
        "# plt.imshow(image_0.permute(1, 2, 0), cmap='gray')\n",
        "# print('label_0:', label_0)"
      ]
    },
    {
      "cell_type": "code",
      "execution_count": null,
      "metadata": {
        "execution": {
          "iopub.execute_input": "2023-01-09T08:27:24.545193Z",
          "iopub.status.busy": "2023-01-09T08:27:24.544310Z",
          "iopub.status.idle": "2023-01-09T08:27:24.743849Z",
          "shell.execute_reply": "2023-01-09T08:27:24.742638Z",
          "shell.execute_reply.started": "2023-01-09T08:27:24.545156Z"
        },
        "id": "3RTUF5A5EUuQ",
        "outputId": "e1a2cc82-bf67-48a8-8291-235f9fbeff19"
      },
      "outputs": [
        {
          "name": "stdout",
          "output_type": "stream",
          "text": [
            "image.shape: torch.Size([1, 28, 28])\n",
            "\n",
            "Label: 0\n"
          ]
        },
        {
          "data": {
            "image/png": "[encoded data removed]",
            "text/plain": [
              "<Figure size 432x288 with 1 Axes>"
            ]
          },
          "metadata": {},
          "output_type": "display_data"
        }
      ],
      "source": [
        "# (展示)image 改成了 image_1，label 改成了 label_1\n",
        "\n",
        "# image_1, label_1 = dataset[1]\n",
        "# print('image_1.shape:', image_1.shape)\n",
        "# plt.imshow(image_1.permute(1, 2, 0), cmap='gray')\n",
        "# print('label_1:', label_1)"
      ]
    },
    {
      "cell_type": "markdown",
      "metadata": {
        "id": "4vjwsyaDpeT5"
      },
      "source": [
        "Next, let's use the `random_split` helper function to set aside 10000 images for our validation set. <br>\n",
        "`random_split` 把資料集 `dataset` 亂數分割，根據 `[train_size, val_size]`"
      ]
    },
    {
      "cell_type": "code",
      "execution_count": 3,
      "metadata": {
        "execution": {
          "iopub.execute_input": "2023-02-06T05:49:15.391712Z",
          "iopub.status.busy": "2023-02-06T05:49:15.391285Z",
          "iopub.status.idle": "2023-02-06T05:49:15.405213Z",
          "shell.execute_reply": "2023-02-06T05:49:15.403902Z",
          "shell.execute_reply.started": "2023-02-06T05:49:15.391674Z"
        },
        "id": "Cgek18qlpeT5"
      },
      "outputs": [],
      "source": [
        "# 必需\n",
        "val_size = 10000\n",
        "train_size = len(dataset) - val_size\n",
        "\n",
        "train_ds, val_ds = random_split(dataset, [train_size, val_size])"
      ]
    },
    {
      "cell_type": "markdown",
      "source": [
        "```python\n",
        "# (展示)\n",
        "len(train_ds), len(val_ds) # (50000, 10000)\n",
        "```"
      ],
      "metadata": {
        "id": "EhSQEf6JkmUQ"
      }
    },
    {
      "cell_type": "markdown",
      "metadata": {
        "id": "PxB8SiaYpeT6"
      },
      "source": [
        "We can now create PyTorch data loaders for training and validation."
      ]
    },
    {
      "cell_type": "code",
      "execution_count": 4,
      "metadata": {
        "execution": {
          "iopub.execute_input": "2023-02-06T03:53:23.543739Z",
          "iopub.status.busy": "2023-02-06T03:53:23.543325Z",
          "iopub.status.idle": "2023-02-06T03:53:23.549463Z",
          "shell.execute_reply": "2023-02-06T03:53:23.547931Z",
          "shell.execute_reply.started": "2023-02-06T03:53:23.543707Z"
        },
        "id": "cK_hoRYSpeT6"
      },
      "outputs": [],
      "source": [
        "# 必需 128\n",
        "batch_size=128"
      ]
    },
    {
      "cell_type": "code",
      "execution_count": null,
      "metadata": {
        "execution": {
          "iopub.execute_input": "2023-02-06T03:53:28.136100Z",
          "iopub.status.busy": "2023-02-06T03:53:28.135527Z",
          "iopub.status.idle": "2023-02-06T03:53:28.143034Z",
          "shell.execute_reply": "2023-02-06T03:53:28.141758Z",
          "shell.execute_reply.started": "2023-02-06T03:53:28.136055Z"
        },
        "id": "iShTOn-vpeT6"
      },
      "outputs": [],
      "source": [
        "# 必需。num_workers原本為4\n",
        "train_loader = DataLoader(train_ds, batch_size, shuffle=True, num_workers=4, pin_memory=True)\n",
        "val_loader = DataLoader(val_ds, batch_size*2, num_workers=4, pin_memory=True)"
      ]
    },
    {
      "cell_type": "markdown",
      "metadata": {
        "id": "B4Ks1lZwEUuU"
      },
      "source": [
        "<font color=\"red\">train_loader</font>包含了<font color=\"pink\">390個</font>  128x1x28x28的tensor(影像image) + 長度128的一維tensor(標籤label)\n",
        "<br>\n",
        "&emsp;&emsp;&emsp;&emsp;&emsp;&emsp;&emsp;&emsp;+<font color=\"pink\">1個</font>80x1x28x28的tensor(影像image) +  長度80的一維tensor(標籤label)\n",
        "<br>\n",
        "<font color=\"red\">val_loader</font>包含了<font color=\"pink\">78個</font>  128x1x28x28的tensor(影像image) + 長度128的一維tensor(標籤label)\n",
        "<br>\n",
        "&emsp;&emsp;&emsp;&emsp;&emsp;&emsp;&emsp;&emsp;+<font color=\"pink\">1個</font>16x1x28x28的tensor(影像image) +  長度16的一維tensor(標籤label)\n"
      ]
    },
    {
      "cell_type": "code",
      "source": [
        "atupl = (1, 7, 7, 8, 6, 4, 7, 0, 5, 6, 3, 9, 7, 9, 0, 7, 6, 2, 6, 9, 2, 1, 0, 0, 6, 9, 8, 4, 7, 1, 2, 1)"
      ],
      "metadata": {
        "id": "7v8bTxVDk4IH"
      },
      "execution_count": 73,
      "outputs": []
    },
    {
      "cell_type": "code",
      "source": [
        "torch.tensor(atupl)"
      ],
      "metadata": {
        "id": "_YlwwVBNj1nV",
        "outputId": "22ea5868-b03a-4406-c8f0-c624a935935a",
        "colab": {
          "base_uri": "https://localhost:8080/"
        }
      },
      "execution_count": 75,
      "outputs": [
        {
          "output_type": "execute_result",
          "data": {
            "text/plain": [
              "tensor([1, 7, 7, 8, 6, 4, 7, 0, 5, 6, 3, 9, 7, 9, 0, 7, 6, 2, 6, 9, 2, 1, 0, 0,\n",
              "        6, 9, 8, 4, 7, 1, 2, 1])"
            ]
          },
          "metadata": {},
          "execution_count": 75
        }
      ]
    },
    {
      "cell_type": "markdown",
      "source": [
        " batch 是  list，有 32個 tuple, 每一個 tuple, 有一個大小 [1,28,28] 的 tensor 與 一個整數\n",
        "\n",
        " batch 解壓後，data 是一個 tuple，包含 32個 tensor。\n",
        "\n",
        " target 是一個 tuple，包含 32個 int，所以若使永 `torch.stack(target)` 會出現錯誤。"
      ],
      "metadata": {
        "id": "gM5t_h_xQONQ"
      }
    },
    {
      "cell_type": "code",
      "source": [
        "def collate_fn_gpu(batch):\n",
        "      data, target = zip(*batch) # 解壓 batch\n",
        "      data = torch.stack(data).to(device)\n",
        "      # target = torch.stack(target).to(device) # 會出錯，因為輸入 target 是 tuple ，而非 tensor\n",
        "      target = torch.tensor(target).to(device)\n",
        "      return data, target"
      ],
      "metadata": {
        "id": "zCCSHxiFk362"
      },
      "execution_count": 79,
      "outputs": []
    },
    {
      "cell_type": "code",
      "source": [
        "dler = DataLoader(train_ds, batch_size=32, shuffle=True, collate_fn=collate_fn_gpu)"
      ],
      "metadata": {
        "id": "um79xo8ICyIh"
      },
      "execution_count": 80,
      "outputs": []
    },
    {
      "cell_type": "code",
      "source": [
        "for imgs, lbs in dler:\n",
        "  print('imgs.shape:',imgs.shape)\n",
        "  print('lbs.shape:',lbs.shape)\n",
        "  break;"
      ],
      "metadata": {
        "id": "H3q7rwXGk3km",
        "outputId": "d1cbfe3f-762d-4923-84ab-dd9071e5d9e1",
        "colab": {
          "base_uri": "https://localhost:8080/"
        }
      },
      "execution_count": 81,
      "outputs": [
        {
          "output_type": "stream",
          "name": "stdout",
          "text": [
            "imgs.shape: torch.Size([32, 1, 28, 28])\n",
            "lbs.shape: torch.Size([32])\n"
          ]
        }
      ]
    },
    {
      "cell_type": "markdown",
      "metadata": {
        "id": "fjucG3lnpeT6"
      },
      "source": [
        "Can you figure out the purpose of the arguments `num_workers` and `pin_memory`? Try looking into the documentation: https://pytorch.org/docs/stable/data.html .\n",
        "\n",
        "Let's visualize a batch of data in a grid using the `make_grid` function from `torchvision`. We'll also use the `.permute` method on the tensor to move the channels to the last dimension, as expected by `matplotlib`."
      ]
    },
    {
      "cell_type": "code",
      "execution_count": null,
      "metadata": {
        "colab": {
          "base_uri": "https://localhost:8080/",
          "height": 412
        },
        "execution": {
          "iopub.execute_input": "2023-01-10T06:09:27.239998Z",
          "iopub.status.busy": "2023-01-10T06:09:27.239293Z",
          "iopub.status.idle": "2023-01-10T06:09:27.798242Z",
          "shell.execute_reply": "2023-01-10T06:09:27.797033Z",
          "shell.execute_reply.started": "2023-01-10T06:09:27.239940Z"
        },
        "id": "YshQj9srpeT6",
        "outputId": "ed518cb0-d7c8-4f03-d3b8-5f411fd3db3c"
      },
      "outputs": [
        {
          "name": "stdout",
          "output_type": "stream",
          "text": [
            "imgs.shape: torch.Size([128, 1, 28, 28])\n",
            "\n",
            "tensor([8, 8, 3, 1, 8, 8, 5, 4, 9, 9, 5, 5, 9, 2, 3, 9, 7, 9, 8, 0, 0, 0, 5, 5,\n",
            "\n",
            "        1, 1, 1, 3, 6, 3, 1, 6, 9, 8, 3, 8, 8, 0, 8, 3, 5, 6, 5, 1, 4, 3, 4, 3,\n",
            "\n",
            "        2, 3, 8, 7, 7, 8, 7, 6, 7, 7, 2, 1, 9, 8, 7, 2, 0, 4, 6, 6, 8, 3, 5, 5,\n",
            "\n",
            "        1, 9, 7, 1, 3, 1, 0, 2, 5, 8, 7, 2, 1, 1, 1, 7, 6, 3, 4, 8, 6, 9, 0, 3,\n",
            "\n",
            "        3, 7, 0, 6, 8, 6, 7, 6, 8, 6, 0, 3, 8, 7, 3, 0, 9, 2, 9, 9, 8, 8, 3, 6,\n",
            "\n",
            "        2, 8, 3, 0, 9, 9, 6, 6])\n"
          ]
        },
        {
          "data": {
            "image/png": "[encoded data removed]",
            "text/plain": [
              "<Figure size 1152x576 with 1 Axes>"
            ]
          },
          "metadata": {},
          "output_type": "display_data"
        }
      ],
      "source": [
        "# (展示)images 改成 imgs，_ (underscore) 改成 lbs\n",
        "\n",
        "# for imgs, lbs in train_loader:\n",
        "#     print('imgs.shape:', imgs.shape)\n",
        "#     plt.figure(figsize=(16,8))\n",
        "#     plt.axis('off')\n",
        "#     plt.imshow(make_grid(imgs, nrow=16).permute((1, 2, 0)))\n",
        "#     break\n",
        "# print(lbs) # 新增"
      ]
    },
    {
      "cell_type": "code",
      "execution_count": null,
      "metadata": {
        "execution": {
          "iopub.execute_input": "2023-01-09T07:47:00.870708Z",
          "iopub.status.busy": "2023-01-09T07:47:00.870091Z",
          "iopub.status.idle": "2023-01-09T07:47:00.888824Z",
          "shell.execute_reply": "2023-01-09T07:47:00.887585Z",
          "shell.execute_reply.started": "2023-01-09T07:47:00.870667Z"
        },
        "id": "4cQEZNp7EUuV",
        "outputId": "02166396-5a52-4428-891d-a6200c595f6a"
      },
      "outputs": [
        {
          "name": "stdout",
          "output_type": "stream",
          "text": [
            "torch.Size([128, 1, 28, 28])\n",
            "\n",
            "torch.Size([3, 242, 482])\n"
          ]
        }
      ],
      "source": [
        "# (展示) images 改成了 imgs\n",
        "# print(imgs.shape)                     # 128x1x28x28\n",
        "# print(make_grid(imgs, nrow=16).shape) #   3x242x482"
      ]
    },
    {
      "cell_type": "markdown",
      "metadata": {
        "id": "we83cLuxEUuW"
      },
      "source": [
        "#### <font color=\"purple\">說明</font>\n",
        "<font color=\"red\">nrow</font>: 每一個row要顯示圖的數目，所以會有8個row( 8x16=128 )  \n",
        "default padding 是<font color=\"red\">2</font>  \n",
        "<font color=\"red\">3</font>: 複製三個tensor後合併(參考https://github.com/pytorch/vision/issues/863) <br>\n",
        "<font color=\"red\">242</font>: 8x28+(8+1)x2  \n",
        "<font color=\"red\">482</font>: 16x28+(16+1)x2  "
      ]
    },
    {
      "cell_type": "markdown",
      "metadata": {
        "id": "OKEjn2zvpeT6"
      },
      "source": [
        "## Hidden Layers, Activation Functions and Non-Linearity\n",
        "\n",
        "We'll create a neural network with two layers: a _hidden layer_ and an _output layer_. Additionally, we'll use an _activation function_ between the two layers. Let's look at a step-by-step example to learn how hidden layers and activation functions can help capture non-linear relationships between inputs and outputs.\n",
        "\n",
        "First, let's create a batch of inputs tensors. We'll flatten the `1x28x28` images into vectors of size `784`, so they can be passed into an `nn.Linear` object."
      ]
    },
    {
      "cell_type": "markdown",
      "metadata": {
        "id": "M_glh9QwEUuW"
      },
      "source": [
        "<font color=\"red\">train_loader</font>包含了<font color=\"pink\">390個</font>  128x1x28x28的tensor(影像image) + 長度128的一維tensor(標籤label)\n",
        "<br>\n",
        "&emsp;&emsp;&emsp;&emsp;&emsp;&emsp;&emsp;&emsp;+<font color=\"pink\">1個</font>80x1x28x28的tensor(影像image) +  長度80的一維tensor(標籤label)\n",
        "<br>\n",
        "所以下<font color=\"green\">break</font>的原因，只會從train_loader中取出一個batch = (images, labels) <br>\n",
        "images  128x1x28x28的tensor(影像image) <br>\n",
        "labesls   長度128 的一維tensor(標籤label)"
      ]
    },
    {
      "cell_type": "code",
      "execution_count": null,
      "metadata": {
        "colab": {
          "base_uri": "https://localhost:8080/"
        },
        "execution": {
          "iopub.execute_input": "2023-02-06T03:54:04.486324Z",
          "iopub.status.busy": "2023-02-06T03:54:04.485889Z",
          "iopub.status.idle": "2023-02-06T03:54:04.682452Z",
          "shell.execute_reply": "2023-02-06T03:54:04.681251Z",
          "shell.execute_reply.started": "2023-02-06T03:54:04.486292Z"
        },
        "id": "B5iPCdqEpeT6",
        "outputId": "4919e133-729f-4b18-a885-ee62c26cdac3"
      },
      "outputs": [
        {
          "name": "stdout",
          "output_type": "stream",
          "text": [
            "images.shape: torch.Size([128, 1, 28, 28])\n",
            "labels.shape:= torch.Size([128])\n",
            "inputs.shape: torch.Size([128, 784])\n"
          ]
        }
      ],
      "source": [
        "# 必需(1) 從50000筆取出128筆資料 images是128個影像 labels是128個標籤\n",
        "for images, labels in train_loader:\n",
        "    print('images.shape:', images.shape)\n",
        "    print('labels.shape:=', labels.shape)\n",
        "\n",
        "    inputs = images.reshape(-1, 784)     #-1代表n，n=tensor的長度/第一個參數\n",
        "    print('inputs.shape:', inputs.shape) # images經過reshape後的型態\n",
        "    break"
      ]
    },
    {
      "cell_type": "markdown",
      "metadata": {
        "id": "mF__u2QfpeT6"
      },
      "source": [
        "Next, let's create a `nn.Linear` object, which will serve as our _hidden_ layer. We'll set the size of the output from the hidden layer to 32. This number can be increased or decreased to change the _learning capacity_ of the model."
      ]
    },
    {
      "cell_type": "code",
      "execution_count": 7,
      "metadata": {
        "execution": {
          "iopub.execute_input": "2023-02-06T06:28:42.269395Z",
          "iopub.status.busy": "2023-02-06T06:28:42.269002Z",
          "iopub.status.idle": "2023-02-06T06:28:42.275413Z",
          "shell.execute_reply": "2023-02-06T06:28:42.273836Z",
          "shell.execute_reply.started": "2023-02-06T06:28:42.269364Z"
        },
        "id": "6zXN1c4PpeT6"
      },
      "outputs": [],
      "source": [
        "# 必需(1)\n",
        "input_size = inputs.shape[-1] # input_size = 784。-1代表最後一軸。\n",
        "hidden_size = 32"
      ]
    },
    {
      "cell_type": "code",
      "execution_count": 8,
      "metadata": {
        "execution": {
          "iopub.execute_input": "2023-02-06T06:28:45.489915Z",
          "iopub.status.busy": "2023-02-06T06:28:45.489493Z",
          "iopub.status.idle": "2023-02-06T06:28:45.496522Z",
          "shell.execute_reply": "2023-02-06T06:28:45.495130Z",
          "shell.execute_reply.started": "2023-02-06T06:28:45.489880Z"
        },
        "id": "oOAh7CLZpeT7"
      },
      "outputs": [],
      "source": [
        "# 必需(1) #    輸入(batch_size,784)  layer1為輸出(batch_size,32)\n",
        "layer1 = nn.Linear(input_size, hidden_size)"
      ]
    },
    {
      "cell_type": "markdown",
      "metadata": {
        "id": "YzqPBDuypeT7"
      },
      "source": [
        "We can now compute intermediate outputs for the batch of images by passing `inputs` through `layer1`."
      ]
    },
    {
      "cell_type": "code",
      "execution_count": null,
      "metadata": {
        "id": "1aXQlLOvEUuY"
      },
      "outputs": [],
      "source": [
        "# 測試用\n",
        "# list(layer1.parameters())\n",
        "# 包含兩個tensor，第一個就等於layer1.weight，第二個就等於layer1.bias"
      ]
    },
    {
      "cell_type": "code",
      "execution_count": null,
      "metadata": {
        "colab": {
          "base_uri": "https://localhost:8080/"
        },
        "execution": {
          "iopub.execute_input": "2023-01-10T01:49:30.476118Z",
          "iopub.status.busy": "2023-01-10T01:49:30.475716Z",
          "iopub.status.idle": "2023-01-10T01:49:30.482070Z",
          "shell.execute_reply": "2023-01-10T01:49:30.480581Z",
          "shell.execute_reply.started": "2023-01-10T01:49:30.476083Z"
        },
        "id": "zd0YcDIlcCKb",
        "outputId": "07b3d397-8a89-47fd-f50f-1116ae3a1f53"
      },
      "outputs": [
        {
          "name": "stdout",
          "output_type": "stream",
          "text": [
            "torch.Size([128, 784])\n",
            "\n",
            "torch.Size([32, 784])\n",
            "\n",
            "torch.Size([32])\n"
          ]
        }
      ],
      "source": [
        "# 展示用\n",
        "# print(inputs.shape)\n",
        "# print(layer1.weight.shape)\n",
        "# print(layer1.bias.shape)"
      ]
    },
    {
      "cell_type": "code",
      "execution_count": 9,
      "metadata": {
        "colab": {
          "base_uri": "https://localhost:8080/"
        },
        "execution": {
          "iopub.execute_input": "2023-02-06T06:57:40.847961Z",
          "iopub.status.busy": "2023-02-06T06:57:40.847557Z",
          "iopub.status.idle": "2023-02-06T06:57:40.854492Z",
          "shell.execute_reply": "2023-02-06T06:57:40.853471Z",
          "shell.execute_reply.started": "2023-02-06T06:57:40.847927Z"
        },
        "id": "pD_FPxeipeT7",
        "outputId": "b3af5113-a5c7-4c54-caed-4c65ea41a59c"
      },
      "outputs": [
        {
          "output_type": "stream",
          "name": "stdout",
          "text": [
            "layer1_outputs.shape: torch.Size([128, 32])\n"
          ]
        }
      ],
      "source": [
        "# 必需(1) inputs輸入：batch_sizex784。layer1_outputs輸出：batch_sizex32   !!batch_size=128\n",
        "layer1_outputs = layer1(inputs)\n",
        "print('layer1_outputs.shape:', layer1_outputs.shape)"
      ]
    },
    {
      "cell_type": "markdown",
      "metadata": {
        "id": "PK-eA2QTpeT7"
      },
      "source": [
        "The image vectors of size `784` are transformed into intermediate output vectors of length `32` by performing a matrix multiplication of `inputs` matrix with the transposed weights matrix of `layer1` and adding the bias. We can verify this using `torch.allclose`. For a more detailed explanation, review the tutorial on [linear regression](https://jovian.ai/aakashns/02-linear-regression)."
      ]
    },
    {
      "cell_type": "code",
      "execution_count": 10,
      "metadata": {
        "colab": {
          "base_uri": "https://localhost:8080/"
        },
        "execution": {
          "iopub.execute_input": "2023-02-06T06:58:01.150896Z",
          "iopub.status.busy": "2023-02-06T06:58:01.150462Z",
          "iopub.status.idle": "2023-02-06T06:58:01.160440Z",
          "shell.execute_reply": "2023-02-06T06:58:01.159216Z",
          "shell.execute_reply.started": "2023-02-06T06:58:01.150859Z"
        },
        "id": "0dEnp5VjpeT7",
        "outputId": "ca83d77f-b043-4ab0-b9d4-7e04b00c72b5"
      },
      "outputs": [
        {
          "output_type": "execute_result",
          "data": {
            "text/plain": [
              "torch.Size([128, 32])"
            ]
          },
          "metadata": {},
          "execution_count": 10
        }
      ],
      "source": [
        "# 必需(1)\n",
        "layer1_outputs_direct = inputs @ layer1.weight.t() + layer1.bias\n",
        "layer1_outputs_direct.shape\n",
        "# inputs:  128x784\n",
        "# layer1.weight: 32x784\n",
        "# layer1.bias: 32 (延伸成 128x32)\n",
        "# ------------------------------\n",
        "# layer1_outputs_direct: 128x32"
      ]
    },
    {
      "cell_type": "code",
      "execution_count": null,
      "metadata": {
        "execution": {
          "iopub.execute_input": "2023-01-10T06:45:04.841373Z",
          "iopub.status.busy": "2023-01-10T06:45:04.840312Z",
          "iopub.status.idle": "2023-01-10T06:45:04.851269Z",
          "shell.execute_reply": "2023-01-10T06:45:04.850079Z",
          "shell.execute_reply.started": "2023-01-10T06:45:04.841325Z"
        },
        "id": "LrQSyl0iEUuZ",
        "outputId": "1ceee845-05e9-4dde-d11a-34460639b8f2"
      },
      "outputs": [
        {
          "data": {
            "text/plain": [
              "True"
            ]
          },
          "execution_count": 15,
          "metadata": {},
          "output_type": "execute_result"
        }
      ],
      "source": [
        "# (展示)\n",
        "# torch.allclose(layer1_outputs, layer1_outputs_direct, 1e-3)"
      ]
    },
    {
      "cell_type": "markdown",
      "metadata": {
        "id": "MW9IXDPtpeT7"
      },
      "source": [
        "Thus, `layer1_outputs` and `inputs` have a linear relationship, i.e., each element of `layer_outputs` is a weighted sum of elements from `inputs`. Thus, even as we train the model and modify the weights, `layer1` can only capture linear relationships between `inputs` and `outputs`.\n",
        "\n",
        "<img src=\"https://i.imgur.com/inXsLuq.png\" width=\"360\">\n"
      ]
    },
    {
      "cell_type": "markdown",
      "metadata": {
        "id": "Au2Jzp8VEUua"
      },
      "source": [
        "Next, we'll use the Rectified Linear Unit (ReLU) function as the activation function for the outputs. It has the formula `relu(x) = max(0,x)` i.e. it simply replaces negative values in a given tensor with the value 0. ReLU is a non-linear function, as seen here visually:\n",
        "\n",
        "<img src=\"https://i.imgur.com/yijV4xF.png\" width=\"420\">\n",
        "\n",
        "We can use the `F.relu` method to apply ReLU to the elements of a tensor."
      ]
    },
    {
      "cell_type": "code",
      "execution_count": null,
      "metadata": {
        "colab": {
          "base_uri": "https://localhost:8080/"
        },
        "execution": {
          "iopub.execute_input": "2023-01-09T02:29:51.457749Z",
          "iopub.status.busy": "2023-01-09T02:29:51.457169Z",
          "iopub.status.idle": "2023-01-09T02:29:51.471561Z",
          "shell.execute_reply": "2023-01-09T02:29:51.469722Z",
          "shell.execute_reply.started": "2023-01-09T02:29:51.457713Z"
        },
        "id": "zHMpGUGRpeT7",
        "outputId": "73821aa2-39ff-4422-cd6a-b6daaef65521"
      },
      "outputs": [
        {
          "data": {
            "text/plain": [
              "tensor([[1.0000, 0.0000, 0.0000],\n",
              "        [0.0000, 0.2000, 3.0000]])"
            ]
          },
          "execution_count": 24,
          "metadata": {},
          "output_type": "execute_result"
        }
      ],
      "source": [
        "# (展示)示範relu作用\n",
        "\n",
        "# F.relu(torch.tensor([[1, -1, 0],\n",
        "#                      [-0.1, .2, 3]]))"
      ]
    },
    {
      "cell_type": "markdown",
      "metadata": {
        "id": "Y0QIFoEopeT7"
      },
      "source": [
        "Let's apply the activation function to `layer1_outputs` and verify that negative values were replaced with 0."
      ]
    },
    {
      "cell_type": "code",
      "execution_count": null,
      "metadata": {
        "colab": {
          "base_uri": "https://localhost:8080/"
        },
        "execution": {
          "iopub.execute_input": "2023-02-06T07:00:25.531199Z",
          "iopub.status.busy": "2023-02-06T07:00:25.530489Z",
          "iopub.status.idle": "2023-02-06T07:00:25.538930Z",
          "shell.execute_reply": "2023-02-06T07:00:25.537524Z",
          "shell.execute_reply.started": "2023-02-06T07:00:25.531154Z"
        },
        "id": "QqBj3KsnpeT7",
        "outputId": "b7d59b68-e58e-4788-b841-5c75ec574cb6"
      },
      "outputs": [
        {
          "name": "stdout",
          "output_type": "stream",
          "text": [
            "min(layer1_outputs): -0.6351039409637451\n",
            "min(relu_outputs): 0.0\n"
          ]
        }
      ],
      "source": [
        "# 必需(1) layer1_outputs輸入：batch_sizex32 。 relu_outputs輸出：batch_sizex32\n",
        "relu_outputs = F.relu(layer1_outputs)\n",
        "\n",
        "# (展示)\n",
        "print('min(layer1_outputs):', torch.min(layer1_outputs).item())\n",
        "print('min(relu_outputs):', torch.min(relu_outputs).item())"
      ]
    },
    {
      "cell_type": "markdown",
      "metadata": {
        "id": "g42i491NpeT7"
      },
      "source": [
        "Now that we've applied a non-linear activation function, `relu_outputs` and `inputs` do not have a linear relationship. We refer to `ReLU` as the _activation function_, because for each input certain outputs are activated (those with non-zero values) while others turned off (those with zero values)\n",
        "\n",
        "Next, let's create an output layer to convert vectors of length `hidden_size` in `relu_outputs` into vectors of length 10, which is the desired output of our model (since there are 10 target labels)."
      ]
    },
    {
      "cell_type": "code",
      "execution_count": 13,
      "metadata": {
        "execution": {
          "iopub.execute_input": "2023-02-06T07:01:53.813674Z",
          "iopub.status.busy": "2023-02-06T07:01:53.813260Z",
          "iopub.status.idle": "2023-02-06T07:01:53.819242Z",
          "shell.execute_reply": "2023-02-06T07:01:53.817792Z",
          "shell.execute_reply.started": "2023-02-06T07:01:53.813640Z"
        },
        "id": "k1qY-KYzpeT7"
      },
      "outputs": [],
      "source": [
        "# 必需(1)   輸入(batch_size,32)  layer2為輸出(batch_size,10)\n",
        "output_size = 10\n",
        "layer2 = nn.Linear(hidden_size, output_size)"
      ]
    },
    {
      "cell_type": "code",
      "execution_count": 14,
      "metadata": {
        "colab": {
          "base_uri": "https://localhost:8080/"
        },
        "execution": {
          "iopub.execute_input": "2023-02-06T07:18:34.326607Z",
          "iopub.status.busy": "2023-02-06T07:18:34.326203Z",
          "iopub.status.idle": "2023-02-06T07:18:34.332736Z",
          "shell.execute_reply": "2023-02-06T07:18:34.331749Z",
          "shell.execute_reply.started": "2023-02-06T07:18:34.326575Z"
        },
        "id": "D_DuKvL8peT7",
        "outputId": "f694d2c8-0d00-4bd9-c5c1-928a02930ced"
      },
      "outputs": [
        {
          "output_type": "stream",
          "name": "stdout",
          "text": [
            "torch.Size([128, 10])\n"
          ]
        }
      ],
      "source": [
        "# 必需(1)  relu_outputs輸入：batch_sizex32。layer2_outputs輸出：batch_sizex10   !!batch_size=128\n",
        "layer2_outputs = layer2(relu_outputs)\n",
        "# (展示)\n",
        "print(layer2_outputs.shape)"
      ]
    },
    {
      "cell_type": "code",
      "execution_count": null,
      "metadata": {
        "colab": {
          "base_uri": "https://localhost:8080/"
        },
        "execution": {
          "iopub.execute_input": "2023-01-08T12:20:45.388598Z",
          "iopub.status.busy": "2023-01-08T12:20:45.387863Z",
          "iopub.status.idle": "2023-01-08T12:20:45.399437Z",
          "shell.execute_reply": "2023-01-08T12:20:45.397906Z",
          "shell.execute_reply.started": "2023-01-08T12:20:45.388541Z"
        },
        "id": "caxPuaS9dQhH",
        "outputId": "d2ba04fb-a317-4dc9-d015-ae48900e983b"
      },
      "outputs": [
        {
          "data": {
            "text/plain": [
              "torch.Size([128, 784])"
            ]
          },
          "execution_count": 20,
          "metadata": {},
          "output_type": "execute_result"
        }
      ],
      "source": [
        "# (展示)inputs.shape，輔助用\n",
        "# inputs.shape"
      ]
    },
    {
      "cell_type": "markdown",
      "metadata": {
        "id": "AikFPlJppeT7"
      },
      "source": [
        "As expected, `layer2_outputs` contains a batch of vectors of size 10. We can now use this output to compute the loss using `F.cross_entropy` and adjust the weights of `layer1` and `layer2` using gradient descent."
      ]
    },
    {
      "cell_type": "code",
      "execution_count": null,
      "metadata": {
        "colab": {
          "base_uri": "https://localhost:8080/"
        },
        "execution": {
          "iopub.execute_input": "2023-02-06T07:18:53.245547Z",
          "iopub.status.busy": "2023-02-06T07:18:53.245136Z",
          "iopub.status.idle": "2023-02-06T07:18:53.255936Z",
          "shell.execute_reply": "2023-02-06T07:18:53.254549Z",
          "shell.execute_reply.started": "2023-02-06T07:18:53.245514Z"
        },
        "id": "CQ_ArLNApeT7",
        "outputId": "05ddc267-9532-4b02-d7d3-402feb78be0a"
      },
      "outputs": [
        {
          "data": {
            "text/plain": [
              "tensor(2.3079, grad_fn=<NllLossBackward0>)"
            ]
          },
          "execution_count": 28,
          "metadata": {},
          "output_type": "execute_result"
        }
      ],
      "source": [
        "# 必需(1)\n",
        "F.cross_entropy(layer2_outputs, labels)"
      ]
    },
    {
      "cell_type": "markdown",
      "metadata": {
        "id": "UazxyCKHpeT7"
      },
      "source": [
        "Thus, our model transforms `inputs` into `layer2_outputs` by applying a linear transformation (using `layer1`), followed by a non-linear activation (using `F.relu`), followed by another linear transformation (using `layer2`). Let's verify this by re-computing the output using basic matrix operations."
      ]
    },
    {
      "cell_type": "code",
      "execution_count": 16,
      "metadata": {
        "execution": {
          "iopub.execute_input": "2023-02-06T07:19:10.153279Z",
          "iopub.status.busy": "2023-02-06T07:19:10.152853Z",
          "iopub.status.idle": "2023-02-06T07:19:10.161348Z",
          "shell.execute_reply": "2023-02-06T07:19:10.159965Z",
          "shell.execute_reply.started": "2023-02-06T07:19:10.153243Z"
        },
        "id": "vNQ2nPijpeT7"
      },
      "outputs": [],
      "source": [
        "# 必需(1) Expanded version of layer2(F.relu(layer1(inputs)))\n",
        "outputs = (F.relu(inputs @ layer1.weight.t() + layer1.bias)) @ layer2.weight.t() + layer2.bias"
      ]
    },
    {
      "cell_type": "code",
      "execution_count": null,
      "metadata": {
        "colab": {
          "base_uri": "https://localhost:8080/"
        },
        "execution": {
          "iopub.execute_input": "2023-01-09T06:07:22.733067Z",
          "iopub.status.busy": "2023-01-09T06:07:22.732675Z",
          "iopub.status.idle": "2023-01-09T06:07:22.740815Z",
          "shell.execute_reply": "2023-01-09T06:07:22.739668Z",
          "shell.execute_reply.started": "2023-01-09T06:07:22.733036Z"
        },
        "id": "4BgaRib-peT7",
        "outputId": "46fe04bb-ecee-4f75-9f3b-5ca9507534ab"
      },
      "outputs": [
        {
          "data": {
            "text/plain": [
              "True"
            ]
          },
          "execution_count": 19,
          "metadata": {},
          "output_type": "execute_result"
        }
      ],
      "source": [
        "# (展示)\n",
        "# torch.allclose(outputs, layer2_outputs, 1e-3)"
      ]
    },
    {
      "cell_type": "markdown",
      "metadata": {
        "id": "ZLOjL89WpeT7"
      },
      "source": [
        "Note that `outputs` and `inputs` do not have a linear relationship due to the non-linear activation function `F.relu`. As we train the model and adjust the weights of `layer1` and `layer2`, we can now capture non-linear relationships between the images and their labels. In other words, introducing non-linearity makes the model more powerful and versatile. Also, since `hidden_size` does not depend on the dimensions of the inputs or outputs, we vary it to increase the number of parameters within the model. We can also introduce new hidden layers and apply the same non-linear activation after each hidden layer.\n",
        "\n",
        "The model we just created is called a neural network. A _deep neural network_ is simply a neural network with one or more hidden layers. In fact, the [Universal Approximation Theorem](http://neuralnetworksanddeeplearning.com/chap4.html) states that a sufficiently large & deep neural network can compute any arbitrary function i.e. it can _learn_ rich and complex non-linear relationships between inputs and targets. Here are some examples:\n",
        "\n",
        "* Identifying if an image contains a cat or a dog (or [something else](https://machinelearningmastery.com/introduction-to-the-imagenet-large-scale-visual-recognition-challenge-ilsvrc/))\n",
        "* Identifying the genre of a song using a 10-second sample\n",
        "* Classifying movie reviews as positive or negative based on their content\n",
        "* Navigating self-driving cars using a video feed of the road\n",
        "* Translating sentences from English to French (and hundreds of other languages)\n",
        "* Converting a speech recording to text and vice versa\n",
        "* And many more...\n",
        "\n",
        "It's hard to imagine how the simple process of multiplying inputs with randomly initialized matrices, applying non-linear activations, and adjusting weights repeatedly using gradient descent can yield such astounding results. Deep learning models often contain millions of parameters, which can together capture far more complex relationships than the human brain can comprehend.\n",
        "\n",
        "If we hadn't included a non-linear activation between the two linear layers, the final relationship between inputs and outputs would still be linear. A simple refactoring of the computations illustrates this."
      ]
    },
    {
      "cell_type": "code",
      "execution_count": null,
      "metadata": {
        "execution": {
          "iopub.execute_input": "2023-01-10T06:53:30.874076Z",
          "iopub.status.busy": "2023-01-10T06:53:30.873639Z",
          "iopub.status.idle": "2023-01-10T06:53:30.879841Z",
          "shell.execute_reply": "2023-01-10T06:53:30.878396Z",
          "shell.execute_reply.started": "2023-01-10T06:53:30.874040Z"
        },
        "id": "AHWruKwlpeT7"
      },
      "outputs": [],
      "source": [
        "# (展示)Same as layer2(layer1(inputs))\n",
        "# outputs2 = (inputs @ layer1.weight.t() + layer1.bias) @ layer2.weight.t() + layer2.bias"
      ]
    },
    {
      "cell_type": "code",
      "execution_count": null,
      "metadata": {
        "execution": {
          "iopub.execute_input": "2023-01-10T06:53:34.266751Z",
          "iopub.status.busy": "2023-01-10T06:53:34.266314Z",
          "iopub.status.idle": "2023-01-10T06:53:34.279900Z",
          "shell.execute_reply": "2023-01-10T06:53:34.278578Z",
          "shell.execute_reply.started": "2023-01-10T06:53:34.266713Z"
        },
        "id": "BTUU8qRRpeT8"
      },
      "outputs": [],
      "source": [
        "# (展示)Create a single layer to replace the two linear layers\n",
        "# combined_layer = nn.Linear(input_size, output_size)\n",
        "\n",
        "# combined_layer.weight.data = layer2.weight @ layer1.weight\n",
        "# combined_layer.bias.data = layer1.bias @ layer2.weight.t() + layer2.bias"
      ]
    },
    {
      "cell_type": "code",
      "execution_count": null,
      "metadata": {
        "execution": {
          "iopub.execute_input": "2023-01-10T06:53:55.127560Z",
          "iopub.status.busy": "2023-01-10T06:53:55.127136Z",
          "iopub.status.idle": "2023-01-10T06:53:55.134539Z",
          "shell.execute_reply": "2023-01-10T06:53:55.133113Z",
          "shell.execute_reply.started": "2023-01-10T06:53:55.127523Z"
        },
        "id": "7wcGsCyTEUuq"
      },
      "outputs": [],
      "source": [
        "# (展示) Same as combined_layer(inputs)\n",
        "# outputs3 = inputs @ combined_layer.weight.t() + combined_layer.bias"
      ]
    },
    {
      "cell_type": "code",
      "execution_count": null,
      "metadata": {
        "colab": {
          "base_uri": "https://localhost:8080/"
        },
        "execution": {
          "iopub.execute_input": "2023-01-09T06:08:28.221474Z",
          "iopub.status.busy": "2023-01-09T06:08:28.221079Z",
          "iopub.status.idle": "2023-01-09T06:08:28.228818Z",
          "shell.execute_reply": "2023-01-09T06:08:28.227762Z",
          "shell.execute_reply.started": "2023-01-09T06:08:28.221414Z"
        },
        "id": "It7A4nzQpeT8",
        "outputId": "aeaae6d4-c4cb-4fcd-b303-606a4dbe4a96"
      },
      "outputs": [
        {
          "data": {
            "text/plain": [
              "True"
            ]
          },
          "execution_count": 23,
          "metadata": {},
          "output_type": "execute_result"
        }
      ],
      "source": [
        "# (展示)\n",
        "# torch.allclose(outputs2, outputs3, 1e-3)"
      ]
    },
    {
      "cell_type": "markdown",
      "metadata": {
        "id": "Y7NUCuW5wODZ"
      },
      "source": [
        "### Save and upload your notebook\n",
        "\n",
        "Whether you're running this Jupyter notebook online or on your computer, it's essential to save your work from time to time. You can continue working on a saved notebook later or share it with friends and colleagues to let them execute your code. [Jovian](https://jovian.ai/platform-features) offers an easy way of saving and sharing your Jupyter notebooks online."
      ]
    },
    {
      "cell_type": "code",
      "execution_count": null,
      "metadata": {
        "id": "W4liggZ2uq-y"
      },
      "outputs": [],
      "source": [
        "# Install the library\n",
        "!pip install jovian --upgrade --quiet"
      ]
    },
    {
      "cell_type": "code",
      "execution_count": null,
      "metadata": {
        "id": "fsdoLFqSuquB"
      },
      "outputs": [],
      "source": [
        "import jovian"
      ]
    },
    {
      "cell_type": "code",
      "execution_count": null,
      "metadata": {
        "colab": {
          "base_uri": "https://localhost:8080/",
          "height": 139
        },
        "id": "lWyuhJvEwSJY",
        "outputId": "f37eb179-1a09-4c54-cfae-908975528c14"
      },
      "outputs": [
        {
          "data": {
            "application/javascript": [
              "window.require && require([\"base/js/namespace\"],function(Jupyter){Jupyter.notebook.save_checkpoint()})"
            ],
            "text/plain": [
              "<IPython.core.display.Javascript object>"
            ]
          },
          "metadata": {},
          "output_type": "display_data"
        },
        {
          "name": "stdout",
          "output_type": "stream",
          "text": [
            "[jovian] Attempting to save notebook..\u001b[0m\n",
            "\n",
            "\n",
            "\n",
            "[jovian] Updating notebook \"aakashns/04-feedforward-nn\" on https://jovian.ai/\u001b[0m\n",
            "\n",
            "\n",
            "\n",
            "[jovian] Uploading notebook..\u001b[0m\n",
            "\n",
            "\n",
            "\n",
            "[jovian] Capturing environment..\u001b[0m\n",
            "\n",
            "\n",
            "\n",
            "[jovian] Committed successfully! https://jovian.ai/aakashns/04-feedforward-nn\u001b[0m\n"
          ]
        },
        {
          "data": {
            "text/plain": [
              "'https://jovian.ai/aakashns/04-feedforward-nn'"
            ]
          },
          "execution_count": 41,
          "metadata": {},
          "output_type": "execute_result"
        }
      ],
      "source": [
        "jovian.commit(project='04-feedforward-nn')"
      ]
    },
    {
      "cell_type": "markdown",
      "metadata": {
        "id": "ur3bA-lZwZBu"
      },
      "source": [
        "`jovian.commit` uploads the notebook to your Jovian account, captures the Python environment, and creates a shareable link for your notebook, as shown above. You can use this link to share your work and let anyone (including you) run your notebooks and reproduce your work."
      ]
    },
    {
      "cell_type": "markdown",
      "metadata": {
        "id": "l8dOeJyfpeT8"
      },
      "source": [
        "## Model\n",
        "\n",
        "We are now ready to define our model. As discussed above, we'll create a neural network with one hidden layer. Here's what that means:\n",
        "\n",
        "* Instead of using a single `nn.Linear` object to transform a batch of inputs (pixel intensities) into outputs (class probabilities), we'll use two `nn.Linear` objects. Each of these is called a _layer_ in the network.\n",
        "\n",
        "* The first layer (also known as the hidden layer) will transform the input matrix of shape `batch_size x 784` into an intermediate output matrix of shape `batch_size x hidden_size`. The parameter `hidden_size` can be configured manually (e.g., 32 or 64).\n",
        "\n",
        "* We'll then apply a non-linear *activation function* to the intermediate outputs. The activation function transforms individual elements of the matrix.\n",
        "\n",
        "* The result of the activation function, which is also of size `batch_size x hidden_size`, is passed into the second layer (also known as the output layer).  The second layer transforms it into a matrix of size `batch_size x 10`. We can use this output to compute the loss and adjust weights using gradient descent.\n",
        "\n",
        "\n",
        "As discussed above, our model will contain one hidden layer. Here's what it looks like visually:\n",
        "\n",
        "<img src=\"https://i.imgur.com/eN7FrpF.png\" width=\"480\">\n",
        "\n",
        "\n",
        "Let's define the model by extending the `nn.Module` class from PyTorch."
      ]
    },
    {
      "cell_type": "code",
      "execution_count": 17,
      "metadata": {
        "execution": {
          "iopub.execute_input": "2023-02-06T07:42:51.003837Z",
          "iopub.status.busy": "2023-02-06T07:42:51.003396Z",
          "iopub.status.idle": "2023-02-06T07:42:51.018758Z",
          "shell.execute_reply": "2023-02-06T07:42:51.017716Z",
          "shell.execute_reply.started": "2023-02-06T07:42:51.003798Z"
        },
        "id": "_fKPW6tSpeT8"
      },
      "outputs": [],
      "source": [
        "# 必需\n",
        "class MnistModel(nn.Module):\n",
        "    \"\"\"Feedfoward neural network with 1 hidden layer\"\"\"\n",
        "    def __init__(self, in_size, hidden_size, out_size):\n",
        "        super().__init__()\n",
        "        # 上一行也可這麼寫\n",
        "        ## super(MnistModel, self).__init__() ，MnistModel是此class名，非隨意命名\n",
        "        # hidden layer\n",
        "        self.linear1 = nn.Linear(in_size, hidden_size)  ## 輸入(,in_size) 輸出(,hidden_size)\n",
        "        # output layer\n",
        "        self.linear2 = nn.Linear(hidden_size, out_size) ## 輸入(,hidden_size) 輸出(,out_size)\n",
        "\n",
        "    def forward(self, xb):            ## (xb.shape原本 batch x 1 x 28 x 28)\n",
        "        # Flatten the image tensors\n",
        "        xb = xb.view(xb.size(0), -1)  ## -1表示不確定 ，所以xb.shape= batch x 784\n",
        "        # Get intermediate outputs using hidden layer\n",
        "        out = self.linear1(xb)                       ## out.shape= batch x 32\n",
        "        # Apply activation function\n",
        "        out = F.relu(out)                            ## out.shape= batch x 32 (不變)\n",
        "        # Get predictions using output layer\n",
        "        out = self.linear2(out)                      ## out.shape= batch x 10\n",
        "        return out\n",
        "\n",
        "    def training_step(self, batch):       ## batch 輸入(batch_size x 1 x 28 x 28, batch_size)\n",
        "        images, labels = batch\n",
        "        # Generate predictions\n",
        "        out = self(images)                ## 輸入batch_size x 1 x 28 x 28。輸出batch_size x 10\n",
        "        # Calculate loss\n",
        "        loss = F.cross_entropy(out, labels)  ## 得到一個值loss\n",
        "        return loss\n",
        "\n",
        "    def validation_step(self, batch):     ## batch 輸入(batch_size x 1 x 28 x 28, batch_size)\n",
        "        images, labels = batch\n",
        "        # Generate predictions\n",
        "        out = self(images)                ## 輸入batch_size x 1 x 28 x 28。輸出batch_size x 10\n",
        "        # Calculate loss\n",
        "        loss = F.cross_entropy(out, labels) ## 得到一個值loss\n",
        "        # Calculate accuracy\n",
        "        acc = accuracy(out, labels)\n",
        "        return {'val_loss': loss, 'val_acc': acc}        ## 回傳一個dictionary\n",
        "\n",
        "    def validation_epoch_end(self, outputs): ## outputs就是list of dictionary:[{,},{,},...]\n",
        "        batch_losses = [x['val_loss'] for x in outputs]\n",
        "        epoch_loss = torch.stack(batch_losses).mean()   # Combine losses\n",
        "        batch_accs = [x['val_acc'] for x in outputs]\n",
        "        epoch_acc = torch.stack(batch_accs).mean()      # Combine accuracies\n",
        "        return {'val_loss': epoch_loss.item(), 'val_acc': epoch_acc.item()}\n",
        "\n",
        "    def epoch_end(self, epoch, result):\n",
        "        print(\"Epoch [{}], val_loss: {:.4f}, val_acc: {:.4f}\".format(epoch, result['val_loss'], result['val_acc']))"
      ]
    },
    {
      "cell_type": "markdown",
      "metadata": {
        "id": "kAN3FrisEUut"
      },
      "source": [
        "We also need to define an `accuracy` function which calculates the accuracy of the model's prediction on an batch of inputs. It's used in `validation_step` above."
      ]
    },
    {
      "cell_type": "code",
      "execution_count": 18,
      "metadata": {
        "execution": {
          "iopub.execute_input": "2023-02-06T07:43:09.654031Z",
          "iopub.status.busy": "2023-02-06T07:43:09.653605Z",
          "iopub.status.idle": "2023-02-06T07:43:09.660117Z",
          "shell.execute_reply": "2023-02-06T07:43:09.658749Z",
          "shell.execute_reply.started": "2023-02-06T07:43:09.653994Z"
        },
        "id": "ooA0PwVipeT8"
      },
      "outputs": [],
      "source": [
        "# 必需 outputs是二維 batchx10 的 機率tensor ，labels是一維 batch個 的 標籤tensor\n",
        "def accuracy(outputs, labels):\n",
        "    _, preds = torch.max(outputs, dim=1) # 每一個row在dim=1的方向上選取最大機率值，放在\"_\"，與對應的位置，放在\"preds\"\n",
        "    return torch.tensor(torch.sum(preds == labels).item() / len(preds))"
      ]
    },
    {
      "cell_type": "markdown",
      "metadata": {
        "id": "4sSd532VpeT8"
      },
      "source": [
        "We'll create a model that contains a hidden layer with 32 activations."
      ]
    },
    {
      "cell_type": "code",
      "execution_count": 19,
      "metadata": {
        "execution": {
          "iopub.execute_input": "2023-02-06T07:43:14.124089Z",
          "iopub.status.busy": "2023-02-06T07:43:14.123671Z",
          "iopub.status.idle": "2023-02-06T07:43:14.129374Z",
          "shell.execute_reply": "2023-02-06T07:43:14.128338Z",
          "shell.execute_reply.started": "2023-02-06T07:43:14.124058Z"
        },
        "id": "beSRnIQTpeT8"
      },
      "outputs": [],
      "source": [
        "# 必需\n",
        "input_size = 784\n",
        "hidden_size = 32 # you can change this\n",
        "num_classes = 10"
      ]
    },
    {
      "cell_type": "code",
      "execution_count": 20,
      "metadata": {
        "execution": {
          "iopub.execute_input": "2023-02-06T07:43:18.401902Z",
          "iopub.status.busy": "2023-02-06T07:43:18.401443Z",
          "iopub.status.idle": "2023-02-06T07:43:18.408479Z",
          "shell.execute_reply": "2023-02-06T07:43:18.407342Z",
          "shell.execute_reply.started": "2023-02-06T07:43:18.401861Z"
        },
        "id": "IvSp6BFppeT8"
      },
      "outputs": [],
      "source": [
        "# 必需\n",
        "model = MnistModel(input_size, hidden_size=32, out_size=num_classes)"
      ]
    },
    {
      "cell_type": "code",
      "execution_count": null,
      "metadata": {
        "execution": {
          "iopub.execute_input": "2023-01-09T08:41:08.330504Z",
          "iopub.status.busy": "2023-01-09T08:41:08.330132Z",
          "iopub.status.idle": "2023-01-09T08:41:08.338466Z",
          "shell.execute_reply": "2023-01-09T08:41:08.337474Z",
          "shell.execute_reply.started": "2023-01-09T08:41:08.330472Z"
        },
        "id": "sMsCJy3FEUuu"
      },
      "outputs": [],
      "source": [
        "# (展示)\n",
        "# model"
      ]
    },
    {
      "cell_type": "markdown",
      "metadata": {
        "id": "EtWfv0N9peT8"
      },
      "source": [
        "Let's take a look at the model's parameters. We expect to see one weight and bias matrix for each of the layers."
      ]
    },
    {
      "cell_type": "code",
      "execution_count": null,
      "metadata": {
        "colab": {
          "base_uri": "https://localhost:8080/"
        },
        "execution": {
          "iopub.execute_input": "2023-01-09T08:41:17.952534Z",
          "iopub.status.busy": "2023-01-09T08:41:17.952170Z",
          "iopub.status.idle": "2023-01-09T08:41:17.957939Z",
          "shell.execute_reply": "2023-01-09T08:41:17.956685Z",
          "shell.execute_reply.started": "2023-01-09T08:41:17.952504Z"
        },
        "id": "psecOJfZpeT8",
        "outputId": "8a7acfca-577f-47d7-d4b2-ee337318c711"
      },
      "outputs": [
        {
          "name": "stdout",
          "output_type": "stream",
          "text": [
            "torch.Size([32, 784])\n",
            "\n",
            "torch.Size([32])\n",
            "\n",
            "torch.Size([10, 32])\n",
            "\n",
            "torch.Size([10])\n"
          ]
        }
      ],
      "source": [
        "# (展示)\n",
        "# for t in model.parameters():\n",
        "#     print(t.shape)"
      ]
    },
    {
      "cell_type": "markdown",
      "metadata": {
        "id": "zeFGsljIpeT8"
      },
      "source": [
        "Let's try and generate some outputs using our model. We'll take the first batch of 128 images from our dataset and pass them into our model."
      ]
    },
    {
      "cell_type": "code",
      "execution_count": null,
      "metadata": {
        "colab": {
          "base_uri": "https://localhost:8080/"
        },
        "execution": {
          "iopub.execute_input": "2023-01-10T14:20:18.579740Z",
          "iopub.status.busy": "2023-01-10T14:20:18.579296Z",
          "iopub.status.idle": "2023-01-10T14:20:18.803490Z",
          "shell.execute_reply": "2023-01-10T14:20:18.802072Z",
          "shell.execute_reply.started": "2023-01-10T14:20:18.579706Z"
        },
        "id": "jajA6VFYpeT8",
        "outputId": "0d9e12b4-c08f-4e8a-fc6f-43288e0efd65"
      },
      "outputs": [
        {
          "name": "stdout",
          "output_type": "stream",
          "text": [
            "Loss: 2.2972772121429443\n",
            "\n",
            "img_s.shape :  torch.Size([128, 1, 28, 28])\n",
            "\n",
            "out_s.shape :  torch.Size([128, 10])\n",
            "\n",
            "Sample out_s[:2] :\n",
            "\n",
            " tensor([[ 0.1118, -0.0298,  0.1072, -0.2555,  0.1434, -0.0417,  0.1893,  0.0721,\n",
            "\n",
            "         -0.2591,  0.0726],\n",
            "\n",
            "        [ 0.1194,  0.0524,  0.1364, -0.2322,  0.1844, -0.0795,  0.1819,  0.0287,\n",
            "\n",
            "         -0.2637,  0.0108]])\n"
          ]
        }
      ],
      "source": [
        "# (展示)(images改成img_s，labels改成lab_s，outputs改成out_s)\n",
        "for img_s, lab_s in train_loader:\n",
        "    out_s = model(img_s)\n",
        "    loss = F.cross_entropy(out_s, lab_s)\n",
        "    print('Loss:', loss.item())\n",
        "    break\n",
        "\n",
        "print('img_s.shape : ', img_s.shape)   # 128x1x28x28        # 新增\n",
        "print('out_s.shape : ', out_s.shape) # 128x10\n",
        "print('Sample out_s[:2] :\\n', out_s[:2].data)"
      ]
    },
    {
      "cell_type": "code",
      "execution_count": null,
      "metadata": {
        "execution": {
          "iopub.execute_input": "2023-01-10T14:20:40.739513Z",
          "iopub.status.busy": "2023-01-10T14:20:40.738965Z",
          "iopub.status.idle": "2023-01-10T14:20:40.754094Z",
          "shell.execute_reply": "2023-01-10T14:20:40.752414Z",
          "shell.execute_reply.started": "2023-01-10T14:20:40.739467Z"
        },
        "id": "_D14IeTcEUuv",
        "outputId": "4209fef0-541f-4069-8f57-983db52c0215"
      },
      "outputs": [
        {
          "data": {
            "text/plain": [
              "tensor(0.1562)"
            ]
          },
          "execution_count": 11,
          "metadata": {},
          "output_type": "execute_result"
        }
      ],
      "source": [
        "# (展示)(images改成img_s，labels改成lab_s，outputs改成out_s)\n",
        "accuracy(out_s, lab_s) # 大約10%，因為初始設定是亂數，等同於用猜的"
      ]
    },
    {
      "cell_type": "markdown",
      "metadata": {
        "id": "vmw6iiTXpeT8"
      },
      "source": [
        "## Using a GPU\n",
        "\n",
        "As the sizes of our models and datasets increase, we need to use GPUs to train our models within a reasonable amount of time. GPUs contain hundreds of cores optimized for performing expensive matrix operations on floating-point numbers quickly, making them ideal for training deep neural networks. You can use GPUs for free on [Google Colab](https://colab.research.google.com/) and [Kaggle](https://www.kaggle.com/kernels) or rent GPU-powered machines on services like [Google Cloud Platform](https://cloud.google.com/gpu/), [Amazon Web Services](https://docs.aws.amazon.com/dlami/latest/devguide/gpu.html), and [Paperspace](https://www.paperspace.com/).\n",
        "\n",
        "We can check if a GPU is available and the required NVIDIA CUDA drivers are installed using `torch.cuda.is_available`."
      ]
    },
    {
      "cell_type": "code",
      "execution_count": 21,
      "metadata": {
        "colab": {
          "base_uri": "https://localhost:8080/"
        },
        "execution": {
          "iopub.execute_input": "2023-02-06T07:43:53.434271Z",
          "iopub.status.busy": "2023-02-06T07:43:53.433813Z",
          "iopub.status.idle": "2023-02-06T07:43:53.442403Z",
          "shell.execute_reply": "2023-02-06T07:43:53.441189Z",
          "shell.execute_reply.started": "2023-02-06T07:43:53.434234Z"
        },
        "id": "gt2Ve_cFpeT8",
        "outputId": "086a9cdb-9faf-42e9-f9df-d5ea136e32be"
      },
      "outputs": [
        {
          "output_type": "execute_result",
          "data": {
            "text/plain": [
              "False"
            ]
          },
          "metadata": {},
          "execution_count": 21
        }
      ],
      "source": [
        "# (展示)\n",
        "torch.cuda.is_available()"
      ]
    },
    {
      "cell_type": "markdown",
      "metadata": {
        "id": "S2ffHXrnpeT8"
      },
      "source": [
        "Let's define a helper function to ensure that our code uses the GPU if available and defaults to using the CPU if it isn't."
      ]
    },
    {
      "cell_type": "code",
      "execution_count": 7,
      "metadata": {
        "execution": {
          "iopub.execute_input": "2023-02-06T07:43:57.105101Z",
          "iopub.status.busy": "2023-02-06T07:43:57.104635Z",
          "iopub.status.idle": "2023-02-06T07:43:57.113394Z",
          "shell.execute_reply": "2023-02-06T07:43:57.112169Z",
          "shell.execute_reply.started": "2023-02-06T07:43:57.105062Z"
        },
        "id": "oY8kxA4tpeT8"
      },
      "outputs": [],
      "source": [
        "# 必需\n",
        "def get_default_device():\n",
        "    \"\"\"Pick GPU if available, else CPU\"\"\"\n",
        "    if torch.cuda.is_available():\n",
        "        return torch.device('cuda')\n",
        "    else:\n",
        "        return torch.device('cpu')"
      ]
    },
    {
      "cell_type": "code",
      "execution_count": 10,
      "metadata": {
        "colab": {
          "base_uri": "https://localhost:8080/"
        },
        "execution": {
          "iopub.execute_input": "2023-02-06T07:44:00.132726Z",
          "iopub.status.busy": "2023-02-06T07:44:00.132334Z",
          "iopub.status.idle": "2023-02-06T07:44:00.138841Z",
          "shell.execute_reply": "2023-02-06T07:44:00.137704Z",
          "shell.execute_reply.started": "2023-02-06T07:44:00.132694Z"
        },
        "id": "rgxTDAjtpeT8",
        "outputId": "4815d3db-af48-41c9-f632-c03e9dfc4d37"
      },
      "outputs": [
        {
          "output_type": "execute_result",
          "data": {
            "text/plain": [
              "device(type='cpu')"
            ]
          },
          "metadata": {},
          "execution_count": 10
        }
      ],
      "source": [
        "# 必需\n",
        "device = get_default_device()\n",
        "device"
      ]
    },
    {
      "cell_type": "markdown",
      "metadata": {
        "id": "U58VabR4peT8"
      },
      "source": [
        "Next, let's define a function that can move data and model to a chosen device."
      ]
    },
    {
      "cell_type": "code",
      "execution_count": 11,
      "metadata": {
        "execution": {
          "iopub.execute_input": "2023-02-06T07:44:08.406764Z",
          "iopub.status.busy": "2023-02-06T07:44:08.406381Z",
          "iopub.status.idle": "2023-02-06T07:44:08.412912Z",
          "shell.execute_reply": "2023-02-06T07:44:08.411632Z",
          "shell.execute_reply.started": "2023-02-06T07:44:08.406732Z"
        },
        "id": "qe39OMPmpeT8"
      },
      "outputs": [],
      "source": [
        "# 必需\n",
        "def to_device(data, device):\n",
        "    \"\"\"Move tensor(s) to chosen device\"\"\"\n",
        "    if isinstance(data, (list,tuple)):\n",
        "        #print(\"測試 in to_device\")\n",
        "        return [to_device(x, device) for x in data]\n",
        "    return data.to(device, non_blocking=True)"
      ]
    },
    {
      "cell_type": "code",
      "execution_count": null,
      "metadata": {
        "colab": {
          "base_uri": "https://localhost:8080/"
        },
        "execution": {
          "iopub.execute_input": "2023-01-11T07:45:56.866447Z",
          "iopub.status.busy": "2023-01-11T07:45:56.865306Z",
          "iopub.status.idle": "2023-01-11T07:45:57.045564Z",
          "shell.execute_reply": "2023-01-11T07:45:57.043721Z",
          "shell.execute_reply.started": "2023-01-11T07:45:56.866396Z"
        },
        "id": "bdouJFtwpeT8",
        "outputId": "8610ddd3-9b4a-4a6c-8aec-324b4c4a29bd"
      },
      "outputs": [
        {
          "name": "stdout",
          "output_type": "stream",
          "text": [
            "torch.Size([128, 1, 28, 28])\n",
            "\n",
            "cpu\n"
          ]
        }
      ],
      "source": [
        "# (測試)有用到 to_device\n",
        "# for images, labels in train_loader:\n",
        "#     print(images.shape)\n",
        "#     #print(images.device) 新增，顯示images還存在cpu\n",
        "#     images = to_device(images, device)\n",
        "#     #print(images) 新增，顯示images還是一個 batchx1x28x28的tensor\n",
        "#     print(images.device) #如果to_device為gpu，則會顯示cuda:0，反之則為cpu\n",
        "#     break"
      ]
    },
    {
      "cell_type": "markdown",
      "metadata": {
        "id": "WiKbIzujpeT9"
      },
      "source": [
        "Finally, we define a `DeviceDataLoader` class to wrap our existing data loaders and move batches of data to the selected device. Interestingly, we don't need to extend an existing class to create a PyTorch datal oader. All we need is an `__iter__` method to retrieve batches of data and an `__len__` method to get the number of batches."
      ]
    },
    {
      "cell_type": "code",
      "execution_count": null,
      "metadata": {
        "execution": {
          "iopub.execute_input": "2023-02-06T07:50:30.497308Z",
          "iopub.status.busy": "2023-02-06T07:50:30.496881Z",
          "iopub.status.idle": "2023-02-06T07:50:30.505221Z",
          "shell.execute_reply": "2023-02-06T07:50:30.503835Z",
          "shell.execute_reply.started": "2023-02-06T07:50:30.497272Z"
        },
        "id": "Mncx5AEcpeT9"
      },
      "outputs": [],
      "source": [
        "# 必需\n",
        "# 有用到 to_device\n",
        "class DeviceDataLoader():\n",
        "    \"\"\"Wrap a dataloader to move data to a device\"\"\"\n",
        "    def __init__(self, dl, device):\n",
        "        self.dl = dl\n",
        "        self.device = device\n",
        "\n",
        "    def __iter__(self):\n",
        "        \"\"\"Yield a batch of data after moving it to device\"\"\"\n",
        "        for b in self.dl:\n",
        "#             print(\"測試 __iter__ in DeviceDataLoader()\")\n",
        "            yield to_device(b, self.device)\n",
        "\n",
        "    def __len__(self):\n",
        "        \"\"\"Number of batches\"\"\"\n",
        "        return len(self.dl)"
      ]
    },
    {
      "cell_type": "markdown",
      "metadata": {
        "id": "RxwvU5eP4r76"
      },
      "source": [
        "The `yield` keyword in Python is used to create a generator function that can be used within a `for` loop, as illustrated below."
      ]
    },
    {
      "cell_type": "code",
      "execution_count": null,
      "metadata": {
        "colab": {
          "base_uri": "https://localhost:8080/"
        },
        "execution": {
          "iopub.execute_input": "2023-01-10T07:02:45.662400Z",
          "iopub.status.busy": "2023-01-10T07:02:45.661994Z",
          "iopub.status.idle": "2023-01-10T07:02:45.669790Z",
          "shell.execute_reply": "2023-01-10T07:02:45.668506Z",
          "shell.execute_reply.started": "2023-01-10T07:02:45.662363Z"
        },
        "id": "7IeHPpx74slh",
        "outputId": "d218f6b2-b6d9-4cb7-c948-f2673d15a88c"
      },
      "outputs": [
        {
          "name": "stdout",
          "output_type": "stream",
          "text": [
            "10\n",
            "\n",
            "20\n",
            "\n",
            "30\n"
          ]
        }
      ],
      "source": [
        "# (展示)\n",
        "def some_numbers():\n",
        "    yield 10\n",
        "    yield 20\n",
        "    yield 30\n",
        "\n",
        "for value in some_numbers():\n",
        "    print(value)"
      ]
    },
    {
      "cell_type": "markdown",
      "metadata": {
        "id": "9AM28h0ipeT9"
      },
      "source": [
        "We can now wrap our data loaders using `DeviceDataLoader`."
      ]
    },
    {
      "cell_type": "code",
      "execution_count": null,
      "metadata": {
        "execution": {
          "iopub.execute_input": "2023-02-06T07:50:55.905472Z",
          "iopub.status.busy": "2023-02-06T07:50:55.905083Z",
          "iopub.status.idle": "2023-02-06T07:50:55.910874Z",
          "shell.execute_reply": "2023-02-06T07:50:55.909872Z",
          "shell.execute_reply.started": "2023-02-06T07:50:55.905440Z"
        },
        "id": "fwZdTIxgpeT9"
      },
      "outputs": [],
      "source": [
        "# 必需\n",
        "train_loader_d = DeviceDataLoader(train_loader, device)\n",
        "val_loader_d = DeviceDataLoader(val_loader, device)"
      ]
    },
    {
      "cell_type": "markdown",
      "metadata": {
        "id": "Go0zbQTypeT9"
      },
      "source": [
        "Tensors moved to the GPU have a `device` property which includes that word `cuda`. Let's verify this by looking at a batch of data from `valid_dl`."
      ]
    },
    {
      "cell_type": "code",
      "execution_count": null,
      "metadata": {
        "colab": {
          "base_uri": "https://localhost:8080/"
        },
        "execution": {
          "iopub.execute_input": "2023-01-11T09:44:48.252933Z",
          "iopub.status.busy": "2023-01-11T09:44:48.252532Z",
          "iopub.status.idle": "2023-01-11T09:44:48.464970Z",
          "shell.execute_reply": "2023-01-11T09:44:48.463433Z",
          "shell.execute_reply.started": "2023-01-11T09:44:48.252901Z"
        },
        "id": "ZdOfMdmxpeT9",
        "outputId": "b12356a8-8d95-4236-fe33-ea75a3a491d4"
      },
      "outputs": [
        {
          "name": "stdout",
          "output_type": "stream",
          "text": [
            "xb.device: cpu\n",
            "\n",
            "xb: torch.Size([256, 1, 28, 28])\n",
            "\n",
            "yb: torch.Size([256])\n"
          ]
        }
      ],
      "source": [
        "# (展示)\n",
        "for xb, yb in val_loader_d:\n",
        "    print('xb.device:', xb.device)\n",
        "    print('xb:', xb.shape)\n",
        "    print('yb:', yb.shape)  # batch_size(128)x2 = 256個label的一維向量\n",
        "    break"
      ]
    },
    {
      "cell_type": "markdown",
      "metadata": {
        "id": "sfPhGrIRpeT9"
      },
      "source": [
        "## Training the Model\n",
        "\n",
        "We'll define two functions: `fit` and `evaluate` to train the model using gradient descent and evaluate its performance on the validation set. For a detailed walkthrough of these functions, check out the [previous tutorial](https://jovian.ai/aakashns/03-logistic-regression)."
      ]
    },
    {
      "cell_type": "code",
      "execution_count": null,
      "metadata": {
        "execution": {
          "iopub.execute_input": "2023-02-06T07:51:05.011478Z",
          "iopub.status.busy": "2023-02-06T07:51:05.011048Z",
          "iopub.status.idle": "2023-02-06T07:51:05.020563Z",
          "shell.execute_reply": "2023-02-06T07:51:05.019336Z",
          "shell.execute_reply.started": "2023-02-06T07:51:05.011440Z"
        },
        "id": "JRw6Zf0wpeT9"
      },
      "outputs": [],
      "source": [
        "# 必需\n",
        "# @torch.no_grad()  # Lec4原本沒有\n",
        "def evaluate(model, val_loader):\n",
        "    \"\"\"Evaluate the model's performance on the validation set\"\"\"\n",
        "#     model.eval()  # Lec4原本沒有\n",
        "    outputs = [model.validation_step(batch) for batch in val_loader] ## outputs=[{,},{},...]\n",
        "    ## print(len(outputs))  ## outputs 長度 in 'evaluate' 約等於 10000/(2xbatch_size)\n",
        "    return model.validation_epoch_end(outputs)  ## 回傳 {'val_loss': , 'val_acc': }\n",
        "\n",
        "def fit(epochs, lr, model, train_loader, val_loader, opt_func=torch.optim.SGD):\n",
        "    \"\"\"Train the model using gradient descent\"\"\"\n",
        "    history = []\n",
        "    optimizer = opt_func(model.parameters(), lr)\n",
        "    for epoch in range(epochs):\n",
        "        # Training Phase\n",
        "#         model.train()   # Lec4原本沒有\n",
        "        for batch in train_loader:             ## batch輸入(batch_size x 1 x 28 x 28, batch_size)\n",
        "            loss = model.training_step(batch)  ## 得到一個值loss\n",
        "            loss.backward()\n",
        "            optimizer.step()\n",
        "            optimizer.zero_grad()\n",
        "        # Validation phase\n",
        "        result = evaluate(model, val_loader)  ## 回傳 {'val_loss': , 'val_acc': }\n",
        "        model.epoch_end(epoch, result)        ## 顯示 epoch, result['val_loss'], result['val_acc']\n",
        "        history.append(result)\n",
        "    return history                            ## 回傳 [{'val_loss': , 'val_acc': },{,}...]"
      ]
    },
    {
      "cell_type": "markdown",
      "metadata": {
        "id": "JuWv6GKZpeT9"
      },
      "source": [
        "Before we train the model, we need to ensure that the data and the model's parameters (weights and biases) are on the same device (CPU or GPU). We can reuse the `to_device` function to move the model's parameters to the right device."
      ]
    },
    {
      "cell_type": "code",
      "execution_count": null,
      "metadata": {
        "colab": {
          "base_uri": "https://localhost:8080/"
        },
        "execution": {
          "iopub.execute_input": "2023-02-06T07:51:09.806042Z",
          "iopub.status.busy": "2023-02-06T07:51:09.805409Z",
          "iopub.status.idle": "2023-02-06T07:51:09.814590Z",
          "shell.execute_reply": "2023-02-06T07:51:09.813465Z",
          "shell.execute_reply.started": "2023-02-06T07:51:09.805982Z"
        },
        "id": "u1CyEQsJpeT9",
        "outputId": "94eb4f15-4349-4344-e8fb-13affa7c9928"
      },
      "outputs": [
        {
          "data": {
            "text/plain": [
              "MnistModel(\n",
              "  (linear1): Linear(in_features=784, out_features=32, bias=True)\n",
              "  (linear2): Linear(in_features=32, out_features=10, bias=True)\n",
              ")"
            ]
          },
          "execution_count": 41,
          "metadata": {},
          "output_type": "execute_result"
        }
      ],
      "source": [
        "# 必需\n",
        "# Model (on GPU)\n",
        "model = MnistModel(input_size, hidden_size=hidden_size, out_size=num_classes)\n",
        "to_device(model, device)"
      ]
    },
    {
      "cell_type": "markdown",
      "metadata": {
        "id": "9N_aE2GRpeT9"
      },
      "source": [
        "Let's see how the model performs on the validation set with the initial set of weights and biases."
      ]
    },
    {
      "cell_type": "code",
      "execution_count": null,
      "metadata": {
        "execution": {
          "iopub.execute_input": "2023-02-06T07:51:14.917954Z",
          "iopub.status.busy": "2023-02-06T07:51:14.917168Z",
          "iopub.status.idle": "2023-02-06T07:51:15.601560Z",
          "shell.execute_reply": "2023-02-06T07:51:15.600106Z",
          "shell.execute_reply.started": "2023-02-06T07:51:14.917914Z"
        },
        "id": "bqt-wlY5EUu2",
        "outputId": "56a3c893-67d8-4cd0-d333-4d1bf0836168"
      },
      "outputs": [
        {
          "data": {
            "text/plain": [
              "[{'val_loss': 2.319033145904541, 'val_acc': 0.08203125}]"
            ]
          },
          "execution_count": 42,
          "metadata": {},
          "output_type": "execute_result"
        }
      ],
      "source": [
        "# 必需\n",
        "# history = [evaluate(model, val_loader_d)]\n",
        "# 可以不用[] 例如，history = evaluate(model, val_loader_d) ，但只能用在這個cell，下一個cell就無法運行\n",
        "history = [evaluate(model, val_loader_d)]\n",
        "history"
      ]
    },
    {
      "cell_type": "markdown",
      "metadata": {
        "id": "BU0tYFcPpeT9"
      },
      "source": [
        "The initial accuracy is around 10%, as one might expect from a randomly initialized model (since it has a 1 in 10 chance of getting a label right by guessing randomly).\n",
        "\n",
        "Let's train the model for five epochs and look at the results. We can use a relatively high learning rate of 0.5."
      ]
    },
    {
      "cell_type": "code",
      "execution_count": null,
      "metadata": {
        "execution": {
          "iopub.execute_input": "2023-02-06T07:51:19.638850Z",
          "iopub.status.busy": "2023-02-06T07:51:19.638370Z",
          "iopub.status.idle": "2023-02-06T07:51:40.813920Z",
          "shell.execute_reply": "2023-02-06T07:51:40.812859Z",
          "shell.execute_reply.started": "2023-02-06T07:51:19.638802Z"
        },
        "id": "ob0IEnoGEUu2",
        "outputId": "6e30b8a2-0e91-48f0-e8f1-8775ffda99ad"
      },
      "outputs": [
        {
          "name": "stdout",
          "output_type": "stream",
          "text": [
            "Epoch [0], val_loss: 0.2151, val_acc: 0.9329\n",
            "Epoch [1], val_loss: 0.1612, val_acc: 0.9531\n",
            "Epoch [2], val_loss: 0.1336, val_acc: 0.9588\n",
            "Epoch [3], val_loss: 0.1293, val_acc: 0.9591\n",
            "Epoch [4], val_loss: 0.1229, val_acc: 0.9608\n"
          ]
        },
        {
          "data": {
            "text/plain": [
              "[{'val_loss': 2.319033145904541, 'val_acc': 0.08203125},\n",
              " {'val_loss': 0.2151084691286087, 'val_acc': 0.932910144329071},\n",
              " {'val_loss': 0.16120518743991852, 'val_acc': 0.953125},\n",
              " {'val_loss': 0.13359281420707703, 'val_acc': 0.958789050579071},\n",
              " {'val_loss': 0.12929312884807587, 'val_acc': 0.9590820074081421},\n",
              " {'val_loss': 0.12291626632213593, 'val_acc': 0.9608398675918579}]"
            ]
          },
          "execution_count": 43,
          "metadata": {},
          "output_type": "execute_result"
        }
      ],
      "source": [
        "# 必需\n",
        "history += fit(5, 0.5, model, train_loader_d, val_loader_d)\n",
        "history"
      ]
    },
    {
      "cell_type": "markdown",
      "metadata": {
        "id": "_by-a2g9peT9"
      },
      "source": [
        "96% is pretty good! Let's train the model for five more epochs at a lower learning rate of 0.1 to improve the accuracy further."
      ]
    },
    {
      "cell_type": "code",
      "execution_count": null,
      "metadata": {
        "colab": {
          "base_uri": "https://localhost:8080/"
        },
        "execution": {
          "iopub.execute_input": "2023-02-06T07:52:12.866641Z",
          "iopub.status.busy": "2023-02-06T07:52:12.865452Z",
          "iopub.status.idle": "2023-02-06T07:52:33.982955Z",
          "shell.execute_reply": "2023-02-06T07:52:33.981448Z",
          "shell.execute_reply.started": "2023-02-06T07:52:12.866592Z"
        },
        "id": "AjA2dtlrpeT9",
        "outputId": "680388ae-55f0-4629-8c29-89aebfa4357c"
      },
      "outputs": [
        {
          "name": "stdout",
          "output_type": "stream",
          "text": [
            "Epoch [0], val_loss: 0.1035, val_acc: 0.9675\n",
            "Epoch [1], val_loss: 0.1023, val_acc: 0.9679\n",
            "Epoch [2], val_loss: 0.1014, val_acc: 0.9688\n",
            "Epoch [3], val_loss: 0.1029, val_acc: 0.9673\n",
            "Epoch [4], val_loss: 0.1000, val_acc: 0.9692\n"
          ]
        }
      ],
      "source": [
        "history += fit(5, 0.1, model, train_loader_d, val_loader)"
      ]
    },
    {
      "cell_type": "markdown",
      "metadata": {
        "id": "W7LAqJCMpeT9"
      },
      "source": [
        "We can now plot the losses & accuracies to study how the model improves over time."
      ]
    },
    {
      "cell_type": "code",
      "execution_count": null,
      "metadata": {
        "colab": {
          "base_uri": "https://localhost:8080/",
          "height": 295
        },
        "execution": {
          "iopub.execute_input": "2023-02-06T07:52:49.263853Z",
          "iopub.status.busy": "2023-02-06T07:52:49.263343Z",
          "iopub.status.idle": "2023-02-06T07:52:49.486417Z",
          "shell.execute_reply": "2023-02-06T07:52:49.484867Z",
          "shell.execute_reply.started": "2023-02-06T07:52:49.263800Z"
        },
        "id": "I3g-DRifpeT9",
        "outputId": "133e6548-c6d9-4dc1-f2d4-78ce94d619d9"
      },
      "outputs": [
        {
          "data": {
            "image/png": "[encoded data removed]",
            "text/plain": [
              "<Figure size 432x288 with 1 Axes>"
            ]
          },
          "metadata": {},
          "output_type": "display_data"
        }
      ],
      "source": [
        "# 注意在Lecture3中每次fit完後的結果都存在不同的變數名稱裡(如history0, history1...)，畫圖前，要先把這些結果合併(history=[history0+history1+...])，\n",
        "# 在Lecture4中 每次每次fit完後的結果都疊加存於history，所以畫圖時，不需要再合併\n",
        "losses = [x['val_loss'] for x in history]\n",
        "plt.plot(losses, '-x')\n",
        "plt.xlabel('epoch')\n",
        "plt.ylabel('loss')\n",
        "plt.title('Loss vs. No. of epochs');"
      ]
    },
    {
      "cell_type": "code",
      "execution_count": null,
      "metadata": {
        "colab": {
          "base_uri": "https://localhost:8080/",
          "height": 295
        },
        "execution": {
          "iopub.execute_input": "2023-02-06T07:52:53.767340Z",
          "iopub.status.busy": "2023-02-06T07:52:53.766924Z",
          "iopub.status.idle": "2023-02-06T07:52:53.944486Z",
          "shell.execute_reply": "2023-02-06T07:52:53.943474Z",
          "shell.execute_reply.started": "2023-02-06T07:52:53.767301Z"
        },
        "id": "28kJvNmFpeT9",
        "outputId": "8d7336ba-6c62-4d09-e5d1-a7f66679d4b6",
        "scrolled": true
      },
      "outputs": [
        {
          "data": {
            "image/png": "[encoded data removed]",
            "text/plain": [
              "<Figure size 432x288 with 1 Axes>"
            ]
          },
          "metadata": {},
          "output_type": "display_data"
        }
      ],
      "source": [
        "accuracies = [x['val_acc'] for x in history]\n",
        "plt.plot(accuracies, '-x')\n",
        "plt.xlabel('epoch')\n",
        "plt.ylabel('accuracy')\n",
        "plt.title('Accuracy vs. No. of epochs');"
      ]
    },
    {
      "cell_type": "markdown",
      "metadata": {
        "id": "zBmLGRuLpeT9"
      },
      "source": [
        "Our current model outperforms the logistic regression model (which could only achieve around 86% accuracy) by a considerable margin! It quickly reaches an accuracy of 97% but doesn't improve much beyond this. To improve accuracy further, we need to make the model more powerful by increasing the hidden layer's size or adding more hidden layers with activations. I encourage you to try out both these approaches and see which one works better."
      ]
    },
    {
      "cell_type": "markdown",
      "metadata": {
        "id": "v72CM4EYpeT9"
      },
      "source": [
        "As a final step, we can save and commit our work using the `jovian` library."
      ]
    },
    {
      "cell_type": "code",
      "execution_count": null,
      "metadata": {
        "id": "0oF5BstrpeT9"
      },
      "outputs": [],
      "source": [
        "!pip install jovian --upgrade -q"
      ]
    },
    {
      "cell_type": "code",
      "execution_count": null,
      "metadata": {
        "id": "gqmI7j7TpeT-"
      },
      "outputs": [],
      "source": [
        "import jovian"
      ]
    },
    {
      "cell_type": "code",
      "execution_count": null,
      "metadata": {
        "id": "koPOVc5ipeT-",
        "outputId": "3cbd1a90-4fa5-4ce5-dda6-ea1a648978d8"
      },
      "outputs": [
        {
          "data": {
            "application/javascript": [
              "window.require && require([\"base/js/namespace\"],function(Jupyter){Jupyter.notebook.save_checkpoint()})"
            ],
            "text/plain": [
              "<IPython.core.display.Javascript object>"
            ]
          },
          "metadata": {},
          "output_type": "display_data"
        },
        {
          "name": "stdout",
          "output_type": "stream",
          "text": [
            "[jovian] Attempting to save notebook..\u001b[0m\n",
            "\n",
            "\n",
            "\n",
            "[jovian] Updating notebook \"aakashns/04-feedforward-nn\" on https://jovian.ai/\u001b[0m\n",
            "\n",
            "\n",
            "\n",
            "[jovian] Uploading notebook..\u001b[0m\n",
            "\n",
            "\n",
            "\n",
            "[jovian] Committed successfully! https://jovian.ai/aakashns/04-feedforward-nn\u001b[0m\n"
          ]
        },
        {
          "data": {
            "text/plain": [
              "'https://jovian.ai/aakashns/04-feedforward-nn'"
            ]
          },
          "execution_count": 68,
          "metadata": {},
          "output_type": "execute_result"
        }
      ],
      "source": [
        "jovian.commit(project='04-feedforward-nn', environment=None)"
      ]
    },
    {
      "cell_type": "markdown",
      "metadata": {
        "id": "Lf_6nWkCBGB5"
      },
      "source": [
        "## Testing with individual images\n",
        "\n",
        "While we have been tracking the overall accuracy of a model so far, it's also a good idea to look at model's results on some sample images. Let's test out our model with some images from the predefined test dataset of 10000 images. We begin by recreating the test dataset with the `ToTensor` transform."
      ]
    },
    {
      "cell_type": "code",
      "execution_count": null,
      "metadata": {
        "execution": {
          "iopub.execute_input": "2023-02-06T07:53:09.257288Z",
          "iopub.status.busy": "2023-02-06T07:53:09.256653Z",
          "iopub.status.idle": "2023-02-06T07:53:09.292163Z",
          "shell.execute_reply": "2023-02-06T07:53:09.291191Z",
          "shell.execute_reply.started": "2023-02-06T07:53:09.257253Z"
        },
        "id": "ZJ6E4f-iBBTm"
      },
      "outputs": [],
      "source": [
        "# Define test dataset\n",
        "test_dataset = MNIST(root='data/',\n",
        "                     train=False,\n",
        "                     transform=ToTensor())"
      ]
    },
    {
      "cell_type": "markdown",
      "metadata": {
        "id": "uGKvjeJXBTiN"
      },
      "source": [
        "Let's define a helper function `predict_image`, which returns the predicted label for a single image tensor."
      ]
    },
    {
      "cell_type": "code",
      "execution_count": null,
      "metadata": {
        "execution": {
          "iopub.execute_input": "2023-02-06T08:51:36.929720Z",
          "iopub.status.busy": "2023-02-06T08:51:36.929325Z",
          "iopub.status.idle": "2023-02-06T08:51:36.936952Z",
          "shell.execute_reply": "2023-02-06T08:51:36.935563Z",
          "shell.execute_reply.started": "2023-02-06T08:51:36.929686Z"
        },
        "id": "ZhxrAx6LBTNG"
      },
      "outputs": [],
      "source": [
        "def predict_image(img, model): ## img輸入 1 x 28 x28\n",
        "    xb = to_device(img.unsqueeze(0), device) # 不用img.unsqueeze(0)，也直接用img可以\n",
        "    yb = model(xb)\n",
        "    _, preds  = torch.max(yb, dim=1)         # preds 是個tensor(值為index),_ 省略是 位置index的機率值\n",
        "    return preds[0].item()"
      ]
    },
    {
      "cell_type": "markdown",
      "metadata": {
        "id": "N4kUaLBqBZLd"
      },
      "source": [
        "Let's try it out with a few images."
      ]
    },
    {
      "cell_type": "code",
      "execution_count": null,
      "metadata": {
        "execution": {
          "iopub.execute_input": "2023-02-06T08:51:44.397703Z",
          "iopub.status.busy": "2023-02-06T08:51:44.397078Z",
          "iopub.status.idle": "2023-02-06T08:51:44.564331Z",
          "shell.execute_reply": "2023-02-06T08:51:44.563149Z",
          "shell.execute_reply.started": "2023-02-06T08:51:44.397666Z"
        },
        "id": "JsNnl42DBXog",
        "outputId": "94778016-6833-4d3f-a019-20a36bdafa77"
      },
      "outputs": [
        {
          "name": "stdout",
          "output_type": "stream",
          "text": [
            "tensor([7])\n",
            "Label: 7 , Predicted: 7\n"
          ]
        },
        {
          "data": {
            "image/png": "[encoded data removed]",
            "text/plain": [
              "<Figure size 432x288 with 1 Axes>"
            ]
          },
          "metadata": {},
          "output_type": "display_data"
        }
      ],
      "source": [
        "img, label = test_dataset[0]\n",
        "plt.imshow(img[0], cmap='gray')\n",
        "print('Label:', label, ', Predicted:', predict_image(img, model))"
      ]
    },
    {
      "cell_type": "code",
      "execution_count": null,
      "metadata": {
        "execution": {
          "iopub.execute_input": "2023-02-06T07:53:19.048265Z",
          "iopub.status.busy": "2023-02-06T07:53:19.047093Z",
          "iopub.status.idle": "2023-02-06T07:53:19.220307Z",
          "shell.execute_reply": "2023-02-06T07:53:19.218865Z",
          "shell.execute_reply.started": "2023-02-06T07:53:19.048218Z"
        },
        "id": "lu0lN0xnBiD6",
        "outputId": "e563b502-3d50-43db-b72f-e3268d84904e"
      },
      "outputs": [
        {
          "name": "stdout",
          "output_type": "stream",
          "text": [
            "Label: 2 , Predicted: 2\n"
          ]
        },
        {
          "data": {
            "image/png": "[encoded data removed]",
            "text/plain": [
              "<Figure size 432x288 with 1 Axes>"
            ]
          },
          "metadata": {},
          "output_type": "display_data"
        }
      ],
      "source": [
        "img, label = test_dataset[1839]\n",
        "plt.imshow(img[0], cmap='gray')\n",
        "print('Label:', label, ', Predicted:', predict_image(img, model))"
      ]
    },
    {
      "cell_type": "code",
      "execution_count": null,
      "metadata": {
        "execution": {
          "iopub.execute_input": "2023-02-06T07:53:22.396953Z",
          "iopub.status.busy": "2023-02-06T07:53:22.396222Z",
          "iopub.status.idle": "2023-02-06T07:53:22.567711Z",
          "shell.execute_reply": "2023-02-06T07:53:22.566836Z",
          "shell.execute_reply.started": "2023-02-06T07:53:22.396913Z"
        },
        "id": "ZpzxiYHjBliK",
        "outputId": "823be743-0539-451a-f97c-a467a9285d5b"
      },
      "outputs": [
        {
          "name": "stdout",
          "output_type": "stream",
          "text": [
            "Label: 9 , Predicted: 9\n"
          ]
        },
        {
          "data": {
            "image/png": "[encoded data removed]",
            "text/plain": [
              "<Figure size 432x288 with 1 Axes>"
            ]
          },
          "metadata": {},
          "output_type": "display_data"
        }
      ],
      "source": [
        "img, label = test_dataset[193]\n",
        "plt.imshow(img[0], cmap='gray')\n",
        "print('Label:', label, ', Predicted:', predict_image(img, model))"
      ]
    },
    {
      "cell_type": "markdown",
      "metadata": {
        "id": "RqG62k05BqpC"
      },
      "source": [
        "Identifying where our model performs poorly can help us improve the model, by collecting more training data, increasing/decreasing the complexity of the model, and changing the hypeparameters.\n",
        "\n",
        "As a final step, let's also look at the overall loss and accuracy of the model on the test set."
      ]
    },
    {
      "cell_type": "code",
      "execution_count": null,
      "metadata": {
        "execution": {
          "iopub.execute_input": "2023-02-06T07:53:29.948492Z",
          "iopub.status.busy": "2023-02-06T07:53:29.947765Z",
          "iopub.status.idle": "2023-02-06T07:53:30.946481Z",
          "shell.execute_reply": "2023-02-06T07:53:30.945567Z",
          "shell.execute_reply.started": "2023-02-06T07:53:29.948452Z"
        },
        "id": "rvNoyn0RBtBm",
        "outputId": "0fa77365-9cca-4f84-80ab-1f6866a78567"
      },
      "outputs": [
        {
          "data": {
            "text/plain": [
              "{'val_loss': 0.10274286568164825, 'val_acc': 0.9701172113418579}"
            ]
          },
          "execution_count": 52,
          "metadata": {},
          "output_type": "execute_result"
        }
      ],
      "source": [
        "test_loader = DeviceDataLoader(DataLoader(test_dataset, batch_size=256), device)\n",
        "result = evaluate(model, test_loader)\n",
        "result"
      ]
    },
    {
      "cell_type": "markdown",
      "metadata": {
        "id": "CZz2M4WPBzlT"
      },
      "source": [
        "We expect this to be similar to the accuracy/loss on the validation set. If not, we might need a better validation set that has similar data and distribution as the test set (which often comes from real world data)."
      ]
    },
    {
      "cell_type": "markdown",
      "metadata": {
        "id": "Q-syIZYUB1Ls"
      },
      "source": [
        "Let's save the model's weights and attach it to the notebook using `jovian.commit`. We will also record the model's performance on the test dataset using `jovian.log_metrics`."
      ]
    },
    {
      "cell_type": "code",
      "execution_count": null,
      "metadata": {
        "execution": {
          "iopub.execute_input": "2023-01-11T09:49:50.014232Z",
          "iopub.status.busy": "2023-01-11T09:49:50.013573Z",
          "iopub.status.idle": "2023-01-11T09:49:50.042873Z",
          "shell.execute_reply": "2023-01-11T09:49:50.041340Z",
          "shell.execute_reply.started": "2023-01-11T09:49:50.014194Z"
        },
        "id": "1DhlvKaeCE0K",
        "outputId": "7d12d7d5-c6bd-4c1b-c86e-dbe187c49077"
      },
      "outputs": [
        {
          "name": "stdout",
          "output_type": "stream",
          "text": [
            "[jovian] Metrics logged.\u001b[0m\n"
          ]
        }
      ],
      "source": [
        "jovian.log_metrics(test_loss=result['val_loss'], test_acc=result['val_loss'])"
      ]
    },
    {
      "cell_type": "code",
      "execution_count": null,
      "metadata": {
        "id": "BT6v860WByIJ"
      },
      "outputs": [],
      "source": [
        "torch.save(model.state_dict(), 'mnist-feedforward.pth')"
      ]
    },
    {
      "cell_type": "code",
      "execution_count": null,
      "metadata": {
        "id": "OzsA_y7OCLY8",
        "outputId": "b1902e00-01fd-468e-880e-99fa65f0401b"
      },
      "outputs": [
        {
          "data": {
            "application/javascript": [
              "window.require && require([\"base/js/namespace\"],function(Jupyter){Jupyter.notebook.save_checkpoint()})"
            ],
            "text/plain": [
              "<IPython.core.display.Javascript object>"
            ]
          },
          "metadata": {},
          "output_type": "display_data"
        },
        {
          "name": "stdout",
          "output_type": "stream",
          "text": [
            "[jovian] Updating notebook \"henrykohl/04-feedforward-nn\" on https://jovian.com\u001b[0m\n",
            "\n",
            "[jovian] Uploading additional outputs...\u001b[0m\n",
            "\n",
            "[jovian] Attaching records (metrics, hyperparameters, dataset etc.)\u001b[0m\n",
            "\n",
            "[jovian] Committed successfully! https://jovian.com/henrykohl/04-feedforward-nn\u001b[0m\n"
          ]
        },
        {
          "data": {
            "text/plain": [
              "'https://jovian.com/henrykohl/04-feedforward-nn'"
            ]
          },
          "execution_count": 35,
          "metadata": {},
          "output_type": "execute_result"
        }
      ],
      "source": [
        "jovian.commit(project='04-feedforward-nn',\n",
        "              environment=None,\n",
        "              outputs=['mnist-feedforward.pth'])"
      ]
    },
    {
      "cell_type": "markdown",
      "metadata": {
        "id": "DPk8QvFo9z3C"
      },
      "source": [
        "## Exercises\n",
        "\n",
        "Try out the following exercises to apply the concepts and techniques you have learned so far:\n",
        "\n",
        "* Coding exercises on end-to-end model training: https://jovian.ai/aakashns/03-cifar10-feedforward\n",
        "* Starter notebook for deep learning models:  https://jovian.ai/aakashns/fashion-feedforward-minimal\n",
        "\n",
        "Training great machine learning models reliably takes practice and experience. Try experimenting with different datasets, models and hyperparameters, it's the best way to acquire this skill."
      ]
    },
    {
      "cell_type": "markdown",
      "metadata": {
        "id": "sSSOi-g_peT-"
      },
      "source": [
        "## Summary and Further Reading\n",
        "\n",
        "Here is a summary of the topics covered in this tutorial:\n",
        "\n",
        "* We created a neural network with one hidden layer to improve upon the logistic regression model from the previous tutorial. We also used the ReLU activation function to introduce non-linearity into the model, allowing it to learn more complex relationships between the inputs (pixel densities) and outputs (class probabilities).\n",
        "\n",
        "* We defined some utilities like `get_default_device`, `to_device` and `DeviceDataLoader` to leverage a GPU if available, by moving the input data and model parameters to the appropriate device.\n",
        "\n",
        "* We were able to use the exact same training loop: the `fit` function we had define earlier to train out model and evaluate it using the validation dataset.\n",
        "\n",
        "There's a lot of scope to experiment here, and I encourage you to use the interactive nature of Jupyter to play around with the various parameters. Here are a few ideas:\n",
        "\n",
        "* Try changing the size of the hidden layer, or add more hidden layers and see if you can achieve a higher accuracy.\n",
        "\n",
        "* Try changing the batch size and learning rate to see if you can achieve the same accuracy in fewer epochs.\n",
        "\n",
        "* Compare the training times on a CPU vs. GPU. Do you see a significant difference. How does it vary with the size of the dataset and the size of the model (no. of weights and parameters)?\n",
        "\n",
        "* Try building a model for a different dataset, such as the [CIFAR10 or CIFAR100 datasets](https://www.cs.toronto.edu/~kriz/cifar.html).\n",
        "\n",
        "Here are some references for further reading:\n",
        "\n",
        "* [A visual proof that neural networks can compute any function](http://neuralnetworksanddeeplearning.com/chap4.html), also known as the Universal Approximation Theorem.\n",
        "\n",
        "* [But what *is* a neural network?](https://www.youtube.com/watch?v=aircAruvnKk) - A visual and intuitive introduction to what neural networks are and what the intermediate layers represent\n",
        "\n",
        "* [Stanford CS229 Lecture notes on Backpropagation](https://github.com/BirajCoder/File-host-repo/blob/main/backprop.pdf) - for a more mathematical treatment of how gradients are calculated and weights are updated for neural networks with multiple layers.\n",
        "\n",
        "\n",
        "You are now ready to move on to the next tutorial: [Image Classification using Convolutional Neural Networks](https://jovian.ai/aakashns/05-cifar10-cnn)."
      ]
    },
    {
      "cell_type": "markdown",
      "metadata": {
        "id": "O0rsNSShEUu-"
      },
      "source": [
        "# <font color=\"red\">關於Keras</font>\n",
        "https://ithelp.ithome.com.tw/articles/10224345"
      ]
    },
    {
      "cell_type": "markdown",
      "metadata": {
        "id": "hr94atBQEUu_"
      },
      "source": [
        "## <font color=\"pink\">解決問題</font>\n",
        "##### *\"Creating new thread pool with default inter op setting: 2. Tune using inter_op_parallelism_threads for best performance.\"*\n",
        "https://blog.csdn.net/weixin_43159148/article/details/89609870 <br>\n",
        "https://stackoverflow.com/questions/61214575/keras-tensor-flow-2-configproto <br>"
      ]
    },
    {
      "cell_type": "code",
      "execution_count": null,
      "metadata": {
        "execution": {
          "iopub.execute_input": "2023-02-07T07:18:34.924523Z",
          "iopub.status.busy": "2023-02-07T07:18:34.923922Z",
          "iopub.status.idle": "2023-02-07T07:18:34.931134Z",
          "shell.execute_reply": "2023-02-07T07:18:34.929958Z",
          "shell.execute_reply.started": "2023-02-07T07:18:34.924484Z"
        },
        "id": "7HaHRNEkEUu_"
      },
      "outputs": [],
      "source": [
        "import tensorflow as tf\n",
        "import os\n",
        "# NUM_PARALLEL_EXEC_UNITS =8\n",
        "# config = tf.compat.v1.ConfigProto(intra_op_parallelism_threads=NUM_PARALLEL_EXEC_UNITS, inter_op_parallelism_threads=2, allow_soft_placement=True, device_count = {'CPU': NUM_PARALLEL_EXEC_UNITS })\n",
        "# session = tf.compat.v1.Session(config=config)\n",
        "# tf.compat.v1.keras.backend.set_session(session)\n",
        "tf.config.threading.set_inter_op_parallelism_threads(4)\n",
        "\n",
        "os.environ['TF_CPP_MIN_LOG_LEVEL'] = '2'\n",
        "\n",
        "# os.environ[\"OMP_NUM_THREADS\"] = str(NUM_PARALLEL_EXEC_UNITS)\n",
        "\n",
        "# os.environ[\"KMP_BLOCKTIME\"] = \"30\"\n",
        "\n",
        "# os.environ[\"KMP_SETTINGS\"] = \"1\"\n",
        "\n",
        "# os.environ[\"KMP_AFFINITY\"]= \"granularity=fine,verbose,compact,1,0\""
      ]
    },
    {
      "cell_type": "code",
      "execution_count": null,
      "metadata": {
        "execution": {
          "iopub.execute_input": "2023-02-07T06:17:42.465213Z",
          "iopub.status.busy": "2023-02-07T06:17:42.464569Z",
          "iopub.status.idle": "2023-02-07T06:17:43.138638Z",
          "shell.execute_reply": "2023-02-07T06:17:43.137607Z",
          "shell.execute_reply.started": "2023-02-07T06:17:42.465149Z"
        },
        "id": "lfcTmmQYEUu_"
      },
      "outputs": [],
      "source": [
        "from keras.models import Sequential #引入Sequential函式\n",
        "from keras.layers import Dense, Activation #引入層數及激勵函數\n",
        "\n",
        "import matplotlib.pyplot as plt\n",
        "%matplotlib inline"
      ]
    },
    {
      "cell_type": "code",
      "execution_count": null,
      "metadata": {
        "execution": {
          "iopub.execute_input": "2023-02-07T06:18:18.619094Z",
          "iopub.status.busy": "2023-02-07T06:18:18.618650Z",
          "iopub.status.idle": "2023-02-07T06:18:18.645598Z",
          "shell.execute_reply": "2023-02-07T06:18:18.644477Z",
          "shell.execute_reply.started": "2023-02-07T06:18:18.619061Z"
        },
        "id": "Lx1TQhQKEUu_",
        "outputId": "d5da5a58-7667-47cc-852a-30e32cb8e8f9"
      },
      "outputs": [
        {
          "name": "stdout",
          "output_type": "stream",
          "text": [
            "Model: \"sequential_2\"\n",
            "_________________________________________________________________\n",
            "Layer (type)                 Output Shape              Param #   \n",
            "=================================================================\n",
            "dense_2 (Dense)              (None, 512)               401920    \n",
            "_________________________________________________________________\n",
            "activation_2 (Activation)    (None, 512)               0         \n",
            "=================================================================\n",
            "Total params: 401,920\n",
            "Trainable params: 401,920\n",
            "Non-trainable params: 0\n",
            "_________________________________________________________________\n",
            "None\n"
          ]
        }
      ],
      "source": [
        "# 示範建立model (參考) https://stackoverflow.com/questions/61560888/keras-dense-layer-output-shape\n",
        "model_example = Sequential([\n",
        "    Dense(512, input_shape=(784,)),\n",
        "    #Dense：全連接層 units=512 簡化成 512\n",
        "    #輸入的張量，784神經元(或稱組數輸入)\n",
        "    #512是輸出的神經元數量(或稱組數)\n",
        "    Activation('relu'), #設定激活層並採用relu\n",
        "])\n",
        "print(model_example.summary()) #顯示目前網路架構 (param # = 784*512+512 = 401920)"
      ]
    },
    {
      "cell_type": "code",
      "execution_count": null,
      "metadata": {
        "execution": {
          "iopub.execute_input": "2023-02-07T03:50:51.496480Z",
          "iopub.status.busy": "2023-02-07T03:50:51.495991Z",
          "iopub.status.idle": "2023-02-07T03:50:51.502662Z",
          "shell.execute_reply": "2023-02-07T03:50:51.500879Z",
          "shell.execute_reply.started": "2023-02-07T03:50:51.496440Z"
        },
        "id": "kJ5rgH6jEUvA"
      },
      "outputs": [],
      "source": [
        "from keras import optimizers"
      ]
    },
    {
      "cell_type": "code",
      "execution_count": null,
      "metadata": {
        "execution": {
          "iopub.execute_input": "2023-02-05T14:07:50.975864Z",
          "iopub.status.busy": "2023-02-05T14:07:50.975409Z",
          "iopub.status.idle": "2023-02-05T14:07:50.983676Z",
          "shell.execute_reply": "2023-02-05T14:07:50.982049Z",
          "shell.execute_reply.started": "2023-02-05T14:07:50.975828Z"
        },
        "id": "SG9SiFlSEUvA"
      },
      "outputs": [],
      "source": [
        "import numpy as np\n",
        "\n",
        "y_data = np.array([500000,275000,360000,780000,145000,280000,860000,200000,90000,680000])\n",
        "x_data = np.array([55,27,33,70,13,26,89,21,10,67])"
      ]
    },
    {
      "cell_type": "code",
      "execution_count": null,
      "metadata": {
        "execution": {
          "iopub.execute_input": "2023-02-05T14:08:34.331690Z",
          "iopub.status.busy": "2023-02-05T14:08:34.331240Z",
          "iopub.status.idle": "2023-02-05T14:08:35.983433Z",
          "shell.execute_reply": "2023-02-05T14:08:35.981820Z",
          "shell.execute_reply.started": "2023-02-05T14:08:34.331656Z"
        },
        "id": "nlZ_p_tjEUvA",
        "outputId": "ed16f30c-7362-40f0-a2a5-ba72614bf2cf"
      },
      "outputs": [
        {
          "name": "stdout",
          "output_type": "stream",
          "text": [
            "Epoch 1/200\n",
            "1/1 [==============================] - 0s 268ms/step - loss: 241285152768.0000\n",
            "Epoch 2/200\n",
            "1/1 [==============================] - 0s 3ms/step - loss: 68362088448.0000\n",
            "Epoch 3/200\n",
            "1/1 [==============================] - 0s 3ms/step - loss: 19957141504.0000\n",
            "Epoch 4/200\n",
            "1/1 [==============================] - 0s 3ms/step - loss: 6407537664.0000\n",
            "Epoch 5/200\n",
            "1/1 [==============================] - 0s 3ms/step - loss: 2614709760.0000\n",
            "Epoch 6/200\n",
            "1/1 [==============================] - 0s 3ms/step - loss: 1553009792.0000\n",
            "Epoch 7/200\n",
            "1/1 [==============================] - 0s 3ms/step - loss: 1255815936.0000\n",
            "Epoch 8/200\n",
            "1/1 [==============================] - 0s 3ms/step - loss: 1172624512.0000\n",
            "Epoch 9/200\n",
            "1/1 [==============================] - 0s 3ms/step - loss: 1149336064.0000\n",
            "Epoch 10/200\n",
            "1/1 [==============================] - 0s 3ms/step - loss: 1142817024.0000\n",
            "Epoch 11/200\n",
            "1/1 [==============================] - 0s 3ms/step - loss: 1140991232.0000\n",
            "Epoch 12/200\n",
            "1/1 [==============================] - 0s 3ms/step - loss: 1140478976.0000\n",
            "Epoch 13/200\n",
            "1/1 [==============================] - 0s 3ms/step - loss: 1140334208.0000\n",
            "Epoch 14/200\n",
            "1/1 [==============================] - 0s 3ms/step - loss: 1140293248.0000\n",
            "Epoch 15/200\n",
            "1/1 [==============================] - 0s 3ms/step - loss: 1140280576.0000\n",
            "Epoch 16/200\n",
            "1/1 [==============================] - 0s 3ms/step - loss: 1140276608.0000\n",
            "Epoch 17/200\n",
            "1/1 [==============================] - 0s 3ms/step - loss: 1140274176.0000\n",
            "Epoch 18/200\n",
            "1/1 [==============================] - 0s 3ms/step - loss: 1140272384.0000\n",
            "Epoch 19/200\n",
            "1/1 [==============================] - 0s 3ms/step - loss: 1140271232.0000\n",
            "Epoch 20/200\n",
            "1/1 [==============================] - 0s 3ms/step - loss: 1140270208.0000\n",
            "Epoch 21/200\n",
            "1/1 [==============================] - 0s 2ms/step - loss: 1140268800.0000\n",
            "Epoch 22/200\n",
            "1/1 [==============================] - 0s 2ms/step - loss: 1140267776.0000\n",
            "Epoch 23/200\n",
            "1/1 [==============================] - 0s 3ms/step - loss: 1140266240.0000\n",
            "Epoch 24/200\n",
            "1/1 [==============================] - 0s 3ms/step - loss: 1140264704.0000\n",
            "Epoch 25/200\n",
            "1/1 [==============================] - 0s 2ms/step - loss: 1140263552.0000\n",
            "Epoch 26/200\n",
            "1/1 [==============================] - 0s 3ms/step - loss: 1140262144.0000\n",
            "Epoch 27/200\n",
            "1/1 [==============================] - 0s 3ms/step - loss: 1140261120.0000\n",
            "Epoch 28/200\n",
            "1/1 [==============================] - 0s 3ms/step - loss: 1140259840.0000\n",
            "Epoch 29/200\n",
            "1/1 [==============================] - 0s 2ms/step - loss: 1140258560.0000\n",
            "Epoch 30/200\n",
            "1/1 [==============================] - 0s 2ms/step - loss: 1140257280.0000\n",
            "Epoch 31/200\n",
            "1/1 [==============================] - 0s 2ms/step - loss: 1140256000.0000\n",
            "Epoch 32/200\n",
            "1/1 [==============================] - 0s 3ms/step - loss: 1140254464.0000\n",
            "Epoch 33/200\n",
            "1/1 [==============================] - 0s 3ms/step - loss: 1140253440.0000\n",
            "Epoch 34/200\n",
            "1/1 [==============================] - 0s 3ms/step - loss: 1140251904.0000\n",
            "Epoch 35/200\n",
            "1/1 [==============================] - 0s 5ms/step - loss: 1140250240.0000\n",
            "Epoch 36/200\n",
            "1/1 [==============================] - 0s 3ms/step - loss: 1140249472.0000\n",
            "Epoch 37/200\n",
            "1/1 [==============================] - 0s 3ms/step - loss: 1140247808.0000\n",
            "Epoch 38/200\n",
            "1/1 [==============================] - 0s 4ms/step - loss: 1140246784.0000\n",
            "Epoch 39/200\n",
            "1/1 [==============================] - 0s 4ms/step - loss: 1140245760.0000\n",
            "Epoch 40/200\n",
            "1/1 [==============================] - 0s 4ms/step - loss: 1140244224.0000\n",
            "Epoch 41/200\n",
            "1/1 [==============================] - 0s 3ms/step - loss: 1140243456.0000\n",
            "Epoch 42/200\n",
            "1/1 [==============================] - 0s 3ms/step - loss: 1140241536.0000\n",
            "Epoch 43/200\n",
            "1/1 [==============================] - 0s 3ms/step - loss: 1140240640.0000\n",
            "Epoch 44/200\n",
            "1/1 [==============================] - 0s 4ms/step - loss: 1140239360.0000\n",
            "Epoch 45/200\n",
            "1/1 [==============================] - 0s 3ms/step - loss: 1140237312.0000\n",
            "Epoch 46/200\n",
            "1/1 [==============================] - 0s 4ms/step - loss: 1140236672.0000\n",
            "Epoch 47/200\n",
            "1/1 [==============================] - 0s 3ms/step - loss: 1140234624.0000\n",
            "Epoch 48/200\n",
            "1/1 [==============================] - 0s 3ms/step - loss: 1140234368.0000\n",
            "Epoch 49/200\n",
            "1/1 [==============================] - 0s 3ms/step - loss: 1140232832.0000\n",
            "Epoch 50/200\n",
            "1/1 [==============================] - 0s 4ms/step - loss: 1140231552.0000\n",
            "Epoch 51/200\n",
            "1/1 [==============================] - 0s 3ms/step - loss: 1140230400.0000\n",
            "Epoch 52/200\n",
            "1/1 [==============================] - 0s 5ms/step - loss: 1140228992.0000\n",
            "Epoch 53/200\n",
            "1/1 [==============================] - 0s 3ms/step - loss: 1140227712.0000\n",
            "Epoch 54/200\n",
            "1/1 [==============================] - 0s 2ms/step - loss: 1140226432.0000\n",
            "Epoch 55/200\n",
            "1/1 [==============================] - 0s 3ms/step - loss: 1140224384.0000\n",
            "Epoch 56/200\n",
            "1/1 [==============================] - 0s 4ms/step - loss: 1140223744.0000\n",
            "Epoch 57/200\n",
            "1/1 [==============================] - 0s 3ms/step - loss: 1140221952.0000\n",
            "Epoch 58/200\n",
            "1/1 [==============================] - 0s 5ms/step - loss: 1140221184.0000\n",
            "Epoch 59/200\n",
            "1/1 [==============================] - 0s 4ms/step - loss: 1140220288.0000\n",
            "Epoch 60/200\n",
            "1/1 [==============================] - 0s 4ms/step - loss: 1140218368.0000\n",
            "Epoch 61/200\n",
            "1/1 [==============================] - 0s 3ms/step - loss: 1140217600.0000\n",
            "Epoch 62/200\n",
            "1/1 [==============================] - 0s 5ms/step - loss: 1140216064.0000\n",
            "Epoch 63/200\n",
            "1/1 [==============================] - 0s 4ms/step - loss: 1140215168.0000\n",
            "Epoch 64/200\n",
            "1/1 [==============================] - 0s 3ms/step - loss: 1140213376.0000\n",
            "Epoch 65/200\n",
            "1/1 [==============================] - 0s 3ms/step - loss: 1140211712.0000\n",
            "Epoch 66/200\n",
            "1/1 [==============================] - 0s 3ms/step - loss: 1140211328.0000\n",
            "Epoch 67/200\n",
            "1/1 [==============================] - 0s 3ms/step - loss: 1140208896.0000\n",
            "Epoch 68/200\n",
            "1/1 [==============================] - 0s 4ms/step - loss: 1140208512.0000\n",
            "Epoch 69/200\n",
            "1/1 [==============================] - 0s 3ms/step - loss: 1140207360.0000\n",
            "Epoch 70/200\n",
            "1/1 [==============================] - 0s 3ms/step - loss: 1140206080.0000\n",
            "Epoch 71/200\n",
            "1/1 [==============================] - 0s 2ms/step - loss: 1140204672.0000\n",
            "Epoch 72/200\n",
            "1/1 [==============================] - 0s 3ms/step - loss: 1140203264.0000\n",
            "Epoch 73/200\n",
            "1/1 [==============================] - 0s 3ms/step - loss: 1140202496.0000\n",
            "Epoch 74/200\n",
            "1/1 [==============================] - 0s 4ms/step - loss: 1140200832.0000\n",
            "Epoch 75/200\n",
            "1/1 [==============================] - 0s 4ms/step - loss: 1140199040.0000\n",
            "Epoch 76/200\n",
            "1/1 [==============================] - 0s 3ms/step - loss: 1140198144.0000\n",
            "Epoch 77/200\n",
            "1/1 [==============================] - 0s 4ms/step - loss: 1140196480.0000\n",
            "Epoch 78/200\n",
            "1/1 [==============================] - 0s 3ms/step - loss: 1140195584.0000\n",
            "Epoch 79/200\n",
            "1/1 [==============================] - 0s 5ms/step - loss: 1140194688.0000\n",
            "Epoch 80/200\n",
            "1/1 [==============================] - 0s 2ms/step - loss: 1140193024.0000\n",
            "Epoch 81/200\n",
            "1/1 [==============================] - 0s 6ms/step - loss: 1140192000.0000\n",
            "Epoch 82/200\n",
            "1/1 [==============================] - 0s 4ms/step - loss: 1140190592.0000\n",
            "Epoch 83/200\n",
            "1/1 [==============================] - 0s 4ms/step - loss: 1140189440.0000\n",
            "Epoch 84/200\n",
            "1/1 [==============================] - 0s 5ms/step - loss: 1140188288.0000\n",
            "Epoch 85/200\n",
            "1/1 [==============================] - 0s 3ms/step - loss: 1140185984.0000\n",
            "Epoch 86/200\n",
            "1/1 [==============================] - 0s 3ms/step - loss: 1140185472.0000\n",
            "Epoch 87/200\n",
            "1/1 [==============================] - 0s 4ms/step - loss: 1140183424.0000\n",
            "Epoch 88/200\n",
            "1/1 [==============================] - 0s 3ms/step - loss: 1140182784.0000\n",
            "Epoch 89/200\n",
            "1/1 [==============================] - 0s 4ms/step - loss: 1140182272.0000\n",
            "Epoch 90/200\n",
            "1/1 [==============================] - 0s 4ms/step - loss: 1140180352.0000\n",
            "Epoch 91/200\n",
            "1/1 [==============================] - 0s 3ms/step - loss: 1140179584.0000\n",
            "Epoch 92/200\n",
            "1/1 [==============================] - 0s 4ms/step - loss: 1140177664.0000\n",
            "Epoch 93/200\n",
            "1/1 [==============================] - 0s 3ms/step - loss: 1140176384.0000\n",
            "Epoch 94/200\n",
            "1/1 [==============================] - 0s 3ms/step - loss: 1140175104.0000\n",
            "Epoch 95/200\n",
            "1/1 [==============================] - 0s 3ms/step - loss: 1140173184.0000\n",
            "Epoch 96/200\n",
            "1/1 [==============================] - 0s 3ms/step - loss: 1140172800.0000\n",
            "Epoch 97/200\n",
            "1/1 [==============================] - 0s 3ms/step - loss: 1140170880.0000\n",
            "Epoch 98/200\n",
            "1/1 [==============================] - 0s 4ms/step - loss: 1140170368.0000\n",
            "Epoch 99/200\n",
            "1/1 [==============================] - 0s 3ms/step - loss: 1140168960.0000\n",
            "Epoch 100/200\n",
            "1/1 [==============================] - 0s 4ms/step - loss: 1140167680.0000\n",
            "Epoch 101/200\n",
            "1/1 [==============================] - 0s 3ms/step - loss: 1140167168.0000\n",
            "Epoch 102/200\n",
            "1/1 [==============================] - 0s 3ms/step - loss: 1140164864.0000\n",
            "Epoch 103/200\n",
            "1/1 [==============================] - 0s 3ms/step - loss: 1140163968.0000\n",
            "Epoch 104/200\n",
            "1/1 [==============================] - 0s 3ms/step - loss: 1140162560.0000\n",
            "Epoch 105/200\n",
            "1/1 [==============================] - 0s 4ms/step - loss: 1140160768.0000\n",
            "Epoch 106/200\n",
            "1/1 [==============================] - 0s 3ms/step - loss: 1140159744.0000\n",
            "Epoch 107/200\n",
            "1/1 [==============================] - 0s 4ms/step - loss: 1140158592.0000\n",
            "Epoch 108/200\n",
            "1/1 [==============================] - 0s 4ms/step - loss: 1140157696.0000\n",
            "Epoch 109/200\n",
            "1/1 [==============================] - 0s 4ms/step - loss: 1140156160.0000\n",
            "Epoch 110/200\n",
            "1/1 [==============================] - 0s 4ms/step - loss: 1140155008.0000\n",
            "Epoch 111/200\n",
            "1/1 [==============================] - 0s 3ms/step - loss: 1140154112.0000\n",
            "Epoch 112/200\n",
            "1/1 [==============================] - 0s 5ms/step - loss: 1140152192.0000\n",
            "Epoch 113/200\n",
            "1/1 [==============================] - 0s 4ms/step - loss: 1140151040.0000\n",
            "Epoch 114/200\n",
            "1/1 [==============================] - 0s 3ms/step - loss: 1140149888.0000\n",
            "Epoch 115/200\n",
            "1/1 [==============================] - 0s 6ms/step - loss: 1140148480.0000\n",
            "Epoch 116/200\n",
            "1/1 [==============================] - 0s 3ms/step - loss: 1140147200.0000\n",
            "Epoch 117/200\n",
            "1/1 [==============================] - 0s 3ms/step - loss: 1140145792.0000\n",
            "Epoch 118/200\n",
            "1/1 [==============================] - 0s 3ms/step - loss: 1140144896.0000\n",
            "Epoch 119/200\n",
            "1/1 [==============================] - 0s 3ms/step - loss: 1140143872.0000\n",
            "Epoch 120/200\n",
            "1/1 [==============================] - 0s 3ms/step - loss: 1140142208.0000\n",
            "Epoch 121/200\n",
            "1/1 [==============================] - 0s 4ms/step - loss: 1140141440.0000\n",
            "Epoch 122/200\n",
            "1/1 [==============================] - 0s 4ms/step - loss: 1140139776.0000\n",
            "Epoch 123/200\n",
            "1/1 [==============================] - 0s 4ms/step - loss: 1140138624.0000\n",
            "Epoch 124/200\n",
            "1/1 [==============================] - 0s 4ms/step - loss: 1140137216.0000\n",
            "Epoch 125/200\n",
            "1/1 [==============================] - 0s 3ms/step - loss: 1140135808.0000\n",
            "Epoch 126/200\n",
            "1/1 [==============================] - 0s 3ms/step - loss: 1140134400.0000\n",
            "Epoch 127/200\n",
            "1/1 [==============================] - 0s 5ms/step - loss: 1140133120.0000\n",
            "Epoch 128/200\n",
            "1/1 [==============================] - 0s 4ms/step - loss: 1140132096.0000\n",
            "Epoch 129/200\n",
            "1/1 [==============================] - 0s 4ms/step - loss: 1140131200.0000\n",
            "Epoch 130/200\n",
            "1/1 [==============================] - 0s 3ms/step - loss: 1140129536.0000\n",
            "Epoch 131/200\n",
            "1/1 [==============================] - 0s 4ms/step - loss: 1140128896.0000\n",
            "Epoch 132/200\n",
            "1/1 [==============================] - 0s 3ms/step - loss: 1140126976.0000\n",
            "Epoch 133/200\n",
            "1/1 [==============================] - 0s 5ms/step - loss: 1140125696.0000\n",
            "Epoch 134/200\n",
            "1/1 [==============================] - 0s 4ms/step - loss: 1140124416.0000\n",
            "Epoch 135/200\n",
            "1/1 [==============================] - 0s 4ms/step - loss: 1140123008.0000\n",
            "Epoch 136/200\n",
            "1/1 [==============================] - 0s 5ms/step - loss: 1140121728.0000\n",
            "Epoch 137/200\n",
            "1/1 [==============================] - 0s 6ms/step - loss: 1140120448.0000\n",
            "Epoch 138/200\n",
            "1/1 [==============================] - 0s 4ms/step - loss: 1140119552.0000\n",
            "Epoch 139/200\n",
            "1/1 [==============================] - 0s 3ms/step - loss: 1140118528.0000\n",
            "Epoch 140/200\n",
            "1/1 [==============================] - 0s 3ms/step - loss: 1140116736.0000\n",
            "Epoch 141/200\n",
            "1/1 [==============================] - 0s 4ms/step - loss: 1140116352.0000\n",
            "Epoch 142/200\n",
            "1/1 [==============================] - 0s 4ms/step - loss: 1140114304.0000\n",
            "Epoch 143/200\n",
            "1/1 [==============================] - 0s 3ms/step - loss: 1140112896.0000\n",
            "Epoch 144/200\n",
            "1/1 [==============================] - 0s 4ms/step - loss: 1140111232.0000\n",
            "Epoch 145/200\n",
            "1/1 [==============================] - 0s 4ms/step - loss: 1140110464.0000\n",
            "Epoch 146/200\n",
            "1/1 [==============================] - 0s 4ms/step - loss: 1140109184.0000\n",
            "Epoch 147/200\n",
            "1/1 [==============================] - 0s 4ms/step - loss: 1140107904.0000\n",
            "Epoch 148/200\n",
            "1/1 [==============================] - 0s 3ms/step - loss: 1140106880.0000\n",
            "Epoch 149/200\n",
            "1/1 [==============================] - 0s 4ms/step - loss: 1140104960.0000\n",
            "Epoch 150/200\n",
            "1/1 [==============================] - 0s 4ms/step - loss: 1140104576.0000\n",
            "Epoch 151/200\n",
            "1/1 [==============================] - 0s 4ms/step - loss: 1140103552.0000\n",
            "Epoch 152/200\n",
            "1/1 [==============================] - 0s 5ms/step - loss: 1140101248.0000\n",
            "Epoch 153/200\n",
            "1/1 [==============================] - 0s 4ms/step - loss: 1140100224.0000\n",
            "Epoch 154/200\n",
            "1/1 [==============================] - 0s 4ms/step - loss: 1140098688.0000\n",
            "Epoch 155/200\n",
            "1/1 [==============================] - 0s 4ms/step - loss: 1140097792.0000\n",
            "Epoch 156/200\n",
            "1/1 [==============================] - 0s 4ms/step - loss: 1140096768.0000\n",
            "Epoch 157/200\n",
            "1/1 [==============================] - 0s 3ms/step - loss: 1140095104.0000\n",
            "Epoch 158/200\n",
            "1/1 [==============================] - 0s 4ms/step - loss: 1140094720.0000\n",
            "Epoch 159/200\n",
            "1/1 [==============================] - 0s 3ms/step - loss: 1140092288.0000\n",
            "Epoch 160/200\n",
            "1/1 [==============================] - 0s 4ms/step - loss: 1140091904.0000\n",
            "Epoch 161/200\n",
            "1/1 [==============================] - 0s 4ms/step - loss: 1140091136.0000\n",
            "Epoch 162/200\n",
            "1/1 [==============================] - 0s 3ms/step - loss: 1140088576.0000\n",
            "Epoch 163/200\n",
            "1/1 [==============================] - 0s 5ms/step - loss: 1140087552.0000\n",
            "Epoch 164/200\n",
            "1/1 [==============================] - 0s 4ms/step - loss: 1140086400.0000\n",
            "Epoch 165/200\n",
            "1/1 [==============================] - 0s 4ms/step - loss: 1140084864.0000\n",
            "Epoch 166/200\n",
            "1/1 [==============================] - 0s 4ms/step - loss: 1140084480.0000\n",
            "Epoch 167/200\n",
            "1/1 [==============================] - 0s 4ms/step - loss: 1140082944.0000\n",
            "Epoch 168/200\n",
            "1/1 [==============================] - 0s 3ms/step - loss: 1140081792.0000\n",
            "Epoch 169/200\n",
            "1/1 [==============================] - 0s 4ms/step - loss: 1140079872.0000\n",
            "Epoch 170/200\n",
            "1/1 [==============================] - 0s 4ms/step - loss: 1140079232.0000\n",
            "Epoch 171/200\n",
            "1/1 [==============================] - 0s 4ms/step - loss: 1140077824.0000\n",
            "Epoch 172/200\n",
            "1/1 [==============================] - 0s 3ms/step - loss: 1140076160.0000\n",
            "Epoch 173/200\n",
            "1/1 [==============================] - 0s 3ms/step - loss: 1140075520.0000\n",
            "Epoch 174/200\n",
            "1/1 [==============================] - 0s 4ms/step - loss: 1140073600.0000\n",
            "Epoch 175/200\n",
            "1/1 [==============================] - 0s 4ms/step - loss: 1140072192.0000\n",
            "Epoch 176/200\n",
            "1/1 [==============================] - 0s 4ms/step - loss: 1140071936.0000\n",
            "Epoch 177/200\n",
            "1/1 [==============================] - 0s 4ms/step - loss: 1140070528.0000\n",
            "Epoch 178/200\n",
            "1/1 [==============================] - 0s 3ms/step - loss: 1140068992.0000\n",
            "Epoch 179/200\n",
            "1/1 [==============================] - 0s 3ms/step - loss: 1140067072.0000\n",
            "Epoch 180/200\n",
            "1/1 [==============================] - 0s 4ms/step - loss: 1140066048.0000\n",
            "Epoch 181/200\n",
            "1/1 [==============================] - 0s 5ms/step - loss: 1140064896.0000\n",
            "Epoch 182/200\n",
            "1/1 [==============================] - 0s 4ms/step - loss: 1140063488.0000\n",
            "Epoch 183/200\n",
            "1/1 [==============================] - 0s 4ms/step - loss: 1140062720.0000\n",
            "Epoch 184/200\n",
            "1/1 [==============================] - 0s 4ms/step - loss: 1140060672.0000\n",
            "Epoch 185/200\n",
            "1/1 [==============================] - 0s 4ms/step - loss: 1140060160.0000\n",
            "Epoch 186/200\n",
            "1/1 [==============================] - 0s 3ms/step - loss: 1140058240.0000\n",
            "Epoch 187/200\n",
            "1/1 [==============================] - 0s 3ms/step - loss: 1140057728.0000\n",
            "Epoch 188/200\n",
            "1/1 [==============================] - 0s 4ms/step - loss: 1140056832.0000\n",
            "Epoch 189/200\n",
            "1/1 [==============================] - 0s 4ms/step - loss: 1140054272.0000\n",
            "Epoch 190/200\n",
            "1/1 [==============================] - 0s 4ms/step - loss: 1140053376.0000\n",
            "Epoch 191/200\n",
            "1/1 [==============================] - 0s 3ms/step - loss: 1140052736.0000\n",
            "Epoch 192/200\n",
            "1/1 [==============================] - 0s 4ms/step - loss: 1140050688.0000\n",
            "Epoch 193/200\n",
            "1/1 [==============================] - 0s 4ms/step - loss: 1140050304.0000\n",
            "Epoch 194/200\n",
            "1/1 [==============================] - 0s 4ms/step - loss: 1140048000.0000\n",
            "Epoch 195/200\n",
            "1/1 [==============================] - 0s 4ms/step - loss: 1140047488.0000\n",
            "Epoch 196/200\n",
            "1/1 [==============================] - 0s 3ms/step - loss: 1140045952.0000\n",
            "Epoch 197/200\n",
            "1/1 [==============================] - 0s 3ms/step - loss: 1140044928.0000\n",
            "Epoch 198/200\n",
            "1/1 [==============================] - 0s 3ms/step - loss: 1140043904.0000\n",
            "Epoch 199/200\n",
            "1/1 [==============================] - 0s 3ms/step - loss: 1140041984.0000\n",
            "Epoch 200/200\n",
            "1/1 [==============================] - 0s 4ms/step - loss: 1140040448.0000\n",
            "Weights= [[10096.798]] \n",
            "biases= [247.6877]\n"
          ]
        }
      ],
      "source": [
        "\n",
        "model = Sequential()\n",
        "model.add(Dense(1,input_shape=(1,))) #加入神經層第一層(1維)輸出1維(因為資料和輸出都是一維的)\n",
        "# sgd = optimizers.SGD(lr=0.0001)\n",
        "# sgd = optimizers.gradient_descent_v2.SGD(lr=0.0001, decay=1e-6, momentum=0.9, nesterov=True)\n",
        "sgd = optimizers.gradient_descent_v2.SGD(lr=0.0001)\n",
        "\n",
        "#sgd是隨機梯度下降法，括號內學習率寫0.0001(資料比較少，過大的學習率會無法找到最佳解)\n",
        "model.compile(loss = 'mse',optimizer = sgd) #設定model的loss和優化器(分別是MSE和SGD)\n",
        "\n",
        "model.fit(x_data,y_data,epochs = 200) #1.x資料(坪數)2.y標籤(房價)3.epcohs是指疊代200次\n",
        "pred = model.predict(x_data) #訓練好model使用predict預測看看在訓練的model跑的回歸線\n",
        "W, b = model.layers[0].get_weights() #抓出全重和偏差\n",
        "print('Weights=', W, '\\nbiases=', b)\n",
        "\n"
      ]
    },
    {
      "cell_type": "code",
      "execution_count": null,
      "metadata": {
        "execution": {
          "iopub.execute_input": "2023-02-05T14:09:38.641187Z",
          "iopub.status.busy": "2023-02-05T14:09:38.640699Z",
          "iopub.status.idle": "2023-02-05T14:09:38.904571Z",
          "shell.execute_reply": "2023-02-05T14:09:38.902808Z",
          "shell.execute_reply.started": "2023-02-05T14:09:38.641150Z"
        },
        "id": "p-nVUKT1EUvB",
        "outputId": "55120a23-3d3b-4d52-9d3d-882afb0aa3f6"
      },
      "outputs": [
        {
          "data": {
            "text/plain": [
              "[<matplotlib.lines.Line2D at 0x7fea4ea96710>]"
            ]
          },
          "execution_count": 13,
          "metadata": {},
          "output_type": "execute_result"
        },
        {
          "data": {
            "image/png": "[encoded data removed]",
            "text/plain": [
              "<Figure size 432x288 with 1 Axes>"
            ]
          },
          "metadata": {
            "needs_background": "light"
          },
          "output_type": "display_data"
        }
      ],
      "source": [
        "plt.plot(x_data,pred) #畫出回歸線\n",
        "plt.plot(x_data, y_data, 'o') #畫出原本的點"
      ]
    },
    {
      "cell_type": "markdown",
      "metadata": {
        "id": "JWyYmcWDEUvB"
      },
      "source": [
        "# <font color=\"red\">Keras 手寫辨識 MNIST</font>\n",
        "https://medium.com/bryanyang0528/deep-learning-keras-mnist-b41757567684"
      ]
    },
    {
      "cell_type": "code",
      "execution_count": null,
      "metadata": {
        "id": "BAMhJ6k9EUvB"
      },
      "outputs": [],
      "source": [
        "# 展示\n",
        "# from tensorflow.python.client import device_lib\n",
        "# print(device_lib.list_local_devices())"
      ]
    },
    {
      "cell_type": "code",
      "execution_count": null,
      "metadata": {
        "execution": {
          "iopub.execute_input": "2023-02-07T14:26:44.625253Z",
          "iopub.status.busy": "2023-02-07T14:26:44.624157Z",
          "iopub.status.idle": "2023-02-07T14:26:50.246394Z",
          "shell.execute_reply": "2023-02-07T14:26:50.245403Z",
          "shell.execute_reply.started": "2023-02-07T14:26:44.624623Z"
        },
        "id": "RbweZsmQEUvB"
      },
      "outputs": [],
      "source": [
        "import keras\n",
        "from keras.datasets import mnist\n",
        "from keras.models import Sequential\n",
        "from keras.layers import Dense, Dropout, LeakyReLU, Conv2D, ReLU\n",
        "# from keras.optimizers import RMSprop (錯誤)\n",
        "from tensorflow.keras.optimizers import RMSprop\n",
        "\n",
        "from matplotlib.pyplot import imshow\n",
        "import numpy as np"
      ]
    },
    {
      "cell_type": "code",
      "execution_count": null,
      "metadata": {
        "execution": {
          "iopub.execute_input": "2023-02-07T06:42:13.518335Z",
          "iopub.status.busy": "2023-02-07T06:42:13.517552Z",
          "iopub.status.idle": "2023-02-07T06:42:13.923900Z",
          "shell.execute_reply": "2023-02-07T06:42:13.921310Z",
          "shell.execute_reply.started": "2023-02-07T06:42:13.518268Z"
        },
        "id": "Xczs4gYfEUvB",
        "outputId": "9de835fa-be0c-4da2-97cc-2f2e9a5de487"
      },
      "outputs": [
        {
          "ename": "AttributeError",
          "evalue": "module 'tensorflow.keras.backend' has no attribute 'tensorflow_backend'",
          "output_type": "error",
          "traceback": [
            "\u001b[0;31m---------------------------------------------------------------------------\u001b[0m",
            "\u001b[0;31mAttributeError\u001b[0m                            Traceback (most recent call last)",
            "\u001b[0;32m/tmp/ipykernel_24/2656365508.py\u001b[0m in \u001b[0;36m<module>\u001b[0;34m\u001b[0m\n\u001b[1;32m      1\u001b[0m \u001b[0;31m# from keras import backend as K\u001b[0m\u001b[0;34m\u001b[0m\u001b[0;34m\u001b[0m\u001b[0;34m\u001b[0m\u001b[0m\n\u001b[1;32m      2\u001b[0m \u001b[0;32mimport\u001b[0m \u001b[0mtensorflow\u001b[0m\u001b[0;34m.\u001b[0m\u001b[0mkeras\u001b[0m\u001b[0;34m.\u001b[0m\u001b[0mbackend\u001b[0m \u001b[0;32mas\u001b[0m \u001b[0mK\u001b[0m\u001b[0;34m\u001b[0m\u001b[0;34m\u001b[0m\u001b[0m\n\u001b[0;32m----> 3\u001b[0;31m \u001b[0mK\u001b[0m\u001b[0;34m.\u001b[0m\u001b[0mtensorflow_backend\u001b[0m\u001b[0;34m.\u001b[0m\u001b[0m_get_available_gpus\u001b[0m\u001b[0;34m(\u001b[0m\u001b[0;34m)\u001b[0m\u001b[0;34m\u001b[0m\u001b[0;34m\u001b[0m\u001b[0m\n\u001b[0m",
            "\u001b[0;31mAttributeError\u001b[0m: module 'tensorflow.keras.backend' has no attribute 'tensorflow_backend'"
          ]
        }
      ],
      "source": [
        "# 只能在 Tensorflow 1.X 運行\n",
        "from keras import backend as K # 或 import tensorflow.keras.backend as K\n",
        "K.tensorflow_backend._get_available_gpus()"
      ]
    },
    {
      "cell_type": "markdown",
      "metadata": {
        "id": "94Dby73OEUvC"
      },
      "source": [
        "#### 參考\n",
        "https://stackoverflow.com/questions/63049620/module-keras-backend-has-no-attribute-tensorflow-backend"
      ]
    },
    {
      "cell_type": "code",
      "execution_count": null,
      "metadata": {
        "execution": {
          "iopub.execute_input": "2023-02-07T07:19:14.299764Z",
          "iopub.status.busy": "2023-02-07T07:19:14.299387Z",
          "iopub.status.idle": "2023-02-07T07:19:14.306202Z",
          "shell.execute_reply": "2023-02-07T07:19:14.305085Z",
          "shell.execute_reply.started": "2023-02-07T07:19:14.299731Z"
        },
        "id": "rw5m7HCoEUvC",
        "outputId": "4c00c580-83d9-4410-b9c7-89b575839821"
      },
      "outputs": [
        {
          "data": {
            "text/plain": [
              "[PhysicalDevice(name='/physical_device:GPU:0', device_type='GPU'),\n",
              " PhysicalDevice(name='/physical_device:GPU:1', device_type='GPU')]"
            ]
          },
          "execution_count": 5,
          "metadata": {},
          "output_type": "execute_result"
        }
      ],
      "source": [
        "#\n",
        "# import tensorflow as tf\n",
        "# tf.config.list_physical_devices('GPU')"
      ]
    },
    {
      "cell_type": "code",
      "execution_count": null,
      "metadata": {
        "execution": {
          "iopub.execute_input": "2023-02-07T07:22:34.638623Z",
          "iopub.status.busy": "2023-02-07T07:22:34.637563Z",
          "iopub.status.idle": "2023-02-07T07:22:34.647291Z",
          "shell.execute_reply": "2023-02-07T07:22:34.644624Z",
          "shell.execute_reply.started": "2023-02-07T07:22:34.638577Z"
        },
        "id": "8-Idb70lEUvC",
        "outputId": "9f6caf21-a477-44d2-b111-596357550be9"
      },
      "outputs": [
        {
          "data": {
            "text/plain": [
              "<function tensorflow.python.platform.test.is_built_with_cuda()>"
            ]
          },
          "execution_count": 6,
          "metadata": {},
          "output_type": "execute_result"
        }
      ],
      "source": [
        "#\n",
        "# tf.test.is_built_with_cuda"
      ]
    },
    {
      "cell_type": "code",
      "execution_count": null,
      "metadata": {
        "execution": {
          "iopub.execute_input": "2023-02-07T14:26:52.525230Z",
          "iopub.status.busy": "2023-02-07T14:26:52.524019Z",
          "iopub.status.idle": "2023-02-07T14:26:52.900328Z",
          "shell.execute_reply": "2023-02-07T14:26:52.899345Z",
          "shell.execute_reply.started": "2023-02-07T14:26:52.525191Z"
        },
        "id": "LcxSQt9oEUvC",
        "outputId": "5b8f4a01-c632-4e24-ce54-a741c5aa54c1"
      },
      "outputs": [
        {
          "name": "stdout",
          "output_type": "stream",
          "text": [
            "Downloading data from https://storage.googleapis.com/tensorflow/tf-keras-datasets/mnist.npz\n",
            "11493376/11490434 [==============================] - 0s 0us/step\n",
            "11501568/11490434 [==============================] - 0s 0us/step\n"
          ]
        }
      ],
      "source": [
        "# the data, shuffled and split between train and test sets\n",
        "(x_train, y_train), (x_test, y_test) = mnist.load_data()"
      ]
    },
    {
      "cell_type": "code",
      "execution_count": null,
      "metadata": {
        "execution": {
          "iopub.execute_input": "2023-02-07T14:26:56.725648Z",
          "iopub.status.busy": "2023-02-07T14:26:56.725290Z",
          "iopub.status.idle": "2023-02-07T14:26:56.806229Z",
          "shell.execute_reply": "2023-02-07T14:26:56.805145Z",
          "shell.execute_reply.started": "2023-02-07T14:26:56.725615Z"
        },
        "id": "wMnsxB1LEUvD",
        "outputId": "c7133b35-363f-423f-f74f-c3c4268c2f04"
      },
      "outputs": [
        {
          "name": "stdout",
          "output_type": "stream",
          "text": [
            "60000 train samples\n",
            "10000 test samples\n"
          ]
        }
      ],
      "source": [
        "x_train = x_train.reshape(60000, 784)\n",
        "x_test = x_test.reshape(10000, 784)\n",
        "x_train = x_train.astype('float32')\n",
        "x_test = x_test.astype('float32')\n",
        "x_train /= 255\n",
        "x_test /= 255\n",
        "print(x_train.shape[0], 'train samples')\n",
        "print(x_test.shape[0], 'test samples')"
      ]
    },
    {
      "cell_type": "code",
      "execution_count": null,
      "metadata": {
        "execution": {
          "iopub.execute_input": "2023-02-07T08:20:06.868240Z",
          "iopub.status.busy": "2023-02-07T08:20:06.867886Z",
          "iopub.status.idle": "2023-02-07T08:20:06.874633Z",
          "shell.execute_reply": "2023-02-07T08:20:06.873567Z",
          "shell.execute_reply.started": "2023-02-07T08:20:06.868209Z"
        },
        "id": "REd_EwGQEUvD",
        "outputId": "6818fed0-f390-42a1-ddd5-38d0ad48c319"
      },
      "outputs": [
        {
          "data": {
            "text/plain": [
              "numpy.ndarray"
            ]
          },
          "execution_count": 11,
          "metadata": {},
          "output_type": "execute_result"
        }
      ],
      "source": [
        "# type(x_train)"
      ]
    },
    {
      "cell_type": "code",
      "execution_count": null,
      "metadata": {
        "execution": {
          "iopub.execute_input": "2023-02-07T14:27:02.507252Z",
          "iopub.status.busy": "2023-02-07T14:27:02.506911Z",
          "iopub.status.idle": "2023-02-07T14:27:02.516746Z",
          "shell.execute_reply": "2023-02-07T14:27:02.515543Z",
          "shell.execute_reply.started": "2023-02-07T14:27:02.507223Z"
        },
        "id": "zT0qoL11EUvD"
      },
      "outputs": [],
      "source": [
        "# convert class vectors to binary class matrices 十進制轉one-hot code\n",
        "# y_train_c = keras.utils.to_categorical(y_train, num_classes) # 新版tensorflow不能用了\n",
        "# y_test_c = keras.utils.to_categorical(y_test, num_classes)   # 新版tensorflow不能用了\n",
        "\n",
        "y_train_c = keras.utils.np_utils.to_categorical(y_train, num_classes=10)\n",
        "y_test_c = keras.utils.np_utils.to_categorical(y_test, num_classes=10)"
      ]
    },
    {
      "cell_type": "code",
      "execution_count": null,
      "metadata": {
        "execution": {
          "iopub.execute_input": "2023-02-07T14:04:20.128327Z",
          "iopub.status.busy": "2023-02-07T14:04:20.127942Z",
          "iopub.status.idle": "2023-02-07T14:04:20.363551Z",
          "shell.execute_reply": "2023-02-07T14:04:20.362535Z",
          "shell.execute_reply.started": "2023-02-07T14:04:20.128295Z"
        },
        "id": "McIs6VipEUvD",
        "outputId": "75c82c54-bdac-4990-ee45-2afff7fed329"
      },
      "outputs": [
        {
          "data": {
            "text/plain": [
              "<matplotlib.image.AxesImage at 0x7f9c973569d0>"
            ]
          },
          "execution_count": 6,
          "metadata": {},
          "output_type": "execute_result"
        },
        {
          "data": {
            "image/png": "[encoded data removed]",
            "text/plain": [
              "<Figure size 432x288 with 1 Axes>"
            ]
          },
          "metadata": {
            "needs_background": "light"
          },
          "output_type": "display_data"
        }
      ],
      "source": [
        "# 展示用\n",
        "x_sample_0 = x_train[0].reshape(28,28)\n",
        "imshow(x_sample_0, cmap='gray')"
      ]
    },
    {
      "cell_type": "code",
      "execution_count": null,
      "metadata": {
        "execution": {
          "iopub.execute_input": "2023-02-07T14:27:08.449284Z",
          "iopub.status.busy": "2023-02-07T14:27:08.448923Z",
          "iopub.status.idle": "2023-02-07T14:27:08.453824Z",
          "shell.execute_reply": "2023-02-07T14:27:08.452669Z",
          "shell.execute_reply.started": "2023-02-07T14:27:08.449253Z"
        },
        "id": "eOOuMQJEEUvE"
      },
      "outputs": [],
      "source": [
        "# 避免 \"so returning NUMA node zero\" 解決辦法\n",
        "import os\n",
        "os.environ['TF_CPP_MIN_LOG_LEVEL'] = '2'"
      ]
    },
    {
      "cell_type": "code",
      "execution_count": null,
      "metadata": {
        "execution": {
          "iopub.execute_input": "2023-02-07T14:27:21.954087Z",
          "iopub.status.busy": "2023-02-07T14:27:21.953729Z",
          "iopub.status.idle": "2023-02-07T14:27:25.874462Z",
          "shell.execute_reply": "2023-02-07T14:27:25.873486Z",
          "shell.execute_reply.started": "2023-02-07T14:27:21.954056Z"
        },
        "id": "PvWkU-cnEUvE",
        "outputId": "556a790e-7554-45ac-9a17-4f00c16499d1"
      },
      "outputs": [
        {
          "name": "stdout",
          "output_type": "stream",
          "text": [
            "Model: \"sequential\"\n",
            "_________________________________________________________________\n",
            "Layer (type)                 Output Shape              Param #   \n",
            "=================================================================\n",
            "dense (Dense)                (None, 20)                15700     \n",
            "_________________________________________________________________\n",
            "dense_1 (Dense)              (None, 20)                420       \n",
            "_________________________________________________________________\n",
            "dense_2 (Dense)              (None, 10)                210       \n",
            "=================================================================\n",
            "Total params: 16,330\n",
            "Trainable params: 16,330\n",
            "Non-trainable params: 0\n",
            "_________________________________________________________________\n"
          ]
        }
      ],
      "source": [
        "model = Sequential()\n",
        "model.add(Dense(20, activation=LeakyReLU(), input_shape=(784,)))\n",
        "model.add(Dense(20, activation=LeakyReLU()))\n",
        "model.add(Dense(10, activation='softmax'))\n",
        "\n",
        "model.summary()"
      ]
    },
    {
      "cell_type": "code",
      "execution_count": null,
      "metadata": {
        "execution": {
          "iopub.execute_input": "2023-02-07T14:27:37.438870Z",
          "iopub.status.busy": "2023-02-07T14:27:37.438281Z",
          "iopub.status.idle": "2023-02-07T14:27:37.454265Z",
          "shell.execute_reply": "2023-02-07T14:27:37.453333Z",
          "shell.execute_reply.started": "2023-02-07T14:27:37.438797Z"
        },
        "id": "Qli4A5QoEUvE"
      },
      "outputs": [],
      "source": [
        "model.compile(loss='categorical_crossentropy',\n",
        "              optimizer=RMSprop(),\n",
        "              metrics=['accuracy'])"
      ]
    },
    {
      "cell_type": "code",
      "execution_count": null,
      "metadata": {
        "execution": {
          "iopub.execute_input": "2023-02-07T14:27:46.232202Z",
          "iopub.status.busy": "2023-02-07T14:27:46.231847Z",
          "iopub.status.idle": "2023-02-07T14:28:07.764042Z",
          "shell.execute_reply": "2023-02-07T14:28:07.763035Z",
          "shell.execute_reply.started": "2023-02-07T14:27:46.232172Z"
        },
        "id": "RnI75tuKEUvE",
        "outputId": "1c3b1d93-3b6d-4c6b-cbe4-7caa891a41d5"
      },
      "outputs": [
        {
          "name": "stdout",
          "output_type": "stream",
          "text": [
            "Epoch 1/10\n",
            "469/469 [==============================] - 4s 3ms/step - loss: 0.5550 - accuracy: 0.8478 - val_loss: 0.3010 - val_accuracy: 0.9130\n",
            "Epoch 2/10\n",
            "469/469 [==============================] - 1s 3ms/step - loss: 0.2810 - accuracy: 0.9195 - val_loss: 0.2583 - val_accuracy: 0.9263\n",
            "Epoch 3/10\n",
            "469/469 [==============================] - 1s 3ms/step - loss: 0.2466 - accuracy: 0.9290 - val_loss: 0.2286 - val_accuracy: 0.9333\n",
            "Epoch 4/10\n",
            "469/469 [==============================] - 1s 3ms/step - loss: 0.2252 - accuracy: 0.9359 - val_loss: 0.2275 - val_accuracy: 0.9312\n",
            "Epoch 5/10\n",
            "469/469 [==============================] - 1s 3ms/step - loss: 0.2085 - accuracy: 0.9409 - val_loss: 0.2106 - val_accuracy: 0.9391\n",
            "Epoch 6/10\n",
            "469/469 [==============================] - 1s 3ms/step - loss: 0.1943 - accuracy: 0.9452 - val_loss: 0.2034 - val_accuracy: 0.9394\n",
            "Epoch 7/10\n",
            "469/469 [==============================] - 1s 3ms/step - loss: 0.1822 - accuracy: 0.9479 - val_loss: 0.1864 - val_accuracy: 0.9459\n",
            "Epoch 8/10\n",
            "469/469 [==============================] - 2s 3ms/step - loss: 0.1718 - accuracy: 0.9510 - val_loss: 0.1851 - val_accuracy: 0.9438\n",
            "Epoch 9/10\n",
            "469/469 [==============================] - 1s 3ms/step - loss: 0.1630 - accuracy: 0.9535 - val_loss: 0.1770 - val_accuracy: 0.9484\n",
            "Epoch 10/10\n",
            "469/469 [==============================] - 1s 3ms/step - loss: 0.1552 - accuracy: 0.9553 - val_loss: 0.1663 - val_accuracy: 0.9503\n"
          ]
        }
      ],
      "source": [
        "# y_train與y_test 改成了 y_train_c與y_test_c\n",
        "batch_size = 128\n",
        "num_classes = 10\n",
        "epochs = 10\n",
        "history = model.fit(x_train, y_train_c,\n",
        "                    batch_size=batch_size,\n",
        "                    epochs=epochs,\n",
        "                    verbose=1,\n",
        "                    validation_data=(x_test, y_test_c))"
      ]
    },
    {
      "cell_type": "markdown",
      "metadata": {
        "id": "Vngu2NPZEUvE"
      },
      "source": [
        "# <font color=\"red\">Keras自我練習</font>\n",
        "用Keras實做之前Pytorch實做的版本"
      ]
    },
    {
      "cell_type": "code",
      "execution_count": null,
      "metadata": {
        "execution": {
          "iopub.execute_input": "2023-02-08T01:43:11.600348Z",
          "iopub.status.busy": "2023-02-08T01:43:11.599893Z",
          "iopub.status.idle": "2023-02-08T01:43:17.317963Z",
          "shell.execute_reply": "2023-02-08T01:43:17.317012Z",
          "shell.execute_reply.started": "2023-02-08T01:43:11.600262Z"
        },
        "id": "iU5CySIdEUvF"
      },
      "outputs": [],
      "source": [
        "import keras\n",
        "from keras.datasets import mnist\n",
        "from keras.models import Sequential\n",
        "from keras.layers import Dense, Dropout, LeakyReLU, Conv2D, ReLU\n",
        "\n",
        "from matplotlib.pyplot import imshow\n",
        "import numpy as np\n",
        "# %matplotlib inline"
      ]
    },
    {
      "cell_type": "code",
      "execution_count": null,
      "metadata": {
        "execution": {
          "iopub.execute_input": "2023-02-08T01:45:54.519426Z",
          "iopub.status.busy": "2023-02-08T01:45:54.518428Z",
          "iopub.status.idle": "2023-02-08T01:45:54.957687Z",
          "shell.execute_reply": "2023-02-08T01:45:54.956706Z",
          "shell.execute_reply.started": "2023-02-08T01:45:54.519387Z"
        },
        "id": "FNsEz1k7EUvF",
        "outputId": "fb7f3449-d2ba-45ab-accc-a78af55ea735"
      },
      "outputs": [
        {
          "name": "stdout",
          "output_type": "stream",
          "text": [
            "Downloading data from https://storage.googleapis.com/tensorflow/tf-keras-datasets/mnist.npz\n",
            "11493376/11490434 [==============================] - 0s 0us/step\n",
            "11501568/11490434 [==============================] - 0s 0us/step\n"
          ]
        }
      ],
      "source": [
        "# 下載資料\n",
        "(train_data, train_label), (test_data, test_label) = mnist.load_data()"
      ]
    },
    {
      "cell_type": "code",
      "execution_count": null,
      "metadata": {
        "execution": {
          "iopub.execute_input": "2023-02-08T01:45:59.601320Z",
          "iopub.status.busy": "2023-02-08T01:45:59.600964Z",
          "iopub.status.idle": "2023-02-08T01:45:59.684878Z",
          "shell.execute_reply": "2023-02-08T01:45:59.683617Z",
          "shell.execute_reply.started": "2023-02-08T01:45:59.601289Z"
        },
        "id": "gRK8lH5uEUvF",
        "outputId": "ec038eeb-66de-41a1-bd4f-f11c962ba04f"
      },
      "outputs": [
        {
          "name": "stdout",
          "output_type": "stream",
          "text": [
            "60000 train samples\n",
            "10000 test samples\n"
          ]
        }
      ],
      "source": [
        "# 資料處理\n",
        "train_data_c = train_data.reshape(60000, 784) # 整數型\n",
        "test_data_c = test_data.reshape(10000, 784)   # 整數型\n",
        "train_data_c = train_data_c.astype('float32') # 轉成float32\n",
        "test_data_c = test_data_c.astype('float32')   # 轉成float32\n",
        "train_data_c /= 255                           # 歸一化\n",
        "test_data_c /= 255                            # 歸一化\n",
        "print(train_data_c.shape[0], 'train samples')\n",
        "print(test_data_c.shape[0], 'test samples')"
      ]
    },
    {
      "cell_type": "code",
      "execution_count": null,
      "metadata": {
        "execution": {
          "iopub.execute_input": "2023-02-08T01:46:04.890301Z",
          "iopub.status.busy": "2023-02-08T01:46:04.889938Z",
          "iopub.status.idle": "2023-02-08T01:46:04.898988Z",
          "shell.execute_reply": "2023-02-08T01:46:04.897976Z",
          "shell.execute_reply.started": "2023-02-08T01:46:04.890272Z"
        },
        "id": "mbya_8wCEUvF"
      },
      "outputs": [],
      "source": [
        "# train資料的label與test資料的label轉換成one-hot code\n",
        "train_label_c = keras.utils.np_utils.to_categorical(train_label, num_classes=10)\n",
        "test_label_c = keras.utils.np_utils.to_categorical(test_label, num_classes=10)"
      ]
    },
    {
      "cell_type": "code",
      "execution_count": null,
      "metadata": {
        "execution": {
          "iopub.execute_input": "2023-02-08T01:46:07.975345Z",
          "iopub.status.busy": "2023-02-08T01:46:07.974969Z",
          "iopub.status.idle": "2023-02-08T01:46:07.980512Z",
          "shell.execute_reply": "2023-02-08T01:46:07.979385Z",
          "shell.execute_reply.started": "2023-02-08T01:46:07.975312Z"
        },
        "id": "yWDfg38vEUvG"
      },
      "outputs": [],
      "source": [
        "# 避免 警告\"so returning NUMA node zero\"出現 解決辦法\n",
        "import os\n",
        "os.environ['TF_CPP_MIN_LOG_LEVEL'] = '2'"
      ]
    },
    {
      "cell_type": "code",
      "execution_count": null,
      "metadata": {
        "execution": {
          "iopub.execute_input": "2023-02-08T01:55:51.216740Z",
          "iopub.status.busy": "2023-02-08T01:55:51.216333Z",
          "iopub.status.idle": "2023-02-08T01:55:51.244651Z",
          "shell.execute_reply": "2023-02-08T01:55:51.243518Z",
          "shell.execute_reply.started": "2023-02-08T01:55:51.216704Z"
        },
        "id": "-b2rcoLEEUvG",
        "outputId": "bced8076-5a69-411f-f9fd-9266b90a8cb9"
      },
      "outputs": [
        {
          "name": "stdout",
          "output_type": "stream",
          "text": [
            "Model: \"sequential_2\"\n",
            "_________________________________________________________________\n",
            "Layer (type)                 Output Shape              Param #   \n",
            "=================================================================\n",
            "dense_4 (Dense)              (None, 32)                25120     \n",
            "_________________________________________________________________\n",
            "dense_5 (Dense)              (None, 10)                330       \n",
            "=================================================================\n",
            "Total params: 25,450\n",
            "Trainable params: 25,450\n",
            "Non-trainable params: 0\n",
            "_________________________________________________________________\n"
          ]
        }
      ],
      "source": [
        "# 定義model\n",
        "batch_size = 128\n",
        "input_size = 784\n",
        "hidden_size = 32\n",
        "num_classes = 10\n",
        "\n",
        "model_cus = Sequential()\n",
        "model_cus.add(Dense(hidden_size, activation=ReLU(), input_shape=(input_size,)))\n",
        "model_cus.add(Dense(num_classes))\n",
        "\n",
        "model_cus.summary()"
      ]
    },
    {
      "cell_type": "code",
      "execution_count": null,
      "metadata": {
        "execution": {
          "iopub.execute_input": "2023-02-08T01:56:04.260032Z",
          "iopub.status.busy": "2023-02-08T01:56:04.259669Z",
          "iopub.status.idle": "2023-02-08T01:56:04.271260Z",
          "shell.execute_reply": "2023-02-08T01:56:04.270270Z",
          "shell.execute_reply.started": "2023-02-08T01:56:04.260001Z"
        },
        "id": "M8sr8hXpEUvG"
      },
      "outputs": [],
      "source": [
        "# 模型編譯\n",
        "from tensorflow.keras.optimizers import RMSprop\n",
        "\n",
        "from keras import optimizers\n",
        "sgd = optimizers.gradient_descent_v2.SGD(lr=0.5) # 0.5 比 0.1 有效\n",
        "\n",
        "\n",
        "# 無效\n",
        "# model_cus.compile(loss='categorical_crossentropy',\n",
        "#               optimizer=RMSprop(),\n",
        "#               metrics=['accuracy'])\n",
        "\n",
        "# 有效\n",
        "# model_cus.compile(loss='mse',\n",
        "#               optimizer=RMSprop(),\n",
        "#               metrics=['accuracy'])\n",
        "# 有效\n",
        "model_cus.compile(loss='mse',\n",
        "              optimizer=sgd,\n",
        "              metrics=['accuracy'])"
      ]
    },
    {
      "cell_type": "code",
      "execution_count": null,
      "metadata": {
        "execution": {
          "iopub.execute_input": "2023-02-08T01:56:16.306152Z",
          "iopub.status.busy": "2023-02-08T01:56:16.305409Z",
          "iopub.status.idle": "2023-02-08T01:56:32.063950Z",
          "shell.execute_reply": "2023-02-08T01:56:32.062879Z",
          "shell.execute_reply.started": "2023-02-08T01:56:16.306114Z"
        },
        "id": "SelhA7XYEUvG",
        "outputId": "bf3b8273-c315-483e-8235-dc2d9bdd3be9"
      },
      "outputs": [
        {
          "name": "stdout",
          "output_type": "stream",
          "text": [
            "Epoch 1/10\n",
            "469/469 [==============================] - 2s 3ms/step - loss: 0.0452 - accuracy: 0.7753 - val_loss: 0.0294 - val_accuracy: 0.8804\n",
            "Epoch 2/10\n",
            "469/469 [==============================] - 1s 3ms/step - loss: 0.0251 - accuracy: 0.8930 - val_loss: 0.0207 - val_accuracy: 0.9137\n",
            "Epoch 3/10\n",
            "469/469 [==============================] - 2s 4ms/step - loss: 0.0203 - accuracy: 0.9097 - val_loss: 0.0185 - val_accuracy: 0.9194\n",
            "Epoch 4/10\n",
            "469/469 [==============================] - 1s 3ms/step - loss: 0.0187 - accuracy: 0.9156 - val_loss: 0.0175 - val_accuracy: 0.9241\n",
            "Epoch 5/10\n",
            "469/469 [==============================] - 1s 3ms/step - loss: 0.0178 - accuracy: 0.9200 - val_loss: 0.0170 - val_accuracy: 0.9235\n",
            "Epoch 6/10\n",
            "469/469 [==============================] - 1s 3ms/step - loss: 0.0172 - accuracy: 0.9219 - val_loss: 0.0165 - val_accuracy: 0.9274\n",
            "Epoch 7/10\n",
            "469/469 [==============================] - 1s 3ms/step - loss: 0.0167 - accuracy: 0.9256 - val_loss: 0.0162 - val_accuracy: 0.9295\n",
            "Epoch 8/10\n",
            "469/469 [==============================] - 1s 3ms/step - loss: 0.0163 - accuracy: 0.9283 - val_loss: 0.0157 - val_accuracy: 0.9310\n",
            "Epoch 9/10\n",
            "469/469 [==============================] - 1s 3ms/step - loss: 0.0158 - accuracy: 0.9311 - val_loss: 0.0153 - val_accuracy: 0.9325\n",
            "Epoch 10/10\n",
            "469/469 [==============================] - 2s 4ms/step - loss: 0.0155 - accuracy: 0.9330 - val_loss: 0.0152 - val_accuracy: 0.9332\n"
          ]
        }
      ],
      "source": [
        "epochs = 10\n",
        "history = model_cus.fit(train_data_c, train_label_c,\n",
        "                    batch_size=batch_size,\n",
        "                    epochs=epochs,\n",
        "                    verbose=1,\n",
        "                    validation_data=(test_data_c, test_label_c))"
      ]
    },
    {
      "cell_type": "markdown",
      "metadata": {
        "id": "2bxYkIImEUvH"
      },
      "source": [
        "# <font color=\"red\">建立model的兩個方法</font>\n",
        "### <font color=\"red\">不用Input()</font>\n",
        "### <font color=\"red\">使用Input()</font>\n"
      ]
    },
    {
      "cell_type": "code",
      "execution_count": null,
      "metadata": {
        "execution": {
          "iopub.execute_input": "2023-02-08T06:35:50.415300Z",
          "iopub.status.busy": "2023-02-08T06:35:50.414882Z",
          "iopub.status.idle": "2023-02-08T06:35:50.422030Z",
          "shell.execute_reply": "2023-02-08T06:35:50.420845Z",
          "shell.execute_reply.started": "2023-02-08T06:35:50.415269Z"
        },
        "id": "nerTK4CSEUvH"
      },
      "outputs": [],
      "source": [
        "import keras\n",
        "from keras.models import Sequential\n",
        "from keras.layers import Input, Dense, ReLU\n",
        "\n",
        "noise_shape = (100,)\n",
        "noise = Input(shape=noise_shape)"
      ]
    },
    {
      "cell_type": "code",
      "execution_count": null,
      "metadata": {
        "execution": {
          "iopub.execute_input": "2023-02-08T06:04:22.631842Z",
          "iopub.status.busy": "2023-02-08T06:04:22.631490Z",
          "iopub.status.idle": "2023-02-08T06:04:22.638093Z",
          "shell.execute_reply": "2023-02-08T06:04:22.637021Z",
          "shell.execute_reply.started": "2023-02-08T06:04:22.631810Z"
        },
        "id": "t3ZhJCmhEUvH",
        "outputId": "75d6268f-bc82-4983-d16a-7a9d63c32e86"
      },
      "outputs": [
        {
          "data": {
            "text/plain": [
              "TensorShape([None, 100])"
            ]
          },
          "execution_count": 6,
          "metadata": {},
          "output_type": "execute_result"
        }
      ],
      "source": [
        "noise.shape"
      ]
    },
    {
      "cell_type": "code",
      "execution_count": null,
      "metadata": {
        "execution": {
          "iopub.execute_input": "2023-02-08T06:36:43.431835Z",
          "iopub.status.busy": "2023-02-08T06:36:43.431479Z",
          "iopub.status.idle": "2023-02-08T06:36:43.450803Z",
          "shell.execute_reply": "2023-02-08T06:36:43.449762Z",
          "shell.execute_reply.started": "2023-02-08T06:36:43.431804Z"
        },
        "id": "8V3m774YEUvI",
        "outputId": "044d900b-d43e-47ad-9859-a37ca674b221"
      },
      "outputs": [
        {
          "name": "stdout",
          "output_type": "stream",
          "text": [
            "Model: \"sequential_3\"\n",
            "_________________________________________________________________\n",
            "Layer (type)                 Output Shape              Param #   \n",
            "=================================================================\n",
            "dense_6 (Dense)              (None, 16)                528       \n",
            "=================================================================\n",
            "Total params: 528\n",
            "Trainable params: 528\n",
            "Non-trainable params: 0\n",
            "_________________________________________________________________\n"
          ]
        }
      ],
      "source": [
        "# model_1\n",
        "model_1 = Sequential()\n",
        "model_1.add(Dense(16, activation='softmax', input_shape=(32,)))\n",
        "\n",
        "model_1.summary()"
      ]
    },
    {
      "cell_type": "code",
      "execution_count": null,
      "metadata": {
        "execution": {
          "iopub.execute_input": "2023-02-08T06:37:02.066965Z",
          "iopub.status.busy": "2023-02-08T06:37:02.066594Z",
          "iopub.status.idle": "2023-02-08T06:37:02.086131Z",
          "shell.execute_reply": "2023-02-08T06:37:02.085063Z",
          "shell.execute_reply.started": "2023-02-08T06:37:02.066935Z"
        },
        "id": "NjfYijoAEUvI",
        "outputId": "f77c05dd-7264-4cc4-a51b-aa3bcf3cd19d"
      },
      "outputs": [
        {
          "name": "stdout",
          "output_type": "stream",
          "text": [
            "Model: \"model_2\"\n",
            "_________________________________________________________________\n",
            "Layer (type)                 Output Shape              Param #   \n",
            "=================================================================\n",
            "input_12 (InputLayer)        [(None, 32)]              0         \n",
            "_________________________________________________________________\n",
            "dense_8 (Dense)              (None, 16)                528       \n",
            "=================================================================\n",
            "Total params: 528\n",
            "Trainable params: 528\n",
            "Non-trainable params: 0\n",
            "_________________________________________________________________\n"
          ]
        }
      ],
      "source": [
        "# model_2\n",
        "x = Input(shape=(32,))\n",
        "y = Dense(16, activation='softmax')(x)\n",
        "model_2 = keras.Model(x, y )\n",
        "\n",
        "model_2.summary()"
      ]
    },
    {
      "cell_type": "code",
      "execution_count": null,
      "metadata": {
        "execution": {
          "iopub.execute_input": "2023-02-08T08:10:19.771988Z",
          "iopub.status.busy": "2023-02-08T08:10:19.771562Z",
          "iopub.status.idle": "2023-02-08T08:10:19.803347Z",
          "shell.execute_reply": "2023-02-08T08:10:19.802539Z",
          "shell.execute_reply.started": "2023-02-08T08:10:19.771905Z"
        },
        "id": "SBxgV-woEUvI"
      },
      "outputs": [],
      "source": [
        "def build_generator(self):\n",
        "\n",
        "    noise_shape = (100,)\n",
        "\n",
        "    model = Sequential()\n",
        "\n",
        "    model.add(Dense(256, input_shape=noise_shape))\n",
        "    model.add(LeakyReLU(alpha=0.2))\n",
        "    model.add(BatchNormalization(momentum=0.8))\n",
        "    model.add(Dense(512))\n",
        "    model.add(LeakyReLU(alpha=0.2))\n",
        "    model.add(BatchNormalization(momentum=0.8))\n",
        "\n",
        "    model.add(Dense(np.prod(self.img_shape), activation='tanh'))\n",
        "    model.add(Reshape(self.img_shape))\n",
        "\n",
        "    model.summary()\n",
        "\n",
        "    noise = Input(shape=noise_shape)\n",
        "    img = model(noise)\n",
        "\n",
        "    return Model(noise, img)\n",
        "# noise = Input(shape=noise_shape)\n",
        "# img = model(noise)"
      ]
    },
    {
      "cell_type": "code",
      "execution_count": null,
      "metadata": {
        "id": "BKX210ssEUvJ"
      },
      "outputs": [],
      "source": []
    }
  ]
}
