{
 "cells": [
  {
   "cell_type": "markdown",
   "metadata": {
    "id": "bBCwhqvH2U0m"
   },
   "source": [
    "# <font color=\"red\"><b>(Lecture 3-2) Numerical Computing with Numpy</b></font>\n",
    "\n",
    "<font color=\"red\"><b>Reading from and Writing to Files using Python</b></font>\n",
    "\n",
    "### <font color=\"#FF00FF\">*Part 5 of Data Analysis with Python: Zero to Pandas*</font>\n",
    "\n",
    "[Lecture Video](https://share.descript.com/view/6LFNZU4Fg9G?t=4322.207915)\n",
    "\n",
    "![](https://i.imgur.com/rv8wZ7l.png)\n",
    "\n",
    "\n",
    "\n",
    "\n",
    "This tutorial series is a beginner-friendly introduction to programming and data analysis using the Python programming language. These tutorials take a practical and coding-focused approach. The best way to learn the material is to execute the code and experiment with it yourself. Check out the full series here:\n",
    "\n",
    "1. [First Steps with Python and Jupyter](https://jovian.ai/aakashns/first-steps-with-python)\n",
    "2. [A Quick Tour of Variables and Data Types](https://jovian.ai/aakashns/python-variables-and-data-types)\n",
    "3. [Branching using Conditional Statements and Loops](https://jovian.ai/aakashns/python-branching-and-loops)\n",
    "4. [Writing Reusable Code Using Functions](https://jovian.ai/aakashns/python-functions-and-scope)\n",
    "5. [Reading from and Writing to Files](https://jovian.ai/aakashns/python-os-and-filesystem)\n",
    "6. [Numerical Computing with Python and Numpy](https://jovian.ai/aakashns/python-numerical-computing-with-numpy)\n",
    "7. [Analyzing Tabular Data using Pandas](https://jovian.ai/aakashns/python-pandas-data-analysis)\n",
    "8. [Data Visualization using Matplotlib & Seaborn](https://jovian.ai/aakashns/python-matplotlib-data-visualization)\n",
    "9. [Exploratory Data Analysis - A Case Study](https://jovian.ai/aakashns/python-eda-stackoverflow-survey)\n"
   ]
  },
  {
   "cell_type": "markdown",
   "metadata": {
    "id": "AtOpakzf2U1C"
   },
   "source": [
    "This tutorial covers the following topics:\n",
    "\n",
    "- Interacting with the filesystem using the `os` module\n",
    "- Downloading files from the internet using the `urllib` module\n",
    "- Reading and processing data from text files\n",
    "- Parsing data from CSV files into dictionaries & lists\n",
    "- Writing formatted data back to text files"
   ]
  },
  {
   "cell_type": "markdown",
   "metadata": {
    "id": "zd7eHxJr2U1H"
   },
   "source": [
    "### How to run the code\n",
    "\n",
    "This tutorial is an executable [Jupyter notebook](https://jupyter.org) hosted on [Jovian](https://www.jovian.ai). You can _run_ this tutorial and experiment with the code examples in a couple of ways: *using free online resources* (recommended) or *on your computer*.\n",
    "\n",
    "#### Option 1: Running using free online resources (1-click, recommended)\n",
    "\n",
    "The easiest way to start executing the code is to click the **Run** button at the top of this page and select **Run on Binder**. You can also select \"Run on Colab\" or \"Run on Kaggle\", but you'll need to create an account on [Google Colab](https://colab.research.google.com) or [Kaggle](https://kaggle.com) to use these platforms.\n",
    "\n",
    "\n",
    "#### Option 2: Running on your computer locally\n",
    "\n",
    "To run the code on your computer locally, you'll need to set up [Python](https://www.python.org), download the notebook and install the required libraries. We recommend using the [Conda](https://docs.conda.io/projects/conda/en/latest/user-guide/install/) distribution of Python. Click the **Run** button at the top of this page, select the **Run Locally** option, and follow the instructions.\n",
    "\n",
    ">  **Jupyter Notebooks**: This tutorial is a [Jupyter notebook](https://jupyter.org) - a document made of _cells_. Each cell can contain code written in Python or explanations in plain English. You can execute code cells and view the results, e.g., numbers, messages, graphs, tables, files, etc., instantly within the notebook. Jupyter is a powerful platform for experimentation and analysis. Don't be afraid to mess around with the code & break things - you'll learn a lot by encountering and fixing errors. You can use the \"Kernel > Restart & Clear Output\" menu option to clear all outputs and start again from the top."
   ]
  },
  {
   "cell_type": "markdown",
   "metadata": {
    "id": "9LWvJZlz2U1N"
   },
   "source": [
    "## Interacting with the OS and filesystem\n",
    "\n",
    "The `os` module in Python provides many functions for interacting with the OS and the filesystem. Let's import it and try out some examples."
   ]
  },
  {
   "cell_type": "code",
   "execution_count": 1,
   "metadata": {
    "executionInfo": {
     "elapsed": 501,
     "status": "ok",
     "timestamp": 1705116475538,
     "user": {
      "displayName": "Henry Hsu",
      "userId": "15979258104560629822"
     },
     "user_tz": 360
    },
    "id": "V2h-XOq-2U1S"
   },
   "outputs": [],
   "source": [
    "import os"
   ]
  },
  {
   "cell_type": "markdown",
   "metadata": {
    "id": "29dxkFHU2U1c"
   },
   "source": [
    "We can check the present working directory using the `os.getcwd` function."
   ]
  },
  {
   "cell_type": "code",
   "execution_count": 2,
   "metadata": {
    "colab": {
     "base_uri": "https://localhost:8080/",
     "height": 36
    },
    "executionInfo": {
     "elapsed": 743,
     "status": "ok",
     "timestamp": 1705116504508,
     "user": {
      "displayName": "Henry Hsu",
      "userId": "15979258104560629822"
     },
     "user_tz": 360
    },
    "id": "fJCtKyAZ2U1f",
    "outputId": "d2a9dd7a-a7c9-40cd-ab6b-8b1c848b9f94"
   },
   "outputs": [
    {
     "data": {
      "application/vnd.google.colaboratory.intrinsic+json": {
       "type": "string"
      },
      "text/plain": [
       "'/content'"
      ]
     },
     "execution_count": 2,
     "metadata": {},
     "output_type": "execute_result"
    }
   ],
   "source": [
    "os.getcwd()"
   ]
  },
  {
   "cell_type": "markdown",
   "metadata": {
    "id": "jy0JIrWq2U1m"
   },
   "source": [
    "To get the list of files in a directory, use `os.listdir`. You pass an absolute or relative path of a directory as the argument to the function."
   ]
  },
  {
   "cell_type": "code",
   "execution_count": null,
   "metadata": {
    "id": "wPjbE4fk2U1q",
    "outputId": "73d374df-15ac-49ce-fbf4-1cdc10d41a8e"
   },
   "outputs": [
    {
     "name": "stdout",
     "output_type": "stream",
     "text": [
      "Help on built-in function listdir in module posix:\n",
      "\n",
      "listdir(path=None)\n",
      "    Return a list containing the names of the files in the directory.\n",
      "    \n",
      "    path can be specified as either str, bytes, or a path-like object.  If path is bytes,\n",
      "      the filenames returned will also be bytes; in all other circumstances\n",
      "      the filenames returned will be str.\n",
      "    If path is None, uses the path='.'.\n",
      "    On some platforms, path may also be specified as an open file descriptor;\\\n",
      "      the file descriptor must refer to a directory.\n",
      "      If this functionality is unavailable, using it raises NotImplementedError.\n",
      "    \n",
      "    The list is in arbitrary order.  It does not include the special\n",
      "    entries '.' and '..' even if they are present in the directory.\n",
      "\n"
     ]
    }
   ],
   "source": [
    "help(os.listdir)"
   ]
  },
  {
   "cell_type": "code",
   "execution_count": null,
   "metadata": {
    "id": "PvAAxFhA2U1s",
    "outputId": "dba81e33-bf2e-4c0f-b9b2-434441bc6e83"
   },
   "outputs": [
    {
     "data": {
      "text/plain": [
       "['.jovianrc', '.ipynb_checkpoints', 'python-os-and-filesystem.ipynb']"
      ]
     },
     "execution_count": 4,
     "metadata": {},
     "output_type": "execute_result"
    }
   ],
   "source": [
    "os.listdir('.') # relative path"
   ]
  },
  {
   "cell_type": "code",
   "execution_count": null,
   "metadata": {
    "id": "lgmgeQ302U1u",
    "outputId": "5fdcc4f5-595a-455a-c925-a6bb211aa1e6"
   },
   "outputs": [
    {
     "data": {
      "text/plain": [
       "['bin',\n",
       " 'standalone',\n",
       " 'libexec',\n",
       " 'sbin',\n",
       " 'local',\n",
       " 'lib',\n",
       " 'X11',\n",
       " 'X11R6',\n",
       " 'share']"
      ]
     },
     "execution_count": 5,
     "metadata": {},
     "output_type": "execute_result"
    }
   ],
   "source": [
    "os.listdir('/usr') # absolute path"
   ]
  },
  {
   "cell_type": "markdown",
   "metadata": {
    "id": "9DLkB6Cf2U1w"
   },
   "source": [
    "You can create a new directory using `os.makedirs`. Let's create a new directory called `data`, where we'll later download some files."
   ]
  },
  {
   "cell_type": "code",
   "execution_count": 4,
   "metadata": {
    "executionInfo": {
     "elapsed": 496,
     "status": "ok",
     "timestamp": 1705116734279,
     "user": {
      "displayName": "Henry Hsu",
      "userId": "15979258104560629822"
     },
     "user_tz": 360
    },
    "id": "uW16Djxw2U1y"
   },
   "outputs": [],
   "source": [
    "os.makedirs('./data', exist_ok=True)"
   ]
  },
  {
   "cell_type": "markdown",
   "metadata": {
    "id": "tlRb5aup2U10"
   },
   "source": [
    "Can you figure out what the argument `exist_ok` does? Try using the `help` function or [read the documentation](https://docs.python.org/3/library/os.html#os.makedirs).\n",
    "\n",
    "Let's verify that the directory was created and is currently empty."
   ]
  },
  {
   "cell_type": "code",
   "execution_count": 5,
   "metadata": {
    "colab": {
     "base_uri": "https://localhost:8080/"
    },
    "executionInfo": {
     "elapsed": 571,
     "status": "ok",
     "timestamp": 1705116751579,
     "user": {
      "displayName": "Henry Hsu",
      "userId": "15979258104560629822"
     },
     "user_tz": 360
    },
    "id": "_FoYz57H2U11",
    "outputId": "ed2c2270-73d7-4f8a-c30e-00282f7d7d6c"
   },
   "outputs": [
    {
     "data": {
      "text/plain": [
       "True"
      ]
     },
     "execution_count": 5,
     "metadata": {},
     "output_type": "execute_result"
    }
   ],
   "source": [
    "'data' in os.listdir('.')"
   ]
  },
  {
   "cell_type": "code",
   "execution_count": 6,
   "metadata": {
    "colab": {
     "base_uri": "https://localhost:8080/"
    },
    "executionInfo": {
     "elapsed": 473,
     "status": "ok",
     "timestamp": 1705116756940,
     "user": {
      "displayName": "Henry Hsu",
      "userId": "15979258104560629822"
     },
     "user_tz": 360
    },
    "id": "XLh4gDQX2U13",
    "outputId": "b93978d5-df69-4a0b-9219-6bae710bc478"
   },
   "outputs": [
    {
     "data": {
      "text/plain": [
       "[]"
      ]
     },
     "execution_count": 6,
     "metadata": {},
     "output_type": "execute_result"
    }
   ],
   "source": [
    "os.listdir('./data')"
   ]
  },
  {
   "cell_type": "markdown",
   "metadata": {
    "id": "CL2R5Lj92U15"
   },
   "source": [
    "Let us download some files into the `data` directory using the `urllib` module."
   ]
  },
  {
   "cell_type": "code",
   "execution_count": 7,
   "metadata": {
    "executionInfo": {
     "elapsed": 647,
     "status": "ok",
     "timestamp": 1705117356270,
     "user": {
      "displayName": "Henry Hsu",
      "userId": "15979258104560629822"
     },
     "user_tz": 360
    },
    "id": "HT6uC6Tl2U17"
   },
   "outputs": [],
   "source": [
    "url1 = 'https://gist.githubusercontent.com/aakashns/257f6e6c8719c17d0e498ea287d1a386/raw/7def9ef4234ddf0bc82f855ad67dac8b971852ef/loans1.txt'\n",
    "url2 = 'https://gist.githubusercontent.com/aakashns/257f6e6c8719c17d0e498ea287d1a386/raw/7def9ef4234ddf0bc82f855ad67dac8b971852ef/loans2.txt'\n",
    "url3 = 'https://gist.githubusercontent.com/aakashns/257f6e6c8719c17d0e498ea287d1a386/raw/7def9ef4234ddf0bc82f855ad67dac8b971852ef/loans3.txt'"
   ]
  },
  {
   "cell_type": "code",
   "execution_count": 8,
   "metadata": {
    "executionInfo": {
     "elapsed": 605,
     "status": "ok",
     "timestamp": 1705117362887,
     "user": {
      "displayName": "Henry Hsu",
      "userId": "15979258104560629822"
     },
     "user_tz": 360
    },
    "id": "xB6E2FUA2U19"
   },
   "outputs": [],
   "source": [
    "from urllib.request import urlretrieve"
   ]
  },
  {
   "cell_type": "code",
   "execution_count": 9,
   "metadata": {
    "colab": {
     "base_uri": "https://localhost:8080/"
    },
    "executionInfo": {
     "elapsed": 1221,
     "status": "ok",
     "timestamp": 1705117373411,
     "user": {
      "displayName": "Henry Hsu",
      "userId": "15979258104560629822"
     },
     "user_tz": 360
    },
    "id": "uR32FRRB2U1_",
    "outputId": "b81d698d-949a-4913-d7aa-b4a72a519fab"
   },
   "outputs": [
    {
     "data": {
      "text/plain": [
       "('./data/loans1.txt', <http.client.HTTPMessage at 0x7c1aaa4095a0>)"
      ]
     },
     "execution_count": 9,
     "metadata": {},
     "output_type": "execute_result"
    }
   ],
   "source": [
    "urlretrieve(url1, './data/loans1.txt')"
   ]
  },
  {
   "cell_type": "code",
   "execution_count": 10,
   "metadata": {
    "colab": {
     "base_uri": "https://localhost:8080/"
    },
    "executionInfo": {
     "elapsed": 913,
     "status": "ok",
     "timestamp": 1705117381741,
     "user": {
      "displayName": "Henry Hsu",
      "userId": "15979258104560629822"
     },
     "user_tz": 360
    },
    "id": "-kT5kSEK2U2B",
    "outputId": "56180055-2d45-4a83-d50d-b90e218f403b"
   },
   "outputs": [
    {
     "data": {
      "text/plain": [
       "('./data/loans2.txt', <http.client.HTTPMessage at 0x7c1aaa409600>)"
      ]
     },
     "execution_count": 10,
     "metadata": {},
     "output_type": "execute_result"
    }
   ],
   "source": [
    "urlretrieve(url2, './data/loans2.txt')"
   ]
  },
  {
   "cell_type": "code",
   "execution_count": 11,
   "metadata": {
    "colab": {
     "base_uri": "https://localhost:8080/"
    },
    "executionInfo": {
     "elapsed": 565,
     "status": "ok",
     "timestamp": 1705117382275,
     "user": {
      "displayName": "Henry Hsu",
      "userId": "15979258104560629822"
     },
     "user_tz": 360
    },
    "id": "m5IvW55S2U2C",
    "outputId": "3b9bbe5a-86fe-4981-a871-3b5b42fa1e6d"
   },
   "outputs": [
    {
     "data": {
      "text/plain": [
       "('./data/loans3.txt', <http.client.HTTPMessage at 0x7c1aaa409570>)"
      ]
     },
     "execution_count": 11,
     "metadata": {},
     "output_type": "execute_result"
    }
   ],
   "source": [
    "urlretrieve(url3, './data/loans3.txt')"
   ]
  },
  {
   "cell_type": "markdown",
   "metadata": {
    "id": "i1jnuFBw2U2E"
   },
   "source": [
    "Let's verify that the files were downloaded."
   ]
  },
  {
   "cell_type": "code",
   "execution_count": 12,
   "metadata": {
    "colab": {
     "base_uri": "https://localhost:8080/"
    },
    "executionInfo": {
     "elapsed": 501,
     "status": "ok",
     "timestamp": 1705117389682,
     "user": {
      "displayName": "Henry Hsu",
      "userId": "15979258104560629822"
     },
     "user_tz": 360
    },
    "id": "Wvt1rT5O2U2F",
    "outputId": "1fc0ed8f-bfda-4986-c846-02544c363399"
   },
   "outputs": [
    {
     "data": {
      "text/plain": [
       "['loans2.txt', 'loans1.txt', 'loans3.txt']"
      ]
     },
     "execution_count": 12,
     "metadata": {},
     "output_type": "execute_result"
    }
   ],
   "source": [
    "os.listdir('./data')"
   ]
  },
  {
   "cell_type": "markdown",
   "metadata": {
    "id": "BOrzSGtN2U2H"
   },
   "source": [
    "You can also use the [`requests`](https://docs.python-requests.org/en/master/) library to dowload URLs, although you'll need to [write some additional code](https://stackoverflow.com/questions/44699682/how-to-save-a-file-downloaded-from-requests-to-another-directory) to save the contents of the page to a file."
   ]
  },
  {
   "cell_type": "markdown",
   "metadata": {
    "id": "mtIcgq6o2U2I"
   },
   "source": [
    "## Reading from a file\n",
    "\n",
    "To read the contents of a file, we first need to open the file using the built-in `open` function. The `open` function returns a file object and provides several methods for interacting with the file's contents."
   ]
  },
  {
   "cell_type": "code",
   "execution_count": 13,
   "metadata": {
    "executionInfo": {
     "elapsed": 454,
     "status": "ok",
     "timestamp": 1705117407255,
     "user": {
      "displayName": "Henry Hsu",
      "userId": "15979258104560629822"
     },
     "user_tz": 360
    },
    "id": "ezJWNrt02U2J"
   },
   "outputs": [],
   "source": [
    "file1 = open('./data/loans1.txt', mode='r')"
   ]
  },
  {
   "cell_type": "markdown",
   "metadata": {
    "id": "sLTROgZB2U2K"
   },
   "source": [
    "The `open` function also accepts a `mode` argument to specifies how we can interact with the file. The following options are supported:\n",
    "\n",
    "```\n",
    "    ========= ===============================================================\n",
    "    Character Meaning\n",
    "    --------- ---------------------------------------------------------------\n",
    "    'r'       open for reading (default)\n",
    "    'w'       open for writing, truncating the file first\n",
    "    'x'       create a new file and open it for writing\n",
    "    'a'       open for writing, appending to the end of the file if it exists\n",
    "    'b'       binary mode\n",
    "    't'       text mode (default)\n",
    "    '+'       open a disk file for updating (reading and writing)\n",
    "    'U'       universal newline mode (deprecated)\n",
    "    ========= ===============================================================\n",
    "```\n",
    "\n",
    "To view the contents of the file, we can use the `read` method of the file object."
   ]
  },
  {
   "cell_type": "code",
   "execution_count": 16,
   "metadata": {
    "colab": {
     "base_uri": "https://localhost:8080/"
    },
    "executionInfo": {
     "elapsed": 1287,
     "status": "ok",
     "timestamp": 1705117481658,
     "user": {
      "displayName": "Henry Hsu",
      "userId": "15979258104560629822"
     },
     "user_tz": 360
    },
    "id": "3t4AHyKF67YD",
    "outputId": "1443b59a-59ab-4094-f335-2f10864b283c"
   },
   "outputs": [
    {
     "data": {
      "text/plain": [
       "_io.TextIOWrapper"
      ]
     },
     "execution_count": 16,
     "metadata": {},
     "output_type": "execute_result"
    }
   ],
   "source": [
    "# 測試\n",
    "type(file1)"
   ]
  },
  {
   "cell_type": "code",
   "execution_count": 14,
   "metadata": {
    "executionInfo": {
     "elapsed": 3035,
     "status": "ok",
     "timestamp": 1705117443892,
     "user": {
      "displayName": "Henry Hsu",
      "userId": "15979258104560629822"
     },
     "user_tz": 360
    },
    "id": "JHPzZ6J72U2N"
   },
   "outputs": [],
   "source": [
    "file1_contents = file1.read()"
   ]
  },
  {
   "cell_type": "code",
   "execution_count": 15,
   "metadata": {
    "colab": {
     "base_uri": "https://localhost:8080/"
    },
    "executionInfo": {
     "elapsed": 32,
     "status": "ok",
     "timestamp": 1705117444521,
     "user": {
      "displayName": "Henry Hsu",
      "userId": "15979258104560629822"
     },
     "user_tz": 360
    },
    "id": "tzegX98M2U2O",
    "outputId": "7e5fa999-b81a-4718-f438-1e09d3a85bba"
   },
   "outputs": [
    {
     "name": "stdout",
     "output_type": "stream",
     "text": [
      "amount,duration,rate,down_payment\n",
      "100000,36,0.08,20000\n",
      "200000,12,0.1,\n",
      "628400,120,0.12,100000\n",
      "4637400,240,0.06,\n",
      "42900,90,0.07,8900\n",
      "916000,16,0.13,\n",
      "45230,48,0.08,4300\n",
      "991360,99,0.08,\n",
      "423000,27,0.09,47200\n"
     ]
    }
   ],
   "source": [
    "print(file1_contents)"
   ]
  },
  {
   "cell_type": "markdown",
   "metadata": {
    "id": "pTHF0B6s2U2P"
   },
   "source": [
    "The file contains information about loans. It is a set of comma-separated values (CSV).\n",
    "\n",
    "> **CSVs**: A comma-separated values (CSV) file is a delimited text file that uses a comma to separate values. Each line of the file is a data record. Each record consists of one or more fields, separated by commas. A CSV file typically stores tabular data (numbers and text) in plain text, in which case each line will have the same number of fields. (Wikipedia)\n",
    "\n",
    "The first line of the file is the header, indicating what each of the numbers on the remaining lines represents. Each of the remaining lines provides information about a loan. Thus, the second line `100000,36,0.08,20000` represents a loan with:\n",
    "\n",
    "* an *amount* of `$100000`,\n",
    "* *duration* of `36` months,\n",
    "* *rate of interest* of `8%` per annum, and\n",
    "* a down payment of `$20000`\n",
    "\n",
    "The CSV is a standard file format used for sharing data for analysis and visualization. Over the course of this tutorial, we will read the data from these CSV files, process it, and write the results back to files. Before we continue, let's close the file using the `close` method (otherwise, Python will continue to hold the entire file in the RAM)"
   ]
  },
  {
   "cell_type": "code",
   "execution_count": 18,
   "metadata": {
    "executionInfo": {
     "elapsed": 612,
     "status": "ok",
     "timestamp": 1705117798345,
     "user": {
      "displayName": "Henry Hsu",
      "userId": "15979258104560629822"
     },
     "user_tz": 360
    },
    "id": "INqHoZXj2U2R"
   },
   "outputs": [],
   "source": [
    "file1.close()"
   ]
  },
  {
   "cell_type": "markdown",
   "metadata": {
    "id": "lO162LOv2U2S"
   },
   "source": [
    "Once a file is closed, you can no longer read from it."
   ]
  },
  {
   "cell_type": "code",
   "execution_count": null,
   "metadata": {
    "id": "PljujR7N2U2T",
    "outputId": "ec300c04-7e28-4273-de20-79ec05723166"
   },
   "outputs": [
    {
     "ename": "ValueError",
     "evalue": "I/O operation on closed file.",
     "output_type": "error",
     "traceback": [
      "\u001b[0;31m---------------------------------------------------------------------------\u001b[0m",
      "\u001b[0;31mValueError\u001b[0m                                Traceback (most recent call last)",
      "\u001b[0;32m<ipython-input-19-2fcf3b5e742f>\u001b[0m in \u001b[0;36m<module>\u001b[0;34m\u001b[0m\n\u001b[0;32m----> 1\u001b[0;31m \u001b[0mfile1\u001b[0m\u001b[0;34m.\u001b[0m\u001b[0mread\u001b[0m\u001b[0;34m(\u001b[0m\u001b[0;34m)\u001b[0m\u001b[0;34m\u001b[0m\u001b[0;34m\u001b[0m\u001b[0m\n\u001b[0m",
      "\u001b[0;31mValueError\u001b[0m: I/O operation on closed file."
     ]
    }
   ],
   "source": [
    "file1.read()"
   ]
  },
  {
   "cell_type": "markdown",
   "metadata": {
    "id": "yf2RNG1M2U2U"
   },
   "source": [
    "## Closing files automatically using `with`\n",
    "\n",
    "To close a file automatically after you've processed it, you can open it using the `with` statement."
   ]
  },
  {
   "cell_type": "code",
   "execution_count": 19,
   "metadata": {
    "colab": {
     "base_uri": "https://localhost:8080/"
    },
    "executionInfo": {
     "elapsed": 641,
     "status": "ok",
     "timestamp": 1705118947463,
     "user": {
      "displayName": "Henry Hsu",
      "userId": "15979258104560629822"
     },
     "user_tz": 360
    },
    "id": "RWlMoeXJ2U2V",
    "outputId": "4a23aac8-9d08-42ea-da97-c9548cc85357"
   },
   "outputs": [
    {
     "name": "stdout",
     "output_type": "stream",
     "text": [
      "amount,duration,rate,down_payment\n",
      "828400,120,0.11,100000\n",
      "4633400,240,0.06,\n",
      "42900,90,0.08,8900\n",
      "983000,16,0.14,\n",
      "15230,48,0.07,4300\n"
     ]
    }
   ],
   "source": [
    "with open('./data/loans2.txt') as file2:\n",
    "    file2_contents = file2.read()\n",
    "    print(file2_contents)"
   ]
  },
  {
   "cell_type": "markdown",
   "metadata": {
    "id": "hR18hZmf2U2X"
   },
   "source": [
    "Once the statements within the `with` block are executed, the `.close` method on `file2` is automatically invoked. Let's verify this by trying to read from the file object again."
   ]
  },
  {
   "cell_type": "code",
   "execution_count": null,
   "metadata": {
    "id": "7Loy1p032U2Y",
    "outputId": "0cde4096-ef0c-49a1-a73b-7d06a12b1953"
   },
   "outputs": [
    {
     "ename": "ValueError",
     "evalue": "I/O operation on closed file.",
     "output_type": "error",
     "traceback": [
      "\u001b[0;31m---------------------------------------------------------------------------\u001b[0m",
      "\u001b[0;31mValueError\u001b[0m                                Traceback (most recent call last)",
      "\u001b[0;32m<ipython-input-21-4a9205324152>\u001b[0m in \u001b[0;36m<module>\u001b[0;34m\u001b[0m\n\u001b[0;32m----> 1\u001b[0;31m \u001b[0mfile2\u001b[0m\u001b[0;34m.\u001b[0m\u001b[0mread\u001b[0m\u001b[0;34m(\u001b[0m\u001b[0;34m)\u001b[0m\u001b[0;34m\u001b[0m\u001b[0;34m\u001b[0m\u001b[0m\n\u001b[0m",
      "\u001b[0;31mValueError\u001b[0m: I/O operation on closed file."
     ]
    }
   ],
   "source": [
    "file2.read()"
   ]
  },
  {
   "cell_type": "markdown",
   "metadata": {
    "id": "NP5XV6y92U2Z"
   },
   "source": [
    "## Reading a file line by line\n",
    "\n",
    "\n",
    "File objects provide a `readlines` method to read a file line-by-line."
   ]
  },
  {
   "cell_type": "code",
   "execution_count": 20,
   "metadata": {
    "executionInfo": {
     "elapsed": 478,
     "status": "ok",
     "timestamp": 1705120309547,
     "user": {
      "displayName": "Henry Hsu",
      "userId": "15979258104560629822"
     },
     "user_tz": 360
    },
    "id": "SQdUqbyu2U3F"
   },
   "outputs": [],
   "source": [
    "with open('./data/loans3.txt', 'r') as file3:\n",
    "    file3_lines = file3.readlines()"
   ]
  },
  {
   "cell_type": "code",
   "execution_count": 21,
   "metadata": {
    "colab": {
     "base_uri": "https://localhost:8080/"
    },
    "executionInfo": {
     "elapsed": 47,
     "status": "ok",
     "timestamp": 1705120314177,
     "user": {
      "displayName": "Henry Hsu",
      "userId": "15979258104560629822"
     },
     "user_tz": 360
    },
    "id": "Fb1XApiM2U3G",
    "outputId": "68e94e4e-9228-438b-9b96-71def46059e3"
   },
   "outputs": [
    {
     "data": {
      "text/plain": [
       "['amount,duration,rate,down_payment\\n',\n",
       " '45230,48,0.07,4300\\n',\n",
       " '883000,16,0.14,\\n',\n",
       " '100000,12,0.1,\\n',\n",
       " '728400,120,0.12,100000\\n',\n",
       " '3637400,240,0.06,\\n',\n",
       " '82900,90,0.07,8900\\n',\n",
       " '316000,16,0.13,\\n',\n",
       " '15230,48,0.08,4300\\n',\n",
       " '991360,99,0.08,\\n',\n",
       " '323000,27,0.09,4720010000,36,0.08,20000\\n',\n",
       " '528400,120,0.11,100000\\n',\n",
       " '8633400,240,0.06,\\n',\n",
       " '12900,90,0.08,8900']"
      ]
     },
     "execution_count": 21,
     "metadata": {},
     "output_type": "execute_result"
    }
   ],
   "source": [
    "file3_lines"
   ]
  },
  {
   "cell_type": "markdown",
   "metadata": {
    "id": "1KhjviFn2U3H"
   },
   "source": [
    "## Processing data from files\n",
    "\n",
    "Before performing any operations on the data stored in a file, we need to convert the file's contents from one large string into Python data types. For the file `loans1.txt` containing information about loans in a CSV format, we can do the following:\n",
    "\n",
    "* Read the file line by line\n",
    "* Parse the first line to get a list of the column names or headers\n",
    "* Split each remaining line and convert each value into a float\n",
    "* Create a dictionary for each loan using the headers as keys\n",
    "* Create a list of dictionaries to keep track of all the loans\n",
    "\n",
    "Since we will perform the same operations for multiple files, it would be useful to define a function `read_csv`. We'll also define some helper functions to build up the functionality step by step.\n",
    "\n",
    "Let's start by defining a function `parse_header` that takes a line as input and returns a list of column headers."
   ]
  },
  {
   "cell_type": "code",
   "execution_count": 22,
   "metadata": {
    "executionInfo": {
     "elapsed": 511,
     "status": "ok",
     "timestamp": 1705121011591,
     "user": {
      "displayName": "Henry Hsu",
      "userId": "15979258104560629822"
     },
     "user_tz": 360
    },
    "id": "rLJvFzCB2U3I"
   },
   "outputs": [],
   "source": [
    "def parse_headers(header_line):\n",
    "    return header_line.strip().split(',') # strip()移除str頭尾的空格與換行符"
   ]
  },
  {
   "cell_type": "markdown",
   "metadata": {
    "id": "qnQzwfi52U3J"
   },
   "source": [
    "The `strip` method removes any extra spaces and the newline character `\\n`. The `split` method breaks a string into a list using the given separator (`,` in this case)."
   ]
  },
  {
   "cell_type": "code",
   "execution_count": 25,
   "metadata": {
    "executionInfo": {
     "elapsed": 511,
     "status": "ok",
     "timestamp": 1705121096376,
     "user": {
      "displayName": "Henry Hsu",
      "userId": "15979258104560629822"
     },
     "user_tz": 360
    },
    "id": "rMLlz4xSIbAg"
   },
   "outputs": [],
   "source": [
    "temp = file3_lines[0]"
   ]
  },
  {
   "cell_type": "code",
   "execution_count": 26,
   "metadata": {
    "colab": {
     "base_uri": "https://localhost:8080/",
     "height": 36
    },
    "executionInfo": {
     "elapsed": 99,
     "status": "ok",
     "timestamp": 1705121124388,
     "user": {
      "displayName": "Henry Hsu",
      "userId": "15979258104560629822"
     },
     "user_tz": 360
    },
    "id": "OeXfvFRnIzk0",
    "outputId": "5083ba7f-a4f2-48a1-de50-29e377d2f75b"
   },
   "outputs": [
    {
     "data": {
      "application/vnd.google.colaboratory.intrinsic+json": {
       "type": "string"
      },
      "text/plain": [
       "'amount,duration,rate,down_payment'"
      ]
     },
     "execution_count": 26,
     "metadata": {},
     "output_type": "execute_result"
    }
   ],
   "source": [
    "temp.strip()"
   ]
  },
  {
   "cell_type": "code",
   "execution_count": 23,
   "metadata": {
    "colab": {
     "base_uri": "https://localhost:8080/",
     "height": 36
    },
    "executionInfo": {
     "elapsed": 656,
     "status": "ok",
     "timestamp": 1705121019562,
     "user": {
      "displayName": "Henry Hsu",
      "userId": "15979258104560629822"
     },
     "user_tz": 360
    },
    "id": "ClwgO7tZ2U3K",
    "outputId": "9ea79de5-246c-4b86-9382-2fc8c430773b"
   },
   "outputs": [
    {
     "data": {
      "application/vnd.google.colaboratory.intrinsic+json": {
       "type": "string"
      },
      "text/plain": [
       "'amount,duration,rate,down_payment\\n'"
      ]
     },
     "execution_count": 23,
     "metadata": {},
     "output_type": "execute_result"
    }
   ],
   "source": [
    "file3_lines[0]"
   ]
  },
  {
   "cell_type": "code",
   "execution_count": 27,
   "metadata": {
    "executionInfo": {
     "elapsed": 51,
     "status": "ok",
     "timestamp": 1705121423098,
     "user": {
      "displayName": "Henry Hsu",
      "userId": "15979258104560629822"
     },
     "user_tz": 360
    },
    "id": "vRNK5a4c2U3M"
   },
   "outputs": [],
   "source": [
    "headers = parse_headers(file3_lines[0])"
   ]
  },
  {
   "cell_type": "code",
   "execution_count": 28,
   "metadata": {
    "colab": {
     "base_uri": "https://localhost:8080/"
    },
    "executionInfo": {
     "elapsed": 48,
     "status": "ok",
     "timestamp": 1705121423101,
     "user": {
      "displayName": "Henry Hsu",
      "userId": "15979258104560629822"
     },
     "user_tz": 360
    },
    "id": "lPnRSm6a2U3N",
    "outputId": "c0206109-97d8-4d68-98ab-491a9e422e63"
   },
   "outputs": [
    {
     "data": {
      "text/plain": [
       "['amount', 'duration', 'rate', 'down_payment']"
      ]
     },
     "execution_count": 28,
     "metadata": {},
     "output_type": "execute_result"
    }
   ],
   "source": [
    "headers"
   ]
  },
  {
   "cell_type": "markdown",
   "metadata": {
    "id": "re7UEn4X2U3P"
   },
   "source": [
    "Next, let's define a function `parse_values` that takes a line containing some data and returns a list of floating-point numbers."
   ]
  },
  {
   "cell_type": "code",
   "execution_count": 29,
   "metadata": {
    "executionInfo": {
     "elapsed": 527,
     "status": "ok",
     "timestamp": 1705121441706,
     "user": {
      "displayName": "Henry Hsu",
      "userId": "15979258104560629822"
     },
     "user_tz": 360
    },
    "id": "9wU6dBG12U3P"
   },
   "outputs": [],
   "source": [
    "def parse_values(data_line):\n",
    "    values = []\n",
    "    for item in data_line.strip().split(','):\n",
    "        values.append(float(item))\n",
    "    return values"
   ]
  },
  {
   "cell_type": "code",
   "execution_count": 30,
   "metadata": {
    "colab": {
     "base_uri": "https://localhost:8080/",
     "height": 36
    },
    "executionInfo": {
     "elapsed": 775,
     "status": "ok",
     "timestamp": 1705121454667,
     "user": {
      "displayName": "Henry Hsu",
      "userId": "15979258104560629822"
     },
     "user_tz": 360
    },
    "id": "q681AHty2U3Q",
    "outputId": "e7b942a0-2e4f-48ce-8954-532348607b0c"
   },
   "outputs": [
    {
     "data": {
      "application/vnd.google.colaboratory.intrinsic+json": {
       "type": "string"
      },
      "text/plain": [
       "'45230,48,0.07,4300\\n'"
      ]
     },
     "execution_count": 30,
     "metadata": {},
     "output_type": "execute_result"
    }
   ],
   "source": [
    "file3_lines[1]"
   ]
  },
  {
   "cell_type": "code",
   "execution_count": 31,
   "metadata": {
    "colab": {
     "base_uri": "https://localhost:8080/"
    },
    "executionInfo": {
     "elapsed": 37,
     "status": "ok",
     "timestamp": 1705121457693,
     "user": {
      "displayName": "Henry Hsu",
      "userId": "15979258104560629822"
     },
     "user_tz": 360
    },
    "id": "xhy4LNoe2U3S",
    "outputId": "21dce512-4a3e-4289-ef4e-c66a0bbaef6f"
   },
   "outputs": [
    {
     "data": {
      "text/plain": [
       "[45230.0, 48.0, 0.07, 4300.0]"
      ]
     },
     "execution_count": 31,
     "metadata": {},
     "output_type": "execute_result"
    }
   ],
   "source": [
    "parse_values(file3_lines[1])"
   ]
  },
  {
   "cell_type": "markdown",
   "metadata": {
    "id": "amrhmPyF2U3T"
   },
   "source": [
    "The values were parsed and converted to floating point numbers, as expected. Let's try it for another line from the file, which does not contain a value for the down payment."
   ]
  },
  {
   "cell_type": "code",
   "execution_count": 32,
   "metadata": {
    "colab": {
     "base_uri": "https://localhost:8080/",
     "height": 36
    },
    "executionInfo": {
     "elapsed": 755,
     "status": "ok",
     "timestamp": 1705121649463,
     "user": {
      "displayName": "Henry Hsu",
      "userId": "15979258104560629822"
     },
     "user_tz": 360
    },
    "id": "JvtDrlCC2U3U",
    "outputId": "cdf03a5a-8f6b-41e0-c294-048f72278693"
   },
   "outputs": [
    {
     "data": {
      "application/vnd.google.colaboratory.intrinsic+json": {
       "type": "string"
      },
      "text/plain": [
       "'883000,16,0.14,\\n'"
      ]
     },
     "execution_count": 32,
     "metadata": {},
     "output_type": "execute_result"
    }
   ],
   "source": [
    "file3_lines[2]"
   ]
  },
  {
   "cell_type": "code",
   "execution_count": null,
   "metadata": {
    "id": "lWZyWgwI2U3V",
    "outputId": "3d959825-cb32-4f45-e0c0-24e5e767f929"
   },
   "outputs": [
    {
     "ename": "ValueError",
     "evalue": "could not convert string to float: ",
     "output_type": "error",
     "traceback": [
      "\u001b[0;31m---------------------------------------------------------------------------\u001b[0m",
      "\u001b[0;31mValueError\u001b[0m                                Traceback (most recent call last)",
      "\u001b[0;32m<ipython-input-32-b170e8564609>\u001b[0m in \u001b[0;36m<module>\u001b[0;34m\u001b[0m\n\u001b[0;32m----> 1\u001b[0;31m \u001b[0mparse_values\u001b[0m\u001b[0;34m(\u001b[0m\u001b[0mfile3_lines\u001b[0m\u001b[0;34m[\u001b[0m\u001b[0;36m2\u001b[0m\u001b[0;34m]\u001b[0m\u001b[0;34m)\u001b[0m\u001b[0;34m\u001b[0m\u001b[0;34m\u001b[0m\u001b[0m\n\u001b[0m",
      "\u001b[0;32m<ipython-input-28-8be4024619c8>\u001b[0m in \u001b[0;36mparse_values\u001b[0;34m(data_line)\u001b[0m\n\u001b[1;32m      2\u001b[0m     \u001b[0mvalues\u001b[0m \u001b[0;34m=\u001b[0m \u001b[0;34m[\u001b[0m\u001b[0;34m]\u001b[0m\u001b[0;34m\u001b[0m\u001b[0;34m\u001b[0m\u001b[0m\n\u001b[1;32m      3\u001b[0m     \u001b[0;32mfor\u001b[0m \u001b[0mitem\u001b[0m \u001b[0;32min\u001b[0m \u001b[0mdata_line\u001b[0m\u001b[0;34m.\u001b[0m\u001b[0mstrip\u001b[0m\u001b[0;34m(\u001b[0m\u001b[0;34m)\u001b[0m\u001b[0;34m.\u001b[0m\u001b[0msplit\u001b[0m\u001b[0;34m(\u001b[0m\u001b[0;34m','\u001b[0m\u001b[0;34m)\u001b[0m\u001b[0;34m:\u001b[0m\u001b[0;34m\u001b[0m\u001b[0;34m\u001b[0m\u001b[0m\n\u001b[0;32m----> 4\u001b[0;31m         \u001b[0mvalues\u001b[0m\u001b[0;34m.\u001b[0m\u001b[0mappend\u001b[0m\u001b[0;34m(\u001b[0m\u001b[0mfloat\u001b[0m\u001b[0;34m(\u001b[0m\u001b[0mitem\u001b[0m\u001b[0;34m)\u001b[0m\u001b[0;34m)\u001b[0m\u001b[0;34m\u001b[0m\u001b[0;34m\u001b[0m\u001b[0m\n\u001b[0m\u001b[1;32m      5\u001b[0m     \u001b[0;32mreturn\u001b[0m \u001b[0mvalues\u001b[0m\u001b[0;34m\u001b[0m\u001b[0;34m\u001b[0m\u001b[0m\n",
      "\u001b[0;31mValueError\u001b[0m: could not convert string to float: "
     ]
    }
   ],
   "source": [
    "parse_values(file3_lines[2])"
   ]
  },
  {
   "cell_type": "code",
   "execution_count": 35,
   "metadata": {
    "colab": {
     "base_uri": "https://localhost:8080/"
    },
    "executionInfo": {
     "elapsed": 39,
     "status": "ok",
     "timestamp": 1705121994361,
     "user": {
      "displayName": "Henry Hsu",
      "userId": "15979258104560629822"
     },
     "user_tz": 360
    },
    "id": "qGIDSbj3MKXR",
    "outputId": "45b70263-4f08-48ba-e544-d24b6801c54e"
   },
   "outputs": [
    {
     "data": {
      "text/plain": [
       "['883000', '16', '0.14', '']"
      ]
     },
     "execution_count": 35,
     "metadata": {},
     "output_type": "execute_result"
    }
   ],
   "source": [
    "# 測試\n",
    "temp = file3_lines[2]\n",
    "temp.strip().split(',')"
   ]
  },
  {
   "cell_type": "markdown",
   "metadata": {
    "id": "HQ1Yo80A2U3W"
   },
   "source": [
    "The code above leads to a `ValueError` because the empty string `''` cannot be converted to a float. We can enhance the `parse_values` function to handle this *edge case*. We will also handle the case where the value is not a float."
   ]
  },
  {
   "cell_type": "code",
   "execution_count": 36,
   "metadata": {
    "executionInfo": {
     "elapsed": 605,
     "status": "ok",
     "timestamp": 1705122086307,
     "user": {
      "displayName": "Henry Hsu",
      "userId": "15979258104560629822"
     },
     "user_tz": 360
    },
    "id": "otEQ4CtO2U3X"
   },
   "outputs": [],
   "source": [
    "def parse_values(data_line):\n",
    "    values = []\n",
    "    for item in data_line.strip().split(','):\n",
    "        if item == '':\n",
    "            values.append(0.0)\n",
    "        else:\n",
    "            try:\n",
    "                values.append(float(item))\n",
    "            except ValueError:\n",
    "                values.append(item)\n",
    "    return values"
   ]
  },
  {
   "cell_type": "code",
   "execution_count": 37,
   "metadata": {
    "colab": {
     "base_uri": "https://localhost:8080/",
     "height": 36
    },
    "executionInfo": {
     "elapsed": 86,
     "status": "ok",
     "timestamp": 1705122087138,
     "user": {
      "displayName": "Henry Hsu",
      "userId": "15979258104560629822"
     },
     "user_tz": 360
    },
    "id": "wqV1HMj22U3Y",
    "outputId": "6b8b0473-9eb6-4e0d-90fe-e8af3341d809"
   },
   "outputs": [
    {
     "data": {
      "application/vnd.google.colaboratory.intrinsic+json": {
       "type": "string"
      },
      "text/plain": [
       "'883000,16,0.14,\\n'"
      ]
     },
     "execution_count": 37,
     "metadata": {},
     "output_type": "execute_result"
    }
   ],
   "source": [
    "file3_lines[2]"
   ]
  },
  {
   "cell_type": "code",
   "execution_count": 38,
   "metadata": {
    "colab": {
     "base_uri": "https://localhost:8080/"
    },
    "executionInfo": {
     "elapsed": 75,
     "status": "ok",
     "timestamp": 1705122087141,
     "user": {
      "displayName": "Henry Hsu",
      "userId": "15979258104560629822"
     },
     "user_tz": 360
    },
    "id": "axcZl1gi2U3Z",
    "outputId": "215c1145-0e0b-4961-8eb9-359d0698a983"
   },
   "outputs": [
    {
     "data": {
      "text/plain": [
       "[883000.0, 16.0, 0.14, 0.0]"
      ]
     },
     "execution_count": 38,
     "metadata": {},
     "output_type": "execute_result"
    }
   ],
   "source": [
    "parse_values(file3_lines[2])"
   ]
  },
  {
   "cell_type": "markdown",
   "metadata": {
    "id": "8bkAHydW2U3b"
   },
   "source": [
    "Next, let's define a function `create_item_dict` that takes a list of values and a list of headers as inputs and returns a dictionary with the values associated with their respective headers as keys.\n"
   ]
  },
  {
   "cell_type": "code",
   "execution_count": 39,
   "metadata": {
    "executionInfo": {
     "elapsed": 482,
     "status": "ok",
     "timestamp": 1705122118915,
     "user": {
      "displayName": "Henry Hsu",
      "userId": "15979258104560629822"
     },
     "user_tz": 360
    },
    "id": "uj3Yaswu2U3c"
   },
   "outputs": [],
   "source": [
    "def create_item_dict(values, headers):\n",
    "    result = {}\n",
    "    for value, header in zip(values, headers):\n",
    "        result[header] = value\n",
    "    return result"
   ]
  },
  {
   "cell_type": "markdown",
   "metadata": {
    "id": "PiWB1aC22U3e"
   },
   "source": [
    "Can you figure out what the Python built-in function `zip` does? Try out an example, or [read the documentation](https://docs.python.org/3.3/library/functions.html#zip)."
   ]
  },
  {
   "cell_type": "code",
   "execution_count": null,
   "metadata": {
    "id": "Vp_5s_2a2U3f",
    "outputId": "4019bedd-5cb1-4b6f-9965-9e411b83791b"
   },
   "outputs": [
    {
     "name": "stdout",
     "output_type": "stream",
     "text": [
      "(1, 'a')\n",
      "(2, 'b')\n",
      "(3, 'c')\n"
     ]
    }
   ],
   "source": [
    "for item in zip([1,2,3], ['a', 'b', 'c']):\n",
    "    print(item)"
   ]
  },
  {
   "cell_type": "markdown",
   "metadata": {
    "id": "sZHW3pfE2U3g"
   },
   "source": [
    "Let's try out `create_item_dict` with a couple of examples."
   ]
  },
  {
   "cell_type": "code",
   "execution_count": null,
   "metadata": {
    "id": "0vm4BL9n2U3h",
    "outputId": "12eec556-8a30-4727-c394-485ce6b5c8b7"
   },
   "outputs": [
    {
     "data": {
      "text/plain": [
       "'45230,48,0.07,4300\\n'"
      ]
     },
     "execution_count": 38,
     "metadata": {},
     "output_type": "execute_result"
    }
   ],
   "source": [
    "file3_lines[1]"
   ]
  },
  {
   "cell_type": "code",
   "execution_count": 40,
   "metadata": {
    "colab": {
     "base_uri": "https://localhost:8080/"
    },
    "executionInfo": {
     "elapsed": 516,
     "status": "ok",
     "timestamp": 1705122262911,
     "user": {
      "displayName": "Henry Hsu",
      "userId": "15979258104560629822"
     },
     "user_tz": 360
    },
    "id": "R3qjwOEV2U3j",
    "outputId": "8710d886-12cc-46cf-ea9c-e46a3ab48848"
   },
   "outputs": [
    {
     "data": {
      "text/plain": [
       "{'amount': 45230.0, 'duration': 48.0, 'rate': 0.07, 'down_payment': 4300.0}"
      ]
     },
     "execution_count": 40,
     "metadata": {},
     "output_type": "execute_result"
    }
   ],
   "source": [
    "values1 = parse_values(file3_lines[1])\n",
    "create_item_dict(values1, headers)"
   ]
  },
  {
   "cell_type": "code",
   "execution_count": 43,
   "metadata": {
    "colab": {
     "base_uri": "https://localhost:8080/",
     "height": 36
    },
    "executionInfo": {
     "elapsed": 796,
     "status": "ok",
     "timestamp": 1705122292371,
     "user": {
      "displayName": "Henry Hsu",
      "userId": "15979258104560629822"
     },
     "user_tz": 360
    },
    "id": "Nc52QADt2U3k",
    "outputId": "ec77ad5f-5d44-43df-feb4-f6ce8323b5b1"
   },
   "outputs": [
    {
     "data": {
      "application/vnd.google.colaboratory.intrinsic+json": {
       "type": "string"
      },
      "text/plain": [
       "'883000,16,0.14,\\n'"
      ]
     },
     "execution_count": 43,
     "metadata": {},
     "output_type": "execute_result"
    }
   ],
   "source": [
    "file3_lines[2]"
   ]
  },
  {
   "cell_type": "code",
   "execution_count": 42,
   "metadata": {
    "colab": {
     "base_uri": "https://localhost:8080/"
    },
    "executionInfo": {
     "elapsed": 572,
     "status": "ok",
     "timestamp": 1705122284164,
     "user": {
      "displayName": "Henry Hsu",
      "userId": "15979258104560629822"
     },
     "user_tz": 360
    },
    "id": "PCrjBDSj2U3l",
    "outputId": "8fc8cd92-1e65-44e9-fe58-d74dd563b9a0"
   },
   "outputs": [
    {
     "data": {
      "text/plain": [
       "{'amount': 883000.0, 'duration': 16.0, 'rate': 0.14, 'down_payment': 0.0}"
      ]
     },
     "execution_count": 42,
     "metadata": {},
     "output_type": "execute_result"
    }
   ],
   "source": [
    "values2 = parse_values(file3_lines[2])\n",
    "create_item_dict(values2, headers)"
   ]
  },
  {
   "cell_type": "markdown",
   "metadata": {
    "id": "BfWCr38C2U3n"
   },
   "source": [
    "As expected, the values & header are combined to create a dictionary with the appropriate key-value pairs.\n",
    "\n",
    "We are now ready to put it all together and define the `read_csv` function."
   ]
  },
  {
   "cell_type": "code",
   "execution_count": 44,
   "metadata": {
    "executionInfo": {
     "elapsed": 592,
     "status": "ok",
     "timestamp": 1705122331024,
     "user": {
      "displayName": "Henry Hsu",
      "userId": "15979258104560629822"
     },
     "user_tz": 360
    },
    "id": "ikM7nEZX2U3o"
   },
   "outputs": [],
   "source": [
    "def read_csv(path):\n",
    "    result = []\n",
    "    # Open the file in read mode\n",
    "    with open(path, 'r') as f:\n",
    "        # Get a list of lines\n",
    "        lines = f.readlines()\n",
    "        # Parse the header\n",
    "        headers = parse_headers(lines[0])\n",
    "        # Loop over the remaining lines\n",
    "        for data_line in lines[1:]:\n",
    "            # Parse the values\n",
    "            values = parse_values(data_line)\n",
    "            # Create a dictionary using values & headers\n",
    "            item_dict = create_item_dict(values, headers)\n",
    "            # Add the dictionary to the result\n",
    "            result.append(item_dict)\n",
    "    return result"
   ]
  },
  {
   "cell_type": "markdown",
   "metadata": {
    "id": "Sd7CsVPK2U3q"
   },
   "source": [
    "Let's try it out!"
   ]
  },
  {
   "cell_type": "code",
   "execution_count": 45,
   "metadata": {
    "colab": {
     "base_uri": "https://localhost:8080/"
    },
    "executionInfo": {
     "elapsed": 479,
     "status": "ok",
     "timestamp": 1705122371827,
     "user": {
      "displayName": "Henry Hsu",
      "userId": "15979258104560629822"
     },
     "user_tz": 360
    },
    "id": "RUpSl7Hx2U3s",
    "outputId": "a3c7bdac-3b07-482f-9870-b36fea52e18f"
   },
   "outputs": [
    {
     "name": "stdout",
     "output_type": "stream",
     "text": [
      "amount,duration,rate,down_payment\n",
      "828400,120,0.11,100000\n",
      "4633400,240,0.06,\n",
      "42900,90,0.08,8900\n",
      "983000,16,0.14,\n",
      "15230,48,0.07,4300\n"
     ]
    }
   ],
   "source": [
    "with open('./data/loans2.txt') as file2:\n",
    "    print(file2.read())"
   ]
  },
  {
   "cell_type": "code",
   "execution_count": 46,
   "metadata": {
    "colab": {
     "base_uri": "https://localhost:8080/"
    },
    "executionInfo": {
     "elapsed": 769,
     "status": "ok",
     "timestamp": 1705122406649,
     "user": {
      "displayName": "Henry Hsu",
      "userId": "15979258104560629822"
     },
     "user_tz": 360
    },
    "id": "-pVF04Ia2U3t",
    "outputId": "d62a359e-476a-4c6f-d8e3-302363154afd"
   },
   "outputs": [
    {
     "data": {
      "text/plain": [
       "[{'amount': 828400.0,\n",
       "  'duration': 120.0,\n",
       "  'rate': 0.11,\n",
       "  'down_payment': 100000.0},\n",
       " {'amount': 4633400.0, 'duration': 240.0, 'rate': 0.06, 'down_payment': 0.0},\n",
       " {'amount': 42900.0, 'duration': 90.0, 'rate': 0.08, 'down_payment': 8900.0},\n",
       " {'amount': 983000.0, 'duration': 16.0, 'rate': 0.14, 'down_payment': 0.0},\n",
       " {'amount': 15230.0, 'duration': 48.0, 'rate': 0.07, 'down_payment': 4300.0}]"
      ]
     },
     "execution_count": 46,
     "metadata": {},
     "output_type": "execute_result"
    }
   ],
   "source": [
    "read_csv('./data/loans2.txt')"
   ]
  },
  {
   "cell_type": "markdown",
   "metadata": {
    "id": "Y5omaeMp2U3v"
   },
   "source": [
    "The file is read and converted to a list of dictionaries, as expected. The `read_csv` file is generic enough that it can parse any file in the CSV format, with any number of rows or columns. Here's the full code for `read_csv` along with the helper functions:"
   ]
  },
  {
   "cell_type": "code",
   "execution_count": 47,
   "metadata": {
    "executionInfo": {
     "elapsed": 700,
     "status": "ok",
     "timestamp": 1705122531200,
     "user": {
      "displayName": "Henry Hsu",
      "userId": "15979258104560629822"
     },
     "user_tz": 360
    },
    "id": "tHAAFSCy2U3w"
   },
   "outputs": [],
   "source": [
    "def parse_headers(header_line):\n",
    "    return header_line.strip().split(',')\n",
    "\n",
    "def parse_values(data_line):\n",
    "    values = []\n",
    "    for item in data_line.strip().split(','):\n",
    "        if item == '':\n",
    "            values.append(0.0)\n",
    "        else:\n",
    "            try:\n",
    "                values.append(float(item))\n",
    "            except ValueError:\n",
    "                values.append(item)\n",
    "    return values\n",
    "\n",
    "def create_item_dict(values, headers):\n",
    "    result = {}\n",
    "    for value, header in zip(values, headers):\n",
    "        result[header] = value\n",
    "    return result\n",
    "\n",
    "def read_csv(path):\n",
    "    result = []\n",
    "    # Open the file in read mode\n",
    "    with open(path, 'r') as f:\n",
    "        # Get a list of lines\n",
    "        lines = f.readlines()\n",
    "        # Parse the header\n",
    "        headers = parse_headers(lines[0])\n",
    "        # Loop over the remaining lines\n",
    "        for data_line in lines[1:]:\n",
    "            # Parse the values\n",
    "            values = parse_values(data_line)\n",
    "            # Create a dictionary using values & headers\n",
    "            item_dict = create_item_dict(values, headers)\n",
    "            # Add the dictionary to the result\n",
    "            result.append(item_dict)\n",
    "    return result"
   ]
  },
  {
   "cell_type": "markdown",
   "metadata": {
    "id": "4TdpWWsG2U3y"
   },
   "source": [
    "Try to create small, generic, and reusable functions whenever possible. They will likely be useful beyond just the problem at hand and save you significant effort in the future.\n",
    "\n",
    "In the [previous tutorial](https://jovian.ml/aakashns/python-functions-and-scope), we defined a function to calculate the equal monthly installments for a loan. Here's what it looked like:"
   ]
  },
  {
   "cell_type": "code",
   "execution_count": 48,
   "metadata": {
    "executionInfo": {
     "elapsed": 478,
     "status": "ok",
     "timestamp": 1705122560349,
     "user": {
      "displayName": "Henry Hsu",
      "userId": "15979258104560629822"
     },
     "user_tz": 360
    },
    "id": "x42-eOMB2U3z"
   },
   "outputs": [],
   "source": [
    "import math\n",
    "\n",
    "def loan_emi(amount, duration, rate, down_payment=0):\n",
    "    \"\"\"Calculates the equal montly installment (EMI) for a loan.\n",
    "\n",
    "    Arguments:\n",
    "        amount - Total amount to be spent (loan + down payment)\n",
    "        duration - Duration of the loan (in months)\n",
    "        rate - Rate of interest (monthly)\n",
    "        down_payment (optional) - Optional intial payment (deducted from amount)\n",
    "    \"\"\"\n",
    "    loan_amount = amount - down_payment\n",
    "    try:\n",
    "        emi = loan_amount * rate * ((1+rate)**duration) / (((1+rate)**duration)-1)\n",
    "    except ZeroDivisionError:\n",
    "        emi = loan_amount / duration\n",
    "    emi = math.ceil(emi)\n",
    "    return emi"
   ]
  },
  {
   "cell_type": "markdown",
   "metadata": {
    "id": "bcBFkfmc2U30"
   },
   "source": [
    "We can use this function to calculate EMIs for all the loans in a file."
   ]
  },
  {
   "cell_type": "code",
   "execution_count": 49,
   "metadata": {
    "executionInfo": {
     "elapsed": 466,
     "status": "ok",
     "timestamp": 1705122570432,
     "user": {
      "displayName": "Henry Hsu",
      "userId": "15979258104560629822"
     },
     "user_tz": 360
    },
    "id": "j_FH-xGB2U31"
   },
   "outputs": [],
   "source": [
    "loans2 = read_csv('./data/loans2.txt')"
   ]
  },
  {
   "cell_type": "code",
   "execution_count": 50,
   "metadata": {
    "colab": {
     "base_uri": "https://localhost:8080/"
    },
    "executionInfo": {
     "elapsed": 761,
     "status": "ok",
     "timestamp": 1705122576346,
     "user": {
      "displayName": "Henry Hsu",
      "userId": "15979258104560629822"
     },
     "user_tz": 360
    },
    "id": "sibZkHhO2U32",
    "outputId": "1146a382-1b32-4e35-89cd-7329d153e4dc"
   },
   "outputs": [
    {
     "data": {
      "text/plain": [
       "[{'amount': 828400.0,\n",
       "  'duration': 120.0,\n",
       "  'rate': 0.11,\n",
       "  'down_payment': 100000.0},\n",
       " {'amount': 4633400.0, 'duration': 240.0, 'rate': 0.06, 'down_payment': 0.0},\n",
       " {'amount': 42900.0, 'duration': 90.0, 'rate': 0.08, 'down_payment': 8900.0},\n",
       " {'amount': 983000.0, 'duration': 16.0, 'rate': 0.14, 'down_payment': 0.0},\n",
       " {'amount': 15230.0, 'duration': 48.0, 'rate': 0.07, 'down_payment': 4300.0}]"
      ]
     },
     "execution_count": 50,
     "metadata": {},
     "output_type": "execute_result"
    }
   ],
   "source": [
    "loans2"
   ]
  },
  {
   "cell_type": "code",
   "execution_count": 51,
   "metadata": {
    "executionInfo": {
     "elapsed": 625,
     "status": "ok",
     "timestamp": 1705122632104,
     "user": {
      "displayName": "Henry Hsu",
      "userId": "15979258104560629822"
     },
     "user_tz": 360
    },
    "id": "5We62hE92U34"
   },
   "outputs": [],
   "source": [
    "for loan in loans2:\n",
    "    loan['emi'] = loan_emi(loan['amount'],\n",
    "                 loan['duration'],\n",
    "                 loan['rate']/12, # the CSV contains yearly rates\n",
    "                 loan['down_payment'])"
   ]
  },
  {
   "cell_type": "code",
   "execution_count": 52,
   "metadata": {
    "colab": {
     "base_uri": "https://localhost:8080/"
    },
    "executionInfo": {
     "elapsed": 903,
     "status": "ok",
     "timestamp": 1705123037535,
     "user": {
      "displayName": "Henry Hsu",
      "userId": "15979258104560629822"
     },
     "user_tz": 360
    },
    "id": "JxDFaXrs2U35",
    "outputId": "82f23c40-fbd0-4673-8911-36a740566abb"
   },
   "outputs": [
    {
     "data": {
      "text/plain": [
       "[{'amount': 828400.0,\n",
       "  'duration': 120.0,\n",
       "  'rate': 0.11,\n",
       "  'down_payment': 100000.0,\n",
       "  'emi': 10034},\n",
       " {'amount': 4633400.0,\n",
       "  'duration': 240.0,\n",
       "  'rate': 0.06,\n",
       "  'down_payment': 0.0,\n",
       "  'emi': 33196},\n",
       " {'amount': 42900.0,\n",
       "  'duration': 90.0,\n",
       "  'rate': 0.08,\n",
       "  'down_payment': 8900.0,\n",
       "  'emi': 504},\n",
       " {'amount': 983000.0,\n",
       "  'duration': 16.0,\n",
       "  'rate': 0.14,\n",
       "  'down_payment': 0.0,\n",
       "  'emi': 67707},\n",
       " {'amount': 15230.0,\n",
       "  'duration': 48.0,\n",
       "  'rate': 0.07,\n",
       "  'down_payment': 4300.0,\n",
       "  'emi': 262}]"
      ]
     },
     "execution_count": 52,
     "metadata": {},
     "output_type": "execute_result"
    }
   ],
   "source": [
    "loans2"
   ]
  },
  {
   "cell_type": "markdown",
   "metadata": {
    "id": "2WqNVQov2U37"
   },
   "source": [
    "You can see that each loan now has a new key `emi`, which provides the EMI for the loan. We can extract this logic into a function so that we can use it for other files too."
   ]
  },
  {
   "cell_type": "code",
   "execution_count": 53,
   "metadata": {
    "executionInfo": {
     "elapsed": 477,
     "status": "ok",
     "timestamp": 1705123124886,
     "user": {
      "displayName": "Henry Hsu",
      "userId": "15979258104560629822"
     },
     "user_tz": 360
    },
    "id": "6rfluBo92U38"
   },
   "outputs": [],
   "source": [
    "def compute_emis(loans):\n",
    "    for loan in loans:\n",
    "        loan['emi'] = loan_emi(\n",
    "                      loan['amount'],\n",
    "                      loan['duration'],\n",
    "                      loan['rate']/12, # the CSV contains yearly rates\n",
    "                      loan['down_payment'])"
   ]
  },
  {
   "cell_type": "markdown",
   "metadata": {
    "id": "LO2gum2V2U39"
   },
   "source": [
    "## Writing to files\n",
    "\n",
    "Now that we have performed some processing on the data, it would be good to write the results back to a CSV file. We can create/open a file in `w` mode using `open` and write to it using the `.write` method. The string `format` method will come in handy here."
   ]
  },
  {
   "cell_type": "code",
   "execution_count": 54,
   "metadata": {
    "executionInfo": {
     "elapsed": 530,
     "status": "ok",
     "timestamp": 1705123315065,
     "user": {
      "displayName": "Henry Hsu",
      "userId": "15979258104560629822"
     },
     "user_tz": 360
    },
    "id": "R4YmPpW72U3-"
   },
   "outputs": [],
   "source": [
    "loans2 = read_csv('./data/loans2.txt')"
   ]
  },
  {
   "cell_type": "code",
   "execution_count": 55,
   "metadata": {
    "executionInfo": {
     "elapsed": 26,
     "status": "ok",
     "timestamp": 1705123317506,
     "user": {
      "displayName": "Henry Hsu",
      "userId": "15979258104560629822"
     },
     "user_tz": 360
    },
    "id": "B_fC3sjW2U3_"
   },
   "outputs": [],
   "source": [
    "compute_emis(loans2)"
   ]
  },
  {
   "cell_type": "code",
   "execution_count": 56,
   "metadata": {
    "colab": {
     "base_uri": "https://localhost:8080/"
    },
    "executionInfo": {
     "elapsed": 88,
     "status": "ok",
     "timestamp": 1705123321119,
     "user": {
      "displayName": "Henry Hsu",
      "userId": "15979258104560629822"
     },
     "user_tz": 360
    },
    "id": "Mud9HwWG2U4B",
    "outputId": "d578febb-5f45-4383-fcfa-bb5b9e5b8731"
   },
   "outputs": [
    {
     "data": {
      "text/plain": [
       "[{'amount': 828400.0,\n",
       "  'duration': 120.0,\n",
       "  'rate': 0.11,\n",
       "  'down_payment': 100000.0,\n",
       "  'emi': 10034},\n",
       " {'amount': 4633400.0,\n",
       "  'duration': 240.0,\n",
       "  'rate': 0.06,\n",
       "  'down_payment': 0.0,\n",
       "  'emi': 33196},\n",
       " {'amount': 42900.0,\n",
       "  'duration': 90.0,\n",
       "  'rate': 0.08,\n",
       "  'down_payment': 8900.0,\n",
       "  'emi': 504},\n",
       " {'amount': 983000.0,\n",
       "  'duration': 16.0,\n",
       "  'rate': 0.14,\n",
       "  'down_payment': 0.0,\n",
       "  'emi': 67707},\n",
       " {'amount': 15230.0,\n",
       "  'duration': 48.0,\n",
       "  'rate': 0.07,\n",
       "  'down_payment': 4300.0,\n",
       "  'emi': 262}]"
      ]
     },
     "execution_count": 56,
     "metadata": {},
     "output_type": "execute_result"
    }
   ],
   "source": [
    "loans2"
   ]
  },
  {
   "cell_type": "code",
   "execution_count": 57,
   "metadata": {
    "executionInfo": {
     "elapsed": 477,
     "status": "ok",
     "timestamp": 1705123344981,
     "user": {
      "displayName": "Henry Hsu",
      "userId": "15979258104560629822"
     },
     "user_tz": 360
    },
    "id": "PEvejHMV2U4C"
   },
   "outputs": [],
   "source": [
    "with open('./data/emis2.txt', 'w') as f:\n",
    "    for loan in loans2:\n",
    "        f.write('{},{},{},{},{}\\n'.format(\n",
    "            loan['amount'],\n",
    "            loan['duration'],\n",
    "            loan['rate'],\n",
    "            loan['down_payment'],\n",
    "            loan['emi']))"
   ]
  },
  {
   "cell_type": "markdown",
   "metadata": {
    "id": "dX-PnhCI2U4E"
   },
   "source": [
    "Let's verify that the file was created and written to as expected."
   ]
  },
  {
   "cell_type": "code",
   "execution_count": 58,
   "metadata": {
    "colab": {
     "base_uri": "https://localhost:8080/"
    },
    "executionInfo": {
     "elapsed": 3926,
     "status": "ok",
     "timestamp": 1705123360480,
     "user": {
      "displayName": "Henry Hsu",
      "userId": "15979258104560629822"
     },
     "user_tz": 360
    },
    "id": "6OZtHGWd2U4F",
    "outputId": "b695c431-c11b-4f33-dfdf-31ce2d3d56fd"
   },
   "outputs": [
    {
     "data": {
      "text/plain": [
       "['loans2.txt', 'emis2.txt', 'loans1.txt', 'loans3.txt']"
      ]
     },
     "execution_count": 58,
     "metadata": {},
     "output_type": "execute_result"
    }
   ],
   "source": [
    "os.listdir('data')"
   ]
  },
  {
   "cell_type": "code",
   "execution_count": 59,
   "metadata": {
    "colab": {
     "base_uri": "https://localhost:8080/"
    },
    "executionInfo": {
     "elapsed": 550,
     "status": "ok",
     "timestamp": 1705123380797,
     "user": {
      "displayName": "Henry Hsu",
      "userId": "15979258104560629822"
     },
     "user_tz": 360
    },
    "id": "NPiVTvXW2U4H",
    "outputId": "5b18d0af-a11e-4c5f-8971-d78fe70245ea"
   },
   "outputs": [
    {
     "name": "stdout",
     "output_type": "stream",
     "text": [
      "828400.0,120.0,0.11,100000.0,10034\n",
      "4633400.0,240.0,0.06,0.0,33196\n",
      "42900.0,90.0,0.08,8900.0,504\n",
      "983000.0,16.0,0.14,0.0,67707\n",
      "15230.0,48.0,0.07,4300.0,262\n",
      "\n"
     ]
    }
   ],
   "source": [
    "with open('./data/emis2.txt', 'r') as f:\n",
    "    print(f.read())"
   ]
  },
  {
   "cell_type": "markdown",
   "metadata": {
    "id": "OCwlOQQX2U4J"
   },
   "source": [
    "Great, looks like the loan details (along with the computed EMIs) were written into the file.\n",
    "\n",
    "Let's define a generic function `write_csv` which takes a list of dictionaries and writes it to a file in CSV format. We will also include the column headers in the first line."
   ]
  },
  {
   "cell_type": "code",
   "execution_count": 65,
   "metadata": {
    "executionInfo": {
     "elapsed": 734,
     "status": "ok",
     "timestamp": 1705124654523,
     "user": {
      "displayName": "Henry Hsu",
      "userId": "15979258104560629822"
     },
     "user_tz": 360
    },
    "id": "uYAjQDtS2U4K"
   },
   "outputs": [],
   "source": [
    "def write_csv(items, path):\n",
    "    # Open the file in write mode\n",
    "    with open(path, 'w') as f:\n",
    "        # Return if there's nothing to write\n",
    "        if len(items) == 0:\n",
    "            return\n",
    "\n",
    "        # Write the headers in the first line\n",
    "        headers = list(items[0].keys())\n",
    "        f.write(','.join(headers) + '\\n')\n",
    "        \"\"\"','.join(hearders)是把','插入到兩兩str elements(來自headers)之間\"\"\"\n",
    "\n",
    "        # Write one item per line\n",
    "        for item in items:\n",
    "            values = []\n",
    "            for header in headers:\n",
    "                values.append(str(item.get(header, \"\")))\n",
    "            f.write(','.join(values) + \"\\n\")"
   ]
  },
  {
   "cell_type": "markdown",
   "metadata": {
    "id": "HN6-Jp2G2U4M"
   },
   "source": [
    "Do you understand how the function works? If now, try executing each statement by line by line or a different cell to figure out how it works.\n",
    "\n",
    "Let's try it out!"
   ]
  },
  {
   "cell_type": "code",
   "execution_count": 60,
   "metadata": {
    "executionInfo": {
     "elapsed": 485,
     "status": "ok",
     "timestamp": 1705123671537,
     "user": {
      "displayName": "Henry Hsu",
      "userId": "15979258104560629822"
     },
     "user_tz": 360
    },
    "id": "4KDCEtn32U4N"
   },
   "outputs": [],
   "source": [
    "loans3 = read_csv('./data/loans3.txt')"
   ]
  },
  {
   "cell_type": "code",
   "execution_count": 61,
   "metadata": {
    "executionInfo": {
     "elapsed": 467,
     "status": "ok",
     "timestamp": 1705123680378,
     "user": {
      "displayName": "Henry Hsu",
      "userId": "15979258104560629822"
     },
     "user_tz": 360
    },
    "id": "27KYBL042U4O"
   },
   "outputs": [],
   "source": [
    "compute_emis(loans3)"
   ]
  },
  {
   "cell_type": "code",
   "execution_count": 66,
   "metadata": {
    "executionInfo": {
     "elapsed": 878,
     "status": "ok",
     "timestamp": 1705124665611,
     "user": {
      "displayName": "Henry Hsu",
      "userId": "15979258104560629822"
     },
     "user_tz": 360
    },
    "id": "x0tze7Y92U4P"
   },
   "outputs": [],
   "source": [
    "write_csv(loans3, './data/emis3.txt')"
   ]
  },
  {
   "cell_type": "code",
   "execution_count": 67,
   "metadata": {
    "colab": {
     "base_uri": "https://localhost:8080/"
    },
    "executionInfo": {
     "elapsed": 44,
     "status": "ok",
     "timestamp": 1705124666285,
     "user": {
      "displayName": "Henry Hsu",
      "userId": "15979258104560629822"
     },
     "user_tz": 360
    },
    "id": "vUPeT_0n2U4Q",
    "outputId": "7d4c785b-706c-4837-da42-ba8ff8a789e3"
   },
   "outputs": [
    {
     "name": "stdout",
     "output_type": "stream",
     "text": [
      "amount,duration,rate,down_payment,emi\n",
      "45230.0,48.0,0.07,4300.0,981\n",
      "883000.0,16.0,0.14,0.0,60819\n",
      "100000.0,12.0,0.1,0.0,8792\n",
      "728400.0,120.0,0.12,100000.0,9016\n",
      "3637400.0,240.0,0.06,0.0,26060\n",
      "82900.0,90.0,0.07,8900.0,1060\n",
      "316000.0,16.0,0.13,0.0,21618\n",
      "15230.0,48.0,0.08,4300.0,267\n",
      "991360.0,99.0,0.08,0.0,13712\n",
      "323000.0,27.0,0.09,4720010000.0,-193751447\n",
      "528400.0,120.0,0.11,100000.0,5902\n",
      "8633400.0,240.0,0.06,0.0,61853\n",
      "12900.0,90.0,0.08,8900.0,60\n",
      "\n"
     ]
    }
   ],
   "source": [
    "with open('./data/emis3.txt', 'r') as f:\n",
    "    print(f.read())"
   ]
  },
  {
   "cell_type": "markdown",
   "metadata": {
    "id": "8OjwoTCO2U4R"
   },
   "source": [
    "With just four lines of code, we can now read each downloaded file, calculate the EMIs, and write the results back to new files:"
   ]
  },
  {
   "cell_type": "code",
   "execution_count": null,
   "metadata": {
    "id": "LCVF7eFX2U4S"
   },
   "outputs": [],
   "source": [
    "for i in range(1,4):\n",
    "    loans = read_csv('./data/loans{}.txt'.format(i))\n",
    "    compute_emis(loans)\n",
    "    write_csv(loans, './data/emis{}.txt'.format(i))"
   ]
  },
  {
   "cell_type": "code",
   "execution_count": 68,
   "metadata": {
    "colab": {
     "base_uri": "https://localhost:8080/"
    },
    "executionInfo": {
     "elapsed": 485,
     "status": "ok",
     "timestamp": 1705124873889,
     "user": {
      "displayName": "Henry Hsu",
      "userId": "15979258104560629822"
     },
     "user_tz": 360
    },
    "id": "H8RCEyUK2U4T",
    "outputId": "e3030a30-67b0-407d-e617-e669087de981"
   },
   "outputs": [
    {
     "data": {
      "text/plain": [
       "['loans2.txt', 'emis3.txt', 'emis2.txt', 'loans1.txt', 'loans3.txt']"
      ]
     },
     "execution_count": 68,
     "metadata": {},
     "output_type": "execute_result"
    }
   ],
   "source": [
    "os.listdir('./data')"
   ]
  },
  {
   "cell_type": "markdown",
   "metadata": {
    "id": "j8HEmkNM2U4V"
   },
   "source": [
    "Isn't that wonderful? Once all the functions are defined, we can calculate EMIs for thousands or even millions of loans across many files in seconds with just a few lines of code. Now we're starting to see the real power of using a programming language like Python for processing data!"
   ]
  },
  {
   "cell_type": "markdown",
   "metadata": {
    "id": "VqPzYDJE2U4V"
   },
   "source": [
    "## Using Pandas to Read and Write CSVs\n",
    "\n",
    "<font color=\"red\">Lecture Video 3 不包含此章節</font>\n",
    "\n",
    "There are some limitations to the `read_csv` and `write_csv` functions we've defined above:\n",
    "\n",
    "* The `read_csv` function fails to create a proper dictionary if any of the values in the CSV files contains commas\n",
    "* The `write_csv` function fails to create a proper CSV if any of the values to be written contains commas\n",
    "\n",
    "When a value in a CSV file contains a comma (`,`), the value is generally placed within double quotes. Double quotes (`\"`) in values are converted into two double quotes (`\"\"`). Here's an example:\n",
    "\n",
    "```\n",
    "title,description\n",
    "Fast & Furious,\"A movie, a race, a franchise\"\n",
    "The Dark Knight,\"Gotham, the \"\"Batman\"\", and the Joker\"\n",
    "Memento,A guy forgets everything every 15 minutes\n",
    "\n",
    "```\n",
    "\n",
    "Let's try it out."
   ]
  },
  {
   "cell_type": "code",
   "execution_count": 69,
   "metadata": {
    "executionInfo": {
     "elapsed": 12,
     "status": "ok",
     "timestamp": 1705125083022,
     "user": {
      "displayName": "Henry Hsu",
      "userId": "15979258104560629822"
     },
     "user_tz": 360
    },
    "id": "uTjtfDMG2U4W"
   },
   "outputs": [],
   "source": [
    "movies_url = \"https://gist.githubusercontent.com/aakashns/afee0a407d44bbc02321993548021af9/raw/6d7473f0ac4c54aca65fc4b06ed831b8a4840190/movies.csv\""
   ]
  },
  {
   "cell_type": "code",
   "execution_count": 70,
   "metadata": {
    "colab": {
     "base_uri": "https://localhost:8080/"
    },
    "executionInfo": {
     "elapsed": 624,
     "status": "ok",
     "timestamp": 1705125084433,
     "user": {
      "displayName": "Henry Hsu",
      "userId": "15979258104560629822"
     },
     "user_tz": 360
    },
    "id": "o_wkOlEj2U4X",
    "outputId": "1f6c989b-25ba-4f57-d41d-f36a9ab19db9"
   },
   "outputs": [
    {
     "data": {
      "text/plain": [
       "('data/movies.csv', <http.client.HTTPMessage at 0x7c1a8d406ec0>)"
      ]
     },
     "execution_count": 70,
     "metadata": {},
     "output_type": "execute_result"
    }
   ],
   "source": [
    "urlretrieve(movies_url, 'data/movies.csv')"
   ]
  },
  {
   "cell_type": "code",
   "execution_count": null,
   "metadata": {
    "id": "bxdyXT2A2U4Y"
   },
   "outputs": [],
   "source": [
    "movies = read_csv('data/movies.csv')"
   ]
  },
  {
   "cell_type": "code",
   "execution_count": null,
   "metadata": {
    "id": "Dw4bLKt82U4Z",
    "outputId": "4032d934-49e6-4621-b96c-5fc293d3d52c"
   },
   "outputs": [
    {
     "data": {
      "text/plain": [
       "[{'title': 'Fast & Furious', 'description': '\"A movie'},\n",
       " {'title': 'The Dark Knight', 'description': '\"Gotham'},\n",
       " {'title': 'Memento',\n",
       "  'description': 'A guy forgets everything every 15 minutes'}]"
      ]
     },
     "execution_count": 68,
     "metadata": {},
     "output_type": "execute_result"
    }
   ],
   "source": [
    "movies"
   ]
  },
  {
   "cell_type": "markdown",
   "metadata": {
    "id": "Rqvfnppa2U4b"
   },
   "source": [
    "As you can seen above, the movie descriptions weren't parsed properly.\n",
    "\n",
    "To read this CSV properly, we can use the `pandas` library."
   ]
  },
  {
   "cell_type": "code",
   "execution_count": null,
   "metadata": {
    "id": "nqhVykqH2U4c"
   },
   "outputs": [],
   "source": [
    "!pip install pandas --upgrade --quiet"
   ]
  },
  {
   "cell_type": "code",
   "execution_count": 71,
   "metadata": {
    "executionInfo": {
     "elapsed": 676,
     "status": "ok",
     "timestamp": 1705125447369,
     "user": {
      "displayName": "Henry Hsu",
      "userId": "15979258104560629822"
     },
     "user_tz": 360
    },
    "id": "ON022Zq22U4d"
   },
   "outputs": [],
   "source": [
    "import pandas as pd"
   ]
  },
  {
   "cell_type": "markdown",
   "metadata": {
    "id": "NqkQHSgF2U4e"
   },
   "source": [
    "The `pd.read_csv` function can be used to read the CSV file into a pandas data frame: a spreadsheet-like object for analyzing and processing data. We'll learn more about data frames in a future lesson."
   ]
  },
  {
   "cell_type": "code",
   "execution_count": 72,
   "metadata": {
    "executionInfo": {
     "elapsed": 464,
     "status": "ok",
     "timestamp": 1705125478153,
     "user": {
      "displayName": "Henry Hsu",
      "userId": "15979258104560629822"
     },
     "user_tz": 360
    },
    "id": "oImgxQ3p2U4f"
   },
   "outputs": [],
   "source": [
    "movies_dataframe = pd.read_csv('data/movies.csv')"
   ]
  },
  {
   "cell_type": "code",
   "execution_count": 73,
   "metadata": {
    "colab": {
     "base_uri": "https://localhost:8080/",
     "height": 143
    },
    "executionInfo": {
     "elapsed": 84,
     "status": "ok",
     "timestamp": 1705125481976,
     "user": {
      "displayName": "Henry Hsu",
      "userId": "15979258104560629822"
     },
     "user_tz": 360
    },
    "id": "6ZHpp-hi2U4g",
    "outputId": "f48dd841-71a2-4638-f37a-83bdd6f82c4e"
   },
   "outputs": [
    {
     "data": {
      "text/html": [
       "\n",
       "  <div id=\"df-67257567-2895-4ee2-9047-3bf1e807a62e\" class=\"colab-df-container\">\n",
       "    <div>\n",
       "<style scoped>\n",
       "    .dataframe tbody tr th:only-of-type {\n",
       "        vertical-align: middle;\n",
       "    }\n",
       "\n",
       "    .dataframe tbody tr th {\n",
       "        vertical-align: top;\n",
       "    }\n",
       "\n",
       "    .dataframe thead th {\n",
       "        text-align: right;\n",
       "    }\n",
       "</style>\n",
       "<table border=\"1\" class=\"dataframe\">\n",
       "  <thead>\n",
       "    <tr style=\"text-align: right;\">\n",
       "      <th></th>\n",
       "      <th>title</th>\n",
       "      <th>description</th>\n",
       "    </tr>\n",
       "  </thead>\n",
       "  <tbody>\n",
       "    <tr>\n",
       "      <th>0</th>\n",
       "      <td>Fast &amp; Furious</td>\n",
       "      <td>A movie, a race, a franchise</td>\n",
       "    </tr>\n",
       "    <tr>\n",
       "      <th>1</th>\n",
       "      <td>The Dark Knight</td>\n",
       "      <td>Gotham, the \"Batman\", and the Joker</td>\n",
       "    </tr>\n",
       "    <tr>\n",
       "      <th>2</th>\n",
       "      <td>Memento</td>\n",
       "      <td>A guy forgets everything every 15 minutes</td>\n",
       "    </tr>\n",
       "  </tbody>\n",
       "</table>\n",
       "</div>\n",
       "    <div class=\"colab-df-buttons\">\n",
       "\n",
       "  <div class=\"colab-df-container\">\n",
       "    <button class=\"colab-df-convert\" onclick=\"convertToInteractive('df-67257567-2895-4ee2-9047-3bf1e807a62e')\"\n",
       "            title=\"Convert this dataframe to an interactive table.\"\n",
       "            style=\"display:none;\">\n",
       "\n",
       "  <svg xmlns=\"http://www.w3.org/2000/svg\" height=\"24px\" viewBox=\"0 -960 960 960\">\n",
       "    <path d=\"M120-120v-720h720v720H120Zm60-500h600v-160H180v160Zm220 220h160v-160H400v160Zm0 220h160v-160H400v160ZM180-400h160v-160H180v160Zm440 0h160v-160H620v160ZM180-180h160v-160H180v160Zm440 0h160v-160H620v160Z\"/>\n",
       "  </svg>\n",
       "    </button>\n",
       "\n",
       "  <style>\n",
       "    .colab-df-container {\n",
       "      display:flex;\n",
       "      gap: 12px;\n",
       "    }\n",
       "\n",
       "    .colab-df-convert {\n",
       "      background-color: #E8F0FE;\n",
       "      border: none;\n",
       "      border-radius: 50%;\n",
       "      cursor: pointer;\n",
       "      display: none;\n",
       "      fill: #1967D2;\n",
       "      height: 32px;\n",
       "      padding: 0 0 0 0;\n",
       "      width: 32px;\n",
       "    }\n",
       "\n",
       "    .colab-df-convert:hover {\n",
       "      background-color: #E2EBFA;\n",
       "      box-shadow: 0px 1px 2px rgba(60, 64, 67, 0.3), 0px 1px 3px 1px rgba(60, 64, 67, 0.15);\n",
       "      fill: #174EA6;\n",
       "    }\n",
       "\n",
       "    .colab-df-buttons div {\n",
       "      margin-bottom: 4px;\n",
       "    }\n",
       "\n",
       "    [theme=dark] .colab-df-convert {\n",
       "      background-color: #3B4455;\n",
       "      fill: #D2E3FC;\n",
       "    }\n",
       "\n",
       "    [theme=dark] .colab-df-convert:hover {\n",
       "      background-color: #434B5C;\n",
       "      box-shadow: 0px 1px 3px 1px rgba(0, 0, 0, 0.15);\n",
       "      filter: drop-shadow(0px 1px 2px rgba(0, 0, 0, 0.3));\n",
       "      fill: #FFFFFF;\n",
       "    }\n",
       "  </style>\n",
       "\n",
       "    <script>\n",
       "      const buttonEl =\n",
       "        document.querySelector('#df-67257567-2895-4ee2-9047-3bf1e807a62e button.colab-df-convert');\n",
       "      buttonEl.style.display =\n",
       "        google.colab.kernel.accessAllowed ? 'block' : 'none';\n",
       "\n",
       "      async function convertToInteractive(key) {\n",
       "        const element = document.querySelector('#df-67257567-2895-4ee2-9047-3bf1e807a62e');\n",
       "        const dataTable =\n",
       "          await google.colab.kernel.invokeFunction('convertToInteractive',\n",
       "                                                    [key], {});\n",
       "        if (!dataTable) return;\n",
       "\n",
       "        const docLinkHtml = 'Like what you see? Visit the ' +\n",
       "          '<a target=\"_blank\" href=https://colab.research.google.com/notebooks/data_table.ipynb>data table notebook</a>'\n",
       "          + ' to learn more about interactive tables.';\n",
       "        element.innerHTML = '';\n",
       "        dataTable['output_type'] = 'display_data';\n",
       "        await google.colab.output.renderOutput(dataTable, element);\n",
       "        const docLink = document.createElement('div');\n",
       "        docLink.innerHTML = docLinkHtml;\n",
       "        element.appendChild(docLink);\n",
       "      }\n",
       "    </script>\n",
       "  </div>\n",
       "\n",
       "\n",
       "<div id=\"df-9e6364e0-191e-4eac-a152-88c499b78431\">\n",
       "  <button class=\"colab-df-quickchart\" onclick=\"quickchart('df-9e6364e0-191e-4eac-a152-88c499b78431')\"\n",
       "            title=\"Suggest charts\"\n",
       "            style=\"display:none;\">\n",
       "\n",
       "<svg xmlns=\"http://www.w3.org/2000/svg\" height=\"24px\"viewBox=\"0 0 24 24\"\n",
       "     width=\"24px\">\n",
       "    <g>\n",
       "        <path d=\"M19 3H5c-1.1 0-2 .9-2 2v14c0 1.1.9 2 2 2h14c1.1 0 2-.9 2-2V5c0-1.1-.9-2-2-2zM9 17H7v-7h2v7zm4 0h-2V7h2v10zm4 0h-2v-4h2v4z\"/>\n",
       "    </g>\n",
       "</svg>\n",
       "  </button>\n",
       "\n",
       "<style>\n",
       "  .colab-df-quickchart {\n",
       "      --bg-color: #E8F0FE;\n",
       "      --fill-color: #1967D2;\n",
       "      --hover-bg-color: #E2EBFA;\n",
       "      --hover-fill-color: #174EA6;\n",
       "      --disabled-fill-color: #AAA;\n",
       "      --disabled-bg-color: #DDD;\n",
       "  }\n",
       "\n",
       "  [theme=dark] .colab-df-quickchart {\n",
       "      --bg-color: #3B4455;\n",
       "      --fill-color: #D2E3FC;\n",
       "      --hover-bg-color: #434B5C;\n",
       "      --hover-fill-color: #FFFFFF;\n",
       "      --disabled-bg-color: #3B4455;\n",
       "      --disabled-fill-color: #666;\n",
       "  }\n",
       "\n",
       "  .colab-df-quickchart {\n",
       "    background-color: var(--bg-color);\n",
       "    border: none;\n",
       "    border-radius: 50%;\n",
       "    cursor: pointer;\n",
       "    display: none;\n",
       "    fill: var(--fill-color);\n",
       "    height: 32px;\n",
       "    padding: 0;\n",
       "    width: 32px;\n",
       "  }\n",
       "\n",
       "  .colab-df-quickchart:hover {\n",
       "    background-color: var(--hover-bg-color);\n",
       "    box-shadow: 0 1px 2px rgba(60, 64, 67, 0.3), 0 1px 3px 1px rgba(60, 64, 67, 0.15);\n",
       "    fill: var(--button-hover-fill-color);\n",
       "  }\n",
       "\n",
       "  .colab-df-quickchart-complete:disabled,\n",
       "  .colab-df-quickchart-complete:disabled:hover {\n",
       "    background-color: var(--disabled-bg-color);\n",
       "    fill: var(--disabled-fill-color);\n",
       "    box-shadow: none;\n",
       "  }\n",
       "\n",
       "  .colab-df-spinner {\n",
       "    border: 2px solid var(--fill-color);\n",
       "    border-color: transparent;\n",
       "    border-bottom-color: var(--fill-color);\n",
       "    animation:\n",
       "      spin 1s steps(1) infinite;\n",
       "  }\n",
       "\n",
       "  @keyframes spin {\n",
       "    0% {\n",
       "      border-color: transparent;\n",
       "      border-bottom-color: var(--fill-color);\n",
       "      border-left-color: var(--fill-color);\n",
       "    }\n",
       "    20% {\n",
       "      border-color: transparent;\n",
       "      border-left-color: var(--fill-color);\n",
       "      border-top-color: var(--fill-color);\n",
       "    }\n",
       "    30% {\n",
       "      border-color: transparent;\n",
       "      border-left-color: var(--fill-color);\n",
       "      border-top-color: var(--fill-color);\n",
       "      border-right-color: var(--fill-color);\n",
       "    }\n",
       "    40% {\n",
       "      border-color: transparent;\n",
       "      border-right-color: var(--fill-color);\n",
       "      border-top-color: var(--fill-color);\n",
       "    }\n",
       "    60% {\n",
       "      border-color: transparent;\n",
       "      border-right-color: var(--fill-color);\n",
       "    }\n",
       "    80% {\n",
       "      border-color: transparent;\n",
       "      border-right-color: var(--fill-color);\n",
       "      border-bottom-color: var(--fill-color);\n",
       "    }\n",
       "    90% {\n",
       "      border-color: transparent;\n",
       "      border-bottom-color: var(--fill-color);\n",
       "    }\n",
       "  }\n",
       "</style>\n",
       "\n",
       "  <script>\n",
       "    async function quickchart(key) {\n",
       "      const quickchartButtonEl =\n",
       "        document.querySelector('#' + key + ' button');\n",
       "      quickchartButtonEl.disabled = true;  // To prevent multiple clicks.\n",
       "      quickchartButtonEl.classList.add('colab-df-spinner');\n",
       "      try {\n",
       "        const charts = await google.colab.kernel.invokeFunction(\n",
       "            'suggestCharts', [key], {});\n",
       "      } catch (error) {\n",
       "        console.error('Error during call to suggestCharts:', error);\n",
       "      }\n",
       "      quickchartButtonEl.classList.remove('colab-df-spinner');\n",
       "      quickchartButtonEl.classList.add('colab-df-quickchart-complete');\n",
       "    }\n",
       "    (() => {\n",
       "      let quickchartButtonEl =\n",
       "        document.querySelector('#df-9e6364e0-191e-4eac-a152-88c499b78431 button');\n",
       "      quickchartButtonEl.style.display =\n",
       "        google.colab.kernel.accessAllowed ? 'block' : 'none';\n",
       "    })();\n",
       "  </script>\n",
       "</div>\n",
       "\n",
       "  <div id=\"id_4eb6a490-701f-4b03-8f1c-95ad410be828\">\n",
       "    <style>\n",
       "      .colab-df-generate {\n",
       "        background-color: #E8F0FE;\n",
       "        border: none;\n",
       "        border-radius: 50%;\n",
       "        cursor: pointer;\n",
       "        display: none;\n",
       "        fill: #1967D2;\n",
       "        height: 32px;\n",
       "        padding: 0 0 0 0;\n",
       "        width: 32px;\n",
       "      }\n",
       "\n",
       "      .colab-df-generate:hover {\n",
       "        background-color: #E2EBFA;\n",
       "        box-shadow: 0px 1px 2px rgba(60, 64, 67, 0.3), 0px 1px 3px 1px rgba(60, 64, 67, 0.15);\n",
       "        fill: #174EA6;\n",
       "      }\n",
       "\n",
       "      [theme=dark] .colab-df-generate {\n",
       "        background-color: #3B4455;\n",
       "        fill: #D2E3FC;\n",
       "      }\n",
       "\n",
       "      [theme=dark] .colab-df-generate:hover {\n",
       "        background-color: #434B5C;\n",
       "        box-shadow: 0px 1px 3px 1px rgba(0, 0, 0, 0.15);\n",
       "        filter: drop-shadow(0px 1px 2px rgba(0, 0, 0, 0.3));\n",
       "        fill: #FFFFFF;\n",
       "      }\n",
       "    </style>\n",
       "    <button class=\"colab-df-generate\" onclick=\"generateWithVariable('movies_dataframe')\"\n",
       "            title=\"Generate code using this dataframe.\"\n",
       "            style=\"display:none;\">\n",
       "\n",
       "  <svg xmlns=\"http://www.w3.org/2000/svg\" height=\"24px\"viewBox=\"0 0 24 24\"\n",
       "       width=\"24px\">\n",
       "    <path d=\"M7,19H8.4L18.45,9,17,7.55,7,17.6ZM5,21V16.75L18.45,3.32a2,2,0,0,1,2.83,0l1.4,1.43a1.91,1.91,0,0,1,.58,1.4,1.91,1.91,0,0,1-.58,1.4L9.25,21ZM18.45,9,17,7.55Zm-12,3A5.31,5.31,0,0,0,4.9,8.1,5.31,5.31,0,0,0,1,6.5,5.31,5.31,0,0,0,4.9,4.9,5.31,5.31,0,0,0,6.5,1,5.31,5.31,0,0,0,8.1,4.9,5.31,5.31,0,0,0,12,6.5,5.46,5.46,0,0,0,6.5,12Z\"/>\n",
       "  </svg>\n",
       "    </button>\n",
       "    <script>\n",
       "      (() => {\n",
       "      const buttonEl =\n",
       "        document.querySelector('#id_4eb6a490-701f-4b03-8f1c-95ad410be828 button.colab-df-generate');\n",
       "      buttonEl.style.display =\n",
       "        google.colab.kernel.accessAllowed ? 'block' : 'none';\n",
       "\n",
       "      buttonEl.onclick = () => {\n",
       "        google.colab.notebook.generateWithVariable('movies_dataframe');\n",
       "      }\n",
       "      })();\n",
       "    </script>\n",
       "  </div>\n",
       "\n",
       "    </div>\n",
       "  </div>\n"
      ],
      "text/plain": [
       "             title                                description\n",
       "0   Fast & Furious               A movie, a race, a franchise\n",
       "1  The Dark Knight        Gotham, the \"Batman\", and the Joker\n",
       "2          Memento  A guy forgets everything every 15 minutes"
      ]
     },
     "execution_count": 73,
     "metadata": {},
     "output_type": "execute_result"
    }
   ],
   "source": [
    "movies_dataframe"
   ]
  },
  {
   "cell_type": "markdown",
   "metadata": {
    "id": "1AC-In6a2U4j"
   },
   "source": [
    "A dataframe can be converted into a list of dictionaries using the `to_dict` method."
   ]
  },
  {
   "cell_type": "code",
   "execution_count": 78,
   "metadata": {
    "executionInfo": {
     "elapsed": 556,
     "status": "ok",
     "timestamp": 1705125815126,
     "user": {
      "displayName": "Henry Hsu",
      "userId": "15979258104560629822"
     },
     "user_tz": 360
    },
    "id": "x8WLGvLe2U4k"
   },
   "outputs": [],
   "source": [
    "movies = movies_dataframe.to_dict('records') # recorads是選項"
   ]
  },
  {
   "cell_type": "code",
   "execution_count": 79,
   "metadata": {
    "colab": {
     "base_uri": "https://localhost:8080/"
    },
    "executionInfo": {
     "elapsed": 62,
     "status": "ok",
     "timestamp": 1705125817255,
     "user": {
      "displayName": "Henry Hsu",
      "userId": "15979258104560629822"
     },
     "user_tz": 360
    },
    "id": "mtT2W4Qs2U4l",
    "outputId": "e09c72af-27d8-4179-b251-74e5e8b72852"
   },
   "outputs": [
    {
     "data": {
      "text/plain": [
       "[{'title': 'Fast & Furious', 'description': 'A movie, a race, a franchise'},\n",
       " {'title': 'The Dark Knight',\n",
       "  'description': 'Gotham, the \"Batman\", and the Joker'},\n",
       " {'title': 'Memento',\n",
       "  'description': 'A guy forgets everything every 15 minutes'}]"
      ]
     },
     "execution_count": 79,
     "metadata": {},
     "output_type": "execute_result"
    }
   ],
   "source": [
    "movies"
   ]
  },
  {
   "cell_type": "markdown",
   "metadata": {
    "id": "AzCNxiAq2U4m"
   },
   "source": [
    "If you don't pass the arguments `records`, you get a dictionary of lists instead."
   ]
  },
  {
   "cell_type": "code",
   "execution_count": 74,
   "metadata": {
    "executionInfo": {
     "elapsed": 552,
     "status": "ok",
     "timestamp": 1705125719820,
     "user": {
      "displayName": "Henry Hsu",
      "userId": "15979258104560629822"
     },
     "user_tz": 360
    },
    "id": "iwwWYHwl2U4n"
   },
   "outputs": [],
   "source": [
    "movies_dict = movies_dataframe.to_dict()"
   ]
  },
  {
   "cell_type": "code",
   "execution_count": 75,
   "metadata": {
    "colab": {
     "base_uri": "https://localhost:8080/"
    },
    "executionInfo": {
     "elapsed": 61,
     "status": "ok",
     "timestamp": 1705125723464,
     "user": {
      "displayName": "Henry Hsu",
      "userId": "15979258104560629822"
     },
     "user_tz": 360
    },
    "id": "3ymB8vSb2U4n",
    "outputId": "7701b7fb-2165-43f4-cb60-ea9d6458a1cb"
   },
   "outputs": [
    {
     "data": {
      "text/plain": [
       "{'title': {0: 'Fast & Furious', 1: 'The Dark Knight', 2: 'Memento'},\n",
       " 'description': {0: 'A movie, a race, a franchise',\n",
       "  1: 'Gotham, the \"Batman\", and the Joker',\n",
       "  2: 'A guy forgets everything every 15 minutes'}}"
      ]
     },
     "execution_count": 75,
     "metadata": {},
     "output_type": "execute_result"
    }
   ],
   "source": [
    "movies_dict"
   ]
  },
  {
   "cell_type": "markdown",
   "metadata": {
    "id": "_R3Pf6wM2U4o"
   },
   "source": [
    "Let's try using the `write_csv` function to write the data in `movies` back to a CSV file."
   ]
  },
  {
   "cell_type": "code",
   "execution_count": 80,
   "metadata": {
    "executionInfo": {
     "elapsed": 927,
     "status": "ok",
     "timestamp": 1705125840215,
     "user": {
      "displayName": "Henry Hsu",
      "userId": "15979258104560629822"
     },
     "user_tz": 360
    },
    "id": "-6BJop6U2U4p"
   },
   "outputs": [],
   "source": [
    "write_csv(movies, 'movies2.csv')"
   ]
  },
  {
   "cell_type": "code",
   "execution_count": 81,
   "metadata": {
    "colab": {
     "base_uri": "https://localhost:8080/"
    },
    "executionInfo": {
     "elapsed": 742,
     "status": "ok",
     "timestamp": 1705125849131,
     "user": {
      "displayName": "Henry Hsu",
      "userId": "15979258104560629822"
     },
     "user_tz": 360
    },
    "id": "ImBlBn0O2U4q",
    "outputId": "9fc2302a-61aa-4528-d55c-0bb548a75f62"
   },
   "outputs": [
    {
     "name": "stdout",
     "output_type": "stream",
     "text": [
      "title,description\n",
      "Fast & Furious,A movie, a race, a franchise\n",
      "The Dark Knight,Gotham, the \"Batman\", and the Joker\n",
      "Memento,A guy forgets everything every 15 minutes\n"
     ]
    }
   ],
   "source": [
    "!head movies2.csv # head command 功能： Displays the beginning of a file (as many lines as you want)."
   ]
  },
  {
   "cell_type": "markdown",
   "metadata": {
    "id": "FTkrSHfb2U4r"
   },
   "source": [
    "As you can see above, the CSV file is not formatted properly. This can be verified by attempting to read the file using `pd.read_csv`."
   ]
  },
  {
   "cell_type": "code",
   "execution_count": 82,
   "metadata": {
    "colab": {
     "base_uri": "https://localhost:8080/",
     "height": 143
    },
    "executionInfo": {
     "elapsed": 612,
     "status": "ok",
     "timestamp": 1705125900130,
     "user": {
      "displayName": "Henry Hsu",
      "userId": "15979258104560629822"
     },
     "user_tz": 360
    },
    "id": "LfaSRi_K2U4s",
    "outputId": "fffabfde-d91d-4091-89bf-bd14ef9cde1f"
   },
   "outputs": [
    {
     "data": {
      "text/html": [
       "\n",
       "  <div id=\"df-fafcdeb2-3fe0-41bd-b562-62aa1accc082\" class=\"colab-df-container\">\n",
       "    <div>\n",
       "<style scoped>\n",
       "    .dataframe tbody tr th:only-of-type {\n",
       "        vertical-align: middle;\n",
       "    }\n",
       "\n",
       "    .dataframe tbody tr th {\n",
       "        vertical-align: top;\n",
       "    }\n",
       "\n",
       "    .dataframe thead th {\n",
       "        text-align: right;\n",
       "    }\n",
       "</style>\n",
       "<table border=\"1\" class=\"dataframe\">\n",
       "  <thead>\n",
       "    <tr style=\"text-align: right;\">\n",
       "      <th></th>\n",
       "      <th></th>\n",
       "      <th>title</th>\n",
       "      <th>description</th>\n",
       "    </tr>\n",
       "  </thead>\n",
       "  <tbody>\n",
       "    <tr>\n",
       "      <th>Fast &amp; Furious</th>\n",
       "      <th>A movie</th>\n",
       "      <td>a race</td>\n",
       "      <td>a franchise</td>\n",
       "    </tr>\n",
       "    <tr>\n",
       "      <th>The Dark Knight</th>\n",
       "      <th>Gotham</th>\n",
       "      <td>the \"Batman\"</td>\n",
       "      <td>and the Joker</td>\n",
       "    </tr>\n",
       "    <tr>\n",
       "      <th>Memento</th>\n",
       "      <th>A guy forgets everything every 15 minutes</th>\n",
       "      <td>NaN</td>\n",
       "      <td>NaN</td>\n",
       "    </tr>\n",
       "  </tbody>\n",
       "</table>\n",
       "</div>\n",
       "    <div class=\"colab-df-buttons\">\n",
       "\n",
       "  <div class=\"colab-df-container\">\n",
       "    <button class=\"colab-df-convert\" onclick=\"convertToInteractive('df-fafcdeb2-3fe0-41bd-b562-62aa1accc082')\"\n",
       "            title=\"Convert this dataframe to an interactive table.\"\n",
       "            style=\"display:none;\">\n",
       "\n",
       "  <svg xmlns=\"http://www.w3.org/2000/svg\" height=\"24px\" viewBox=\"0 -960 960 960\">\n",
       "    <path d=\"M120-120v-720h720v720H120Zm60-500h600v-160H180v160Zm220 220h160v-160H400v160Zm0 220h160v-160H400v160ZM180-400h160v-160H180v160Zm440 0h160v-160H620v160ZM180-180h160v-160H180v160Zm440 0h160v-160H620v160Z\"/>\n",
       "  </svg>\n",
       "    </button>\n",
       "\n",
       "  <style>\n",
       "    .colab-df-container {\n",
       "      display:flex;\n",
       "      gap: 12px;\n",
       "    }\n",
       "\n",
       "    .colab-df-convert {\n",
       "      background-color: #E8F0FE;\n",
       "      border: none;\n",
       "      border-radius: 50%;\n",
       "      cursor: pointer;\n",
       "      display: none;\n",
       "      fill: #1967D2;\n",
       "      height: 32px;\n",
       "      padding: 0 0 0 0;\n",
       "      width: 32px;\n",
       "    }\n",
       "\n",
       "    .colab-df-convert:hover {\n",
       "      background-color: #E2EBFA;\n",
       "      box-shadow: 0px 1px 2px rgba(60, 64, 67, 0.3), 0px 1px 3px 1px rgba(60, 64, 67, 0.15);\n",
       "      fill: #174EA6;\n",
       "    }\n",
       "\n",
       "    .colab-df-buttons div {\n",
       "      margin-bottom: 4px;\n",
       "    }\n",
       "\n",
       "    [theme=dark] .colab-df-convert {\n",
       "      background-color: #3B4455;\n",
       "      fill: #D2E3FC;\n",
       "    }\n",
       "\n",
       "    [theme=dark] .colab-df-convert:hover {\n",
       "      background-color: #434B5C;\n",
       "      box-shadow: 0px 1px 3px 1px rgba(0, 0, 0, 0.15);\n",
       "      filter: drop-shadow(0px 1px 2px rgba(0, 0, 0, 0.3));\n",
       "      fill: #FFFFFF;\n",
       "    }\n",
       "  </style>\n",
       "\n",
       "    <script>\n",
       "      const buttonEl =\n",
       "        document.querySelector('#df-fafcdeb2-3fe0-41bd-b562-62aa1accc082 button.colab-df-convert');\n",
       "      buttonEl.style.display =\n",
       "        google.colab.kernel.accessAllowed ? 'block' : 'none';\n",
       "\n",
       "      async function convertToInteractive(key) {\n",
       "        const element = document.querySelector('#df-fafcdeb2-3fe0-41bd-b562-62aa1accc082');\n",
       "        const dataTable =\n",
       "          await google.colab.kernel.invokeFunction('convertToInteractive',\n",
       "                                                    [key], {});\n",
       "        if (!dataTable) return;\n",
       "\n",
       "        const docLinkHtml = 'Like what you see? Visit the ' +\n",
       "          '<a target=\"_blank\" href=https://colab.research.google.com/notebooks/data_table.ipynb>data table notebook</a>'\n",
       "          + ' to learn more about interactive tables.';\n",
       "        element.innerHTML = '';\n",
       "        dataTable['output_type'] = 'display_data';\n",
       "        await google.colab.output.renderOutput(dataTable, element);\n",
       "        const docLink = document.createElement('div');\n",
       "        docLink.innerHTML = docLinkHtml;\n",
       "        element.appendChild(docLink);\n",
       "      }\n",
       "    </script>\n",
       "  </div>\n",
       "\n",
       "\n",
       "<div id=\"df-872bd2a8-6389-42a9-8a3e-bb7cea1930c9\">\n",
       "  <button class=\"colab-df-quickchart\" onclick=\"quickchart('df-872bd2a8-6389-42a9-8a3e-bb7cea1930c9')\"\n",
       "            title=\"Suggest charts\"\n",
       "            style=\"display:none;\">\n",
       "\n",
       "<svg xmlns=\"http://www.w3.org/2000/svg\" height=\"24px\"viewBox=\"0 0 24 24\"\n",
       "     width=\"24px\">\n",
       "    <g>\n",
       "        <path d=\"M19 3H5c-1.1 0-2 .9-2 2v14c0 1.1.9 2 2 2h14c1.1 0 2-.9 2-2V5c0-1.1-.9-2-2-2zM9 17H7v-7h2v7zm4 0h-2V7h2v10zm4 0h-2v-4h2v4z\"/>\n",
       "    </g>\n",
       "</svg>\n",
       "  </button>\n",
       "\n",
       "<style>\n",
       "  .colab-df-quickchart {\n",
       "      --bg-color: #E8F0FE;\n",
       "      --fill-color: #1967D2;\n",
       "      --hover-bg-color: #E2EBFA;\n",
       "      --hover-fill-color: #174EA6;\n",
       "      --disabled-fill-color: #AAA;\n",
       "      --disabled-bg-color: #DDD;\n",
       "  }\n",
       "\n",
       "  [theme=dark] .colab-df-quickchart {\n",
       "      --bg-color: #3B4455;\n",
       "      --fill-color: #D2E3FC;\n",
       "      --hover-bg-color: #434B5C;\n",
       "      --hover-fill-color: #FFFFFF;\n",
       "      --disabled-bg-color: #3B4455;\n",
       "      --disabled-fill-color: #666;\n",
       "  }\n",
       "\n",
       "  .colab-df-quickchart {\n",
       "    background-color: var(--bg-color);\n",
       "    border: none;\n",
       "    border-radius: 50%;\n",
       "    cursor: pointer;\n",
       "    display: none;\n",
       "    fill: var(--fill-color);\n",
       "    height: 32px;\n",
       "    padding: 0;\n",
       "    width: 32px;\n",
       "  }\n",
       "\n",
       "  .colab-df-quickchart:hover {\n",
       "    background-color: var(--hover-bg-color);\n",
       "    box-shadow: 0 1px 2px rgba(60, 64, 67, 0.3), 0 1px 3px 1px rgba(60, 64, 67, 0.15);\n",
       "    fill: var(--button-hover-fill-color);\n",
       "  }\n",
       "\n",
       "  .colab-df-quickchart-complete:disabled,\n",
       "  .colab-df-quickchart-complete:disabled:hover {\n",
       "    background-color: var(--disabled-bg-color);\n",
       "    fill: var(--disabled-fill-color);\n",
       "    box-shadow: none;\n",
       "  }\n",
       "\n",
       "  .colab-df-spinner {\n",
       "    border: 2px solid var(--fill-color);\n",
       "    border-color: transparent;\n",
       "    border-bottom-color: var(--fill-color);\n",
       "    animation:\n",
       "      spin 1s steps(1) infinite;\n",
       "  }\n",
       "\n",
       "  @keyframes spin {\n",
       "    0% {\n",
       "      border-color: transparent;\n",
       "      border-bottom-color: var(--fill-color);\n",
       "      border-left-color: var(--fill-color);\n",
       "    }\n",
       "    20% {\n",
       "      border-color: transparent;\n",
       "      border-left-color: var(--fill-color);\n",
       "      border-top-color: var(--fill-color);\n",
       "    }\n",
       "    30% {\n",
       "      border-color: transparent;\n",
       "      border-left-color: var(--fill-color);\n",
       "      border-top-color: var(--fill-color);\n",
       "      border-right-color: var(--fill-color);\n",
       "    }\n",
       "    40% {\n",
       "      border-color: transparent;\n",
       "      border-right-color: var(--fill-color);\n",
       "      border-top-color: var(--fill-color);\n",
       "    }\n",
       "    60% {\n",
       "      border-color: transparent;\n",
       "      border-right-color: var(--fill-color);\n",
       "    }\n",
       "    80% {\n",
       "      border-color: transparent;\n",
       "      border-right-color: var(--fill-color);\n",
       "      border-bottom-color: var(--fill-color);\n",
       "    }\n",
       "    90% {\n",
       "      border-color: transparent;\n",
       "      border-bottom-color: var(--fill-color);\n",
       "    }\n",
       "  }\n",
       "</style>\n",
       "\n",
       "  <script>\n",
       "    async function quickchart(key) {\n",
       "      const quickchartButtonEl =\n",
       "        document.querySelector('#' + key + ' button');\n",
       "      quickchartButtonEl.disabled = true;  // To prevent multiple clicks.\n",
       "      quickchartButtonEl.classList.add('colab-df-spinner');\n",
       "      try {\n",
       "        const charts = await google.colab.kernel.invokeFunction(\n",
       "            'suggestCharts', [key], {});\n",
       "      } catch (error) {\n",
       "        console.error('Error during call to suggestCharts:', error);\n",
       "      }\n",
       "      quickchartButtonEl.classList.remove('colab-df-spinner');\n",
       "      quickchartButtonEl.classList.add('colab-df-quickchart-complete');\n",
       "    }\n",
       "    (() => {\n",
       "      let quickchartButtonEl =\n",
       "        document.querySelector('#df-872bd2a8-6389-42a9-8a3e-bb7cea1930c9 button');\n",
       "      quickchartButtonEl.style.display =\n",
       "        google.colab.kernel.accessAllowed ? 'block' : 'none';\n",
       "    })();\n",
       "  </script>\n",
       "</div>\n",
       "\n",
       "    </div>\n",
       "  </div>\n"
      ],
      "text/plain": [
       "                                                                   title  \\\n",
       "Fast & Furious  A movie                                           a race   \n",
       "The Dark Knight Gotham                                      the \"Batman\"   \n",
       "Memento         A guy forgets everything every 15 minutes            NaN   \n",
       "\n",
       "                                                              description  \n",
       "Fast & Furious  A movie                                       a franchise  \n",
       "The Dark Knight Gotham                                      and the Joker  \n",
       "Memento         A guy forgets everything every 15 minutes             NaN  "
      ]
     },
     "execution_count": 82,
     "metadata": {},
     "output_type": "execute_result"
    }
   ],
   "source": [
    "pd.read_csv('movies2.csv')"
   ]
  },
  {
   "cell_type": "markdown",
   "metadata": {
    "id": "02iFGXQl2U4u"
   },
   "source": [
    "To convert a list of dictionaries into a dataframe, you can use the `pd.DataFrame` constructor."
   ]
  },
  {
   "cell_type": "code",
   "execution_count": 83,
   "metadata": {
    "executionInfo": {
     "elapsed": 793,
     "status": "ok",
     "timestamp": 1705126052423,
     "user": {
      "displayName": "Henry Hsu",
      "userId": "15979258104560629822"
     },
     "user_tz": 360
    },
    "id": "x6XVkIUE2U4u"
   },
   "outputs": [],
   "source": [
    "df2 = pd.DataFrame(movies)"
   ]
  },
  {
   "cell_type": "code",
   "execution_count": 84,
   "metadata": {
    "colab": {
     "base_uri": "https://localhost:8080/",
     "height": 143
    },
    "executionInfo": {
     "elapsed": 952,
     "status": "ok",
     "timestamp": 1705126053219,
     "user": {
      "displayName": "Henry Hsu",
      "userId": "15979258104560629822"
     },
     "user_tz": 360
    },
    "id": "dXkclV1k2U4v",
    "outputId": "9bdc2b26-a9bb-4fb2-cf95-ec333c7ad12b"
   },
   "outputs": [
    {
     "data": {
      "text/html": [
       "\n",
       "  <div id=\"df-9f4adc71-8542-4a2c-afcd-cc2d72b8eb86\" class=\"colab-df-container\">\n",
       "    <div>\n",
       "<style scoped>\n",
       "    .dataframe tbody tr th:only-of-type {\n",
       "        vertical-align: middle;\n",
       "    }\n",
       "\n",
       "    .dataframe tbody tr th {\n",
       "        vertical-align: top;\n",
       "    }\n",
       "\n",
       "    .dataframe thead th {\n",
       "        text-align: right;\n",
       "    }\n",
       "</style>\n",
       "<table border=\"1\" class=\"dataframe\">\n",
       "  <thead>\n",
       "    <tr style=\"text-align: right;\">\n",
       "      <th></th>\n",
       "      <th>title</th>\n",
       "      <th>description</th>\n",
       "    </tr>\n",
       "  </thead>\n",
       "  <tbody>\n",
       "    <tr>\n",
       "      <th>0</th>\n",
       "      <td>Fast &amp; Furious</td>\n",
       "      <td>A movie, a race, a franchise</td>\n",
       "    </tr>\n",
       "    <tr>\n",
       "      <th>1</th>\n",
       "      <td>The Dark Knight</td>\n",
       "      <td>Gotham, the \"Batman\", and the Joker</td>\n",
       "    </tr>\n",
       "    <tr>\n",
       "      <th>2</th>\n",
       "      <td>Memento</td>\n",
       "      <td>A guy forgets everything every 15 minutes</td>\n",
       "    </tr>\n",
       "  </tbody>\n",
       "</table>\n",
       "</div>\n",
       "    <div class=\"colab-df-buttons\">\n",
       "\n",
       "  <div class=\"colab-df-container\">\n",
       "    <button class=\"colab-df-convert\" onclick=\"convertToInteractive('df-9f4adc71-8542-4a2c-afcd-cc2d72b8eb86')\"\n",
       "            title=\"Convert this dataframe to an interactive table.\"\n",
       "            style=\"display:none;\">\n",
       "\n",
       "  <svg xmlns=\"http://www.w3.org/2000/svg\" height=\"24px\" viewBox=\"0 -960 960 960\">\n",
       "    <path d=\"M120-120v-720h720v720H120Zm60-500h600v-160H180v160Zm220 220h160v-160H400v160Zm0 220h160v-160H400v160ZM180-400h160v-160H180v160Zm440 0h160v-160H620v160ZM180-180h160v-160H180v160Zm440 0h160v-160H620v160Z\"/>\n",
       "  </svg>\n",
       "    </button>\n",
       "\n",
       "  <style>\n",
       "    .colab-df-container {\n",
       "      display:flex;\n",
       "      gap: 12px;\n",
       "    }\n",
       "\n",
       "    .colab-df-convert {\n",
       "      background-color: #E8F0FE;\n",
       "      border: none;\n",
       "      border-radius: 50%;\n",
       "      cursor: pointer;\n",
       "      display: none;\n",
       "      fill: #1967D2;\n",
       "      height: 32px;\n",
       "      padding: 0 0 0 0;\n",
       "      width: 32px;\n",
       "    }\n",
       "\n",
       "    .colab-df-convert:hover {\n",
       "      background-color: #E2EBFA;\n",
       "      box-shadow: 0px 1px 2px rgba(60, 64, 67, 0.3), 0px 1px 3px 1px rgba(60, 64, 67, 0.15);\n",
       "      fill: #174EA6;\n",
       "    }\n",
       "\n",
       "    .colab-df-buttons div {\n",
       "      margin-bottom: 4px;\n",
       "    }\n",
       "\n",
       "    [theme=dark] .colab-df-convert {\n",
       "      background-color: #3B4455;\n",
       "      fill: #D2E3FC;\n",
       "    }\n",
       "\n",
       "    [theme=dark] .colab-df-convert:hover {\n",
       "      background-color: #434B5C;\n",
       "      box-shadow: 0px 1px 3px 1px rgba(0, 0, 0, 0.15);\n",
       "      filter: drop-shadow(0px 1px 2px rgba(0, 0, 0, 0.3));\n",
       "      fill: #FFFFFF;\n",
       "    }\n",
       "  </style>\n",
       "\n",
       "    <script>\n",
       "      const buttonEl =\n",
       "        document.querySelector('#df-9f4adc71-8542-4a2c-afcd-cc2d72b8eb86 button.colab-df-convert');\n",
       "      buttonEl.style.display =\n",
       "        google.colab.kernel.accessAllowed ? 'block' : 'none';\n",
       "\n",
       "      async function convertToInteractive(key) {\n",
       "        const element = document.querySelector('#df-9f4adc71-8542-4a2c-afcd-cc2d72b8eb86');\n",
       "        const dataTable =\n",
       "          await google.colab.kernel.invokeFunction('convertToInteractive',\n",
       "                                                    [key], {});\n",
       "        if (!dataTable) return;\n",
       "\n",
       "        const docLinkHtml = 'Like what you see? Visit the ' +\n",
       "          '<a target=\"_blank\" href=https://colab.research.google.com/notebooks/data_table.ipynb>data table notebook</a>'\n",
       "          + ' to learn more about interactive tables.';\n",
       "        element.innerHTML = '';\n",
       "        dataTable['output_type'] = 'display_data';\n",
       "        await google.colab.output.renderOutput(dataTable, element);\n",
       "        const docLink = document.createElement('div');\n",
       "        docLink.innerHTML = docLinkHtml;\n",
       "        element.appendChild(docLink);\n",
       "      }\n",
       "    </script>\n",
       "  </div>\n",
       "\n",
       "\n",
       "<div id=\"df-98621f6a-1b96-4903-b808-6d7f5fd132c3\">\n",
       "  <button class=\"colab-df-quickchart\" onclick=\"quickchart('df-98621f6a-1b96-4903-b808-6d7f5fd132c3')\"\n",
       "            title=\"Suggest charts\"\n",
       "            style=\"display:none;\">\n",
       "\n",
       "<svg xmlns=\"http://www.w3.org/2000/svg\" height=\"24px\"viewBox=\"0 0 24 24\"\n",
       "     width=\"24px\">\n",
       "    <g>\n",
       "        <path d=\"M19 3H5c-1.1 0-2 .9-2 2v14c0 1.1.9 2 2 2h14c1.1 0 2-.9 2-2V5c0-1.1-.9-2-2-2zM9 17H7v-7h2v7zm4 0h-2V7h2v10zm4 0h-2v-4h2v4z\"/>\n",
       "    </g>\n",
       "</svg>\n",
       "  </button>\n",
       "\n",
       "<style>\n",
       "  .colab-df-quickchart {\n",
       "      --bg-color: #E8F0FE;\n",
       "      --fill-color: #1967D2;\n",
       "      --hover-bg-color: #E2EBFA;\n",
       "      --hover-fill-color: #174EA6;\n",
       "      --disabled-fill-color: #AAA;\n",
       "      --disabled-bg-color: #DDD;\n",
       "  }\n",
       "\n",
       "  [theme=dark] .colab-df-quickchart {\n",
       "      --bg-color: #3B4455;\n",
       "      --fill-color: #D2E3FC;\n",
       "      --hover-bg-color: #434B5C;\n",
       "      --hover-fill-color: #FFFFFF;\n",
       "      --disabled-bg-color: #3B4455;\n",
       "      --disabled-fill-color: #666;\n",
       "  }\n",
       "\n",
       "  .colab-df-quickchart {\n",
       "    background-color: var(--bg-color);\n",
       "    border: none;\n",
       "    border-radius: 50%;\n",
       "    cursor: pointer;\n",
       "    display: none;\n",
       "    fill: var(--fill-color);\n",
       "    height: 32px;\n",
       "    padding: 0;\n",
       "    width: 32px;\n",
       "  }\n",
       "\n",
       "  .colab-df-quickchart:hover {\n",
       "    background-color: var(--hover-bg-color);\n",
       "    box-shadow: 0 1px 2px rgba(60, 64, 67, 0.3), 0 1px 3px 1px rgba(60, 64, 67, 0.15);\n",
       "    fill: var(--button-hover-fill-color);\n",
       "  }\n",
       "\n",
       "  .colab-df-quickchart-complete:disabled,\n",
       "  .colab-df-quickchart-complete:disabled:hover {\n",
       "    background-color: var(--disabled-bg-color);\n",
       "    fill: var(--disabled-fill-color);\n",
       "    box-shadow: none;\n",
       "  }\n",
       "\n",
       "  .colab-df-spinner {\n",
       "    border: 2px solid var(--fill-color);\n",
       "    border-color: transparent;\n",
       "    border-bottom-color: var(--fill-color);\n",
       "    animation:\n",
       "      spin 1s steps(1) infinite;\n",
       "  }\n",
       "\n",
       "  @keyframes spin {\n",
       "    0% {\n",
       "      border-color: transparent;\n",
       "      border-bottom-color: var(--fill-color);\n",
       "      border-left-color: var(--fill-color);\n",
       "    }\n",
       "    20% {\n",
       "      border-color: transparent;\n",
       "      border-left-color: var(--fill-color);\n",
       "      border-top-color: var(--fill-color);\n",
       "    }\n",
       "    30% {\n",
       "      border-color: transparent;\n",
       "      border-left-color: var(--fill-color);\n",
       "      border-top-color: var(--fill-color);\n",
       "      border-right-color: var(--fill-color);\n",
       "    }\n",
       "    40% {\n",
       "      border-color: transparent;\n",
       "      border-right-color: var(--fill-color);\n",
       "      border-top-color: var(--fill-color);\n",
       "    }\n",
       "    60% {\n",
       "      border-color: transparent;\n",
       "      border-right-color: var(--fill-color);\n",
       "    }\n",
       "    80% {\n",
       "      border-color: transparent;\n",
       "      border-right-color: var(--fill-color);\n",
       "      border-bottom-color: var(--fill-color);\n",
       "    }\n",
       "    90% {\n",
       "      border-color: transparent;\n",
       "      border-bottom-color: var(--fill-color);\n",
       "    }\n",
       "  }\n",
       "</style>\n",
       "\n",
       "  <script>\n",
       "    async function quickchart(key) {\n",
       "      const quickchartButtonEl =\n",
       "        document.querySelector('#' + key + ' button');\n",
       "      quickchartButtonEl.disabled = true;  // To prevent multiple clicks.\n",
       "      quickchartButtonEl.classList.add('colab-df-spinner');\n",
       "      try {\n",
       "        const charts = await google.colab.kernel.invokeFunction(\n",
       "            'suggestCharts', [key], {});\n",
       "      } catch (error) {\n",
       "        console.error('Error during call to suggestCharts:', error);\n",
       "      }\n",
       "      quickchartButtonEl.classList.remove('colab-df-spinner');\n",
       "      quickchartButtonEl.classList.add('colab-df-quickchart-complete');\n",
       "    }\n",
       "    (() => {\n",
       "      let quickchartButtonEl =\n",
       "        document.querySelector('#df-98621f6a-1b96-4903-b808-6d7f5fd132c3 button');\n",
       "      quickchartButtonEl.style.display =\n",
       "        google.colab.kernel.accessAllowed ? 'block' : 'none';\n",
       "    })();\n",
       "  </script>\n",
       "</div>\n",
       "\n",
       "  <div id=\"id_9a6460bc-f405-4ca4-a0b1-1087a39f0de3\">\n",
       "    <style>\n",
       "      .colab-df-generate {\n",
       "        background-color: #E8F0FE;\n",
       "        border: none;\n",
       "        border-radius: 50%;\n",
       "        cursor: pointer;\n",
       "        display: none;\n",
       "        fill: #1967D2;\n",
       "        height: 32px;\n",
       "        padding: 0 0 0 0;\n",
       "        width: 32px;\n",
       "      }\n",
       "\n",
       "      .colab-df-generate:hover {\n",
       "        background-color: #E2EBFA;\n",
       "        box-shadow: 0px 1px 2px rgba(60, 64, 67, 0.3), 0px 1px 3px 1px rgba(60, 64, 67, 0.15);\n",
       "        fill: #174EA6;\n",
       "      }\n",
       "\n",
       "      [theme=dark] .colab-df-generate {\n",
       "        background-color: #3B4455;\n",
       "        fill: #D2E3FC;\n",
       "      }\n",
       "\n",
       "      [theme=dark] .colab-df-generate:hover {\n",
       "        background-color: #434B5C;\n",
       "        box-shadow: 0px 1px 3px 1px rgba(0, 0, 0, 0.15);\n",
       "        filter: drop-shadow(0px 1px 2px rgba(0, 0, 0, 0.3));\n",
       "        fill: #FFFFFF;\n",
       "      }\n",
       "    </style>\n",
       "    <button class=\"colab-df-generate\" onclick=\"generateWithVariable('df2')\"\n",
       "            title=\"Generate code using this dataframe.\"\n",
       "            style=\"display:none;\">\n",
       "\n",
       "  <svg xmlns=\"http://www.w3.org/2000/svg\" height=\"24px\"viewBox=\"0 0 24 24\"\n",
       "       width=\"24px\">\n",
       "    <path d=\"M7,19H8.4L18.45,9,17,7.55,7,17.6ZM5,21V16.75L18.45,3.32a2,2,0,0,1,2.83,0l1.4,1.43a1.91,1.91,0,0,1,.58,1.4,1.91,1.91,0,0,1-.58,1.4L9.25,21ZM18.45,9,17,7.55Zm-12,3A5.31,5.31,0,0,0,4.9,8.1,5.31,5.31,0,0,0,1,6.5,5.31,5.31,0,0,0,4.9,4.9,5.31,5.31,0,0,0,6.5,1,5.31,5.31,0,0,0,8.1,4.9,5.31,5.31,0,0,0,12,6.5,5.46,5.46,0,0,0,6.5,12Z\"/>\n",
       "  </svg>\n",
       "    </button>\n",
       "    <script>\n",
       "      (() => {\n",
       "      const buttonEl =\n",
       "        document.querySelector('#id_9a6460bc-f405-4ca4-a0b1-1087a39f0de3 button.colab-df-generate');\n",
       "      buttonEl.style.display =\n",
       "        google.colab.kernel.accessAllowed ? 'block' : 'none';\n",
       "\n",
       "      buttonEl.onclick = () => {\n",
       "        google.colab.notebook.generateWithVariable('df2');\n",
       "      }\n",
       "      })();\n",
       "    </script>\n",
       "  </div>\n",
       "\n",
       "    </div>\n",
       "  </div>\n"
      ],
      "text/plain": [
       "             title                                description\n",
       "0   Fast & Furious               A movie, a race, a franchise\n",
       "1  The Dark Knight        Gotham, the \"Batman\", and the Joker\n",
       "2          Memento  A guy forgets everything every 15 minutes"
      ]
     },
     "execution_count": 84,
     "metadata": {},
     "output_type": "execute_result"
    }
   ],
   "source": [
    "df2"
   ]
  },
  {
   "cell_type": "markdown",
   "metadata": {
    "id": "eor_jngz2U4w"
   },
   "source": [
    "It can now be written to a CSV file using the `.to_csv` method of a dataframe."
   ]
  },
  {
   "cell_type": "code",
   "execution_count": 85,
   "metadata": {
    "executionInfo": {
     "elapsed": 490,
     "status": "ok",
     "timestamp": 1705126070291,
     "user": {
      "displayName": "Henry Hsu",
      "userId": "15979258104560629822"
     },
     "user_tz": 360
    },
    "id": "Jghi0k-92U4x"
   },
   "outputs": [],
   "source": [
    "df2.to_csv('movies3.csv', index=None)"
   ]
  },
  {
   "cell_type": "markdown",
   "metadata": {
    "id": "eC8EZE0q2U4y"
   },
   "source": [
    "Can you guess what the argument `index=None` does? Try removing it and observing the difference in output."
   ]
  },
  {
   "cell_type": "code",
   "execution_count": 86,
   "metadata": {
    "colab": {
     "base_uri": "https://localhost:8080/"
    },
    "executionInfo": {
     "elapsed": 752,
     "status": "ok",
     "timestamp": 1705126078539,
     "user": {
      "displayName": "Henry Hsu",
      "userId": "15979258104560629822"
     },
     "user_tz": 360
    },
    "id": "ZKut9C7c2U4z",
    "outputId": "6b1da483-ef17-45e4-d267-54f819b6a3da"
   },
   "outputs": [
    {
     "name": "stdout",
     "output_type": "stream",
     "text": [
      "title,description\n",
      "Fast & Furious,\"A movie, a race, a franchise\"\n",
      "The Dark Knight,\"Gotham, the \"\"Batman\"\", and the Joker\"\n",
      "Memento,A guy forgets everything every 15 minutes\n"
     ]
    }
   ],
   "source": [
    "!head movies3.csv"
   ]
  },
  {
   "cell_type": "markdown",
   "metadata": {
    "id": "RZ9SHW4g2U40"
   },
   "source": [
    "The CSV file is formatted properly. We can verify this by trying to read it back."
   ]
  },
  {
   "cell_type": "code",
   "execution_count": 87,
   "metadata": {
    "colab": {
     "base_uri": "https://localhost:8080/",
     "height": 143
    },
    "executionInfo": {
     "elapsed": 568,
     "status": "ok",
     "timestamp": 1705126886231,
     "user": {
      "displayName": "Henry Hsu",
      "userId": "15979258104560629822"
     },
     "user_tz": 360
    },
    "id": "bwJL7VlH2U41",
    "outputId": "7d1cf608-325c-466a-c76c-d2ec26d1731e"
   },
   "outputs": [
    {
     "data": {
      "text/html": [
       "\n",
       "  <div id=\"df-1dcb7e4e-2982-4d86-9819-c512ce00eca7\" class=\"colab-df-container\">\n",
       "    <div>\n",
       "<style scoped>\n",
       "    .dataframe tbody tr th:only-of-type {\n",
       "        vertical-align: middle;\n",
       "    }\n",
       "\n",
       "    .dataframe tbody tr th {\n",
       "        vertical-align: top;\n",
       "    }\n",
       "\n",
       "    .dataframe thead th {\n",
       "        text-align: right;\n",
       "    }\n",
       "</style>\n",
       "<table border=\"1\" class=\"dataframe\">\n",
       "  <thead>\n",
       "    <tr style=\"text-align: right;\">\n",
       "      <th></th>\n",
       "      <th>title</th>\n",
       "      <th>description</th>\n",
       "    </tr>\n",
       "  </thead>\n",
       "  <tbody>\n",
       "    <tr>\n",
       "      <th>0</th>\n",
       "      <td>Fast &amp; Furious</td>\n",
       "      <td>A movie, a race, a franchise</td>\n",
       "    </tr>\n",
       "    <tr>\n",
       "      <th>1</th>\n",
       "      <td>The Dark Knight</td>\n",
       "      <td>Gotham, the \"Batman\", and the Joker</td>\n",
       "    </tr>\n",
       "    <tr>\n",
       "      <th>2</th>\n",
       "      <td>Memento</td>\n",
       "      <td>A guy forgets everything every 15 minutes</td>\n",
       "    </tr>\n",
       "  </tbody>\n",
       "</table>\n",
       "</div>\n",
       "    <div class=\"colab-df-buttons\">\n",
       "\n",
       "  <div class=\"colab-df-container\">\n",
       "    <button class=\"colab-df-convert\" onclick=\"convertToInteractive('df-1dcb7e4e-2982-4d86-9819-c512ce00eca7')\"\n",
       "            title=\"Convert this dataframe to an interactive table.\"\n",
       "            style=\"display:none;\">\n",
       "\n",
       "  <svg xmlns=\"http://www.w3.org/2000/svg\" height=\"24px\" viewBox=\"0 -960 960 960\">\n",
       "    <path d=\"M120-120v-720h720v720H120Zm60-500h600v-160H180v160Zm220 220h160v-160H400v160Zm0 220h160v-160H400v160ZM180-400h160v-160H180v160Zm440 0h160v-160H620v160ZM180-180h160v-160H180v160Zm440 0h160v-160H620v160Z\"/>\n",
       "  </svg>\n",
       "    </button>\n",
       "\n",
       "  <style>\n",
       "    .colab-df-container {\n",
       "      display:flex;\n",
       "      gap: 12px;\n",
       "    }\n",
       "\n",
       "    .colab-df-convert {\n",
       "      background-color: #E8F0FE;\n",
       "      border: none;\n",
       "      border-radius: 50%;\n",
       "      cursor: pointer;\n",
       "      display: none;\n",
       "      fill: #1967D2;\n",
       "      height: 32px;\n",
       "      padding: 0 0 0 0;\n",
       "      width: 32px;\n",
       "    }\n",
       "\n",
       "    .colab-df-convert:hover {\n",
       "      background-color: #E2EBFA;\n",
       "      box-shadow: 0px 1px 2px rgba(60, 64, 67, 0.3), 0px 1px 3px 1px rgba(60, 64, 67, 0.15);\n",
       "      fill: #174EA6;\n",
       "    }\n",
       "\n",
       "    .colab-df-buttons div {\n",
       "      margin-bottom: 4px;\n",
       "    }\n",
       "\n",
       "    [theme=dark] .colab-df-convert {\n",
       "      background-color: #3B4455;\n",
       "      fill: #D2E3FC;\n",
       "    }\n",
       "\n",
       "    [theme=dark] .colab-df-convert:hover {\n",
       "      background-color: #434B5C;\n",
       "      box-shadow: 0px 1px 3px 1px rgba(0, 0, 0, 0.15);\n",
       "      filter: drop-shadow(0px 1px 2px rgba(0, 0, 0, 0.3));\n",
       "      fill: #FFFFFF;\n",
       "    }\n",
       "  </style>\n",
       "\n",
       "    <script>\n",
       "      const buttonEl =\n",
       "        document.querySelector('#df-1dcb7e4e-2982-4d86-9819-c512ce00eca7 button.colab-df-convert');\n",
       "      buttonEl.style.display =\n",
       "        google.colab.kernel.accessAllowed ? 'block' : 'none';\n",
       "\n",
       "      async function convertToInteractive(key) {\n",
       "        const element = document.querySelector('#df-1dcb7e4e-2982-4d86-9819-c512ce00eca7');\n",
       "        const dataTable =\n",
       "          await google.colab.kernel.invokeFunction('convertToInteractive',\n",
       "                                                    [key], {});\n",
       "        if (!dataTable) return;\n",
       "\n",
       "        const docLinkHtml = 'Like what you see? Visit the ' +\n",
       "          '<a target=\"_blank\" href=https://colab.research.google.com/notebooks/data_table.ipynb>data table notebook</a>'\n",
       "          + ' to learn more about interactive tables.';\n",
       "        element.innerHTML = '';\n",
       "        dataTable['output_type'] = 'display_data';\n",
       "        await google.colab.output.renderOutput(dataTable, element);\n",
       "        const docLink = document.createElement('div');\n",
       "        docLink.innerHTML = docLinkHtml;\n",
       "        element.appendChild(docLink);\n",
       "      }\n",
       "    </script>\n",
       "  </div>\n",
       "\n",
       "\n",
       "<div id=\"df-b56c4d26-f7ec-4230-9138-c55c423b3730\">\n",
       "  <button class=\"colab-df-quickchart\" onclick=\"quickchart('df-b56c4d26-f7ec-4230-9138-c55c423b3730')\"\n",
       "            title=\"Suggest charts\"\n",
       "            style=\"display:none;\">\n",
       "\n",
       "<svg xmlns=\"http://www.w3.org/2000/svg\" height=\"24px\"viewBox=\"0 0 24 24\"\n",
       "     width=\"24px\">\n",
       "    <g>\n",
       "        <path d=\"M19 3H5c-1.1 0-2 .9-2 2v14c0 1.1.9 2 2 2h14c1.1 0 2-.9 2-2V5c0-1.1-.9-2-2-2zM9 17H7v-7h2v7zm4 0h-2V7h2v10zm4 0h-2v-4h2v4z\"/>\n",
       "    </g>\n",
       "</svg>\n",
       "  </button>\n",
       "\n",
       "<style>\n",
       "  .colab-df-quickchart {\n",
       "      --bg-color: #E8F0FE;\n",
       "      --fill-color: #1967D2;\n",
       "      --hover-bg-color: #E2EBFA;\n",
       "      --hover-fill-color: #174EA6;\n",
       "      --disabled-fill-color: #AAA;\n",
       "      --disabled-bg-color: #DDD;\n",
       "  }\n",
       "\n",
       "  [theme=dark] .colab-df-quickchart {\n",
       "      --bg-color: #3B4455;\n",
       "      --fill-color: #D2E3FC;\n",
       "      --hover-bg-color: #434B5C;\n",
       "      --hover-fill-color: #FFFFFF;\n",
       "      --disabled-bg-color: #3B4455;\n",
       "      --disabled-fill-color: #666;\n",
       "  }\n",
       "\n",
       "  .colab-df-quickchart {\n",
       "    background-color: var(--bg-color);\n",
       "    border: none;\n",
       "    border-radius: 50%;\n",
       "    cursor: pointer;\n",
       "    display: none;\n",
       "    fill: var(--fill-color);\n",
       "    height: 32px;\n",
       "    padding: 0;\n",
       "    width: 32px;\n",
       "  }\n",
       "\n",
       "  .colab-df-quickchart:hover {\n",
       "    background-color: var(--hover-bg-color);\n",
       "    box-shadow: 0 1px 2px rgba(60, 64, 67, 0.3), 0 1px 3px 1px rgba(60, 64, 67, 0.15);\n",
       "    fill: var(--button-hover-fill-color);\n",
       "  }\n",
       "\n",
       "  .colab-df-quickchart-complete:disabled,\n",
       "  .colab-df-quickchart-complete:disabled:hover {\n",
       "    background-color: var(--disabled-bg-color);\n",
       "    fill: var(--disabled-fill-color);\n",
       "    box-shadow: none;\n",
       "  }\n",
       "\n",
       "  .colab-df-spinner {\n",
       "    border: 2px solid var(--fill-color);\n",
       "    border-color: transparent;\n",
       "    border-bottom-color: var(--fill-color);\n",
       "    animation:\n",
       "      spin 1s steps(1) infinite;\n",
       "  }\n",
       "\n",
       "  @keyframes spin {\n",
       "    0% {\n",
       "      border-color: transparent;\n",
       "      border-bottom-color: var(--fill-color);\n",
       "      border-left-color: var(--fill-color);\n",
       "    }\n",
       "    20% {\n",
       "      border-color: transparent;\n",
       "      border-left-color: var(--fill-color);\n",
       "      border-top-color: var(--fill-color);\n",
       "    }\n",
       "    30% {\n",
       "      border-color: transparent;\n",
       "      border-left-color: var(--fill-color);\n",
       "      border-top-color: var(--fill-color);\n",
       "      border-right-color: var(--fill-color);\n",
       "    }\n",
       "    40% {\n",
       "      border-color: transparent;\n",
       "      border-right-color: var(--fill-color);\n",
       "      border-top-color: var(--fill-color);\n",
       "    }\n",
       "    60% {\n",
       "      border-color: transparent;\n",
       "      border-right-color: var(--fill-color);\n",
       "    }\n",
       "    80% {\n",
       "      border-color: transparent;\n",
       "      border-right-color: var(--fill-color);\n",
       "      border-bottom-color: var(--fill-color);\n",
       "    }\n",
       "    90% {\n",
       "      border-color: transparent;\n",
       "      border-bottom-color: var(--fill-color);\n",
       "    }\n",
       "  }\n",
       "</style>\n",
       "\n",
       "  <script>\n",
       "    async function quickchart(key) {\n",
       "      const quickchartButtonEl =\n",
       "        document.querySelector('#' + key + ' button');\n",
       "      quickchartButtonEl.disabled = true;  // To prevent multiple clicks.\n",
       "      quickchartButtonEl.classList.add('colab-df-spinner');\n",
       "      try {\n",
       "        const charts = await google.colab.kernel.invokeFunction(\n",
       "            'suggestCharts', [key], {});\n",
       "      } catch (error) {\n",
       "        console.error('Error during call to suggestCharts:', error);\n",
       "      }\n",
       "      quickchartButtonEl.classList.remove('colab-df-spinner');\n",
       "      quickchartButtonEl.classList.add('colab-df-quickchart-complete');\n",
       "    }\n",
       "    (() => {\n",
       "      let quickchartButtonEl =\n",
       "        document.querySelector('#df-b56c4d26-f7ec-4230-9138-c55c423b3730 button');\n",
       "      quickchartButtonEl.style.display =\n",
       "        google.colab.kernel.accessAllowed ? 'block' : 'none';\n",
       "    })();\n",
       "  </script>\n",
       "</div>\n",
       "\n",
       "    </div>\n",
       "  </div>\n"
      ],
      "text/plain": [
       "             title                                description\n",
       "0   Fast & Furious               A movie, a race, a franchise\n",
       "1  The Dark Knight        Gotham, the \"Batman\", and the Joker\n",
       "2          Memento  A guy forgets everything every 15 minutes"
      ]
     },
     "execution_count": 87,
     "metadata": {},
     "output_type": "execute_result"
    }
   ],
   "source": [
    "pd.read_csv('movies3.csv')"
   ]
  },
  {
   "cell_type": "markdown",
   "metadata": {
    "id": "tKWQxNUn2U43"
   },
   "source": [
    "We're able to write and read the file properly with `pandas`.\n",
    "\n",
    "In general, it's always a better idea to use libraries like Pandas for reading and writing CSV files."
   ]
  },
  {
   "cell_type": "markdown",
   "metadata": {
    "id": "hG0sIhDS2U44"
   },
   "source": [
    "### Save and upload your notebook\n",
    "\n",
    "Whether you're running this Jupyter notebook online or on your computer, it's essential to save your work from time to time. You can continue working on a saved notebook later or share it with friends and colleagues to let them execute your code. [Jovian](https://www.jovian.ai) offers an easy way of saving and sharing your Jupyter notebooks online."
   ]
  },
  {
   "cell_type": "code",
   "execution_count": null,
   "metadata": {
    "id": "Zpq2di4o2U44"
   },
   "outputs": [],
   "source": [
    "# Install the library\n",
    "!pip install jovian --upgrade --quiet"
   ]
  },
  {
   "cell_type": "code",
   "execution_count": null,
   "metadata": {
    "id": "LN3CXyfX2U46"
   },
   "outputs": [],
   "source": [
    "# Import the jovian module\n",
    "import jovian"
   ]
  },
  {
   "cell_type": "code",
   "execution_count": null,
   "metadata": {
    "id": "hSWNL71V2U47",
    "outputId": "11983a6a-8640-4df6-a03f-f42cfac69d7a"
   },
   "outputs": [
    {
     "data": {
      "application/javascript": [
       "window.require && require([\"base/js/namespace\"],function(Jupyter){Jupyter.notebook.save_checkpoint()})"
      ],
      "text/plain": [
       "<IPython.core.display.Javascript object>"
      ]
     },
     "metadata": {},
     "output_type": "display_data"
    },
    {
     "name": "stdout",
     "output_type": "stream",
     "text": [
      "[jovian] Attempting to save notebook..\u001b[0m\n"
     ]
    }
   ],
   "source": [
    "jovian.commit(project='python-os-and-filesystem')"
   ]
  },
  {
   "cell_type": "markdown",
   "metadata": {
    "id": "pb8AOVLx2U49"
   },
   "source": [
    "The first time you run `jovian.commit`, you'll be asked to provide an API Key to securely upload the notebook to your Jovian account. You can get the API key from your [Jovian profile page](https://jovian.ai) after logging in / signing up.\n",
    "\n",
    "\n",
    "`jovian.commit` uploads the notebook to your Jovian account, captures the Python environment, and creates a shareable link for your notebook, as shown above. You can use this link to share your work and let anyone (including you) run your notebooks and reproduce your work."
   ]
  },
  {
   "cell_type": "markdown",
   "metadata": {
    "id": "0jE0j7Rk2U4-"
   },
   "source": [
    "## Exercise - Processing CSV files using a dictionary of lists\n",
    "\n",
    "We defined the functions `read_csv` and `write_csv` above to convert a CSV file into a list of dictionaries and vice versa. In this exercise, you'll transform the CSV data into a dictionary of lists instead, with one list for each column in the file.\n",
    "\n",
    "For example, consider the following CSV file:\n",
    "\n",
    "```\n",
    "amount,duration,rate,down_payment\n",
    "828400,120,0.11,100000\n",
    "4633400,240,0.06,\n",
    "42900,90,0.08,8900\n",
    "983000,16,0.14,\n",
    "15230,48,0.07,4300\n",
    "```\n",
    "\n",
    "We'll convert it into the following dictionary of lists:\n",
    "\n",
    "```\n",
    "{\n",
    "  amount: [828400, 4633400, 42900, 983000, 15230],\n",
    "  duration: []120, 240, 90, 16, 48],\n",
    "  rate: [0.11, 0.06, 0.08, 0.14, 0.07],\n",
    "  down_payment: [100000, 0, 8900, 0, 4300]\n",
    "}\n",
    "```\n",
    "\n",
    "Complete the following tasks using the empty cells below:\n",
    "\n",
    "1. Download three CSV files to the folder `data2` using the URLs listed in the code cell below, and verify the downloaded files.\n",
    "2. Define a function `read_csv_columnar` that reads a CSV file and returns a dictionary of lists in the format shown above.\n",
    "3. Define a function `compute_emis` that adds another key `emi` into the dictionary with a list of EMIs computed for each row of data.\n",
    "4. Define a function `write_csv_columnar` that writes the data from the dictionary of lists into a correctly formatted CSV file.\n",
    "5. Process all three downloaded files and write the results by creating new files in the directory `data2`.\n",
    "\n",
    "Define helper functions wherever required.\n"
   ]
  },
  {
   "cell_type": "code",
   "execution_count": null,
   "metadata": {
    "id": "7ztFBipC2U4_"
   },
   "outputs": [],
   "source": [
    "url1 = 'https://gist.githubusercontent.com/aakashns/257f6e6c8719c17d0e498ea287d1a386/raw/7def9ef4234ddf0bc82f855ad67dac8b971852ef/loans1.txt'\n",
    "url2 = 'https://gist.githubusercontent.com/aakashns/257f6e6c8719c17d0e498ea287d1a386/raw/7def9ef4234ddf0bc82f855ad67dac8b971852ef/loans2.txt'\n",
    "url3 = 'https://gist.githubusercontent.com/aakashns/257f6e6c8719c17d0e498ea287d1a386/raw/7def9ef4234ddf0bc82f855ad67dac8b971852ef/loans3.txt'"
   ]
  },
  {
   "cell_type": "code",
   "execution_count": null,
   "metadata": {
    "id": "p1S9vFmy2U5A"
   },
   "outputs": [],
   "source": []
  },
  {
   "cell_type": "code",
   "execution_count": null,
   "metadata": {
    "id": "OzyRksjW2U5B"
   },
   "outputs": [],
   "source": []
  },
  {
   "cell_type": "code",
   "execution_count": null,
   "metadata": {
    "id": "SXu7nP8B2U5C"
   },
   "outputs": [],
   "source": []
  },
  {
   "cell_type": "code",
   "execution_count": null,
   "metadata": {
    "id": "shKyV4Zj2U5D"
   },
   "outputs": [],
   "source": []
  },
  {
   "cell_type": "code",
   "execution_count": null,
   "metadata": {
    "id": "vQ-tQXYT2U5D"
   },
   "outputs": [],
   "source": []
  },
  {
   "cell_type": "markdown",
   "metadata": {
    "id": "sKkl6As12U5E"
   },
   "source": [
    "Finally, let's save a snapshot of our work using `jovian.commit`."
   ]
  },
  {
   "cell_type": "code",
   "execution_count": null,
   "metadata": {
    "id": "-xGsuiKc2U5F"
   },
   "outputs": [],
   "source": [
    "jovian.commit(project='python-os-and-filesystem')"
   ]
  },
  {
   "cell_type": "markdown",
   "metadata": {
    "id": "Sm5BSs8i2U5G"
   },
   "source": [
    "## Summary and Further Reading\n",
    "\n",
    "With this, we complete our discussion of reading from and writing to files in Python. We've covered the following topics in this tutorial:\n",
    "\n",
    "* Interacting with the file system using the `os` module\n",
    "* Downloading files from URLs using the `urllib` module\n",
    "* Opening files using the `open` built-in function\n",
    "* Reading the contents of a file using `.read`\n",
    "* Closing a file automatically using `with`\n",
    "* Reading a file line by line using `readlines`\n",
    "* Processing data from a CSV file by defining functions\n",
    "* Using helper functions to build more complex functions\n",
    "* Writing data to a file using `.write`\n",
    "\n",
    "This tutorial on working with files in Python is by no means exhaustive. Following are some more resources you should check out:\n",
    "\n",
    "* Python Tutorial at W3Schools: https://www.w3schools.com/python/\n",
    "* Practical Python Programming: https://dabeaz-course.github.io/practical-python/Notes/Contents.html\n",
    "* Python official documentation: https://docs.python.org/3/tutorial/index.html\n",
    "\n",
    "You are ready to move on to the next tutorial: [Numerical Computing with Python and Numpy](https://jovian.ai/aakashns/python-numerical-computing-with-numpy)."
   ]
  },
  {
   "cell_type": "markdown",
   "metadata": {
    "id": "PjGbCaZo2U5I"
   },
   "source": [
    "## Questions for Revision\n",
    "\n",
    "Try answering the following questions to test your understanding of the topics covered in this notebook:\n",
    "\n",
    "1. What is the purpose of the `os` module in Python?\n",
    "2. How do you identify the current working directory in a Jupyter notebook?\n",
    "3. How do you retrieve the list of files within a directory using Python?\n",
    "4. How do you create a directory using Python?\n",
    "5. How do you check whether a file or directory exists on the filesystem? Hint: `os.path.exists`.\n",
    "6. Where can you find the full list of functions contained in the `os` module?\n",
    "7. Give examples of 5 useful functions from the `os` and `os.path` modules.\n",
    "8. How do you download a file from a URL using Python?\n",
    "9. How do you open a file using Python? Give an example?\n",
    "10. What are the different modes for opening a file in Python?\n",
    "11. Can you open a file in multiple modes? Illustrate with an example.\n",
    "12. What is the file object? How is it useful?\n",
    "13. How do you read the contents of a file into a string?\n",
    "14. What is a CSV file? Give an example.\n",
    "15. How do you close an open file?\n",
    "16. Why is it essential to close a file after processing it?\n",
    "17. How do you ensure that files are closed automatically after processing? Give an example.\n",
    "18. How is the `with` statement useful for working with files?\n",
    "19. What happens if you try to read from a closed file?\n",
    "20. How do you read the contents of a file line by line?\n",
    "21. Write a function to convert the contents of a CSV file into a list of dictionaries (one dictionary for each row of the file).\n",
    "22. Write a function to convert the contents of a CSV file into a dictionary of lists (one dictionary for each column of the file).\n",
    "23. How do you write to a file using Python?\n",
    "24. How is the string `.format` method for writing data to a file in CSV format?\n",
    "25. Write a function to write data from a list of dictionaries into a CSV file.\n",
    "26. Write a function to write data from a dictionary of lists into a CSV file.\n",
    "27. Where can you learn about the methods supported by the file object in Python?\n",
    "28. How can you read from and write to CSV files using Pandas?\n"
   ]
  },
  {
   "cell_type": "code",
   "execution_count": null,
   "metadata": {
    "id": "ZYlws7cH2U5J"
   },
   "outputs": [],
   "source": []
  }
 ],
 "metadata": {
  "colab": {
   "provenance": []
  },
  "language_info": {
   "codemirror_mode": {
    "name": "ipython",
    "version": 3
   },
   "file_extension": ".py",
   "mimetype": "text/x-python",
   "name": "python",
   "nbconvert_exporter": "python",
   "pygments_lexer": "ipython3",
   "version": "3.9.7"
  }
 },
 "nbformat": 4,
 "nbformat_minor": 1
}