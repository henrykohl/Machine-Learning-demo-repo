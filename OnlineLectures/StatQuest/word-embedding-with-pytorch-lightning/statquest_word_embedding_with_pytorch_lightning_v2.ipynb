{
  "cells": [
    {
      "cell_type": "markdown",
      "metadata": {
        "id": "view-in-github",
        "colab_type": "text"
      },
      "source": [
        "<a href=\"https://colab.research.google.com/github/henrykohl/Machine-Learning-demo-repo/blob/master/OnlineLectures/StatQuest/word-embedding-with-pytorch-lightning/statquest_word_embedding_with_pytorch_lightning_v2.ipynb\" target=\"_parent\"><img src=\"https://colab.research.google.com/assets/colab-badge.svg\" alt=\"Open In Colab\"/></a>"
      ]
    },
    {
      "cell_type": "markdown",
      "id": "34006ee1-51e5-4a48-82de-021a71e1201a",
      "metadata": {
        "tags": [],
        "id": "34006ee1-51e5-4a48-82de-021a71e1201a"
      },
      "source": [
        "# StatQuest: Word Embedding in PyTorch + Lightning!!!\n",
        "<!-- ## Brought to you by...\n",
        "[<img src=\"./images/Brandmark_FullColor_Black.png\" alt=\"Lightning\" style=\"width: 400px;\">](https://www.pytorchlightning.ai/)\n",
        " -->\n",
        "Copyright 2023, Joshua Starmer"
      ]
    },
    {
      "cell_type": "markdown",
      "id": "7cf0aedd-9400-4ce1-8885-d800f997cb6b",
      "metadata": {
        "id": "7cf0aedd-9400-4ce1-8885-d800f997cb6b"
      },
      "source": [
        "----\n",
        "**NOTE:** This tutorial is from the StatQuest **[Word Embedding in PyTorch + Lightning](https://youtu.be/Qf06XDYXCXI)**.\n",
        "\n",
        "In this tutorial, we will use **[PyTorch](https://pytorch.org/) **+** [Lightning](https://www.lightning.ai/)** to create and optimize word embeddings using the incredibly simple network seen below and featured in the **StatQuest** **[Word Embedding and Word2Vec, Clearly Explained!!](https://youtu.be/viZrOnJclY0)**\n",
        "\n",
        "<img src=\"https://github.com/henrykohl/Machine-Learning-demo-repo/blob/master/OnlineLectures/StatQuest/word-embedding-with-pytorch-lightning/images/word_embedding_network.png?raw=1\" alt=\"A simple word embedding network\" style=\"width: 600px;\">\n",
        "\n",
        "In that **StatQuest**, this simple network created word embeddings that made two movie titles, **Troll 2** and **Gymkata**, cluster together because they were used in similar contexts.\n",
        "\n",
        "<img src=\"https://github.com/henrykohl/Machine-Learning-demo-repo/blob/master/OnlineLectures/StatQuest/word-embedding-with-pytorch-lightning/images/trained_embedding_graph.png?raw=1\" alt=\"A graph of the trained word embeddings\" style=\"width: 300px;\">\n",
        "\n",
        "<!-- The training data consists of two phrases, **Troll 2 is great!** and **Gymkata is great!**, where, for the sake of this demonstration, **Troll 2** is considered a single word. -->\n",
        "\n",
        "In this tutorial, you will...\n",
        "\n",
        "- **[Build and train a Word Embedding Unit from scratch](#build_entirely_by_hand)**\n",
        "\n",
        "- **[Build and train a Word Embedding Unit using `nn.Linear()`](#build_entirely_with_linear)**\n",
        "\n",
        "- **[Use `nn.Embedding()` to load and use pre-trained Word Embeddings](#embedding_lookup)**\n",
        "\n",
        "- **BONUS BAM: [Build and train a word Word Embedding Unit using `nn.Embedding()` and `nn.Linear()`](#build_with_embedding)**\n",
        "\n",
        "\n",
        "#### NOTE:\n",
        "This tutorial assumes that you already know the basics of coding in **Python** and are familiar with the theory behind **[Neural Networks](https://youtu.be/CqOfi41LfDw)**, **[Backpropagation](https://youtu.be/IN2XmBhILt4)**, and **[Word Embedding](https://youtu.be/viZrOnJclY0)**. If not, check out the **'Quests** by clicking on the links for each topic.\n",
        "\n",
        "#### ALSO NOTE:\n",
        "I strongly encourage you to play around with the code. Playing with the code is the best way to learn from it."
      ]
    },
    {
      "cell_type": "markdown",
      "id": "9c3669a0-284c-48f7-9c73-19812e2a8fac",
      "metadata": {
        "id": "9c3669a0-284c-48f7-9c73-19812e2a8fac"
      },
      "source": [
        "-----"
      ]
    },
    {
      "cell_type": "markdown",
      "id": "5b4feccd-8472-4bb2-bc56-ea41e527d714",
      "metadata": {
        "id": "5b4feccd-8472-4bb2-bc56-ea41e527d714"
      },
      "source": [
        "# Import the modules that will do all the work\n",
        "\n",
        "The very first thing we need to do is load a bunch of Python modules. Python itself is just a basic programming language. These modules give us extra functionality to create a neural network, use and graph the output for various input values, and optimize the neural network's parameters.\n",
        "\n",
        "<!-- You will need **Python 3.8** and have at least these versions for each of the following modules:\n",
        "- pytorch >= 1.10.1\n",
        "- lightning >= 1.8.0\n",
        "\n",
        "**If you installed **Python** with [Anaconda](https://www.anaconda.com/)...**\n",
        "\n",
        "...then you can check which versions of each package you have with the command: `conda list`. If, for example, your version of `matplotlib` is older than **3.3.4**, then the easiest thing to do is just update all of your Anaconda packages with the following command: `conda update --all`. However, if you only want to update `matplotlib`, then you can run this command: `conda install matplotlib=3.3.4`.\n",
        "\n",
        "**If you need to install **PyTorch**...**\n",
        "\n",
        "...then the easiest thing to do is follow the instructions on the [PyTorch website](https://pytorch.org/get-started/locally/).\n",
        "\n",
        "**If you need to install **Lightning**...**\n",
        "\n",
        "...then the easiest thing to do is follow the instructions on the [Lightning AI website](https://lightning.ai/lightning-docs/). -->"
      ]
    },
    {
      "cell_type": "code",
      "execution_count": null,
      "id": "2e6b9647-24a8-4c13-9665-a036d9a8e121",
      "metadata": {
        "tags": [],
        "id": "2e6b9647-24a8-4c13-9665-a036d9a8e121"
      },
      "outputs": [],
      "source": [
        "import torch # torch will allow us to create tensors.\n",
        "import torch.nn as nn # torch.nn allows us to create a neural network and allows\n",
        "                      # us to access a lot of useful functions like:\n",
        "                      # nn.Linear, nn.Embedding, nn.CrossEntropyLoss() etc.\n",
        "\n",
        "from torch.optim import Adam # optim contains many optimizers. This time we're using Adam\n",
        "from torch.distributions.uniform import Uniform # So we can initialize our tensors with a uniform distribution\n",
        "from torch.utils.data import TensorDataset, DataLoader # these are needed for the training data\n",
        "\n",
        "import lightning as L # lightning has tons of cool tools that make neural networks easier\n",
        "\n",
        "import pandas as pd ## to create dataframes from graph input\n",
        "import matplotlib.pyplot as plt ## matplotlib allows us to draw graphs.\n",
        "import seaborn as sns ## seaborn makes it easier to draw nice-looking graphs."
      ]
    },
    {
      "cell_type": "markdown",
      "id": "31140c14-1161-48ab-ac69-73859196a422",
      "metadata": {
        "id": "31140c14-1161-48ab-ac69-73859196a422"
      },
      "source": [
        "----"
      ]
    },
    {
      "cell_type": "markdown",
      "id": "b08f3bd1-2796-4f93-b13b-eaa2bdda3467",
      "metadata": {
        "id": "b08f3bd1-2796-4f93-b13b-eaa2bdda3467"
      },
      "source": [
        "# Create the datasets that we will use for training the word embeddings\n",
        "\n",
        "Now let's create our training data from two phrases, **Troll 2 is great** and **Gymkata is great**, which gives us a simple 4 word, or token, vocabulary: **Troll 2**, **is**, **great**, **Gymkata**. Our training data consists of two parts: `inputs`, the inputs to the neural network, and `labels`, the expected outputs from the neural networks.\n",
        "\n",
        "The idea is to have each token in a phrase predict the token that follows. For example, using **one-hot-encoding** to represent each token, since **Troll 2** is the first token in our vocalbuary, we will encode the `input` for **Troll 2** with `[1., 0., 0., 0.]`. And since **Troll 2** predicts the second token, **is**, which is the second token in our vocabulary, we will encode the `label` for **Troll 2** with `[0., 1., 0., 0.]`. Likewise, we can encode the `inputs` and `labels` for **is**, **great** and **Gymkata**. **NOTE: Gymkata** predicts the second token, **is**, so it's label is `[0., 1., 0., 0.]`."
      ]
    },
    {
      "cell_type": "code",
      "execution_count": null,
      "id": "a7cb3602-b0d5-457c-a5da-97cd3d3f9efa",
      "metadata": {
        "tags": [],
        "id": "a7cb3602-b0d5-457c-a5da-97cd3d3f9efa"
      },
      "outputs": [],
      "source": [
        "## create the training data for the neural network.\n",
        "inputs = torch.tensor([[1., 0., 0., 0.], # one-hot-encoding for Troll 2...\n",
        "                       [0., 1., 0., 0.], # ...is\n",
        "                       [0., 0., 1., 0.], # ...great\n",
        "                       [0., 0., 0., 1.]]) # ...Gymkata\n",
        "\n",
        "labels = torch.tensor([[0., 1., 0., 0.], # \"Troll 2\" is followed by \"is\"\n",
        "                       [0., 0., 1., 0.], # \"is\" is followed by \"great\"\n",
        "                       [0., 0., 0., 1.], # \"great\" isn't followed by anything, but we'll pretend it was followed by \"Gymkata\"\n",
        "                       [0., 1., 0., 0.]]) # \"Gymkata\", just like \"Troll 2\", is followed by \"is\"."
      ]
    },
    {
      "cell_type": "markdown",
      "id": "9168948f-5e25-48ad-b775-ef04463d9a3a",
      "metadata": {
        "id": "9168948f-5e25-48ad-b775-ef04463d9a3a"
      },
      "source": [
        "Now that we have created the data that we want to train the embeddings with, we'll store it in a `DataLoader`. Since our dataset is so small, using a `DataLoader` is a little bit of an overkill, but it it's easy to do, and it will allow us to easily scale up to a much larger vocabulary when the time comes."
      ]
    },
    {
      "cell_type": "code",
      "execution_count": null,
      "id": "79749df5-3328-4d37-8a85-3fa8df641549",
      "metadata": {
        "tags": [],
        "id": "79749df5-3328-4d37-8a85-3fa8df641549"
      },
      "outputs": [],
      "source": [
        "dataset = TensorDataset(inputs, labels)\n",
        "dataloader = DataLoader(dataset)"
      ]
    },
    {
      "cell_type": "markdown",
      "id": "df333b81-aab6-4fed-b593-33439f05d74d",
      "metadata": {
        "id": "df333b81-aab6-4fed-b593-33439f05d74d"
      },
      "source": [
        "----\n",
        "<a id=\"build_entirely_by_hand\"></a>\n",
        "# Build and train a Word Embedding Unit from scratch\n",
        "\n",
        "Now that we have the data and `DataLoader` all worked out, let's create the `class` that will create the word embeddings for each token in the vacublary."
      ]
    },
    {
      "cell_type": "code",
      "execution_count": 30,
      "id": "e72b990a-3d31-4437-a995-f926c8cd4d61",
      "metadata": {
        "id": "e72b990a-3d31-4437-a995-f926c8cd4d61"
      },
      "outputs": [],
      "source": [
        "class WordEmbeddingFromScratch(L.LightningModule):\n",
        "\n",
        "    def __init__(self):\n",
        "        ## __init__() initializes the weights and sets everything up for training\n",
        "\n",
        "        super().__init__()\n",
        "\n",
        "        ## The first thing we do is set the seed for the random number generorator.\n",
        "        ## This ensures that when someone creates a model from this class, that model\n",
        "        ## will start off with the exact same random numbers as I started out with when\n",
        "        ## I created this demo. At least, I hope that is what happens!!! :)\n",
        "        L.seed_everything(seed=42)\n",
        "\n",
        "        ###################\n",
        "        ##\n",
        "        ## Initialize the weights.\n",
        "        ##\n",
        "        ## NOTE: We're initializing the weights using values from a uniform distribtion\n",
        "        ##       that goes from -0.5 to 0.5 (this is notated as U(-0.5, 0.5).\n",
        "        ##       This is because of how nn.Linear() initializes weights -\n",
        "        ##       nn.Linear() uses U(-sqrt(k), sqrt(k)), where k=1/in_features.\n",
        "        ##       In our case, we have 4 inputs, so k=1/4 = 0.25. And the sqrt(0.25) = 0.5.\n",
        "        ##       Thus, nn.Linear() would use U(-0.5, 0.5) to initialize the weights, so\n",
        "        ##       that's what we'll do here as well.\n",
        "        ##\n",
        "        ###################\n",
        "        min_value = -0.5\n",
        "        max_value = 0.5\n",
        "\n",
        "        ## Now we initialize the weights that feed 4 inputs (one for each unique word)\n",
        "        ##       into the 2 nodes in the hidden layer (top and bottom nodes)\n",
        "        ##\n",
        "        ## NOTE: Because we want words (or tokens) that are used in the same context to have similar\n",
        "        ##       weights, we are excluding bias terms from the connections from the inputs to the\n",
        "        ##       nodes in the hidden layer (alternatively, you could think that\n",
        "        ##       we set the bias terms to 0 and are not going to optimize them).\n",
        "        ##\n",
        "        ## ALSO NOTE: We're using nn.Parameter() here instead of torch.tensor() because we want\n",
        "        ##       to easily print out the parameters before and after training. Parameters are just\n",
        "        ##       tensors that are added to model's parameter list.\n",
        "        self.input1_w1 = nn.Parameter(Uniform(min_value, max_value).sample())\n",
        "        self.input1_w2 = nn.Parameter(Uniform(min_value, max_value).sample())\n",
        "\n",
        "        self.input2_w1 = nn.Parameter(Uniform(min_value, max_value).sample())\n",
        "        self.input2_w2 = nn.Parameter(Uniform(min_value, max_value).sample())\n",
        "\n",
        "        self.input3_w1 = nn.Parameter(Uniform(min_value, max_value).sample())\n",
        "        self.input3_w2 = nn.Parameter(Uniform(min_value, max_value).sample())\n",
        "\n",
        "        self.input4_w1 = nn.Parameter(Uniform(min_value, max_value).sample())\n",
        "        self.input4_w2 = nn.Parameter(Uniform(min_value, max_value).sample())\n",
        "\n",
        "        ## Now we initialize the weights that come out of the hidden layer to the \"output\"\n",
        "        ## NOTE: Again, we are excluding bias terms. This time, we exclude them simply because\n",
        "        ##       we do not need them.\n",
        "        self.output1_w1 = nn.Parameter(Uniform(min_value, max_value).sample())\n",
        "        self.output1_w2 = nn.Parameter(Uniform(min_value, max_value).sample())\n",
        "\n",
        "        self.output2_w1 = nn.Parameter(Uniform(min_value, max_value).sample())\n",
        "        self.output2_w2 = nn.Parameter(Uniform(min_value, max_value).sample())\n",
        "\n",
        "        self.output3_w1 = nn.Parameter(Uniform(min_value, max_value).sample())\n",
        "        self.output3_w2 = nn.Parameter(Uniform(min_value, max_value).sample())\n",
        "\n",
        "        self.output4_w1 = nn.Parameter(Uniform(min_value, max_value).sample())\n",
        "        self.output4_w2 = nn.Parameter(Uniform(min_value, max_value).sample())\n",
        "\n",
        "        ## For the loss function, we'll use CrossEntropyLoss, which we'll use in training_step()\n",
        "        ## NOTE: The nn.CrossEntropyLoss automatically applies softmax for us, so we don't need to import it.\n",
        "        self.loss = nn.CrossEntropyLoss()\n",
        "\n",
        "\n",
        "    def forward(self, input):\n",
        "        ## forward() is where we do the math associated with running the inputs through the\n",
        "        ## network\n",
        "\n",
        "        ## The input is delivered inside of a list, like this...\n",
        "        ##   [[1., 0., 0., 0.]]\n",
        "        ## ...and it's just easier if we remove the extra pair of brackets so we only have...\n",
        "        ##   [1., 0., 0., 0.]\n",
        "        ## ...so let's do it.\n",
        "        input = input[0]\n",
        "\n",
        "        ## First, for the top node in the hidden layer,\n",
        "        ## we multiply each input by its weight,\n",
        "        ## and then calculate the sum of those products...\n",
        "        inputs_to_top_hidden = ((input[0] * self.input1_w1) +\n",
        "                                (input[1] * self.input2_w1) +\n",
        "                                (input[2] * self.input3_w1) +\n",
        "                                (input[3] * self.input4_w1))\n",
        "\n",
        "        ## ...then, for the bottom node in the hidden layer,\n",
        "        ## we multiply each input by its weight,\n",
        "        ## and then calculate the sum of those products.\n",
        "        inputs_to_bottom_hidden = ((input[0] * self.input1_w2) +\n",
        "                                   (input[1] * self.input2_w2) +\n",
        "                                   (input[2] * self.input3_w2) +\n",
        "                                   (input[3] * self.input4_w2))\n",
        "\n",
        "        ## Now, in theory, we could run inputs_to_top_hidden and inputs_to_bottom_hidden through\n",
        "        ## linear activation functions, but the outputs would be the exact same as in the inputs,\n",
        "        ## so we can just skip that step and instead compute the 4 output values from the 2 nodes in hidden layer\n",
        "        ## by summing the products of the hidden layer values and a pair of weights for each output.\n",
        "        output1 = ((inputs_to_top_hidden * self.output1_w1) +\n",
        "                   (inputs_to_bottom_hidden * self.output1_w2))\n",
        "        output2 = ((inputs_to_top_hidden * self.output2_w1) +\n",
        "                   (inputs_to_bottom_hidden * self.output2_w2))\n",
        "        output3 = ((inputs_to_top_hidden * self.output3_w1) +\n",
        "                   (inputs_to_bottom_hidden * self.output3_w2))\n",
        "        output4 = ((inputs_to_top_hidden * self.output4_w1) +\n",
        "                   (inputs_to_bottom_hidden * self.output4_w2))\n",
        "\n",
        "        ## Now we need to concatenate the 4 output tensors so that we can run them through\n",
        "        ## the SoftMax function. However, because they are tensors (and have gradients attached to them),\n",
        "        ## we can't just combine them in a simple list like this...\n",
        "        # output_values = [output1, output2, output3, output4] ## THIS WILL NOT WORK\n",
        "        ## ...because that would strip off the gradients.\n",
        "        ## Instead, we use torch.stack(), which retains the gradients.\n",
        "        output_presoftmax = torch.stack([output1, output2, output3, output4])\n",
        "        ## NOTE: The the loss function we are using, nn.CrossEntropyLoss, automatically applies softmax for us, so we\n",
        "        ##       need to do that ourselves. If we want to actually use this network to predict the next word\n",
        "        ##       (instead of just using it for the Word Embedding values), then we'll need to apply the softmax() function\n",
        "        ##       ourselves (or just look to see what output value is largest).\n",
        "\n",
        "        return(output_presoftmax)\n",
        "\n",
        "\n",
        "    def configure_optimizers(self):\n",
        "        # configure_optimizers() configures the optimizer we want to use for backpropagation.\n",
        "\n",
        "        return Adam(self.parameters(), lr=0.1) # lr=0.1 sets the learning rate to 0.1\n",
        "\n",
        "\n",
        "    def training_step(self, batch, batch_idx):\n",
        "        # training_step() takes a step of gradient descent.\n",
        "\n",
        "        input_i, label_i = batch # collect input\n",
        "        output_i = self.forward(input_i) # run input through the neural network\n",
        "        loss = self.loss(output_i, label_i[0]) ## loss = cross entropy\n",
        "        print(\">>\",output_i,label_i[0],loss)\n",
        "\n",
        "        return loss"
      ]
    },
    {
      "cell_type": "markdown",
      "id": "a5ef5568-5826-4e07-b807-5764060f39ad",
      "metadata": {
        "id": "a5ef5568-5826-4e07-b807-5764060f39ad"
      },
      "source": [
        "Now that we have created our new `class`, `WordEmbeddingFromScratch`, let's create a model and print out the initial parameters."
      ]
    },
    {
      "cell_type": "code",
      "execution_count": 38,
      "id": "819df074-8ece-4808-a2ec-1c4d258a2094",
      "metadata": {
        "tags": [],
        "id": "819df074-8ece-4808-a2ec-1c4d258a2094",
        "outputId": "375884c0-784c-4a5a-b9fb-ca31d78d49c1",
        "colab": {
          "base_uri": "https://localhost:8080/"
        }
      },
      "outputs": [
        {
          "output_type": "stream",
          "name": "stderr",
          "text": [
            "INFO: Seed set to 42\n",
            "INFO:lightning.fabric.utilities.seed:Seed set to 42\n"
          ]
        },
        {
          "output_type": "stream",
          "name": "stdout",
          "text": [
            "Before optimization, the parameters are...\n",
            "input1_w1 tensor(0.3800)\n",
            "input1_w2 tensor(0.4200)\n",
            "input2_w1 tensor(-0.1200)\n",
            "input2_w2 tensor(0.4600)\n",
            "input3_w1 tensor(-0.1100)\n",
            "input3_w2 tensor(0.1000)\n",
            "input4_w1 tensor(-0.2400)\n",
            "input4_w2 tensor(0.2900)\n",
            "output1_w1 tensor(0.4400)\n",
            "output1_w2 tensor(-0.3700)\n",
            "output2_w1 tensor(0.4300)\n",
            "output2_w2 tensor(0.0900)\n",
            "output3_w1 tensor(0.3700)\n",
            "output3_w2 tensor(0.0700)\n",
            "output4_w1 tensor(0.2400)\n",
            "output4_w2 tensor(-0.0700)\n"
          ]
        }
      ],
      "source": [
        "modelFromScratch = WordEmbeddingFromScratch() # create the model...\n",
        "\n",
        "print(\"Before optimization, the parameters are...\")\n",
        "for name, param in modelFromScratch.named_parameters():\n",
        "    print(name, torch.round(param.data, decimals=2))"
      ]
    },
    {
      "cell_type": "markdown",
      "id": "ba85af72-311c-4fd4-94ce-caec261d0380",
      "metadata": {
        "id": "ba85af72-311c-4fd4-94ce-caec261d0380"
      },
      "source": [
        "Notice how the weights for **input1** (`w1 = 0.3832` and `w2 = 0.4150`) and **input4** (`w1 = -0.2434` and `w2 = 0.2936`) are very different, even though they both represent movie titles (**Troll2** and **Gymkata**) that are used in the same context. We can visualize how similar, and different, the embeddings are for all four tokens by plotting them on a graph that has the **w1** values, the embedding values that go to the top node in the hidden layer, on the x-axis and the **w2** values, the embedding values that go to the bottom node in the hidden layer, on the y-axis. First, let's organize the data into a Pandas `DataFrame()`."
      ]
    },
    {
      "cell_type": "code",
      "execution_count": 28,
      "id": "eb225dd9-549d-4521-8f27-54900e20566d",
      "metadata": {
        "id": "eb225dd9-549d-4521-8f27-54900e20566d",
        "outputId": "c98fb9f3-a04e-42e2-92f3-cc7022d92080",
        "colab": {
          "base_uri": "https://localhost:8080/",
          "height": 175
        }
      },
      "outputs": [
        {
          "output_type": "execute_result",
          "data": {
            "text/plain": [
              "         w1        w2    token   input\n",
              "0  1.045099  1.094598   Troll2  input1\n",
              "1 -0.694521  1.044979       is  input2\n",
              "2 -0.626443 -0.417344    great  input3\n",
              "3  0.204583  0.740885  Gymkata  input4"
            ],
            "text/html": [
              "\n",
              "  <div id=\"df-2e38ed72-f41e-443f-8012-576147b4cb96\" class=\"colab-df-container\">\n",
              "    <div>\n",
              "<style scoped>\n",
              "    .dataframe tbody tr th:only-of-type {\n",
              "        vertical-align: middle;\n",
              "    }\n",
              "\n",
              "    .dataframe tbody tr th {\n",
              "        vertical-align: top;\n",
              "    }\n",
              "\n",
              "    .dataframe thead th {\n",
              "        text-align: right;\n",
              "    }\n",
              "</style>\n",
              "<table border=\"1\" class=\"dataframe\">\n",
              "  <thead>\n",
              "    <tr style=\"text-align: right;\">\n",
              "      <th></th>\n",
              "      <th>w1</th>\n",
              "      <th>w2</th>\n",
              "      <th>token</th>\n",
              "      <th>input</th>\n",
              "    </tr>\n",
              "  </thead>\n",
              "  <tbody>\n",
              "    <tr>\n",
              "      <th>0</th>\n",
              "      <td>1.045099</td>\n",
              "      <td>1.094598</td>\n",
              "      <td>Troll2</td>\n",
              "      <td>input1</td>\n",
              "    </tr>\n",
              "    <tr>\n",
              "      <th>1</th>\n",
              "      <td>-0.694521</td>\n",
              "      <td>1.044979</td>\n",
              "      <td>is</td>\n",
              "      <td>input2</td>\n",
              "    </tr>\n",
              "    <tr>\n",
              "      <th>2</th>\n",
              "      <td>-0.626443</td>\n",
              "      <td>-0.417344</td>\n",
              "      <td>great</td>\n",
              "      <td>input3</td>\n",
              "    </tr>\n",
              "    <tr>\n",
              "      <th>3</th>\n",
              "      <td>0.204583</td>\n",
              "      <td>0.740885</td>\n",
              "      <td>Gymkata</td>\n",
              "      <td>input4</td>\n",
              "    </tr>\n",
              "  </tbody>\n",
              "</table>\n",
              "</div>\n",
              "    <div class=\"colab-df-buttons\">\n",
              "\n",
              "  <div class=\"colab-df-container\">\n",
              "    <button class=\"colab-df-convert\" onclick=\"convertToInteractive('df-2e38ed72-f41e-443f-8012-576147b4cb96')\"\n",
              "            title=\"Convert this dataframe to an interactive table.\"\n",
              "            style=\"display:none;\">\n",
              "\n",
              "  <svg xmlns=\"http://www.w3.org/2000/svg\" height=\"24px\" viewBox=\"0 -960 960 960\">\n",
              "    <path d=\"M120-120v-720h720v720H120Zm60-500h600v-160H180v160Zm220 220h160v-160H400v160Zm0 220h160v-160H400v160ZM180-400h160v-160H180v160Zm440 0h160v-160H620v160ZM180-180h160v-160H180v160Zm440 0h160v-160H620v160Z\"/>\n",
              "  </svg>\n",
              "    </button>\n",
              "\n",
              "  <style>\n",
              "    .colab-df-container {\n",
              "      display:flex;\n",
              "      gap: 12px;\n",
              "    }\n",
              "\n",
              "    .colab-df-convert {\n",
              "      background-color: #E8F0FE;\n",
              "      border: none;\n",
              "      border-radius: 50%;\n",
              "      cursor: pointer;\n",
              "      display: none;\n",
              "      fill: #1967D2;\n",
              "      height: 32px;\n",
              "      padding: 0 0 0 0;\n",
              "      width: 32px;\n",
              "    }\n",
              "\n",
              "    .colab-df-convert:hover {\n",
              "      background-color: #E2EBFA;\n",
              "      box-shadow: 0px 1px 2px rgba(60, 64, 67, 0.3), 0px 1px 3px 1px rgba(60, 64, 67, 0.15);\n",
              "      fill: #174EA6;\n",
              "    }\n",
              "\n",
              "    .colab-df-buttons div {\n",
              "      margin-bottom: 4px;\n",
              "    }\n",
              "\n",
              "    [theme=dark] .colab-df-convert {\n",
              "      background-color: #3B4455;\n",
              "      fill: #D2E3FC;\n",
              "    }\n",
              "\n",
              "    [theme=dark] .colab-df-convert:hover {\n",
              "      background-color: #434B5C;\n",
              "      box-shadow: 0px 1px 3px 1px rgba(0, 0, 0, 0.15);\n",
              "      filter: drop-shadow(0px 1px 2px rgba(0, 0, 0, 0.3));\n",
              "      fill: #FFFFFF;\n",
              "    }\n",
              "  </style>\n",
              "\n",
              "    <script>\n",
              "      const buttonEl =\n",
              "        document.querySelector('#df-2e38ed72-f41e-443f-8012-576147b4cb96 button.colab-df-convert');\n",
              "      buttonEl.style.display =\n",
              "        google.colab.kernel.accessAllowed ? 'block' : 'none';\n",
              "\n",
              "      async function convertToInteractive(key) {\n",
              "        const element = document.querySelector('#df-2e38ed72-f41e-443f-8012-576147b4cb96');\n",
              "        const dataTable =\n",
              "          await google.colab.kernel.invokeFunction('convertToInteractive',\n",
              "                                                    [key], {});\n",
              "        if (!dataTable) return;\n",
              "\n",
              "        const docLinkHtml = 'Like what you see? Visit the ' +\n",
              "          '<a target=\"_blank\" href=https://colab.research.google.com/notebooks/data_table.ipynb>data table notebook</a>'\n",
              "          + ' to learn more about interactive tables.';\n",
              "        element.innerHTML = '';\n",
              "        dataTable['output_type'] = 'display_data';\n",
              "        await google.colab.output.renderOutput(dataTable, element);\n",
              "        const docLink = document.createElement('div');\n",
              "        docLink.innerHTML = docLinkHtml;\n",
              "        element.appendChild(docLink);\n",
              "      }\n",
              "    </script>\n",
              "  </div>\n",
              "\n",
              "\n",
              "<div id=\"df-0376f64b-0795-4f3c-b326-bc639f6795d4\">\n",
              "  <button class=\"colab-df-quickchart\" onclick=\"quickchart('df-0376f64b-0795-4f3c-b326-bc639f6795d4')\"\n",
              "            title=\"Suggest charts\"\n",
              "            style=\"display:none;\">\n",
              "\n",
              "<svg xmlns=\"http://www.w3.org/2000/svg\" height=\"24px\"viewBox=\"0 0 24 24\"\n",
              "     width=\"24px\">\n",
              "    <g>\n",
              "        <path d=\"M19 3H5c-1.1 0-2 .9-2 2v14c0 1.1.9 2 2 2h14c1.1 0 2-.9 2-2V5c0-1.1-.9-2-2-2zM9 17H7v-7h2v7zm4 0h-2V7h2v10zm4 0h-2v-4h2v4z\"/>\n",
              "    </g>\n",
              "</svg>\n",
              "  </button>\n",
              "\n",
              "<style>\n",
              "  .colab-df-quickchart {\n",
              "      --bg-color: #E8F0FE;\n",
              "      --fill-color: #1967D2;\n",
              "      --hover-bg-color: #E2EBFA;\n",
              "      --hover-fill-color: #174EA6;\n",
              "      --disabled-fill-color: #AAA;\n",
              "      --disabled-bg-color: #DDD;\n",
              "  }\n",
              "\n",
              "  [theme=dark] .colab-df-quickchart {\n",
              "      --bg-color: #3B4455;\n",
              "      --fill-color: #D2E3FC;\n",
              "      --hover-bg-color: #434B5C;\n",
              "      --hover-fill-color: #FFFFFF;\n",
              "      --disabled-bg-color: #3B4455;\n",
              "      --disabled-fill-color: #666;\n",
              "  }\n",
              "\n",
              "  .colab-df-quickchart {\n",
              "    background-color: var(--bg-color);\n",
              "    border: none;\n",
              "    border-radius: 50%;\n",
              "    cursor: pointer;\n",
              "    display: none;\n",
              "    fill: var(--fill-color);\n",
              "    height: 32px;\n",
              "    padding: 0;\n",
              "    width: 32px;\n",
              "  }\n",
              "\n",
              "  .colab-df-quickchart:hover {\n",
              "    background-color: var(--hover-bg-color);\n",
              "    box-shadow: 0 1px 2px rgba(60, 64, 67, 0.3), 0 1px 3px 1px rgba(60, 64, 67, 0.15);\n",
              "    fill: var(--button-hover-fill-color);\n",
              "  }\n",
              "\n",
              "  .colab-df-quickchart-complete:disabled,\n",
              "  .colab-df-quickchart-complete:disabled:hover {\n",
              "    background-color: var(--disabled-bg-color);\n",
              "    fill: var(--disabled-fill-color);\n",
              "    box-shadow: none;\n",
              "  }\n",
              "\n",
              "  .colab-df-spinner {\n",
              "    border: 2px solid var(--fill-color);\n",
              "    border-color: transparent;\n",
              "    border-bottom-color: var(--fill-color);\n",
              "    animation:\n",
              "      spin 1s steps(1) infinite;\n",
              "  }\n",
              "\n",
              "  @keyframes spin {\n",
              "    0% {\n",
              "      border-color: transparent;\n",
              "      border-bottom-color: var(--fill-color);\n",
              "      border-left-color: var(--fill-color);\n",
              "    }\n",
              "    20% {\n",
              "      border-color: transparent;\n",
              "      border-left-color: var(--fill-color);\n",
              "      border-top-color: var(--fill-color);\n",
              "    }\n",
              "    30% {\n",
              "      border-color: transparent;\n",
              "      border-left-color: var(--fill-color);\n",
              "      border-top-color: var(--fill-color);\n",
              "      border-right-color: var(--fill-color);\n",
              "    }\n",
              "    40% {\n",
              "      border-color: transparent;\n",
              "      border-right-color: var(--fill-color);\n",
              "      border-top-color: var(--fill-color);\n",
              "    }\n",
              "    60% {\n",
              "      border-color: transparent;\n",
              "      border-right-color: var(--fill-color);\n",
              "    }\n",
              "    80% {\n",
              "      border-color: transparent;\n",
              "      border-right-color: var(--fill-color);\n",
              "      border-bottom-color: var(--fill-color);\n",
              "    }\n",
              "    90% {\n",
              "      border-color: transparent;\n",
              "      border-bottom-color: var(--fill-color);\n",
              "    }\n",
              "  }\n",
              "</style>\n",
              "\n",
              "  <script>\n",
              "    async function quickchart(key) {\n",
              "      const quickchartButtonEl =\n",
              "        document.querySelector('#' + key + ' button');\n",
              "      quickchartButtonEl.disabled = true;  // To prevent multiple clicks.\n",
              "      quickchartButtonEl.classList.add('colab-df-spinner');\n",
              "      try {\n",
              "        const charts = await google.colab.kernel.invokeFunction(\n",
              "            'suggestCharts', [key], {});\n",
              "      } catch (error) {\n",
              "        console.error('Error during call to suggestCharts:', error);\n",
              "      }\n",
              "      quickchartButtonEl.classList.remove('colab-df-spinner');\n",
              "      quickchartButtonEl.classList.add('colab-df-quickchart-complete');\n",
              "    }\n",
              "    (() => {\n",
              "      let quickchartButtonEl =\n",
              "        document.querySelector('#df-0376f64b-0795-4f3c-b326-bc639f6795d4 button');\n",
              "      quickchartButtonEl.style.display =\n",
              "        google.colab.kernel.accessAllowed ? 'block' : 'none';\n",
              "    })();\n",
              "  </script>\n",
              "</div>\n",
              "\n",
              "  <div id=\"id_a3268c48-79dc-441e-b0b1-219a6d80ec00\">\n",
              "    <style>\n",
              "      .colab-df-generate {\n",
              "        background-color: #E8F0FE;\n",
              "        border: none;\n",
              "        border-radius: 50%;\n",
              "        cursor: pointer;\n",
              "        display: none;\n",
              "        fill: #1967D2;\n",
              "        height: 32px;\n",
              "        padding: 0 0 0 0;\n",
              "        width: 32px;\n",
              "      }\n",
              "\n",
              "      .colab-df-generate:hover {\n",
              "        background-color: #E2EBFA;\n",
              "        box-shadow: 0px 1px 2px rgba(60, 64, 67, 0.3), 0px 1px 3px 1px rgba(60, 64, 67, 0.15);\n",
              "        fill: #174EA6;\n",
              "      }\n",
              "\n",
              "      [theme=dark] .colab-df-generate {\n",
              "        background-color: #3B4455;\n",
              "        fill: #D2E3FC;\n",
              "      }\n",
              "\n",
              "      [theme=dark] .colab-df-generate:hover {\n",
              "        background-color: #434B5C;\n",
              "        box-shadow: 0px 1px 3px 1px rgba(0, 0, 0, 0.15);\n",
              "        filter: drop-shadow(0px 1px 2px rgba(0, 0, 0, 0.3));\n",
              "        fill: #FFFFFF;\n",
              "      }\n",
              "    </style>\n",
              "    <button class=\"colab-df-generate\" onclick=\"generateWithVariable('df')\"\n",
              "            title=\"Generate code using this dataframe.\"\n",
              "            style=\"display:none;\">\n",
              "\n",
              "  <svg xmlns=\"http://www.w3.org/2000/svg\" height=\"24px\"viewBox=\"0 0 24 24\"\n",
              "       width=\"24px\">\n",
              "    <path d=\"M7,19H8.4L18.45,9,17,7.55,7,17.6ZM5,21V16.75L18.45,3.32a2,2,0,0,1,2.83,0l1.4,1.43a1.91,1.91,0,0,1,.58,1.4,1.91,1.91,0,0,1-.58,1.4L9.25,21ZM18.45,9,17,7.55Zm-12,3A5.31,5.31,0,0,0,4.9,8.1,5.31,5.31,0,0,0,1,6.5,5.31,5.31,0,0,0,4.9,4.9,5.31,5.31,0,0,0,6.5,1,5.31,5.31,0,0,0,8.1,4.9,5.31,5.31,0,0,0,12,6.5,5.46,5.46,0,0,0,6.5,12Z\"/>\n",
              "  </svg>\n",
              "    </button>\n",
              "    <script>\n",
              "      (() => {\n",
              "      const buttonEl =\n",
              "        document.querySelector('#id_a3268c48-79dc-441e-b0b1-219a6d80ec00 button.colab-df-generate');\n",
              "      buttonEl.style.display =\n",
              "        google.colab.kernel.accessAllowed ? 'block' : 'none';\n",
              "\n",
              "      buttonEl.onclick = () => {\n",
              "        google.colab.notebook.generateWithVariable('df');\n",
              "      }\n",
              "      })();\n",
              "    </script>\n",
              "  </div>\n",
              "\n",
              "    </div>\n",
              "  </div>\n"
            ],
            "application/vnd.google.colaboratory.intrinsic+json": {
              "type": "dataframe",
              "variable_name": "df",
              "summary": "{\n  \"name\": \"df\",\n  \"rows\": 4,\n  \"fields\": [\n    {\n      \"column\": \"w1\",\n      \"properties\": {\n        \"dtype\": \"number\",\n        \"std\": 0.8180475042877325,\n        \"min\": -0.6945211887359619,\n        \"max\": 1.0450985431671143,\n        \"num_unique_values\": 4,\n        \"samples\": [\n          -0.6945211887359619,\n          0.20458291471004486,\n          1.0450985431671143\n        ],\n        \"semantic_type\": \"\",\n        \"description\": \"\"\n      }\n    },\n    {\n      \"column\": \"w2\",\n      \"properties\": {\n        \"dtype\": \"number\",\n        \"std\": 0.7062756358595496,\n        \"min\": -0.41734448075294495,\n        \"max\": 1.0945978164672852,\n        \"num_unique_values\": 4,\n        \"samples\": [\n          1.044979214668274,\n          0.7408846020698547,\n          1.0945978164672852\n        ],\n        \"semantic_type\": \"\",\n        \"description\": \"\"\n      }\n    },\n    {\n      \"column\": \"token\",\n      \"properties\": {\n        \"dtype\": \"string\",\n        \"num_unique_values\": 4,\n        \"samples\": [\n          \"is\",\n          \"Gymkata\",\n          \"Troll2\"\n        ],\n        \"semantic_type\": \"\",\n        \"description\": \"\"\n      }\n    },\n    {\n      \"column\": \"input\",\n      \"properties\": {\n        \"dtype\": \"string\",\n        \"num_unique_values\": 4,\n        \"samples\": [\n          \"input2\",\n          \"input4\",\n          \"input1\"\n        ],\n        \"semantic_type\": \"\",\n        \"description\": \"\"\n      }\n    }\n  ]\n}"
            }
          },
          "metadata": {},
          "execution_count": 28
        }
      ],
      "source": [
        "data = {\n",
        "    \"w1\": [modelFromScratch.input1_w1.item(), ## item() pulls out the tensor value as a float\n",
        "           modelFromScratch.input2_w1.item(),\n",
        "           modelFromScratch.input3_w1.item(),\n",
        "           modelFromScratch.input4_w1.item()],\n",
        "    \"w2\": [modelFromScratch.input1_w2.item(),\n",
        "           modelFromScratch.input2_w2.item(),\n",
        "           modelFromScratch.input3_w2.item(),\n",
        "           modelFromScratch.input4_w2.item()],\n",
        "    \"token\": [\"Troll2\", \"is\", \"great\", \"Gymkata\"],\n",
        "    \"input\": [\"input1\", \"input2\", \"input3\", \"input4\"]\n",
        "}\n",
        "df = pd.DataFrame(data)\n",
        "df"
      ]
    },
    {
      "cell_type": "markdown",
      "id": "fab0caa9-9108-4ced-92b2-a4a68ae4ebc2",
      "metadata": {
        "id": "fab0caa9-9108-4ced-92b2-a4a68ae4ebc2"
      },
      "source": [
        "Now let's use the dataframe we just created, `df`, and let's draw a scatter plot of the weights, `w1` and `w2`, for each token in the vocabulary."
      ]
    },
    {
      "cell_type": "code",
      "execution_count": 29,
      "id": "9dc9ea88-abcc-46d6-b257-a270d1ef5bf9",
      "metadata": {
        "id": "9dc9ea88-abcc-46d6-b257-a270d1ef5bf9",
        "outputId": "0fdb14b2-557a-403b-d57b-e96344df5de0",
        "colab": {
          "base_uri": "https://localhost:8080/",
          "height": 449
        }
      },
      "outputs": [
        {
          "output_type": "display_data",
          "data": {
            "text/plain": [
              "<Figure size 640x480 with 1 Axes>"
            ],
            "image/png": "[encoded data removed]"
          },
          "metadata": {}
        }
      ],
      "source": [
        "sns.scatterplot(data=df, x=\"w1\", y=\"w2\")\n",
        "\n",
        "## add the token that each dot represents to the graph\n",
        "# Troll 2\n",
        "plt.text(df.w1[0], df.w2[0], df.token[0],\n",
        "         horizontalalignment='left',\n",
        "         size='medium',\n",
        "         color='black',\n",
        "         weight='semibold')\n",
        "\n",
        "# is\n",
        "plt.text(df.w1[1], df.w2[1], df.token[1],\n",
        "         horizontalalignment='left',\n",
        "         size='medium',\n",
        "         color='black',\n",
        "         weight='semibold')\n",
        "\n",
        "# great\n",
        "plt.text(df.w1[2], df.w2[2], df.token[2],\n",
        "         horizontalalignment='left',\n",
        "         size='medium',\n",
        "         color='black',\n",
        "         weight='semibold')\n",
        "\n",
        "# Gymkata\n",
        "plt.text(df.w1[3], df.w2[3], df.token[3],\n",
        "         horizontalalignment='left',\n",
        "         size='medium',\n",
        "         color='black',\n",
        "         weight='semibold')\n",
        "\n",
        "plt.show()"
      ]
    },
    {
      "cell_type": "markdown",
      "id": "f1728efe-638f-4057-a581-ba1871e338c6",
      "metadata": {
        "id": "f1728efe-638f-4057-a581-ba1871e338c6"
      },
      "source": [
        "In the graph we can see that the weights for **Troll2** (representing **input1**) and **Gymkata** (representing **input4**) are no more similar to each other than the other inputs. However, by training this neural network, we hope that those weights will become similar. So lets create a `Trainer` and train the embedding network."
      ]
    },
    {
      "cell_type": "code",
      "execution_count": 39,
      "id": "bee5f1bc-fcef-4cac-b33e-1225ec246f2d",
      "metadata": {
        "id": "bee5f1bc-fcef-4cac-b33e-1225ec246f2d",
        "outputId": "f731b8a6-aff7-49ce-f3e8-6818f02a1b53",
        "colab": {
          "base_uri": "https://localhost:8080/",
          "height": 676,
          "referenced_widgets": [
            "8897a0c859894b0fb7dcd7bc7885e930",
            "29b3dc76d1d542d6bfaf5aa6ce941920",
            "15702a2bc3064047affbddec72087682",
            "65177c84ae104ccebe7df7c189ea682b",
            "28291e7bdd5e4ae0975a61d64ca78982",
            "c3651f8eca264db290699203bf4fc872",
            "ee24eb2576db4d468a8bdbe00c820401",
            "01a285d9357a4b48b18feb67d55ad2c6",
            "a0ea7f34db77478f94cb539358e3845d",
            "8e53c18da8b44ffd96955a084c9358f3",
            "41d7bbc1757b435ebb182ebd5fdf213f"
          ]
        }
      },
      "outputs": [
        {
          "output_type": "stream",
          "name": "stderr",
          "text": [
            "INFO: GPU available: False, used: False\n",
            "INFO:lightning.pytorch.utilities.rank_zero:GPU available: False, used: False\n",
            "INFO: TPU available: False, using: 0 TPU cores\n",
            "INFO:lightning.pytorch.utilities.rank_zero:TPU available: False, using: 0 TPU cores\n",
            "INFO: IPU available: False, using: 0 IPUs\n",
            "INFO:lightning.pytorch.utilities.rank_zero:IPU available: False, using: 0 IPUs\n",
            "INFO: HPU available: False, using: 0 HPUs\n",
            "INFO:lightning.pytorch.utilities.rank_zero:HPU available: False, using: 0 HPUs\n",
            "INFO: \n",
            "  | Name         | Type             | Params\n",
            "--------------------------------------------------\n",
            "0 | loss         | CrossEntropyLoss | 0     \n",
            "  | other params | n/a              | 16    \n",
            "--------------------------------------------------\n",
            "16        Trainable params\n",
            "0         Non-trainable params\n",
            "16        Total params\n",
            "0.000     Total estimated model params size (MB)\n",
            "INFO:lightning.pytorch.callbacks.model_summary:\n",
            "  | Name         | Type             | Params\n",
            "--------------------------------------------------\n",
            "0 | loss         | CrossEntropyLoss | 0     \n",
            "  | other params | n/a              | 16    \n",
            "--------------------------------------------------\n",
            "16        Trainable params\n",
            "0         Non-trainable params\n",
            "16        Total params\n",
            "0.000     Total estimated model params size (MB)\n"
          ]
        },
        {
          "output_type": "display_data",
          "data": {
            "text/plain": [
              "Training: |          | 0/? [00:00<?, ?it/s]"
            ],
            "application/vnd.jupyter.widget-view+json": {
              "version_major": 2,
              "version_minor": 0,
              "model_id": "8897a0c859894b0fb7dcd7bc7885e930"
            }
          },
          "metadata": {}
        },
        {
          "output_type": "stream",
          "name": "stderr",
          "text": [
            "INFO: `Trainer.fit` stopped: `max_epochs=1` reached.\n",
            "INFO:lightning.pytorch.utilities.rank_zero:`Trainer.fit` stopped: `max_epochs=1` reached.\n"
          ]
        },
        {
          "output_type": "stream",
          "name": "stdout",
          "text": [
            ">> tensor([0.0163, 0.2050, 0.1693, 0.0629], grad_fn=<StackBackward0>) tensor([0., 1., 0., 0.]) tensor(1.2976, grad_fn=<DivBackward1>)\n",
            ">> tensor([-0.2543,  0.0263, -0.0464, -0.0949], grad_fn=<StackBackward0>) tensor([0., 0., 1., 0.]) tensor(1.3455, grad_fn=<DivBackward1>)\n",
            ">> tensor([-0.0897, -0.0440, -0.0168, -0.0383], grad_fn=<StackBackward0>) tensor([0., 0., 0., 1.]) tensor(1.3777, grad_fn=<DivBackward1>)\n",
            ">> tensor([-0.2608, -0.0918, -0.0110, -0.0997], grad_fn=<StackBackward0>) tensor([0., 1., 0., 0.]) tensor(1.3663, grad_fn=<DivBackward1>)\n"
          ]
        }
      ],
      "source": [
        "trainer = L.Trainer(max_epochs=1)\n",
        "trainer.fit(modelFromScratch, train_dataloaders=dataloader)"
      ]
    },
    {
      "cell_type": "code",
      "source": [
        "cl = torch.nn.CrossEntropyLoss()"
      ],
      "metadata": {
        "id": "WSMp_3Jm6Jz1"
      },
      "id": "WSMp_3Jm6Jz1",
      "execution_count": 40,
      "outputs": []
    },
    {
      "cell_type": "code",
      "source": [
        "i0 = torch.tensor([0.0163, 0.2050, 0.1693, 0.0629])\n",
        "l0 = torch.tensor([0., 1., 0., 0.])\n",
        "ib0 = torch.tensor([[0.0163, 0.2050, 0.1693, 0.0629]])\n",
        "lb0 = torch.tensor([1])"
      ],
      "metadata": {
        "id": "y_okY9Ck6YXE"
      },
      "id": "y_okY9Ck6YXE",
      "execution_count": 50,
      "outputs": []
    },
    {
      "cell_type": "code",
      "source": [
        "cl(i0,l0)"
      ],
      "metadata": {
        "id": "zGMB2Czd6loC",
        "outputId": "ae6e3261-b43a-4134-f67f-eed87a37d65d",
        "colab": {
          "base_uri": "https://localhost:8080/"
        }
      },
      "id": "zGMB2Czd6loC",
      "execution_count": 51,
      "outputs": [
        {
          "output_type": "execute_result",
          "data": {
            "text/plain": [
              "tensor(1.2976)"
            ]
          },
          "metadata": {},
          "execution_count": 51
        }
      ]
    },
    {
      "cell_type": "code",
      "source": [
        "cl(ib0,lb0)"
      ],
      "metadata": {
        "id": "b1f625wl-Ngg",
        "outputId": "3452fddd-b58c-49e9-9949-ecaf3384b071",
        "colab": {
          "base_uri": "https://localhost:8080/"
        }
      },
      "id": "b1f625wl-Ngg",
      "execution_count": 53,
      "outputs": [
        {
          "output_type": "execute_result",
          "data": {
            "text/plain": [
              "tensor(1.2976)"
            ]
          },
          "metadata": {},
          "execution_count": 53
        }
      ]
    },
    {
      "cell_type": "code",
      "source": [],
      "metadata": {
        "id": "rgBpCJPG3rLy"
      },
      "id": "rgBpCJPG3rLy",
      "execution_count": null,
      "outputs": []
    },
    {
      "cell_type": "markdown",
      "id": "44c39ac0-9583-4326-9461-9977ed81e78c",
      "metadata": {
        "id": "44c39ac0-9583-4326-9461-9977ed81e78c"
      },
      "source": [
        "Now, with the trained neural network, let's print out the values for each weight..."
      ]
    },
    {
      "cell_type": "code",
      "execution_count": null,
      "id": "64b1d6a9-b64e-49f7-a133-573f0da0249f",
      "metadata": {
        "id": "64b1d6a9-b64e-49f7-a133-573f0da0249f"
      },
      "outputs": [],
      "source": [
        "print(\"After optimization, the parameters are...\")\n",
        "for name, param in modelFromScratch.named_parameters():\n",
        "    print(name, torch.round(param.data, decimals=2))"
      ]
    },
    {
      "cell_type": "markdown",
      "id": "bd9d6e38-3d85-4487-946c-e269ad2abe62",
      "metadata": {
        "id": "bd9d6e38-3d85-4487-946c-e269ad2abe62"
      },
      "source": [
        "...and after **100** epochs, the weights for **input1** (`w1 = 2.0244` and `w2 = 1.9754`) are now relatively similar to the weights for **input2** (`w1 = 1.7264` and `w2 = 1.9912`). Just like before, we can illustrate how similar, and different, the embeddings are for all four tokens by plotting them on a graph that has the **w1** values on the x-axis and the **w2** values on the y-axis.\n",
        "\n",
        "First, let's create the pandas `DataFrame()`..."
      ]
    },
    {
      "cell_type": "code",
      "execution_count": null,
      "id": "9d379cdb-4f2e-4d02-8f56-a2e2928b76c9",
      "metadata": {
        "id": "9d379cdb-4f2e-4d02-8f56-a2e2928b76c9"
      },
      "outputs": [],
      "source": [
        "data = {\n",
        "    \"w1\": [modelFromScratch.input1_w1.item(), ## item() pulls out the tensor value as a float\n",
        "           modelFromScratch.input2_w1.item(),\n",
        "           modelFromScratch.input3_w1.item(),\n",
        "           modelFromScratch.input4_w1.item()],\n",
        "    \"w2\": [modelFromScratch.input1_w2.item(),\n",
        "           modelFromScratch.input2_w2.item(),\n",
        "           modelFromScratch.input3_w2.item(),\n",
        "           modelFromScratch.input4_w2.item()],\n",
        "    \"token\": [\"Troll2\", \"is\", \"great\", \"Gymkata\"],\n",
        "    \"input\": [\"input1\", \"input2\", \"input3\", \"input4\"]\n",
        "}\n",
        "df = pd.DataFrame(data)\n",
        "df"
      ]
    },
    {
      "cell_type": "markdown",
      "id": "57088407-e05e-4fa8-990e-1df8d63c1dc3",
      "metadata": {
        "id": "57088407-e05e-4fa8-990e-1df8d63c1dc3"
      },
      "source": [
        "...and then draw the scatterplot..."
      ]
    },
    {
      "cell_type": "code",
      "execution_count": null,
      "id": "f0eddf08-b972-4530-866e-797ef0dad6cf",
      "metadata": {
        "id": "f0eddf08-b972-4530-866e-797ef0dad6cf"
      },
      "outputs": [],
      "source": [
        "sns.scatterplot(data=df, x=\"w1\", y=\"w2\")\n",
        "\n",
        "## NOTE: For Troll2 and and Gymkata, we're adding offsets to where to print the tokens because otherwise\n",
        "## they will be so close to each other that they will overlap and be unreadable.\n",
        "\n",
        "## Troll 2\n",
        "plt.text(df.w1[0]-0.2, df.w2[0]+0.1, df.token[0],\n",
        "         horizontalalignment='left',\n",
        "         size='medium',\n",
        "         color='black',\n",
        "         weight='semibold')\n",
        "\n",
        "## is\n",
        "plt.text(df.w1[1], df.w2[1], df.token[1],\n",
        "         horizontalalignment='left',\n",
        "         size='medium',\n",
        "         color='black',\n",
        "         weight='semibold')\n",
        "\n",
        "## great\n",
        "plt.text(df.w1[2], df.w2[2], df.token[2],\n",
        "         horizontalalignment='left',\n",
        "         size='medium',\n",
        "         color='black',\n",
        "         weight='semibold')\n",
        "\n",
        "## gymkata\n",
        "plt.text(df.w1[3]-0.3, df.w2[3]-0.3, df.token[3],\n",
        "         horizontalalignment='left',\n",
        "         size='medium',\n",
        "         color='black',\n",
        "         weight='semibold')\n",
        "\n",
        "plt.show()"
      ]
    },
    {
      "cell_type": "markdown",
      "id": "7e9fca6a-21a6-4de4-b9cf-87818bbe3ac7",
      "metadata": {
        "id": "7e9fca6a-21a6-4de4-b9cf-87818bbe3ac7"
      },
      "source": [
        "...and after training the neural network, we see that the weights for **Troll2** and **Gymkata** are relatively similar compared to the weights for the other tokens. This is because both tokens have the same context.\n",
        "\n",
        "Lastly, we can verify that each token in the vacabulary correctly predicts the token that follows it by running the **one-hot-encoded** input values for each token through the neural network."
      ]
    },
    {
      "cell_type": "code",
      "execution_count": null,
      "id": "e2445794-e8b6-4c2d-8b96-297544b21384",
      "metadata": {
        "id": "e2445794-e8b6-4c2d-8b96-297544b21384"
      },
      "outputs": [],
      "source": [
        "## Let's see what the model predicts\n",
        "\n",
        "## First, let's create a softmax object...\n",
        "softmax = nn.Softmax(dim=0) ## dim=0 applies softmax to rows, dim=1 applies softmax to columns\n",
        "\n",
        "## Now let's...\n",
        "\n",
        "## print the predictions for \"Troll2\"\n",
        "print(torch.round(softmax(modelFromScratch(torch.tensor([[1., 0., 0., 0.]]))),\n",
        "                  decimals=2))\n",
        "\n",
        "## print the predictions for \"is\"\n",
        "print(torch.round(softmax(modelFromScratch(torch.tensor([[0., 1., 0., 0.]]))),\n",
        "                  decimals=2))\n",
        "\n",
        "## print the predictions for \"great\"\n",
        "print(torch.round(softmax(modelFromScratch(torch.tensor([[0., 0., 1., 0.]]))),\n",
        "                  decimals=2))\n",
        "\n",
        "## print the predictions for \"Gymkata\"\n",
        "print(torch.round(softmax(modelFromScratch(torch.tensor([[0., 0., 0., 1.]]))),\n",
        "                  decimals=2))"
      ]
    },
    {
      "cell_type": "markdown",
      "id": "17bf631d-fb57-4b67-b172-16facae4099f",
      "metadata": {
        "id": "17bf631d-fb57-4b67-b172-16facae4099f"
      },
      "source": [
        "And we see that all tokens correctly predict (give the highest probability to) the token that follows them. In this case, both **Troll2** and **Gymkata** both correctly predict the second token, **is**, with probability **1.0**.\n",
        "\n",
        "## BAM!!!"
      ]
    },
    {
      "cell_type": "markdown",
      "id": "e1f30e61-b0dc-4e8f-9aa3-63ab0ba96759",
      "metadata": {
        "id": "e1f30e61-b0dc-4e8f-9aa3-63ab0ba96759"
      },
      "source": [
        "----"
      ]
    },
    {
      "cell_type": "markdown",
      "id": "839e1b56-7043-4ab9-9a23-e2341b35528e",
      "metadata": {
        "id": "839e1b56-7043-4ab9-9a23-e2341b35528e"
      },
      "source": [
        "<a id=\"build_entirely_with_linear\"></a>\n",
        "# Build and train a Word Embedding Unit using `nn.Linear()`\n",
        "\n",
        "Now that we can make a Word Embedding network from scratch, let's simplify the code using `nn.Linear()`. `nn.Linear()` will make initialzing the tensors super easy and the math we do in the `forward()` step will also be much simpler."
      ]
    },
    {
      "cell_type": "code",
      "execution_count": null,
      "id": "1cb7df2f-c0f7-4abf-93ea-f9a3dd956aed",
      "metadata": {
        "id": "1cb7df2f-c0f7-4abf-93ea-f9a3dd956aed"
      },
      "outputs": [],
      "source": [
        "class WordEmbeddingWithLinear(L.LightningModule):\n",
        "\n",
        "    def __init__(self):\n",
        "\n",
        "        super().__init__()\n",
        "\n",
        "        ## The first thing we do is set the seed for the random number generorator.\n",
        "        ## This ensures that when someone creates a model from this class, that model\n",
        "        ## will start off with the exact same random numbers as I started out with when\n",
        "        ## I created this demo. At least, I hope that is what happens!!! :)\n",
        "        L.seed_everything(seed=42)\n",
        "\n",
        "        ## In order to initialize weights from the 4 inputs (one for each unique word)\n",
        "        ##       to the 2 nodes in the hidden layer (top and bottom nodes), we simply make\n",
        "        ##       one call to nn.Linear() where in_features specifies the number of\n",
        "        ##       inputs and out_features specifies the number of nodes we\n",
        "        ##       are connecting them to. Since we don't want to use bias terms,\n",
        "        ##       we set bias=False\n",
        "        self.input_to_hidden = nn.Linear(in_features=4, out_features=2, bias=False)\n",
        "        ## Now, in order to connect the 2 nodes in the hidden layer to the 4 outputs, we\n",
        "        ##       make one call to nn.Linear(), where in_features specifies the number of\n",
        "        ##       nodes in hidden layer and out_features specifies the number of output values we want.\n",
        "        ##       And again, we can set bias=False\n",
        "        self.hidden_to_output = nn.Linear(in_features=2, out_features=4, bias=False)\n",
        "\n",
        "        ## We'll use CrossEntropyLoss in training_step()\n",
        "        self.loss = nn.CrossEntropyLoss()\n",
        "\n",
        "\n",
        "    def forward(self, input):\n",
        "\n",
        "        ## Unlike before, where we did all the math by hand, now we can\n",
        "        ## simply pass the input values to the weights we created with nn.Linear()\n",
        "        ## between the input and the hidden layer and save the result in \"hidden\"\n",
        "        ##\n",
        "        ## NOTE: Unlike before, we don't need to strip off the extra brackets from the\n",
        "        ##       input. the Linear ojbect knows what to do.\n",
        "        hidden = self.input_to_hidden(input)\n",
        "\n",
        "        ## Then we pass \"hidden\" to the weights we created with nn.Linear()\n",
        "        ## between the hidden layer and the output.\n",
        "        output_values = self.hidden_to_output(hidden)\n",
        "\n",
        "        return(output_values)\n",
        "\n",
        "\n",
        "    def configure_optimizers(self):\n",
        "        # this configures the optimizer we want to use for backpropagation.\n",
        "\n",
        "        return Adam(self.parameters(), lr=0.1)\n",
        "\n",
        "\n",
        "    def training_step(self, batch, batch_idx):\n",
        "        # take a step during gradient descent.\n",
        "\n",
        "        input_i, label_i = batch # collect input\n",
        "        output_i = self.forward(input_i) # run input through the neural network\n",
        "        loss = self.loss(output_i, label_i) ## loss = cross entropy\n",
        "\n",
        "        return loss"
      ]
    },
    {
      "cell_type": "markdown",
      "id": "7bb2afd6-c1f0-4805-8916-8fb3e92a65c8",
      "metadata": {
        "id": "7bb2afd6-c1f0-4805-8916-8fb3e92a65c8"
      },
      "source": [
        "Now that we have created our new `class`, `WordEmbeddingWithLinear`, let's create a model and print out the initial parameters..."
      ]
    },
    {
      "cell_type": "code",
      "execution_count": null,
      "id": "7c00e9a7-3a31-4e22-8e78-f7bdb5b0e6de",
      "metadata": {
        "id": "7c00e9a7-3a31-4e22-8e78-f7bdb5b0e6de"
      },
      "outputs": [],
      "source": [
        "modelLinear = WordEmbeddingWithLinear()\n",
        "\n",
        "print(\"Before optimization, the parameters are...\")\n",
        "for name, param in modelLinear.named_parameters():\n",
        "    print(name, torch.round(param.data, decimals=2))"
      ]
    },
    {
      "cell_type": "markdown",
      "id": "d06f215c-dc33-4dfb-8b5f-1e3b4fb6d4bf",
      "metadata": {
        "id": "d06f215c-dc33-4dfb-8b5f-1e3b4fb6d4bf"
      },
      "source": [
        "...and create a `DataFrame` with the embedding values..."
      ]
    },
    {
      "cell_type": "code",
      "execution_count": null,
      "id": "23465b4e-5332-431f-8cc2-9d468939a618",
      "metadata": {
        "id": "23465b4e-5332-431f-8cc2-9d468939a618"
      },
      "outputs": [],
      "source": [
        "data = {\n",
        "    ## NOTE: Unlike before, when we called item() on each individual\n",
        "    ##       Weight, now that we are using nn.Linear, we access the\n",
        "    ##       Weights with \".weight\". We then have to remove the gradients\n",
        "    ##       associated with each Weight, so we also call .detach().\n",
        "    ##       Lastly, we then convert the tensor to a numpy array with\n",
        "    ##       numpy().\n",
        "    \"w1\": modelLinear.input_to_hidden.weight.detach()[0].numpy(), # [0] = Weights to top activation function\n",
        "    \"w2\": modelLinear.input_to_hidden.weight.detach()[1].numpy(), # [1] = Weights to bottom activation function\n",
        "    \"token\": [\"Troll2\", \"is\", \"great\", \"Gymkata\"],\n",
        "    \"input\": [\"input1\", \"input2\", \"input3\", \"input4\"]\n",
        "}\n",
        "df = pd.DataFrame(data)\n",
        "df"
      ]
    },
    {
      "cell_type": "markdown",
      "id": "e87ae627-6ed2-4417-a81d-9efd8e4858fc",
      "metadata": {
        "id": "e87ae627-6ed2-4417-a81d-9efd8e4858fc"
      },
      "source": [
        "...and draw a scatter plot of the initial, unoptimized, embedding values..."
      ]
    },
    {
      "cell_type": "code",
      "execution_count": null,
      "id": "2d2b359f-3a3f-4835-84ef-d45600badd21",
      "metadata": {
        "id": "2d2b359f-3a3f-4835-84ef-d45600badd21"
      },
      "outputs": [],
      "source": [
        "sns.scatterplot(data=df, x=\"w1\", y=\"w2\")\n",
        "\n",
        "## add the token each dot represents to the graph\n",
        "\n",
        "## Troll 2\n",
        "plt.text(df.w1[0], df.w2[0], df.token[0],\n",
        "         horizontalalignment='left',\n",
        "         size='medium',\n",
        "         color='black',\n",
        "         weight='semibold')\n",
        "## is\n",
        "plt.text(df.w1[1], df.w2[1], df.token[1],\n",
        "         horizontalalignment='left',\n",
        "         size='medium',\n",
        "         color='black',\n",
        "         weight='semibold')\n",
        "## great\n",
        "plt.text(df.w1[2], df.w2[2], df.token[2],\n",
        "         horizontalalignment='left',\n",
        "         size='medium',\n",
        "         color='black',\n",
        "         weight='semibold')\n",
        "\n",
        "## Gymkata\n",
        "plt.text(df.w1[3], df.w2[3], df.token[3],\n",
        "         horizontalalignment='left',\n",
        "         size='medium',\n",
        "         color='black',\n",
        "         weight='semibold')\n",
        "\n",
        "plt.show()"
      ]
    },
    {
      "cell_type": "markdown",
      "id": "bb8409a0-453a-459a-8475-ecafbed5d910",
      "metadata": {
        "id": "bb8409a0-453a-459a-8475-ecafbed5d910"
      },
      "source": [
        "...and we see that the embedding values for **Troll 2** and **Gymkata** are relatively different. So let's train the model and see if they become more similar."
      ]
    },
    {
      "cell_type": "code",
      "execution_count": null,
      "id": "e2862797-d87e-434f-9758-698cccb51d66",
      "metadata": {
        "id": "e2862797-d87e-434f-9758-698cccb51d66"
      },
      "outputs": [],
      "source": [
        "trainer = L.Trainer(max_epochs=100)\n",
        "trainer.fit(modelLinear, train_dataloaders=dataloader)"
      ]
    },
    {
      "cell_type": "code",
      "execution_count": null,
      "id": "50ba39de-2c04-4f78-b619-c673c328beec",
      "metadata": {
        "id": "50ba39de-2c04-4f78-b619-c673c328beec"
      },
      "outputs": [],
      "source": [
        "print(\"After optimization, the parameters are...\")\n",
        "for name, param in modelLinear.named_parameters():\n",
        "    print(name, param.data)"
      ]
    },
    {
      "cell_type": "code",
      "execution_count": null,
      "id": "9b7cab77-be81-42a4-ad47-90cde6c8fccc",
      "metadata": {
        "id": "9b7cab77-be81-42a4-ad47-90cde6c8fccc"
      },
      "outputs": [],
      "source": [
        "data = {\n",
        "    \"w1\": modelLinear.input_to_hidden.weight.detach()[0].numpy(),\n",
        "    \"w2\": modelLinear.input_to_hidden.weight.detach()[1].numpy(),\n",
        "    \"token\": [\"Troll2\", \"is\", \"great\", \"Gymkata\"],\n",
        "    \"input\": [\"input1\", \"input2\", \"input3\", \"input4\"]\n",
        "}\n",
        "df = pd.DataFrame(data)\n",
        "df"
      ]
    },
    {
      "cell_type": "code",
      "execution_count": null,
      "id": "353ec7e8-7a0e-4e3c-8e65-88bcf6e1c4d9",
      "metadata": {
        "id": "353ec7e8-7a0e-4e3c-8e65-88bcf6e1c4d9"
      },
      "outputs": [],
      "source": [
        "sns.scatterplot(data=df, x=\"w1\", y=\"w2\")\n",
        "\n",
        "## add the token each dot represents to the graph\n",
        "## NOTE: For Troll2 and and Gymkata, we're adding offsets to where to print the tokens because otherwise\n",
        "## they will be so close to each other that they will overlap and be unreadable.\n",
        "\n",
        "# Troll 2\n",
        "plt.text(df.w1[0]-0.2, df.w2[0]-0.3, df.token[0],\n",
        "         horizontalalignment='left',\n",
        "         size='medium',\n",
        "         color='black',\n",
        "         weight='semibold')\n",
        "\n",
        "# is\n",
        "plt.text(df.w1[1], df.w2[1], df.token[1],\n",
        "         horizontalalignment='left',\n",
        "         size='medium',\n",
        "         color='black',\n",
        "         weight='semibold')\n",
        "\n",
        "# great\n",
        "plt.text(df.w1[2], df.w2[2], df.token[2],\n",
        "         horizontalalignment='left',\n",
        "         size='medium',\n",
        "         color='black',\n",
        "         weight='semibold')\n",
        "\n",
        "# Gymkata\n",
        "plt.text(df.w1[3]-0.3, df.w2[3]+0.2, df.token[3],\n",
        "         horizontalalignment='left',\n",
        "         size='medium',\n",
        "         color='black',\n",
        "         weight='semibold')\n",
        "\n",
        "plt.show()"
      ]
    },
    {
      "cell_type": "markdown",
      "id": "94ad130f-5e94-4615-9916-0601eda24970",
      "metadata": {
        "id": "94ad130f-5e94-4615-9916-0601eda24970"
      },
      "source": [
        "And, after training the model, we see that the embedding values for **Troll 2** and **Gymkata** are more similar than before.\n",
        "\n",
        "Lastly, we can verify that each token in the vacabulary correctly predicts the token that follows it by running the **one-hot-encoded** input values for each token through the neural network."
      ]
    },
    {
      "cell_type": "code",
      "execution_count": null,
      "id": "2135f619-f564-4270-b984-23bc189b3769",
      "metadata": {
        "id": "2135f619-f564-4270-b984-23bc189b3769"
      },
      "outputs": [],
      "source": [
        "## Let's see what the model predicts\n",
        "softmax = nn.Softmax(dim=1) ## dim=0 applies softmax to rows, dim=1 applies softmax to columns\n",
        "\n",
        "print(torch.round(softmax(modelLinear(torch.tensor([[1., 0., 0., 0.]]))), decimals=2)) ## print the predictions for \"Troll2\"\n",
        "print(torch.round(softmax(modelLinear(torch.tensor([[0., 1., 0., 0.]]))), decimals=2)) ## print the predictions for \"is\"\n",
        "print(torch.round(softmax(modelLinear(torch.tensor([[0., 0., 1., 0.]]))), decimals=2)) ## print the predictions for \"great\"\n",
        "print(torch.round(softmax(modelLinear(torch.tensor([[0., 0., 0., 1.]]))), decimals=2)) ## print the predictions for \"Gymkata\""
      ]
    },
    {
      "cell_type": "markdown",
      "id": "31ecd691-f713-4266-8725-a2fbde8f7dc3",
      "metadata": {
        "id": "31ecd691-f713-4266-8725-a2fbde8f7dc3"
      },
      "source": [
        "## Double BAM!!!"
      ]
    },
    {
      "cell_type": "markdown",
      "id": "a45b6d83-b601-4407-a0c3-3578f9061ec1",
      "metadata": {
        "id": "a45b6d83-b601-4407-a0c3-3578f9061ec1"
      },
      "source": [
        "----"
      ]
    },
    {
      "cell_type": "markdown",
      "id": "ea2b8a06-ab36-441c-8963-f0b1d95fdff0",
      "metadata": {
        "id": "ea2b8a06-ab36-441c-8963-f0b1d95fdff0"
      },
      "source": [
        "<a id=\"embedding_lookup\"></a>\n",
        "# Use `nn.Embedding()` to load and use pre-trained Word Embeddings\n",
        "\n",
        "Now that we have created embeddings for each token in the vocabulary, we can store them in an `nn.Embedding()` object so that we can access them with the tokens, rather than the one-hot-encoded versions of the tokens. This makes them easily portable to other applications."
      ]
    },
    {
      "cell_type": "markdown",
      "id": "2d18b771-8e60-4389-8ee6-6c0b98801dc4",
      "metadata": {
        "id": "2d18b771-8e60-4389-8ee6-6c0b98801dc4"
      },
      "source": [
        "First, let's just print out the embedding values that we created in modelLinear and that we want to add to an `nn.Embedding()` object."
      ]
    },
    {
      "cell_type": "code",
      "execution_count": null,
      "id": "f3dec6c7-2aa0-4adc-8096-cf25b7b35a0e",
      "metadata": {
        "id": "f3dec6c7-2aa0-4adc-8096-cf25b7b35a0e"
      },
      "outputs": [],
      "source": [
        "modelLinear.input_to_hidden.weight"
      ]
    },
    {
      "cell_type": "markdown",
      "id": "d619c92a-865e-424a-8463-46f78d5318e8",
      "metadata": {
        "id": "d619c92a-865e-424a-8463-46f78d5318e8"
      },
      "source": [
        "Now let's create an `nn.Embedding()` object and add those Embedding Values to it."
      ]
    },
    {
      "cell_type": "code",
      "execution_count": null,
      "id": "bf2a3942-0be2-4310-b05b-39de6fe379d4",
      "metadata": {
        "id": "bf2a3942-0be2-4310-b05b-39de6fe379d4"
      },
      "outputs": [],
      "source": [
        "##  NOTE: We have to transpose the original embedding values (from w1 and w2) for nn.Embedding()\n",
        "##        and we do this with adding a '.T' to modelLinear.input_to_hidden.weight.T\n",
        "word_embedings = nn.Embedding.from_pretrained(modelLinear.input_to_hidden.weight.T)"
      ]
    },
    {
      "cell_type": "markdown",
      "id": "c7f1a48b-76b8-4f2e-be7c-938a9b8e7691",
      "metadata": {
        "id": "c7f1a48b-76b8-4f2e-be7c-938a9b8e7691"
      },
      "source": [
        "Now let's print out the weights to make sure they are what we expect them to be."
      ]
    },
    {
      "cell_type": "code",
      "execution_count": null,
      "id": "5b646de6-0027-447c-9938-f69bcf53f3de",
      "metadata": {
        "id": "5b646de6-0027-447c-9938-f69bcf53f3de"
      },
      "outputs": [],
      "source": [
        "word_embedings.weight"
      ]
    },
    {
      "cell_type": "markdown",
      "id": "dd40ef57-32ec-4078-bf78-241c93bfc646",
      "metadata": {
        "id": "dd40ef57-32ec-4078-bf78-241c93bfc646"
      },
      "source": [
        "Now we can access the embeddings for each token directly with an index between 0 and 3, like this..."
      ]
    },
    {
      "cell_type": "code",
      "execution_count": null,
      "id": "568cee2b-e7fc-4874-8a2b-d2344a682db9",
      "metadata": {
        "id": "568cee2b-e7fc-4874-8a2b-d2344a682db9"
      },
      "outputs": [],
      "source": [
        "word_embedings(torch.tensor(0)) # retrieve the embedding values for Troll 2..."
      ]
    },
    {
      "cell_type": "markdown",
      "id": "1cdeca04-4187-418e-9f4e-04575165765a",
      "metadata": {
        "id": "1cdeca04-4187-418e-9f4e-04575165765a"
      },
      "source": [
        "...or we can create a dictionary and access the embedding values with words or tokens instead."
      ]
    },
    {
      "cell_type": "code",
      "execution_count": null,
      "id": "8b001059-a593-45e0-b4b4-13f47901863f",
      "metadata": {
        "id": "8b001059-a593-45e0-b4b4-13f47901863f"
      },
      "outputs": [],
      "source": [
        "vocab = {'Troll2': 0,\n",
        "         'is': 1,\n",
        "         'great': 2,\n",
        "         'Gymkata': 3}"
      ]
    },
    {
      "cell_type": "code",
      "execution_count": null,
      "id": "98be858c-51cc-4845-9b60-57eec729939b",
      "metadata": {
        "id": "98be858c-51cc-4845-9b60-57eec729939b"
      },
      "outputs": [],
      "source": [
        "word_embedings(torch.tensor(vocab['Troll2']))"
      ]
    },
    {
      "cell_type": "code",
      "execution_count": null,
      "id": "52a2cde0-c21f-4e4f-836b-9a5799269cff",
      "metadata": {
        "id": "52a2cde0-c21f-4e4f-836b-9a5799269cff"
      },
      "outputs": [],
      "source": [
        "word_embedings(torch.tensor(vocab['Gymkata']))"
      ]
    },
    {
      "cell_type": "markdown",
      "id": "16db81db-6f65-48ef-b6f5-7cb6a1f16230",
      "metadata": {
        "id": "16db81db-6f65-48ef-b6f5-7cb6a1f16230"
      },
      "source": [
        "# TRIPLE BAM!!!\n",
        "----"
      ]
    },
    {
      "cell_type": "markdown",
      "id": "8c6ee2b3-4ca1-42a1-9fae-93dcc706c1df",
      "metadata": {
        "id": "8c6ee2b3-4ca1-42a1-9fae-93dcc706c1df"
      },
      "source": [
        "# **Bonus!**\n",
        "<a id=\"build_with_embedding\"></a>\n",
        "# Build and train a Word Embedding Unit using `nn.Embedding()` and `nn.Linear()`\n",
        "\n",
        "Although less commonly done, we can replace `nn.Linear()` from the inputs to the activation functions with `nn.Embedding()` and train the embeddings directly in the lookup table."
      ]
    },
    {
      "cell_type": "code",
      "execution_count": null,
      "id": "5e5e6033-ef32-46c2-ab36-25f6c251b09f",
      "metadata": {
        "id": "5e5e6033-ef32-46c2-ab36-25f6c251b09f"
      },
      "outputs": [],
      "source": [
        "class WordEmbeddingWithEmbedding(L.LightningModule):\n",
        "\n",
        "    def __init__(self):\n",
        "\n",
        "        super().__init__()\n",
        "\n",
        "        ## The first thing we do is set the seed for the random number generorator.\n",
        "        ## This ensures that when someone creates a model from this class, that model\n",
        "        ## will start off with the exact same random numbers as I started out with when\n",
        "        ## I created this demo. At least, I hope that is what happens!!! :)\n",
        "        L.seed_everything(seed=42)\n",
        "\n",
        "        self.embed = nn.Embedding(4, 2) # 4 = number of words in the vocabulary, 2 = 2 numbers per embedding\n",
        "        self.hidden_to_output = nn.Linear(2, 4, bias=False)\n",
        "\n",
        "        ## We'll use CrossEntropyLoss in training_step()\n",
        "        self.loss = nn.CrossEntropyLoss()\n",
        "\n",
        "\n",
        "    def forward(self, input):\n",
        "\n",
        "        hidden = self.embed(input[0])\n",
        "        output_values = self.hidden_to_output(hidden)\n",
        "\n",
        "        return(output_values)\n",
        "\n",
        "\n",
        "    def configure_optimizers(self): # this configures the optimizer we want to use for backpropagation.\n",
        "        return Adam(self.parameters(), lr=0.1)\n",
        "\n",
        "\n",
        "    def training_step(self, batch, batch_idx): # take a step during gradient descent.\n",
        "        input_i, label_i = batch # collect input\n",
        "        output_i = self.forward(input_i[0]) # run input through the neural network\n",
        "        loss = self.loss(output_i, label_i[0]) ## self.loss = cross entropy\n",
        "\n",
        "        return loss"
      ]
    },
    {
      "cell_type": "code",
      "execution_count": null,
      "id": "a516b61c-6502-443d-9711-c79d8a0e7644",
      "metadata": {
        "id": "a516b61c-6502-443d-9711-c79d8a0e7644"
      },
      "outputs": [],
      "source": [
        "## Create the training data for the neural network.\n",
        "\n",
        "## NOTE: nn.Embedding() applies one-hot-encoding to the input for us, so\n",
        "## the data that we use for training will look different from before.\n",
        "inputsForEmbed = torch.tensor([[0], [1], [2], [3]]) ## NOTE: Troll2 = 0, is = 1, great = 2, Gymkata = 3\n",
        "labels = torch.tensor([[0., 1., 0., 0.], [0., 0., 1., 0.], [0., 0., 0., 1.], [0., 1., 0., 0.]])\n",
        "\n",
        "datasetForEmbed = TensorDataset(inputsForEmbed, labels)\n",
        "dataloaderForEmbed = DataLoader(datasetForEmbed)"
      ]
    },
    {
      "cell_type": "code",
      "execution_count": null,
      "id": "715a2df0-682d-4a4d-b8c4-cbc65cbf0288",
      "metadata": {
        "id": "715a2df0-682d-4a4d-b8c4-cbc65cbf0288"
      },
      "outputs": [],
      "source": [
        "modelEmbed = WordEmbeddingWithEmbedding()\n",
        "\n",
        "print(\"Before optimization, the parameters are...\")\n",
        "for name, param in modelEmbed.named_parameters():\n",
        "    print(name, param.data)"
      ]
    },
    {
      "cell_type": "code",
      "execution_count": null,
      "id": "e4b6d167-10a6-4aab-96d6-3bb120a913a5",
      "metadata": {
        "id": "e4b6d167-10a6-4aab-96d6-3bb120a913a5"
      },
      "outputs": [],
      "source": [
        "weights = modelEmbed.embed.weight.detach().numpy()\n",
        "w1 = [weights[0][0], weights[1][0], weights[2][0], weights[3][0]]\n",
        "w1"
      ]
    },
    {
      "cell_type": "code",
      "execution_count": null,
      "id": "1b5572e2-6508-49f9-bcf8-3f644f7ddb1c",
      "metadata": {
        "id": "1b5572e2-6508-49f9-bcf8-3f644f7ddb1c"
      },
      "outputs": [],
      "source": [
        "w2 = [weights[0][1], weights[1][1], weights[2][1], weights[3][1]]\n",
        "w2"
      ]
    },
    {
      "cell_type": "code",
      "execution_count": null,
      "id": "28abf23a-3704-4e0f-8398-63173788ea9c",
      "metadata": {
        "id": "28abf23a-3704-4e0f-8398-63173788ea9c"
      },
      "outputs": [],
      "source": [
        "data = {\n",
        "    \"w1\": w1,\n",
        "    \"w2\": w2,\n",
        "    \"token\": [\"Troll2\", \"is\", \"great\", \"Gymkata\"],\n",
        "    \"input\": [\"input1\", \"input2\", \"input3\", \"input4\"]\n",
        "}\n",
        "df = pd.DataFrame(data)\n",
        "df"
      ]
    },
    {
      "cell_type": "code",
      "execution_count": null,
      "id": "d65ca2b2-4258-4625-8aac-d88fb107d15d",
      "metadata": {
        "id": "d65ca2b2-4258-4625-8aac-d88fb107d15d"
      },
      "outputs": [],
      "source": [
        "sns.scatterplot(data=df, x=\"w1\", y=\"w2\")\n",
        "\n",
        "## add the token each dot represents to the graph\n",
        "## NOTE: For Troll2 and and Gymkata, we're adding offsets to where to print the tokens because otherwise\n",
        "## they will be so close to each other that they will overlap and be unreadable.\n",
        "plt.text(df.w1[0], df.w2[0], df.token[0],\n",
        "         horizontalalignment='left',\n",
        "         size='medium',\n",
        "         color='black',\n",
        "         weight='semibold') # Troll 2\n",
        "plt.text(df.w1[1], df.w2[1], df.token[1],\n",
        "         horizontalalignment='left',\n",
        "         size='medium',\n",
        "         color='black',\n",
        "         weight='semibold') # is\n",
        "plt.text(df.w1[2], df.w2[2], df.token[2],\n",
        "         horizontalalignment='left',\n",
        "         size='medium',\n",
        "         color='black',\n",
        "         weight='semibold') # great\n",
        "plt.text(df.w1[3], df.w2[3], df.token[3],\n",
        "         horizontalalignment='left',\n",
        "         size='medium',\n",
        "         color='black',\n",
        "         weight='semibold') # Gymkata\n",
        "\n",
        "plt.show()"
      ]
    },
    {
      "cell_type": "code",
      "execution_count": null,
      "id": "1be779d5-5fdf-4363-bf49-ae41cc51eb98",
      "metadata": {
        "id": "1be779d5-5fdf-4363-bf49-ae41cc51eb98"
      },
      "outputs": [],
      "source": [
        "trainer = L.Trainer(max_epochs=100)\n",
        "trainer.fit(modelEmbed, train_dataloaders=dataloaderForEmbed)"
      ]
    },
    {
      "cell_type": "code",
      "execution_count": null,
      "id": "a29ea237-abc9-4bc0-9049-b1af073e2cbc",
      "metadata": {
        "id": "a29ea237-abc9-4bc0-9049-b1af073e2cbc"
      },
      "outputs": [],
      "source": [
        "print(\"After optimization, the parameters are...\")\n",
        "for name, param in modelEmbed.named_parameters():\n",
        "    print(name, param.data)"
      ]
    },
    {
      "cell_type": "code",
      "execution_count": null,
      "id": "71fe1035-b0e6-47f8-93bd-69b60a30e821",
      "metadata": {
        "id": "71fe1035-b0e6-47f8-93bd-69b60a30e821"
      },
      "outputs": [],
      "source": [
        "weights = modelEmbed.embed.weight.detach().numpy()\n",
        "w1 = [weights[0][0], weights[1][0], weights[2][0], weights[3][0]]\n",
        "w2 = [weights[0][1], weights[1][1], weights[2][1], weights[3][1]]"
      ]
    },
    {
      "cell_type": "code",
      "execution_count": null,
      "id": "756b2c0b-16a6-40a1-b0a2-a177e0e1e597",
      "metadata": {
        "id": "756b2c0b-16a6-40a1-b0a2-a177e0e1e597"
      },
      "outputs": [],
      "source": [
        "data = {\n",
        "    \"w1\": w1,\n",
        "    \"w2\": w2,\n",
        "    \"token\": [\"Troll2\", \"is\", \"great\", \"Gymkata\"],\n",
        "    \"input\": [\"input1\", \"input2\", \"input3\", \"input4\"]\n",
        "}\n",
        "df = pd.DataFrame(data)\n",
        "df"
      ]
    },
    {
      "cell_type": "code",
      "execution_count": null,
      "id": "869acfd0-6bc0-4abb-bc80-b1ea8f1b8fca",
      "metadata": {
        "id": "869acfd0-6bc0-4abb-bc80-b1ea8f1b8fca"
      },
      "outputs": [],
      "source": [
        "sns.scatterplot(data=df, x=\"w1\", y=\"w2\")\n",
        "\n",
        "## add the token each dot represents to the graph\n",
        "## NOTE: For Troll2 and and Gymkata, we're adding offsets to where to print the tokens because otherwise\n",
        "## they will be so close to each other that they will overlap and be unreadable.\n",
        "plt.text(df.w1[0]-0.2, df.w2[0]-0.3, df.token[0],\n",
        "         horizontalalignment='left',\n",
        "         size='medium',\n",
        "         color='black',\n",
        "         weight='semibold') # Troll 2\n",
        "plt.text(df.w1[1], df.w2[1], df.token[1],\n",
        "         horizontalalignment='left',\n",
        "         size='medium',\n",
        "         color='black',\n",
        "         weight='semibold') # is\n",
        "plt.text(df.w1[2], df.w2[2], df.token[2],\n",
        "         horizontalalignment='left',\n",
        "         size='medium',\n",
        "         color='black',\n",
        "         weight='semibold') # great\n",
        "plt.text(df.w1[3]-0.3, df.w2[3]+0.2, df.token[3],\n",
        "         horizontalalignment='left',\n",
        "         size='medium',\n",
        "         color='black',\n",
        "         weight='semibold')# Gymkata\n",
        "\n",
        "plt.show()"
      ]
    },
    {
      "cell_type": "code",
      "execution_count": null,
      "id": "86755105-b05e-49f7-8a35-88198218d04d",
      "metadata": {
        "id": "86755105-b05e-49f7-8a35-88198218d04d"
      },
      "outputs": [],
      "source": [
        "## Let's see what the model predicts\n",
        "softmax = nn.Softmax(dim=0) ## dim=0 applies softmax to rows, dim=1 applies softmax to columns\n",
        "\n",
        "print(torch.round(softmax(modelEmbed(torch.tensor([0])).detach()), decimals=2)) ## print the predictions for \"Troll2\"\n",
        "print(torch.round(softmax(modelEmbed(torch.tensor([1])).detach()), decimals=2)) ## print the predictions for \"is\"\n",
        "print(torch.round(softmax(modelEmbed(torch.tensor([2])).detach()), decimals=2)) ## print the predictions for \"great\"\n",
        "print(torch.round(softmax(modelEmbed(torch.tensor([3])).detach()), decimals=2)) ## print the predictions for \"Gymkata\""
      ]
    },
    {
      "cell_type": "markdown",
      "id": "671c48ff-8a5a-4e36-8e9f-4a3be54d04bc",
      "metadata": {
        "id": "671c48ff-8a5a-4e36-8e9f-4a3be54d04bc"
      },
      "source": [
        "# BONUS BAM!!!"
      ]
    }
  ],
  "metadata": {
    "kernelspec": {
      "display_name": "Python 3",
      "language": "python",
      "name": "python3"
    },
    "language_info": {
      "codemirror_mode": {
        "name": "ipython",
        "version": 3
      },
      "file_extension": ".py",
      "mimetype": "text/x-python",
      "name": "python",
      "nbconvert_exporter": "python",
      "pygments_lexer": "ipython3",
      "version": "3.10.10"
    },
    "colab": {
      "provenance": [],
      "include_colab_link": true
    },
    "widgets": {
      "application/vnd.jupyter.widget-state+json": {
        "8897a0c859894b0fb7dcd7bc7885e930": {
          "model_module": "@jupyter-widgets/controls",
          "model_name": "HBoxModel",
          "model_module_version": "1.5.0",
          "state": {
            "_dom_classes": [],
            "_model_module": "@jupyter-widgets/controls",
            "_model_module_version": "1.5.0",
            "_model_name": "HBoxModel",
            "_view_count": null,
            "_view_module": "@jupyter-widgets/controls",
            "_view_module_version": "1.5.0",
            "_view_name": "HBoxView",
            "box_style": "",
            "children": [
              "IPY_MODEL_29b3dc76d1d542d6bfaf5aa6ce941920",
              "IPY_MODEL_15702a2bc3064047affbddec72087682",
              "IPY_MODEL_65177c84ae104ccebe7df7c189ea682b"
            ],
            "layout": "IPY_MODEL_28291e7bdd5e4ae0975a61d64ca78982"
          }
        },
        "29b3dc76d1d542d6bfaf5aa6ce941920": {
          "model_module": "@jupyter-widgets/controls",
          "model_name": "HTMLModel",
          "model_module_version": "1.5.0",
          "state": {
            "_dom_classes": [],
            "_model_module": "@jupyter-widgets/controls",
            "_model_module_version": "1.5.0",
            "_model_name": "HTMLModel",
            "_view_count": null,
            "_view_module": "@jupyter-widgets/controls",
            "_view_module_version": "1.5.0",
            "_view_name": "HTMLView",
            "description": "",
            "description_tooltip": null,
            "layout": "IPY_MODEL_c3651f8eca264db290699203bf4fc872",
            "placeholder": "​",
            "style": "IPY_MODEL_ee24eb2576db4d468a8bdbe00c820401",
            "value": "Epoch 0: 100%"
          }
        },
        "15702a2bc3064047affbddec72087682": {
          "model_module": "@jupyter-widgets/controls",
          "model_name": "FloatProgressModel",
          "model_module_version": "1.5.0",
          "state": {
            "_dom_classes": [],
            "_model_module": "@jupyter-widgets/controls",
            "_model_module_version": "1.5.0",
            "_model_name": "FloatProgressModel",
            "_view_count": null,
            "_view_module": "@jupyter-widgets/controls",
            "_view_module_version": "1.5.0",
            "_view_name": "ProgressView",
            "bar_style": "success",
            "description": "",
            "description_tooltip": null,
            "layout": "IPY_MODEL_01a285d9357a4b48b18feb67d55ad2c6",
            "max": 4,
            "min": 0,
            "orientation": "horizontal",
            "style": "IPY_MODEL_a0ea7f34db77478f94cb539358e3845d",
            "value": 4
          }
        },
        "65177c84ae104ccebe7df7c189ea682b": {
          "model_module": "@jupyter-widgets/controls",
          "model_name": "HTMLModel",
          "model_module_version": "1.5.0",
          "state": {
            "_dom_classes": [],
            "_model_module": "@jupyter-widgets/controls",
            "_model_module_version": "1.5.0",
            "_model_name": "HTMLModel",
            "_view_count": null,
            "_view_module": "@jupyter-widgets/controls",
            "_view_module_version": "1.5.0",
            "_view_name": "HTMLView",
            "description": "",
            "description_tooltip": null,
            "layout": "IPY_MODEL_8e53c18da8b44ffd96955a084c9358f3",
            "placeholder": "​",
            "style": "IPY_MODEL_41d7bbc1757b435ebb182ebd5fdf213f",
            "value": " 4/4 [00:00&lt;00:00, 51.85it/s, v_num=6]"
          }
        },
        "28291e7bdd5e4ae0975a61d64ca78982": {
          "model_module": "@jupyter-widgets/base",
          "model_name": "LayoutModel",
          "model_module_version": "1.2.0",
          "state": {
            "_model_module": "@jupyter-widgets/base",
            "_model_module_version": "1.2.0",
            "_model_name": "LayoutModel",
            "_view_count": null,
            "_view_module": "@jupyter-widgets/base",
            "_view_module_version": "1.2.0",
            "_view_name": "LayoutView",
            "align_content": null,
            "align_items": null,
            "align_self": null,
            "border": null,
            "bottom": null,
            "display": "inline-flex",
            "flex": null,
            "flex_flow": "row wrap",
            "grid_area": null,
            "grid_auto_columns": null,
            "grid_auto_flow": null,
            "grid_auto_rows": null,
            "grid_column": null,
            "grid_gap": null,
            "grid_row": null,
            "grid_template_areas": null,
            "grid_template_columns": null,
            "grid_template_rows": null,
            "height": null,
            "justify_content": null,
            "justify_items": null,
            "left": null,
            "margin": null,
            "max_height": null,
            "max_width": null,
            "min_height": null,
            "min_width": null,
            "object_fit": null,
            "object_position": null,
            "order": null,
            "overflow": null,
            "overflow_x": null,
            "overflow_y": null,
            "padding": null,
            "right": null,
            "top": null,
            "visibility": null,
            "width": "100%"
          }
        },
        "c3651f8eca264db290699203bf4fc872": {
          "model_module": "@jupyter-widgets/base",
          "model_name": "LayoutModel",
          "model_module_version": "1.2.0",
          "state": {
            "_model_module": "@jupyter-widgets/base",
            "_model_module_version": "1.2.0",
            "_model_name": "LayoutModel",
            "_view_count": null,
            "_view_module": "@jupyter-widgets/base",
            "_view_module_version": "1.2.0",
            "_view_name": "LayoutView",
            "align_content": null,
            "align_items": null,
            "align_self": null,
            "border": null,
            "bottom": null,
            "display": null,
            "flex": null,
            "flex_flow": null,
            "grid_area": null,
            "grid_auto_columns": null,
            "grid_auto_flow": null,
            "grid_auto_rows": null,
            "grid_column": null,
            "grid_gap": null,
            "grid_row": null,
            "grid_template_areas": null,
            "grid_template_columns": null,
            "grid_template_rows": null,
            "height": null,
            "justify_content": null,
            "justify_items": null,
            "left": null,
            "margin": null,
            "max_height": null,
            "max_width": null,
            "min_height": null,
            "min_width": null,
            "object_fit": null,
            "object_position": null,
            "order": null,
            "overflow": null,
            "overflow_x": null,
            "overflow_y": null,
            "padding": null,
            "right": null,
            "top": null,
            "visibility": null,
            "width": null
          }
        },
        "ee24eb2576db4d468a8bdbe00c820401": {
          "model_module": "@jupyter-widgets/controls",
          "model_name": "DescriptionStyleModel",
          "model_module_version": "1.5.0",
          "state": {
            "_model_module": "@jupyter-widgets/controls",
            "_model_module_version": "1.5.0",
            "_model_name": "DescriptionStyleModel",
            "_view_count": null,
            "_view_module": "@jupyter-widgets/base",
            "_view_module_version": "1.2.0",
            "_view_name": "StyleView",
            "description_width": ""
          }
        },
        "01a285d9357a4b48b18feb67d55ad2c6": {
          "model_module": "@jupyter-widgets/base",
          "model_name": "LayoutModel",
          "model_module_version": "1.2.0",
          "state": {
            "_model_module": "@jupyter-widgets/base",
            "_model_module_version": "1.2.0",
            "_model_name": "LayoutModel",
            "_view_count": null,
            "_view_module": "@jupyter-widgets/base",
            "_view_module_version": "1.2.0",
            "_view_name": "LayoutView",
            "align_content": null,
            "align_items": null,
            "align_self": null,
            "border": null,
            "bottom": null,
            "display": null,
            "flex": "2",
            "flex_flow": null,
            "grid_area": null,
            "grid_auto_columns": null,
            "grid_auto_flow": null,
            "grid_auto_rows": null,
            "grid_column": null,
            "grid_gap": null,
            "grid_row": null,
            "grid_template_areas": null,
            "grid_template_columns": null,
            "grid_template_rows": null,
            "height": null,
            "justify_content": null,
            "justify_items": null,
            "left": null,
            "margin": null,
            "max_height": null,
            "max_width": null,
            "min_height": null,
            "min_width": null,
            "object_fit": null,
            "object_position": null,
            "order": null,
            "overflow": null,
            "overflow_x": null,
            "overflow_y": null,
            "padding": null,
            "right": null,
            "top": null,
            "visibility": null,
            "width": null
          }
        },
        "a0ea7f34db77478f94cb539358e3845d": {
          "model_module": "@jupyter-widgets/controls",
          "model_name": "ProgressStyleModel",
          "model_module_version": "1.5.0",
          "state": {
            "_model_module": "@jupyter-widgets/controls",
            "_model_module_version": "1.5.0",
            "_model_name": "ProgressStyleModel",
            "_view_count": null,
            "_view_module": "@jupyter-widgets/base",
            "_view_module_version": "1.2.0",
            "_view_name": "StyleView",
            "bar_color": null,
            "description_width": ""
          }
        },
        "8e53c18da8b44ffd96955a084c9358f3": {
          "model_module": "@jupyter-widgets/base",
          "model_name": "LayoutModel",
          "model_module_version": "1.2.0",
          "state": {
            "_model_module": "@jupyter-widgets/base",
            "_model_module_version": "1.2.0",
            "_model_name": "LayoutModel",
            "_view_count": null,
            "_view_module": "@jupyter-widgets/base",
            "_view_module_version": "1.2.0",
            "_view_name": "LayoutView",
            "align_content": null,
            "align_items": null,
            "align_self": null,
            "border": null,
            "bottom": null,
            "display": null,
            "flex": null,
            "flex_flow": null,
            "grid_area": null,
            "grid_auto_columns": null,
            "grid_auto_flow": null,
            "grid_auto_rows": null,
            "grid_column": null,
            "grid_gap": null,
            "grid_row": null,
            "grid_template_areas": null,
            "grid_template_columns": null,
            "grid_template_rows": null,
            "height": null,
            "justify_content": null,
            "justify_items": null,
            "left": null,
            "margin": null,
            "max_height": null,
            "max_width": null,
            "min_height": null,
            "min_width": null,
            "object_fit": null,
            "object_position": null,
            "order": null,
            "overflow": null,
            "overflow_x": null,
            "overflow_y": null,
            "padding": null,
            "right": null,
            "top": null,
            "visibility": null,
            "width": null
          }
        },
        "41d7bbc1757b435ebb182ebd5fdf213f": {
          "model_module": "@jupyter-widgets/controls",
          "model_name": "DescriptionStyleModel",
          "model_module_version": "1.5.0",
          "state": {
            "_model_module": "@jupyter-widgets/controls",
            "_model_module_version": "1.5.0",
            "_model_name": "DescriptionStyleModel",
            "_view_count": null,
            "_view_module": "@jupyter-widgets/base",
            "_view_module_version": "1.2.0",
            "_view_name": "StyleView",
            "description_width": ""
          }
        }
      }
    }
  },
  "nbformat": 4,
  "nbformat_minor": 5
}