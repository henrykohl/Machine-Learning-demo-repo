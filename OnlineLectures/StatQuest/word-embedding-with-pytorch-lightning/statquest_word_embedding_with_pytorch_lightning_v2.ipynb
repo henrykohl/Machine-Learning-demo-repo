{
  "cells": [
    {
      "cell_type": "markdown",
      "metadata": {
        "id": "view-in-github",
        "colab_type": "text"
      },
      "source": [
        "<a href=\"https://colab.research.google.com/github/henrykohl/Machine-Learning-demo-repo/blob/master/OnlineLectures/StatQuest/word-embedding-with-pytorch-lightning/statquest_word_embedding_with_pytorch_lightning_v2.ipynb\" target=\"_parent\"><img src=\"https://colab.research.google.com/assets/colab-badge.svg\" alt=\"Open In Colab\"/></a>"
      ]
    },
    {
      "cell_type": "code",
      "source": [
        "!pip install lightning --quiet # 注意,這裡安裝的事lightning不是pytorch_lightning"
      ],
      "metadata": {
        "colab": {
          "base_uri": "https://localhost:8080/"
        },
        "id": "Eo-H-8Zkk4DH",
        "outputId": "5671bacf-673c-424c-c80a-0fc3ef5cd313"
      },
      "id": "Eo-H-8Zkk4DH",
      "execution_count": 2,
      "outputs": [
        {
          "output_type": "stream",
          "name": "stdout",
          "text": [
            "\u001b[2K     \u001b[90m━━━━━━━━━━━━━━━━━━━━━━━━━━━━━━━━━━━━━━━━\u001b[0m \u001b[32m2.1/2.1 MB\u001b[0m \u001b[31m26.2 MB/s\u001b[0m eta \u001b[36m0:00:00\u001b[0m\n",
            "\u001b[2K     \u001b[90m━━━━━━━━━━━━━━━━━━━━━━━━━━━━━━━━━━━━━━━━\u001b[0m \u001b[32m840.4/840.4 kB\u001b[0m \u001b[31m45.8 MB/s\u001b[0m eta \u001b[36m0:00:00\u001b[0m\n",
            "\u001b[2K     \u001b[90m━━━━━━━━━━━━━━━━━━━━━━━━━━━━━━━━━━━━━━━━\u001b[0m \u001b[32m801.6/801.6 kB\u001b[0m \u001b[31m42.6 MB/s\u001b[0m eta \u001b[36m0:00:00\u001b[0m\n",
            "\u001b[2K     \u001b[90m━━━━━━━━━━━━━━━━━━━━━━━━━━━━━━━━━━━━━━━━\u001b[0m \u001b[32m23.7/23.7 MB\u001b[0m \u001b[31m51.6 MB/s\u001b[0m eta \u001b[36m0:00:00\u001b[0m\n",
            "\u001b[2K     \u001b[90m━━━━━━━━━━━━━━━━━━━━━━━━━━━━━━━━━━━━━━━━\u001b[0m \u001b[32m823.6/823.6 kB\u001b[0m \u001b[31m53.3 MB/s\u001b[0m eta \u001b[36m0:00:00\u001b[0m\n",
            "\u001b[2K     \u001b[90m━━━━━━━━━━━━━━━━━━━━━━━━━━━━━━━━━━━━━━━━\u001b[0m \u001b[32m14.1/14.1 MB\u001b[0m \u001b[31m62.4 MB/s\u001b[0m eta \u001b[36m0:00:00\u001b[0m\n",
            "\u001b[2K     \u001b[90m━━━━━━━━━━━━━━━━━━━━━━━━━━━━━━━━━━━━━━━━\u001b[0m \u001b[32m731.7/731.7 MB\u001b[0m \u001b[31m497.8 kB/s\u001b[0m eta \u001b[36m0:00:00\u001b[0m\n",
            "\u001b[2K     \u001b[90m━━━━━━━━━━━━━━━━━━━━━━━━━━━━━━━━━━━━━━━━\u001b[0m \u001b[32m410.6/410.6 MB\u001b[0m \u001b[31m2.3 MB/s\u001b[0m eta \u001b[36m0:00:00\u001b[0m\n",
            "\u001b[2K     \u001b[90m━━━━━━━━━━━━━━━━━━━━━━━━━━━━━━━━━━━━━━━━\u001b[0m \u001b[32m121.6/121.6 MB\u001b[0m \u001b[31m8.6 MB/s\u001b[0m eta \u001b[36m0:00:00\u001b[0m\n",
            "\u001b[2K     \u001b[90m━━━━━━━━━━━━━━━━━━━━━━━━━━━━━━━━━━━━━━━━\u001b[0m \u001b[32m56.5/56.5 MB\u001b[0m \u001b[31m9.0 MB/s\u001b[0m eta \u001b[36m0:00:00\u001b[0m\n",
            "\u001b[2K     \u001b[90m━━━━━━━━━━━━━━━━━━━━━━━━━━━━━━━━━━━━━━━━\u001b[0m \u001b[32m124.2/124.2 MB\u001b[0m \u001b[31m7.7 MB/s\u001b[0m eta \u001b[36m0:00:00\u001b[0m\n",
            "\u001b[2K     \u001b[90m━━━━━━━━━━━━━━━━━━━━━━━━━━━━━━━━━━━━━━━━\u001b[0m \u001b[32m196.0/196.0 MB\u001b[0m \u001b[31m2.5 MB/s\u001b[0m eta \u001b[36m0:00:00\u001b[0m\n",
            "\u001b[2K     \u001b[90m━━━━━━━━━━━━━━━━━━━━━━━━━━━━━━━━━━━━━━━━\u001b[0m \u001b[32m166.0/166.0 MB\u001b[0m \u001b[31m6.3 MB/s\u001b[0m eta \u001b[36m0:00:00\u001b[0m\n",
            "\u001b[2K     \u001b[90m━━━━━━━━━━━━━━━━━━━━━━━━━━━━━━━━━━━━━━━━\u001b[0m \u001b[32m99.1/99.1 kB\u001b[0m \u001b[31m11.7 MB/s\u001b[0m eta \u001b[36m0:00:00\u001b[0m\n",
            "\u001b[2K     \u001b[90m━━━━━━━━━━━━━━━━━━━━━━━━━━━━━━━━━━━━━━━━\u001b[0m \u001b[32m21.1/21.1 MB\u001b[0m \u001b[31m74.3 MB/s\u001b[0m eta \u001b[36m0:00:00\u001b[0m\n",
            "\u001b[?25h"
          ]
        }
      ]
    },
    {
      "cell_type": "markdown",
      "id": "34006ee1-51e5-4a48-82de-021a71e1201a",
      "metadata": {
        "tags": [],
        "id": "34006ee1-51e5-4a48-82de-021a71e1201a"
      },
      "source": [
        "# StatQuest: Word Embedding in PyTorch + Lightning!!! [(Youtube)](https://www.youtube.com/watch?v=Qf06XDYXCXI)\n",
        "\n",
        "[(Resource Code in lightning.ai)](https://lightning.ai/lightning-ai/studios/statquest-word-embedding-with-pytorch-lightning?view=public&section=all)\n",
        "\n",
        "[(My own Code in lightning.ai)](https://lightning.ai/henrykohl/vision-model/studios/statquest-word-embedding-with-pytorch-lightning-cslf/code)\n",
        "\n",
        "[(My own Medium)](https://medium.com/p/9afa72644244)\n",
        "\n",
        "<!-- ## Brought to you by...\n",
        "[<img src=\"./images/Brandmark_FullColor_Black.png\" alt=\"Lightning\" style=\"width: 400px;\">](https://www.pytorchlightning.ai/)\n",
        " -->\n",
        "Copyright 2023, Joshua Starmer"
      ]
    },
    {
      "cell_type": "markdown",
      "id": "7cf0aedd-9400-4ce1-8885-d800f997cb6b",
      "metadata": {
        "id": "7cf0aedd-9400-4ce1-8885-d800f997cb6b"
      },
      "source": [
        "----\n",
        "**NOTE:** This tutorial is from the StatQuest **[Word Embedding in PyTorch + Lightning](https://youtu.be/Qf06XDYXCXI)**.\n",
        "\n",
        "In this tutorial, we will use **[PyTorch](https://pytorch.org/) **+** [Lightning](https://www.lightning.ai/)** to create and optimize word embeddings using the incredibly simple network seen below and featured in the **StatQuest** **[Word Embedding and Word2Vec, Clearly Explained!!](https://youtu.be/viZrOnJclY0)**\n",
        "\n",
        "<img src=\"https://github.com/henrykohl/Machine-Learning-demo-repo/blob/master/OnlineLectures/StatQuest/word-embedding-with-pytorch-lightning/images/word_embedding_network.png?raw=1\" alt=\"A simple word embedding network\" style=\"width: 600px;\">\n",
        "\n",
        "In that **StatQuest**, this simple network created word embeddings that made two movie titles, **Troll 2** and **Gymkata**, cluster together because they were used in similar contexts.\n",
        "\n",
        "<img src=\"https://github.com/henrykohl/Machine-Learning-demo-repo/blob/master/OnlineLectures/StatQuest/word-embedding-with-pytorch-lightning/images/trained_embedding_graph.png?raw=1\" alt=\"A graph of the trained word embeddings\" style=\"width: 300px;\">\n",
        "\n",
        "<!-- The training data consists of two phrases, **Troll 2 is great!** and **Gymkata is great!**, where, for the sake of this demonstration, **Troll 2** is considered a single word. -->\n",
        "\n",
        "In this tutorial, you will...\n",
        "\n",
        "- **[Build and train a Word Embedding Unit from scratch](#build_entirely_by_hand)**\n",
        "\n",
        "- **[Build and train a Word Embedding Unit using `nn.Linear()`](#build_entirely_with_linear)**\n",
        "\n",
        "- **[Use `nn.Embedding()` to load and use pre-trained Word Embeddings](#embedding_lookup)**\n",
        "\n",
        "- **BONUS BAM: [Build and train a word Word Embedding Unit using `nn.Embedding()` and `nn.Linear()`](#build_with_embedding)**\n",
        "\n",
        "\n",
        "#### NOTE:\n",
        "This tutorial assumes that you already know the basics of coding in **Python** and are familiar with the theory behind **[Neural Networks](https://youtu.be/CqOfi41LfDw)**, **[Backpropagation](https://youtu.be/IN2XmBhILt4)**, and **[Word Embedding](https://youtu.be/viZrOnJclY0)**. If not, check out the **'Quests** by clicking on the links for each topic.\n",
        "\n",
        "#### ALSO NOTE:\n",
        "I strongly encourage you to play around with the code. Playing with the code is the best way to learn from it."
      ]
    },
    {
      "cell_type": "markdown",
      "id": "9c3669a0-284c-48f7-9c73-19812e2a8fac",
      "metadata": {
        "id": "9c3669a0-284c-48f7-9c73-19812e2a8fac"
      },
      "source": [
        "-----"
      ]
    },
    {
      "cell_type": "markdown",
      "id": "5b4feccd-8472-4bb2-bc56-ea41e527d714",
      "metadata": {
        "id": "5b4feccd-8472-4bb2-bc56-ea41e527d714"
      },
      "source": [
        "# Import the modules that will do all the work\n",
        "\n",
        "The very first thing we need to do is load a bunch of Python modules. Python itself is just a basic programming language. These modules give us extra functionality to create a neural network, use and graph the output for various input values, and optimize the neural network's parameters.\n",
        "\n",
        "<!-- You will need **Python 3.8** and have at least these versions for each of the following modules:\n",
        "- pytorch >= 1.10.1\n",
        "- lightning >= 1.8.0\n",
        "\n",
        "**If you installed **Python** with [Anaconda](https://www.anaconda.com/)...**\n",
        "\n",
        "...then you can check which versions of each package you have with the command: `conda list`. If, for example, your version of `matplotlib` is older than **3.3.4**, then the easiest thing to do is just update all of your Anaconda packages with the following command: `conda update --all`. However, if you only want to update `matplotlib`, then you can run this command: `conda install matplotlib=3.3.4`.\n",
        "\n",
        "**If you need to install **PyTorch**...**\n",
        "\n",
        "...then the easiest thing to do is follow the instructions on the [PyTorch website](https://pytorch.org/get-started/locally/).\n",
        "\n",
        "**If you need to install **Lightning**...**\n",
        "\n",
        "...then the easiest thing to do is follow the instructions on the [Lightning AI website](https://lightning.ai/lightning-docs/). -->"
      ]
    },
    {
      "cell_type": "code",
      "execution_count": 3,
      "id": "2e6b9647-24a8-4c13-9665-a036d9a8e121",
      "metadata": {
        "tags": [],
        "id": "2e6b9647-24a8-4c13-9665-a036d9a8e121"
      },
      "outputs": [],
      "source": [
        "import torch # torch will allow us to create tensors.\n",
        "import torch.nn as nn # torch.nn allows us to create a neural network and allows\n",
        "                      # us to access a lot of useful functions like:\n",
        "                      # nn.Linear, nn.Embedding, nn.CrossEntropyLoss() etc.\n",
        "\n",
        "from torch.optim import Adam # optim contains many optimizers. This time we're using Adam\n",
        "from torch.distributions.uniform import Uniform # So we can initialize our tensors with a uniform distribution\n",
        "from torch.utils.data import TensorDataset, DataLoader # these are needed for the training data\n",
        "\n",
        "import lightning as L # lightning has tons of cool tools that make neural networks easier\n",
        "\n",
        "import pandas as pd ## to create dataframes from graph input\n",
        "import matplotlib.pyplot as plt ## matplotlib allows us to draw graphs.\n",
        "import seaborn as sns ## seaborn makes it easier to draw nice-looking graphs."
      ]
    },
    {
      "cell_type": "markdown",
      "id": "31140c14-1161-48ab-ac69-73859196a422",
      "metadata": {
        "id": "31140c14-1161-48ab-ac69-73859196a422"
      },
      "source": [
        "----"
      ]
    },
    {
      "cell_type": "markdown",
      "id": "b08f3bd1-2796-4f93-b13b-eaa2bdda3467",
      "metadata": {
        "id": "b08f3bd1-2796-4f93-b13b-eaa2bdda3467"
      },
      "source": [
        "# Create the datasets that we will use for training the word embeddings\n",
        "\n",
        "Now let's create our training data from two phrases, **Troll 2 is great** and **Gymkata is great**, which gives us a simple 4 word, or token, vocabulary: **Troll 2**, **is**, **great**, **Gymkata**. Our training data consists of two parts: `inputs`, the inputs to the neural network, and `labels`, the expected outputs from the neural networks.\n",
        "\n",
        "The idea is to have each token in a phrase predict the token that follows. For example, using **one-hot-encoding** to represent each token, since **Troll 2** is the first token in our vocalbuary, we will encode the `input` for **Troll 2** with `[1., 0., 0., 0.]`. And since **Troll 2** predicts the second token, **is**, which is the second token in our vocabulary, we will encode the `label` for **Troll 2** with `[0., 1., 0., 0.]`. Likewise, we can encode the `inputs` and `labels` for **is**, **great** and **Gymkata**. **NOTE: Gymkata** predicts the second token, **is**, so it's label is `[0., 1., 0., 0.]`."
      ]
    },
    {
      "cell_type": "code",
      "execution_count": 4,
      "id": "a7cb3602-b0d5-457c-a5da-97cd3d3f9efa",
      "metadata": {
        "tags": [],
        "id": "a7cb3602-b0d5-457c-a5da-97cd3d3f9efa"
      },
      "outputs": [],
      "source": [
        "## create the training data for the neural network.\n",
        "inputs = torch.tensor([[1., 0., 0., 0.], # one-hot-encoding for Troll 2...\n",
        "              [0., 1., 0., 0.], # ...is\n",
        "              [0., 0., 1., 0.], # ...great\n",
        "              [0., 0., 0., 1.]]) # ...Gymkata\n",
        "\n",
        "labels = torch.tensor([[0., 1., 0., 0.], # \"Troll 2\" is followed by \"is\"\n",
        "              [0., 0., 1., 0.], # \"is\" is followed by \"great\"\n",
        "              [0., 0., 0., 1.], # \"great\" isn't followed by anything, but we'll pretend it was followed by \"Gymkata\"\n",
        "              [0., 1., 0., 0.]]) # \"Gymkata\", just like \"Troll 2\", is followed by \"is\"."
      ]
    },
    {
      "cell_type": "markdown",
      "id": "9168948f-5e25-48ad-b775-ef04463d9a3a",
      "metadata": {
        "id": "9168948f-5e25-48ad-b775-ef04463d9a3a"
      },
      "source": [
        "Now that we have created the data that we want to train the embeddings with, we'll store it in a `DataLoader`. Since our dataset is so small, using a `DataLoader` is a little bit of an overkill, but it it's easy to do, and it will allow us to easily scale up to a much larger vocabulary when the time comes."
      ]
    },
    {
      "cell_type": "code",
      "execution_count": 5,
      "id": "79749df5-3328-4d37-8a85-3fa8df641549",
      "metadata": {
        "tags": [],
        "id": "79749df5-3328-4d37-8a85-3fa8df641549"
      },
      "outputs": [],
      "source": [
        "dataset = TensorDataset(inputs, labels)\n",
        "dataloader = DataLoader(dataset)"
      ]
    },
    {
      "cell_type": "markdown",
      "id": "df333b81-aab6-4fed-b593-33439f05d74d",
      "metadata": {
        "id": "df333b81-aab6-4fed-b593-33439f05d74d"
      },
      "source": [
        "----\n",
        "<a id=\"build_entirely_by_hand\"></a>\n",
        "# Build and train a Word Embedding Unit from scratch\n",
        "\n",
        "Now that we have the data and `DataLoader` all worked out, let's create the `class` that will create the word embeddings for each token in the vacublary."
      ]
    },
    {
      "cell_type": "code",
      "execution_count": 6,
      "id": "e72b990a-3d31-4437-a995-f926c8cd4d61",
      "metadata": {
        "id": "e72b990a-3d31-4437-a995-f926c8cd4d61"
      },
      "outputs": [],
      "source": [
        "class WordEmbeddingFromScratch(L.LightningModule):\n",
        "\n",
        "    def __init__(self):\n",
        "        ## __init__() initializes the weights and sets everything up for training\n",
        "\n",
        "        super().__init__()\n",
        "\n",
        "        ## The first thing we do is set the seed for the random number generorator.\n",
        "        ## This ensures that when someone creates a model from this class, that model\n",
        "        ## will start off with the exact same random numbers as I started out with when\n",
        "        ## I created this demo. At least, I hope that is what happens!!! :)\n",
        "        L.seed_everything(seed=42)\n",
        "\n",
        "        ###################\n",
        "        ##\n",
        "        ## Initialize the weights.\n",
        "        ##\n",
        "        ## NOTE: We're initializing the weights using values from a uniform distribtion\n",
        "        ##       that goes from -0.5 to 0.5 (this is notated as U(-0.5, 0.5).\n",
        "        ##       This is because of how nn.Linear() initializes weights -\n",
        "        ##       nn.Linear() uses U(-sqrt(k), sqrt(k)), where k=1/in_features.\n",
        "        ##       In our case, we have 4 inputs, so k=1/4 = 0.25. And the sqrt(0.25) = 0.5.\n",
        "        ##       Thus, nn.Linear() would use U(-0.5, 0.5) to initialize the weights, so\n",
        "        ##       that's what we'll do here as well.\n",
        "        ##\n",
        "        ###################\n",
        "        min_value = -0.5\n",
        "        max_value = 0.5\n",
        "\n",
        "        ## Now we initialize the weights that feed 4 inputs (one for each unique word)\n",
        "        ##       into the 2 nodes in the hidden layer (top and bottom nodes)\n",
        "        ##\n",
        "        ## NOTE: Because we want words (or tokens) that are used in the same context to have similar\n",
        "        ##       weights, we are excluding bias terms from the connections from the inputs to the\n",
        "        ##       nodes in the hidden layer (alternatively, you could think that\n",
        "        ##       we set the bias terms to 0 and are not going to optimize them).\n",
        "        ##\n",
        "        ## ALSO NOTE: We're using nn.Parameter() here instead of torch.tensor() because we want\n",
        "        ##       to easily print out the parameters before and after training. Parameters are just\n",
        "        ##       tensors that are added to model's parameter list.\n",
        "        self.input1_w1 = nn.Parameter(Uniform(min_value, max_value).sample())\n",
        "        self.input1_w2 = nn.Parameter(Uniform(min_value, max_value).sample())\n",
        "\n",
        "        self.input2_w1 = nn.Parameter(Uniform(min_value, max_value).sample())\n",
        "        self.input2_w2 = nn.Parameter(Uniform(min_value, max_value).sample())\n",
        "\n",
        "        self.input3_w1 = nn.Parameter(Uniform(min_value, max_value).sample())\n",
        "        self.input3_w2 = nn.Parameter(Uniform(min_value, max_value).sample())\n",
        "\n",
        "        self.input4_w1 = nn.Parameter(Uniform(min_value, max_value).sample())\n",
        "        self.input4_w2 = nn.Parameter(Uniform(min_value, max_value).sample())\n",
        "\n",
        "        ## Now we initialize the weights that come out of the hidden layer to the \"output\"\n",
        "        ## NOTE: Again, we are excluding bias terms. This time, we exclude them simply because\n",
        "        ##       we do not need them.\n",
        "        self.output1_w1 = nn.Parameter(Uniform(min_value, max_value).sample())\n",
        "        self.output1_w2 = nn.Parameter(Uniform(min_value, max_value).sample())\n",
        "\n",
        "        self.output2_w1 = nn.Parameter(Uniform(min_value, max_value).sample())\n",
        "        self.output2_w2 = nn.Parameter(Uniform(min_value, max_value).sample())\n",
        "\n",
        "        self.output3_w1 = nn.Parameter(Uniform(min_value, max_value).sample())\n",
        "        self.output3_w2 = nn.Parameter(Uniform(min_value, max_value).sample())\n",
        "\n",
        "        self.output4_w1 = nn.Parameter(Uniform(min_value, max_value).sample())\n",
        "        self.output4_w2 = nn.Parameter(Uniform(min_value, max_value).sample())\n",
        "\n",
        "        ## For the loss function, we'll use CrossEntropyLoss, which we'll use in training_step()\n",
        "        ## NOTE: The nn.CrossEntropyLoss automatically applies softmax for us, so we don't need to import it.\n",
        "        self.loss = nn.CrossEntropyLoss()\n",
        "\n",
        "\n",
        "    def forward(self, input):\n",
        "        ## forward() is where we do the math associated with running the inputs through the\n",
        "        ## network\n",
        "\n",
        "        ## The input is delivered inside of a list, like this...\n",
        "        ##   [[1., 0., 0., 0.]]\n",
        "        ## ...and it's just easier if we remove the extra pair of brackets so we only have...\n",
        "        ##   [1., 0., 0., 0.]\n",
        "        ## ...so let's do it.\n",
        "        input = input[0]\n",
        "\n",
        "        ## First, for the top node in the hidden layer,\n",
        "        ## we multiply each input by its weight,\n",
        "        ## and then calculate the sum of those products...\n",
        "        inputs_to_top_hidden = ((input[0] * self.input1_w1) +\n",
        "                      (input[1] * self.input2_w1) +\n",
        "                      (input[2] * self.input3_w1) +\n",
        "                      (input[3] * self.input4_w1))\n",
        "\n",
        "        ## ...then, for the bottom node in the hidden layer,\n",
        "        ## we multiply each input by its weight,\n",
        "        ## and then calculate the sum of those products.\n",
        "        inputs_to_bottom_hidden = ((input[0] * self.input1_w2) +\n",
        "                        (input[1] * self.input2_w2) +\n",
        "                        (input[2] * self.input3_w2) +\n",
        "                        (input[3] * self.input4_w2))\n",
        "\n",
        "        ## Now, in theory, we could run inputs_to_top_hidden and inputs_to_bottom_hidden through\n",
        "        ## linear activation functions, but the outputs would be the exact same as in the inputs,\n",
        "        ## so we can just skip that step and instead compute the 4 output values from the 2 nodes in hidden layer\n",
        "        ## by summing the products of the hidden layer values and a pair of weights for each output.\n",
        "        output1 = ((inputs_to_top_hidden * self.output1_w1) +\n",
        "               (inputs_to_bottom_hidden * self.output1_w2))\n",
        "        output2 = ((inputs_to_top_hidden * self.output2_w1) +\n",
        "               (inputs_to_bottom_hidden * self.output2_w2))\n",
        "        output3 = ((inputs_to_top_hidden * self.output3_w1) +\n",
        "               (inputs_to_bottom_hidden * self.output3_w2))\n",
        "        output4 = ((inputs_to_top_hidden * self.output4_w1) +\n",
        "               (inputs_to_bottom_hidden * self.output4_w2))\n",
        "\n",
        "        ## Now we need to concatenate the 4 output tensors so that we can run them through\n",
        "        ## the SoftMax function. However, because they are tensors (and have gradients attached to them),\n",
        "        ## we can't just combine them in a simple list like this...\n",
        "        # output_values = [output1, output2, output3, output4] ## THIS WILL NOT WORK\n",
        "        ## ...because that would strip off the gradients.\n",
        "        ## Instead, we use torch.stack(), which retains the gradients.\n",
        "        output_presoftmax = torch.stack([output1, output2, output3, output4])\n",
        "        ## NOTE: The the loss function we are using, nn.CrossEntropyLoss, automatically applies softmax for us, so we\n",
        "        ##       need to do that ourselves. If we want to actually use this network to predict the next word\n",
        "        ##       (instead of just using it for the Word Embedding values), then we'll need to apply the softmax() function\n",
        "        ##       ourselves (or just look to see what output value is largest).\n",
        "        \"\"\"這裡不需要用到softmax,因為在training_step中，調用loss function時,會自動調用softmax\"\"\"\n",
        "\n",
        "        return(output_presoftmax)\n",
        "\n",
        "\n",
        "    def configure_optimizers(self):\n",
        "        # configure_optimizers() configures the optimizer we want to use for backpropagation.\n",
        "\n",
        "        return Adam(self.parameters(), lr=0.1) # lr=0.1 sets the learning rate to 0.1\n",
        "\n",
        "\n",
        "    def training_step(self, batch, batch_idx):\n",
        "        # training_step() takes a step of gradient descent.\n",
        "\n",
        "        input_i, label_i = batch # collect input\n",
        "        output_i = self.forward(input_i) # run input through the neural network\n",
        "        loss = self.loss(output_i, label_i[0]) ## loss = cross entropy\n",
        "        ## 也可以是\n",
        "        # loss = self.loss(output_i.unsqueeze(0), label_i)\n",
        "\n",
        "\n",
        "        ## 測試用\n",
        "        # print(\">>\",input_i,output_i,label_i,loss)\n",
        "        # print(\"--\",self.loss(output_i.unsqueeze(0),label_i))\n",
        "\n",
        "        return loss"
      ]
    },
    {
      "cell_type": "markdown",
      "source": [
        "\n",
        "<font color=\"red\">注意，在`training_step`中計算`loss`時，**標籤**是使用`label_i[0]`而不是`label_i`，原因後續有詳細解析</font>\n",
        "```python\n",
        "    def training_step(self, batch, batch_idx):\n",
        "        ...\n",
        "        loss = self.loss(output_i, label_i[0])\n",
        "```\n",
        "\n",
        "\n",
        "\n"
      ],
      "metadata": {
        "id": "2i5yBVjcDXW0"
      },
      "id": "2i5yBVjcDXW0"
    },
    {
      "cell_type": "markdown",
      "id": "a5ef5568-5826-4e07-b807-5764060f39ad",
      "metadata": {
        "id": "a5ef5568-5826-4e07-b807-5764060f39ad"
      },
      "source": [
        "Now that we have created our new `class`, `WordEmbeddingFromScratch`, let's create a model and print out the initial parameters."
      ]
    },
    {
      "cell_type": "code",
      "execution_count": 7,
      "id": "819df074-8ece-4808-a2ec-1c4d258a2094",
      "metadata": {
        "tags": [],
        "colab": {
          "base_uri": "https://localhost:8080/"
        },
        "id": "819df074-8ece-4808-a2ec-1c4d258a2094",
        "outputId": "897b233d-a017-4bcd-e1a3-cc3e397756da"
      },
      "outputs": [
        {
          "output_type": "stream",
          "name": "stderr",
          "text": [
            "INFO: Seed set to 42\n",
            "INFO:lightning.fabric.utilities.seed:Seed set to 42\n"
          ]
        },
        {
          "output_type": "stream",
          "name": "stdout",
          "text": [
            "Before optimization, the parameters are...\n",
            "input1_w1 tensor(0.3800)\n",
            "input1_w2 tensor(0.4200)\n",
            "input2_w1 tensor(-0.1200)\n",
            "input2_w2 tensor(0.4600)\n",
            "input3_w1 tensor(-0.1100)\n",
            "input3_w2 tensor(0.1000)\n",
            "input4_w1 tensor(-0.2400)\n",
            "input4_w2 tensor(0.2900)\n",
            "output1_w1 tensor(0.4400)\n",
            "output1_w2 tensor(-0.3700)\n",
            "output2_w1 tensor(0.4300)\n",
            "output2_w2 tensor(0.0900)\n",
            "output3_w1 tensor(0.3700)\n",
            "output3_w2 tensor(0.0700)\n",
            "output4_w1 tensor(0.2400)\n",
            "output4_w2 tensor(-0.0700)\n"
          ]
        }
      ],
      "source": [
        "modelFromScratch = WordEmbeddingFromScratch() # create the model...\n",
        "\n",
        "print(\"Before optimization, the parameters are...\")\n",
        "for name, param in modelFromScratch.named_parameters():\n",
        "    print(name, torch.round(param.data, decimals=2))"
      ]
    },
    {
      "cell_type": "markdown",
      "id": "ba85af72-311c-4fd4-94ce-caec261d0380",
      "metadata": {
        "id": "ba85af72-311c-4fd4-94ce-caec261d0380"
      },
      "source": [
        "Notice how the weights for **input1** (`w1 = 0.3832` and `w2 = 0.4150`) and **input4** (`w1 = -0.2434` and `w2 = 0.2936`) are very different, even though they both represent movie titles (**Troll2** and **Gymkata**) that are used in the same context. We can visualize how similar, and different, the embeddings are for all four tokens by plotting them on a graph that has the **w1** values, the embedding values that go to the top node in the hidden layer, on the x-axis and the **w2** values, the embedding values that go to the bottom node in the hidden layer, on the y-axis. First, let's organize the data into a Pandas `DataFrame()`."
      ]
    },
    {
      "cell_type": "code",
      "execution_count": 8,
      "id": "eb225dd9-549d-4521-8f27-54900e20566d",
      "metadata": {
        "colab": {
          "base_uri": "https://localhost:8080/",
          "height": 175
        },
        "id": "eb225dd9-549d-4521-8f27-54900e20566d",
        "outputId": "28589e74-7ad7-4ab0-860e-2f0e9d267fef"
      },
      "outputs": [
        {
          "output_type": "execute_result",
          "data": {
            "text/plain": [
              "         w1        w2    token   input\n",
              "0  0.382269  0.415004   Troll2  input1\n",
              "1 -0.117136  0.459306       is  input2\n",
              "2 -0.109552  0.100895    great  input3\n",
              "3 -0.243428  0.293641  Gymkata  input4"
            ],
            "text/html": [
              "\n",
              "  <div id=\"df-93cae4a1-2ce9-4d21-a722-8b9e8e3376ab\" class=\"colab-df-container\">\n",
              "    <div>\n",
              "<style scoped>\n",
              "    .dataframe tbody tr th:only-of-type {\n",
              "        vertical-align: middle;\n",
              "    }\n",
              "\n",
              "    .dataframe tbody tr th {\n",
              "        vertical-align: top;\n",
              "    }\n",
              "\n",
              "    .dataframe thead th {\n",
              "        text-align: right;\n",
              "    }\n",
              "</style>\n",
              "<table border=\"1\" class=\"dataframe\">\n",
              "  <thead>\n",
              "    <tr style=\"text-align: right;\">\n",
              "      <th></th>\n",
              "      <th>w1</th>\n",
              "      <th>w2</th>\n",
              "      <th>token</th>\n",
              "      <th>input</th>\n",
              "    </tr>\n",
              "  </thead>\n",
              "  <tbody>\n",
              "    <tr>\n",
              "      <th>0</th>\n",
              "      <td>0.382269</td>\n",
              "      <td>0.415004</td>\n",
              "      <td>Troll2</td>\n",
              "      <td>input1</td>\n",
              "    </tr>\n",
              "    <tr>\n",
              "      <th>1</th>\n",
              "      <td>-0.117136</td>\n",
              "      <td>0.459306</td>\n",
              "      <td>is</td>\n",
              "      <td>input2</td>\n",
              "    </tr>\n",
              "    <tr>\n",
              "      <th>2</th>\n",
              "      <td>-0.109552</td>\n",
              "      <td>0.100895</td>\n",
              "      <td>great</td>\n",
              "      <td>input3</td>\n",
              "    </tr>\n",
              "    <tr>\n",
              "      <th>3</th>\n",
              "      <td>-0.243428</td>\n",
              "      <td>0.293641</td>\n",
              "      <td>Gymkata</td>\n",
              "      <td>input4</td>\n",
              "    </tr>\n",
              "  </tbody>\n",
              "</table>\n",
              "</div>\n",
              "    <div class=\"colab-df-buttons\">\n",
              "\n",
              "  <div class=\"colab-df-container\">\n",
              "    <button class=\"colab-df-convert\" onclick=\"convertToInteractive('df-93cae4a1-2ce9-4d21-a722-8b9e8e3376ab')\"\n",
              "            title=\"Convert this dataframe to an interactive table.\"\n",
              "            style=\"display:none;\">\n",
              "\n",
              "  <svg xmlns=\"http://www.w3.org/2000/svg\" height=\"24px\" viewBox=\"0 -960 960 960\">\n",
              "    <path d=\"M120-120v-720h720v720H120Zm60-500h600v-160H180v160Zm220 220h160v-160H400v160Zm0 220h160v-160H400v160ZM180-400h160v-160H180v160Zm440 0h160v-160H620v160ZM180-180h160v-160H180v160Zm440 0h160v-160H620v160Z\"/>\n",
              "  </svg>\n",
              "    </button>\n",
              "\n",
              "  <style>\n",
              "    .colab-df-container {\n",
              "      display:flex;\n",
              "      gap: 12px;\n",
              "    }\n",
              "\n",
              "    .colab-df-convert {\n",
              "      background-color: #E8F0FE;\n",
              "      border: none;\n",
              "      border-radius: 50%;\n",
              "      cursor: pointer;\n",
              "      display: none;\n",
              "      fill: #1967D2;\n",
              "      height: 32px;\n",
              "      padding: 0 0 0 0;\n",
              "      width: 32px;\n",
              "    }\n",
              "\n",
              "    .colab-df-convert:hover {\n",
              "      background-color: #E2EBFA;\n",
              "      box-shadow: 0px 1px 2px rgba(60, 64, 67, 0.3), 0px 1px 3px 1px rgba(60, 64, 67, 0.15);\n",
              "      fill: #174EA6;\n",
              "    }\n",
              "\n",
              "    .colab-df-buttons div {\n",
              "      margin-bottom: 4px;\n",
              "    }\n",
              "\n",
              "    [theme=dark] .colab-df-convert {\n",
              "      background-color: #3B4455;\n",
              "      fill: #D2E3FC;\n",
              "    }\n",
              "\n",
              "    [theme=dark] .colab-df-convert:hover {\n",
              "      background-color: #434B5C;\n",
              "      box-shadow: 0px 1px 3px 1px rgba(0, 0, 0, 0.15);\n",
              "      filter: drop-shadow(0px 1px 2px rgba(0, 0, 0, 0.3));\n",
              "      fill: #FFFFFF;\n",
              "    }\n",
              "  </style>\n",
              "\n",
              "    <script>\n",
              "      const buttonEl =\n",
              "        document.querySelector('#df-93cae4a1-2ce9-4d21-a722-8b9e8e3376ab button.colab-df-convert');\n",
              "      buttonEl.style.display =\n",
              "        google.colab.kernel.accessAllowed ? 'block' : 'none';\n",
              "\n",
              "      async function convertToInteractive(key) {\n",
              "        const element = document.querySelector('#df-93cae4a1-2ce9-4d21-a722-8b9e8e3376ab');\n",
              "        const dataTable =\n",
              "          await google.colab.kernel.invokeFunction('convertToInteractive',\n",
              "                                                    [key], {});\n",
              "        if (!dataTable) return;\n",
              "\n",
              "        const docLinkHtml = 'Like what you see? Visit the ' +\n",
              "          '<a target=\"_blank\" href=https://colab.research.google.com/notebooks/data_table.ipynb>data table notebook</a>'\n",
              "          + ' to learn more about interactive tables.';\n",
              "        element.innerHTML = '';\n",
              "        dataTable['output_type'] = 'display_data';\n",
              "        await google.colab.output.renderOutput(dataTable, element);\n",
              "        const docLink = document.createElement('div');\n",
              "        docLink.innerHTML = docLinkHtml;\n",
              "        element.appendChild(docLink);\n",
              "      }\n",
              "    </script>\n",
              "  </div>\n",
              "\n",
              "\n",
              "<div id=\"df-9859e1bf-4352-4991-9f8f-03bb32987cc2\">\n",
              "  <button class=\"colab-df-quickchart\" onclick=\"quickchart('df-9859e1bf-4352-4991-9f8f-03bb32987cc2')\"\n",
              "            title=\"Suggest charts\"\n",
              "            style=\"display:none;\">\n",
              "\n",
              "<svg xmlns=\"http://www.w3.org/2000/svg\" height=\"24px\"viewBox=\"0 0 24 24\"\n",
              "     width=\"24px\">\n",
              "    <g>\n",
              "        <path d=\"M19 3H5c-1.1 0-2 .9-2 2v14c0 1.1.9 2 2 2h14c1.1 0 2-.9 2-2V5c0-1.1-.9-2-2-2zM9 17H7v-7h2v7zm4 0h-2V7h2v10zm4 0h-2v-4h2v4z\"/>\n",
              "    </g>\n",
              "</svg>\n",
              "  </button>\n",
              "\n",
              "<style>\n",
              "  .colab-df-quickchart {\n",
              "      --bg-color: #E8F0FE;\n",
              "      --fill-color: #1967D2;\n",
              "      --hover-bg-color: #E2EBFA;\n",
              "      --hover-fill-color: #174EA6;\n",
              "      --disabled-fill-color: #AAA;\n",
              "      --disabled-bg-color: #DDD;\n",
              "  }\n",
              "\n",
              "  [theme=dark] .colab-df-quickchart {\n",
              "      --bg-color: #3B4455;\n",
              "      --fill-color: #D2E3FC;\n",
              "      --hover-bg-color: #434B5C;\n",
              "      --hover-fill-color: #FFFFFF;\n",
              "      --disabled-bg-color: #3B4455;\n",
              "      --disabled-fill-color: #666;\n",
              "  }\n",
              "\n",
              "  .colab-df-quickchart {\n",
              "    background-color: var(--bg-color);\n",
              "    border: none;\n",
              "    border-radius: 50%;\n",
              "    cursor: pointer;\n",
              "    display: none;\n",
              "    fill: var(--fill-color);\n",
              "    height: 32px;\n",
              "    padding: 0;\n",
              "    width: 32px;\n",
              "  }\n",
              "\n",
              "  .colab-df-quickchart:hover {\n",
              "    background-color: var(--hover-bg-color);\n",
              "    box-shadow: 0 1px 2px rgba(60, 64, 67, 0.3), 0 1px 3px 1px rgba(60, 64, 67, 0.15);\n",
              "    fill: var(--button-hover-fill-color);\n",
              "  }\n",
              "\n",
              "  .colab-df-quickchart-complete:disabled,\n",
              "  .colab-df-quickchart-complete:disabled:hover {\n",
              "    background-color: var(--disabled-bg-color);\n",
              "    fill: var(--disabled-fill-color);\n",
              "    box-shadow: none;\n",
              "  }\n",
              "\n",
              "  .colab-df-spinner {\n",
              "    border: 2px solid var(--fill-color);\n",
              "    border-color: transparent;\n",
              "    border-bottom-color: var(--fill-color);\n",
              "    animation:\n",
              "      spin 1s steps(1) infinite;\n",
              "  }\n",
              "\n",
              "  @keyframes spin {\n",
              "    0% {\n",
              "      border-color: transparent;\n",
              "      border-bottom-color: var(--fill-color);\n",
              "      border-left-color: var(--fill-color);\n",
              "    }\n",
              "    20% {\n",
              "      border-color: transparent;\n",
              "      border-left-color: var(--fill-color);\n",
              "      border-top-color: var(--fill-color);\n",
              "    }\n",
              "    30% {\n",
              "      border-color: transparent;\n",
              "      border-left-color: var(--fill-color);\n",
              "      border-top-color: var(--fill-color);\n",
              "      border-right-color: var(--fill-color);\n",
              "    }\n",
              "    40% {\n",
              "      border-color: transparent;\n",
              "      border-right-color: var(--fill-color);\n",
              "      border-top-color: var(--fill-color);\n",
              "    }\n",
              "    60% {\n",
              "      border-color: transparent;\n",
              "      border-right-color: var(--fill-color);\n",
              "    }\n",
              "    80% {\n",
              "      border-color: transparent;\n",
              "      border-right-color: var(--fill-color);\n",
              "      border-bottom-color: var(--fill-color);\n",
              "    }\n",
              "    90% {\n",
              "      border-color: transparent;\n",
              "      border-bottom-color: var(--fill-color);\n",
              "    }\n",
              "  }\n",
              "</style>\n",
              "\n",
              "  <script>\n",
              "    async function quickchart(key) {\n",
              "      const quickchartButtonEl =\n",
              "        document.querySelector('#' + key + ' button');\n",
              "      quickchartButtonEl.disabled = true;  // To prevent multiple clicks.\n",
              "      quickchartButtonEl.classList.add('colab-df-spinner');\n",
              "      try {\n",
              "        const charts = await google.colab.kernel.invokeFunction(\n",
              "            'suggestCharts', [key], {});\n",
              "      } catch (error) {\n",
              "        console.error('Error during call to suggestCharts:', error);\n",
              "      }\n",
              "      quickchartButtonEl.classList.remove('colab-df-spinner');\n",
              "      quickchartButtonEl.classList.add('colab-df-quickchart-complete');\n",
              "    }\n",
              "    (() => {\n",
              "      let quickchartButtonEl =\n",
              "        document.querySelector('#df-9859e1bf-4352-4991-9f8f-03bb32987cc2 button');\n",
              "      quickchartButtonEl.style.display =\n",
              "        google.colab.kernel.accessAllowed ? 'block' : 'none';\n",
              "    })();\n",
              "  </script>\n",
              "</div>\n",
              "\n",
              "  <div id=\"id_4fa95c85-bff0-4aee-b65a-768fa1ee99b6\">\n",
              "    <style>\n",
              "      .colab-df-generate {\n",
              "        background-color: #E8F0FE;\n",
              "        border: none;\n",
              "        border-radius: 50%;\n",
              "        cursor: pointer;\n",
              "        display: none;\n",
              "        fill: #1967D2;\n",
              "        height: 32px;\n",
              "        padding: 0 0 0 0;\n",
              "        width: 32px;\n",
              "      }\n",
              "\n",
              "      .colab-df-generate:hover {\n",
              "        background-color: #E2EBFA;\n",
              "        box-shadow: 0px 1px 2px rgba(60, 64, 67, 0.3), 0px 1px 3px 1px rgba(60, 64, 67, 0.15);\n",
              "        fill: #174EA6;\n",
              "      }\n",
              "\n",
              "      [theme=dark] .colab-df-generate {\n",
              "        background-color: #3B4455;\n",
              "        fill: #D2E3FC;\n",
              "      }\n",
              "\n",
              "      [theme=dark] .colab-df-generate:hover {\n",
              "        background-color: #434B5C;\n",
              "        box-shadow: 0px 1px 3px 1px rgba(0, 0, 0, 0.15);\n",
              "        filter: drop-shadow(0px 1px 2px rgba(0, 0, 0, 0.3));\n",
              "        fill: #FFFFFF;\n",
              "      }\n",
              "    </style>\n",
              "    <button class=\"colab-df-generate\" onclick=\"generateWithVariable('df')\"\n",
              "            title=\"Generate code using this dataframe.\"\n",
              "            style=\"display:none;\">\n",
              "\n",
              "  <svg xmlns=\"http://www.w3.org/2000/svg\" height=\"24px\"viewBox=\"0 0 24 24\"\n",
              "       width=\"24px\">\n",
              "    <path d=\"M7,19H8.4L18.45,9,17,7.55,7,17.6ZM5,21V16.75L18.45,3.32a2,2,0,0,1,2.83,0l1.4,1.43a1.91,1.91,0,0,1,.58,1.4,1.91,1.91,0,0,1-.58,1.4L9.25,21ZM18.45,9,17,7.55Zm-12,3A5.31,5.31,0,0,0,4.9,8.1,5.31,5.31,0,0,0,1,6.5,5.31,5.31,0,0,0,4.9,4.9,5.31,5.31,0,0,0,6.5,1,5.31,5.31,0,0,0,8.1,4.9,5.31,5.31,0,0,0,12,6.5,5.46,5.46,0,0,0,6.5,12Z\"/>\n",
              "  </svg>\n",
              "    </button>\n",
              "    <script>\n",
              "      (() => {\n",
              "      const buttonEl =\n",
              "        document.querySelector('#id_4fa95c85-bff0-4aee-b65a-768fa1ee99b6 button.colab-df-generate');\n",
              "      buttonEl.style.display =\n",
              "        google.colab.kernel.accessAllowed ? 'block' : 'none';\n",
              "\n",
              "      buttonEl.onclick = () => {\n",
              "        google.colab.notebook.generateWithVariable('df');\n",
              "      }\n",
              "      })();\n",
              "    </script>\n",
              "  </div>\n",
              "\n",
              "    </div>\n",
              "  </div>\n"
            ],
            "application/vnd.google.colaboratory.intrinsic+json": {
              "type": "dataframe",
              "variable_name": "df",
              "summary": "{\n  \"name\": \"df\",\n  \"rows\": 4,\n  \"fields\": [\n    {\n      \"column\": \"w1\",\n      \"properties\": {\n        \"dtype\": \"number\",\n        \"std\": 0.27639343658562837,\n        \"min\": -0.24342751502990723,\n        \"max\": 0.3822692632675171,\n        \"num_unique_values\": 4,\n        \"samples\": [\n          -0.11713624000549316,\n          -0.24342751502990723,\n          0.3822692632675171\n        ],\n        \"semantic_type\": \"\",\n        \"description\": \"\"\n      }\n    },\n    {\n      \"column\": \"w2\",\n      \"properties\": {\n        \"dtype\": \"number\",\n        \"std\": 0.16031463011613115,\n        \"min\": 0.10089534521102905,\n        \"max\": 0.45930564403533936,\n        \"num_unique_values\": 4,\n        \"samples\": [\n          0.45930564403533936,\n          0.2936413288116455,\n          0.4150039553642273\n        ],\n        \"semantic_type\": \"\",\n        \"description\": \"\"\n      }\n    },\n    {\n      \"column\": \"token\",\n      \"properties\": {\n        \"dtype\": \"string\",\n        \"num_unique_values\": 4,\n        \"samples\": [\n          \"is\",\n          \"Gymkata\",\n          \"Troll2\"\n        ],\n        \"semantic_type\": \"\",\n        \"description\": \"\"\n      }\n    },\n    {\n      \"column\": \"input\",\n      \"properties\": {\n        \"dtype\": \"string\",\n        \"num_unique_values\": 4,\n        \"samples\": [\n          \"input2\",\n          \"input4\",\n          \"input1\"\n        ],\n        \"semantic_type\": \"\",\n        \"description\": \"\"\n      }\n    }\n  ]\n}"
            }
          },
          "metadata": {},
          "execution_count": 8
        }
      ],
      "source": [
        "data = {\n",
        "    \"w1\": [modelFromScratch.input1_w1.item(), ## item() pulls out the tensor value as a float\n",
        "           modelFromScratch.input2_w1.item(),\n",
        "           modelFromScratch.input3_w1.item(),\n",
        "           modelFromScratch.input4_w1.item()],\n",
        "    \"w2\": [modelFromScratch.input1_w2.item(),\n",
        "           modelFromScratch.input2_w2.item(),\n",
        "           modelFromScratch.input3_w2.item(),\n",
        "           modelFromScratch.input4_w2.item()],\n",
        "    \"token\": [\"Troll2\", \"is\", \"great\", \"Gymkata\"],\n",
        "    \"input\": [\"input1\", \"input2\", \"input3\", \"input4\"]\n",
        "}\n",
        "df = pd.DataFrame(data)\n",
        "df"
      ]
    },
    {
      "cell_type": "markdown",
      "id": "fab0caa9-9108-4ced-92b2-a4a68ae4ebc2",
      "metadata": {
        "id": "fab0caa9-9108-4ced-92b2-a4a68ae4ebc2"
      },
      "source": [
        "Now let's use the dataframe we just created, `df`, and let's draw a scatter plot of the weights, `w1` and `w2`, for each token in the vocabulary."
      ]
    },
    {
      "cell_type": "code",
      "execution_count": 9,
      "id": "9dc9ea88-abcc-46d6-b257-a270d1ef5bf9",
      "metadata": {
        "colab": {
          "base_uri": "https://localhost:8080/",
          "height": 449
        },
        "id": "9dc9ea88-abcc-46d6-b257-a270d1ef5bf9",
        "outputId": "28304f72-1bc8-4842-9477-de415f7d2276"
      },
      "outputs": [
        {
          "output_type": "display_data",
          "data": {
            "text/plain": [
              "<Figure size 640x480 with 1 Axes>"
            ],
            "image/png": "[encoded data removed]"
          },
          "metadata": {}
        }
      ],
      "source": [
        "sns.scatterplot(data=df, x=\"w1\", y=\"w2\")\n",
        "\n",
        "## add the token that each dot represents to the graph\n",
        "# Troll 2\n",
        "plt.text(df.w1[0], df.w2[0], df.token[0],\n",
        "         horizontalalignment='left',\n",
        "         size='medium',\n",
        "         color='black',\n",
        "         weight='semibold')\n",
        "\n",
        "# is\n",
        "plt.text(df.w1[1], df.w2[1], df.token[1],\n",
        "         horizontalalignment='left',\n",
        "         size='medium',\n",
        "         color='black',\n",
        "         weight='semibold')\n",
        "\n",
        "# great\n",
        "plt.text(df.w1[2], df.w2[2], df.token[2],\n",
        "         horizontalalignment='left',\n",
        "         size='medium',\n",
        "         color='black',\n",
        "         weight='semibold')\n",
        "\n",
        "# Gymkata\n",
        "plt.text(df.w1[3], df.w2[3], df.token[3],\n",
        "         horizontalalignment='left',\n",
        "         size='medium',\n",
        "         color='black',\n",
        "         weight='semibold')\n",
        "\n",
        "plt.show()"
      ]
    },
    {
      "cell_type": "markdown",
      "id": "f1728efe-638f-4057-a581-ba1871e338c6",
      "metadata": {
        "id": "f1728efe-638f-4057-a581-ba1871e338c6"
      },
      "source": [
        "In the graph we can see that the weights for **Troll2** (representing **input1**) and **Gymkata** (representing **input4**) are no more similar to each other than the other inputs. However, by training this neural network, we hope that those weights will become similar. So lets create a `Trainer` and train the embedding network."
      ]
    },
    {
      "cell_type": "code",
      "execution_count": 10,
      "id": "bee5f1bc-fcef-4cac-b33e-1225ec246f2d",
      "metadata": {
        "colab": {
          "base_uri": "https://localhost:8080/",
          "height": 678,
          "referenced_widgets": [
            "832fcb7efdba48319662ed8f529ddd0e",
            "4963f469c17042f0a787cda0499b3158",
            "e26407350618428596432e823a6024c1",
            "1b872b310c744fd0b47ddbfedb6009db",
            "120c95dd5aa4415d9de834f930700f77",
            "87a274eadbcd4ca8a086f7bfe13c06ee",
            "7096d6614ed04f48a3c05eaf6d76c1f5",
            "b5700f97426c4dcba27d8dbb2f2a8cdc",
            "538eafeabb574fc6bdfee33c1da728b7",
            "5ecd26a7499a4321a9f862c3a082f2c6",
            "021840e19df1491aba871a8cfa7b87b0"
          ]
        },
        "id": "bee5f1bc-fcef-4cac-b33e-1225ec246f2d",
        "outputId": "4be6024b-4b48-4cef-9144-e348bd72e45a"
      },
      "outputs": [
        {
          "output_type": "stream",
          "name": "stderr",
          "text": [
            "INFO: GPU available: False, used: False\n",
            "INFO:lightning.pytorch.utilities.rank_zero:GPU available: False, used: False\n",
            "INFO: TPU available: False, using: 0 TPU cores\n",
            "INFO:lightning.pytorch.utilities.rank_zero:TPU available: False, using: 0 TPU cores\n",
            "INFO: IPU available: False, using: 0 IPUs\n",
            "INFO:lightning.pytorch.utilities.rank_zero:IPU available: False, using: 0 IPUs\n",
            "INFO: HPU available: False, using: 0 HPUs\n",
            "INFO:lightning.pytorch.utilities.rank_zero:HPU available: False, using: 0 HPUs\n",
            "WARNING: Missing logger folder: /content/lightning_logs\n",
            "WARNING:lightning.pytorch.loggers.tensorboard:Missing logger folder: /content/lightning_logs\n",
            "INFO: \n",
            "  | Name         | Type             | Params\n",
            "--------------------------------------------------\n",
            "0 | loss         | CrossEntropyLoss | 0     \n",
            "  | other params | n/a              | 16    \n",
            "--------------------------------------------------\n",
            "16        Trainable params\n",
            "0         Non-trainable params\n",
            "16        Total params\n",
            "0.000     Total estimated model params size (MB)\n",
            "INFO:lightning.pytorch.callbacks.model_summary:\n",
            "  | Name         | Type             | Params\n",
            "--------------------------------------------------\n",
            "0 | loss         | CrossEntropyLoss | 0     \n",
            "  | other params | n/a              | 16    \n",
            "--------------------------------------------------\n",
            "16        Trainable params\n",
            "0         Non-trainable params\n",
            "16        Total params\n",
            "0.000     Total estimated model params size (MB)\n",
            "/usr/local/lib/python3.10/dist-packages/lightning/pytorch/loops/fit_loop.py:298: The number of training batches (4) is smaller than the logging interval Trainer(log_every_n_steps=50). Set a lower value for log_every_n_steps if you want to see logs for the training epoch.\n"
          ]
        },
        {
          "output_type": "display_data",
          "data": {
            "text/plain": [
              "Training: |          | 0/? [00:00<?, ?it/s]"
            ],
            "application/vnd.jupyter.widget-view+json": {
              "version_major": 2,
              "version_minor": 0,
              "model_id": "832fcb7efdba48319662ed8f529ddd0e"
            }
          },
          "metadata": {}
        },
        {
          "output_type": "stream",
          "name": "stderr",
          "text": [
            "INFO: `Trainer.fit` stopped: `max_epochs=100` reached.\n",
            "INFO:lightning.pytorch.utilities.rank_zero:`Trainer.fit` stopped: `max_epochs=100` reached.\n"
          ]
        }
      ],
      "source": [
        "trainer = L.Trainer(max_epochs=100)  # max_epochs=100\n",
        "trainer.fit(modelFromScratch, train_dataloaders=dataloader)"
      ]
    },
    {
      "cell_type": "code",
      "source": [
        "inputs = torch.tensor([[1., 0., 0., 0.], # one-hot-encoding for Troll 2...\n",
        "              [0., 1., 0., 0.], # ...is\n",
        "              [0., 0., 1., 0.], # ...great\n",
        "              [0., 0., 0., 1.]]) # ...Gymkata\n",
        "\n",
        "labelss = torch.tensor([1, # \"Troll 2\" is followed by \"is\"\n",
        "              2, # \"is\" is followed by \"great\"\n",
        "              3, # \"great\" isn't followed by anything, but we'll pretend it was followed by \"Gymkata\"\n",
        "              1])"
      ],
      "metadata": {
        "id": "0We7klZgr3WK"
      },
      "id": "0We7klZgr3WK",
      "execution_count": 11,
      "outputs": []
    },
    {
      "cell_type": "code",
      "source": [
        "datasetf = TensorDataset(inputs, labelss)\n",
        "dataloaderf = DataLoader(datasetf)"
      ],
      "metadata": {
        "id": "-87KBpvcsWku"
      },
      "id": "-87KBpvcsWku",
      "execution_count": 12,
      "outputs": []
    },
    {
      "cell_type": "code",
      "source": [
        "trainer = L.Trainer(max_epochs=1) # max_epochs=100\n",
        "trainer.fit(modelFromScratch, train_dataloaders=dataloaderf)"
      ],
      "metadata": {
        "colab": {
          "base_uri": "https://localhost:8080/",
          "height": 603,
          "referenced_widgets": [
            "043d8f8d11404d8f968ad56dc693db2d",
            "a4d6f650fa394d31a987b1f692874b0c",
            "544d03872be7433e9a0314384da83508",
            "b54c2b4b843a490eaa0c0778d3d5fecb",
            "73c24e552d644d79a94da616eba8c2d5",
            "c9e2ef49427f4e029b45cccb6c7611b9",
            "1b12bf7a88e44604be154f902e07213f",
            "acd8fadd417d48cf81e2280de2f3ce38",
            "10558466b2b1439186c25b7999a45569",
            "10d71129230a4d7aba1bcbede8d93c5f",
            "a61dfbe72f3c4fca8f10200741645a28"
          ]
        },
        "id": "q422nUF5r1w5",
        "outputId": "ac2068a0-c20f-40a0-e162-b954aecb44f4"
      },
      "id": "q422nUF5r1w5",
      "execution_count": 13,
      "outputs": [
        {
          "output_type": "stream",
          "name": "stderr",
          "text": [
            "INFO: GPU available: False, used: False\n",
            "INFO:lightning.pytorch.utilities.rank_zero:GPU available: False, used: False\n",
            "INFO: TPU available: False, using: 0 TPU cores\n",
            "INFO:lightning.pytorch.utilities.rank_zero:TPU available: False, using: 0 TPU cores\n",
            "INFO: IPU available: False, using: 0 IPUs\n",
            "INFO:lightning.pytorch.utilities.rank_zero:IPU available: False, using: 0 IPUs\n",
            "INFO: HPU available: False, using: 0 HPUs\n",
            "INFO:lightning.pytorch.utilities.rank_zero:HPU available: False, using: 0 HPUs\n",
            "INFO: \n",
            "  | Name         | Type             | Params\n",
            "--------------------------------------------------\n",
            "0 | loss         | CrossEntropyLoss | 0     \n",
            "  | other params | n/a              | 16    \n",
            "--------------------------------------------------\n",
            "16        Trainable params\n",
            "0         Non-trainable params\n",
            "16        Total params\n",
            "0.000     Total estimated model params size (MB)\n",
            "INFO:lightning.pytorch.callbacks.model_summary:\n",
            "  | Name         | Type             | Params\n",
            "--------------------------------------------------\n",
            "0 | loss         | CrossEntropyLoss | 0     \n",
            "  | other params | n/a              | 16    \n",
            "--------------------------------------------------\n",
            "16        Trainable params\n",
            "0         Non-trainable params\n",
            "16        Total params\n",
            "0.000     Total estimated model params size (MB)\n"
          ]
        },
        {
          "output_type": "display_data",
          "data": {
            "text/plain": [
              "Training: |          | 0/? [00:00<?, ?it/s]"
            ],
            "application/vnd.jupyter.widget-view+json": {
              "version_major": 2,
              "version_minor": 0,
              "model_id": "043d8f8d11404d8f968ad56dc693db2d"
            }
          },
          "metadata": {}
        },
        {
          "output_type": "stream",
          "name": "stderr",
          "text": [
            "INFO: `Trainer.fit` stopped: `max_epochs=1` reached.\n",
            "INFO:lightning.pytorch.utilities.rank_zero:`Trainer.fit` stopped: `max_epochs=1` reached.\n"
          ]
        }
      ]
    },
    {
      "cell_type": "markdown",
      "source": [
        "<font color=\"red\">**補充LOSS範例**</font>\n",
        "\n",
        "```python\n",
        "輸入0  = torch.tensor([0.0163, 0.2050, 0.1693, 0.0629])\n",
        "標籤0  = torch.tensor([0., 1., 0., 0.])\n",
        "標籤0s = torch.tensor(1)\n",
        "\n",
        "輸入1 = torch.tensor([[0.0163, 0.2050, 0.1693, 0.0629]])\n",
        "標籤1 = torch.tensor([[0., 1., 0., 0.]])\n",
        "標籤1s = torch.tensor([1])\n",
        "\n",
        "cel = torch.nn.CrossEntropyLoss()\n",
        "\n",
        "loss1=cel(輸入0,標籤0)\n",
        "loss2=cel(輸入0,標籤0s)\n",
        "loss3=cel(輸入1,標籤1)\n",
        "loss4=cel(輸入1,標籤1s)\n",
        "## 結果loss1=loss2=loss3=loss4 = tensor(1.2976)\n",
        "## shape 均是 torch.Size([])\n",
        "\n",
        "```\n",
        "\n"
      ],
      "metadata": {
        "id": "UEn7mzt0wfpf"
      },
      "id": "UEn7mzt0wfpf"
    },
    {
      "cell_type": "markdown",
      "id": "44c39ac0-9583-4326-9461-9977ed81e78c",
      "metadata": {
        "id": "44c39ac0-9583-4326-9461-9977ed81e78c"
      },
      "source": [
        "Now, with the trained neural network, let's print out the values for each weight..."
      ]
    },
    {
      "cell_type": "code",
      "execution_count": 14,
      "id": "64b1d6a9-b64e-49f7-a133-573f0da0249f",
      "metadata": {
        "id": "64b1d6a9-b64e-49f7-a133-573f0da0249f",
        "colab": {
          "base_uri": "https://localhost:8080/"
        },
        "outputId": "d6fe8d74-4354-444e-85b1-9819b893a46a"
      },
      "outputs": [
        {
          "output_type": "stream",
          "name": "stdout",
          "text": [
            "After optimization, the parameters are...\n",
            "input1_w1 tensor(2.2800)\n",
            "input1_w2 tensor(2.2000)\n",
            "input2_w1 tensor(-2.3600)\n",
            "input2_w2 tensor(2.5000)\n",
            "input3_w1 tensor(-2.1400)\n",
            "input3_w2 tensor(-2.2800)\n",
            "input4_w1 tensor(1.7500)\n",
            "input4_w2 tensor(1.9500)\n",
            "output1_w1 tensor(1.1700)\n",
            "output1_w2 tensor(-1.8700)\n",
            "output2_w1 tensor(3.4400)\n",
            "output2_w2 tensor(1.4300)\n",
            "output3_w1 tensor(-1.8000)\n",
            "output3_w2 tensor(0.9700)\n",
            "output4_w1 tensor(-1.6600)\n",
            "output4_w2 tensor(-3.5600)\n"
          ]
        }
      ],
      "source": [
        "print(\"After optimization, the parameters are...\")\n",
        "for name, param in modelFromScratch.named_parameters():\n",
        "    print(name, torch.round(param.data, decimals=2))"
      ]
    },
    {
      "cell_type": "markdown",
      "id": "bd9d6e38-3d85-4487-946c-e269ad2abe62",
      "metadata": {
        "id": "bd9d6e38-3d85-4487-946c-e269ad2abe62"
      },
      "source": [
        "...and after **100** epochs, the weights for **input1** (`w1 = 2.0244` and `w2 = 1.9754`) are now relatively similar to the weights for **input2** (`w1 = 1.7264` and `w2 = 1.9912`). Just like before, we can illustrate how similar, and different, the embeddings are for all four tokens by plotting them on a graph that has the **w1** values on the x-axis and the **w2** values on the y-axis.\n",
        "\n",
        "First, let's create the pandas `DataFrame()`..."
      ]
    },
    {
      "cell_type": "code",
      "execution_count": 15,
      "id": "9d379cdb-4f2e-4d02-8f56-a2e2928b76c9",
      "metadata": {
        "id": "9d379cdb-4f2e-4d02-8f56-a2e2928b76c9",
        "colab": {
          "base_uri": "https://localhost:8080/",
          "height": 175
        },
        "outputId": "b722c8e0-1fbb-4566-ad41-4d258477265b"
      },
      "outputs": [
        {
          "output_type": "execute_result",
          "data": {
            "text/plain": [
              "         w1        w2    token   input\n",
              "0  2.277082  2.202584   Troll2  input1\n",
              "1 -2.361044  2.497674       is  input2\n",
              "2 -2.144572 -2.278031    great  input3\n",
              "3  1.749406  1.952343  Gymkata  input4"
            ],
            "text/html": [
              "\n",
              "  <div id=\"df-65a29e3e-6959-4c42-abb6-7b942e62afb6\" class=\"colab-df-container\">\n",
              "    <div>\n",
              "<style scoped>\n",
              "    .dataframe tbody tr th:only-of-type {\n",
              "        vertical-align: middle;\n",
              "    }\n",
              "\n",
              "    .dataframe tbody tr th {\n",
              "        vertical-align: top;\n",
              "    }\n",
              "\n",
              "    .dataframe thead th {\n",
              "        text-align: right;\n",
              "    }\n",
              "</style>\n",
              "<table border=\"1\" class=\"dataframe\">\n",
              "  <thead>\n",
              "    <tr style=\"text-align: right;\">\n",
              "      <th></th>\n",
              "      <th>w1</th>\n",
              "      <th>w2</th>\n",
              "      <th>token</th>\n",
              "      <th>input</th>\n",
              "    </tr>\n",
              "  </thead>\n",
              "  <tbody>\n",
              "    <tr>\n",
              "      <th>0</th>\n",
              "      <td>2.277082</td>\n",
              "      <td>2.202584</td>\n",
              "      <td>Troll2</td>\n",
              "      <td>input1</td>\n",
              "    </tr>\n",
              "    <tr>\n",
              "      <th>1</th>\n",
              "      <td>-2.361044</td>\n",
              "      <td>2.497674</td>\n",
              "      <td>is</td>\n",
              "      <td>input2</td>\n",
              "    </tr>\n",
              "    <tr>\n",
              "      <th>2</th>\n",
              "      <td>-2.144572</td>\n",
              "      <td>-2.278031</td>\n",
              "      <td>great</td>\n",
              "      <td>input3</td>\n",
              "    </tr>\n",
              "    <tr>\n",
              "      <th>3</th>\n",
              "      <td>1.749406</td>\n",
              "      <td>1.952343</td>\n",
              "      <td>Gymkata</td>\n",
              "      <td>input4</td>\n",
              "    </tr>\n",
              "  </tbody>\n",
              "</table>\n",
              "</div>\n",
              "    <div class=\"colab-df-buttons\">\n",
              "\n",
              "  <div class=\"colab-df-container\">\n",
              "    <button class=\"colab-df-convert\" onclick=\"convertToInteractive('df-65a29e3e-6959-4c42-abb6-7b942e62afb6')\"\n",
              "            title=\"Convert this dataframe to an interactive table.\"\n",
              "            style=\"display:none;\">\n",
              "\n",
              "  <svg xmlns=\"http://www.w3.org/2000/svg\" height=\"24px\" viewBox=\"0 -960 960 960\">\n",
              "    <path d=\"M120-120v-720h720v720H120Zm60-500h600v-160H180v160Zm220 220h160v-160H400v160Zm0 220h160v-160H400v160ZM180-400h160v-160H180v160Zm440 0h160v-160H620v160ZM180-180h160v-160H180v160Zm440 0h160v-160H620v160Z\"/>\n",
              "  </svg>\n",
              "    </button>\n",
              "\n",
              "  <style>\n",
              "    .colab-df-container {\n",
              "      display:flex;\n",
              "      gap: 12px;\n",
              "    }\n",
              "\n",
              "    .colab-df-convert {\n",
              "      background-color: #E8F0FE;\n",
              "      border: none;\n",
              "      border-radius: 50%;\n",
              "      cursor: pointer;\n",
              "      display: none;\n",
              "      fill: #1967D2;\n",
              "      height: 32px;\n",
              "      padding: 0 0 0 0;\n",
              "      width: 32px;\n",
              "    }\n",
              "\n",
              "    .colab-df-convert:hover {\n",
              "      background-color: #E2EBFA;\n",
              "      box-shadow: 0px 1px 2px rgba(60, 64, 67, 0.3), 0px 1px 3px 1px rgba(60, 64, 67, 0.15);\n",
              "      fill: #174EA6;\n",
              "    }\n",
              "\n",
              "    .colab-df-buttons div {\n",
              "      margin-bottom: 4px;\n",
              "    }\n",
              "\n",
              "    [theme=dark] .colab-df-convert {\n",
              "      background-color: #3B4455;\n",
              "      fill: #D2E3FC;\n",
              "    }\n",
              "\n",
              "    [theme=dark] .colab-df-convert:hover {\n",
              "      background-color: #434B5C;\n",
              "      box-shadow: 0px 1px 3px 1px rgba(0, 0, 0, 0.15);\n",
              "      filter: drop-shadow(0px 1px 2px rgba(0, 0, 0, 0.3));\n",
              "      fill: #FFFFFF;\n",
              "    }\n",
              "  </style>\n",
              "\n",
              "    <script>\n",
              "      const buttonEl =\n",
              "        document.querySelector('#df-65a29e3e-6959-4c42-abb6-7b942e62afb6 button.colab-df-convert');\n",
              "      buttonEl.style.display =\n",
              "        google.colab.kernel.accessAllowed ? 'block' : 'none';\n",
              "\n",
              "      async function convertToInteractive(key) {\n",
              "        const element = document.querySelector('#df-65a29e3e-6959-4c42-abb6-7b942e62afb6');\n",
              "        const dataTable =\n",
              "          await google.colab.kernel.invokeFunction('convertToInteractive',\n",
              "                                                    [key], {});\n",
              "        if (!dataTable) return;\n",
              "\n",
              "        const docLinkHtml = 'Like what you see? Visit the ' +\n",
              "          '<a target=\"_blank\" href=https://colab.research.google.com/notebooks/data_table.ipynb>data table notebook</a>'\n",
              "          + ' to learn more about interactive tables.';\n",
              "        element.innerHTML = '';\n",
              "        dataTable['output_type'] = 'display_data';\n",
              "        await google.colab.output.renderOutput(dataTable, element);\n",
              "        const docLink = document.createElement('div');\n",
              "        docLink.innerHTML = docLinkHtml;\n",
              "        element.appendChild(docLink);\n",
              "      }\n",
              "    </script>\n",
              "  </div>\n",
              "\n",
              "\n",
              "<div id=\"df-a3fb9b26-f917-4ec8-b455-bf1f78c455f2\">\n",
              "  <button class=\"colab-df-quickchart\" onclick=\"quickchart('df-a3fb9b26-f917-4ec8-b455-bf1f78c455f2')\"\n",
              "            title=\"Suggest charts\"\n",
              "            style=\"display:none;\">\n",
              "\n",
              "<svg xmlns=\"http://www.w3.org/2000/svg\" height=\"24px\"viewBox=\"0 0 24 24\"\n",
              "     width=\"24px\">\n",
              "    <g>\n",
              "        <path d=\"M19 3H5c-1.1 0-2 .9-2 2v14c0 1.1.9 2 2 2h14c1.1 0 2-.9 2-2V5c0-1.1-.9-2-2-2zM9 17H7v-7h2v7zm4 0h-2V7h2v10zm4 0h-2v-4h2v4z\"/>\n",
              "    </g>\n",
              "</svg>\n",
              "  </button>\n",
              "\n",
              "<style>\n",
              "  .colab-df-quickchart {\n",
              "      --bg-color: #E8F0FE;\n",
              "      --fill-color: #1967D2;\n",
              "      --hover-bg-color: #E2EBFA;\n",
              "      --hover-fill-color: #174EA6;\n",
              "      --disabled-fill-color: #AAA;\n",
              "      --disabled-bg-color: #DDD;\n",
              "  }\n",
              "\n",
              "  [theme=dark] .colab-df-quickchart {\n",
              "      --bg-color: #3B4455;\n",
              "      --fill-color: #D2E3FC;\n",
              "      --hover-bg-color: #434B5C;\n",
              "      --hover-fill-color: #FFFFFF;\n",
              "      --disabled-bg-color: #3B4455;\n",
              "      --disabled-fill-color: #666;\n",
              "  }\n",
              "\n",
              "  .colab-df-quickchart {\n",
              "    background-color: var(--bg-color);\n",
              "    border: none;\n",
              "    border-radius: 50%;\n",
              "    cursor: pointer;\n",
              "    display: none;\n",
              "    fill: var(--fill-color);\n",
              "    height: 32px;\n",
              "    padding: 0;\n",
              "    width: 32px;\n",
              "  }\n",
              "\n",
              "  .colab-df-quickchart:hover {\n",
              "    background-color: var(--hover-bg-color);\n",
              "    box-shadow: 0 1px 2px rgba(60, 64, 67, 0.3), 0 1px 3px 1px rgba(60, 64, 67, 0.15);\n",
              "    fill: var(--button-hover-fill-color);\n",
              "  }\n",
              "\n",
              "  .colab-df-quickchart-complete:disabled,\n",
              "  .colab-df-quickchart-complete:disabled:hover {\n",
              "    background-color: var(--disabled-bg-color);\n",
              "    fill: var(--disabled-fill-color);\n",
              "    box-shadow: none;\n",
              "  }\n",
              "\n",
              "  .colab-df-spinner {\n",
              "    border: 2px solid var(--fill-color);\n",
              "    border-color: transparent;\n",
              "    border-bottom-color: var(--fill-color);\n",
              "    animation:\n",
              "      spin 1s steps(1) infinite;\n",
              "  }\n",
              "\n",
              "  @keyframes spin {\n",
              "    0% {\n",
              "      border-color: transparent;\n",
              "      border-bottom-color: var(--fill-color);\n",
              "      border-left-color: var(--fill-color);\n",
              "    }\n",
              "    20% {\n",
              "      border-color: transparent;\n",
              "      border-left-color: var(--fill-color);\n",
              "      border-top-color: var(--fill-color);\n",
              "    }\n",
              "    30% {\n",
              "      border-color: transparent;\n",
              "      border-left-color: var(--fill-color);\n",
              "      border-top-color: var(--fill-color);\n",
              "      border-right-color: var(--fill-color);\n",
              "    }\n",
              "    40% {\n",
              "      border-color: transparent;\n",
              "      border-right-color: var(--fill-color);\n",
              "      border-top-color: var(--fill-color);\n",
              "    }\n",
              "    60% {\n",
              "      border-color: transparent;\n",
              "      border-right-color: var(--fill-color);\n",
              "    }\n",
              "    80% {\n",
              "      border-color: transparent;\n",
              "      border-right-color: var(--fill-color);\n",
              "      border-bottom-color: var(--fill-color);\n",
              "    }\n",
              "    90% {\n",
              "      border-color: transparent;\n",
              "      border-bottom-color: var(--fill-color);\n",
              "    }\n",
              "  }\n",
              "</style>\n",
              "\n",
              "  <script>\n",
              "    async function quickchart(key) {\n",
              "      const quickchartButtonEl =\n",
              "        document.querySelector('#' + key + ' button');\n",
              "      quickchartButtonEl.disabled = true;  // To prevent multiple clicks.\n",
              "      quickchartButtonEl.classList.add('colab-df-spinner');\n",
              "      try {\n",
              "        const charts = await google.colab.kernel.invokeFunction(\n",
              "            'suggestCharts', [key], {});\n",
              "      } catch (error) {\n",
              "        console.error('Error during call to suggestCharts:', error);\n",
              "      }\n",
              "      quickchartButtonEl.classList.remove('colab-df-spinner');\n",
              "      quickchartButtonEl.classList.add('colab-df-quickchart-complete');\n",
              "    }\n",
              "    (() => {\n",
              "      let quickchartButtonEl =\n",
              "        document.querySelector('#df-a3fb9b26-f917-4ec8-b455-bf1f78c455f2 button');\n",
              "      quickchartButtonEl.style.display =\n",
              "        google.colab.kernel.accessAllowed ? 'block' : 'none';\n",
              "    })();\n",
              "  </script>\n",
              "</div>\n",
              "\n",
              "  <div id=\"id_16d71c65-bdd1-4497-bf1a-21504a611c68\">\n",
              "    <style>\n",
              "      .colab-df-generate {\n",
              "        background-color: #E8F0FE;\n",
              "        border: none;\n",
              "        border-radius: 50%;\n",
              "        cursor: pointer;\n",
              "        display: none;\n",
              "        fill: #1967D2;\n",
              "        height: 32px;\n",
              "        padding: 0 0 0 0;\n",
              "        width: 32px;\n",
              "      }\n",
              "\n",
              "      .colab-df-generate:hover {\n",
              "        background-color: #E2EBFA;\n",
              "        box-shadow: 0px 1px 2px rgba(60, 64, 67, 0.3), 0px 1px 3px 1px rgba(60, 64, 67, 0.15);\n",
              "        fill: #174EA6;\n",
              "      }\n",
              "\n",
              "      [theme=dark] .colab-df-generate {\n",
              "        background-color: #3B4455;\n",
              "        fill: #D2E3FC;\n",
              "      }\n",
              "\n",
              "      [theme=dark] .colab-df-generate:hover {\n",
              "        background-color: #434B5C;\n",
              "        box-shadow: 0px 1px 3px 1px rgba(0, 0, 0, 0.15);\n",
              "        filter: drop-shadow(0px 1px 2px rgba(0, 0, 0, 0.3));\n",
              "        fill: #FFFFFF;\n",
              "      }\n",
              "    </style>\n",
              "    <button class=\"colab-df-generate\" onclick=\"generateWithVariable('df')\"\n",
              "            title=\"Generate code using this dataframe.\"\n",
              "            style=\"display:none;\">\n",
              "\n",
              "  <svg xmlns=\"http://www.w3.org/2000/svg\" height=\"24px\"viewBox=\"0 0 24 24\"\n",
              "       width=\"24px\">\n",
              "    <path d=\"M7,19H8.4L18.45,9,17,7.55,7,17.6ZM5,21V16.75L18.45,3.32a2,2,0,0,1,2.83,0l1.4,1.43a1.91,1.91,0,0,1,.58,1.4,1.91,1.91,0,0,1-.58,1.4L9.25,21ZM18.45,9,17,7.55Zm-12,3A5.31,5.31,0,0,0,4.9,8.1,5.31,5.31,0,0,0,1,6.5,5.31,5.31,0,0,0,4.9,4.9,5.31,5.31,0,0,0,6.5,1,5.31,5.31,0,0,0,8.1,4.9,5.31,5.31,0,0,0,12,6.5,5.46,5.46,0,0,0,6.5,12Z\"/>\n",
              "  </svg>\n",
              "    </button>\n",
              "    <script>\n",
              "      (() => {\n",
              "      const buttonEl =\n",
              "        document.querySelector('#id_16d71c65-bdd1-4497-bf1a-21504a611c68 button.colab-df-generate');\n",
              "      buttonEl.style.display =\n",
              "        google.colab.kernel.accessAllowed ? 'block' : 'none';\n",
              "\n",
              "      buttonEl.onclick = () => {\n",
              "        google.colab.notebook.generateWithVariable('df');\n",
              "      }\n",
              "      })();\n",
              "    </script>\n",
              "  </div>\n",
              "\n",
              "    </div>\n",
              "  </div>\n"
            ],
            "application/vnd.google.colaboratory.intrinsic+json": {
              "type": "dataframe",
              "variable_name": "df",
              "summary": "{\n  \"name\": \"df\",\n  \"rows\": 4,\n  \"fields\": [\n    {\n      \"column\": \"w1\",\n      \"properties\": {\n        \"dtype\": \"number\",\n        \"std\": 2.4739882677614093,\n        \"min\": -2.361044406890869,\n        \"max\": 2.2770824432373047,\n        \"num_unique_values\": 4,\n        \"samples\": [\n          -2.361044406890869,\n          1.7494055032730103,\n          2.2770824432373047\n        ],\n        \"semantic_type\": \"\",\n        \"description\": \"\"\n      }\n    },\n    {\n      \"column\": \"w2\",\n      \"properties\": {\n        \"dtype\": \"number\",\n        \"std\": 2.2588053278834375,\n        \"min\": -2.2780308723449707,\n        \"max\": 2.497673988342285,\n        \"num_unique_values\": 4,\n        \"samples\": [\n          2.497673988342285,\n          1.952343225479126,\n          2.2025842666625977\n        ],\n        \"semantic_type\": \"\",\n        \"description\": \"\"\n      }\n    },\n    {\n      \"column\": \"token\",\n      \"properties\": {\n        \"dtype\": \"string\",\n        \"num_unique_values\": 4,\n        \"samples\": [\n          \"is\",\n          \"Gymkata\",\n          \"Troll2\"\n        ],\n        \"semantic_type\": \"\",\n        \"description\": \"\"\n      }\n    },\n    {\n      \"column\": \"input\",\n      \"properties\": {\n        \"dtype\": \"string\",\n        \"num_unique_values\": 4,\n        \"samples\": [\n          \"input2\",\n          \"input4\",\n          \"input1\"\n        ],\n        \"semantic_type\": \"\",\n        \"description\": \"\"\n      }\n    }\n  ]\n}"
            }
          },
          "metadata": {},
          "execution_count": 15
        }
      ],
      "source": [
        "data = {\n",
        "    \"w1\": [modelFromScratch.input1_w1.item(), ## item() pulls out the tensor value as a float\n",
        "           modelFromScratch.input2_w1.item(),\n",
        "           modelFromScratch.input3_w1.item(),\n",
        "           modelFromScratch.input4_w1.item()],\n",
        "    \"w2\": [modelFromScratch.input1_w2.item(),\n",
        "           modelFromScratch.input2_w2.item(),\n",
        "           modelFromScratch.input3_w2.item(),\n",
        "           modelFromScratch.input4_w2.item()],\n",
        "    \"token\": [\"Troll2\", \"is\", \"great\", \"Gymkata\"],\n",
        "    \"input\": [\"input1\", \"input2\", \"input3\", \"input4\"]\n",
        "}\n",
        "df = pd.DataFrame(data)\n",
        "df"
      ]
    },
    {
      "cell_type": "markdown",
      "id": "57088407-e05e-4fa8-990e-1df8d63c1dc3",
      "metadata": {
        "id": "57088407-e05e-4fa8-990e-1df8d63c1dc3"
      },
      "source": [
        "...and then draw the scatterplot..."
      ]
    },
    {
      "cell_type": "code",
      "execution_count": 16,
      "id": "f0eddf08-b972-4530-866e-797ef0dad6cf",
      "metadata": {
        "id": "f0eddf08-b972-4530-866e-797ef0dad6cf",
        "colab": {
          "base_uri": "https://localhost:8080/",
          "height": 449
        },
        "outputId": "3c2033b2-6267-47f6-cdee-7d157fd1f5cc"
      },
      "outputs": [
        {
          "output_type": "display_data",
          "data": {
            "text/plain": [
              "<Figure size 640x480 with 1 Axes>"
            ],
            "image/png": "[encoded data removed]"
          },
          "metadata": {}
        }
      ],
      "source": [
        "sns.scatterplot(data=df, x=\"w1\", y=\"w2\")\n",
        "\n",
        "## NOTE: For Troll2 and and Gymkata, we're adding offsets to where to print the tokens because otherwise\n",
        "## they will be so close to each other that they will overlap and be unreadable.\n",
        "\n",
        "## Troll 2\n",
        "plt.text(df.w1[0]-0.2, df.w2[0]+0.1, df.token[0],\n",
        "         horizontalalignment='left',\n",
        "         size='medium',\n",
        "         color='black',\n",
        "         weight='semibold')\n",
        "\n",
        "## is\n",
        "plt.text(df.w1[1], df.w2[1], df.token[1],\n",
        "         horizontalalignment='left',\n",
        "         size='medium',\n",
        "         color='black',\n",
        "         weight='semibold')\n",
        "\n",
        "## great\n",
        "plt.text(df.w1[2], df.w2[2], df.token[2],\n",
        "         horizontalalignment='left',\n",
        "         size='medium',\n",
        "         color='black',\n",
        "         weight='semibold')\n",
        "\n",
        "## gymkata\n",
        "plt.text(df.w1[3]-0.3, df.w2[3]-0.3, df.token[3],\n",
        "         horizontalalignment='left',\n",
        "         size='medium',\n",
        "         color='black',\n",
        "         weight='semibold')\n",
        "\n",
        "plt.show()"
      ]
    },
    {
      "cell_type": "markdown",
      "id": "7e9fca6a-21a6-4de4-b9cf-87818bbe3ac7",
      "metadata": {
        "id": "7e9fca6a-21a6-4de4-b9cf-87818bbe3ac7"
      },
      "source": [
        "...and after training the neural network, we see that the weights for **Troll2** and **Gymkata** are relatively similar compared to the weights for the other tokens. This is because both tokens have the same context.\n",
        "\n",
        "Lastly, we can verify that each token in the vacabulary correctly predicts the token that follows it by running the **one-hot-encoded** input values for each token through the neural network."
      ]
    },
    {
      "cell_type": "code",
      "execution_count": 17,
      "id": "e2445794-e8b6-4c2d-8b96-297544b21384",
      "metadata": {
        "id": "e2445794-e8b6-4c2d-8b96-297544b21384",
        "colab": {
          "base_uri": "https://localhost:8080/"
        },
        "outputId": "55b8879f-d91b-40f8-cb92-a5ce9a79e21a"
      },
      "outputs": [
        {
          "output_type": "stream",
          "name": "stdout",
          "text": [
            "tensor([0., 1., 0., 0.], grad_fn=<RoundBackward1>)\n",
            "tensor([0., 0., 1., 0.], grad_fn=<RoundBackward1>)\n",
            "tensor([0., 0., 0., 1.], grad_fn=<RoundBackward1>)\n",
            "tensor([0., 1., 0., 0.], grad_fn=<RoundBackward1>)\n"
          ]
        }
      ],
      "source": [
        "## Let's see what the model predicts\n",
        "\n",
        "## First, let's create a softmax object...\n",
        "softmax = nn.Softmax(dim=0) ## dim=0 applies softmax to rows, dim=1 applies softmax to columns\n",
        "\n",
        "## Now let's...\n",
        "\n",
        "## print the predictions for \"Troll2\"\n",
        "print(torch.round(softmax(modelFromScratch(torch.tensor([[1., 0., 0., 0.]]))),\n",
        "                  decimals=2))\n",
        "\n",
        "## print the predictions for \"is\"\n",
        "print(torch.round(softmax(modelFromScratch(torch.tensor([[0., 1., 0., 0.]]))),\n",
        "                  decimals=2))\n",
        "\n",
        "## print the predictions for \"great\"\n",
        "print(torch.round(softmax(modelFromScratch(torch.tensor([[0., 0., 1., 0.]]))),\n",
        "                  decimals=2))\n",
        "\n",
        "## print the predictions for \"Gymkata\"\n",
        "print(torch.round(softmax(modelFromScratch(torch.tensor([[0., 0., 0., 1.]]))),\n",
        "                  decimals=2))"
      ]
    },
    {
      "cell_type": "markdown",
      "id": "17bf631d-fb57-4b67-b172-16facae4099f",
      "metadata": {
        "id": "17bf631d-fb57-4b67-b172-16facae4099f"
      },
      "source": [
        "And we see that all tokens correctly predict (give the highest probability to) the token that follows them. In this case, both **Troll2** and **Gymkata** both correctly predict the second token, **is**, with probability **1.0**.\n",
        "\n",
        "## BAM!!!"
      ]
    },
    {
      "cell_type": "markdown",
      "id": "e1f30e61-b0dc-4e8f-9aa3-63ab0ba96759",
      "metadata": {
        "id": "e1f30e61-b0dc-4e8f-9aa3-63ab0ba96759"
      },
      "source": [
        "----"
      ]
    },
    {
      "cell_type": "markdown",
      "id": "839e1b56-7043-4ab9-9a23-e2341b35528e",
      "metadata": {
        "id": "839e1b56-7043-4ab9-9a23-e2341b35528e"
      },
      "source": [
        "<a id=\"build_entirely_with_linear\"></a>\n",
        "# Build and train a Word Embedding Unit using `nn.Linear()`\n",
        "\n",
        "Now that we can make a Word Embedding network from scratch, let's simplify the code using `nn.Linear()`. `nn.Linear()` will make initialzing the tensors super easy and the math we do in the `forward()` step will also be much simpler."
      ]
    },
    {
      "cell_type": "code",
      "execution_count": 18,
      "id": "1cb7df2f-c0f7-4abf-93ea-f9a3dd956aed",
      "metadata": {
        "id": "1cb7df2f-c0f7-4abf-93ea-f9a3dd956aed"
      },
      "outputs": [],
      "source": [
        "class WordEmbeddingWithLinear(L.LightningModule):\n",
        "\n",
        "    def __init__(self):\n",
        "\n",
        "        super().__init__()\n",
        "\n",
        "        ## The first thing we do is set the seed for the random number generorator.\n",
        "        ## This ensures that when someone creates a model from this class, that model\n",
        "        ## will start off with the exact same random numbers as I started out with when\n",
        "        ## I created this demo. At least, I hope that is what happens!!! :)\n",
        "        L.seed_everything(seed=42)\n",
        "\n",
        "        ## In order to initialize weights from the 4 inputs (one for each unique word)\n",
        "        ##       to the 2 nodes in the hidden layer (top and bottom nodes), we simply make\n",
        "        ##       one call to nn.Linear() where in_features specifies the number of\n",
        "        ##       inputs and out_features specifies the number of nodes we\n",
        "        ##       are connecting them to. Since we don't want to use bias terms,\n",
        "        ##       we set bias=False\n",
        "        self.input_to_hidden = nn.Linear(in_features=4, out_features=2, bias=False)\n",
        "        ## Now, in order to connect the 2 nodes in the hidden layer to the 4 outputs, we\n",
        "        ##       make one call to nn.Linear(), where in_features specifies the number of\n",
        "        ##       nodes in hidden layer and out_features specifies the number of output values we want.\n",
        "        ##       And again, we can set bias=False\n",
        "        self.hidden_to_output = nn.Linear(in_features=2, out_features=4, bias=False)\n",
        "\n",
        "        ## We'll use CrossEntropyLoss in training_step()\n",
        "        self.loss = nn.CrossEntropyLoss()\n",
        "\n",
        "\n",
        "    def forward(self, input):\n",
        "\n",
        "        ## Unlike before, where we did all the math by hand, now we can\n",
        "        ## simply pass the input values to the weights we created with nn.Linear()\n",
        "        ## between the input and the hidden layer and save the result in \"hidden\"\n",
        "        ##\n",
        "        ## NOTE: Unlike before, we don't need to strip off the extra brackets from the\n",
        "        ##       input. the Linear ojbect knows what to do.\n",
        "        hidden = self.input_to_hidden(input)\n",
        "\n",
        "        ## Then we pass \"hidden\" to the weights we created with nn.Linear()\n",
        "        ## between the hidden layer and the output.\n",
        "        output_values = self.hidden_to_output(hidden)\n",
        "\n",
        "        return(output_values)\n",
        "\n",
        "\n",
        "    def configure_optimizers(self):\n",
        "        # this configures the optimizer we want to use for backpropagation.\n",
        "\n",
        "        return Adam(self.parameters(), lr=0.1)\n",
        "\n",
        "\n",
        "    def training_step(self, batch, batch_idx):\n",
        "        # take a step during gradient descent.\n",
        "\n",
        "        input_i, label_i = batch # collect input\n",
        "        output_i = self.forward(input_i) # run input through the neural network\n",
        "        loss = self.loss(output_i, label_i) ## loss = cross entropy\n",
        "\n",
        "        return loss"
      ]
    },
    {
      "cell_type": "markdown",
      "id": "7bb2afd6-c1f0-4805-8916-8fb3e92a65c8",
      "metadata": {
        "id": "7bb2afd6-c1f0-4805-8916-8fb3e92a65c8"
      },
      "source": [
        "Now that we have created our new `class`, `WordEmbeddingWithLinear`, let's create a model and print out the initial parameters..."
      ]
    },
    {
      "cell_type": "code",
      "execution_count": 19,
      "id": "7c00e9a7-3a31-4e22-8e78-f7bdb5b0e6de",
      "metadata": {
        "id": "7c00e9a7-3a31-4e22-8e78-f7bdb5b0e6de",
        "colab": {
          "base_uri": "https://localhost:8080/"
        },
        "outputId": "bb3d711c-ef14-41df-cfac-e9797ab4b983"
      },
      "outputs": [
        {
          "output_type": "stream",
          "name": "stderr",
          "text": [
            "INFO: Seed set to 42\n",
            "INFO:lightning.fabric.utilities.seed:Seed set to 42\n"
          ]
        },
        {
          "output_type": "stream",
          "name": "stdout",
          "text": [
            "Before optimization, the parameters are...\n",
            "input_to_hidden.weight tensor([[ 0.3800,  0.4200, -0.1200,  0.4600],\n",
            "        [-0.1100,  0.1000, -0.2400,  0.2900]])\n",
            "hidden_to_output.weight tensor([[ 0.6200, -0.5200],\n",
            "        [ 0.6100,  0.1300],\n",
            "        [ 0.5200,  0.1000],\n",
            "        [ 0.3400, -0.1000]])\n"
          ]
        }
      ],
      "source": [
        "modelLinear = WordEmbeddingWithLinear()\n",
        "\n",
        "print(\"Before optimization, the parameters are...\")\n",
        "for name, param in modelLinear.named_parameters():\n",
        "    print(name, torch.round(param.data, decimals=2))"
      ]
    },
    {
      "cell_type": "markdown",
      "id": "d06f215c-dc33-4dfb-8b5f-1e3b4fb6d4bf",
      "metadata": {
        "id": "d06f215c-dc33-4dfb-8b5f-1e3b4fb6d4bf"
      },
      "source": [
        "...and create a `DataFrame` with the embedding values..."
      ]
    },
    {
      "cell_type": "code",
      "execution_count": 20,
      "id": "23465b4e-5332-431f-8cc2-9d468939a618",
      "metadata": {
        "id": "23465b4e-5332-431f-8cc2-9d468939a618",
        "colab": {
          "base_uri": "https://localhost:8080/",
          "height": 175
        },
        "outputId": "7dd7d1f0-46ab-41e1-ee2a-2022820d32ae"
      },
      "outputs": [
        {
          "output_type": "execute_result",
          "data": {
            "text/plain": [
              "         w1        w2    token   input\n",
              "0  0.382269 -0.109552   Troll2  input1\n",
              "1  0.415004  0.100895       is  input2\n",
              "2 -0.117136 -0.243428    great  input3\n",
              "3  0.459306  0.293641  Gymkata  input4"
            ],
            "text/html": [
              "\n",
              "  <div id=\"df-46663f89-ca69-4d0b-ae9d-b3fd496648c2\" class=\"colab-df-container\">\n",
              "    <div>\n",
              "<style scoped>\n",
              "    .dataframe tbody tr th:only-of-type {\n",
              "        vertical-align: middle;\n",
              "    }\n",
              "\n",
              "    .dataframe tbody tr th {\n",
              "        vertical-align: top;\n",
              "    }\n",
              "\n",
              "    .dataframe thead th {\n",
              "        text-align: right;\n",
              "    }\n",
              "</style>\n",
              "<table border=\"1\" class=\"dataframe\">\n",
              "  <thead>\n",
              "    <tr style=\"text-align: right;\">\n",
              "      <th></th>\n",
              "      <th>w1</th>\n",
              "      <th>w2</th>\n",
              "      <th>token</th>\n",
              "      <th>input</th>\n",
              "    </tr>\n",
              "  </thead>\n",
              "  <tbody>\n",
              "    <tr>\n",
              "      <th>0</th>\n",
              "      <td>0.382269</td>\n",
              "      <td>-0.109552</td>\n",
              "      <td>Troll2</td>\n",
              "      <td>input1</td>\n",
              "    </tr>\n",
              "    <tr>\n",
              "      <th>1</th>\n",
              "      <td>0.415004</td>\n",
              "      <td>0.100895</td>\n",
              "      <td>is</td>\n",
              "      <td>input2</td>\n",
              "    </tr>\n",
              "    <tr>\n",
              "      <th>2</th>\n",
              "      <td>-0.117136</td>\n",
              "      <td>-0.243428</td>\n",
              "      <td>great</td>\n",
              "      <td>input3</td>\n",
              "    </tr>\n",
              "    <tr>\n",
              "      <th>3</th>\n",
              "      <td>0.459306</td>\n",
              "      <td>0.293641</td>\n",
              "      <td>Gymkata</td>\n",
              "      <td>input4</td>\n",
              "    </tr>\n",
              "  </tbody>\n",
              "</table>\n",
              "</div>\n",
              "    <div class=\"colab-df-buttons\">\n",
              "\n",
              "  <div class=\"colab-df-container\">\n",
              "    <button class=\"colab-df-convert\" onclick=\"convertToInteractive('df-46663f89-ca69-4d0b-ae9d-b3fd496648c2')\"\n",
              "            title=\"Convert this dataframe to an interactive table.\"\n",
              "            style=\"display:none;\">\n",
              "\n",
              "  <svg xmlns=\"http://www.w3.org/2000/svg\" height=\"24px\" viewBox=\"0 -960 960 960\">\n",
              "    <path d=\"M120-120v-720h720v720H120Zm60-500h600v-160H180v160Zm220 220h160v-160H400v160Zm0 220h160v-160H400v160ZM180-400h160v-160H180v160Zm440 0h160v-160H620v160ZM180-180h160v-160H180v160Zm440 0h160v-160H620v160Z\"/>\n",
              "  </svg>\n",
              "    </button>\n",
              "\n",
              "  <style>\n",
              "    .colab-df-container {\n",
              "      display:flex;\n",
              "      gap: 12px;\n",
              "    }\n",
              "\n",
              "    .colab-df-convert {\n",
              "      background-color: #E8F0FE;\n",
              "      border: none;\n",
              "      border-radius: 50%;\n",
              "      cursor: pointer;\n",
              "      display: none;\n",
              "      fill: #1967D2;\n",
              "      height: 32px;\n",
              "      padding: 0 0 0 0;\n",
              "      width: 32px;\n",
              "    }\n",
              "\n",
              "    .colab-df-convert:hover {\n",
              "      background-color: #E2EBFA;\n",
              "      box-shadow: 0px 1px 2px rgba(60, 64, 67, 0.3), 0px 1px 3px 1px rgba(60, 64, 67, 0.15);\n",
              "      fill: #174EA6;\n",
              "    }\n",
              "\n",
              "    .colab-df-buttons div {\n",
              "      margin-bottom: 4px;\n",
              "    }\n",
              "\n",
              "    [theme=dark] .colab-df-convert {\n",
              "      background-color: #3B4455;\n",
              "      fill: #D2E3FC;\n",
              "    }\n",
              "\n",
              "    [theme=dark] .colab-df-convert:hover {\n",
              "      background-color: #434B5C;\n",
              "      box-shadow: 0px 1px 3px 1px rgba(0, 0, 0, 0.15);\n",
              "      filter: drop-shadow(0px 1px 2px rgba(0, 0, 0, 0.3));\n",
              "      fill: #FFFFFF;\n",
              "    }\n",
              "  </style>\n",
              "\n",
              "    <script>\n",
              "      const buttonEl =\n",
              "        document.querySelector('#df-46663f89-ca69-4d0b-ae9d-b3fd496648c2 button.colab-df-convert');\n",
              "      buttonEl.style.display =\n",
              "        google.colab.kernel.accessAllowed ? 'block' : 'none';\n",
              "\n",
              "      async function convertToInteractive(key) {\n",
              "        const element = document.querySelector('#df-46663f89-ca69-4d0b-ae9d-b3fd496648c2');\n",
              "        const dataTable =\n",
              "          await google.colab.kernel.invokeFunction('convertToInteractive',\n",
              "                                                    [key], {});\n",
              "        if (!dataTable) return;\n",
              "\n",
              "        const docLinkHtml = 'Like what you see? Visit the ' +\n",
              "          '<a target=\"_blank\" href=https://colab.research.google.com/notebooks/data_table.ipynb>data table notebook</a>'\n",
              "          + ' to learn more about interactive tables.';\n",
              "        element.innerHTML = '';\n",
              "        dataTable['output_type'] = 'display_data';\n",
              "        await google.colab.output.renderOutput(dataTable, element);\n",
              "        const docLink = document.createElement('div');\n",
              "        docLink.innerHTML = docLinkHtml;\n",
              "        element.appendChild(docLink);\n",
              "      }\n",
              "    </script>\n",
              "  </div>\n",
              "\n",
              "\n",
              "<div id=\"df-234bea12-b3e1-4d29-9b48-d5c2f725fb52\">\n",
              "  <button class=\"colab-df-quickchart\" onclick=\"quickchart('df-234bea12-b3e1-4d29-9b48-d5c2f725fb52')\"\n",
              "            title=\"Suggest charts\"\n",
              "            style=\"display:none;\">\n",
              "\n",
              "<svg xmlns=\"http://www.w3.org/2000/svg\" height=\"24px\"viewBox=\"0 0 24 24\"\n",
              "     width=\"24px\">\n",
              "    <g>\n",
              "        <path d=\"M19 3H5c-1.1 0-2 .9-2 2v14c0 1.1.9 2 2 2h14c1.1 0 2-.9 2-2V5c0-1.1-.9-2-2-2zM9 17H7v-7h2v7zm4 0h-2V7h2v10zm4 0h-2v-4h2v4z\"/>\n",
              "    </g>\n",
              "</svg>\n",
              "  </button>\n",
              "\n",
              "<style>\n",
              "  .colab-df-quickchart {\n",
              "      --bg-color: #E8F0FE;\n",
              "      --fill-color: #1967D2;\n",
              "      --hover-bg-color: #E2EBFA;\n",
              "      --hover-fill-color: #174EA6;\n",
              "      --disabled-fill-color: #AAA;\n",
              "      --disabled-bg-color: #DDD;\n",
              "  }\n",
              "\n",
              "  [theme=dark] .colab-df-quickchart {\n",
              "      --bg-color: #3B4455;\n",
              "      --fill-color: #D2E3FC;\n",
              "      --hover-bg-color: #434B5C;\n",
              "      --hover-fill-color: #FFFFFF;\n",
              "      --disabled-bg-color: #3B4455;\n",
              "      --disabled-fill-color: #666;\n",
              "  }\n",
              "\n",
              "  .colab-df-quickchart {\n",
              "    background-color: var(--bg-color);\n",
              "    border: none;\n",
              "    border-radius: 50%;\n",
              "    cursor: pointer;\n",
              "    display: none;\n",
              "    fill: var(--fill-color);\n",
              "    height: 32px;\n",
              "    padding: 0;\n",
              "    width: 32px;\n",
              "  }\n",
              "\n",
              "  .colab-df-quickchart:hover {\n",
              "    background-color: var(--hover-bg-color);\n",
              "    box-shadow: 0 1px 2px rgba(60, 64, 67, 0.3), 0 1px 3px 1px rgba(60, 64, 67, 0.15);\n",
              "    fill: var(--button-hover-fill-color);\n",
              "  }\n",
              "\n",
              "  .colab-df-quickchart-complete:disabled,\n",
              "  .colab-df-quickchart-complete:disabled:hover {\n",
              "    background-color: var(--disabled-bg-color);\n",
              "    fill: var(--disabled-fill-color);\n",
              "    box-shadow: none;\n",
              "  }\n",
              "\n",
              "  .colab-df-spinner {\n",
              "    border: 2px solid var(--fill-color);\n",
              "    border-color: transparent;\n",
              "    border-bottom-color: var(--fill-color);\n",
              "    animation:\n",
              "      spin 1s steps(1) infinite;\n",
              "  }\n",
              "\n",
              "  @keyframes spin {\n",
              "    0% {\n",
              "      border-color: transparent;\n",
              "      border-bottom-color: var(--fill-color);\n",
              "      border-left-color: var(--fill-color);\n",
              "    }\n",
              "    20% {\n",
              "      border-color: transparent;\n",
              "      border-left-color: var(--fill-color);\n",
              "      border-top-color: var(--fill-color);\n",
              "    }\n",
              "    30% {\n",
              "      border-color: transparent;\n",
              "      border-left-color: var(--fill-color);\n",
              "      border-top-color: var(--fill-color);\n",
              "      border-right-color: var(--fill-color);\n",
              "    }\n",
              "    40% {\n",
              "      border-color: transparent;\n",
              "      border-right-color: var(--fill-color);\n",
              "      border-top-color: var(--fill-color);\n",
              "    }\n",
              "    60% {\n",
              "      border-color: transparent;\n",
              "      border-right-color: var(--fill-color);\n",
              "    }\n",
              "    80% {\n",
              "      border-color: transparent;\n",
              "      border-right-color: var(--fill-color);\n",
              "      border-bottom-color: var(--fill-color);\n",
              "    }\n",
              "    90% {\n",
              "      border-color: transparent;\n",
              "      border-bottom-color: var(--fill-color);\n",
              "    }\n",
              "  }\n",
              "</style>\n",
              "\n",
              "  <script>\n",
              "    async function quickchart(key) {\n",
              "      const quickchartButtonEl =\n",
              "        document.querySelector('#' + key + ' button');\n",
              "      quickchartButtonEl.disabled = true;  // To prevent multiple clicks.\n",
              "      quickchartButtonEl.classList.add('colab-df-spinner');\n",
              "      try {\n",
              "        const charts = await google.colab.kernel.invokeFunction(\n",
              "            'suggestCharts', [key], {});\n",
              "      } catch (error) {\n",
              "        console.error('Error during call to suggestCharts:', error);\n",
              "      }\n",
              "      quickchartButtonEl.classList.remove('colab-df-spinner');\n",
              "      quickchartButtonEl.classList.add('colab-df-quickchart-complete');\n",
              "    }\n",
              "    (() => {\n",
              "      let quickchartButtonEl =\n",
              "        document.querySelector('#df-234bea12-b3e1-4d29-9b48-d5c2f725fb52 button');\n",
              "      quickchartButtonEl.style.display =\n",
              "        google.colab.kernel.accessAllowed ? 'block' : 'none';\n",
              "    })();\n",
              "  </script>\n",
              "</div>\n",
              "\n",
              "  <div id=\"id_174f8be4-5c50-47e7-987e-2e50ebe8d2a8\">\n",
              "    <style>\n",
              "      .colab-df-generate {\n",
              "        background-color: #E8F0FE;\n",
              "        border: none;\n",
              "        border-radius: 50%;\n",
              "        cursor: pointer;\n",
              "        display: none;\n",
              "        fill: #1967D2;\n",
              "        height: 32px;\n",
              "        padding: 0 0 0 0;\n",
              "        width: 32px;\n",
              "      }\n",
              "\n",
              "      .colab-df-generate:hover {\n",
              "        background-color: #E2EBFA;\n",
              "        box-shadow: 0px 1px 2px rgba(60, 64, 67, 0.3), 0px 1px 3px 1px rgba(60, 64, 67, 0.15);\n",
              "        fill: #174EA6;\n",
              "      }\n",
              "\n",
              "      [theme=dark] .colab-df-generate {\n",
              "        background-color: #3B4455;\n",
              "        fill: #D2E3FC;\n",
              "      }\n",
              "\n",
              "      [theme=dark] .colab-df-generate:hover {\n",
              "        background-color: #434B5C;\n",
              "        box-shadow: 0px 1px 3px 1px rgba(0, 0, 0, 0.15);\n",
              "        filter: drop-shadow(0px 1px 2px rgba(0, 0, 0, 0.3));\n",
              "        fill: #FFFFFF;\n",
              "      }\n",
              "    </style>\n",
              "    <button class=\"colab-df-generate\" onclick=\"generateWithVariable('df')\"\n",
              "            title=\"Generate code using this dataframe.\"\n",
              "            style=\"display:none;\">\n",
              "\n",
              "  <svg xmlns=\"http://www.w3.org/2000/svg\" height=\"24px\"viewBox=\"0 0 24 24\"\n",
              "       width=\"24px\">\n",
              "    <path d=\"M7,19H8.4L18.45,9,17,7.55,7,17.6ZM5,21V16.75L18.45,3.32a2,2,0,0,1,2.83,0l1.4,1.43a1.91,1.91,0,0,1,.58,1.4,1.91,1.91,0,0,1-.58,1.4L9.25,21ZM18.45,9,17,7.55Zm-12,3A5.31,5.31,0,0,0,4.9,8.1,5.31,5.31,0,0,0,1,6.5,5.31,5.31,0,0,0,4.9,4.9,5.31,5.31,0,0,0,6.5,1,5.31,5.31,0,0,0,8.1,4.9,5.31,5.31,0,0,0,12,6.5,5.46,5.46,0,0,0,6.5,12Z\"/>\n",
              "  </svg>\n",
              "    </button>\n",
              "    <script>\n",
              "      (() => {\n",
              "      const buttonEl =\n",
              "        document.querySelector('#id_174f8be4-5c50-47e7-987e-2e50ebe8d2a8 button.colab-df-generate');\n",
              "      buttonEl.style.display =\n",
              "        google.colab.kernel.accessAllowed ? 'block' : 'none';\n",
              "\n",
              "      buttonEl.onclick = () => {\n",
              "        google.colab.notebook.generateWithVariable('df');\n",
              "      }\n",
              "      })();\n",
              "    </script>\n",
              "  </div>\n",
              "\n",
              "    </div>\n",
              "  </div>\n"
            ],
            "application/vnd.google.colaboratory.intrinsic+json": {
              "type": "dataframe",
              "variable_name": "df",
              "summary": "{\n  \"name\": \"df\",\n  \"rows\": 4,\n  \"fields\": [\n    {\n      \"column\": \"w1\",\n      \"properties\": {\n        \"dtype\": \"float32\",\n        \"num_unique_values\": 4,\n        \"samples\": [\n          0.4150039553642273,\n          0.45930564403533936,\n          0.3822692632675171\n        ],\n        \"semantic_type\": \"\",\n        \"description\": \"\"\n      }\n    },\n    {\n      \"column\": \"w2\",\n      \"properties\": {\n        \"dtype\": \"float32\",\n        \"num_unique_values\": 4,\n        \"samples\": [\n          0.10089534521102905,\n          0.2936413288116455,\n          -0.10955178737640381\n        ],\n        \"semantic_type\": \"\",\n        \"description\": \"\"\n      }\n    },\n    {\n      \"column\": \"token\",\n      \"properties\": {\n        \"dtype\": \"string\",\n        \"num_unique_values\": 4,\n        \"samples\": [\n          \"is\",\n          \"Gymkata\",\n          \"Troll2\"\n        ],\n        \"semantic_type\": \"\",\n        \"description\": \"\"\n      }\n    },\n    {\n      \"column\": \"input\",\n      \"properties\": {\n        \"dtype\": \"string\",\n        \"num_unique_values\": 4,\n        \"samples\": [\n          \"input2\",\n          \"input4\",\n          \"input1\"\n        ],\n        \"semantic_type\": \"\",\n        \"description\": \"\"\n      }\n    }\n  ]\n}"
            }
          },
          "metadata": {},
          "execution_count": 20
        }
      ],
      "source": [
        "data = {\n",
        "    ## NOTE: Unlike before, when we called item() on each individual\n",
        "    ##       Weight, now that we are using nn.Linear, we access the\n",
        "    ##       Weights with \".weight\". We then have to remove the gradients\n",
        "    ##       associated with each Weight, so we also call .detach().\n",
        "    ##       Lastly, we then convert the tensor to a numpy array with\n",
        "    ##       numpy().\n",
        "    \"w1\": modelLinear.input_to_hidden.weight.detach()[0].numpy(), # [0] = Weights to top activation function\n",
        "    \"w2\": modelLinear.input_to_hidden.weight.detach()[1].numpy(), # [1] = Weights to bottom activation function\n",
        "    \"token\": [\"Troll2\", \"is\", \"great\", \"Gymkata\"],\n",
        "    \"input\": [\"input1\", \"input2\", \"input3\", \"input4\"]\n",
        "}\n",
        "df = pd.DataFrame(data)\n",
        "df"
      ]
    },
    {
      "cell_type": "markdown",
      "id": "e87ae627-6ed2-4417-a81d-9efd8e4858fc",
      "metadata": {
        "id": "e87ae627-6ed2-4417-a81d-9efd8e4858fc"
      },
      "source": [
        "...and draw a scatter plot of the initial, unoptimized, embedding values..."
      ]
    },
    {
      "cell_type": "code",
      "execution_count": 21,
      "id": "2d2b359f-3a3f-4835-84ef-d45600badd21",
      "metadata": {
        "id": "2d2b359f-3a3f-4835-84ef-d45600badd21",
        "colab": {
          "base_uri": "https://localhost:8080/",
          "height": 449
        },
        "outputId": "38464c86-76e0-4083-8192-2dad01eefe43"
      },
      "outputs": [
        {
          "output_type": "display_data",
          "data": {
            "text/plain": [
              "<Figure size 640x480 with 1 Axes>"
            ],
            "image/png": "[encoded data removed]"
          },
          "metadata": {}
        }
      ],
      "source": [
        "sns.scatterplot(data=df, x=\"w1\", y=\"w2\")\n",
        "\n",
        "## add the token each dot represents to the graph\n",
        "\n",
        "## Troll 2\n",
        "plt.text(df.w1[0], df.w2[0], df.token[0],\n",
        "         horizontalalignment='left',\n",
        "         size='medium',\n",
        "         color='black',\n",
        "         weight='semibold')\n",
        "## is\n",
        "plt.text(df.w1[1], df.w2[1], df.token[1],\n",
        "         horizontalalignment='left',\n",
        "         size='medium',\n",
        "         color='black',\n",
        "         weight='semibold')\n",
        "## great\n",
        "plt.text(df.w1[2], df.w2[2], df.token[2],\n",
        "         horizontalalignment='left',\n",
        "         size='medium',\n",
        "         color='black',\n",
        "         weight='semibold')\n",
        "\n",
        "## Gymkata\n",
        "plt.text(df.w1[3], df.w2[3], df.token[3],\n",
        "         horizontalalignment='left',\n",
        "         size='medium',\n",
        "         color='black',\n",
        "         weight='semibold')\n",
        "\n",
        "plt.show()"
      ]
    },
    {
      "cell_type": "markdown",
      "id": "bb8409a0-453a-459a-8475-ecafbed5d910",
      "metadata": {
        "id": "bb8409a0-453a-459a-8475-ecafbed5d910"
      },
      "source": [
        "...and we see that the embedding values for **Troll 2** and **Gymkata** are relatively different. So let's train the model and see if they become more similar."
      ]
    },
    {
      "cell_type": "code",
      "execution_count": 22,
      "id": "e2862797-d87e-434f-9758-698cccb51d66",
      "metadata": {
        "id": "e2862797-d87e-434f-9758-698cccb51d66",
        "colab": {
          "base_uri": "https://localhost:8080/",
          "height": 678,
          "referenced_widgets": [
            "e38b70a4ef0a41a3a87f0ace75226fec",
            "c0176a2140304b798ed1a317f4db5e5e",
            "880c590f1dc84d979b989a46ccfc8e2a",
            "f32b853875264748896ad8d2324baf1b",
            "1718080bbaad47f1b55267e0474f82a7",
            "138a2db0e89a4a7ea0408a3251343930",
            "a5eda21d41cb4e6a88203a39ede30bfa",
            "30e84caf3cfc4cc4a5e037694678b437",
            "41d739f9dbdc448581bbf3b103fe554a",
            "1a2cdaccc3d74645915a13ec97d5ebde",
            "35828feacfbc47929d90cd27c1fae2c3"
          ]
        },
        "outputId": "5baec777-43dd-4159-a4e1-94814a69187f"
      },
      "outputs": [
        {
          "output_type": "stream",
          "name": "stderr",
          "text": [
            "INFO: GPU available: False, used: False\n",
            "INFO:lightning.pytorch.utilities.rank_zero:GPU available: False, used: False\n",
            "INFO: TPU available: False, using: 0 TPU cores\n",
            "INFO:lightning.pytorch.utilities.rank_zero:TPU available: False, using: 0 TPU cores\n",
            "INFO: IPU available: False, using: 0 IPUs\n",
            "INFO:lightning.pytorch.utilities.rank_zero:IPU available: False, using: 0 IPUs\n",
            "INFO: HPU available: False, using: 0 HPUs\n",
            "INFO:lightning.pytorch.utilities.rank_zero:HPU available: False, using: 0 HPUs\n",
            "INFO: \n",
            "  | Name             | Type             | Params\n",
            "------------------------------------------------------\n",
            "0 | input_to_hidden  | Linear           | 8     \n",
            "1 | hidden_to_output | Linear           | 8     \n",
            "2 | loss             | CrossEntropyLoss | 0     \n",
            "------------------------------------------------------\n",
            "16        Trainable params\n",
            "0         Non-trainable params\n",
            "16        Total params\n",
            "0.000     Total estimated model params size (MB)\n",
            "INFO:lightning.pytorch.callbacks.model_summary:\n",
            "  | Name             | Type             | Params\n",
            "------------------------------------------------------\n",
            "0 | input_to_hidden  | Linear           | 8     \n",
            "1 | hidden_to_output | Linear           | 8     \n",
            "2 | loss             | CrossEntropyLoss | 0     \n",
            "------------------------------------------------------\n",
            "16        Trainable params\n",
            "0         Non-trainable params\n",
            "16        Total params\n",
            "0.000     Total estimated model params size (MB)\n",
            "/usr/local/lib/python3.10/dist-packages/lightning/pytorch/loops/fit_loop.py:298: The number of training batches (4) is smaller than the logging interval Trainer(log_every_n_steps=50). Set a lower value for log_every_n_steps if you want to see logs for the training epoch.\n"
          ]
        },
        {
          "output_type": "display_data",
          "data": {
            "text/plain": [
              "Training: |          | 0/? [00:00<?, ?it/s]"
            ],
            "application/vnd.jupyter.widget-view+json": {
              "version_major": 2,
              "version_minor": 0,
              "model_id": "e38b70a4ef0a41a3a87f0ace75226fec"
            }
          },
          "metadata": {}
        },
        {
          "output_type": "stream",
          "name": "stderr",
          "text": [
            "INFO: `Trainer.fit` stopped: `max_epochs=100` reached.\n",
            "INFO:lightning.pytorch.utilities.rank_zero:`Trainer.fit` stopped: `max_epochs=100` reached.\n"
          ]
        }
      ],
      "source": [
        "trainer = L.Trainer(max_epochs=100)\n",
        "trainer.fit(modelLinear, train_dataloaders=dataloader)"
      ]
    },
    {
      "cell_type": "code",
      "execution_count": 23,
      "id": "50ba39de-2c04-4f78-b619-c673c328beec",
      "metadata": {
        "id": "50ba39de-2c04-4f78-b619-c673c328beec",
        "colab": {
          "base_uri": "https://localhost:8080/"
        },
        "outputId": "c0c394e8-cec3-4faa-a84f-0aa2caea9f81"
      },
      "outputs": [
        {
          "output_type": "stream",
          "name": "stdout",
          "text": [
            "After optimization, the parameters are...\n",
            "input_to_hidden.weight tensor([[ 2.5104, -1.0177, -1.9742,  2.4355],\n",
            "        [-0.0688,  2.4824, -1.8190, -0.2228]])\n",
            "hidden_to_output.weight tensor([[-0.3022, -1.0102],\n",
            "        [ 3.2008, -0.3850],\n",
            "        [-0.6693,  2.1814],\n",
            "        [-2.6841, -2.9578]])\n"
          ]
        }
      ],
      "source": [
        "print(\"After optimization, the parameters are...\")\n",
        "for name, param in modelLinear.named_parameters():\n",
        "    print(name, param.data)"
      ]
    },
    {
      "cell_type": "code",
      "execution_count": 24,
      "id": "9b7cab77-be81-42a4-ad47-90cde6c8fccc",
      "metadata": {
        "id": "9b7cab77-be81-42a4-ad47-90cde6c8fccc",
        "colab": {
          "base_uri": "https://localhost:8080/",
          "height": 175
        },
        "outputId": "edd12f9c-dfc1-42a1-c025-dac382ff09ad"
      },
      "outputs": [
        {
          "output_type": "execute_result",
          "data": {
            "text/plain": [
              "         w1        w2    token   input\n",
              "0  2.510447 -0.068821   Troll2  input1\n",
              "1 -1.017650  2.482441       is  input2\n",
              "2 -1.974159 -1.818951    great  input3\n",
              "3  2.435523 -0.222808  Gymkata  input4"
            ],
            "text/html": [
              "\n",
              "  <div id=\"df-b8ee1ba7-70c3-49cd-a479-86a21cf3ef2d\" class=\"colab-df-container\">\n",
              "    <div>\n",
              "<style scoped>\n",
              "    .dataframe tbody tr th:only-of-type {\n",
              "        vertical-align: middle;\n",
              "    }\n",
              "\n",
              "    .dataframe tbody tr th {\n",
              "        vertical-align: top;\n",
              "    }\n",
              "\n",
              "    .dataframe thead th {\n",
              "        text-align: right;\n",
              "    }\n",
              "</style>\n",
              "<table border=\"1\" class=\"dataframe\">\n",
              "  <thead>\n",
              "    <tr style=\"text-align: right;\">\n",
              "      <th></th>\n",
              "      <th>w1</th>\n",
              "      <th>w2</th>\n",
              "      <th>token</th>\n",
              "      <th>input</th>\n",
              "    </tr>\n",
              "  </thead>\n",
              "  <tbody>\n",
              "    <tr>\n",
              "      <th>0</th>\n",
              "      <td>2.510447</td>\n",
              "      <td>-0.068821</td>\n",
              "      <td>Troll2</td>\n",
              "      <td>input1</td>\n",
              "    </tr>\n",
              "    <tr>\n",
              "      <th>1</th>\n",
              "      <td>-1.017650</td>\n",
              "      <td>2.482441</td>\n",
              "      <td>is</td>\n",
              "      <td>input2</td>\n",
              "    </tr>\n",
              "    <tr>\n",
              "      <th>2</th>\n",
              "      <td>-1.974159</td>\n",
              "      <td>-1.818951</td>\n",
              "      <td>great</td>\n",
              "      <td>input3</td>\n",
              "    </tr>\n",
              "    <tr>\n",
              "      <th>3</th>\n",
              "      <td>2.435523</td>\n",
              "      <td>-0.222808</td>\n",
              "      <td>Gymkata</td>\n",
              "      <td>input4</td>\n",
              "    </tr>\n",
              "  </tbody>\n",
              "</table>\n",
              "</div>\n",
              "    <div class=\"colab-df-buttons\">\n",
              "\n",
              "  <div class=\"colab-df-container\">\n",
              "    <button class=\"colab-df-convert\" onclick=\"convertToInteractive('df-b8ee1ba7-70c3-49cd-a479-86a21cf3ef2d')\"\n",
              "            title=\"Convert this dataframe to an interactive table.\"\n",
              "            style=\"display:none;\">\n",
              "\n",
              "  <svg xmlns=\"http://www.w3.org/2000/svg\" height=\"24px\" viewBox=\"0 -960 960 960\">\n",
              "    <path d=\"M120-120v-720h720v720H120Zm60-500h600v-160H180v160Zm220 220h160v-160H400v160Zm0 220h160v-160H400v160ZM180-400h160v-160H180v160Zm440 0h160v-160H620v160ZM180-180h160v-160H180v160Zm440 0h160v-160H620v160Z\"/>\n",
              "  </svg>\n",
              "    </button>\n",
              "\n",
              "  <style>\n",
              "    .colab-df-container {\n",
              "      display:flex;\n",
              "      gap: 12px;\n",
              "    }\n",
              "\n",
              "    .colab-df-convert {\n",
              "      background-color: #E8F0FE;\n",
              "      border: none;\n",
              "      border-radius: 50%;\n",
              "      cursor: pointer;\n",
              "      display: none;\n",
              "      fill: #1967D2;\n",
              "      height: 32px;\n",
              "      padding: 0 0 0 0;\n",
              "      width: 32px;\n",
              "    }\n",
              "\n",
              "    .colab-df-convert:hover {\n",
              "      background-color: #E2EBFA;\n",
              "      box-shadow: 0px 1px 2px rgba(60, 64, 67, 0.3), 0px 1px 3px 1px rgba(60, 64, 67, 0.15);\n",
              "      fill: #174EA6;\n",
              "    }\n",
              "\n",
              "    .colab-df-buttons div {\n",
              "      margin-bottom: 4px;\n",
              "    }\n",
              "\n",
              "    [theme=dark] .colab-df-convert {\n",
              "      background-color: #3B4455;\n",
              "      fill: #D2E3FC;\n",
              "    }\n",
              "\n",
              "    [theme=dark] .colab-df-convert:hover {\n",
              "      background-color: #434B5C;\n",
              "      box-shadow: 0px 1px 3px 1px rgba(0, 0, 0, 0.15);\n",
              "      filter: drop-shadow(0px 1px 2px rgba(0, 0, 0, 0.3));\n",
              "      fill: #FFFFFF;\n",
              "    }\n",
              "  </style>\n",
              "\n",
              "    <script>\n",
              "      const buttonEl =\n",
              "        document.querySelector('#df-b8ee1ba7-70c3-49cd-a479-86a21cf3ef2d button.colab-df-convert');\n",
              "      buttonEl.style.display =\n",
              "        google.colab.kernel.accessAllowed ? 'block' : 'none';\n",
              "\n",
              "      async function convertToInteractive(key) {\n",
              "        const element = document.querySelector('#df-b8ee1ba7-70c3-49cd-a479-86a21cf3ef2d');\n",
              "        const dataTable =\n",
              "          await google.colab.kernel.invokeFunction('convertToInteractive',\n",
              "                                                    [key], {});\n",
              "        if (!dataTable) return;\n",
              "\n",
              "        const docLinkHtml = 'Like what you see? Visit the ' +\n",
              "          '<a target=\"_blank\" href=https://colab.research.google.com/notebooks/data_table.ipynb>data table notebook</a>'\n",
              "          + ' to learn more about interactive tables.';\n",
              "        element.innerHTML = '';\n",
              "        dataTable['output_type'] = 'display_data';\n",
              "        await google.colab.output.renderOutput(dataTable, element);\n",
              "        const docLink = document.createElement('div');\n",
              "        docLink.innerHTML = docLinkHtml;\n",
              "        element.appendChild(docLink);\n",
              "      }\n",
              "    </script>\n",
              "  </div>\n",
              "\n",
              "\n",
              "<div id=\"df-bb59b099-4ba2-49ad-9643-9ca2b6bfaf9a\">\n",
              "  <button class=\"colab-df-quickchart\" onclick=\"quickchart('df-bb59b099-4ba2-49ad-9643-9ca2b6bfaf9a')\"\n",
              "            title=\"Suggest charts\"\n",
              "            style=\"display:none;\">\n",
              "\n",
              "<svg xmlns=\"http://www.w3.org/2000/svg\" height=\"24px\"viewBox=\"0 0 24 24\"\n",
              "     width=\"24px\">\n",
              "    <g>\n",
              "        <path d=\"M19 3H5c-1.1 0-2 .9-2 2v14c0 1.1.9 2 2 2h14c1.1 0 2-.9 2-2V5c0-1.1-.9-2-2-2zM9 17H7v-7h2v7zm4 0h-2V7h2v10zm4 0h-2v-4h2v4z\"/>\n",
              "    </g>\n",
              "</svg>\n",
              "  </button>\n",
              "\n",
              "<style>\n",
              "  .colab-df-quickchart {\n",
              "      --bg-color: #E8F0FE;\n",
              "      --fill-color: #1967D2;\n",
              "      --hover-bg-color: #E2EBFA;\n",
              "      --hover-fill-color: #174EA6;\n",
              "      --disabled-fill-color: #AAA;\n",
              "      --disabled-bg-color: #DDD;\n",
              "  }\n",
              "\n",
              "  [theme=dark] .colab-df-quickchart {\n",
              "      --bg-color: #3B4455;\n",
              "      --fill-color: #D2E3FC;\n",
              "      --hover-bg-color: #434B5C;\n",
              "      --hover-fill-color: #FFFFFF;\n",
              "      --disabled-bg-color: #3B4455;\n",
              "      --disabled-fill-color: #666;\n",
              "  }\n",
              "\n",
              "  .colab-df-quickchart {\n",
              "    background-color: var(--bg-color);\n",
              "    border: none;\n",
              "    border-radius: 50%;\n",
              "    cursor: pointer;\n",
              "    display: none;\n",
              "    fill: var(--fill-color);\n",
              "    height: 32px;\n",
              "    padding: 0;\n",
              "    width: 32px;\n",
              "  }\n",
              "\n",
              "  .colab-df-quickchart:hover {\n",
              "    background-color: var(--hover-bg-color);\n",
              "    box-shadow: 0 1px 2px rgba(60, 64, 67, 0.3), 0 1px 3px 1px rgba(60, 64, 67, 0.15);\n",
              "    fill: var(--button-hover-fill-color);\n",
              "  }\n",
              "\n",
              "  .colab-df-quickchart-complete:disabled,\n",
              "  .colab-df-quickchart-complete:disabled:hover {\n",
              "    background-color: var(--disabled-bg-color);\n",
              "    fill: var(--disabled-fill-color);\n",
              "    box-shadow: none;\n",
              "  }\n",
              "\n",
              "  .colab-df-spinner {\n",
              "    border: 2px solid var(--fill-color);\n",
              "    border-color: transparent;\n",
              "    border-bottom-color: var(--fill-color);\n",
              "    animation:\n",
              "      spin 1s steps(1) infinite;\n",
              "  }\n",
              "\n",
              "  @keyframes spin {\n",
              "    0% {\n",
              "      border-color: transparent;\n",
              "      border-bottom-color: var(--fill-color);\n",
              "      border-left-color: var(--fill-color);\n",
              "    }\n",
              "    20% {\n",
              "      border-color: transparent;\n",
              "      border-left-color: var(--fill-color);\n",
              "      border-top-color: var(--fill-color);\n",
              "    }\n",
              "    30% {\n",
              "      border-color: transparent;\n",
              "      border-left-color: var(--fill-color);\n",
              "      border-top-color: var(--fill-color);\n",
              "      border-right-color: var(--fill-color);\n",
              "    }\n",
              "    40% {\n",
              "      border-color: transparent;\n",
              "      border-right-color: var(--fill-color);\n",
              "      border-top-color: var(--fill-color);\n",
              "    }\n",
              "    60% {\n",
              "      border-color: transparent;\n",
              "      border-right-color: var(--fill-color);\n",
              "    }\n",
              "    80% {\n",
              "      border-color: transparent;\n",
              "      border-right-color: var(--fill-color);\n",
              "      border-bottom-color: var(--fill-color);\n",
              "    }\n",
              "    90% {\n",
              "      border-color: transparent;\n",
              "      border-bottom-color: var(--fill-color);\n",
              "    }\n",
              "  }\n",
              "</style>\n",
              "\n",
              "  <script>\n",
              "    async function quickchart(key) {\n",
              "      const quickchartButtonEl =\n",
              "        document.querySelector('#' + key + ' button');\n",
              "      quickchartButtonEl.disabled = true;  // To prevent multiple clicks.\n",
              "      quickchartButtonEl.classList.add('colab-df-spinner');\n",
              "      try {\n",
              "        const charts = await google.colab.kernel.invokeFunction(\n",
              "            'suggestCharts', [key], {});\n",
              "      } catch (error) {\n",
              "        console.error('Error during call to suggestCharts:', error);\n",
              "      }\n",
              "      quickchartButtonEl.classList.remove('colab-df-spinner');\n",
              "      quickchartButtonEl.classList.add('colab-df-quickchart-complete');\n",
              "    }\n",
              "    (() => {\n",
              "      let quickchartButtonEl =\n",
              "        document.querySelector('#df-bb59b099-4ba2-49ad-9643-9ca2b6bfaf9a button');\n",
              "      quickchartButtonEl.style.display =\n",
              "        google.colab.kernel.accessAllowed ? 'block' : 'none';\n",
              "    })();\n",
              "  </script>\n",
              "</div>\n",
              "\n",
              "  <div id=\"id_527afbb1-1943-4069-a213-795df90981e4\">\n",
              "    <style>\n",
              "      .colab-df-generate {\n",
              "        background-color: #E8F0FE;\n",
              "        border: none;\n",
              "        border-radius: 50%;\n",
              "        cursor: pointer;\n",
              "        display: none;\n",
              "        fill: #1967D2;\n",
              "        height: 32px;\n",
              "        padding: 0 0 0 0;\n",
              "        width: 32px;\n",
              "      }\n",
              "\n",
              "      .colab-df-generate:hover {\n",
              "        background-color: #E2EBFA;\n",
              "        box-shadow: 0px 1px 2px rgba(60, 64, 67, 0.3), 0px 1px 3px 1px rgba(60, 64, 67, 0.15);\n",
              "        fill: #174EA6;\n",
              "      }\n",
              "\n",
              "      [theme=dark] .colab-df-generate {\n",
              "        background-color: #3B4455;\n",
              "        fill: #D2E3FC;\n",
              "      }\n",
              "\n",
              "      [theme=dark] .colab-df-generate:hover {\n",
              "        background-color: #434B5C;\n",
              "        box-shadow: 0px 1px 3px 1px rgba(0, 0, 0, 0.15);\n",
              "        filter: drop-shadow(0px 1px 2px rgba(0, 0, 0, 0.3));\n",
              "        fill: #FFFFFF;\n",
              "      }\n",
              "    </style>\n",
              "    <button class=\"colab-df-generate\" onclick=\"generateWithVariable('df')\"\n",
              "            title=\"Generate code using this dataframe.\"\n",
              "            style=\"display:none;\">\n",
              "\n",
              "  <svg xmlns=\"http://www.w3.org/2000/svg\" height=\"24px\"viewBox=\"0 0 24 24\"\n",
              "       width=\"24px\">\n",
              "    <path d=\"M7,19H8.4L18.45,9,17,7.55,7,17.6ZM5,21V16.75L18.45,3.32a2,2,0,0,1,2.83,0l1.4,1.43a1.91,1.91,0,0,1,.58,1.4,1.91,1.91,0,0,1-.58,1.4L9.25,21ZM18.45,9,17,7.55Zm-12,3A5.31,5.31,0,0,0,4.9,8.1,5.31,5.31,0,0,0,1,6.5,5.31,5.31,0,0,0,4.9,4.9,5.31,5.31,0,0,0,6.5,1,5.31,5.31,0,0,0,8.1,4.9,5.31,5.31,0,0,0,12,6.5,5.46,5.46,0,0,0,6.5,12Z\"/>\n",
              "  </svg>\n",
              "    </button>\n",
              "    <script>\n",
              "      (() => {\n",
              "      const buttonEl =\n",
              "        document.querySelector('#id_527afbb1-1943-4069-a213-795df90981e4 button.colab-df-generate');\n",
              "      buttonEl.style.display =\n",
              "        google.colab.kernel.accessAllowed ? 'block' : 'none';\n",
              "\n",
              "      buttonEl.onclick = () => {\n",
              "        google.colab.notebook.generateWithVariable('df');\n",
              "      }\n",
              "      })();\n",
              "    </script>\n",
              "  </div>\n",
              "\n",
              "    </div>\n",
              "  </div>\n"
            ],
            "application/vnd.google.colaboratory.intrinsic+json": {
              "type": "dataframe",
              "variable_name": "df",
              "summary": "{\n  \"name\": \"df\",\n  \"rows\": 4,\n  \"fields\": [\n    {\n      \"column\": \"w1\",\n      \"properties\": {\n        \"dtype\": \"float32\",\n        \"num_unique_values\": 4,\n        \"samples\": [\n          -1.0176502466201782,\n          2.4355225563049316,\n          2.510446548461914\n        ],\n        \"semantic_type\": \"\",\n        \"description\": \"\"\n      }\n    },\n    {\n      \"column\": \"w2\",\n      \"properties\": {\n        \"dtype\": \"float32\",\n        \"num_unique_values\": 4,\n        \"samples\": [\n          2.4824411869049072,\n          -0.22280755639076233,\n          -0.06882131844758987\n        ],\n        \"semantic_type\": \"\",\n        \"description\": \"\"\n      }\n    },\n    {\n      \"column\": \"token\",\n      \"properties\": {\n        \"dtype\": \"string\",\n        \"num_unique_values\": 4,\n        \"samples\": [\n          \"is\",\n          \"Gymkata\",\n          \"Troll2\"\n        ],\n        \"semantic_type\": \"\",\n        \"description\": \"\"\n      }\n    },\n    {\n      \"column\": \"input\",\n      \"properties\": {\n        \"dtype\": \"string\",\n        \"num_unique_values\": 4,\n        \"samples\": [\n          \"input2\",\n          \"input4\",\n          \"input1\"\n        ],\n        \"semantic_type\": \"\",\n        \"description\": \"\"\n      }\n    }\n  ]\n}"
            }
          },
          "metadata": {},
          "execution_count": 24
        }
      ],
      "source": [
        "data = {\n",
        "    \"w1\": modelLinear.input_to_hidden.weight.detach()[0].numpy(),\n",
        "    \"w2\": modelLinear.input_to_hidden.weight.detach()[1].numpy(),\n",
        "    \"token\": [\"Troll2\", \"is\", \"great\", \"Gymkata\"],\n",
        "    \"input\": [\"input1\", \"input2\", \"input3\", \"input4\"]\n",
        "}\n",
        "df = pd.DataFrame(data)\n",
        "df"
      ]
    },
    {
      "cell_type": "code",
      "execution_count": 25,
      "id": "353ec7e8-7a0e-4e3c-8e65-88bcf6e1c4d9",
      "metadata": {
        "id": "353ec7e8-7a0e-4e3c-8e65-88bcf6e1c4d9",
        "colab": {
          "base_uri": "https://localhost:8080/",
          "height": 449
        },
        "outputId": "c1df33c8-a112-4e49-f291-7fe35e5a6cf8"
      },
      "outputs": [
        {
          "output_type": "display_data",
          "data": {
            "text/plain": [
              "<Figure size 640x480 with 1 Axes>"
            ],
            "image/png": "[encoded data removed]"
          },
          "metadata": {}
        }
      ],
      "source": [
        "sns.scatterplot(data=df, x=\"w1\", y=\"w2\")\n",
        "\n",
        "## add the token each dot represents to the graph\n",
        "## NOTE: For Troll2 and and Gymkata, we're adding offsets to where to print the tokens because otherwise\n",
        "## they will be so close to each other that they will overlap and be unreadable.\n",
        "\n",
        "# Troll 2\n",
        "plt.text(df.w1[0]-0.2, df.w2[0]-0.3, df.token[0],\n",
        "         horizontalalignment='left',\n",
        "         size='medium',\n",
        "         color='black',\n",
        "         weight='semibold')\n",
        "\n",
        "# is\n",
        "plt.text(df.w1[1], df.w2[1], df.token[1],\n",
        "         horizontalalignment='left',\n",
        "         size='medium',\n",
        "         color='black',\n",
        "         weight='semibold')\n",
        "\n",
        "# great\n",
        "plt.text(df.w1[2], df.w2[2], df.token[2],\n",
        "         horizontalalignment='left',\n",
        "         size='medium',\n",
        "         color='black',\n",
        "         weight='semibold')\n",
        "\n",
        "# Gymkata\n",
        "plt.text(df.w1[3]-0.3, df.w2[3]+0.2, df.token[3],\n",
        "         horizontalalignment='left',\n",
        "         size='medium',\n",
        "         color='black',\n",
        "         weight='semibold')\n",
        "\n",
        "plt.show()"
      ]
    },
    {
      "cell_type": "markdown",
      "id": "94ad130f-5e94-4615-9916-0601eda24970",
      "metadata": {
        "id": "94ad130f-5e94-4615-9916-0601eda24970"
      },
      "source": [
        "And, after training the model, we see that the embedding values for **Troll 2** and **Gymkata** are more similar than before.\n",
        "\n",
        "Lastly, we can verify that each token in the vacabulary correctly predicts the token that follows it by running the **one-hot-encoded** input values for each token through the neural network."
      ]
    },
    {
      "cell_type": "code",
      "execution_count": 26,
      "id": "2135f619-f564-4270-b984-23bc189b3769",
      "metadata": {
        "id": "2135f619-f564-4270-b984-23bc189b3769",
        "colab": {
          "base_uri": "https://localhost:8080/"
        },
        "outputId": "ef79f4e9-7f43-4c5e-fe20-a446f4266f5b"
      },
      "outputs": [
        {
          "output_type": "stream",
          "name": "stdout",
          "text": [
            "tensor([[0., 1., 0., 0.]], grad_fn=<RoundBackward1>)\n",
            "tensor([[0., 0., 1., 0.]], grad_fn=<RoundBackward1>)\n",
            "tensor([[0., 0., 0., 1.]], grad_fn=<RoundBackward1>)\n",
            "tensor([[0., 1., 0., 0.]], grad_fn=<RoundBackward1>)\n"
          ]
        }
      ],
      "source": [
        "## Let's see what the model predicts\n",
        "softmax = nn.Softmax(dim=1) ## dim=0 applies softmax to rows, dim=1 applies softmax to columns\n",
        "\n",
        "print(torch.round(softmax(modelLinear(torch.tensor([[1., 0., 0., 0.]]))), decimals=2)) ## print the predictions for \"Troll2\"\n",
        "print(torch.round(softmax(modelLinear(torch.tensor([[0., 1., 0., 0.]]))), decimals=2)) ## print the predictions for \"is\"\n",
        "print(torch.round(softmax(modelLinear(torch.tensor([[0., 0., 1., 0.]]))), decimals=2)) ## print the predictions for \"great\"\n",
        "print(torch.round(softmax(modelLinear(torch.tensor([[0., 0., 0., 1.]]))), decimals=2)) ## print the predictions for \"Gymkata\""
      ]
    },
    {
      "cell_type": "markdown",
      "id": "31ecd691-f713-4266-8725-a2fbde8f7dc3",
      "metadata": {
        "id": "31ecd691-f713-4266-8725-a2fbde8f7dc3"
      },
      "source": [
        "## Double BAM!!!"
      ]
    },
    {
      "cell_type": "markdown",
      "id": "a45b6d83-b601-4407-a0c3-3578f9061ec1",
      "metadata": {
        "id": "a45b6d83-b601-4407-a0c3-3578f9061ec1"
      },
      "source": [
        "----"
      ]
    },
    {
      "cell_type": "markdown",
      "id": "ea2b8a06-ab36-441c-8963-f0b1d95fdff0",
      "metadata": {
        "id": "ea2b8a06-ab36-441c-8963-f0b1d95fdff0"
      },
      "source": [
        "<a id=\"embedding_lookup\"></a>\n",
        "# Use `nn.Embedding()` to load and use pre-trained Word Embeddings\n",
        "\n",
        "Now that we have created embeddings for each token in the vocabulary, we can store them in an `nn.Embedding()` object so that we can access them with the tokens, rather than the one-hot-encoded versions of the tokens. This makes them easily portable to other applications."
      ]
    },
    {
      "cell_type": "markdown",
      "id": "2d18b771-8e60-4389-8ee6-6c0b98801dc4",
      "metadata": {
        "id": "2d18b771-8e60-4389-8ee6-6c0b98801dc4"
      },
      "source": [
        "First, let's just print out the embedding values that we created in modelLinear and that we want to add to an `nn.Embedding()` object."
      ]
    },
    {
      "cell_type": "code",
      "execution_count": 27,
      "id": "f3dec6c7-2aa0-4adc-8096-cf25b7b35a0e",
      "metadata": {
        "id": "f3dec6c7-2aa0-4adc-8096-cf25b7b35a0e",
        "colab": {
          "base_uri": "https://localhost:8080/"
        },
        "outputId": "0022bb9d-1aee-4fed-d334-4370d87bf932"
      },
      "outputs": [
        {
          "output_type": "execute_result",
          "data": {
            "text/plain": [
              "Parameter containing:\n",
              "tensor([[ 2.5104, -1.0177, -1.9742,  2.4355],\n",
              "        [-0.0688,  2.4824, -1.8190, -0.2228]], requires_grad=True)"
            ]
          },
          "metadata": {},
          "execution_count": 27
        }
      ],
      "source": [
        "modelLinear.input_to_hidden.weight"
      ]
    },
    {
      "cell_type": "markdown",
      "id": "d619c92a-865e-424a-8463-46f78d5318e8",
      "metadata": {
        "id": "d619c92a-865e-424a-8463-46f78d5318e8"
      },
      "source": [
        "Now let's create an `nn.Embedding()` object and add those Embedding Values to it."
      ]
    },
    {
      "cell_type": "code",
      "execution_count": 28,
      "id": "bf2a3942-0be2-4310-b05b-39de6fe379d4",
      "metadata": {
        "id": "bf2a3942-0be2-4310-b05b-39de6fe379d4"
      },
      "outputs": [],
      "source": [
        "##  NOTE: We have to transpose the original embedding values (from w1 and w2) for nn.Embedding()\n",
        "##        and we do this with adding a '.T' to modelLinear.input_to_hidden.weight.T\n",
        "word_embedings = nn.Embedding.from_pretrained(modelLinear.input_to_hidden.weight.T)"
      ]
    },
    {
      "cell_type": "markdown",
      "id": "c7f1a48b-76b8-4f2e-be7c-938a9b8e7691",
      "metadata": {
        "id": "c7f1a48b-76b8-4f2e-be7c-938a9b8e7691"
      },
      "source": [
        "Now let's print out the weights to make sure they are what we expect them to be."
      ]
    },
    {
      "cell_type": "code",
      "execution_count": 29,
      "id": "5b646de6-0027-447c-9938-f69bcf53f3de",
      "metadata": {
        "id": "5b646de6-0027-447c-9938-f69bcf53f3de",
        "colab": {
          "base_uri": "https://localhost:8080/"
        },
        "outputId": "5302077b-2e3c-42e2-c95a-1e5e1b724e6c"
      },
      "outputs": [
        {
          "output_type": "execute_result",
          "data": {
            "text/plain": [
              "Parameter containing:\n",
              "tensor([[ 2.5104, -0.0688],\n",
              "        [-1.0177,  2.4824],\n",
              "        [-1.9742, -1.8190],\n",
              "        [ 2.4355, -0.2228]])"
            ]
          },
          "metadata": {},
          "execution_count": 29
        }
      ],
      "source": [
        "word_embedings.weight"
      ]
    },
    {
      "cell_type": "markdown",
      "id": "dd40ef57-32ec-4078-bf78-241c93bfc646",
      "metadata": {
        "id": "dd40ef57-32ec-4078-bf78-241c93bfc646"
      },
      "source": [
        "Now we can access the embeddings for each token directly with an index between 0 and 3, like this..."
      ]
    },
    {
      "cell_type": "code",
      "execution_count": 30,
      "id": "568cee2b-e7fc-4874-8a2b-d2344a682db9",
      "metadata": {
        "id": "568cee2b-e7fc-4874-8a2b-d2344a682db9",
        "colab": {
          "base_uri": "https://localhost:8080/"
        },
        "outputId": "49d1522c-3ad4-4a55-c6f5-c2f632061c33"
      },
      "outputs": [
        {
          "output_type": "execute_result",
          "data": {
            "text/plain": [
              "tensor([ 2.5104, -0.0688])"
            ]
          },
          "metadata": {},
          "execution_count": 30
        }
      ],
      "source": [
        "word_embedings(torch.tensor(0)) # retrieve the embedding values for Troll 2..."
      ]
    },
    {
      "cell_type": "markdown",
      "source": [
        "<font color=\"red\">注意，不能寫成...</font>\n",
        "\n",
        "```python\n",
        "word_embedings(0)\n",
        "```\n",
        "<font color=\"red\">否則會出現`embedding(): argument 'indices' (position 2) must be Tensor, not int`的錯誤!</font>\n"
      ],
      "metadata": {
        "id": "6OXO_UKw0vIi"
      },
      "id": "6OXO_UKw0vIi"
    },
    {
      "cell_type": "markdown",
      "id": "1cdeca04-4187-418e-9f4e-04575165765a",
      "metadata": {
        "id": "1cdeca04-4187-418e-9f4e-04575165765a"
      },
      "source": [
        "...or we can create a dictionary and access the embedding values with words or tokens instead."
      ]
    },
    {
      "cell_type": "code",
      "execution_count": 31,
      "id": "8b001059-a593-45e0-b4b4-13f47901863f",
      "metadata": {
        "id": "8b001059-a593-45e0-b4b4-13f47901863f"
      },
      "outputs": [],
      "source": [
        "vocab = {'Troll2': 0,\n",
        "      'is': 1,\n",
        "      'great': 2,\n",
        "      'Gymkata': 3}"
      ]
    },
    {
      "cell_type": "code",
      "execution_count": 32,
      "id": "98be858c-51cc-4845-9b60-57eec729939b",
      "metadata": {
        "id": "98be858c-51cc-4845-9b60-57eec729939b",
        "colab": {
          "base_uri": "https://localhost:8080/"
        },
        "outputId": "3e55b163-e63e-41f3-fff6-a171a11b41ec"
      },
      "outputs": [
        {
          "output_type": "execute_result",
          "data": {
            "text/plain": [
              "tensor([ 2.5104, -0.0688])"
            ]
          },
          "metadata": {},
          "execution_count": 32
        }
      ],
      "source": [
        "word_embedings(torch.tensor(vocab['Troll2']))"
      ]
    },
    {
      "cell_type": "code",
      "execution_count": 33,
      "id": "52a2cde0-c21f-4e4f-836b-9a5799269cff",
      "metadata": {
        "id": "52a2cde0-c21f-4e4f-836b-9a5799269cff",
        "colab": {
          "base_uri": "https://localhost:8080/"
        },
        "outputId": "a138e77e-dc7a-4436-8cf5-fa4e697c2f0a"
      },
      "outputs": [
        {
          "output_type": "execute_result",
          "data": {
            "text/plain": [
              "tensor([ 2.4355, -0.2228])"
            ]
          },
          "metadata": {},
          "execution_count": 33
        }
      ],
      "source": [
        "word_embedings(torch.tensor(vocab['Gymkata']))"
      ]
    },
    {
      "cell_type": "markdown",
      "id": "16db81db-6f65-48ef-b6f5-7cb6a1f16230",
      "metadata": {
        "id": "16db81db-6f65-48ef-b6f5-7cb6a1f16230"
      },
      "source": [
        "# TRIPLE BAM!!!\n",
        "----"
      ]
    },
    {
      "cell_type": "markdown",
      "id": "8c6ee2b3-4ca1-42a1-9fae-93dcc706c1df",
      "metadata": {
        "id": "8c6ee2b3-4ca1-42a1-9fae-93dcc706c1df"
      },
      "source": [
        "# **Bonus!**\n",
        "<a id=\"build_with_embedding\"></a>\n",
        "# Build and train a Word Embedding Unit using `nn.Embedding()` and `nn.Linear()`\n",
        "\n",
        "Although less commonly done, we can replace `nn.Linear()` from the inputs to the activation functions with `nn.Embedding()` and train the embeddings directly in the lookup table."
      ]
    },
    {
      "cell_type": "code",
      "execution_count": 34,
      "id": "5e5e6033-ef32-46c2-ab36-25f6c251b09f",
      "metadata": {
        "id": "5e5e6033-ef32-46c2-ab36-25f6c251b09f"
      },
      "outputs": [],
      "source": [
        "class WordEmbeddingWithEmbedding(L.LightningModule):\n",
        "\n",
        "    def __init__(self):\n",
        "\n",
        "        super().__init__()\n",
        "\n",
        "        ## The first thing we do is set the seed for the random number generorator.\n",
        "        ## This ensures that when someone creates a model from this class, that model\n",
        "        ## will start off with the exact same random numbers as I started out with when\n",
        "        ## I created this demo. At least, I hope that is what happens!!! :)\n",
        "        L.seed_everything(seed=42)\n",
        "\n",
        "        self.embed = nn.Embedding(4, 2) # 4 = number of words in the vocabulary, 2 = 2 numbers per embedding\n",
        "        self.hidden_to_output = nn.Linear(2, 4, bias=False)\n",
        "\n",
        "        ## We'll use CrossEntropyLoss in training_step()\n",
        "        self.loss = nn.CrossEntropyLoss()\n",
        "\n",
        "\n",
        "    def forward(self, input):\n",
        "        ## input_i的shape 是 torch.Size([1])\n",
        "        \"\"\"原法\"\"\"\n",
        "        hidden = self.embed(input[0])\n",
        "        \"\"\"另法/三法\"\"\"\n",
        "        # hidden = self.embed(input)\n",
        "        ## input_i[0]的shape 是 torch.Size([])\n",
        "        ## hidden的shape 是 torch.Size([2])\n",
        "\n",
        "        output_values = self.hidden_to_output(hidden)\n",
        "        ## output_values的shape 是 torch.Size([4])\n",
        "        return(output_values)\n",
        "\n",
        "\n",
        "    def configure_optimizers(self): # this configures the optimizer we want to use for backpropagation.\n",
        "        return Adam(self.parameters(), lr=0.1)\n",
        "\n",
        "\n",
        "    def training_step(self, batch, batch_idx): # take a step during gradient descent.\n",
        "        input_i, label_i = batch # collect input\n",
        "        ## input_i的shape 是 torch.Size([1, 1])。\n",
        "        ## label_i的shape 是 torch.Size([1, 4])。\n",
        "\n",
        "        \"\"\"原法與另法\"\"\"\n",
        "        output_i = self.forward(input_i[0]) # run input through the neural network\n",
        "        ## input_i[0]的shape 是 torch.Size([1])。\n",
        "        ## output_i的shape 是 torch.Size([4])。\n",
        "        \"\"\"法三\"\"\"\n",
        "        # output_i = self.forward(input_i) # run input through the neural network\n",
        "\n",
        "        \"\"\"原法\"\"\"\n",
        "        loss = self.loss(output_i, label_i[0]) ## self.loss = cross entropy\n",
        "        ## label_i[0]的shape 是 torch.Size([4])。\n",
        "        ## loss的shape 是 torch.Size([])。\n",
        "        \"\"\"另法\"\"\"\n",
        "        # loss = self.loss(output_i, label_i)\n",
        "        \"\"\"法三\"\"\"\n",
        "        # loss = self.loss(output_i.squeeze(dim=1), label_i)\n",
        "\n",
        "\n",
        "        print(\">\",loss, output_i, label_i[0])\n",
        "        # print(\">\",output_i.squeeze(dim=1),label_i)\n",
        "\n",
        "        return loss"
      ]
    },
    {
      "cell_type": "markdown",
      "source": [
        "\n",
        "\n",
        "---\n",
        "\n",
        "* <font color=\"red\">`WordEmbeddingWithEmbedding`模型中，從輸入`inputs`到計算`loss`的shape變化如下[**原法**]</font>\n",
        "\n",
        "```python\n",
        "def train_step(...,batch,...):\n",
        "  input_i, label_i = batch\n",
        "  [1,1]   [1,4]\n",
        "\n",
        "  傳遞inputs_i[0],給forward\n",
        "      [1]  \n",
        "```\n",
        "\n",
        "```python\n",
        "def forward(...,input):\n",
        "  Ai = input[0]\n",
        "  []\n",
        "\n",
        "  hidden = embed(Ai)\n",
        "  [2]\n",
        "\n",
        "  output_values = hidden_to_output(hidden)\n",
        "  [4]\n",
        "\n",
        "  output_values 回傳到 train_step()\n",
        "```\n",
        "* <font color=\"red\">[**原法**]在`forward`中其各層的輸入與輸出的shape如下</font>\n",
        "```python\n",
        "輸入1   embed      輸出1/輸入2    hidden_to_output       輸出2\n",
        " Ai----nn.Embedding(4,2)---[B1, B2]---nn.Linear(2,4,bias=False)--[C1, C2, C3, C4]\n",
        "```\n",
        "* <font color=\"red\">`Ai`是個純量value,`輸出2`是`[C1,C2,C3,C4]`</font>\n",
        "\n",
        "\n",
        "\n",
        "```python\n",
        "def train_step():\n",
        "  output_i = forward回傳值\n",
        "  [4]\n",
        "\n",
        "  loss = CrossEntropyLoss(output_i,label_i[0])\n",
        "  []              [4]    [4]\n",
        "```\n",
        "\n",
        "\n",
        "\n",
        "* <font color=\"red\">`output_i`是`[C1,C2,C3,C4]`,`label_i`是`[[L1,L2,L3,L4]]`所以計算**CrossEntropyLoss**時,要用`label[0]=[L1,L2,L3,L4]`,計算**CrossEntropyLoss**時,直接要用`label`即可</font>\n",
        "\n",
        "---\n",
        "<font color=\"red\">注意,在使用`torch.nn.CrossEntropyLoss()`計算`loss`時, 從前面**補充LOSS範例**可知,以下兩種不同shape的`output`與`label`, 最後獲得的`loss`結果,均相同,因此`WordEmbeddingWithEmbedding`模型中的[**另法**],就是基於此結果而改的。</font>\n",
        "\n",
        "\n",
        "```python\n",
        "cel=torch.nn.CrossEntropyLoss()\n",
        "\n",
        "output1 = torch.tensor([C1,C2,C3,C4])\n",
        "label1 = torch.tensor([L1,L2,L3,L4])\n",
        "loss1=cel(output1,label1)\n",
        "\n",
        "output_2 = torch.tensor([[C1,C2,C3,C4]])\n",
        "label_2 = torch.tensor([[L1,L2,L3,L4]])\n",
        "loss2=cel(output_2,label_2)\n",
        "####### 結果 ######\n",
        "## loss1 = loss2\n",
        "\n",
        "```\n",
        "---\n",
        "* <font color=\"red\">`WordEmbeddingWithEmbedding`模型中，從輸入`inputs`到計算`loss`的shape變化如下[**另法**]</font>\n",
        "\n",
        "```python\n",
        "def train_step(...,batch,...):\n",
        "  input_i, label_i = batch\n",
        "  [1,1]   [1,4]\n",
        "\n",
        "  傳遞inputs_i[0],給forward\n",
        "      [1]  \n",
        "```\n",
        "```python\n",
        "def forward(...,input):\n",
        "  Ai = input\n",
        "  [1]\n",
        "\n",
        "  hidden = embed(Ai)\n",
        "  [1,2]\n",
        "\n",
        "  output_values = hidden_to_output(hidden)\n",
        "  [1,4]\n",
        "\n",
        "  output_values 回傳到 train_step()\n",
        "```\n",
        "* <font color=\"red\">`輸入1`是`[Ai]`,則`輸出2`是`[[C1,C2,C3,C4]]`</font>\n",
        "\n",
        "```python\n",
        "def train_step():\n",
        "  output_i = forward回傳值\n",
        "  [1,4]\n",
        "\n",
        "  loss = CrossEntropyLoss(output_i,label_i)\n",
        "  []             [1,4]  [1,4]\n",
        "```\n",
        "* <font color=\"red\">`output_i`是`[[C1,C2,C3,C4]]`,`label_i`是`[[L1,L2,L3,L4]]`所以計算**CrossEntropyLoss**時,直接用`label_i`即可</font>\n",
        "---\n",
        "\n",
        "* <font color=\"red\">`WordEmbeddingWithEmbedding`模型中，從輸入`inputs`到計算`loss`的shape變化如下[**法三**]</font>\n",
        "\n",
        "```python\n",
        "def train_step(...,batch,...):\n",
        "  input_i, label_i = batch\n",
        "  [1,1]   [1,4]\n",
        "\n",
        "  傳遞inputs_i,給forward\n",
        "     [1,1]  \n",
        "```\n",
        "```python\n",
        "def forward(...,input):\n",
        "  Ai = input\n",
        "  [1,1]\n",
        "\n",
        "  hidden = embed(Ai)\n",
        "  [1,1,2]\n",
        "\n",
        "  output_values = hidden_to_output(hidden)\n",
        "  [1,1,4]\n",
        "\n",
        "  output_values 回傳到 train_step()\n",
        "```\n",
        "* <font color=\"red\">`輸入1`是`[Ai]`,則`輸出2`是`[[[C1,C2,C3,C4]]]`</font>\n",
        "\n",
        "\n",
        "```python\n",
        "def train_step():\n",
        "  output_i = forward回傳值\n",
        "  [1,1,4]\n",
        "\n",
        "  loss = CrossEntropyLoss(output_i.squeeze(dim=1),label_i)\n",
        "  []                [1,4]        [1,4]\n",
        "```\n",
        "* <font color=\"red\">`output_i`是`[[[C1,C2,C3,C4]]]`,`label_i`是`[[L1,L2,L3,L4]]`所以計算**CrossEntropyLoss**時,所以用`output_i.squeeze(dim=1)`變成`[[C1,C2,C3,C4]]`,才能與label_i計算loss</font>\n",
        "---\n",
        "* <font color=\"red\">在[**法三**]中,資料從`train_step`傳遞到`forward`,後再回傳到`train_step`的過程中,都不需要對資料的shape,進行手動修改,所以當**batch**有多筆資料時,可以直接使用[**法三**]計算`loss`,但不能用[**原法**]與[**另法**]</font>\n"
      ],
      "metadata": {
        "id": "Isbbx-UykgHx"
      },
      "id": "Isbbx-UykgHx"
    },
    {
      "cell_type": "code",
      "execution_count": 35,
      "id": "a516b61c-6502-443d-9711-c79d8a0e7644",
      "metadata": {
        "id": "a516b61c-6502-443d-9711-c79d8a0e7644"
      },
      "outputs": [],
      "source": [
        "## Create the training data for the neural network.\n",
        "\n",
        "## NOTE: nn.Embedding() applies one-hot-encoding to the input for us, so\n",
        "## the data that we use for training will look different from before.\n",
        "inputsForEmbed = torch.tensor([[0], [1], [2], [3]]) ## NOTE: Troll2 = 0, is = 1, great = 2, Gymkata = 3\n",
        "labels = torch.tensor([[0., 1., 0., 0.], [0., 0., 1., 0.], [0., 0., 0., 1.], [0., 1., 0., 0.]])\n",
        "\n",
        "datasetForEmbed = TensorDataset(inputsForEmbed, labels)\n",
        "dataloaderForEmbed = DataLoader(datasetForEmbed)"
      ]
    },
    {
      "cell_type": "code",
      "execution_count": 54,
      "id": "715a2df0-682d-4a4d-b8c4-cbc65cbf0288",
      "metadata": {
        "id": "715a2df0-682d-4a4d-b8c4-cbc65cbf0288",
        "colab": {
          "base_uri": "https://localhost:8080/"
        },
        "outputId": "c0fca02c-3246-4cdd-e09e-700b9fb44a5d"
      },
      "outputs": [
        {
          "output_type": "stream",
          "name": "stderr",
          "text": [
            "INFO: Seed set to 42\n",
            "INFO:lightning.fabric.utilities.seed:Seed set to 42\n"
          ]
        },
        {
          "output_type": "stream",
          "name": "stdout",
          "text": [
            "Before optimization, the parameters are...\n",
            "embed.weight tensor([[ 0.3367,  0.1288],\n",
            "        [ 0.2345,  0.2303],\n",
            "        [-1.1229, -0.1863],\n",
            "        [ 2.2082, -0.6380]])\n",
            "hidden_to_output.weight tensor([[ 0.5451,  0.1045],\n",
            "        [-0.3301,  0.1802],\n",
            "        [-0.3258, -0.0829],\n",
            "        [-0.2872,  0.4691]])\n"
          ]
        }
      ],
      "source": [
        "modelEmbed = WordEmbeddingWithEmbedding()\n",
        "\n",
        "print(\"Before optimization, the parameters are...\")\n",
        "for name, param in modelEmbed.named_parameters():\n",
        "    print(name, param.data)"
      ]
    },
    {
      "cell_type": "code",
      "execution_count": null,
      "id": "e4b6d167-10a6-4aab-96d6-3bb120a913a5",
      "metadata": {
        "id": "e4b6d167-10a6-4aab-96d6-3bb120a913a5"
      },
      "outputs": [],
      "source": [
        "weights = modelEmbed.embed.weight.detach().numpy()\n",
        "w1 = [weights[0][0], weights[1][0], weights[2][0], weights[3][0]]\n",
        "w1"
      ]
    },
    {
      "cell_type": "code",
      "execution_count": null,
      "id": "1b5572e2-6508-49f9-bcf8-3f644f7ddb1c",
      "metadata": {
        "id": "1b5572e2-6508-49f9-bcf8-3f644f7ddb1c"
      },
      "outputs": [],
      "source": [
        "w2 = [weights[0][1], weights[1][1], weights[2][1], weights[3][1]]\n",
        "w2"
      ]
    },
    {
      "cell_type": "code",
      "execution_count": null,
      "id": "28abf23a-3704-4e0f-8398-63173788ea9c",
      "metadata": {
        "id": "28abf23a-3704-4e0f-8398-63173788ea9c"
      },
      "outputs": [],
      "source": [
        "data = {\n",
        "    \"w1\": w1,\n",
        "    \"w2\": w2,\n",
        "    \"token\": [\"Troll2\", \"is\", \"great\", \"Gymkata\"],\n",
        "    \"input\": [\"input1\", \"input2\", \"input3\", \"input4\"]\n",
        "}\n",
        "df = pd.DataFrame(data)\n",
        "df"
      ]
    },
    {
      "cell_type": "code",
      "execution_count": null,
      "id": "d65ca2b2-4258-4625-8aac-d88fb107d15d",
      "metadata": {
        "id": "d65ca2b2-4258-4625-8aac-d88fb107d15d"
      },
      "outputs": [],
      "source": [
        "sns.scatterplot(data=df, x=\"w1\", y=\"w2\")\n",
        "\n",
        "## add the token each dot represents to the graph\n",
        "## NOTE: For Troll2 and and Gymkata, we're adding offsets to where to print the tokens because otherwise\n",
        "## they will be so close to each other that they will overlap and be unreadable.\n",
        "plt.text(df.w1[0], df.w2[0], df.token[0],\n",
        "         horizontalalignment='left',\n",
        "         size='medium',\n",
        "         color='black',\n",
        "         weight='semibold') # Troll 2\n",
        "plt.text(df.w1[1], df.w2[1], df.token[1],\n",
        "         horizontalalignment='left',\n",
        "         size='medium',\n",
        "         color='black',\n",
        "         weight='semibold') # is\n",
        "plt.text(df.w1[2], df.w2[2], df.token[2],\n",
        "         horizontalalignment='left',\n",
        "         size='medium',\n",
        "         color='black',\n",
        "         weight='semibold') # great\n",
        "plt.text(df.w1[3], df.w2[3], df.token[3],\n",
        "         horizontalalignment='left',\n",
        "         size='medium',\n",
        "         color='black',\n",
        "         weight='semibold') # Gymkata\n",
        "\n",
        "plt.show()"
      ]
    },
    {
      "cell_type": "code",
      "source": [
        "trainer = L.Trainer(max_epochs=1)\n",
        "trainer.fit(modelEmbed, train_dataloaders=dataloaderForEmbed)"
      ],
      "metadata": {
        "id": "mLxWWTg04Nqu",
        "outputId": "9b5c5104-ffeb-4db8-a723-02f9da84533a",
        "colab": {
          "base_uri": "https://localhost:8080/",
          "height": 713,
          "referenced_widgets": [
            "b5a354864753486db89b9ca6dca87119",
            "e8dff35e98884fd499a76ac32141a390",
            "d007cd9837ba4dd5839650b2a678d415",
            "baa1046f1aee476ead160d28d263fa1f",
            "bcc962a48b954d03b67ddfddcceb20ef",
            "0cb6f3ceb5c141a29be6006a62303499",
            "56c187e199f44cf88b5d1a3a4273b778",
            "21a600145a684609bf62f8aaf092d63e",
            "72f46667bc594462a9a6b6c4ade7893b",
            "784cc745f6a14bad9a3a9a9ebb63d5a5",
            "2c455cd5073f40f79526bf59dab04fd7"
          ]
        }
      },
      "id": "mLxWWTg04Nqu",
      "execution_count": 55,
      "outputs": [
        {
          "output_type": "stream",
          "name": "stderr",
          "text": [
            "INFO: GPU available: False, used: False\n",
            "INFO:lightning.pytorch.utilities.rank_zero:GPU available: False, used: False\n",
            "INFO: TPU available: False, using: 0 TPU cores\n",
            "INFO:lightning.pytorch.utilities.rank_zero:TPU available: False, using: 0 TPU cores\n",
            "INFO: IPU available: False, using: 0 IPUs\n",
            "INFO:lightning.pytorch.utilities.rank_zero:IPU available: False, using: 0 IPUs\n",
            "INFO: HPU available: False, using: 0 HPUs\n",
            "INFO:lightning.pytorch.utilities.rank_zero:HPU available: False, using: 0 HPUs\n",
            "INFO: \n",
            "  | Name             | Type             | Params\n",
            "------------------------------------------------------\n",
            "0 | embed            | Embedding        | 8     \n",
            "1 | hidden_to_output | Linear           | 8     \n",
            "2 | loss             | CrossEntropyLoss | 0     \n",
            "------------------------------------------------------\n",
            "16        Trainable params\n",
            "0         Non-trainable params\n",
            "16        Total params\n",
            "0.000     Total estimated model params size (MB)\n",
            "INFO:lightning.pytorch.callbacks.model_summary:\n",
            "  | Name             | Type             | Params\n",
            "------------------------------------------------------\n",
            "0 | embed            | Embedding        | 8     \n",
            "1 | hidden_to_output | Linear           | 8     \n",
            "2 | loss             | CrossEntropyLoss | 0     \n",
            "------------------------------------------------------\n",
            "16        Trainable params\n",
            "0         Non-trainable params\n",
            "16        Total params\n",
            "0.000     Total estimated model params size (MB)\n"
          ]
        },
        {
          "output_type": "display_data",
          "data": {
            "text/plain": [
              "Training: |          | 0/? [00:00<?, ?it/s]"
            ],
            "application/vnd.jupyter.widget-view+json": {
              "version_major": 2,
              "version_minor": 0,
              "model_id": "b5a354864753486db89b9ca6dca87119"
            }
          },
          "metadata": {}
        },
        {
          "output_type": "stream",
          "name": "stderr",
          "text": [
            "INFO: `Trainer.fit` stopped: `max_epochs=1` reached.\n",
            "INFO:lightning.pytorch.utilities.rank_zero:`Trainer.fit` stopped: `max_epochs=1` reached.\n"
          ]
        },
        {
          "output_type": "stream",
          "name": "stdout",
          "text": [
            "> tensor(1.4703, grad_fn=<DivBackward1>) tensor([ 0.1970, -0.0879, -0.1204, -0.0363], grad_fn=<SqueezeBackward4>) tensor([0., 1., 0., 0.])\n",
            "> tensor(1.5242, grad_fn=<DivBackward1>) tensor([ 0.1054,  0.0106, -0.1420, -0.0058], grad_fn=<SqueezeBackward4>) tensor([0., 0., 1., 0.])\n",
            "> tensor(1.1268, grad_fn=<DivBackward1>) tensor([-0.3740,  0.1478,  0.4515,  0.4940], grad_fn=<SqueezeBackward4>) tensor([0., 0., 0., 1.])\n",
            "> tensor(1.7934, grad_fn=<DivBackward1>) tensor([ 0.8704, -0.4578, -0.6500, -1.3478], grad_fn=<SqueezeBackward4>) tensor([0., 1., 0., 0.])\n"
          ]
        }
      ]
    },
    {
      "cell_type": "code",
      "source": [
        "trainer = L.Trainer(max_epochs=1)\n",
        "trainer.fit(modelEmbed, train_dataloaders=DataLoader(datasetForEmbed,4))"
      ],
      "metadata": {
        "id": "21V-MaVLfXdY",
        "outputId": "ba640d53-3e7a-4eae-a64a-55f58d1f85a2",
        "colab": {
          "base_uri": "https://localhost:8080/",
          "height": 807,
          "referenced_widgets": [
            "544c40f325e44f90b34bbed9259107f5",
            "7dd3014d1e1c4743b0e03bb3fe48572a",
            "fbe1f46379cf4e4391d302a88aed0a78",
            "d6c06c03f1734056bbce678ff732d609",
            "09f1a935f4144da0814c2df21d260e8c",
            "e644777f3a924bad9cdb5dbc298355ba",
            "2a1324218bca4741aa824a7024ae647e",
            "90ea8bcef2cf4d30b310cab474650067",
            "2ef438ebcf754041a375901bdd915686",
            "2028c4df7c374bb5bd4c71a3d3a1255b",
            "10834294129046ce9b10748ed8f61c4e"
          ]
        }
      },
      "id": "21V-MaVLfXdY",
      "execution_count": 40,
      "outputs": [
        {
          "output_type": "stream",
          "name": "stderr",
          "text": [
            "INFO: GPU available: False, used: False\n",
            "INFO:lightning.pytorch.utilities.rank_zero:GPU available: False, used: False\n",
            "INFO: TPU available: False, using: 0 TPU cores\n",
            "INFO:lightning.pytorch.utilities.rank_zero:TPU available: False, using: 0 TPU cores\n",
            "INFO: IPU available: False, using: 0 IPUs\n",
            "INFO:lightning.pytorch.utilities.rank_zero:IPU available: False, using: 0 IPUs\n",
            "INFO: HPU available: False, using: 0 HPUs\n",
            "INFO:lightning.pytorch.utilities.rank_zero:HPU available: False, using: 0 HPUs\n",
            "INFO: \n",
            "  | Name             | Type             | Params\n",
            "------------------------------------------------------\n",
            "0 | embed            | Embedding        | 8     \n",
            "1 | hidden_to_output | Linear           | 8     \n",
            "2 | loss             | CrossEntropyLoss | 0     \n",
            "------------------------------------------------------\n",
            "16        Trainable params\n",
            "0         Non-trainable params\n",
            "16        Total params\n",
            "0.000     Total estimated model params size (MB)\n",
            "INFO:lightning.pytorch.callbacks.model_summary:\n",
            "  | Name             | Type             | Params\n",
            "------------------------------------------------------\n",
            "0 | embed            | Embedding        | 8     \n",
            "1 | hidden_to_output | Linear           | 8     \n",
            "2 | loss             | CrossEntropyLoss | 0     \n",
            "------------------------------------------------------\n",
            "16        Trainable params\n",
            "0         Non-trainable params\n",
            "16        Total params\n",
            "0.000     Total estimated model params size (MB)\n",
            "/usr/local/lib/python3.10/dist-packages/lightning/pytorch/loops/fit_loop.py:298: The number of training batches (1) is smaller than the logging interval Trainer(log_every_n_steps=50). Set a lower value for log_every_n_steps if you want to see logs for the training epoch.\n"
          ]
        },
        {
          "output_type": "display_data",
          "data": {
            "text/plain": [
              "Training: |          | 0/? [00:00<?, ?it/s]"
            ],
            "application/vnd.jupyter.widget-view+json": {
              "version_major": 2,
              "version_minor": 0,
              "model_id": "544c40f325e44f90b34bbed9259107f5"
            }
          },
          "metadata": {}
        },
        {
          "output_type": "stream",
          "name": "stderr",
          "text": [
            "INFO: `Trainer.fit` stopped: `max_epochs=1` reached.\n",
            "INFO:lightning.pytorch.utilities.rank_zero:`Trainer.fit` stopped: `max_epochs=1` reached.\n"
          ]
        },
        {
          "output_type": "stream",
          "name": "stdout",
          "text": [
            "> tensor([[ 0.1970, -0.0879, -0.1204, -0.0363],\n",
            "        [ 0.1519, -0.0359, -0.0955,  0.0407],\n",
            "        [-0.6315,  0.3371,  0.3813,  0.2351],\n",
            "        [ 1.1370, -0.8439, -0.6665, -0.9335]], grad_fn=<SqueezeBackward1>) tensor([[0., 1., 0., 0.],\n",
            "        [0., 0., 1., 0.],\n",
            "        [0., 0., 0., 1.],\n",
            "        [0., 1., 0., 0.]])\n"
          ]
        }
      ]
    },
    {
      "cell_type": "code",
      "source": [
        "a = torch.tensor([[ 0.1970, -0.0879, -0.1204, -0.0363],\n",
        "          [ 0.1519, -0.0359, -0.0955,  0.0407],\n",
        "          [-0.6315,  0.3371,  0.3813,  0.2351],\n",
        "          [ 1.1370, -0.8439, -0.6665, -0.9335]])\n",
        "b = torch.tensor([[0., 1., 0., 0.],\n",
        "          [0., 0., 1., 0.],\n",
        "          [0., 0., 0., 1.],\n",
        "          [0., 1., 0., 0.]])\n",
        "c = torch.tensor([1,2,3,1])"
      ],
      "metadata": {
        "id": "kbyGNoJnvNXZ"
      },
      "id": "kbyGNoJnvNXZ",
      "execution_count": 41,
      "outputs": []
    },
    {
      "cell_type": "code",
      "source": [
        "cel = torch.nn.CrossEntropyLoss(reduction='none')"
      ],
      "metadata": {
        "id": "WEfsWOXGwVfU"
      },
      "id": "WEfsWOXGwVfU",
      "execution_count": 45,
      "outputs": []
    },
    {
      "cell_type": "code",
      "source": [
        "cel(a,c)"
      ],
      "metadata": {
        "id": "RatPGK24weMB",
        "outputId": "56874976-b637-4cd9-c694-d39f2039cc99",
        "colab": {
          "base_uri": "https://localhost:8080/"
        }
      },
      "id": "RatPGK24weMB",
      "execution_count": 46,
      "outputs": [
        {
          "output_type": "execute_result",
          "data": {
            "text/plain": [
              "tensor([1.4703, 1.5014, 1.3043, 2.3377])"
            ]
          },
          "metadata": {},
          "execution_count": 46
        }
      ]
    },
    {
      "cell_type": "code",
      "source": [
        "cel(a,b)"
      ],
      "metadata": {
        "id": "drK0x75GxzoB",
        "outputId": "04b1231f-4c2e-49e6-c655-0a7a3edc9f85",
        "colab": {
          "base_uri": "https://localhost:8080/"
        }
      },
      "id": "drK0x75GxzoB",
      "execution_count": 47,
      "outputs": [
        {
          "output_type": "execute_result",
          "data": {
            "text/plain": [
              "tensor([1.4703, 1.5014, 1.3043, 2.3377])"
            ]
          },
          "metadata": {},
          "execution_count": 47
        }
      ]
    },
    {
      "cell_type": "code",
      "source": [],
      "metadata": {
        "id": "HwjK7UZevMQH"
      },
      "id": "HwjK7UZevMQH",
      "execution_count": null,
      "outputs": []
    },
    {
      "cell_type": "code",
      "source": [
        "torch.tensor([[[ 0.1970, -0.0879, -0.1204, -0.0363]]]).squeeze(1)"
      ],
      "metadata": {
        "id": "OmVwpLKc5Hmw",
        "outputId": "e7a8b91e-0815-4b10-ba09-bfa25b6b6def",
        "colab": {
          "base_uri": "https://localhost:8080/"
        }
      },
      "id": "OmVwpLKc5Hmw",
      "execution_count": 111,
      "outputs": [
        {
          "output_type": "execute_result",
          "data": {
            "text/plain": [
              "tensor([[ 0.1970, -0.0879, -0.1204, -0.0363]])"
            ]
          },
          "metadata": {},
          "execution_count": 111
        }
      ]
    },
    {
      "cell_type": "code",
      "source": [
        "torch.tensor([[[ 0.1970, -0.0879, -0.1204, -0.0363]],\n",
        "\n",
        "        [[ 0.1519, -0.0359, -0.0955,  0.0407]],\n",
        "\n",
        "        [[-0.6315,  0.3371,  0.3813,  0.2351]],\n",
        "\n",
        "        [[ 1.1370, -0.8439, -0.6665, -0.9335]]]).squeeze()"
      ],
      "metadata": {
        "id": "fmdAYhKQ0KZD",
        "outputId": "ab6ef5ca-3ace-4b80-d62e-d6f005802a33",
        "colab": {
          "base_uri": "https://localhost:8080/"
        }
      },
      "id": "fmdAYhKQ0KZD",
      "execution_count": 112,
      "outputs": [
        {
          "output_type": "execute_result",
          "data": {
            "text/plain": [
              "tensor([[ 0.1970, -0.0879, -0.1204, -0.0363],\n",
              "        [ 0.1519, -0.0359, -0.0955,  0.0407],\n",
              "        [-0.6315,  0.3371,  0.3813,  0.2351],\n",
              "        [ 1.1370, -0.8439, -0.6665, -0.9335]])"
            ]
          },
          "metadata": {},
          "execution_count": 112
        }
      ]
    },
    {
      "cell_type": "code",
      "source": [
        "it = torch.tensor([[0], [1]]) ## NOTE: Troll2 = 0, is = 1, great = 2, Gymkata = 3\n",
        "lb = torch.tensor([[0., 1., 0., 0.], [0., 0., 1., 0.]])"
      ],
      "metadata": {
        "id": "K9hOBp2PTb1z"
      },
      "id": "K9hOBp2PTb1z",
      "execution_count": null,
      "outputs": []
    },
    {
      "cell_type": "code",
      "source": [
        "emb = nn.Embedding(4, 2)\n",
        "hidden_to_output = nn.Linear(2, 4, bias=False)"
      ],
      "metadata": {
        "id": "r7nBsPhq1Cz2"
      },
      "id": "r7nBsPhq1Cz2",
      "execution_count": 63,
      "outputs": []
    },
    {
      "cell_type": "code",
      "source": [
        "torch.tensor([[[ 0.1970, -0.0879, -0.1204, -0.0363]]]).squeeze(0)"
      ],
      "metadata": {
        "id": "KifXXJjfNI_q",
        "outputId": "9156678c-0f25-46ef-ad73-1a966c9feb2f",
        "colab": {
          "base_uri": "https://localhost:8080/"
        }
      },
      "id": "KifXXJjfNI_q",
      "execution_count": 92,
      "outputs": [
        {
          "output_type": "execute_result",
          "data": {
            "text/plain": [
              "tensor([[ 0.1970, -0.0879, -0.1204, -0.0363]])"
            ]
          },
          "metadata": {},
          "execution_count": 92
        }
      ]
    },
    {
      "cell_type": "code",
      "source": [
        "temp = emb(torch.tensor([1,2]))"
      ],
      "metadata": {
        "id": "BY9wMbDbysmZ"
      },
      "id": "BY9wMbDbysmZ",
      "execution_count": 73,
      "outputs": []
    },
    {
      "cell_type": "code",
      "source": [
        "temp"
      ],
      "metadata": {
        "colab": {
          "base_uri": "https://localhost:8080/"
        },
        "id": "QaGqXC7Zj1pb",
        "outputId": "3af82735-96b7-4591-f4b1-365ebca6079b"
      },
      "id": "QaGqXC7Zj1pb",
      "execution_count": 74,
      "outputs": [
        {
          "output_type": "execute_result",
          "data": {
            "text/plain": [
              "tensor([[-0.3267, -0.2788],\n",
              "        [-0.4220, -1.3323]], grad_fn=<EmbeddingBackward0>)"
            ]
          },
          "metadata": {},
          "execution_count": 74
        }
      ]
    },
    {
      "cell_type": "code",
      "source": [
        "temp.unsqueeze(0).squeeze(0)"
      ],
      "metadata": {
        "id": "QGvXHuNVeAyD",
        "outputId": "4f597027-d279-4383-e9c6-9b6746533855",
        "colab": {
          "base_uri": "https://localhost:8080/"
        }
      },
      "id": "QGvXHuNVeAyD",
      "execution_count": 80,
      "outputs": [
        {
          "output_type": "execute_result",
          "data": {
            "text/plain": [
              "tensor([[-0.3267, -0.2788],\n",
              "        [-0.4220, -1.3323]], grad_fn=<SqueezeBackward1>)"
            ]
          },
          "metadata": {},
          "execution_count": 80
        }
      ]
    },
    {
      "cell_type": "code",
      "source": [
        "hidden_to_output(temp)"
      ],
      "metadata": {
        "colab": {
          "base_uri": "https://localhost:8080/"
        },
        "id": "1R3teD1uiPHA",
        "outputId": "ad4ca01f-2eed-4fc1-c5b4-b2c433656633"
      },
      "id": "1R3teD1uiPHA",
      "execution_count": 72,
      "outputs": [
        {
          "output_type": "execute_result",
          "data": {
            "text/plain": [
              "tensor([[[-0.2732, -0.0474, -0.1686,  0.0028]],\n",
              "\n",
              "        [[-0.9667,  0.2394, -0.3408,  0.4227]]], grad_fn=<UnsafeViewBackward0>)"
            ]
          },
          "metadata": {},
          "execution_count": 72
        }
      ]
    },
    {
      "cell_type": "code",
      "execution_count": null,
      "id": "a29ea237-abc9-4bc0-9049-b1af073e2cbc",
      "metadata": {
        "id": "a29ea237-abc9-4bc0-9049-b1af073e2cbc"
      },
      "outputs": [],
      "source": [
        "print(\"After optimization, the parameters are...\")\n",
        "for name, param in modelEmbed.named_parameters():\n",
        "    print(name, param.data)"
      ]
    },
    {
      "cell_type": "code",
      "execution_count": null,
      "id": "71fe1035-b0e6-47f8-93bd-69b60a30e821",
      "metadata": {
        "id": "71fe1035-b0e6-47f8-93bd-69b60a30e821"
      },
      "outputs": [],
      "source": [
        "weights = modelEmbed.embed.weight.detach().numpy()\n",
        "w1 = [weights[0][0], weights[1][0], weights[2][0], weights[3][0]]\n",
        "w2 = [weights[0][1], weights[1][1], weights[2][1], weights[3][1]]"
      ]
    },
    {
      "cell_type": "code",
      "execution_count": null,
      "id": "756b2c0b-16a6-40a1-b0a2-a177e0e1e597",
      "metadata": {
        "id": "756b2c0b-16a6-40a1-b0a2-a177e0e1e597"
      },
      "outputs": [],
      "source": [
        "data = {\n",
        "    \"w1\": w1,\n",
        "    \"w2\": w2,\n",
        "    \"token\": [\"Troll2\", \"is\", \"great\", \"Gymkata\"],\n",
        "    \"input\": [\"input1\", \"input2\", \"input3\", \"input4\"]\n",
        "}\n",
        "df = pd.DataFrame(data)\n",
        "df"
      ]
    },
    {
      "cell_type": "code",
      "execution_count": null,
      "id": "869acfd0-6bc0-4abb-bc80-b1ea8f1b8fca",
      "metadata": {
        "id": "869acfd0-6bc0-4abb-bc80-b1ea8f1b8fca"
      },
      "outputs": [],
      "source": [
        "sns.scatterplot(data=df, x=\"w1\", y=\"w2\")\n",
        "\n",
        "## add the token each dot represents to the graph\n",
        "## NOTE: For Troll2 and and Gymkata, we're adding offsets to where to print the tokens because otherwise\n",
        "## they will be so close to each other that they will overlap and be unreadable.\n",
        "plt.text(df.w1[0]-0.2, df.w2[0]-0.3, df.token[0],\n",
        "         horizontalalignment='left',\n",
        "         size='medium',\n",
        "         color='black',\n",
        "         weight='semibold') # Troll 2\n",
        "plt.text(df.w1[1], df.w2[1], df.token[1],\n",
        "         horizontalalignment='left',\n",
        "         size='medium',\n",
        "         color='black',\n",
        "         weight='semibold') # is\n",
        "plt.text(df.w1[2], df.w2[2], df.token[2],\n",
        "         horizontalalignment='left',\n",
        "         size='medium',\n",
        "         color='black',\n",
        "         weight='semibold') # great\n",
        "plt.text(df.w1[3]-0.3, df.w2[3]+0.2, df.token[3],\n",
        "         horizontalalignment='left',\n",
        "         size='medium',\n",
        "         color='black',\n",
        "         weight='semibold')# Gymkata\n",
        "\n",
        "plt.show()"
      ]
    },
    {
      "cell_type": "code",
      "execution_count": null,
      "id": "86755105-b05e-49f7-8a35-88198218d04d",
      "metadata": {
        "id": "86755105-b05e-49f7-8a35-88198218d04d"
      },
      "outputs": [],
      "source": [
        "## Let's see what the model predicts\n",
        "softmax = nn.Softmax(dim=0) ## dim=0 applies softmax to rows, dim=1 applies softmax to columns\n",
        "\n",
        "print(torch.round(softmax(modelEmbed(torch.tensor([0])).detach()), decimals=2)) ## print the predictions for \"Troll2\"\n",
        "print(torch.round(softmax(modelEmbed(torch.tensor([1])).detach()), decimals=2)) ## print the predictions for \"is\"\n",
        "print(torch.round(softmax(modelEmbed(torch.tensor([2])).detach()), decimals=2)) ## print the predictions for \"great\"\n",
        "print(torch.round(softmax(modelEmbed(torch.tensor([3])).detach()), decimals=2)) ## print the predictions for \"Gymkata\""
      ]
    },
    {
      "cell_type": "markdown",
      "id": "671c48ff-8a5a-4e36-8e9f-4a3be54d04bc",
      "metadata": {
        "id": "671c48ff-8a5a-4e36-8e9f-4a3be54d04bc"
      },
      "source": [
        "# BONUS BAM!!!"
      ]
    }
  ],
  "metadata": {
    "kernelspec": {
      "display_name": "Python 3",
      "language": "python",
      "name": "python3"
    },
    "language_info": {
      "codemirror_mode": {
        "name": "ipython",
        "version": 3
      },
      "file_extension": ".py",
      "mimetype": "text/x-python",
      "name": "python",
      "nbconvert_exporter": "python",
      "pygments_lexer": "ipython3",
      "version": "3.10.10"
    },
    "colab": {
      "provenance": [],
      "toc_visible": true,
      "include_colab_link": true
    },
    "widgets": {
      "application/vnd.jupyter.widget-state+json": {
        "832fcb7efdba48319662ed8f529ddd0e": {
          "model_module": "@jupyter-widgets/controls",
          "model_name": "HBoxModel",
          "model_module_version": "1.5.0",
          "state": {
            "_dom_classes": [],
            "_model_module": "@jupyter-widgets/controls",
            "_model_module_version": "1.5.0",
            "_model_name": "HBoxModel",
            "_view_count": null,
            "_view_module": "@jupyter-widgets/controls",
            "_view_module_version": "1.5.0",
            "_view_name": "HBoxView",
            "box_style": "",
            "children": [
              "IPY_MODEL_4963f469c17042f0a787cda0499b3158",
              "IPY_MODEL_e26407350618428596432e823a6024c1",
              "IPY_MODEL_1b872b310c744fd0b47ddbfedb6009db"
            ],
            "layout": "IPY_MODEL_120c95dd5aa4415d9de834f930700f77"
          }
        },
        "4963f469c17042f0a787cda0499b3158": {
          "model_module": "@jupyter-widgets/controls",
          "model_name": "HTMLModel",
          "model_module_version": "1.5.0",
          "state": {
            "_dom_classes": [],
            "_model_module": "@jupyter-widgets/controls",
            "_model_module_version": "1.5.0",
            "_model_name": "HTMLModel",
            "_view_count": null,
            "_view_module": "@jupyter-widgets/controls",
            "_view_module_version": "1.5.0",
            "_view_name": "HTMLView",
            "description": "",
            "description_tooltip": null,
            "layout": "IPY_MODEL_87a274eadbcd4ca8a086f7bfe13c06ee",
            "placeholder": "​",
            "style": "IPY_MODEL_7096d6614ed04f48a3c05eaf6d76c1f5",
            "value": "Epoch 99: 100%"
          }
        },
        "e26407350618428596432e823a6024c1": {
          "model_module": "@jupyter-widgets/controls",
          "model_name": "FloatProgressModel",
          "model_module_version": "1.5.0",
          "state": {
            "_dom_classes": [],
            "_model_module": "@jupyter-widgets/controls",
            "_model_module_version": "1.5.0",
            "_model_name": "FloatProgressModel",
            "_view_count": null,
            "_view_module": "@jupyter-widgets/controls",
            "_view_module_version": "1.5.0",
            "_view_name": "ProgressView",
            "bar_style": "success",
            "description": "",
            "description_tooltip": null,
            "layout": "IPY_MODEL_b5700f97426c4dcba27d8dbb2f2a8cdc",
            "max": 4,
            "min": 0,
            "orientation": "horizontal",
            "style": "IPY_MODEL_538eafeabb574fc6bdfee33c1da728b7",
            "value": 4
          }
        },
        "1b872b310c744fd0b47ddbfedb6009db": {
          "model_module": "@jupyter-widgets/controls",
          "model_name": "HTMLModel",
          "model_module_version": "1.5.0",
          "state": {
            "_dom_classes": [],
            "_model_module": "@jupyter-widgets/controls",
            "_model_module_version": "1.5.0",
            "_model_name": "HTMLModel",
            "_view_count": null,
            "_view_module": "@jupyter-widgets/controls",
            "_view_module_version": "1.5.0",
            "_view_name": "HTMLView",
            "description": "",
            "description_tooltip": null,
            "layout": "IPY_MODEL_5ecd26a7499a4321a9f862c3a082f2c6",
            "placeholder": "​",
            "style": "IPY_MODEL_021840e19df1491aba871a8cfa7b87b0",
            "value": " 4/4 [00:00&lt;00:00, 47.42it/s, v_num=0]"
          }
        },
        "120c95dd5aa4415d9de834f930700f77": {
          "model_module": "@jupyter-widgets/base",
          "model_name": "LayoutModel",
          "model_module_version": "1.2.0",
          "state": {
            "_model_module": "@jupyter-widgets/base",
            "_model_module_version": "1.2.0",
            "_model_name": "LayoutModel",
            "_view_count": null,
            "_view_module": "@jupyter-widgets/base",
            "_view_module_version": "1.2.0",
            "_view_name": "LayoutView",
            "align_content": null,
            "align_items": null,
            "align_self": null,
            "border": null,
            "bottom": null,
            "display": "inline-flex",
            "flex": null,
            "flex_flow": "row wrap",
            "grid_area": null,
            "grid_auto_columns": null,
            "grid_auto_flow": null,
            "grid_auto_rows": null,
            "grid_column": null,
            "grid_gap": null,
            "grid_row": null,
            "grid_template_areas": null,
            "grid_template_columns": null,
            "grid_template_rows": null,
            "height": null,
            "justify_content": null,
            "justify_items": null,
            "left": null,
            "margin": null,
            "max_height": null,
            "max_width": null,
            "min_height": null,
            "min_width": null,
            "object_fit": null,
            "object_position": null,
            "order": null,
            "overflow": null,
            "overflow_x": null,
            "overflow_y": null,
            "padding": null,
            "right": null,
            "top": null,
            "visibility": null,
            "width": "100%"
          }
        },
        "87a274eadbcd4ca8a086f7bfe13c06ee": {
          "model_module": "@jupyter-widgets/base",
          "model_name": "LayoutModel",
          "model_module_version": "1.2.0",
          "state": {
            "_model_module": "@jupyter-widgets/base",
            "_model_module_version": "1.2.0",
            "_model_name": "LayoutModel",
            "_view_count": null,
            "_view_module": "@jupyter-widgets/base",
            "_view_module_version": "1.2.0",
            "_view_name": "LayoutView",
            "align_content": null,
            "align_items": null,
            "align_self": null,
            "border": null,
            "bottom": null,
            "display": null,
            "flex": null,
            "flex_flow": null,
            "grid_area": null,
            "grid_auto_columns": null,
            "grid_auto_flow": null,
            "grid_auto_rows": null,
            "grid_column": null,
            "grid_gap": null,
            "grid_row": null,
            "grid_template_areas": null,
            "grid_template_columns": null,
            "grid_template_rows": null,
            "height": null,
            "justify_content": null,
            "justify_items": null,
            "left": null,
            "margin": null,
            "max_height": null,
            "max_width": null,
            "min_height": null,
            "min_width": null,
            "object_fit": null,
            "object_position": null,
            "order": null,
            "overflow": null,
            "overflow_x": null,
            "overflow_y": null,
            "padding": null,
            "right": null,
            "top": null,
            "visibility": null,
            "width": null
          }
        },
        "7096d6614ed04f48a3c05eaf6d76c1f5": {
          "model_module": "@jupyter-widgets/controls",
          "model_name": "DescriptionStyleModel",
          "model_module_version": "1.5.0",
          "state": {
            "_model_module": "@jupyter-widgets/controls",
            "_model_module_version": "1.5.0",
            "_model_name": "DescriptionStyleModel",
            "_view_count": null,
            "_view_module": "@jupyter-widgets/base",
            "_view_module_version": "1.2.0",
            "_view_name": "StyleView",
            "description_width": ""
          }
        },
        "b5700f97426c4dcba27d8dbb2f2a8cdc": {
          "model_module": "@jupyter-widgets/base",
          "model_name": "LayoutModel",
          "model_module_version": "1.2.0",
          "state": {
            "_model_module": "@jupyter-widgets/base",
            "_model_module_version": "1.2.0",
            "_model_name": "LayoutModel",
            "_view_count": null,
            "_view_module": "@jupyter-widgets/base",
            "_view_module_version": "1.2.0",
            "_view_name": "LayoutView",
            "align_content": null,
            "align_items": null,
            "align_self": null,
            "border": null,
            "bottom": null,
            "display": null,
            "flex": "2",
            "flex_flow": null,
            "grid_area": null,
            "grid_auto_columns": null,
            "grid_auto_flow": null,
            "grid_auto_rows": null,
            "grid_column": null,
            "grid_gap": null,
            "grid_row": null,
            "grid_template_areas": null,
            "grid_template_columns": null,
            "grid_template_rows": null,
            "height": null,
            "justify_content": null,
            "justify_items": null,
            "left": null,
            "margin": null,
            "max_height": null,
            "max_width": null,
            "min_height": null,
            "min_width": null,
            "object_fit": null,
            "object_position": null,
            "order": null,
            "overflow": null,
            "overflow_x": null,
            "overflow_y": null,
            "padding": null,
            "right": null,
            "top": null,
            "visibility": null,
            "width": null
          }
        },
        "538eafeabb574fc6bdfee33c1da728b7": {
          "model_module": "@jupyter-widgets/controls",
          "model_name": "ProgressStyleModel",
          "model_module_version": "1.5.0",
          "state": {
            "_model_module": "@jupyter-widgets/controls",
            "_model_module_version": "1.5.0",
            "_model_name": "ProgressStyleModel",
            "_view_count": null,
            "_view_module": "@jupyter-widgets/base",
            "_view_module_version": "1.2.0",
            "_view_name": "StyleView",
            "bar_color": null,
            "description_width": ""
          }
        },
        "5ecd26a7499a4321a9f862c3a082f2c6": {
          "model_module": "@jupyter-widgets/base",
          "model_name": "LayoutModel",
          "model_module_version": "1.2.0",
          "state": {
            "_model_module": "@jupyter-widgets/base",
            "_model_module_version": "1.2.0",
            "_model_name": "LayoutModel",
            "_view_count": null,
            "_view_module": "@jupyter-widgets/base",
            "_view_module_version": "1.2.0",
            "_view_name": "LayoutView",
            "align_content": null,
            "align_items": null,
            "align_self": null,
            "border": null,
            "bottom": null,
            "display": null,
            "flex": null,
            "flex_flow": null,
            "grid_area": null,
            "grid_auto_columns": null,
            "grid_auto_flow": null,
            "grid_auto_rows": null,
            "grid_column": null,
            "grid_gap": null,
            "grid_row": null,
            "grid_template_areas": null,
            "grid_template_columns": null,
            "grid_template_rows": null,
            "height": null,
            "justify_content": null,
            "justify_items": null,
            "left": null,
            "margin": null,
            "max_height": null,
            "max_width": null,
            "min_height": null,
            "min_width": null,
            "object_fit": null,
            "object_position": null,
            "order": null,
            "overflow": null,
            "overflow_x": null,
            "overflow_y": null,
            "padding": null,
            "right": null,
            "top": null,
            "visibility": null,
            "width": null
          }
        },
        "021840e19df1491aba871a8cfa7b87b0": {
          "model_module": "@jupyter-widgets/controls",
          "model_name": "DescriptionStyleModel",
          "model_module_version": "1.5.0",
          "state": {
            "_model_module": "@jupyter-widgets/controls",
            "_model_module_version": "1.5.0",
            "_model_name": "DescriptionStyleModel",
            "_view_count": null,
            "_view_module": "@jupyter-widgets/base",
            "_view_module_version": "1.2.0",
            "_view_name": "StyleView",
            "description_width": ""
          }
        },
        "043d8f8d11404d8f968ad56dc693db2d": {
          "model_module": "@jupyter-widgets/controls",
          "model_name": "HBoxModel",
          "model_module_version": "1.5.0",
          "state": {
            "_dom_classes": [],
            "_model_module": "@jupyter-widgets/controls",
            "_model_module_version": "1.5.0",
            "_model_name": "HBoxModel",
            "_view_count": null,
            "_view_module": "@jupyter-widgets/controls",
            "_view_module_version": "1.5.0",
            "_view_name": "HBoxView",
            "box_style": "",
            "children": [
              "IPY_MODEL_a4d6f650fa394d31a987b1f692874b0c",
              "IPY_MODEL_544d03872be7433e9a0314384da83508",
              "IPY_MODEL_b54c2b4b843a490eaa0c0778d3d5fecb"
            ],
            "layout": "IPY_MODEL_73c24e552d644d79a94da616eba8c2d5"
          }
        },
        "a4d6f650fa394d31a987b1f692874b0c": {
          "model_module": "@jupyter-widgets/controls",
          "model_name": "HTMLModel",
          "model_module_version": "1.5.0",
          "state": {
            "_dom_classes": [],
            "_model_module": "@jupyter-widgets/controls",
            "_model_module_version": "1.5.0",
            "_model_name": "HTMLModel",
            "_view_count": null,
            "_view_module": "@jupyter-widgets/controls",
            "_view_module_version": "1.5.0",
            "_view_name": "HTMLView",
            "description": "",
            "description_tooltip": null,
            "layout": "IPY_MODEL_c9e2ef49427f4e029b45cccb6c7611b9",
            "placeholder": "​",
            "style": "IPY_MODEL_1b12bf7a88e44604be154f902e07213f",
            "value": "Epoch 0: 100%"
          }
        },
        "544d03872be7433e9a0314384da83508": {
          "model_module": "@jupyter-widgets/controls",
          "model_name": "FloatProgressModel",
          "model_module_version": "1.5.0",
          "state": {
            "_dom_classes": [],
            "_model_module": "@jupyter-widgets/controls",
            "_model_module_version": "1.5.0",
            "_model_name": "FloatProgressModel",
            "_view_count": null,
            "_view_module": "@jupyter-widgets/controls",
            "_view_module_version": "1.5.0",
            "_view_name": "ProgressView",
            "bar_style": "success",
            "description": "",
            "description_tooltip": null,
            "layout": "IPY_MODEL_acd8fadd417d48cf81e2280de2f3ce38",
            "max": 4,
            "min": 0,
            "orientation": "horizontal",
            "style": "IPY_MODEL_10558466b2b1439186c25b7999a45569",
            "value": 4
          }
        },
        "b54c2b4b843a490eaa0c0778d3d5fecb": {
          "model_module": "@jupyter-widgets/controls",
          "model_name": "HTMLModel",
          "model_module_version": "1.5.0",
          "state": {
            "_dom_classes": [],
            "_model_module": "@jupyter-widgets/controls",
            "_model_module_version": "1.5.0",
            "_model_name": "HTMLModel",
            "_view_count": null,
            "_view_module": "@jupyter-widgets/controls",
            "_view_module_version": "1.5.0",
            "_view_name": "HTMLView",
            "description": "",
            "description_tooltip": null,
            "layout": "IPY_MODEL_10d71129230a4d7aba1bcbede8d93c5f",
            "placeholder": "​",
            "style": "IPY_MODEL_a61dfbe72f3c4fca8f10200741645a28",
            "value": " 4/4 [00:00&lt;00:00, 43.45it/s, v_num=1]"
          }
        },
        "73c24e552d644d79a94da616eba8c2d5": {
          "model_module": "@jupyter-widgets/base",
          "model_name": "LayoutModel",
          "model_module_version": "1.2.0",
          "state": {
            "_model_module": "@jupyter-widgets/base",
            "_model_module_version": "1.2.0",
            "_model_name": "LayoutModel",
            "_view_count": null,
            "_view_module": "@jupyter-widgets/base",
            "_view_module_version": "1.2.0",
            "_view_name": "LayoutView",
            "align_content": null,
            "align_items": null,
            "align_self": null,
            "border": null,
            "bottom": null,
            "display": "inline-flex",
            "flex": null,
            "flex_flow": "row wrap",
            "grid_area": null,
            "grid_auto_columns": null,
            "grid_auto_flow": null,
            "grid_auto_rows": null,
            "grid_column": null,
            "grid_gap": null,
            "grid_row": null,
            "grid_template_areas": null,
            "grid_template_columns": null,
            "grid_template_rows": null,
            "height": null,
            "justify_content": null,
            "justify_items": null,
            "left": null,
            "margin": null,
            "max_height": null,
            "max_width": null,
            "min_height": null,
            "min_width": null,
            "object_fit": null,
            "object_position": null,
            "order": null,
            "overflow": null,
            "overflow_x": null,
            "overflow_y": null,
            "padding": null,
            "right": null,
            "top": null,
            "visibility": null,
            "width": "100%"
          }
        },
        "c9e2ef49427f4e029b45cccb6c7611b9": {
          "model_module": "@jupyter-widgets/base",
          "model_name": "LayoutModel",
          "model_module_version": "1.2.0",
          "state": {
            "_model_module": "@jupyter-widgets/base",
            "_model_module_version": "1.2.0",
            "_model_name": "LayoutModel",
            "_view_count": null,
            "_view_module": "@jupyter-widgets/base",
            "_view_module_version": "1.2.0",
            "_view_name": "LayoutView",
            "align_content": null,
            "align_items": null,
            "align_self": null,
            "border": null,
            "bottom": null,
            "display": null,
            "flex": null,
            "flex_flow": null,
            "grid_area": null,
            "grid_auto_columns": null,
            "grid_auto_flow": null,
            "grid_auto_rows": null,
            "grid_column": null,
            "grid_gap": null,
            "grid_row": null,
            "grid_template_areas": null,
            "grid_template_columns": null,
            "grid_template_rows": null,
            "height": null,
            "justify_content": null,
            "justify_items": null,
            "left": null,
            "margin": null,
            "max_height": null,
            "max_width": null,
            "min_height": null,
            "min_width": null,
            "object_fit": null,
            "object_position": null,
            "order": null,
            "overflow": null,
            "overflow_x": null,
            "overflow_y": null,
            "padding": null,
            "right": null,
            "top": null,
            "visibility": null,
            "width": null
          }
        },
        "1b12bf7a88e44604be154f902e07213f": {
          "model_module": "@jupyter-widgets/controls",
          "model_name": "DescriptionStyleModel",
          "model_module_version": "1.5.0",
          "state": {
            "_model_module": "@jupyter-widgets/controls",
            "_model_module_version": "1.5.0",
            "_model_name": "DescriptionStyleModel",
            "_view_count": null,
            "_view_module": "@jupyter-widgets/base",
            "_view_module_version": "1.2.0",
            "_view_name": "StyleView",
            "description_width": ""
          }
        },
        "acd8fadd417d48cf81e2280de2f3ce38": {
          "model_module": "@jupyter-widgets/base",
          "model_name": "LayoutModel",
          "model_module_version": "1.2.0",
          "state": {
            "_model_module": "@jupyter-widgets/base",
            "_model_module_version": "1.2.0",
            "_model_name": "LayoutModel",
            "_view_count": null,
            "_view_module": "@jupyter-widgets/base",
            "_view_module_version": "1.2.0",
            "_view_name": "LayoutView",
            "align_content": null,
            "align_items": null,
            "align_self": null,
            "border": null,
            "bottom": null,
            "display": null,
            "flex": "2",
            "flex_flow": null,
            "grid_area": null,
            "grid_auto_columns": null,
            "grid_auto_flow": null,
            "grid_auto_rows": null,
            "grid_column": null,
            "grid_gap": null,
            "grid_row": null,
            "grid_template_areas": null,
            "grid_template_columns": null,
            "grid_template_rows": null,
            "height": null,
            "justify_content": null,
            "justify_items": null,
            "left": null,
            "margin": null,
            "max_height": null,
            "max_width": null,
            "min_height": null,
            "min_width": null,
            "object_fit": null,
            "object_position": null,
            "order": null,
            "overflow": null,
            "overflow_x": null,
            "overflow_y": null,
            "padding": null,
            "right": null,
            "top": null,
            "visibility": null,
            "width": null
          }
        },
        "10558466b2b1439186c25b7999a45569": {
          "model_module": "@jupyter-widgets/controls",
          "model_name": "ProgressStyleModel",
          "model_module_version": "1.5.0",
          "state": {
            "_model_module": "@jupyter-widgets/controls",
            "_model_module_version": "1.5.0",
            "_model_name": "ProgressStyleModel",
            "_view_count": null,
            "_view_module": "@jupyter-widgets/base",
            "_view_module_version": "1.2.0",
            "_view_name": "StyleView",
            "bar_color": null,
            "description_width": ""
          }
        },
        "10d71129230a4d7aba1bcbede8d93c5f": {
          "model_module": "@jupyter-widgets/base",
          "model_name": "LayoutModel",
          "model_module_version": "1.2.0",
          "state": {
            "_model_module": "@jupyter-widgets/base",
            "_model_module_version": "1.2.0",
            "_model_name": "LayoutModel",
            "_view_count": null,
            "_view_module": "@jupyter-widgets/base",
            "_view_module_version": "1.2.0",
            "_view_name": "LayoutView",
            "align_content": null,
            "align_items": null,
            "align_self": null,
            "border": null,
            "bottom": null,
            "display": null,
            "flex": null,
            "flex_flow": null,
            "grid_area": null,
            "grid_auto_columns": null,
            "grid_auto_flow": null,
            "grid_auto_rows": null,
            "grid_column": null,
            "grid_gap": null,
            "grid_row": null,
            "grid_template_areas": null,
            "grid_template_columns": null,
            "grid_template_rows": null,
            "height": null,
            "justify_content": null,
            "justify_items": null,
            "left": null,
            "margin": null,
            "max_height": null,
            "max_width": null,
            "min_height": null,
            "min_width": null,
            "object_fit": null,
            "object_position": null,
            "order": null,
            "overflow": null,
            "overflow_x": null,
            "overflow_y": null,
            "padding": null,
            "right": null,
            "top": null,
            "visibility": null,
            "width": null
          }
        },
        "a61dfbe72f3c4fca8f10200741645a28": {
          "model_module": "@jupyter-widgets/controls",
          "model_name": "DescriptionStyleModel",
          "model_module_version": "1.5.0",
          "state": {
            "_model_module": "@jupyter-widgets/controls",
            "_model_module_version": "1.5.0",
            "_model_name": "DescriptionStyleModel",
            "_view_count": null,
            "_view_module": "@jupyter-widgets/base",
            "_view_module_version": "1.2.0",
            "_view_name": "StyleView",
            "description_width": ""
          }
        },
        "e38b70a4ef0a41a3a87f0ace75226fec": {
          "model_module": "@jupyter-widgets/controls",
          "model_name": "HBoxModel",
          "model_module_version": "1.5.0",
          "state": {
            "_dom_classes": [],
            "_model_module": "@jupyter-widgets/controls",
            "_model_module_version": "1.5.0",
            "_model_name": "HBoxModel",
            "_view_count": null,
            "_view_module": "@jupyter-widgets/controls",
            "_view_module_version": "1.5.0",
            "_view_name": "HBoxView",
            "box_style": "",
            "children": [
              "IPY_MODEL_c0176a2140304b798ed1a317f4db5e5e",
              "IPY_MODEL_880c590f1dc84d979b989a46ccfc8e2a",
              "IPY_MODEL_f32b853875264748896ad8d2324baf1b"
            ],
            "layout": "IPY_MODEL_1718080bbaad47f1b55267e0474f82a7"
          }
        },
        "c0176a2140304b798ed1a317f4db5e5e": {
          "model_module": "@jupyter-widgets/controls",
          "model_name": "HTMLModel",
          "model_module_version": "1.5.0",
          "state": {
            "_dom_classes": [],
            "_model_module": "@jupyter-widgets/controls",
            "_model_module_version": "1.5.0",
            "_model_name": "HTMLModel",
            "_view_count": null,
            "_view_module": "@jupyter-widgets/controls",
            "_view_module_version": "1.5.0",
            "_view_name": "HTMLView",
            "description": "",
            "description_tooltip": null,
            "layout": "IPY_MODEL_138a2db0e89a4a7ea0408a3251343930",
            "placeholder": "​",
            "style": "IPY_MODEL_a5eda21d41cb4e6a88203a39ede30bfa",
            "value": "Epoch 99: 100%"
          }
        },
        "880c590f1dc84d979b989a46ccfc8e2a": {
          "model_module": "@jupyter-widgets/controls",
          "model_name": "FloatProgressModel",
          "model_module_version": "1.5.0",
          "state": {
            "_dom_classes": [],
            "_model_module": "@jupyter-widgets/controls",
            "_model_module_version": "1.5.0",
            "_model_name": "FloatProgressModel",
            "_view_count": null,
            "_view_module": "@jupyter-widgets/controls",
            "_view_module_version": "1.5.0",
            "_view_name": "ProgressView",
            "bar_style": "success",
            "description": "",
            "description_tooltip": null,
            "layout": "IPY_MODEL_30e84caf3cfc4cc4a5e037694678b437",
            "max": 4,
            "min": 0,
            "orientation": "horizontal",
            "style": "IPY_MODEL_41d739f9dbdc448581bbf3b103fe554a",
            "value": 4
          }
        },
        "f32b853875264748896ad8d2324baf1b": {
          "model_module": "@jupyter-widgets/controls",
          "model_name": "HTMLModel",
          "model_module_version": "1.5.0",
          "state": {
            "_dom_classes": [],
            "_model_module": "@jupyter-widgets/controls",
            "_model_module_version": "1.5.0",
            "_model_name": "HTMLModel",
            "_view_count": null,
            "_view_module": "@jupyter-widgets/controls",
            "_view_module_version": "1.5.0",
            "_view_name": "HTMLView",
            "description": "",
            "description_tooltip": null,
            "layout": "IPY_MODEL_1a2cdaccc3d74645915a13ec97d5ebde",
            "placeholder": "​",
            "style": "IPY_MODEL_35828feacfbc47929d90cd27c1fae2c3",
            "value": " 4/4 [00:00&lt;00:00, 23.80it/s, v_num=2]"
          }
        },
        "1718080bbaad47f1b55267e0474f82a7": {
          "model_module": "@jupyter-widgets/base",
          "model_name": "LayoutModel",
          "model_module_version": "1.2.0",
          "state": {
            "_model_module": "@jupyter-widgets/base",
            "_model_module_version": "1.2.0",
            "_model_name": "LayoutModel",
            "_view_count": null,
            "_view_module": "@jupyter-widgets/base",
            "_view_module_version": "1.2.0",
            "_view_name": "LayoutView",
            "align_content": null,
            "align_items": null,
            "align_self": null,
            "border": null,
            "bottom": null,
            "display": "inline-flex",
            "flex": null,
            "flex_flow": "row wrap",
            "grid_area": null,
            "grid_auto_columns": null,
            "grid_auto_flow": null,
            "grid_auto_rows": null,
            "grid_column": null,
            "grid_gap": null,
            "grid_row": null,
            "grid_template_areas": null,
            "grid_template_columns": null,
            "grid_template_rows": null,
            "height": null,
            "justify_content": null,
            "justify_items": null,
            "left": null,
            "margin": null,
            "max_height": null,
            "max_width": null,
            "min_height": null,
            "min_width": null,
            "object_fit": null,
            "object_position": null,
            "order": null,
            "overflow": null,
            "overflow_x": null,
            "overflow_y": null,
            "padding": null,
            "right": null,
            "top": null,
            "visibility": null,
            "width": "100%"
          }
        },
        "138a2db0e89a4a7ea0408a3251343930": {
          "model_module": "@jupyter-widgets/base",
          "model_name": "LayoutModel",
          "model_module_version": "1.2.0",
          "state": {
            "_model_module": "@jupyter-widgets/base",
            "_model_module_version": "1.2.0",
            "_model_name": "LayoutModel",
            "_view_count": null,
            "_view_module": "@jupyter-widgets/base",
            "_view_module_version": "1.2.0",
            "_view_name": "LayoutView",
            "align_content": null,
            "align_items": null,
            "align_self": null,
            "border": null,
            "bottom": null,
            "display": null,
            "flex": null,
            "flex_flow": null,
            "grid_area": null,
            "grid_auto_columns": null,
            "grid_auto_flow": null,
            "grid_auto_rows": null,
            "grid_column": null,
            "grid_gap": null,
            "grid_row": null,
            "grid_template_areas": null,
            "grid_template_columns": null,
            "grid_template_rows": null,
            "height": null,
            "justify_content": null,
            "justify_items": null,
            "left": null,
            "margin": null,
            "max_height": null,
            "max_width": null,
            "min_height": null,
            "min_width": null,
            "object_fit": null,
            "object_position": null,
            "order": null,
            "overflow": null,
            "overflow_x": null,
            "overflow_y": null,
            "padding": null,
            "right": null,
            "top": null,
            "visibility": null,
            "width": null
          }
        },
        "a5eda21d41cb4e6a88203a39ede30bfa": {
          "model_module": "@jupyter-widgets/controls",
          "model_name": "DescriptionStyleModel",
          "model_module_version": "1.5.0",
          "state": {
            "_model_module": "@jupyter-widgets/controls",
            "_model_module_version": "1.5.0",
            "_model_name": "DescriptionStyleModel",
            "_view_count": null,
            "_view_module": "@jupyter-widgets/base",
            "_view_module_version": "1.2.0",
            "_view_name": "StyleView",
            "description_width": ""
          }
        },
        "30e84caf3cfc4cc4a5e037694678b437": {
          "model_module": "@jupyter-widgets/base",
          "model_name": "LayoutModel",
          "model_module_version": "1.2.0",
          "state": {
            "_model_module": "@jupyter-widgets/base",
            "_model_module_version": "1.2.0",
            "_model_name": "LayoutModel",
            "_view_count": null,
            "_view_module": "@jupyter-widgets/base",
            "_view_module_version": "1.2.0",
            "_view_name": "LayoutView",
            "align_content": null,
            "align_items": null,
            "align_self": null,
            "border": null,
            "bottom": null,
            "display": null,
            "flex": "2",
            "flex_flow": null,
            "grid_area": null,
            "grid_auto_columns": null,
            "grid_auto_flow": null,
            "grid_auto_rows": null,
            "grid_column": null,
            "grid_gap": null,
            "grid_row": null,
            "grid_template_areas": null,
            "grid_template_columns": null,
            "grid_template_rows": null,
            "height": null,
            "justify_content": null,
            "justify_items": null,
            "left": null,
            "margin": null,
            "max_height": null,
            "max_width": null,
            "min_height": null,
            "min_width": null,
            "object_fit": null,
            "object_position": null,
            "order": null,
            "overflow": null,
            "overflow_x": null,
            "overflow_y": null,
            "padding": null,
            "right": null,
            "top": null,
            "visibility": null,
            "width": null
          }
        },
        "41d739f9dbdc448581bbf3b103fe554a": {
          "model_module": "@jupyter-widgets/controls",
          "model_name": "ProgressStyleModel",
          "model_module_version": "1.5.0",
          "state": {
            "_model_module": "@jupyter-widgets/controls",
            "_model_module_version": "1.5.0",
            "_model_name": "ProgressStyleModel",
            "_view_count": null,
            "_view_module": "@jupyter-widgets/base",
            "_view_module_version": "1.2.0",
            "_view_name": "StyleView",
            "bar_color": null,
            "description_width": ""
          }
        },
        "1a2cdaccc3d74645915a13ec97d5ebde": {
          "model_module": "@jupyter-widgets/base",
          "model_name": "LayoutModel",
          "model_module_version": "1.2.0",
          "state": {
            "_model_module": "@jupyter-widgets/base",
            "_model_module_version": "1.2.0",
            "_model_name": "LayoutModel",
            "_view_count": null,
            "_view_module": "@jupyter-widgets/base",
            "_view_module_version": "1.2.0",
            "_view_name": "LayoutView",
            "align_content": null,
            "align_items": null,
            "align_self": null,
            "border": null,
            "bottom": null,
            "display": null,
            "flex": null,
            "flex_flow": null,
            "grid_area": null,
            "grid_auto_columns": null,
            "grid_auto_flow": null,
            "grid_auto_rows": null,
            "grid_column": null,
            "grid_gap": null,
            "grid_row": null,
            "grid_template_areas": null,
            "grid_template_columns": null,
            "grid_template_rows": null,
            "height": null,
            "justify_content": null,
            "justify_items": null,
            "left": null,
            "margin": null,
            "max_height": null,
            "max_width": null,
            "min_height": null,
            "min_width": null,
            "object_fit": null,
            "object_position": null,
            "order": null,
            "overflow": null,
            "overflow_x": null,
            "overflow_y": null,
            "padding": null,
            "right": null,
            "top": null,
            "visibility": null,
            "width": null
          }
        },
        "35828feacfbc47929d90cd27c1fae2c3": {
          "model_module": "@jupyter-widgets/controls",
          "model_name": "DescriptionStyleModel",
          "model_module_version": "1.5.0",
          "state": {
            "_model_module": "@jupyter-widgets/controls",
            "_model_module_version": "1.5.0",
            "_model_name": "DescriptionStyleModel",
            "_view_count": null,
            "_view_module": "@jupyter-widgets/base",
            "_view_module_version": "1.2.0",
            "_view_name": "StyleView",
            "description_width": ""
          }
        },
        "b5a354864753486db89b9ca6dca87119": {
          "model_module": "@jupyter-widgets/controls",
          "model_name": "HBoxModel",
          "model_module_version": "1.5.0",
          "state": {
            "_dom_classes": [],
            "_model_module": "@jupyter-widgets/controls",
            "_model_module_version": "1.5.0",
            "_model_name": "HBoxModel",
            "_view_count": null,
            "_view_module": "@jupyter-widgets/controls",
            "_view_module_version": "1.5.0",
            "_view_name": "HBoxView",
            "box_style": "",
            "children": [
              "IPY_MODEL_e8dff35e98884fd499a76ac32141a390",
              "IPY_MODEL_d007cd9837ba4dd5839650b2a678d415",
              "IPY_MODEL_baa1046f1aee476ead160d28d263fa1f"
            ],
            "layout": "IPY_MODEL_bcc962a48b954d03b67ddfddcceb20ef"
          }
        },
        "e8dff35e98884fd499a76ac32141a390": {
          "model_module": "@jupyter-widgets/controls",
          "model_name": "HTMLModel",
          "model_module_version": "1.5.0",
          "state": {
            "_dom_classes": [],
            "_model_module": "@jupyter-widgets/controls",
            "_model_module_version": "1.5.0",
            "_model_name": "HTMLModel",
            "_view_count": null,
            "_view_module": "@jupyter-widgets/controls",
            "_view_module_version": "1.5.0",
            "_view_name": "HTMLView",
            "description": "",
            "description_tooltip": null,
            "layout": "IPY_MODEL_0cb6f3ceb5c141a29be6006a62303499",
            "placeholder": "​",
            "style": "IPY_MODEL_56c187e199f44cf88b5d1a3a4273b778",
            "value": "Epoch 0: 100%"
          }
        },
        "d007cd9837ba4dd5839650b2a678d415": {
          "model_module": "@jupyter-widgets/controls",
          "model_name": "FloatProgressModel",
          "model_module_version": "1.5.0",
          "state": {
            "_dom_classes": [],
            "_model_module": "@jupyter-widgets/controls",
            "_model_module_version": "1.5.0",
            "_model_name": "FloatProgressModel",
            "_view_count": null,
            "_view_module": "@jupyter-widgets/controls",
            "_view_module_version": "1.5.0",
            "_view_name": "ProgressView",
            "bar_style": "success",
            "description": "",
            "description_tooltip": null,
            "layout": "IPY_MODEL_21a600145a684609bf62f8aaf092d63e",
            "max": 4,
            "min": 0,
            "orientation": "horizontal",
            "style": "IPY_MODEL_72f46667bc594462a9a6b6c4ade7893b",
            "value": 4
          }
        },
        "baa1046f1aee476ead160d28d263fa1f": {
          "model_module": "@jupyter-widgets/controls",
          "model_name": "HTMLModel",
          "model_module_version": "1.5.0",
          "state": {
            "_dom_classes": [],
            "_model_module": "@jupyter-widgets/controls",
            "_model_module_version": "1.5.0",
            "_model_name": "HTMLModel",
            "_view_count": null,
            "_view_module": "@jupyter-widgets/controls",
            "_view_module_version": "1.5.0",
            "_view_name": "HTMLView",
            "description": "",
            "description_tooltip": null,
            "layout": "IPY_MODEL_784cc745f6a14bad9a3a9a9ebb63d5a5",
            "placeholder": "​",
            "style": "IPY_MODEL_2c455cd5073f40f79526bf59dab04fd7",
            "value": " 4/4 [00:00&lt;00:00, 59.47it/s, v_num=5]"
          }
        },
        "bcc962a48b954d03b67ddfddcceb20ef": {
          "model_module": "@jupyter-widgets/base",
          "model_name": "LayoutModel",
          "model_module_version": "1.2.0",
          "state": {
            "_model_module": "@jupyter-widgets/base",
            "_model_module_version": "1.2.0",
            "_model_name": "LayoutModel",
            "_view_count": null,
            "_view_module": "@jupyter-widgets/base",
            "_view_module_version": "1.2.0",
            "_view_name": "LayoutView",
            "align_content": null,
            "align_items": null,
            "align_self": null,
            "border": null,
            "bottom": null,
            "display": "inline-flex",
            "flex": null,
            "flex_flow": "row wrap",
            "grid_area": null,
            "grid_auto_columns": null,
            "grid_auto_flow": null,
            "grid_auto_rows": null,
            "grid_column": null,
            "grid_gap": null,
            "grid_row": null,
            "grid_template_areas": null,
            "grid_template_columns": null,
            "grid_template_rows": null,
            "height": null,
            "justify_content": null,
            "justify_items": null,
            "left": null,
            "margin": null,
            "max_height": null,
            "max_width": null,
            "min_height": null,
            "min_width": null,
            "object_fit": null,
            "object_position": null,
            "order": null,
            "overflow": null,
            "overflow_x": null,
            "overflow_y": null,
            "padding": null,
            "right": null,
            "top": null,
            "visibility": null,
            "width": "100%"
          }
        },
        "0cb6f3ceb5c141a29be6006a62303499": {
          "model_module": "@jupyter-widgets/base",
          "model_name": "LayoutModel",
          "model_module_version": "1.2.0",
          "state": {
            "_model_module": "@jupyter-widgets/base",
            "_model_module_version": "1.2.0",
            "_model_name": "LayoutModel",
            "_view_count": null,
            "_view_module": "@jupyter-widgets/base",
            "_view_module_version": "1.2.0",
            "_view_name": "LayoutView",
            "align_content": null,
            "align_items": null,
            "align_self": null,
            "border": null,
            "bottom": null,
            "display": null,
            "flex": null,
            "flex_flow": null,
            "grid_area": null,
            "grid_auto_columns": null,
            "grid_auto_flow": null,
            "grid_auto_rows": null,
            "grid_column": null,
            "grid_gap": null,
            "grid_row": null,
            "grid_template_areas": null,
            "grid_template_columns": null,
            "grid_template_rows": null,
            "height": null,
            "justify_content": null,
            "justify_items": null,
            "left": null,
            "margin": null,
            "max_height": null,
            "max_width": null,
            "min_height": null,
            "min_width": null,
            "object_fit": null,
            "object_position": null,
            "order": null,
            "overflow": null,
            "overflow_x": null,
            "overflow_y": null,
            "padding": null,
            "right": null,
            "top": null,
            "visibility": null,
            "width": null
          }
        },
        "56c187e199f44cf88b5d1a3a4273b778": {
          "model_module": "@jupyter-widgets/controls",
          "model_name": "DescriptionStyleModel",
          "model_module_version": "1.5.0",
          "state": {
            "_model_module": "@jupyter-widgets/controls",
            "_model_module_version": "1.5.0",
            "_model_name": "DescriptionStyleModel",
            "_view_count": null,
            "_view_module": "@jupyter-widgets/base",
            "_view_module_version": "1.2.0",
            "_view_name": "StyleView",
            "description_width": ""
          }
        },
        "21a600145a684609bf62f8aaf092d63e": {
          "model_module": "@jupyter-widgets/base",
          "model_name": "LayoutModel",
          "model_module_version": "1.2.0",
          "state": {
            "_model_module": "@jupyter-widgets/base",
            "_model_module_version": "1.2.0",
            "_model_name": "LayoutModel",
            "_view_count": null,
            "_view_module": "@jupyter-widgets/base",
            "_view_module_version": "1.2.0",
            "_view_name": "LayoutView",
            "align_content": null,
            "align_items": null,
            "align_self": null,
            "border": null,
            "bottom": null,
            "display": null,
            "flex": "2",
            "flex_flow": null,
            "grid_area": null,
            "grid_auto_columns": null,
            "grid_auto_flow": null,
            "grid_auto_rows": null,
            "grid_column": null,
            "grid_gap": null,
            "grid_row": null,
            "grid_template_areas": null,
            "grid_template_columns": null,
            "grid_template_rows": null,
            "height": null,
            "justify_content": null,
            "justify_items": null,
            "left": null,
            "margin": null,
            "max_height": null,
            "max_width": null,
            "min_height": null,
            "min_width": null,
            "object_fit": null,
            "object_position": null,
            "order": null,
            "overflow": null,
            "overflow_x": null,
            "overflow_y": null,
            "padding": null,
            "right": null,
            "top": null,
            "visibility": null,
            "width": null
          }
        },
        "72f46667bc594462a9a6b6c4ade7893b": {
          "model_module": "@jupyter-widgets/controls",
          "model_name": "ProgressStyleModel",
          "model_module_version": "1.5.0",
          "state": {
            "_model_module": "@jupyter-widgets/controls",
            "_model_module_version": "1.5.0",
            "_model_name": "ProgressStyleModel",
            "_view_count": null,
            "_view_module": "@jupyter-widgets/base",
            "_view_module_version": "1.2.0",
            "_view_name": "StyleView",
            "bar_color": null,
            "description_width": ""
          }
        },
        "784cc745f6a14bad9a3a9a9ebb63d5a5": {
          "model_module": "@jupyter-widgets/base",
          "model_name": "LayoutModel",
          "model_module_version": "1.2.0",
          "state": {
            "_model_module": "@jupyter-widgets/base",
            "_model_module_version": "1.2.0",
            "_model_name": "LayoutModel",
            "_view_count": null,
            "_view_module": "@jupyter-widgets/base",
            "_view_module_version": "1.2.0",
            "_view_name": "LayoutView",
            "align_content": null,
            "align_items": null,
            "align_self": null,
            "border": null,
            "bottom": null,
            "display": null,
            "flex": null,
            "flex_flow": null,
            "grid_area": null,
            "grid_auto_columns": null,
            "grid_auto_flow": null,
            "grid_auto_rows": null,
            "grid_column": null,
            "grid_gap": null,
            "grid_row": null,
            "grid_template_areas": null,
            "grid_template_columns": null,
            "grid_template_rows": null,
            "height": null,
            "justify_content": null,
            "justify_items": null,
            "left": null,
            "margin": null,
            "max_height": null,
            "max_width": null,
            "min_height": null,
            "min_width": null,
            "object_fit": null,
            "object_position": null,
            "order": null,
            "overflow": null,
            "overflow_x": null,
            "overflow_y": null,
            "padding": null,
            "right": null,
            "top": null,
            "visibility": null,
            "width": null
          }
        },
        "2c455cd5073f40f79526bf59dab04fd7": {
          "model_module": "@jupyter-widgets/controls",
          "model_name": "DescriptionStyleModel",
          "model_module_version": "1.5.0",
          "state": {
            "_model_module": "@jupyter-widgets/controls",
            "_model_module_version": "1.5.0",
            "_model_name": "DescriptionStyleModel",
            "_view_count": null,
            "_view_module": "@jupyter-widgets/base",
            "_view_module_version": "1.2.0",
            "_view_name": "StyleView",
            "description_width": ""
          }
        },
        "544c40f325e44f90b34bbed9259107f5": {
          "model_module": "@jupyter-widgets/controls",
          "model_name": "HBoxModel",
          "model_module_version": "1.5.0",
          "state": {
            "_dom_classes": [],
            "_model_module": "@jupyter-widgets/controls",
            "_model_module_version": "1.5.0",
            "_model_name": "HBoxModel",
            "_view_count": null,
            "_view_module": "@jupyter-widgets/controls",
            "_view_module_version": "1.5.0",
            "_view_name": "HBoxView",
            "box_style": "",
            "children": [
              "IPY_MODEL_7dd3014d1e1c4743b0e03bb3fe48572a",
              "IPY_MODEL_fbe1f46379cf4e4391d302a88aed0a78",
              "IPY_MODEL_d6c06c03f1734056bbce678ff732d609"
            ],
            "layout": "IPY_MODEL_09f1a935f4144da0814c2df21d260e8c"
          }
        },
        "7dd3014d1e1c4743b0e03bb3fe48572a": {
          "model_module": "@jupyter-widgets/controls",
          "model_name": "HTMLModel",
          "model_module_version": "1.5.0",
          "state": {
            "_dom_classes": [],
            "_model_module": "@jupyter-widgets/controls",
            "_model_module_version": "1.5.0",
            "_model_name": "HTMLModel",
            "_view_count": null,
            "_view_module": "@jupyter-widgets/controls",
            "_view_module_version": "1.5.0",
            "_view_name": "HTMLView",
            "description": "",
            "description_tooltip": null,
            "layout": "IPY_MODEL_e644777f3a924bad9cdb5dbc298355ba",
            "placeholder": "​",
            "style": "IPY_MODEL_2a1324218bca4741aa824a7024ae647e",
            "value": "Epoch 0: 100%"
          }
        },
        "fbe1f46379cf4e4391d302a88aed0a78": {
          "model_module": "@jupyter-widgets/controls",
          "model_name": "FloatProgressModel",
          "model_module_version": "1.5.0",
          "state": {
            "_dom_classes": [],
            "_model_module": "@jupyter-widgets/controls",
            "_model_module_version": "1.5.0",
            "_model_name": "FloatProgressModel",
            "_view_count": null,
            "_view_module": "@jupyter-widgets/controls",
            "_view_module_version": "1.5.0",
            "_view_name": "ProgressView",
            "bar_style": "success",
            "description": "",
            "description_tooltip": null,
            "layout": "IPY_MODEL_90ea8bcef2cf4d30b310cab474650067",
            "max": 1,
            "min": 0,
            "orientation": "horizontal",
            "style": "IPY_MODEL_2ef438ebcf754041a375901bdd915686",
            "value": 1
          }
        },
        "d6c06c03f1734056bbce678ff732d609": {
          "model_module": "@jupyter-widgets/controls",
          "model_name": "HTMLModel",
          "model_module_version": "1.5.0",
          "state": {
            "_dom_classes": [],
            "_model_module": "@jupyter-widgets/controls",
            "_model_module_version": "1.5.0",
            "_model_name": "HTMLModel",
            "_view_count": null,
            "_view_module": "@jupyter-widgets/controls",
            "_view_module_version": "1.5.0",
            "_view_name": "HTMLView",
            "description": "",
            "description_tooltip": null,
            "layout": "IPY_MODEL_2028c4df7c374bb5bd4c71a3d3a1255b",
            "placeholder": "​",
            "style": "IPY_MODEL_10834294129046ce9b10748ed8f61c4e",
            "value": " 1/1 [00:00&lt;00:00, 14.20it/s, v_num=3]"
          }
        },
        "09f1a935f4144da0814c2df21d260e8c": {
          "model_module": "@jupyter-widgets/base",
          "model_name": "LayoutModel",
          "model_module_version": "1.2.0",
          "state": {
            "_model_module": "@jupyter-widgets/base",
            "_model_module_version": "1.2.0",
            "_model_name": "LayoutModel",
            "_view_count": null,
            "_view_module": "@jupyter-widgets/base",
            "_view_module_version": "1.2.0",
            "_view_name": "LayoutView",
            "align_content": null,
            "align_items": null,
            "align_self": null,
            "border": null,
            "bottom": null,
            "display": "inline-flex",
            "flex": null,
            "flex_flow": "row wrap",
            "grid_area": null,
            "grid_auto_columns": null,
            "grid_auto_flow": null,
            "grid_auto_rows": null,
            "grid_column": null,
            "grid_gap": null,
            "grid_row": null,
            "grid_template_areas": null,
            "grid_template_columns": null,
            "grid_template_rows": null,
            "height": null,
            "justify_content": null,
            "justify_items": null,
            "left": null,
            "margin": null,
            "max_height": null,
            "max_width": null,
            "min_height": null,
            "min_width": null,
            "object_fit": null,
            "object_position": null,
            "order": null,
            "overflow": null,
            "overflow_x": null,
            "overflow_y": null,
            "padding": null,
            "right": null,
            "top": null,
            "visibility": null,
            "width": "100%"
          }
        },
        "e644777f3a924bad9cdb5dbc298355ba": {
          "model_module": "@jupyter-widgets/base",
          "model_name": "LayoutModel",
          "model_module_version": "1.2.0",
          "state": {
            "_model_module": "@jupyter-widgets/base",
            "_model_module_version": "1.2.0",
            "_model_name": "LayoutModel",
            "_view_count": null,
            "_view_module": "@jupyter-widgets/base",
            "_view_module_version": "1.2.0",
            "_view_name": "LayoutView",
            "align_content": null,
            "align_items": null,
            "align_self": null,
            "border": null,
            "bottom": null,
            "display": null,
            "flex": null,
            "flex_flow": null,
            "grid_area": null,
            "grid_auto_columns": null,
            "grid_auto_flow": null,
            "grid_auto_rows": null,
            "grid_column": null,
            "grid_gap": null,
            "grid_row": null,
            "grid_template_areas": null,
            "grid_template_columns": null,
            "grid_template_rows": null,
            "height": null,
            "justify_content": null,
            "justify_items": null,
            "left": null,
            "margin": null,
            "max_height": null,
            "max_width": null,
            "min_height": null,
            "min_width": null,
            "object_fit": null,
            "object_position": null,
            "order": null,
            "overflow": null,
            "overflow_x": null,
            "overflow_y": null,
            "padding": null,
            "right": null,
            "top": null,
            "visibility": null,
            "width": null
          }
        },
        "2a1324218bca4741aa824a7024ae647e": {
          "model_module": "@jupyter-widgets/controls",
          "model_name": "DescriptionStyleModel",
          "model_module_version": "1.5.0",
          "state": {
            "_model_module": "@jupyter-widgets/controls",
            "_model_module_version": "1.5.0",
            "_model_name": "DescriptionStyleModel",
            "_view_count": null,
            "_view_module": "@jupyter-widgets/base",
            "_view_module_version": "1.2.0",
            "_view_name": "StyleView",
            "description_width": ""
          }
        },
        "90ea8bcef2cf4d30b310cab474650067": {
          "model_module": "@jupyter-widgets/base",
          "model_name": "LayoutModel",
          "model_module_version": "1.2.0",
          "state": {
            "_model_module": "@jupyter-widgets/base",
            "_model_module_version": "1.2.0",
            "_model_name": "LayoutModel",
            "_view_count": null,
            "_view_module": "@jupyter-widgets/base",
            "_view_module_version": "1.2.0",
            "_view_name": "LayoutView",
            "align_content": null,
            "align_items": null,
            "align_self": null,
            "border": null,
            "bottom": null,
            "display": null,
            "flex": "2",
            "flex_flow": null,
            "grid_area": null,
            "grid_auto_columns": null,
            "grid_auto_flow": null,
            "grid_auto_rows": null,
            "grid_column": null,
            "grid_gap": null,
            "grid_row": null,
            "grid_template_areas": null,
            "grid_template_columns": null,
            "grid_template_rows": null,
            "height": null,
            "justify_content": null,
            "justify_items": null,
            "left": null,
            "margin": null,
            "max_height": null,
            "max_width": null,
            "min_height": null,
            "min_width": null,
            "object_fit": null,
            "object_position": null,
            "order": null,
            "overflow": null,
            "overflow_x": null,
            "overflow_y": null,
            "padding": null,
            "right": null,
            "top": null,
            "visibility": null,
            "width": null
          }
        },
        "2ef438ebcf754041a375901bdd915686": {
          "model_module": "@jupyter-widgets/controls",
          "model_name": "ProgressStyleModel",
          "model_module_version": "1.5.0",
          "state": {
            "_model_module": "@jupyter-widgets/controls",
            "_model_module_version": "1.5.0",
            "_model_name": "ProgressStyleModel",
            "_view_count": null,
            "_view_module": "@jupyter-widgets/base",
            "_view_module_version": "1.2.0",
            "_view_name": "StyleView",
            "bar_color": null,
            "description_width": ""
          }
        },
        "2028c4df7c374bb5bd4c71a3d3a1255b": {
          "model_module": "@jupyter-widgets/base",
          "model_name": "LayoutModel",
          "model_module_version": "1.2.0",
          "state": {
            "_model_module": "@jupyter-widgets/base",
            "_model_module_version": "1.2.0",
            "_model_name": "LayoutModel",
            "_view_count": null,
            "_view_module": "@jupyter-widgets/base",
            "_view_module_version": "1.2.0",
            "_view_name": "LayoutView",
            "align_content": null,
            "align_items": null,
            "align_self": null,
            "border": null,
            "bottom": null,
            "display": null,
            "flex": null,
            "flex_flow": null,
            "grid_area": null,
            "grid_auto_columns": null,
            "grid_auto_flow": null,
            "grid_auto_rows": null,
            "grid_column": null,
            "grid_gap": null,
            "grid_row": null,
            "grid_template_areas": null,
            "grid_template_columns": null,
            "grid_template_rows": null,
            "height": null,
            "justify_content": null,
            "justify_items": null,
            "left": null,
            "margin": null,
            "max_height": null,
            "max_width": null,
            "min_height": null,
            "min_width": null,
            "object_fit": null,
            "object_position": null,
            "order": null,
            "overflow": null,
            "overflow_x": null,
            "overflow_y": null,
            "padding": null,
            "right": null,
            "top": null,
            "visibility": null,
            "width": null
          }
        },
        "10834294129046ce9b10748ed8f61c4e": {
          "model_module": "@jupyter-widgets/controls",
          "model_name": "DescriptionStyleModel",
          "model_module_version": "1.5.0",
          "state": {
            "_model_module": "@jupyter-widgets/controls",
            "_model_module_version": "1.5.0",
            "_model_name": "DescriptionStyleModel",
            "_view_count": null,
            "_view_module": "@jupyter-widgets/base",
            "_view_module_version": "1.2.0",
            "_view_name": "StyleView",
            "description_width": ""
          }
        }
      }
    }
  },
  "nbformat": 4,
  "nbformat_minor": 5
}