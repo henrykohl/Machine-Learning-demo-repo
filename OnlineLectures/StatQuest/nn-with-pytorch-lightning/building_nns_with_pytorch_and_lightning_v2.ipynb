{
  "cells": [
    {
      "cell_type": "markdown",
      "metadata": {
        "id": "view-in-github",
        "colab_type": "text"
      },
      "source": [
        "<a href=\"https://colab.research.google.com/github/henrykohl/Machine-Learning-demo-repo/blob/master/OnlineLectures/StatQuest/nn-with-pytorch-lightning/building_nns_with_pytorch_and_lightning_v2.ipynb\" target=\"_parent\"><img src=\"https://colab.research.google.com/assets/colab-badge.svg\" alt=\"Open In Colab\"/></a>"
      ]
    },
    {
      "cell_type": "code",
      "source": [
        "!pip install lightning --quiet # 注意,這裡安裝的事lightning不是pytorch_lightning"
      ],
      "metadata": {
        "id": "6fVYIEVWnnU4",
        "outputId": "1af530e4-000f-4b47-dcbd-65015794e9ca",
        "colab": {
          "base_uri": "https://localhost:8080/"
        }
      },
      "id": "6fVYIEVWnnU4",
      "execution_count": 2,
      "outputs": [
        {
          "output_type": "stream",
          "name": "stdout",
          "text": [
            "\u001b[2K     \u001b[90m━━━━━━━━━━━━━━━━━━━━━━━━━━━━━━━━━━━━━━━━\u001b[0m \u001b[32m2.1/2.1 MB\u001b[0m \u001b[31m17.2 MB/s\u001b[0m eta \u001b[36m0:00:00\u001b[0m\n",
            "\u001b[2K     \u001b[90m━━━━━━━━━━━━━━━━━━━━━━━━━━━━━━━━━━━━━━━━\u001b[0m \u001b[32m840.4/840.4 kB\u001b[0m \u001b[31m26.6 MB/s\u001b[0m eta \u001b[36m0:00:00\u001b[0m\n",
            "\u001b[2K     \u001b[90m━━━━━━━━━━━━━━━━━━━━━━━━━━━━━━━━━━━━━━━━\u001b[0m \u001b[32m801.6/801.6 kB\u001b[0m \u001b[31m31.4 MB/s\u001b[0m eta \u001b[36m0:00:00\u001b[0m\n",
            "\u001b[?25h"
          ]
        }
      ]
    },
    {
      "cell_type": "markdown",
      "id": "atlantic-approach",
      "metadata": {
        "tags": [],
        "id": "atlantic-approach"
      },
      "source": [
        "# Introduction to Coding Neural Networks with PyTorch + Lightning!!! [(Youtube)](https://www.youtube.com/watch?v=khMzi6xPbuM)\n",
        "\n",
        "[(Resource Code in lightning.ai)](https://lightning.ai/lightning-ai/studios/statquest-introduction-to-neural-networks-with-pytorch-lightning?view=public&section=all)\n",
        "\n",
        "[(My own Code in lightning.ai)](https://lightning.ai/henrykohl/vision-model/studios/statquest-introduction-to-neural-networks-with-pytorch-lightning/code)\n",
        "\n",
        "[(My own Medium)](https://medium.com/p/9afa72644244)\n",
        "<!-- ## Brought to you by...\n",
        "[<img src=\"./images/Brandmark_FullColor_Black.png\" alt=\"Lightning\" style=\"width: 400px;\">](https://www.pytorchlightning.ai/) -->\n",
        "\n",
        "Copyright 2023, Joshua Starmer"
      ]
    },
    {
      "cell_type": "markdown",
      "id": "documentary-skill",
      "metadata": {
        "id": "documentary-skill"
      },
      "source": [
        "----\n",
        "**NOTE:** This tutorial is from the StatQuest **[Introduction to Coding Neural Networks with PyTorch + Lightning]()**.\n",
        "\n",
        "In this tutorial, we will use **[PyTorch](https://pytorch.org/) + [Lightning](https://www.lightning.ai/)** to create, draw the output from, and optimize the super simple **neural network** featured in the StatQuest **[Neural Networks Part 3: ReLU in Action!!!](https://youtu.be/68BZ5f7P94E)** Specifically, we'll use **Lightning** to streamline the code we originally wrote in **PyTorch** in **[The StatQuest Introduction to PyTorch](https://youtu.be/FHdlXe1bSe4)**.  In that StatQuest, we implemented a simple neural network, seen below, that predicts whether or not a drug dose will be effective.\n",
        "<!-- <img src=\"./xgboost_tree.png\" alt=\"An XGBoost Tree\" style=\"width: 600px;\"> -->\n",
        "<img src=\"https://github.com/henrykohl/Machine-Learning-demo-repo/blob/master/OnlineLectures/StatQuest/nn-with-pytorch-lightning/images/simple_relu.001.png?raw=1\" alt=\"A simple Neural Network\" style=\"width: 1620px;\">\n",
        "\n",
        "The training data (below) consist of three data points for three different drug doses. Low (**0**) and high (**1**) doses do not cure a disease, so their y-axis values are both **0**. However, when the dose is **0.5**, that dose can cure the disease, and the corresponding y-axis value is **1**.\n",
        "\n",
        "<img src=\"https://github.com/henrykohl/Machine-Learning-demo-repo/blob/master/OnlineLectures/StatQuest/nn-with-pytorch-lightning/images/training_data_500x275.png?raw=1\" alt=\"A simple Neural Network\" style=\"width: 250px;\">\n",
        "\n",
        "Below, we see the output of the neural network for different doses, and it fits the training data well!\n",
        "\n",
        "<img src=\"https://github.com/henrykohl/Machine-Learning-demo-repo/blob/master/OnlineLectures/StatQuest/nn-with-pytorch-lightning/images/training_data_with_bent_shape_500x275.png?raw=1\" alt=\"A simple Neural Network\" style=\"width: 250px;\">\n",
        "\n",
        "\n",
        "In this tutorial, you will...\n",
        "\n",
        "- **[Build a Simple Neural Network with Lightning](#build)**\n",
        "\n",
        "- **[Use the Neural Network and Graph the Output](#using)**\n",
        "\n",
        "- **[Use Lightning to Find the Best Learning Rate and Optimize (Train) a Parameter in the Neural Network and Graph the Output](#train)**\n",
        "\n",
        "#### NOTE:\n",
        "This tutorial assumes that you already know the basics of coding in **Python** and are familiar with the <!-- basics of **[PyTorch](https://youtu.be/FHdlXe1bSe4)** and the  --> theory behind **[Neural Networks](https://youtu.be/CqOfi41LfDw)**, **[Backpropagation](https://youtu.be/IN2XmBhILt4)**, the **[ReLU Activation Function](https://youtu.be/68BZ5f7P94E)**, **[Gradient Descent](https://youtu.be/sDv4f4s2SB8)**, and **[Stochastic Gradient Descent](https://youtu.be/vMh0zPT0tLI)**. If not, check out the **'Quests** by clicking on the links for each topic.\n",
        "\n",
        "#### ALSO NOTE:\n",
        "I strongly encourage you to play around with the code. Playing with the code is the best way to learn from it."
      ]
    },
    {
      "cell_type": "markdown",
      "id": "foreign-russian",
      "metadata": {
        "id": "foreign-russian"
      },
      "source": [
        "-----"
      ]
    },
    {
      "cell_type": "markdown",
      "id": "massive-arthritis",
      "metadata": {
        "id": "massive-arthritis"
      },
      "source": [
        "# Import the modules that will do all the work\n",
        "\n",
        "<!-- **TL;DR** This is the same as the **StatQuest: Introduction to PyTorch**, except now we are requiring at least **Python 3.8** and also importing **Lightning** and some utilities to manage the training data. -->\n",
        "\n",
        "\n",
        "The very first thing we need to do is load a bunch of Python modules. Python itself is just a basic programming language. These modules give us extra functionality to create a neural network, use and graph the output for various input values, and optimize the neural network's parameters.\n",
        "\n",
        "<!-- **NOTE:** You will need **Python 3.8** and have at least these versions for each of the following modules:\n",
        "- pytorch >= 1.10.1\n",
        "- matplotlib >= 3.3.4\n",
        "- seaborn >= 0.11.0\n",
        "- lightning >= 20220717\n",
        "\n",
        "### If you installed **Python** with [Anaconda](https://www.anaconda.com/)...\n",
        "...then you can check which versions of each package you have with the command: `conda list`. If, for example, your version of `matplotlib` is older than **3.3.4**, then the easiest thing to do is just update all of your Anaconda packages with the following command: `conda update --all`. However, if you only want to update `matplotlib`, then you can run this command: `conda install matplotlib=3.3.4`.\n",
        "\n",
        "### If you need to install **PyTorch**...\n",
        "...then the easiest thing to do is follow the instructions on the [PyTorch website](https://pytorch.org/get-started/locally/).\n",
        "\n",
        "### If you need to install **Lightning**...\n",
        "...then the easiest thing to do is follow the instructions on the [Lightning AI website](https://lightning.ai/lightning-docs/).\n",
        "\n",
        "\n",
        "### If you need to install **seaborn**...\n",
        "...then the easiest thing to do is follow the instructions on the [seaborn website](https://seaborn.pydata.org/installing.html). -->"
      ]
    },
    {
      "cell_type": "code",
      "execution_count": 3,
      "id": "warming-trinidad",
      "metadata": {
        "id": "warming-trinidad"
      },
      "outputs": [],
      "source": [
        "import torch # torch will allow us to create tensors.\n",
        "import torch.nn as nn # torch.nn allows us to create a neural network.\n",
        "import torch.nn.functional as F # nn.functional give us access to the activation and loss functions.\n",
        "from torch.optim import SGD # optim contains many optimizers. Here, we're using SGD, stochastic gradient descent.\n",
        "\n",
        "import lightning as L # lightning has tons of cool tools that make neural networks easier\n",
        "from torch.utils.data import TensorDataset, DataLoader # these are needed for the training data\n",
        "\n",
        "import matplotlib.pyplot as plt ## matplotlib allows us to draw graphs.\n",
        "import seaborn as sns ## seaborn makes it easier to draw nice-looking graphs."
      ]
    },
    {
      "cell_type": "markdown",
      "id": "ethical-guidance",
      "metadata": {
        "id": "ethical-guidance"
      },
      "source": [
        "-----"
      ]
    },
    {
      "cell_type": "markdown",
      "id": "miniature-confusion",
      "metadata": {
        "id": "miniature-confusion"
      },
      "source": [
        "<a id=\"build\"></a>\n",
        "# Build a Simple Neural Network with Lightning\n",
        "\n",
        "Just like building a ***pre-trained*** neural network in **PyTorch**, building a ***pre-trained*** neural network with **PyTorch + Lightning** means creating a new class with two methods: `__init__()` and `forward()`. The `__init__()` method defines and initializes all of the parameters that we want to use, and the `forward()` method tells **PyTorch + Lightning** what should happen during a forward pass through the neural network."
      ]
    },
    {
      "cell_type": "code",
      "execution_count": 4,
      "id": "square-shirt",
      "metadata": {
        "id": "square-shirt"
      },
      "outputs": [],
      "source": [
        "## Create a neural network class by creating a class that inherits from LightningModule\n",
        "class BasicLightning(L.LightningModule):\n",
        "\n",
        "  def __init__(self): # __init__() is the class constructor function, and we use it to initialize the weights and biases.\n",
        "\n",
        "    super().__init__() # initialize an instance of the parent class, L.LightningModule.\n",
        "\n",
        "    ## The first thing we do is set the seed for the random number generorator.\n",
        "    ## This ensures that when someone creates a model from this class, that model\n",
        "    ## will start off with the exact same random numbers as I started out with when\n",
        "    ## I created this demo. At least, I hope that is what happens!!! :)\n",
        "    L.seed_everything(seed=42)\n",
        "\n",
        "    ## Now create the weights and biases that we need for our neural network.\n",
        "    ## Each weight or bias is an nn.Parameter, which gives us the option to optimize the parameter by setting\n",
        "    ## requires_grad, which is short for \"requires gradient\", to True. Since we don't need to optimize any of these\n",
        "    ## parameters now, we set requires_grad=False.\n",
        "    ##\n",
        "    ## NOTE: Because our neural network is already fit to the data, we will input specific values\n",
        "    ## for each weight and bias. In contrast, if we had not already fit the neural network to the data,\n",
        "    ## we might start with a random initalization of the weights and biases.\n",
        "    self.w00 = nn.Parameter(torch.tensor(1.7), requires_grad=False)\n",
        "    self.b00 = nn.Parameter(torch.tensor(-0.85), requires_grad=False)\n",
        "    self.w01 = nn.Parameter(torch.tensor(-40.8), requires_grad=False)\n",
        "\n",
        "    self.w10 = nn.Parameter(torch.tensor(12.6), requires_grad=False)\n",
        "    self.b10 = nn.Parameter(torch.tensor(0.0), requires_grad=False)\n",
        "    self.w11 = nn.Parameter(torch.tensor(2.7), requires_grad=False)\n",
        "\n",
        "    self.final_bias = nn.Parameter(torch.tensor(-16.), requires_grad=False)\n",
        "\n",
        "\n",
        "  def forward(self, input): ## forward() takes an input value and runs it though the neural network\n",
        "                 ## illustrated at the top of this notebook.\n",
        "\n",
        "    ## the next three lines implement the top of the neural network (using the top node in the hidden layer).\n",
        "    input_to_top_relu = input * self.w00 + self.b00\n",
        "    top_relu_output = F.relu(input_to_top_relu)\n",
        "    scaled_top_relu_output = top_relu_output * self.w01\n",
        "\n",
        "    ## the next three lines implement the bottom of the neural network (using the bottom node in the hidden layer).\n",
        "    input_to_bottom_relu = input * self.w10 + self.b10\n",
        "    bottom_relu_output = F.relu(input_to_bottom_relu)\n",
        "    scaled_bottom_relu_output = bottom_relu_output * self.w11\n",
        "\n",
        "    ## here, we combine both the top and bottom nodes from the hidden layer with the final bias.\n",
        "    input_to_final_relu = (scaled_top_relu_output\n",
        "                  + scaled_bottom_relu_output\n",
        "                  + self.final_bias)\n",
        "\n",
        "    output = F.relu(input_to_final_relu)\n",
        "\n",
        "    return output # output is the predicted effectiveness for a drug dose."
      ]
    },
    {
      "cell_type": "markdown",
      "id": "framed-retrieval",
      "metadata": {
        "id": "framed-retrieval"
      },
      "source": [
        "Once we have created the class that defines the neural network, we can create an actual neural network and print out its parameters, just to make sure things are what we expect."
      ]
    },
    {
      "cell_type": "code",
      "execution_count": 5,
      "id": "fifth-driver",
      "metadata": {
        "colab": {
          "base_uri": "https://localhost:8080/"
        },
        "id": "fifth-driver",
        "outputId": "443b8db6-f12e-4b22-b27b-5473eb6d47e8"
      },
      "outputs": [
        {
          "output_type": "stream",
          "name": "stderr",
          "text": [
            "INFO: Seed set to 42\n",
            "INFO:lightning.fabric.utilities.seed:Seed set to 42\n"
          ]
        },
        {
          "output_type": "stream",
          "name": "stdout",
          "text": [
            "w00 tensor(1.7000)\n",
            "b00 tensor(-0.8500)\n",
            "w01 tensor(-40.8000)\n",
            "w10 tensor(12.6000)\n",
            "b10 tensor(0.)\n",
            "w11 tensor(2.7000)\n",
            "final_bias tensor(-16.)\n"
          ]
        }
      ],
      "source": [
        "## create the neural network.\n",
        "model = BasicLightning()\n",
        "\n",
        "## print out the name and value for each parameter\n",
        "for name, param in model.named_parameters():\n",
        "    print(name, param.data)"
      ]
    },
    {
      "cell_type": "markdown",
      "id": "available-carrier",
      "metadata": {
        "id": "available-carrier"
      },
      "source": [
        "## BAM!!!\n",
        "The values for each weight and bias in `BasicLightning` match the values we see in the optimized neural network (below).\n",
        "<img src=\"https://github.com/henrykohl/Machine-Learning-demo-repo/blob/master/OnlineLectures/StatQuest/nn-with-pytorch-lightning/images/Brandmark_FullColor_Black.png?raw=1\" alt=\"A simple Neural Network\" width=\"800\" />\n"
      ]
    },
    {
      "cell_type": "markdown",
      "id": "fifth-mouth",
      "metadata": {
        "id": "fifth-mouth"
      },
      "source": [
        "----"
      ]
    },
    {
      "cell_type": "markdown",
      "id": "express-rings",
      "metadata": {
        "id": "express-rings"
      },
      "source": [
        "<a id=\"using\"></a>\n",
        "# Use the Neural Network and Graph the Output\n",
        "\n",
        "Now that we have a neural network, we can use it on a variety of doses to determine which will be effective. Then we can make a graph of these data, and this graph should match the green bent shape fit to the training data that's shown at the top of this document. So, let's start by making a sequence of input doses..."
      ]
    },
    {
      "cell_type": "code",
      "execution_count": 6,
      "id": "induced-receiver",
      "metadata": {
        "colab": {
          "base_uri": "https://localhost:8080/"
        },
        "id": "induced-receiver",
        "outputId": "6d22c285-01a4-46dd-805a-741b1d7aa099"
      },
      "outputs": [
        {
          "output_type": "execute_result",
          "data": {
            "text/plain": [
              "tensor([0.0000, 0.1000, 0.2000, 0.3000, 0.4000, 0.5000, 0.6000, 0.7000, 0.8000,\n",
              "        0.9000, 1.0000])"
            ]
          },
          "metadata": {},
          "execution_count": 6
        }
      ],
      "source": [
        "## Create the different doses we want to run through the neural network.\n",
        "## torch.linspace() creates the sequence of numbers between, and including, 0 and 1.\n",
        "input_doses = torch.linspace(start=0, end=1, steps=11)\n",
        "\n",
        "# now print out the doses to make sure they are what we expect...\n",
        "input_doses"
      ]
    },
    {
      "cell_type": "markdown",
      "id": "ultimate-cylinder",
      "metadata": {
        "id": "ultimate-cylinder"
      },
      "source": [
        "Now that we have `input_doses`, let's run them through the neural network and graph the output..."
      ]
    },
    {
      "cell_type": "code",
      "execution_count": 7,
      "id": "understood-confusion",
      "metadata": {
        "colab": {
          "base_uri": "https://localhost:8080/",
          "height": 513
        },
        "id": "understood-confusion",
        "outputId": "448fdac7-85aa-43c3-97a3-79f7f2885813"
      },
      "outputs": [
        {
          "output_type": "stream",
          "name": "stderr",
          "text": [
            "INFO: Seed set to 42\n",
            "INFO:lightning.fabric.utilities.seed:Seed set to 42\n"
          ]
        },
        {
          "output_type": "execute_result",
          "data": {
            "text/plain": [
              "Text(0.5, 0, 'Dose')"
            ]
          },
          "metadata": {},
          "execution_count": 7
        },
        {
          "output_type": "display_data",
          "data": {
            "text/plain": [
              "<Figure size 640x480 with 1 Axes>"
            ],
            "image/png": "[encoded data removed]"
          },
          "metadata": {}
        }
      ],
      "source": [
        "## create the neural network.\n",
        "model = BasicLightning()\n",
        "\n",
        "## now run the different doses through the neural network.\n",
        "output_values = model(input_doses)\n",
        "\n",
        "## Now draw a graph that shows the effectiveness for each dose.\n",
        "##\n",
        "## First, set the style for seaborn so that the graph looks cool.\n",
        "sns.set(style=\"whitegrid\")\n",
        "\n",
        "## create the graph (you might not see it at this point, but you will after we save it as a PDF).\n",
        "sns.lineplot(x=input_doses,\n",
        "             y=output_values,\n",
        "             color='green',\n",
        "             linewidth=2.5)\n",
        "\n",
        "## now label the y- and x-axes.\n",
        "plt.ylabel('Effectiveness')\n",
        "plt.xlabel('Dose')\n",
        "\n",
        "## optionally, save the graph as a PDF.\n",
        "# plt.savefig('BasicLightning.pdf')"
      ]
    },
    {
      "cell_type": "markdown",
      "id": "musical-franchise",
      "metadata": {
        "id": "musical-franchise"
      },
      "source": [
        "The graph shows that the neural network fits the training data. In other words, so far, we don't have any bugs in our code.\n",
        "# Double BAM!!!"
      ]
    },
    {
      "cell_type": "markdown",
      "id": "quality-community",
      "metadata": {
        "id": "quality-community"
      },
      "source": [
        "---"
      ]
    },
    {
      "cell_type": "markdown",
      "id": "radical-member",
      "metadata": {
        "id": "radical-member"
      },
      "source": [
        "<a id=\"train\"></a>\n",
        "# Optimize (Train) a Parameter in the Neural Network and Graph the Output\n",
        "\n",
        "Now that we know how to create and use a simple neural network, and we can graph the output relative to the input, let's see how to train a neural network. The first thing we need to do is tell **Lightning** which parameter (or parameters) we want to train, and we do that by setting `requires_grad=True`. In this example, we'll train `final_bias`."
      ]
    },
    {
      "cell_type": "code",
      "execution_count": 8,
      "id": "arbitrary-payment",
      "metadata": {
        "id": "arbitrary-payment"
      },
      "outputs": [],
      "source": [
        "## Create a neural network class that we can train by creating a class that inherits from LightningModule\n",
        "##\n",
        "## NOTE: This new class, BasicLightningTrain, contains two new methods for training:\n",
        "##\n",
        "## training_step() - This method takes care of 4 things:\n",
        "##      a) calculates the loss for an epoch\n",
        "##      b) resets the gradients\n",
        "##      c) backpropagation\n",
        "##      d) updates the parameters\n",
        "## configure_optimizers() - defines the method we will use to optimize the model\n",
        "class BasicLightningTrain(L.LightningModule):\n",
        "\n",
        "    def __init__(self): # __init__() is the class constructor function, and we use it to initialize the weights and biases.\n",
        "\n",
        "        ## NOTE: The code for __init__ () is the same as before except we now have a learning rate parameter (for\n",
        "        ##       gradient descent) and we modified final_bias in two ways:\n",
        "        ##           1) we set the value of the tensor to 0, and\n",
        "        ##           2) we set \"requires_grad=True\".\n",
        "\n",
        "        super().__init__() # initialize an instance of the parent class, LightningModule.\n",
        "\n",
        "        ## The first thing we do is set the seed for the random number generorator.\n",
        "        ## This ensures that when someone creates a model from this class, that model\n",
        "        ## will start off with the exact same random numbers as I started out with when\n",
        "        ## I created this demo. At least, I hope that is what happens!!! :)\n",
        "        L.seed_everything(seed=42)\n",
        "\n",
        "        self.w00 = nn.Parameter(torch.tensor(1.7), requires_grad=False)\n",
        "        self.b00 = nn.Parameter(torch.tensor(-0.85), requires_grad=False)\n",
        "        self.w01 = nn.Parameter(torch.tensor(-40.8), requires_grad=False)\n",
        "\n",
        "        self.w10 = nn.Parameter(torch.tensor(12.6), requires_grad=False)\n",
        "        self.b10 = nn.Parameter(torch.tensor(0.0), requires_grad=False)\n",
        "        self.w11 = nn.Parameter(torch.tensor(2.7), requires_grad=False)\n",
        "\n",
        "        ## We want to modify final_bias to demonstrate how to optimize it with backpropagation.\n",
        "        ## NOTE: The optimal value for final_bias is -16...\n",
        "#         self.final_bias = nn.Parameter(torch.tensor(-16.), requires_grad=False)\n",
        "        ## ...so we set it to 0 and tell Pytorch that it now needs to calculate the gradient for this parameter.\n",
        "        self.final_bias = nn.Parameter(torch.tensor(0.0), requires_grad=True)\n",
        "\n",
        "        self.learning_rate = 0.01 ## this is for gradient descent. NOTE: we will improve this value later, so, technically\n",
        "                       ## this is just a placeholder until then. In other words, we could put any value here\n",
        "                       ## because later we will replace it with the improved value.\n",
        "\n",
        "\n",
        "    def forward(self, input):\n",
        "\n",
        "        ## forward() is the exact same as before\n",
        "\n",
        "        input_to_top_relu = input * self.w00 + self.b00\n",
        "        top_relu_output = F.relu(input_to_top_relu)\n",
        "        scaled_top_relu_output = top_relu_output * self.w01\n",
        "\n",
        "        input_to_bottom_relu = input * self.w10 + self.b10\n",
        "        bottom_relu_output = F.relu(input_to_bottom_relu)\n",
        "        scaled_bottom_relu_output = bottom_relu_output * self.w11\n",
        "\n",
        "        input_to_final_relu = (scaled_top_relu_output\n",
        "                      + scaled_bottom_relu_output\n",
        "                      + self.final_bias)\n",
        "\n",
        "        output = F.relu(input_to_final_relu)\n",
        "\n",
        "        return output # output is the predicted effectiveness for a drug dose.\n",
        "\n",
        "    def configure_optimizers(self): # this configures the optimizer we want to use for backpropagation.\n",
        "        return SGD(self.parameters(), lr=self.learning_rate) # NOTE: We set the learning rate (lr) to our new variable\n",
        "                                      # self.learning_rate\n",
        "\n",
        "    def training_step(self, batch, batch_idx): # take a step during gradient descent.\n",
        "\n",
        "        ## NOTE: When training_step() is called it calculates the loss with the code below...\n",
        "        input_i, label_i = batch # collect input\n",
        "        output_i = self.forward(input_i) # run input through the neural network\n",
        "        loss = (output_i - label_i)**2 ## loss = squared residual\n",
        "\n",
        "        ##...before calling (internally and behind the scenes)...\n",
        "        ## optimizer.zero_grad() # to clear gradients  後做\n",
        "        ## loss.backward() # to do the backpropagation 先做\n",
        "        ## optimizer.step() # to update the parameters 中間\n",
        "        return loss"
      ]
    },
    {
      "cell_type": "markdown",
      "id": "infinite-designation",
      "metadata": {
        "id": "infinite-designation"
      },
      "source": [
        "Now let's graph the output of `BasicLightningTrain`, which is currently not optimized, and compare it to the graph we drew earlier of the optimized neural network."
      ]
    },
    {
      "cell_type": "code",
      "execution_count": 9,
      "id": "above-wisdom",
      "metadata": {
        "colab": {
          "base_uri": "https://localhost:8080/",
          "height": 513
        },
        "id": "above-wisdom",
        "outputId": "2b003d8b-8608-4341-ed10-7ec9e7f8508f"
      },
      "outputs": [
        {
          "output_type": "stream",
          "name": "stderr",
          "text": [
            "INFO: Seed set to 42\n",
            "INFO:lightning.fabric.utilities.seed:Seed set to 42\n"
          ]
        },
        {
          "output_type": "execute_result",
          "data": {
            "text/plain": [
              "Text(0.5, 0, 'Dose')"
            ]
          },
          "metadata": {},
          "execution_count": 9
        },
        {
          "output_type": "display_data",
          "data": {
            "text/plain": [
              "<Figure size 640x480 with 1 Axes>"
            ],
            "image/png": "[encoded data removed]"
          },
          "metadata": {}
        }
      ],
      "source": [
        "## create the neural network.\n",
        "model = BasicLightningTrain()\n",
        "\n",
        "## now run the different doses through the neural network.\n",
        "output_values = model(input_doses)\n",
        "\n",
        "## Now draw a graph that shows the effectiveness for each dose.\n",
        "##\n",
        "## set the style for seaborn so that the graph looks cool.\n",
        "sns.set(style=\"whitegrid\")\n",
        "\n",
        "## create the graph (you might not see it at this point, but you will after we save it as a PDF).\n",
        "sns.lineplot(x=input_doses,\n",
        "       y=output_values.detach(), ## NOTE: because final_bias has a gradident, we call detach()\n",
        "                      ## to return a new tensor that only has the value and not the gradient.\n",
        "       color='green',\n",
        "       linewidth=2.5)\n",
        "\n",
        "## now label the y- and x-axes.\n",
        "plt.ylabel('Effectiveness')\n",
        "plt.xlabel('Dose')\n",
        "\n",
        "## lastly, save the graph as a PDF.\n",
        "#plt.savefig('BasicLightningTrain.pdf')"
      ]
    },
    {
      "cell_type": "markdown",
      "id": "casual-discharge",
      "metadata": {
        "id": "casual-discharge"
      },
      "source": [
        "The graph shows that when the dose is **0.5**, the output from the unoptimized neural network is **17**, which is way too high, since the output value should be **1**. So, now that we have a parameter we can optimize, let's create some training data that we can use to optimize it. **NOTE:** Instead of just jamming some tensors into our neural network for training, **Lightning** requires us to wrap the training data in a `DataLoader`, which provides a lot of nice features. For example, if we had a large dataset, a `DataLoader` gives us a super easy way to access the data in batches instead of all at once. This is critical when we have more data than RAM to store it in. A `DataLoader` can also shuffle the data for us each epoch and makes it easy to only use a fraction of the data if we want to do a quick and rough training for debugging purposes."
      ]
    },
    {
      "cell_type": "code",
      "execution_count": 10,
      "id": "annual-curtis",
      "metadata": {
        "id": "annual-curtis"
      },
      "outputs": [],
      "source": [
        "## create the training data for the neural network.\n",
        "# inputs = torch.tensor([0., 0.5, 1.])\n",
        "# labels = torch.tensor([0., 1., 0.])\n",
        "## NOTE: Because we have so little data, and let's be honest, it's an unrealistically small\n",
        "## amount of data, the learning rate algorithm, lr_find(), that we use in the next section has trouble.\n",
        "## So, the point here is to show how to use lr_find() when you have a reasonable amount of data,\n",
        "## which we fake here by making 100 copies of the inputs and labels.\n",
        "inputs = torch.tensor([0., 0.5, 1.] * 100)\n",
        "labels = torch.tensor([0., 1., 0.] * 100)\n",
        "\n",
        "## If we want to use Lightning for training, then we have to pass the Trainer the data wrapped in\n",
        "## something called a DataLoader. DataLoaders provide a handful of nice features including...\n",
        "##   1) They can access the data in minibatches instead of all at once. In other words,\n",
        "##      The DataLoader doesn't need us to load all of the data into memory first. Instead\n",
        "##      it just loads what it needs in an efficient way. This is crucial for large datasets.\n",
        "##   2) They can reshuffle the data every epoch to reduce model overfitting\n",
        "##   3) We can easily just use a fraction of the data if we want do a quick train\n",
        "dataset = TensorDataset(inputs, labels)\n",
        "dataloader = DataLoader(dataset)"
      ]
    },
    {
      "cell_type": "markdown",
      "id": "novel-control",
      "metadata": {
        "id": "novel-control"
      },
      "source": [
        "And now that we have some training data, the first thing we need to do is find the optimal **Learning Rate** for gradient descent. We do this by creating a **Lightning** `Trainer` and using it to call `tuner.lr_find()` to find an improved learning rate."
      ]
    },
    {
      "cell_type": "code",
      "execution_count": 11,
      "id": "8df12150-2da7-495a-b16d-a4f28813ed1a",
      "metadata": {
        "colab": {
          "base_uri": "https://localhost:8080/",
          "height": 457,
          "referenced_widgets": [
            "caf41ac0d0ca4edd923855888d2c6424",
            "d2e0ba6baa7b403e94d0a2f6c2797310",
            "d1add649dbd04bad8794a1ffc6ba3ebd",
            "7e044c4807cb4946867779ee1866f939",
            "98b38459825d428aaa8c73b7e9c4ba8a",
            "32cccee74e6f4899968e19ec63728155",
            "74f8fc42bb024787bca8659e69c97c88",
            "b7e5ccde34884f1ba78ee771bb772d31",
            "8ce1830411d74c9bb842014dcdf2e8a2",
            "5b3960a8f51340969fe1a3d5d6dcf403",
            "c32eb88ee57d4dda87da3036241c3229"
          ]
        },
        "id": "8df12150-2da7-495a-b16d-a4f28813ed1a",
        "outputId": "7ec3b265-642b-4ad9-b842-55347a5eb38b"
      },
      "outputs": [
        {
          "output_type": "stream",
          "name": "stderr",
          "text": [
            "INFO: Seed set to 42\n",
            "INFO:lightning.fabric.utilities.seed:Seed set to 42\n",
            "INFO: GPU available: False, used: False\n",
            "INFO:lightning.pytorch.utilities.rank_zero:GPU available: False, used: False\n",
            "INFO: TPU available: False, using: 0 TPU cores\n",
            "INFO:lightning.pytorch.utilities.rank_zero:TPU available: False, using: 0 TPU cores\n",
            "INFO: IPU available: False, using: 0 IPUs\n",
            "INFO:lightning.pytorch.utilities.rank_zero:IPU available: False, using: 0 IPUs\n",
            "INFO: HPU available: False, using: 0 HPUs\n",
            "INFO:lightning.pytorch.utilities.rank_zero:HPU available: False, using: 0 HPUs\n",
            "WARNING: Missing logger folder: /content/lightning_logs\n",
            "WARNING:lightning.pytorch.loggers.tensorboard:Missing logger folder: /content/lightning_logs\n"
          ]
        },
        {
          "output_type": "display_data",
          "data": {
            "text/plain": [
              "Finding best initial lr:   0%|          | 0/100 [00:00<?, ?it/s]"
            ],
            "application/vnd.jupyter.widget-view+json": {
              "version_major": 2,
              "version_minor": 0,
              "model_id": "caf41ac0d0ca4edd923855888d2c6424"
            }
          },
          "metadata": {}
        },
        {
          "output_type": "stream",
          "name": "stderr",
          "text": [
            "INFO: `Trainer.fit` stopped: `max_steps=100` reached.\n",
            "INFO:lightning.pytorch.utilities.rank_zero:`Trainer.fit` stopped: `max_steps=100` reached.\n",
            "INFO: Learning rate set to 0.002137962089502232\n",
            "INFO:lightning.pytorch.tuner.lr_finder:Learning rate set to 0.002137962089502232\n",
            "INFO: Restoring states from the checkpoint path at /content/.lr_find_a5b4dc71-1c04-41e9-92f9-d8d3ef47d827.ckpt\n",
            "INFO:lightning.pytorch.utilities.rank_zero:Restoring states from the checkpoint path at /content/.lr_find_a5b4dc71-1c04-41e9-92f9-d8d3ef47d827.ckpt\n",
            "INFO: Restored all states from the checkpoint at /content/.lr_find_a5b4dc71-1c04-41e9-92f9-d8d3ef47d827.ckpt\n",
            "INFO:lightning.pytorch.utilities.rank_zero:Restored all states from the checkpoint at /content/.lr_find_a5b4dc71-1c04-41e9-92f9-d8d3ef47d827.ckpt\n"
          ]
        },
        {
          "output_type": "stream",
          "name": "stdout",
          "text": [
            "lr_find() suggests 0.00214 for the learning rate.\n"
          ]
        }
      ],
      "source": [
        "model = BasicLightningTrain() # First, make model from the class\n",
        "\n",
        "## Now create a Trainer - we can use the trainer to...\n",
        "##  1) Find the optimal learning rate\n",
        "##  2) Train (optimize) the weights and biases in the model\n",
        "## By default, the trainer will run on your system's CPU\n",
        "trainer = L.Trainer(max_epochs=20)\n",
        "## However, if we wanted to automatically take advantage of any available GPUs,\n",
        "## we would set accelerator=\"auto\" to automatically use available GPUs\n",
        "## and we would set devices=\"auto\" to automatically select as many GPUs as we have.\n",
        "#\n",
        "# trainer = L.Trainer(max_epochs=34, accelerator=\"auto\", devices=\"auto\")\n",
        "\n",
        "## Now let's find the optimal learning rate\n",
        "tuner = L.pytorch.tuner.Tuner(trainer)\n",
        "lr_find_results = tuner.lr_find(model,\n",
        "                  train_dataloaders=dataloader, # the training data\n",
        "                  min_lr=0.001, # minimum learning rate\n",
        "                  max_lr=1.0,   # maximum learning rate\n",
        "                  early_stop_threshold=None) # setting this to \"None\" tests all 100 candidate rates\n",
        "# lr_find_results = trainer.tuner.lr_find(model,\n",
        "#                   train_dataloaders=dataloader, # the training data\n",
        "#                   min_lr=0.001, # minimum learning rate\n",
        "#                   max_lr=1.0,   # maximum learning rate\n",
        "#                   early_stop_threshold=None) # setting this to \"None\" tests all 100 candidate rates\n",
        "new_lr = lr_find_results.suggestion() ## suggestion() returns the best guess for the optimal learning rate\n",
        "\n",
        "## now print out the learning rate\n",
        "print(f\"lr_find() suggests {new_lr:.5f} for the learning rate.\")\n",
        "\n",
        "# now set the model's learning rate to the new value\n",
        "model.learning_rate = new_lr\n",
        "\n",
        "## NOTE: we can also plot the loss for each learning rate tested.\n",
        "## When you have a lot of data, this graph can be useful\n",
        "## (see https://pytorch-lightning.readthedocs.io/en/1.4.5/advanced/lr_finder.html to learn how to interpret)\n",
        "## but when you only have 3 data points, like our example, this plot is pretty hard to interpret so I did\n",
        "## not cover it in the video.\n",
        "# fig = lr_finder.plot(suggest=True)\n",
        "# fig.show()"
      ]
    },
    {
      "cell_type": "markdown",
      "id": "a40f0cd2-e79a-4b76-a852-3629fbdc4ce9",
      "metadata": {
        "id": "a40f0cd2-e79a-4b76-a852-3629fbdc4ce9"
      },
      "source": [
        "Now that we have an improved training rate, let's train the model to optimize `final_bias`."
      ]
    },
    {
      "cell_type": "code",
      "execution_count": 12,
      "id": "e16b031b-64d6-4b45-8bf4-f3f240a03071",
      "metadata": {
        "colab": {
          "base_uri": "https://localhost:8080/",
          "height": 437,
          "referenced_widgets": [
            "661590fa12814a86be5a04e67a232477",
            "76e87ae32a6b42f7bfba8b8ac4a5ae72",
            "ee68602fb983421caa5766ba7b42d7a3",
            "71ef568581984f53ae43c2c5171ec29d",
            "ad1a07394912432bb89c019dbd8661ba",
            "f0d1093de8b648e894a6cbb03a9835d9",
            "f94f5b8a8943410fb7d8b700b0d6cf5f",
            "b0af34cfa7954a97bd70f93329879dc7",
            "77bf340fe3dd4faca605ed00e5052355",
            "47cce13e84ac43e284a91183063103e7",
            "ab35d9a768e440d8b55a667f8fe6d4ba"
          ]
        },
        "id": "e16b031b-64d6-4b45-8bf4-f3f240a03071",
        "outputId": "620ae4bd-45c9-4ece-e7c9-0e28fa4952eb"
      },
      "outputs": [
        {
          "output_type": "stream",
          "name": "stderr",
          "text": [
            "INFO: \n",
            "  | Name         | Type | Params\n",
            "--------------------------------------\n",
            "  | other params | n/a  | 7     \n",
            "--------------------------------------\n",
            "1         Trainable params\n",
            "6         Non-trainable params\n",
            "7         Total params\n",
            "0.000     Total estimated model params size (MB)\n",
            "INFO:lightning.pytorch.callbacks.model_summary:\n",
            "  | Name         | Type | Params\n",
            "--------------------------------------\n",
            "  | other params | n/a  | 7     \n",
            "--------------------------------------\n",
            "1         Trainable params\n",
            "6         Non-trainable params\n",
            "7         Total params\n",
            "0.000     Total estimated model params size (MB)\n"
          ]
        },
        {
          "output_type": "display_data",
          "data": {
            "text/plain": [
              "Training: |          | 0/? [00:00<?, ?it/s]"
            ],
            "application/vnd.jupyter.widget-view+json": {
              "version_major": 2,
              "version_minor": 0,
              "model_id": "661590fa12814a86be5a04e67a232477"
            }
          },
          "metadata": {}
        },
        {
          "output_type": "stream",
          "name": "stderr",
          "text": [
            "INFO: `Trainer.fit` stopped: `max_epochs=20` reached.\n",
            "INFO:lightning.pytorch.utilities.rank_zero:`Trainer.fit` stopped: `max_epochs=20` reached.\n"
          ]
        },
        {
          "output_type": "stream",
          "name": "stdout",
          "text": [
            "tensor(-16.0070)\n"
          ]
        }
      ],
      "source": [
        "## Now that we have an improved learning rate, we can train the model (optimize final_bias)\n",
        "trainer.fit(model, train_dataloaders=dataloader)\n",
        "\n",
        "print(model.final_bias.data)"
      ]
    },
    {
      "cell_type": "markdown",
      "id": "fresh-settlement",
      "metadata": {
        "id": "fresh-settlement"
      },
      "source": [
        "So, if everything worked correctly, the optimizer should have converged on `final_bias = -16.0070`. **BAM!**\n",
        "\n",
        "Lastly, let's graph the output from the optimized neural network and see if it's the same as what we started with. If so, then the optimization worked."
      ]
    },
    {
      "cell_type": "code",
      "source": [
        "input_doses, output_values"
      ],
      "metadata": {
        "id": "CF-wkE0YtYc8",
        "outputId": "cfd154fc-9e32-4b43-b9f0-6edc88e63856",
        "colab": {
          "base_uri": "https://localhost:8080/"
        }
      },
      "id": "CF-wkE0YtYc8",
      "execution_count": 14,
      "outputs": [
        {
          "output_type": "execute_result",
          "data": {
            "text/plain": [
              "(tensor([0.0000, 0.1000, 0.2000, 0.3000, 0.4000, 0.5000, 0.6000, 0.7000, 0.8000,\n",
              "         0.9000, 1.0000]),\n",
              " tensor([0.0000, 0.0000, 0.0000, 0.0000, 0.0000, 1.0030, 0.0000, 0.0000, 0.0000,\n",
              "         0.0000, 0.0000], grad_fn=<ReluBackward0>))"
            ]
          },
          "metadata": {},
          "execution_count": 14
        }
      ]
    },
    {
      "cell_type": "code",
      "execution_count": 13,
      "id": "analyzed-effects",
      "metadata": {
        "colab": {
          "base_uri": "https://localhost:8080/",
          "height": 458
        },
        "id": "analyzed-effects",
        "outputId": "d9c8d9ce-6370-47bd-f0b9-bd28ae22b2e9"
      },
      "outputs": [
        {
          "output_type": "display_data",
          "data": {
            "text/plain": [
              "<Figure size 640x480 with 1 Axes>"
            ],
            "image/png": "[encoded data removed]"
          },
          "metadata": {}
        }
      ],
      "source": [
        "## run the different doses through the neural network\n",
        "output_values = model(input_doses)\n",
        "\n",
        "## set the style for seaborn so that the graph looks cool.\n",
        "sns.set(style=\"whitegrid\")\n",
        "\n",
        "## create the graph (you might not see it at this point, but you will after we save it as a PDF).\n",
        "sns.lineplot(x=input_doses,\n",
        "       y=output_values.detach(), ## NOTE: we call detach() because final_bias has a gradient\n",
        "       color='green',\n",
        "       linewidth=2.5)\n",
        "\n",
        "## now label the y- and x-axes.\n",
        "plt.ylabel('Effectiveness')\n",
        "plt.xlabel('Dose')\n",
        "\n",
        "## lastly, save the graph as a PDF.\n",
        "plt.savefig('BasicLightningTrain_optimized.pdf')"
      ]
    },
    {
      "cell_type": "markdown",
      "id": "personal-broadcast",
      "metadata": {
        "id": "personal-broadcast"
      },
      "source": [
        "And we see that the optimized model results in the same graph that we started with, so the optimization worked as expected."
      ]
    },
    {
      "cell_type": "markdown",
      "source": [
        "[HOW TO: Insert Image in Google Colab Text Cell](https://www.youtube.com/watch?v=vlheEeZd6lY) (out of date!). However, the comment under the Video shows a useful solution.\n",
        "\n",
        "```\n",
        "I think the new process, at least for me, is that google gives you something like this:\n",
        "\n",
        "https://drive.google.com/file/d/1YV2CtutL2bMX5sVc8zxwCm4WqWNJdmSA/view?usp=sharing\n",
        "\n",
        "and you change it to this:\n",
        "\n",
        "https://drive.google.com/uc?id=1YV2CtutL2bMX5sVc8zxwCm4WqWNJdmSA\n",
        "\n",
        "\n",
        "meaning, you copy everything between the `/d` and the `/view/`, and you replace\n",
        "everything after `https://drive.google.com/` with `uc?id=` and then paste in the id.\n",
        "```\n",
        "(Updated)把圖片上傳到Colab 的 Google Drive，把圖片的sharelink改成如下格式，圖片即可正常顯示\n",
        "\n",
        "\n",
        "\n",
        "\n",
        "```\n",
        "<img src=\"https://drive.google.com/uc?id=1c86HrlN5Am33HNHw566qK-JbehoX4iLr\" alt=\"A simple Neural Network\" style=\"width: 810px;\">\n",
        "```\n",
        "\n"
      ],
      "metadata": {
        "id": "aik8RWEZZsFt"
      },
      "id": "aik8RWEZZsFt"
    },
    {
      "cell_type": "markdown",
      "id": "brave-narrative",
      "metadata": {
        "id": "brave-narrative"
      },
      "source": [
        "# Triple BAM!!!"
      ]
    },
    {
      "cell_type": "markdown",
      "source": [],
      "metadata": {
        "id": "B0oPDasKZQ2c"
      },
      "id": "B0oPDasKZQ2c"
    },
    {
      "cell_type": "code",
      "source": [
        "# !tar xvf images.tar # 解壓縮"
      ],
      "metadata": {
        "id": "UIetKIHefU2R"
      },
      "id": "UIetKIHefU2R",
      "execution_count": null,
      "outputs": []
    }
  ],
  "metadata": {
    "kernelspec": {
      "display_name": "Python 3",
      "language": "python",
      "name": "python3"
    },
    "language_info": {
      "codemirror_mode": {
        "name": "ipython",
        "version": 3
      },
      "file_extension": ".py",
      "mimetype": "text/x-python",
      "name": "python",
      "nbconvert_exporter": "python",
      "pygments_lexer": "ipython3",
      "version": "3.10.11"
    },
    "colab": {
      "provenance": [],
      "include_colab_link": true
    },
    "widgets": {
      "application/vnd.jupyter.widget-state+json": {
        "caf41ac0d0ca4edd923855888d2c6424": {
          "model_module": "@jupyter-widgets/controls",
          "model_name": "HBoxModel",
          "model_module_version": "1.5.0",
          "state": {
            "_dom_classes": [],
            "_model_module": "@jupyter-widgets/controls",
            "_model_module_version": "1.5.0",
            "_model_name": "HBoxModel",
            "_view_count": null,
            "_view_module": "@jupyter-widgets/controls",
            "_view_module_version": "1.5.0",
            "_view_name": "HBoxView",
            "box_style": "",
            "children": [
              "IPY_MODEL_d2e0ba6baa7b403e94d0a2f6c2797310",
              "IPY_MODEL_d1add649dbd04bad8794a1ffc6ba3ebd",
              "IPY_MODEL_7e044c4807cb4946867779ee1866f939"
            ],
            "layout": "IPY_MODEL_98b38459825d428aaa8c73b7e9c4ba8a"
          }
        },
        "d2e0ba6baa7b403e94d0a2f6c2797310": {
          "model_module": "@jupyter-widgets/controls",
          "model_name": "HTMLModel",
          "model_module_version": "1.5.0",
          "state": {
            "_dom_classes": [],
            "_model_module": "@jupyter-widgets/controls",
            "_model_module_version": "1.5.0",
            "_model_name": "HTMLModel",
            "_view_count": null,
            "_view_module": "@jupyter-widgets/controls",
            "_view_module_version": "1.5.0",
            "_view_name": "HTMLView",
            "description": "",
            "description_tooltip": null,
            "layout": "IPY_MODEL_32cccee74e6f4899968e19ec63728155",
            "placeholder": "​",
            "style": "IPY_MODEL_74f8fc42bb024787bca8659e69c97c88",
            "value": "Finding best initial lr: 100%"
          }
        },
        "d1add649dbd04bad8794a1ffc6ba3ebd": {
          "model_module": "@jupyter-widgets/controls",
          "model_name": "FloatProgressModel",
          "model_module_version": "1.5.0",
          "state": {
            "_dom_classes": [],
            "_model_module": "@jupyter-widgets/controls",
            "_model_module_version": "1.5.0",
            "_model_name": "FloatProgressModel",
            "_view_count": null,
            "_view_module": "@jupyter-widgets/controls",
            "_view_module_version": "1.5.0",
            "_view_name": "ProgressView",
            "bar_style": "success",
            "description": "",
            "description_tooltip": null,
            "layout": "IPY_MODEL_b7e5ccde34884f1ba78ee771bb772d31",
            "max": 100,
            "min": 0,
            "orientation": "horizontal",
            "style": "IPY_MODEL_8ce1830411d74c9bb842014dcdf2e8a2",
            "value": 100
          }
        },
        "7e044c4807cb4946867779ee1866f939": {
          "model_module": "@jupyter-widgets/controls",
          "model_name": "HTMLModel",
          "model_module_version": "1.5.0",
          "state": {
            "_dom_classes": [],
            "_model_module": "@jupyter-widgets/controls",
            "_model_module_version": "1.5.0",
            "_model_name": "HTMLModel",
            "_view_count": null,
            "_view_module": "@jupyter-widgets/controls",
            "_view_module_version": "1.5.0",
            "_view_name": "HTMLView",
            "description": "",
            "description_tooltip": null,
            "layout": "IPY_MODEL_5b3960a8f51340969fe1a3d5d6dcf403",
            "placeholder": "​",
            "style": "IPY_MODEL_c32eb88ee57d4dda87da3036241c3229",
            "value": " 100/100 [02:01&lt;00:00, 286.73it/s]"
          }
        },
        "98b38459825d428aaa8c73b7e9c4ba8a": {
          "model_module": "@jupyter-widgets/base",
          "model_name": "LayoutModel",
          "model_module_version": "1.2.0",
          "state": {
            "_model_module": "@jupyter-widgets/base",
            "_model_module_version": "1.2.0",
            "_model_name": "LayoutModel",
            "_view_count": null,
            "_view_module": "@jupyter-widgets/base",
            "_view_module_version": "1.2.0",
            "_view_name": "LayoutView",
            "align_content": null,
            "align_items": null,
            "align_self": null,
            "border": null,
            "bottom": null,
            "display": null,
            "flex": null,
            "flex_flow": null,
            "grid_area": null,
            "grid_auto_columns": null,
            "grid_auto_flow": null,
            "grid_auto_rows": null,
            "grid_column": null,
            "grid_gap": null,
            "grid_row": null,
            "grid_template_areas": null,
            "grid_template_columns": null,
            "grid_template_rows": null,
            "height": null,
            "justify_content": null,
            "justify_items": null,
            "left": null,
            "margin": null,
            "max_height": null,
            "max_width": null,
            "min_height": null,
            "min_width": null,
            "object_fit": null,
            "object_position": null,
            "order": null,
            "overflow": null,
            "overflow_x": null,
            "overflow_y": null,
            "padding": null,
            "right": null,
            "top": null,
            "visibility": null,
            "width": null
          }
        },
        "32cccee74e6f4899968e19ec63728155": {
          "model_module": "@jupyter-widgets/base",
          "model_name": "LayoutModel",
          "model_module_version": "1.2.0",
          "state": {
            "_model_module": "@jupyter-widgets/base",
            "_model_module_version": "1.2.0",
            "_model_name": "LayoutModel",
            "_view_count": null,
            "_view_module": "@jupyter-widgets/base",
            "_view_module_version": "1.2.0",
            "_view_name": "LayoutView",
            "align_content": null,
            "align_items": null,
            "align_self": null,
            "border": null,
            "bottom": null,
            "display": null,
            "flex": null,
            "flex_flow": null,
            "grid_area": null,
            "grid_auto_columns": null,
            "grid_auto_flow": null,
            "grid_auto_rows": null,
            "grid_column": null,
            "grid_gap": null,
            "grid_row": null,
            "grid_template_areas": null,
            "grid_template_columns": null,
            "grid_template_rows": null,
            "height": null,
            "justify_content": null,
            "justify_items": null,
            "left": null,
            "margin": null,
            "max_height": null,
            "max_width": null,
            "min_height": null,
            "min_width": null,
            "object_fit": null,
            "object_position": null,
            "order": null,
            "overflow": null,
            "overflow_x": null,
            "overflow_y": null,
            "padding": null,
            "right": null,
            "top": null,
            "visibility": null,
            "width": null
          }
        },
        "74f8fc42bb024787bca8659e69c97c88": {
          "model_module": "@jupyter-widgets/controls",
          "model_name": "DescriptionStyleModel",
          "model_module_version": "1.5.0",
          "state": {
            "_model_module": "@jupyter-widgets/controls",
            "_model_module_version": "1.5.0",
            "_model_name": "DescriptionStyleModel",
            "_view_count": null,
            "_view_module": "@jupyter-widgets/base",
            "_view_module_version": "1.2.0",
            "_view_name": "StyleView",
            "description_width": ""
          }
        },
        "b7e5ccde34884f1ba78ee771bb772d31": {
          "model_module": "@jupyter-widgets/base",
          "model_name": "LayoutModel",
          "model_module_version": "1.2.0",
          "state": {
            "_model_module": "@jupyter-widgets/base",
            "_model_module_version": "1.2.0",
            "_model_name": "LayoutModel",
            "_view_count": null,
            "_view_module": "@jupyter-widgets/base",
            "_view_module_version": "1.2.0",
            "_view_name": "LayoutView",
            "align_content": null,
            "align_items": null,
            "align_self": null,
            "border": null,
            "bottom": null,
            "display": null,
            "flex": null,
            "flex_flow": null,
            "grid_area": null,
            "grid_auto_columns": null,
            "grid_auto_flow": null,
            "grid_auto_rows": null,
            "grid_column": null,
            "grid_gap": null,
            "grid_row": null,
            "grid_template_areas": null,
            "grid_template_columns": null,
            "grid_template_rows": null,
            "height": null,
            "justify_content": null,
            "justify_items": null,
            "left": null,
            "margin": null,
            "max_height": null,
            "max_width": null,
            "min_height": null,
            "min_width": null,
            "object_fit": null,
            "object_position": null,
            "order": null,
            "overflow": null,
            "overflow_x": null,
            "overflow_y": null,
            "padding": null,
            "right": null,
            "top": null,
            "visibility": null,
            "width": null
          }
        },
        "8ce1830411d74c9bb842014dcdf2e8a2": {
          "model_module": "@jupyter-widgets/controls",
          "model_name": "ProgressStyleModel",
          "model_module_version": "1.5.0",
          "state": {
            "_model_module": "@jupyter-widgets/controls",
            "_model_module_version": "1.5.0",
            "_model_name": "ProgressStyleModel",
            "_view_count": null,
            "_view_module": "@jupyter-widgets/base",
            "_view_module_version": "1.2.0",
            "_view_name": "StyleView",
            "bar_color": null,
            "description_width": ""
          }
        },
        "5b3960a8f51340969fe1a3d5d6dcf403": {
          "model_module": "@jupyter-widgets/base",
          "model_name": "LayoutModel",
          "model_module_version": "1.2.0",
          "state": {
            "_model_module": "@jupyter-widgets/base",
            "_model_module_version": "1.2.0",
            "_model_name": "LayoutModel",
            "_view_count": null,
            "_view_module": "@jupyter-widgets/base",
            "_view_module_version": "1.2.0",
            "_view_name": "LayoutView",
            "align_content": null,
            "align_items": null,
            "align_self": null,
            "border": null,
            "bottom": null,
            "display": null,
            "flex": null,
            "flex_flow": null,
            "grid_area": null,
            "grid_auto_columns": null,
            "grid_auto_flow": null,
            "grid_auto_rows": null,
            "grid_column": null,
            "grid_gap": null,
            "grid_row": null,
            "grid_template_areas": null,
            "grid_template_columns": null,
            "grid_template_rows": null,
            "height": null,
            "justify_content": null,
            "justify_items": null,
            "left": null,
            "margin": null,
            "max_height": null,
            "max_width": null,
            "min_height": null,
            "min_width": null,
            "object_fit": null,
            "object_position": null,
            "order": null,
            "overflow": null,
            "overflow_x": null,
            "overflow_y": null,
            "padding": null,
            "right": null,
            "top": null,
            "visibility": null,
            "width": null
          }
        },
        "c32eb88ee57d4dda87da3036241c3229": {
          "model_module": "@jupyter-widgets/controls",
          "model_name": "DescriptionStyleModel",
          "model_module_version": "1.5.0",
          "state": {
            "_model_module": "@jupyter-widgets/controls",
            "_model_module_version": "1.5.0",
            "_model_name": "DescriptionStyleModel",
            "_view_count": null,
            "_view_module": "@jupyter-widgets/base",
            "_view_module_version": "1.2.0",
            "_view_name": "StyleView",
            "description_width": ""
          }
        },
        "661590fa12814a86be5a04e67a232477": {
          "model_module": "@jupyter-widgets/controls",
          "model_name": "HBoxModel",
          "model_module_version": "1.5.0",
          "state": {
            "_dom_classes": [],
            "_model_module": "@jupyter-widgets/controls",
            "_model_module_version": "1.5.0",
            "_model_name": "HBoxModel",
            "_view_count": null,
            "_view_module": "@jupyter-widgets/controls",
            "_view_module_version": "1.5.0",
            "_view_name": "HBoxView",
            "box_style": "",
            "children": [
              "IPY_MODEL_76e87ae32a6b42f7bfba8b8ac4a5ae72",
              "IPY_MODEL_ee68602fb983421caa5766ba7b42d7a3",
              "IPY_MODEL_71ef568581984f53ae43c2c5171ec29d"
            ],
            "layout": "IPY_MODEL_ad1a07394912432bb89c019dbd8661ba"
          }
        },
        "76e87ae32a6b42f7bfba8b8ac4a5ae72": {
          "model_module": "@jupyter-widgets/controls",
          "model_name": "HTMLModel",
          "model_module_version": "1.5.0",
          "state": {
            "_dom_classes": [],
            "_model_module": "@jupyter-widgets/controls",
            "_model_module_version": "1.5.0",
            "_model_name": "HTMLModel",
            "_view_count": null,
            "_view_module": "@jupyter-widgets/controls",
            "_view_module_version": "1.5.0",
            "_view_name": "HTMLView",
            "description": "",
            "description_tooltip": null,
            "layout": "IPY_MODEL_f0d1093de8b648e894a6cbb03a9835d9",
            "placeholder": "​",
            "style": "IPY_MODEL_f94f5b8a8943410fb7d8b700b0d6cf5f",
            "value": "Epoch 19: 100%"
          }
        },
        "ee68602fb983421caa5766ba7b42d7a3": {
          "model_module": "@jupyter-widgets/controls",
          "model_name": "FloatProgressModel",
          "model_module_version": "1.5.0",
          "state": {
            "_dom_classes": [],
            "_model_module": "@jupyter-widgets/controls",
            "_model_module_version": "1.5.0",
            "_model_name": "FloatProgressModel",
            "_view_count": null,
            "_view_module": "@jupyter-widgets/controls",
            "_view_module_version": "1.5.0",
            "_view_name": "ProgressView",
            "bar_style": "success",
            "description": "",
            "description_tooltip": null,
            "layout": "IPY_MODEL_b0af34cfa7954a97bd70f93329879dc7",
            "max": 300,
            "min": 0,
            "orientation": "horizontal",
            "style": "IPY_MODEL_77bf340fe3dd4faca605ed00e5052355",
            "value": 300
          }
        },
        "71ef568581984f53ae43c2c5171ec29d": {
          "model_module": "@jupyter-widgets/controls",
          "model_name": "HTMLModel",
          "model_module_version": "1.5.0",
          "state": {
            "_dom_classes": [],
            "_model_module": "@jupyter-widgets/controls",
            "_model_module_version": "1.5.0",
            "_model_name": "HTMLModel",
            "_view_count": null,
            "_view_module": "@jupyter-widgets/controls",
            "_view_module_version": "1.5.0",
            "_view_name": "HTMLView",
            "description": "",
            "description_tooltip": null,
            "layout": "IPY_MODEL_47cce13e84ac43e284a91183063103e7",
            "placeholder": "​",
            "style": "IPY_MODEL_ab35d9a768e440d8b55a667f8fe6d4ba",
            "value": " 300/300 [00:01&lt;00:00, 175.28it/s, v_num=0]"
          }
        },
        "ad1a07394912432bb89c019dbd8661ba": {
          "model_module": "@jupyter-widgets/base",
          "model_name": "LayoutModel",
          "model_module_version": "1.2.0",
          "state": {
            "_model_module": "@jupyter-widgets/base",
            "_model_module_version": "1.2.0",
            "_model_name": "LayoutModel",
            "_view_count": null,
            "_view_module": "@jupyter-widgets/base",
            "_view_module_version": "1.2.0",
            "_view_name": "LayoutView",
            "align_content": null,
            "align_items": null,
            "align_self": null,
            "border": null,
            "bottom": null,
            "display": "inline-flex",
            "flex": null,
            "flex_flow": "row wrap",
            "grid_area": null,
            "grid_auto_columns": null,
            "grid_auto_flow": null,
            "grid_auto_rows": null,
            "grid_column": null,
            "grid_gap": null,
            "grid_row": null,
            "grid_template_areas": null,
            "grid_template_columns": null,
            "grid_template_rows": null,
            "height": null,
            "justify_content": null,
            "justify_items": null,
            "left": null,
            "margin": null,
            "max_height": null,
            "max_width": null,
            "min_height": null,
            "min_width": null,
            "object_fit": null,
            "object_position": null,
            "order": null,
            "overflow": null,
            "overflow_x": null,
            "overflow_y": null,
            "padding": null,
            "right": null,
            "top": null,
            "visibility": null,
            "width": "100%"
          }
        },
        "f0d1093de8b648e894a6cbb03a9835d9": {
          "model_module": "@jupyter-widgets/base",
          "model_name": "LayoutModel",
          "model_module_version": "1.2.0",
          "state": {
            "_model_module": "@jupyter-widgets/base",
            "_model_module_version": "1.2.0",
            "_model_name": "LayoutModel",
            "_view_count": null,
            "_view_module": "@jupyter-widgets/base",
            "_view_module_version": "1.2.0",
            "_view_name": "LayoutView",
            "align_content": null,
            "align_items": null,
            "align_self": null,
            "border": null,
            "bottom": null,
            "display": null,
            "flex": null,
            "flex_flow": null,
            "grid_area": null,
            "grid_auto_columns": null,
            "grid_auto_flow": null,
            "grid_auto_rows": null,
            "grid_column": null,
            "grid_gap": null,
            "grid_row": null,
            "grid_template_areas": null,
            "grid_template_columns": null,
            "grid_template_rows": null,
            "height": null,
            "justify_content": null,
            "justify_items": null,
            "left": null,
            "margin": null,
            "max_height": null,
            "max_width": null,
            "min_height": null,
            "min_width": null,
            "object_fit": null,
            "object_position": null,
            "order": null,
            "overflow": null,
            "overflow_x": null,
            "overflow_y": null,
            "padding": null,
            "right": null,
            "top": null,
            "visibility": null,
            "width": null
          }
        },
        "f94f5b8a8943410fb7d8b700b0d6cf5f": {
          "model_module": "@jupyter-widgets/controls",
          "model_name": "DescriptionStyleModel",
          "model_module_version": "1.5.0",
          "state": {
            "_model_module": "@jupyter-widgets/controls",
            "_model_module_version": "1.5.0",
            "_model_name": "DescriptionStyleModel",
            "_view_count": null,
            "_view_module": "@jupyter-widgets/base",
            "_view_module_version": "1.2.0",
            "_view_name": "StyleView",
            "description_width": ""
          }
        },
        "b0af34cfa7954a97bd70f93329879dc7": {
          "model_module": "@jupyter-widgets/base",
          "model_name": "LayoutModel",
          "model_module_version": "1.2.0",
          "state": {
            "_model_module": "@jupyter-widgets/base",
            "_model_module_version": "1.2.0",
            "_model_name": "LayoutModel",
            "_view_count": null,
            "_view_module": "@jupyter-widgets/base",
            "_view_module_version": "1.2.0",
            "_view_name": "LayoutView",
            "align_content": null,
            "align_items": null,
            "align_self": null,
            "border": null,
            "bottom": null,
            "display": null,
            "flex": "2",
            "flex_flow": null,
            "grid_area": null,
            "grid_auto_columns": null,
            "grid_auto_flow": null,
            "grid_auto_rows": null,
            "grid_column": null,
            "grid_gap": null,
            "grid_row": null,
            "grid_template_areas": null,
            "grid_template_columns": null,
            "grid_template_rows": null,
            "height": null,
            "justify_content": null,
            "justify_items": null,
            "left": null,
            "margin": null,
            "max_height": null,
            "max_width": null,
            "min_height": null,
            "min_width": null,
            "object_fit": null,
            "object_position": null,
            "order": null,
            "overflow": null,
            "overflow_x": null,
            "overflow_y": null,
            "padding": null,
            "right": null,
            "top": null,
            "visibility": null,
            "width": null
          }
        },
        "77bf340fe3dd4faca605ed00e5052355": {
          "model_module": "@jupyter-widgets/controls",
          "model_name": "ProgressStyleModel",
          "model_module_version": "1.5.0",
          "state": {
            "_model_module": "@jupyter-widgets/controls",
            "_model_module_version": "1.5.0",
            "_model_name": "ProgressStyleModel",
            "_view_count": null,
            "_view_module": "@jupyter-widgets/base",
            "_view_module_version": "1.2.0",
            "_view_name": "StyleView",
            "bar_color": null,
            "description_width": ""
          }
        },
        "47cce13e84ac43e284a91183063103e7": {
          "model_module": "@jupyter-widgets/base",
          "model_name": "LayoutModel",
          "model_module_version": "1.2.0",
          "state": {
            "_model_module": "@jupyter-widgets/base",
            "_model_module_version": "1.2.0",
            "_model_name": "LayoutModel",
            "_view_count": null,
            "_view_module": "@jupyter-widgets/base",
            "_view_module_version": "1.2.0",
            "_view_name": "LayoutView",
            "align_content": null,
            "align_items": null,
            "align_self": null,
            "border": null,
            "bottom": null,
            "display": null,
            "flex": null,
            "flex_flow": null,
            "grid_area": null,
            "grid_auto_columns": null,
            "grid_auto_flow": null,
            "grid_auto_rows": null,
            "grid_column": null,
            "grid_gap": null,
            "grid_row": null,
            "grid_template_areas": null,
            "grid_template_columns": null,
            "grid_template_rows": null,
            "height": null,
            "justify_content": null,
            "justify_items": null,
            "left": null,
            "margin": null,
            "max_height": null,
            "max_width": null,
            "min_height": null,
            "min_width": null,
            "object_fit": null,
            "object_position": null,
            "order": null,
            "overflow": null,
            "overflow_x": null,
            "overflow_y": null,
            "padding": null,
            "right": null,
            "top": null,
            "visibility": null,
            "width": null
          }
        },
        "ab35d9a768e440d8b55a667f8fe6d4ba": {
          "model_module": "@jupyter-widgets/controls",
          "model_name": "DescriptionStyleModel",
          "model_module_version": "1.5.0",
          "state": {
            "_model_module": "@jupyter-widgets/controls",
            "_model_module_version": "1.5.0",
            "_model_name": "DescriptionStyleModel",
            "_view_count": null,
            "_view_module": "@jupyter-widgets/base",
            "_view_module_version": "1.2.0",
            "_view_name": "StyleView",
            "description_width": ""
          }
        }
      }
    }
  },
  "nbformat": 4,
  "nbformat_minor": 5
}