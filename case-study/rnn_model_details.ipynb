{
  "nbformat": 4,
  "nbformat_minor": 0,
  "metadata": {
    "colab": {
      "provenance": [],
      "toc_visible": true,
      "include_colab_link": true
    },
    "kernelspec": {
      "name": "python3",
      "display_name": "Python 3"
    },
    "language_info": {
      "name": "python"
    }
  },
  "cells": [
    {
      "cell_type": "markdown",
      "metadata": {
        "id": "view-in-github",
        "colab_type": "text"
      },
      "source": [
        "<a href=\"https://colab.research.google.com/github/henrykohl/Machine-Learning-demo-repo/blob/master/case-study/rnn_model_details.ipynb\" target=\"_parent\"><img src=\"https://colab.research.google.com/assets/colab-badge.svg\" alt=\"Open In Colab\"/></a>"
      ]
    },
    {
      "cell_type": "markdown",
      "source": [
        "## 安裝 `torch`"
      ],
      "metadata": {
        "id": "fjF1h5qnvygG"
      }
    },
    {
      "cell_type": "code",
      "execution_count": 4,
      "metadata": {
        "id": "b_5nPnxs2sSu"
      },
      "outputs": [],
      "source": [
        "import torch\n",
        "from torch import nn"
      ]
    },
    {
      "cell_type": "markdown",
      "source": [
        "# CASE 1\n",
        "### 範例一：沒有batch, data(如句子)只有一個時間點的資料(seq_len=1, 如只含有一單詞)"
      ],
      "metadata": {
        "id": "W41qKVeG3AOD"
      }
    },
    {
      "cell_type": "code",
      "source": [
        "#network parameters\n",
        "input_size = 2   ## 輸入神經元 Xt (t指某個時間) 的特徵向量長度\n",
        "hidden_size = 2  ## hidden h 的特徵向量長度\n",
        "num_layers = 1   ## 只有一層 hidden layer A\n",
        "\n",
        "#data parameters\n",
        "seq_len = 1\n",
        "# (case 1不使用batch)batch_size = 2\n",
        "data_dim = input_size"
      ],
      "metadata": {
        "id": "VKNFKPwR3Ttg"
      },
      "execution_count": null,
      "outputs": []
    },
    {
      "cell_type": "code",
      "source": [
        "#input data\n",
        "data = torch.randn(seq_len, data_dim)\n",
        "data"
      ],
      "metadata": {
        "colab": {
          "base_uri": "https://localhost:8080/"
        },
        "id": "v9tDQWyA3ThA",
        "outputId": "426759cb-1461-4392-fcb1-3a9af7cc614a"
      },
      "execution_count": null,
      "outputs": [
        {
          "output_type": "execute_result",
          "data": {
            "text/plain": [
              "tensor([[-0.1213, -1.2157]])"
            ]
          },
          "metadata": {},
          "execution_count": 5
        }
      ]
    },
    {
      "cell_type": "markdown",
      "source": [
        "* <font color=\"red\">data 舉例，**`我愛你`**-- 長度為3，seq_len = 3, **`我`** -- 轉成 WordEmbedding 的向量，`[-0.8055, -2.1205]`，其長度為2  \n",
        "\n",
        "* <font color=\"red\">data 的shape是 `[1,2]`, 與官網說明(如下)完全一致\n",
        "> <font color=\"red\">-- **input**: tensor of shape (*L*,*H_in*) for unbatched input -- *L* 是 seq_len, *H_in* 是 input_size\n",
        "\n",
        "\n"
      ],
      "metadata": {
        "id": "GY-x229dIY5G"
      }
    },
    {
      "cell_type": "code",
      "source": [
        "#official rnn in pytorch\n",
        "ornn = nn.RNN(input_size, hidden_size, num_layers)"
      ],
      "metadata": {
        "id": "4gKv5O745qoU"
      },
      "execution_count": null,
      "outputs": []
    },
    {
      "cell_type": "code",
      "source": [
        "#init hidden state\n",
        "h0 = torch.randn(num_layers,hidden_size)\n",
        "h0"
      ],
      "metadata": {
        "colab": {
          "base_uri": "https://localhost:8080/"
        },
        "id": "qmBUiGWM3TSR",
        "outputId": "fc65c34f-75a4-4afe-e7eb-030b20089f4e"
      },
      "execution_count": null,
      "outputs": [
        {
          "output_type": "execute_result",
          "data": {
            "text/plain": [
              "tensor([[-1.8209,  0.5739]])"
            ]
          },
          "metadata": {},
          "execution_count": 7
        }
      ]
    },
    {
      "cell_type": "markdown",
      "source": [
        "* <font color=\"red\">**h0** 的 shape 是`[1,2]`, 與官網說明(如下)完全一致\n",
        "> <font color=\"red\">-- **h_0**: tensor of shape (*D* * *num_layers*, *H_out*) for unbatched input -- *D* 是 1 (非雙向), *H_out* 是 hidden_size"
      ],
      "metadata": {
        "id": "G-ap5S1aORv3"
      }
    },
    {
      "cell_type": "code",
      "source": [
        "# 輸入data，根據h0執行ornn，也可以不用自行提供h0~\n",
        "official_output, official_hn = ornn(data,h0)\n",
        "official_output, official_hn"
      ],
      "metadata": {
        "colab": {
          "base_uri": "https://localhost:8080/"
        },
        "id": "XbwwTdkB3TDK",
        "outputId": "74f0a80c-3d26-4970-cc4f-276a9ef63cfe"
      },
      "execution_count": null,
      "outputs": [
        {
          "output_type": "execute_result",
          "data": {
            "text/plain": [
              "(tensor([[ 0.4824, -0.8185]], grad_fn=<SqueezeBackward1>),\n",
              " tensor([[ 0.4824, -0.8185]], grad_fn=<SqueezeBackward1>))"
            ]
          },
          "metadata": {},
          "execution_count": 8
        }
      ]
    },
    {
      "cell_type": "markdown",
      "source": [
        "* <font color=\"red\">因為`seq_len=1`,`official_output`就是`official_hn`，所以兩者結果會相同\n",
        "\n",
        "* <font color=\"red\">`official_output`的shape是[1,2],與官網說明(如下)完全一致\n",
        "> <font color=\"red\">--**output**: tensor of shape (*L*, *D* * *H_out*) for unbatched input!\n",
        "* <font color=\"red\">`official_hn` (也就是**h1**) 的shape是[1,2],與官網說明(如下)完全一致\n",
        "> <font color=\"red\">--**h_n**: tensor of shape (*D* * *num_layers*, *H_out*) for unbatched input"
      ],
      "metadata": {
        "id": "jHTX1tTOEGFL"
      }
    },
    {
      "cell_type": "markdown",
      "source": [
        "輔助用--顯示模型中不同層的`name`與`weight`\n",
        "```python\n",
        "for name, param in ornn.named_parameters():\n",
        "    print(name, param.data)\n",
        "# 顯示實例\n",
        "# weight_ih_l0 tensor([[ 0.5115, -0.6934],\n",
        "#             [ 0.3216,  0.3994]])\n",
        "# weight_hh_l0 tensor([[-0.6004, -0.4624],\n",
        "#             [-0.6839,  0.4299]])\n",
        "# bias_ih_l0 tensor([0.1310, 0.1641])\n",
        "# bias_hh_l0 tensor([ 0.2844, -0.0994])\n",
        "```\n",
        "\n",
        "\n",
        "顯示模型中不同層的`name`與`weight`的另一個方法\n",
        "```python\n",
        "ornn.state_dict()\n",
        "# 顯示實例\n",
        "# OrderedDict([('weight_ih_l0',\n",
        "#         tensor([[ 0.5115, -0.6934],\n",
        "#             [ 0.3216,  0.3994]])),\n",
        "#         ('weight_hh_l0',\n",
        "#         tensor([[-0.6004, -0.4624],\n",
        "#             [-0.6839,  0.4299]])),\n",
        "#         ('bias_ih_l0', tensor([0.1310, 0.1641])),\n",
        "#         ('bias_hh_l0', tensor([ 0.2844, -0.0994]))])\n",
        "```\n",
        "\n"
      ],
      "metadata": {
        "id": "uqerezPoYMP1"
      }
    },
    {
      "cell_type": "code",
      "source": [
        "# 自行計算rnn的一種方式,也是最簡化的方式(用.data取代nn.Parameter)\n",
        "XWi = data@ornn.weight_ih_l0.data.T # 執行Xt*W_ih^T\n",
        "#[1,2] <- [1,2]@[2,2]\n",
        "b_ih = ornn.bias_ih_l0.data\n",
        "#[1,2] <- [1,2]\n",
        "hWh = h0@ornn.weight_hh_l0.data.T # h0*W_hh^T\n",
        "#[1,2] <- [1,2]@[2,2]\n",
        "b_hh = ornn.bias_hh_l0.data\n",
        "#[1,2] <- [1,2]\n",
        "resultf = torch.tanh(XWi+b_ih+hWh+b_hh)\n",
        "#[1,2] <- [1,2]\n",
        "resultf"
      ],
      "metadata": {
        "colab": {
          "base_uri": "https://localhost:8080/"
        },
        "id": "YtP3E_Vn9Szm",
        "outputId": "82d1bba5-a5d2-40b7-805c-4914d5b94bec"
      },
      "execution_count": null,
      "outputs": [
        {
          "output_type": "execute_result",
          "data": {
            "text/plain": [
              "tensor([[ 0.9922, -0.2327]])"
            ]
          },
          "metadata": {},
          "execution_count": 11
        }
      ]
    },
    {
      "cell_type": "markdown",
      "source": [
        "\n",
        "\n",
        "```python\n",
        "# 自行計算rnn的其他方式\n",
        "XWi = torch.matmul(data,ornn.state_dict()['weight_ih_l0'].T) # Xt*W_ih^T\n",
        "b_ih = ornn.state_dict()['bias_ih_l0']\n",
        "hWh = torch.matmul(h0,ornn.state_dict()['weight_hh_l0'].T) # h0*W_hh^T\n",
        "b_hh = ornn.state_dict()['bias_hh_l0']\n",
        "\n",
        "result = torch.tanh(XWi+b_ih+hWh+b_hh)\n",
        "```\n",
        "\n",
        "\n",
        "```python\n",
        "# 自行計算rnn的另一種方式(用@取代matmul)\n",
        "XWi = data@torch.nn.Parameter(ornn.weight_ih_l0.T) # Xt*W_ih^T\n",
        "b_ih = torch.nn.Parameter(ornn.bias_ih_l0)\n",
        "hWh = h0@torch.nn.Parameter(ornn.weight_hh_l0.T) # h0*W_hh^T\n",
        "b_hh = torch.nn.Parameter(ornn.bias_hh_l0)\n",
        "\n",
        "result0 = torch.tanh(XWi+b_ih+hWh+b_hh)\n",
        "```\n",
        "* `resultf`與`official_hn`(`official_output`),結果相同\n",
        "* `result`、`result0`、`resultf`等,三個結果均相同\n"
      ],
      "metadata": {
        "id": "hE3KVuuHmXVF"
      }
    },
    {
      "cell_type": "markdown",
      "source": [
        "# CASE 2\n",
        "### 範例二：沒有batch, data(如句子)有兩個時間點的資料(seq_len=2, 如只含有2單詞)"
      ],
      "metadata": {
        "id": "4IIYe8rF3EZx"
      }
    },
    {
      "cell_type": "code",
      "source": [
        "#network parameters\n",
        "input_size = 2   # 輸入神經元 Xt (t指某個時間) 的特徵向量長度\n",
        "hidden_size = 2  # hidden h 的特徵向量長度\n",
        "num_layers = 1   # 只有一層 hidden layer A\n",
        "\n",
        "#data parameters\n",
        "seq_len = 2\n",
        "data_dim = input_size"
      ],
      "metadata": {
        "id": "uWHRDajO3I1Q"
      },
      "execution_count": null,
      "outputs": []
    },
    {
      "cell_type": "code",
      "source": [
        "#input data\n",
        "data = torch.randn(seq_len, data_dim)\n",
        "data"
      ],
      "metadata": {
        "colab": {
          "base_uri": "https://localhost:8080/"
        },
        "id": "COsfVkQ3p95K",
        "outputId": "c14812ce-bbfd-4ea8-b271-ed353c61afa3"
      },
      "execution_count": null,
      "outputs": [
        {
          "output_type": "execute_result",
          "data": {
            "text/plain": [
              "tensor([[0.3186, 0.2621],\n",
              "        [0.0803, 0.1127]])"
            ]
          },
          "metadata": {},
          "execution_count": 13
        }
      ]
    },
    {
      "cell_type": "markdown",
      "source": [
        "* <font color=\"red\">data的shpae是[2,2], 與官網說明(如下)完全一致\n",
        "> <font color=\"red\">-- **input**: tensor of shape (*L*,*H_in*) for unbatched input -- *L* 是 seq_len, *H_in* 是 input_size"
      ],
      "metadata": {
        "id": "_PQJdYeXRPlv"
      }
    },
    {
      "cell_type": "code",
      "source": [
        "#official rnn in pytorch\n",
        "ornn = nn.RNN(input_size, hidden_size, num_layers)"
      ],
      "metadata": {
        "id": "CdAt8fYaqbjO"
      },
      "execution_count": null,
      "outputs": []
    },
    {
      "cell_type": "code",
      "source": [
        "#init hidden state\n",
        "h0 = torch.randn(num_layers,hidden_size)\n",
        "h0"
      ],
      "metadata": {
        "colab": {
          "base_uri": "https://localhost:8080/"
        },
        "id": "hZsyeK2SqgOn",
        "outputId": "6f19d4d2-1cd9-4009-b5b7-aa7b35a74cdf"
      },
      "execution_count": null,
      "outputs": [
        {
          "output_type": "execute_result",
          "data": {
            "text/plain": [
              "tensor([[ 0.8117, -1.3520]])"
            ]
          },
          "metadata": {},
          "execution_count": 15
        }
      ]
    },
    {
      "cell_type": "markdown",
      "source": [
        "* <font color=\"red\">h0的shape是[1,2], 與官網說明(如下)完全一致\n",
        "> <font color=\"red\">-- **h_0**: tensor of shape (*D* * *num_layers*, *H_out*) for unbatched input -- *D* 是 1 (非雙向), *H_out* 是 hidden_size"
      ],
      "metadata": {
        "id": "6-1n6t_OSb89"
      }
    },
    {
      "cell_type": "code",
      "source": [
        "#輸入data，根據h0執行ornn\n",
        "official_output, official_hn = ornn(data,h0)\n",
        "official_output, official_hn ## official_output的最後一個row跟official_hn是一樣的"
      ],
      "metadata": {
        "colab": {
          "base_uri": "https://localhost:8080/"
        },
        "id": "SRvI7xpRqhoF",
        "outputId": "10812961-1b8a-4096-e6b0-5dfa1d108d7b"
      },
      "execution_count": null,
      "outputs": [
        {
          "output_type": "execute_result",
          "data": {
            "text/plain": [
              "(tensor([[-0.4101,  0.3046],\n",
              "         [-0.2281,  0.7439]], grad_fn=<SqueezeBackward1>),\n",
              " tensor([[-0.2281,  0.7439]], grad_fn=<SqueezeBackward1>))"
            ]
          },
          "metadata": {},
          "execution_count": 16
        }
      ]
    },
    {
      "cell_type": "markdown",
      "source": [
        "* <font color=\"red\">official_output的shape是[2,2],與官網說明(如下)完全一致\n",
        "> <font color=\"red\">--**output**: tensor of shape (*L*, *D* * *H_out*) for unbatched input\n",
        "* <font color=\"red\">official_hn的shape是[1,2],與官網說明(如下)完全一致\n",
        "> <font color=\"red\">--**h_n**--: tensor of shape (*D* * *num_layers*, *H_out*) for unbatched input"
      ],
      "metadata": {
        "id": "y6ncVDwtFWPB"
      }
    },
    {
      "cell_type": "code",
      "source": [
        "# 自行計算rnn：此時 X(t) 是 data[0]\n",
        "XWi = data[0]@ornn.weight_ih_l0.data.T # 執行Xt*W_ih^T\n",
        "#[1,2] <- [1,2]@[2,2]\n",
        "b_ih = ornn.bias_ih_l0.data\n",
        "#[1,2] <- [1,2]\n",
        "hWh = h0@ornn.weight_hh_l0.data.T # h0*W_hh^T\n",
        "#[1,2] <- [1,2]@[2,2]\n",
        "b_hh = ornn.bias_hh_l0.data\n",
        "#[1,2] <- [1,2]\n",
        "h1 = torch.tanh(XWi+b_ih+hWh+b_hh)\n",
        "#[1,2] <- [1,2]+[1,2]+[1,2]+[1,2]\n",
        "h1"
      ],
      "metadata": {
        "colab": {
          "base_uri": "https://localhost:8080/"
        },
        "id": "3mUWHZKYtkhr",
        "outputId": "2d7eed20-829c-4892-82ca-7293a0f60f9d"
      },
      "execution_count": null,
      "outputs": [
        {
          "output_type": "execute_result",
          "data": {
            "text/plain": [
              "tensor([[-0.4101,  0.3046]])"
            ]
          },
          "metadata": {},
          "execution_count": 18
        }
      ]
    },
    {
      "cell_type": "code",
      "source": [
        "# 此時輸入是 X(t+1) 是 data[1] , h1 是 result\n",
        "XWi = data[1]@ornn.weight_ih_l0.data.T # X(t+1)*W_ih^T\n",
        "#[1,2] <- [1,2]@[2,2]\n",
        "hWh = h1@ornn.weight_hh_l0.data.T # h1*W_hh^T\n",
        "#[1,2] <- [1,2]@[2,2]\n",
        "result = torch.tanh(XWi+b_ih+hWh+b_hh)\n",
        "#[1,2] <- [1,2]+[1,2]+[1,2]+[1,2]\n",
        "result"
      ],
      "metadata": {
        "colab": {
          "base_uri": "https://localhost:8080/"
        },
        "id": "MhFpfBGW1woq",
        "outputId": "e86277a7-c707-4034-b520-5a5690a8d89f"
      },
      "execution_count": null,
      "outputs": [
        {
          "output_type": "execute_result",
          "data": {
            "text/plain": [
              "tensor([[-0.2281,  0.7439]])"
            ]
          },
          "metadata": {},
          "execution_count": 19
        }
      ]
    },
    {
      "cell_type": "markdown",
      "source": [
        "* <font color=\"red\">`result`跟`official_hn`是一樣的\n",
        "* <font color=\"red\">`h1`與`result`合起來跟`official_output`是一樣的"
      ],
      "metadata": {
        "id": "skZqPzSS2dM-"
      }
    },
    {
      "cell_type": "markdown",
      "source": [
        "# CASE 3\n",
        "\n",
        "### 範例三：有batch, data(如句子)只有一個時間點的資料(seq_len=1, 如只含有一單詞) <font color=\"red\">`batch_first=False`(by default)</font>"
      ],
      "metadata": {
        "id": "B5poVHff2zt2"
      }
    },
    {
      "cell_type": "code",
      "source": [
        "#network parameters\n",
        "input_size = 2   # 輸入神經元 Xt (t指某個時間) 的特徵向量長度\n",
        "hidden_size = 3  # hidden h 的特徵向量長度\n",
        "num_layers = 1   # 只有一層 hidden layer A"
      ],
      "metadata": {
        "id": "HL5HVAI22ye9"
      },
      "execution_count": null,
      "outputs": []
    },
    {
      "cell_type": "code",
      "source": [
        "#data parameters\n",
        "seq_len = 1\n",
        "batch_size = 2  ## case3 使用 batch\n",
        "data_dim = input_size"
      ],
      "metadata": {
        "id": "fKYwHHzJ3pfA"
      },
      "execution_count": null,
      "outputs": []
    },
    {
      "cell_type": "code",
      "source": [
        "#input data\n",
        "data = torch.randn(seq_len, batch_size, data_dim)\n",
        "data"
      ],
      "metadata": {
        "colab": {
          "base_uri": "https://localhost:8080/"
        },
        "id": "aO9SW3as3sg_",
        "outputId": "56499594-a59c-4a5d-d657-b3bd364398b7"
      },
      "execution_count": null,
      "outputs": [
        {
          "output_type": "execute_result",
          "data": {
            "text/plain": [
              "tensor([[[-0.1653, -0.6904],\n",
              "         [ 0.4397, -1.1805]]])"
            ]
          },
          "metadata": {},
          "execution_count": 4
        }
      ]
    },
    {
      "cell_type": "markdown",
      "source": [
        "* <font color=\"red\">data的shpae是[1,2,2], 與官網說明(如下)完全一致\n",
        "> <font color=\"red\">-- **input**: tensor of shape (*L*, *N*, *H_in*) when `batch_first=Falset` -- *L* 是 seq_len, *N* 是 batch_size, *H_in* 是 input_size"
      ],
      "metadata": {
        "id": "-sPiC-I1SuCF"
      }
    },
    {
      "cell_type": "code",
      "source": [
        "#official rnn in pytorch\n",
        "ornn = nn.RNN(input_size, hidden_size, num_layers)"
      ],
      "metadata": {
        "id": "Om6RleIR5Un8"
      },
      "execution_count": null,
      "outputs": []
    },
    {
      "cell_type": "code",
      "source": [
        "#init hidden state\n",
        "h0 = torch.randn(num_layers,batch_size,hidden_size)\n",
        "h0"
      ],
      "metadata": {
        "colab": {
          "base_uri": "https://localhost:8080/"
        },
        "id": "kiJkGm8D5ZzC",
        "outputId": "e1ca584f-a691-439d-ba91-7432c35fc085"
      },
      "execution_count": null,
      "outputs": [
        {
          "output_type": "execute_result",
          "data": {
            "text/plain": [
              "tensor([[[ 0.4718, -1.5048, -0.1406],\n",
              "         [-0.6596, -0.3207, -0.3593]]])"
            ]
          },
          "metadata": {},
          "execution_count": 6
        }
      ]
    },
    {
      "cell_type": "markdown",
      "source": [
        "* <font color=\"red\">h0的shape是[1,2,3], 與官網說明(如下)完全一致\n",
        "> <font color=\"red\">-- **input**: tensor of shape (*D* * *num_layers*, *N*, *H_out*) -- *D* 是 1 (非雙向), *N* 是 batch_size, *H_out* 是 hidden_size"
      ],
      "metadata": {
        "id": "La4Fon6kUUDy"
      }
    },
    {
      "cell_type": "code",
      "source": [
        "#輸入data，根據h0執行ornn\n",
        "official_output, official_hn = ornn(data,h0)\n",
        "official_output, official_hn"
      ],
      "metadata": {
        "colab": {
          "base_uri": "https://localhost:8080/"
        },
        "id": "jESgc6Ly5b5a",
        "outputId": "cf414d08-0d18-4b40-b78b-f4c3dd38719f"
      },
      "execution_count": null,
      "outputs": [
        {
          "output_type": "execute_result",
          "data": {
            "text/plain": [
              "(tensor([[[ 0.9534, -0.5405,  0.4892],\n",
              "          [ 0.6674,  0.1532,  0.3114]]], grad_fn=<StackBackward0>),\n",
              " tensor([[[ 0.9534, -0.5405,  0.4892],\n",
              "          [ 0.6674,  0.1532,  0.3114]]], grad_fn=<StackBackward0>))"
            ]
          },
          "metadata": {},
          "execution_count": 7
        }
      ]
    },
    {
      "cell_type": "markdown",
      "source": [
        "* <font color=\"red\">因為`seq_len=1`,`official_output`就是`official_hn`，所以兩者結果會相同\n",
        "\n",
        "* <font color=\"red\">official_output的shape是[1,2,3],與官網說明(如下)完全一致\n",
        "> <font color=\"red\">--**output**: tensor of shape (*L*, *N*, *D* * *H_out*) when batch_first=False\n",
        "* <font color=\"red\">official_hn的shape是[1,2,3],與官網說明(如下)完全一致\n",
        "> <font color=\"red\">--**h_n**--: tensor of shape (*D* * num_layers, *N*, *H_out*)"
      ],
      "metadata": {
        "id": "zZZyzdOaFkG4"
      }
    },
    {
      "cell_type": "markdown",
      "source": [
        "\n",
        "```python\n",
        "for name, param in ornn.named_parameters():\n",
        "    print(name, param.data)\n",
        "    \n",
        "# 顯示實例\n",
        "# weight_ih_l0 tensor([[ 0.2118,  0.1362],\n",
        "#             [-0.2425, -0.0603],\n",
        "#             [-0.2240, -0.1886]])\n",
        "# weight_hh_l0 tensor([[-0.5366, -0.1552,  0.1902],\n",
        "#             [ 0.5705,  0.2271, -0.4266],\n",
        "#             [ 0.2376, -0.4090, -0.5661]])\n",
        "# bias_ih_l0 tensor([ 0.1009, -0.4630,  0.1333])\n",
        "# bias_hh_l0 tensor([-0.4209, -0.2299, -0.4520])\n",
        "```\n",
        "* <font color=\"red\">注意`weight_ih_l0`的下標是`ih` , `i`是`input`(size為2) , `h`是`hidden`(size為3), 但`weight_ih_l0`的size是(3,2)\n"
      ],
      "metadata": {
        "id": "fL4n8SOEBPOd"
      }
    },
    {
      "cell_type": "code",
      "source": [
        "# 自行計算rnn的一種方式,也是最簡化的方式(用.data取代nn.Parameter)\n",
        "XWi = data@ornn.weight_ih_l0.data.T # 執行Xt*W_ih^T\n",
        "#[1,2,3] <- [1,2,2]@[2,3]\n",
        "b_ih = ornn.bias_ih_l0.data\n",
        "#[1,3] <- [1,3]\n",
        "hWh = h0@ornn.weight_hh_l0.data.T # h0*W_hh^T\n",
        "#[1,2,3] <- [1,2,3]@[3,3]\n",
        "b_hh = ornn.bias_hh_l0.data\n",
        "#[1,3] <- [1,3]\n",
        "resultf = torch.tanh(XWi+b_ih+hWh+b_hh)\n",
        "#[1,2,3] <- [1,2,3]+[1,3]+[1,2,3]+[1,3] ## [1,3] 會擴展成 [2,3] 再展成 [1,2,3]\n",
        "resultf"
      ],
      "metadata": {
        "colab": {
          "base_uri": "https://localhost:8080/"
        },
        "id": "TVEMuEgNC6Ms",
        "outputId": "ee70b782-4500-4fea-ff82-970fdc48e062"
      },
      "execution_count": null,
      "outputs": [
        {
          "output_type": "execute_result",
          "data": {
            "text/plain": [
              "tensor([[[ 0.9534, -0.5405,  0.4892],\n",
              "         [ 0.6674,  0.1532,  0.3114]]])"
            ]
          },
          "metadata": {},
          "execution_count": 8
        }
      ]
    },
    {
      "cell_type": "markdown",
      "source": [
        "* `result`跟`official_hn`(`official_hn`)是一樣的"
      ],
      "metadata": {
        "id": "We9aAjo4gitu"
      }
    },
    {
      "cell_type": "markdown",
      "source": [
        "# CASE -- Customized RNN Model\n",
        "\n",
        "### 自訂具結構性的RNN模型(根據之前`自行計算rnn方式`)"
      ],
      "metadata": {
        "id": "u3ocSqixgrRU"
      }
    },
    {
      "cell_type": "code",
      "source": [
        "#rnn implemented by myself\n",
        "class MyRNN():\n",
        "    def __init__(self):\n",
        "        #keep weights and bias parameters the same with official rnn\n",
        "        # to make the compare with official rnn by final result\n",
        "        self.W_ih = torch.nn.Parameter(ornn.weight_ih_l0.T)\n",
        "        self.b_ih = torch.nn.Parameter(ornn.bias_ih_l0)\n",
        "        self.W_hh = torch.nn.Parameter(ornn.weight_hh_l0.T)\n",
        "        self.b_hh = torch.nn.Parameter(ornn.bias_hh_l0)\n",
        "        self.ht = torch.nn.Parameter(h0)\n",
        "        self.myoutput = []\n",
        "\n",
        "    def forward(self,x): ## x 就是之後將輸入的data\n",
        "        for i in range(seq_len):\n",
        "            igates = x[i] @ self.W_ih + self.b_ih\n",
        "            hgates = self.ht @ self.W_hh + self.b_hh\n",
        "            self.ht = torch.tanh(igates + hgates)\n",
        "            self.myoutput.append(self.ht)\n",
        "        return self.ht,self.myoutput"
      ],
      "metadata": {
        "id": "fuziEW0mhkua"
      },
      "execution_count": null,
      "outputs": []
    },
    {
      "cell_type": "code",
      "source": [
        "myrnn = MyRNN()\n",
        "myht,myoutput = myrnn.forward(data)\n",
        "myht,myoutput"
      ],
      "metadata": {
        "colab": {
          "base_uri": "https://localhost:8080/"
        },
        "id": "yYz0FcEmiKEt",
        "outputId": "e5662163-d929-4520-ec4b-8b0729d31357"
      },
      "execution_count": null,
      "outputs": [
        {
          "output_type": "execute_result",
          "data": {
            "text/plain": [
              "(tensor([[[ 0.9534, -0.5405,  0.4892],\n",
              "          [ 0.6674,  0.1532,  0.3114]]], grad_fn=<TanhBackward0>),\n",
              " [tensor([[[ 0.9534, -0.5405,  0.4892],\n",
              "           [ 0.6674,  0.1532,  0.3114]]], grad_fn=<TanhBackward0>)])"
            ]
          },
          "metadata": {},
          "execution_count": 10
        }
      ]
    },
    {
      "cell_type": "markdown",
      "source": [
        "* 注意如果要寫成 `myht, myoutput = myrnn(data)`, `class MyRNN()`要改成如下"
      ],
      "metadata": {
        "id": "XpFFQKjZn17E"
      }
    },
    {
      "cell_type": "code",
      "source": [
        "class MyRNN(nn.Module): # 修改過, 否則 object is not callable\n",
        "    def __init__(self):\n",
        "        super(MyRNN,self).__init__() # 修改過, 否則 object is not callable\n",
        "\n",
        "        self.W_ih = torch.nn.Parameter(ornn.weight_ih_l0.T)\n",
        "        self.b_ih = torch.nn.Parameter(ornn.bias_ih_l0)\n",
        "        self.W_hh = torch.nn.Parameter(ornn.weight_hh_l0.T)\n",
        "        self.b_hh = torch.nn.Parameter(ornn.bias_hh_l0)\n",
        "        self.ht = torch.nn.Parameter(h0)\n",
        "        self.myoutput = []\n",
        "\n",
        "    def forward(self,x):\n",
        "        for i in range(seq_len):\n",
        "            igates = torch.matmul(x[i],self.W_ih) + self.b_ih\n",
        "            hgates = torch.matmul(self.ht,self.W_hh) + self.b_hh\n",
        "            self.ht = torch.nn.Parameter(torch.tanh(igates + hgates)) # 修改過\n",
        "            # 若上行沒修改過,則 cannot assign 'torch.FloatTensor' as parameter ht\n",
        "            # 或是上行不執行, 以下self.ht直接用 torch.tanh(igates + hgates)取代\n",
        "            self.myoutput.append(self.ht.data)\n",
        "        return self.ht.data,self.myoutput"
      ],
      "metadata": {
        "id": "6IWBHet_nnwB"
      },
      "execution_count": null,
      "outputs": []
    },
    {
      "cell_type": "code",
      "source": [
        "myrnn = MyRNN()\n",
        "myht,myoutput = myrnn(data)\n",
        "myht,myoutput"
      ],
      "metadata": {
        "colab": {
          "base_uri": "https://localhost:8080/"
        },
        "id": "oiAfO9-8obRX",
        "outputId": "8d652837-b7fb-42a0-bc40-c20a928cb210"
      },
      "execution_count": null,
      "outputs": [
        {
          "output_type": "execute_result",
          "data": {
            "text/plain": [
              "(tensor([[[ 0.9534, -0.5405,  0.4892],\n",
              "          [ 0.6674,  0.1532,  0.3114]]]),\n",
              " [tensor([[[ 0.9534, -0.5405,  0.4892],\n",
              "           [ 0.6674,  0.1532,  0.3114]]])])"
            ]
          },
          "metadata": {},
          "execution_count": 13
        }
      ]
    },
    {
      "cell_type": "markdown",
      "source": [
        "# [CLASS torch.nn.RNN 官網說明](https://pytorch.org/docs/stable/generated/torch.nn.RNN.html#torch.nn.RNN)\n",
        "\n",
        "<font color=\"red\">(10/19/2024)注意，Pytorch的RNN架構，hidden layer就直接當成output layer，也就是沒有 O_t = g(V • S_t)</font>"
      ],
      "metadata": {
        "id": "0zTLwIVPH-d5"
      }
    },
    {
      "cell_type": "code",
      "source": [],
      "metadata": {
        "id": "HFfRBjBDIOJS"
      },
      "execution_count": null,
      "outputs": []
    },
    {
      "cell_type": "markdown",
      "source": [
        "# RNN VS. LSTM"
      ],
      "metadata": {
        "id": "C9EiPWj92hiU"
      }
    },
    {
      "cell_type": "markdown",
      "source": [
        "## <font color=\"red\">C1 -- RNN,且`batch_first=False`(by default) 附 結構圖</font>"
      ],
      "metadata": {
        "id": "p5vbhB01NQti"
      }
    },
    {
      "cell_type": "code",
      "source": [
        "input_size = 5 ## H_in\n",
        "hidden_size = 5*2 ## H_out\n",
        "num_layers = 2 ## num_layers\n",
        "\n",
        "seq_len = 3 ## L\n",
        "batch_size = 4 ## N\n",
        "data_dim = input_size"
      ],
      "metadata": {
        "id": "EqSLJweg4BHZ"
      },
      "execution_count": 2,
      "outputs": []
    },
    {
      "cell_type": "code",
      "source": [
        "data = torch.randn(seq_len, batch_size, data_dim) ## 給 ornn 模型使用\n",
        "\n",
        "ornn = nn.RNN(input_size, hidden_size, num_layers) # batch_first = False (by default)\n",
        "\n",
        "\n",
        "h0 = torch.randn(num_layers,batch_size,hidden_size) # optional -- 可以不提供\n",
        "\n",
        "\n",
        "ornn_out, o_hn = ornn(data,h0) # h0 可以不提供\n",
        "data.shape, h0.shape, ornn_out.shape, o_hn.shape"
      ],
      "metadata": {
        "colab": {
          "base_uri": "https://localhost:8080/"
        },
        "id": "51syfcBj5MyN",
        "outputId": "740f9d41-a686-4d10-ff15-b346c91f53e3"
      },
      "execution_count": null,
      "outputs": [
        {
          "output_type": "execute_result",
          "data": {
            "text/plain": [
              "(torch.Size([3, 4, 5]),\n",
              " torch.Size([2, 4, 10]),\n",
              " torch.Size([3, 4, 10]),\n",
              " torch.Size([2, 4, 10]))"
            ]
          },
          "metadata": {},
          "execution_count": 3
        }
      ]
    },
    {
      "cell_type": "markdown",
      "source": [
        "* <font color=\"red\">data 的 shape, 就是 `seq_len`=*L*, `batch_size`=*N*, `data_dim`=*H_in*\n",
        "* <font color=\"red\">h0 的 shape, 就是 num_layers, `batch_size`=*N*, `hidden_size`=*H_out*\n",
        "* <font color=\"red\">ornn_out的shape是[3,4,10],與官網說明(如下)完全一致\n",
        "> <font color=\"red\">--**output** : tensor of shape (*L*, *N*, *D* * *H_out*) when batch_first=False\n",
        "* <font color=\"red\">o_hn的shape是[2,4,10],與官網說明(如下)完全一致\n",
        "> <font color=\"red\">--**h_n** : tensor of shape (*D* * num_layers, *N*, *H_out*)"
      ],
      "metadata": {
        "id": "o6N-PGaoG2NQ"
      }
    },
    {
      "cell_type": "code",
      "source": [
        "## 顯示模型中的weights與bias\n",
        "for name, param in ornn.named_parameters():\n",
        "  print(name, param.data.shape)"
      ],
      "metadata": {
        "colab": {
          "base_uri": "https://localhost:8080/"
        },
        "id": "kBgBFMUKA2ww",
        "outputId": "087ee01a-ad08-4164-d831-5d11a2c97797"
      },
      "execution_count": null,
      "outputs": [
        {
          "output_type": "stream",
          "name": "stdout",
          "text": [
            "weight_ih_l0 torch.Size([10, 5])\n",
            "weight_hh_l0 torch.Size([10, 10])\n",
            "bias_ih_l0 torch.Size([10])\n",
            "bias_hh_l0 torch.Size([10])\n",
            "weight_ih_l1 torch.Size([10, 10])\n",
            "weight_hh_l1 torch.Size([10, 10])\n",
            "bias_ih_l1 torch.Size([10])\n",
            "bias_hh_l1 torch.Size([10])\n"
          ]
        }
      ]
    },
    {
      "cell_type": "markdown",
      "source": [
        "<img src=\"https://github.com/henrykohl/Machine-Learning-demo-repo/blob/master/case-study/images/RNNexample.jpg?raw=1\">"
      ],
      "metadata": {
        "id": "xVXrMpngNxb3"
      }
    },
    {
      "cell_type": "markdown",
      "source": [
        "* <font color=\"red\">`h_0`的shape是 `[2,4,10]`，第一個`2`是指有兩個layer，每一個layer有各自的`weight__W_hh` 與 `bias__b_hh` ，在相同的layer，不同的batch位置，還是共用相同的 `weight` 與 `bias`</font>"
      ],
      "metadata": {
        "id": "usykOm4Ym3hi"
      }
    },
    {
      "cell_type": "markdown",
      "source": [
        "[shape大小解析--OneNote](https://1drv.ms/o/s!AgOapA_2EQ82ihNHv9B5-8CVDR1z?e=X63EkQ)"
      ],
      "metadata": {
        "id": "f-8KgrWtosFk"
      }
    },
    {
      "cell_type": "markdown",
      "source": [
        "## <font color=\"red\">C2 -- RNN,且`batch_first=True`</font>"
      ],
      "metadata": {
        "id": "5UwPIY4m-GfO"
      }
    },
    {
      "cell_type": "code",
      "source": [
        "N = 256    ## batch_size\n",
        "L = 150    ## tokens(seq_len)\n",
        "Hin = 256   ## input_size\n",
        "Hout = 128  ## hidden_size"
      ],
      "metadata": {
        "id": "f6wkJsVo_7il"
      },
      "execution_count": null,
      "outputs": []
    },
    {
      "cell_type": "code",
      "source": [
        "ndata = torch.randn(N, L, Hin) ## 給 nrnn 模型使用 (假設此 ndata 是經過 Embedding Model 處理後的output)\n",
        "\n",
        "nrnn = nn.RNN(Hin, Hout, 1, batch_first=True) ## 1 指的是 num_layers\n",
        "\n",
        "nrnn_out, nhn = nrnn(ndata) ## 不提供 h_0\n",
        "ndata.shape, nrnn_out.shape, nhn.shape"
      ],
      "metadata": {
        "colab": {
          "base_uri": "https://localhost:8080/"
        },
        "id": "hJKaLs137XqC",
        "outputId": "768b386f-6d09-46a8-b8c8-afd33e5ca311"
      },
      "execution_count": null,
      "outputs": [
        {
          "output_type": "execute_result",
          "data": {
            "text/plain": [
              "(torch.Size([256, 150, 256]),\n",
              " torch.Size([256, 150, 128]),\n",
              " torch.Size([1, 256, 128]))"
            ]
          },
          "metadata": {},
          "execution_count": 4
        }
      ]
    },
    {
      "cell_type": "markdown",
      "source": [
        "* <font color=\"red\">ndata.shape = [*N*, *L*, *H_in* ]\n",
        "* <font color=\"red\">nrnn_out.shape = [*N*, *L*, *H_out* ]\n",
        "* <font color=\"red\">nhn.shape = [1, *N*, *H_out* ]  , 因為 num_layers = 1"
      ],
      "metadata": {
        "id": "z8vSGDHEcVIq"
      }
    },
    {
      "cell_type": "code",
      "source": [
        "## 顯示模型中的weights與bias\n",
        "for name, param in nrnn.named_parameters():\n",
        "  print(name, param.data.shape)"
      ],
      "metadata": {
        "colab": {
          "base_uri": "https://localhost:8080/"
        },
        "id": "G2GUJM04AfBb",
        "outputId": "eba6dcef-bf7a-4704-da9e-4459ac39e129"
      },
      "execution_count": null,
      "outputs": [
        {
          "output_type": "stream",
          "name": "stdout",
          "text": [
            "weight_ih_l0 torch.Size([128, 256])\n",
            "weight_hh_l0 torch.Size([128, 128])\n",
            "bias_ih_l0 torch.Size([128])\n",
            "bias_hh_l0 torch.Size([128])\n"
          ]
        }
      ]
    },
    {
      "cell_type": "markdown",
      "source": [
        "## <font color=\"red\">C3 -- LSTM,且`batch_first=True`</font>"
      ],
      "metadata": {
        "id": "x10oCHIU_W0h"
      }
    },
    {
      "cell_type": "code",
      "source": [
        "N = 256    ## batch_size\n",
        "L = 150    ## tokens(seq_len)\n",
        "Hin = 256   ## input_size\n",
        "Hout = 128  ## hidden_size"
      ],
      "metadata": {
        "id": "yZaF1qAt_4NI"
      },
      "execution_count": 8,
      "outputs": []
    },
    {
      "cell_type": "code",
      "source": [
        "embout = torch.randn(256, 150, 256)   # batch =256, tokens(seq_len) = 150, input_size = 256\n",
        "\n",
        "lstm = nn.LSTM(256, 128, 1, batch_first=True) # input_size, hidden_size, num_layers, batch_first\n",
        "\n",
        "out, (hn, cn) = lstm(embout)\n",
        "embout.shape, out.shape, hn.shape, cn.shape"
      ],
      "metadata": {
        "colab": {
          "base_uri": "https://localhost:8080/"
        },
        "id": "aRsyrToN50iM",
        "outputId": "e4d35f91-ff78-4731-a293-be18e9ea45ef"
      },
      "execution_count": 9,
      "outputs": [
        {
          "output_type": "execute_result",
          "data": {
            "text/plain": [
              "(torch.Size([256, 150, 256]),\n",
              " torch.Size([256, 150, 128]),\n",
              " torch.Size([1, 256, 128]),\n",
              " torch.Size([1, 256, 128]))"
            ]
          },
          "metadata": {},
          "execution_count": 9
        }
      ]
    },
    {
      "cell_type": "code",
      "source": [
        "out[:,-1,:]"
      ],
      "metadata": {
        "id": "V8YkJ0fAn9gU",
        "outputId": "c4907c89-f592-4f52-9086-4d8b2650175b",
        "colab": {
          "base_uri": "https://localhost:8080/"
        }
      },
      "execution_count": 11,
      "outputs": [
        {
          "output_type": "execute_result",
          "data": {
            "text/plain": [
              "tensor([[ 0.1286, -0.0157, -0.0883,  ..., -0.0124, -0.0305,  0.1427],\n",
              "        [ 0.1023,  0.1476, -0.1784,  ..., -0.0580,  0.1070,  0.1293],\n",
              "        [-0.0355,  0.0103,  0.1231,  ..., -0.0336, -0.1468,  0.0888],\n",
              "        ...,\n",
              "        [ 0.0064,  0.1728, -0.1089,  ...,  0.0045, -0.3692, -0.1942],\n",
              "        [ 0.2477, -0.0536,  0.0111,  ..., -0.0909, -0.1939,  0.0421],\n",
              "        [ 0.0146,  0.3663, -0.0965,  ..., -0.0172,  0.0104, -0.1456]],\n",
              "       grad_fn=<SliceBackward0>)"
            ]
          },
          "metadata": {},
          "execution_count": 11
        }
      ]
    },
    {
      "cell_type": "code",
      "source": [
        "hn[-1]"
      ],
      "metadata": {
        "id": "EtXLJaO0oHg_",
        "outputId": "1cbce36b-5ed6-47f9-baf6-40e8b634332c",
        "colab": {
          "base_uri": "https://localhost:8080/"
        }
      },
      "execution_count": 12,
      "outputs": [
        {
          "output_type": "execute_result",
          "data": {
            "text/plain": [
              "tensor([[ 0.1286, -0.0157, -0.0883,  ..., -0.0124, -0.0305,  0.1427],\n",
              "        [ 0.1023,  0.1476, -0.1784,  ..., -0.0580,  0.1070,  0.1293],\n",
              "        [-0.0355,  0.0103,  0.1231,  ..., -0.0336, -0.1468,  0.0888],\n",
              "        ...,\n",
              "        [ 0.0064,  0.1728, -0.1089,  ...,  0.0045, -0.3692, -0.1942],\n",
              "        [ 0.2477, -0.0536,  0.0111,  ..., -0.0909, -0.1939,  0.0421],\n",
              "        [ 0.0146,  0.3663, -0.0965,  ..., -0.0172,  0.0104, -0.1456]],\n",
              "       grad_fn=<SelectBackward0>)"
            ]
          },
          "metadata": {},
          "execution_count": 12
        }
      ]
    },
    {
      "cell_type": "markdown",
      "source": [
        "* <font color=\"red\">embout.shape = [*N*, *L*, *H_in* ]</font>\n",
        "* <font color=\"red\">out.shape = [*N*, *L*, *H_out* ]</font>\n",
        "* <font color=\"red\">hn.shape = [1, *N*, *H_out* ] (short term) , 因為 num_layers = 1  </font>\n",
        "* <font color=\"red\"> cn.shape = [1, *N*, *H_out* ] (long term) , 因為 num_layers = 1  </font>\n",
        "* <font color=\"red\">`out[:,-1,:]` 與 `hn[-1]` (i.e., 也就是`hn[-1,:,:]`) 完全相等。</font>\n",
        "> <font color=\"red\">`hn[-1,:,:]` 指的是 hn[`最後一個 layer`, `所有batch`, `所有hidden output`] 輸出  </font>\n",
        ">\n",
        "> <font color=\"red\">`out[:,-1,:]` 指的是 out[`所有batch`, `最後一個 seq`, `所有hidden output`] 輸出  </font>"
      ],
      "metadata": {
        "id": "7N9bKvasneJb"
      }
    },
    {
      "cell_type": "code",
      "source": [
        "## 顯示模型中的weights與bias\n",
        "for name, param in lstm.named_parameters():\n",
        "  print(name, param.data.shape)"
      ],
      "metadata": {
        "colab": {
          "base_uri": "https://localhost:8080/"
        },
        "id": "9iGoYrdMBJao",
        "outputId": "e21528b9-8df9-459b-9383-6f7b892b3572"
      },
      "execution_count": null,
      "outputs": [
        {
          "output_type": "stream",
          "name": "stdout",
          "text": [
            "weight_ih_l0 torch.Size([512, 256])\n",
            "weight_hh_l0 torch.Size([512, 128])\n",
            "bias_ih_l0 torch.Size([512])\n",
            "bias_hh_l0 torch.Size([512])\n"
          ]
        }
      ]
    },
    {
      "cell_type": "markdown",
      "source": [
        "* <font color=\"red\">`weight_ih`: [ 4 * *H_out*, *H_out* ]\n",
        "* <font color=\"red\">`weight_hh`: [ 4 * *H_out*, *H_in* ]\n",
        "* <font color=\"red\">`bias_ih`: [ 4 * *H_out* ]\n",
        "* <font color=\"red\">`bias_hh`: [ 4 * *H_out* ]"
      ],
      "metadata": {
        "id": "vVWwblO0tvJZ"
      }
    },
    {
      "cell_type": "markdown",
      "source": [
        "* <font color=\"red\">注意，`weight_ih`，對比 [d2l--LSTM](https://d2l.ai/chapter_recurrent-modern/lstm.html) 中的 `W_xi`，兩者的關係是\n",
        "```text\n",
        "W_xi = weight_ih.T\n",
        "```"
      ],
      "metadata": {
        "id": "AiBYFYIN7CR_"
      }
    },
    {
      "cell_type": "markdown",
      "source": [
        "\n",
        "\n",
        "---\n",
        "\n"
      ],
      "metadata": {
        "id": "-FaUjT3JCCil"
      }
    },
    {
      "cell_type": "markdown",
      "source": [
        "## <font color=\"red\">C4 -- LSTM,且`batch_first=True`</font>\n",
        "\n",
        "* <font color=\"red\">使用 **C1** 的參數，但 `batch_first = true`\n",
        "> <font color=\"red\">data.shape = [4,3,5]"
      ],
      "metadata": {
        "id": "Tco-txmiHl0n"
      }
    },
    {
      "cell_type": "code",
      "source": [
        "# data.shape, h0.shape, official_output.shape, official_hn.shape, ndat.shape, nrnn_out.shape, nhn.shape\n",
        "lstmn = nn.LSTM(input_size, hidden_size, num_layers, batch_first=True)\n",
        "\n",
        "input = torch.randn(batch_size, seq_len, data_dim)\n",
        "\n",
        "output, (hn, cn) = lstmn(input)\n",
        "input.shape, output.shape, hn.shape, cn.shape"
      ],
      "metadata": {
        "colab": {
          "base_uri": "https://localhost:8080/"
        },
        "id": "nz-cTsp52nCU",
        "outputId": "3204c172-21da-4fc2-b29b-e862c810f783"
      },
      "execution_count": 8,
      "outputs": [
        {
          "output_type": "execute_result",
          "data": {
            "text/plain": [
              "(torch.Size([4, 3, 5]),\n",
              " torch.Size([4, 3, 10]),\n",
              " torch.Size([2, 4, 10]),\n",
              " torch.Size([2, 4, 10]))"
            ]
          },
          "metadata": {},
          "execution_count": 8
        }
      ]
    },
    {
      "cell_type": "code",
      "source": [
        "output"
      ],
      "metadata": {
        "id": "lIefksDa_7j7",
        "outputId": "6cc4071a-4042-4be7-a605-cd68d4b38258",
        "colab": {
          "base_uri": "https://localhost:8080/"
        }
      },
      "execution_count": 9,
      "outputs": [
        {
          "output_type": "execute_result",
          "data": {
            "text/plain": [
              "tensor([[[ 0.0705,  0.1519, -0.0404,  0.0016, -0.0045,  0.0143, -0.0799,\n",
              "          -0.1199,  0.0326,  0.0364],\n",
              "         [ 0.1174,  0.2225, -0.0789,  0.0160, -0.0133,  0.0139, -0.0991,\n",
              "          -0.1894,  0.0583,  0.0356],\n",
              "         [ 0.1450,  0.2545, -0.1013,  0.0288, -0.0333,  0.0108, -0.0997,\n",
              "          -0.2245,  0.0651,  0.0520]],\n",
              "\n",
              "        [[ 0.0719,  0.1531, -0.0643, -0.0056, -0.0208,  0.0188, -0.0761,\n",
              "          -0.1445,  0.0460,  0.0509],\n",
              "         [ 0.0920,  0.2140, -0.0606,  0.0087, -0.0127,  0.0090, -0.1111,\n",
              "          -0.1864,  0.0397,  0.0526],\n",
              "         [ 0.1139,  0.2590, -0.0669,  0.0365, -0.0156,  0.0053, -0.1224,\n",
              "          -0.2044,  0.0267,  0.0215]],\n",
              "\n",
              "        [[ 0.0591,  0.1602, -0.0444, -0.0213, -0.0146,  0.0344, -0.0908,\n",
              "          -0.1168,  0.0191,  0.0366],\n",
              "         [ 0.0847,  0.2243, -0.0613, -0.0050, -0.0112,  0.0287, -0.1257,\n",
              "          -0.1789,  0.0257,  0.0325],\n",
              "         [ 0.1041,  0.2546, -0.0704,  0.0170, -0.0102,  0.0158, -0.1382,\n",
              "          -0.2156,  0.0367,  0.0385]],\n",
              "\n",
              "        [[ 0.0831,  0.1431, -0.0561,  0.0117,  0.0045,  0.0053, -0.0641,\n",
              "          -0.1287,  0.0576,  0.0255],\n",
              "         [ 0.1249,  0.2312, -0.0828,  0.0164, -0.0213,  0.0134, -0.0845,\n",
              "          -0.1834,  0.0590,  0.0415],\n",
              "         [ 0.1303,  0.2834, -0.0895,  0.0112, -0.0400,  0.0253, -0.0974,\n",
              "          -0.2045,  0.0334,  0.0341]]], grad_fn=<TransposeBackward0>)"
            ]
          },
          "metadata": {},
          "execution_count": 9
        }
      ]
    },
    {
      "cell_type": "code",
      "source": [
        "hn"
      ],
      "metadata": {
        "id": "FnCOGPv8BDPQ",
        "outputId": "3193f667-d4c8-4897-c440-0b1c6e7f3dab",
        "colab": {
          "base_uri": "https://localhost:8080/"
        }
      },
      "execution_count": 10,
      "outputs": [
        {
          "output_type": "execute_result",
          "data": {
            "text/plain": [
              "tensor([[[ 0.0196, -0.0737, -0.0898, -0.0166, -0.1041,  0.0816, -0.2419,\n",
              "           0.1062,  0.2439,  0.1830],\n",
              "         [-0.2074,  0.0632, -0.1177, -0.1220, -0.1531,  0.1386,  0.1109,\n",
              "           0.0887,  0.1010,  0.0056],\n",
              "         [-0.0366,  0.0027, -0.0270, -0.0788, -0.1597,  0.1770,  0.0218,\n",
              "           0.1172,  0.0244,  0.0473],\n",
              "         [-0.1639, -0.0348, -0.1381, -0.0133,  0.0533, -0.0720,  0.0861,\n",
              "           0.0563,  0.0947,  0.1575]],\n",
              "\n",
              "        [[ 0.1450,  0.2545, -0.1013,  0.0288, -0.0333,  0.0108, -0.0997,\n",
              "          -0.2245,  0.0651,  0.0520],\n",
              "         [ 0.1139,  0.2590, -0.0669,  0.0365, -0.0156,  0.0053, -0.1224,\n",
              "          -0.2044,  0.0267,  0.0215],\n",
              "         [ 0.1041,  0.2546, -0.0704,  0.0170, -0.0102,  0.0158, -0.1382,\n",
              "          -0.2156,  0.0367,  0.0385],\n",
              "         [ 0.1303,  0.2834, -0.0895,  0.0112, -0.0400,  0.0253, -0.0974,\n",
              "          -0.2045,  0.0334,  0.0341]]], grad_fn=<StackBackward0>)"
            ]
          },
          "metadata": {},
          "execution_count": 10
        }
      ]
    },
    {
      "cell_type": "code",
      "source": [
        "output[:,-1,:]"
      ],
      "metadata": {
        "id": "1IyssNul3Kmm",
        "outputId": "4e3a5e2e-4596-455a-eeb3-0f48c9ccb6b3",
        "colab": {
          "base_uri": "https://localhost:8080/"
        }
      },
      "execution_count": 12,
      "outputs": [
        {
          "output_type": "execute_result",
          "data": {
            "text/plain": [
              "tensor([[ 0.1450,  0.2545, -0.1013,  0.0288, -0.0333,  0.0108, -0.0997, -0.2245,\n",
              "          0.0651,  0.0520],\n",
              "        [ 0.1139,  0.2590, -0.0669,  0.0365, -0.0156,  0.0053, -0.1224, -0.2044,\n",
              "          0.0267,  0.0215],\n",
              "        [ 0.1041,  0.2546, -0.0704,  0.0170, -0.0102,  0.0158, -0.1382, -0.2156,\n",
              "          0.0367,  0.0385],\n",
              "        [ 0.1303,  0.2834, -0.0895,  0.0112, -0.0400,  0.0253, -0.0974, -0.2045,\n",
              "          0.0334,  0.0341]], grad_fn=<SliceBackward0>)"
            ]
          },
          "metadata": {},
          "execution_count": 12
        }
      ]
    },
    {
      "cell_type": "code",
      "source": [
        "hn[-1]"
      ],
      "metadata": {
        "id": "i05R5N-l3baY",
        "outputId": "7761bb16-be3b-4c0d-89fd-d79b01c2bf57",
        "colab": {
          "base_uri": "https://localhost:8080/"
        }
      },
      "execution_count": 13,
      "outputs": [
        {
          "output_type": "execute_result",
          "data": {
            "text/plain": [
              "tensor([[ 0.1450,  0.2545, -0.1013,  0.0288, -0.0333,  0.0108, -0.0997, -0.2245,\n",
              "          0.0651,  0.0520],\n",
              "        [ 0.1139,  0.2590, -0.0669,  0.0365, -0.0156,  0.0053, -0.1224, -0.2044,\n",
              "          0.0267,  0.0215],\n",
              "        [ 0.1041,  0.2546, -0.0704,  0.0170, -0.0102,  0.0158, -0.1382, -0.2156,\n",
              "          0.0367,  0.0385],\n",
              "        [ 0.1303,  0.2834, -0.0895,  0.0112, -0.0400,  0.0253, -0.0974, -0.2045,\n",
              "          0.0334,  0.0341]], grad_fn=<SelectBackward0>)"
            ]
          },
          "metadata": {},
          "execution_count": 13
        }
      ]
    },
    {
      "cell_type": "markdown",
      "source": [
        "* <font color=\"red\">`output[:,-1,:]` 完全等於 `hn[-1]`</font>"
      ],
      "metadata": {
        "id": "8lpNEZmu3i71"
      }
    },
    {
      "cell_type": "code",
      "source": [
        "## 顯示模型中的weights與bias\n",
        "for name, param in lstmn.named_parameters():\n",
        "  print(name, param.data.shape)"
      ],
      "metadata": {
        "colab": {
          "base_uri": "https://localhost:8080/"
        },
        "id": "2dOyKu95CEbL",
        "outputId": "7fd7d7af-fc8d-4eee-fadb-6b4c14dd6fb0"
      },
      "execution_count": null,
      "outputs": [
        {
          "output_type": "stream",
          "name": "stdout",
          "text": [
            "weight_ih_l0 torch.Size([40, 5])\n",
            "weight_hh_l0 torch.Size([40, 10])\n",
            "bias_ih_l0 torch.Size([40])\n",
            "bias_hh_l0 torch.Size([40])\n",
            "weight_ih_l1 torch.Size([40, 10])\n",
            "weight_hh_l1 torch.Size([40, 10])\n",
            "bias_ih_l1 torch.Size([40])\n",
            "bias_hh_l1 torch.Size([40])\n"
          ]
        }
      ]
    },
    {
      "cell_type": "markdown",
      "source": [
        "* <font color=\"red\">`lstmn`的`parameters`數量,對比**C1**中,`ornn`的`parameters`數量,前者是後者的4倍。因為`RNN`的每一個輸出運算,在`LSTM`中,包括`% Long-Term To Remember`, `% Potential Memory To Remember`, `Potential Long-Term Memory`, `% Potential Memory To Remember`等四個單元運算,所以才會有`4倍`的模型參數</font>"
      ],
      "metadata": {
        "id": "f8UEWAfZHOQd"
      }
    }
  ]
}